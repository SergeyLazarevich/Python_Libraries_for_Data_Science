{
 "metadata": {
  "language_info": {
   "codemirror_mode": {
    "name": "ipython",
    "version": 3
   },
   "file_extension": ".py",
   "mimetype": "text/x-python",
   "name": "python",
   "nbconvert_exporter": "python",
   "pygments_lexer": "ipython3",
   "version": "3.8.10"
  },
  "orig_nbformat": 2,
  "kernelspec": {
   "name": "python3",
   "display_name": "Python 3.8.10 64-bit"
  },
  "interpreter": {
   "hash": "6ade3e7aac465f864a6e70e76d6ad747bccbdaae49928e31e964f86f87611c7f"
  }
 },
 "nbformat": 4,
 "nbformat_minor": 2,
 "cells": [
  {
   "cell_type": "markdown",
   "source": [
    "**Задача**\r\n",
    "\r\n",
    "Требуется, на основании имеющихся данных о клиентах банка, построить модель, используя обучающий датасет, для прогнозирования невыполнения долговых обязательств по текущему кредиту. Выполнить прогноз для примеров из тестового датасета.\r\n",
    "\r\n",
    "**Наименование файлов с данными**\r\n",
    "\r\n",
    "course_project_train.csv - обучающий датасет<br>\r\n",
    "course_project_test.csv - тестовый датасет\r\n",
    "\r\n",
    "**Целевая переменная**\r\n",
    "\r\n",
    "Credit Default - факт невыполнения кредитных обязательств\r\n",
    "\r\n",
    "**Метрика качества**\r\n",
    "\r\n",
    "F1-score (sklearn.metrics.f1_score)\r\n",
    "\r\n",
    "**Требования к решению**\r\n",
    "\r\n",
    "*Целевая метрика*\r\n",
    "* F1 > 0.5\r\n",
    "* Метрика оценивается по качеству прогноза для главного класса (1 - просрочка по кредиту)\r\n",
    "\r\n",
    "*Решение должно содержать*\r\n",
    "1. Тетрадка Jupyter Notebook с кодом Вашего решения, названная по образцу {ФИО}\\_solution.ipynb, пример SShirkin\\_solution.ipynb\r\n",
    "2. Файл CSV с прогнозами целевой переменной для тестового датасета, названный по образцу {ФИО}\\_predictions.csv, пример SShirkin\\_predictions.csv\r\n",
    "\r\n",
    "*Рекомендации для файла с кодом (ipynb)*\r\n",
    "1. Файл должен содержать заголовки и комментарии (markdown)\r\n",
    "2. Повторяющиеся операции лучше оформлять в виде функций\r\n",
    "3. Не делать вывод большого количества строк таблиц (5-10 достаточно)\r\n",
    "4. По возможности добавлять графики, описывающие данные (около 3-5)\r\n",
    "5. Добавлять только лучшую модель, то есть не включать в код все варианты решения проекта\r\n",
    "6. Скрипт проекта должен отрабатывать от начала и до конца (от загрузки данных до выгрузки предсказаний)\r\n",
    "7. Весь проект должен быть в одном скрипте (файл ipynb).\r\n",
    "8. Допускается применение библиотек Python и моделей машинного обучения,\r\n",
    "которые были в данном курсе.\r\n",
    "\r\n",
    "**Сроки сдачи**\r\n",
    "\r\n",
    "Cдать проект нужно в течение 5 дней после окончания последнего вебинара.\r\n",
    "Оценки работ, сданных до дедлайна, будут представлены в виде рейтинга, ранжированного по заданной метрике качества.\r\n",
    "Проекты, сданные после дедлайна или сданные повторно, не попадают в рейтинг, но можно будет узнать результат."
   ],
   "metadata": {}
  },
  {
   "cell_type": "markdown",
   "source": [
    "## 1. Подключение необходимых библиотек и данных\r\n",
    "По мере необходиомсти, в самом начале будем подключать все библиотеки и прописывать глобальные пути и переменные."
   ],
   "metadata": {}
  },
  {
   "cell_type": "code",
   "execution_count": 1,
   "source": [
    "import matplotlib\r\n",
    "import matplotlib.pyplot as plt\r\n",
    "import seaborn as sns\r\n",
    "import numpy as np \r\n",
    "import pandas as pd\r\n",
    "from scipy import stats\r\n",
    "from sklearn.model_selection import train_test_split, cross_val_score\r\n",
    "from sklearn.model_selection import KFold\r\n",
    "from sklearn.metrics import classification_report\r\n",
    "import catboost as catb\r\n",
    "from sklearn.preprocessing import StandardScaler\r\n",
    "from imblearn.over_sampling import RandomOverSampler\r\n",
    "\r\n",
    "import warnings\r\n",
    "warnings.filterwarnings('ignore')\r\n",
    "plt.style.use('fivethirtyeight')\r\n",
    "matplotlib.rcParams.update({'font.size': 14})\r\n",
    "rs = 22\r\n",
    "\r\n",
    "TRAIN_DATASET_PATH = 'course_project_train.csv'\r\n",
    "TEST_DATASET_PATH = 'course_project_test.csv'\r\n",
    "SUBMIT_PATH = 'SergeyLazarevich_predictions.csv'"
   ],
   "outputs": [],
   "metadata": {}
  },
  {
   "cell_type": "markdown",
   "source": [
    "## 2. Загрузка данных в Data Frame\r\n",
    "#### Описание файлов\r\n",
    "- **course_project_train.csv** - тренировочные данные\r\n",
    "- **course_project_test.csv** - тестовые данные\r\n",
    "- **SergeyLazarevich_predictions.csv** - файл для отправки\r\n",
    "#### Описание признаков данных\r\n",
    "* **Home Ownership** - домовладение\r\n",
    "* **Annual Income** - годовой доход\r\n",
    "* **Years in current job** - количество лет на текущем месте работы\r\n",
    "* **Tax Liens** - налоговые обременения\r\n",
    "* **Number of Open Accounts** - количество открытых счетов\r\n",
    "* **Years of Credit History** - количество лет кредитной истории\r\n",
    "* **Maximum Open Credit** - наибольший открытый кредит\r\n",
    "* **Number of Credit Problems** - количество проблем с кредитом\r\n",
    "* **Months since last delinquent** - количество месяцев с последней просрочки платежа\r\n",
    "* **Bankruptcies** - банкротства\r\n",
    "* **Purpose** - цель кредита\r\n",
    "* **Term** - срок кредита\r\n",
    "* **Current Loan Amount** - текущая сумма кредита\r\n",
    "* **Current Credit Balance** - текущий кредитный баланс\r\n",
    "* **Monthly Debt** - ежемесячный долг\r\n",
    "* **Credit Score** - кредитный рейтинг\r\n",
    "* **Credit Default** - факт невыполнения кредитных обязательств (0 - погашен вовремя, 1 - просрочка)"
   ],
   "metadata": {}
  },
  {
   "cell_type": "code",
   "execution_count": 2,
   "source": [
    "# Импортируем данные в pandas Dataframe\r\n",
    "df_train = pd.read_csv(TRAIN_DATASET_PATH, sep=',')\r\n",
    "df_train.info()"
   ],
   "outputs": [
    {
     "output_type": "stream",
     "name": "stdout",
     "text": [
      "<class 'pandas.core.frame.DataFrame'>\n",
      "RangeIndex: 7500 entries, 0 to 7499\n",
      "Data columns (total 17 columns):\n",
      " #   Column                        Non-Null Count  Dtype  \n",
      "---  ------                        --------------  -----  \n",
      " 0   Home Ownership                7500 non-null   object \n",
      " 1   Annual Income                 5943 non-null   float64\n",
      " 2   Years in current job          7129 non-null   object \n",
      " 3   Tax Liens                     7500 non-null   float64\n",
      " 4   Number of Open Accounts       7500 non-null   float64\n",
      " 5   Years of Credit History       7500 non-null   float64\n",
      " 6   Maximum Open Credit           7500 non-null   float64\n",
      " 7   Number of Credit Problems     7500 non-null   float64\n",
      " 8   Months since last delinquent  3419 non-null   float64\n",
      " 9   Bankruptcies                  7486 non-null   float64\n",
      " 10  Purpose                       7500 non-null   object \n",
      " 11  Term                          7500 non-null   object \n",
      " 12  Current Loan Amount           7500 non-null   float64\n",
      " 13  Current Credit Balance        7500 non-null   float64\n",
      " 14  Monthly Debt                  7500 non-null   float64\n",
      " 15  Credit Score                  5943 non-null   float64\n",
      " 16  Credit Default                7500 non-null   int64  \n",
      "dtypes: float64(12), int64(1), object(4)\n",
      "memory usage: 996.2+ KB\n"
     ]
    }
   ],
   "metadata": {}
  },
  {
   "cell_type": "code",
   "execution_count": 3,
   "source": [
    "df_train.head()"
   ],
   "outputs": [
    {
     "output_type": "execute_result",
     "data": {
      "text/plain": [
       "  Home Ownership  Annual Income Years in current job  Tax Liens  \\\n",
       "0       Own Home       482087.0                  NaN        0.0   \n",
       "1       Own Home      1025487.0            10+ years        0.0   \n",
       "2  Home Mortgage       751412.0              8 years        0.0   \n",
       "3       Own Home       805068.0              6 years        0.0   \n",
       "4           Rent       776264.0              8 years        0.0   \n",
       "\n",
       "   Number of Open Accounts  Years of Credit History  Maximum Open Credit  \\\n",
       "0                     11.0                     26.3             685960.0   \n",
       "1                     15.0                     15.3            1181730.0   \n",
       "2                     11.0                     35.0            1182434.0   \n",
       "3                      8.0                     22.5             147400.0   \n",
       "4                     13.0                     13.6             385836.0   \n",
       "\n",
       "   Number of Credit Problems  Months since last delinquent  Bankruptcies  \\\n",
       "0                        1.0                           NaN           1.0   \n",
       "1                        0.0                           NaN           0.0   \n",
       "2                        0.0                           NaN           0.0   \n",
       "3                        1.0                           NaN           1.0   \n",
       "4                        1.0                           NaN           0.0   \n",
       "\n",
       "              Purpose        Term  Current Loan Amount  \\\n",
       "0  debt consolidation  Short Term           99999999.0   \n",
       "1  debt consolidation   Long Term             264968.0   \n",
       "2  debt consolidation  Short Term           99999999.0   \n",
       "3  debt consolidation  Short Term             121396.0   \n",
       "4  debt consolidation  Short Term             125840.0   \n",
       "\n",
       "   Current Credit Balance  Monthly Debt  Credit Score  Credit Default  \n",
       "0                 47386.0        7914.0         749.0               0  \n",
       "1                394972.0       18373.0         737.0               1  \n",
       "2                308389.0       13651.0         742.0               0  \n",
       "3                 95855.0       11338.0         694.0               0  \n",
       "4                 93309.0        7180.0         719.0               0  "
      ],
      "text/html": [
       "<div>\n",
       "<style scoped>\n",
       "    .dataframe tbody tr th:only-of-type {\n",
       "        vertical-align: middle;\n",
       "    }\n",
       "\n",
       "    .dataframe tbody tr th {\n",
       "        vertical-align: top;\n",
       "    }\n",
       "\n",
       "    .dataframe thead th {\n",
       "        text-align: right;\n",
       "    }\n",
       "</style>\n",
       "<table border=\"1\" class=\"dataframe\">\n",
       "  <thead>\n",
       "    <tr style=\"text-align: right;\">\n",
       "      <th></th>\n",
       "      <th>Home Ownership</th>\n",
       "      <th>Annual Income</th>\n",
       "      <th>Years in current job</th>\n",
       "      <th>Tax Liens</th>\n",
       "      <th>Number of Open Accounts</th>\n",
       "      <th>Years of Credit History</th>\n",
       "      <th>Maximum Open Credit</th>\n",
       "      <th>Number of Credit Problems</th>\n",
       "      <th>Months since last delinquent</th>\n",
       "      <th>Bankruptcies</th>\n",
       "      <th>Purpose</th>\n",
       "      <th>Term</th>\n",
       "      <th>Current Loan Amount</th>\n",
       "      <th>Current Credit Balance</th>\n",
       "      <th>Monthly Debt</th>\n",
       "      <th>Credit Score</th>\n",
       "      <th>Credit Default</th>\n",
       "    </tr>\n",
       "  </thead>\n",
       "  <tbody>\n",
       "    <tr>\n",
       "      <th>0</th>\n",
       "      <td>Own Home</td>\n",
       "      <td>482087.0</td>\n",
       "      <td>NaN</td>\n",
       "      <td>0.0</td>\n",
       "      <td>11.0</td>\n",
       "      <td>26.3</td>\n",
       "      <td>685960.0</td>\n",
       "      <td>1.0</td>\n",
       "      <td>NaN</td>\n",
       "      <td>1.0</td>\n",
       "      <td>debt consolidation</td>\n",
       "      <td>Short Term</td>\n",
       "      <td>99999999.0</td>\n",
       "      <td>47386.0</td>\n",
       "      <td>7914.0</td>\n",
       "      <td>749.0</td>\n",
       "      <td>0</td>\n",
       "    </tr>\n",
       "    <tr>\n",
       "      <th>1</th>\n",
       "      <td>Own Home</td>\n",
       "      <td>1025487.0</td>\n",
       "      <td>10+ years</td>\n",
       "      <td>0.0</td>\n",
       "      <td>15.0</td>\n",
       "      <td>15.3</td>\n",
       "      <td>1181730.0</td>\n",
       "      <td>0.0</td>\n",
       "      <td>NaN</td>\n",
       "      <td>0.0</td>\n",
       "      <td>debt consolidation</td>\n",
       "      <td>Long Term</td>\n",
       "      <td>264968.0</td>\n",
       "      <td>394972.0</td>\n",
       "      <td>18373.0</td>\n",
       "      <td>737.0</td>\n",
       "      <td>1</td>\n",
       "    </tr>\n",
       "    <tr>\n",
       "      <th>2</th>\n",
       "      <td>Home Mortgage</td>\n",
       "      <td>751412.0</td>\n",
       "      <td>8 years</td>\n",
       "      <td>0.0</td>\n",
       "      <td>11.0</td>\n",
       "      <td>35.0</td>\n",
       "      <td>1182434.0</td>\n",
       "      <td>0.0</td>\n",
       "      <td>NaN</td>\n",
       "      <td>0.0</td>\n",
       "      <td>debt consolidation</td>\n",
       "      <td>Short Term</td>\n",
       "      <td>99999999.0</td>\n",
       "      <td>308389.0</td>\n",
       "      <td>13651.0</td>\n",
       "      <td>742.0</td>\n",
       "      <td>0</td>\n",
       "    </tr>\n",
       "    <tr>\n",
       "      <th>3</th>\n",
       "      <td>Own Home</td>\n",
       "      <td>805068.0</td>\n",
       "      <td>6 years</td>\n",
       "      <td>0.0</td>\n",
       "      <td>8.0</td>\n",
       "      <td>22.5</td>\n",
       "      <td>147400.0</td>\n",
       "      <td>1.0</td>\n",
       "      <td>NaN</td>\n",
       "      <td>1.0</td>\n",
       "      <td>debt consolidation</td>\n",
       "      <td>Short Term</td>\n",
       "      <td>121396.0</td>\n",
       "      <td>95855.0</td>\n",
       "      <td>11338.0</td>\n",
       "      <td>694.0</td>\n",
       "      <td>0</td>\n",
       "    </tr>\n",
       "    <tr>\n",
       "      <th>4</th>\n",
       "      <td>Rent</td>\n",
       "      <td>776264.0</td>\n",
       "      <td>8 years</td>\n",
       "      <td>0.0</td>\n",
       "      <td>13.0</td>\n",
       "      <td>13.6</td>\n",
       "      <td>385836.0</td>\n",
       "      <td>1.0</td>\n",
       "      <td>NaN</td>\n",
       "      <td>0.0</td>\n",
       "      <td>debt consolidation</td>\n",
       "      <td>Short Term</td>\n",
       "      <td>125840.0</td>\n",
       "      <td>93309.0</td>\n",
       "      <td>7180.0</td>\n",
       "      <td>719.0</td>\n",
       "      <td>0</td>\n",
       "    </tr>\n",
       "  </tbody>\n",
       "</table>\n",
       "</div>"
      ]
     },
     "metadata": {},
     "execution_count": 3
    }
   ],
   "metadata": {}
  },
  {
   "cell_type": "markdown",
   "source": [
    "## Рассмотрим поближе каждую характеристику "
   ],
   "metadata": {}
  },
  {
   "cell_type": "code",
   "execution_count": 4,
   "source": [
    "#Home Ownership - домовладение\r\n",
    "index = 'Home Ownership'\r\n",
    "counts = df_train[index].value_counts()\r\n",
    "plt.figure(figsize=(8, 2))\r\n",
    "sns.barplot(counts.index, counts.values)\r\n",
    "plt.show()\r\n",
    "\r\n",
    "print(f'\\nКоличество пропущенных элементов {df_train[index].isnull().sum()}')\r\n",
    "print(df_train[index].value_counts())\r\n",
    "print(f'\\nКоличество уникальных элементов {df_train[index].value_counts().size}')"
   ],
   "outputs": [
    {
     "output_type": "display_data",
     "data": {
      "text/plain": [
       "<Figure size 576x144 with 1 Axes>"
      ],
      "image/png": "[encoded data removed]"
     },
     "metadata": {}
    },
    {
     "output_type": "stream",
     "name": "stdout",
     "text": [
      "\n",
      "Количество пропущенных элементов 0\n",
      "Home Mortgage    3637\n",
      "Rent             3204\n",
      "Own Home          647\n",
      "Have Mortgage      12\n",
      "Name: Home Ownership, dtype: int64\n",
      "\n",
      "Количество уникальных элементов 4\n"
     ]
    }
   ],
   "metadata": {}
  },
  {
   "cell_type": "markdown",
   "source": [
    "### *Имеем 4 уникальных значений. Пропусков нет. В последствии переведём этот признак из категориального в бинарный при помощи pd.get_dummies().*"
   ],
   "metadata": {}
  },
  {
   "cell_type": "code",
   "execution_count": 5,
   "source": [
    "#Annual Income - годовой доход\r\n",
    "index = 'Annual Income'\r\n",
    "plt.figure(figsize=(8, 2))\r\n",
    "sns.boxplot(df_train[index], whis=1.5)\r\n",
    "plt.xlabel(index)\r\n",
    "plt.show()\r\n",
    "\r\n",
    "print(f'\\nКоличество пропущенных элементов {df_train[index].isnull().sum()}')\r\n",
    "print(f'median - {np.quantile(df_train[index], q=0.5)}\\nmean - {np.mean(df_train[index])}\\nmode - {stats.mode(df_train[index])[0][0]}\\n')\r\n",
    "print(df_train[index].value_counts().sort_index(ascending=True))\r\n",
    "print(f'\\nКоличество уникальных элементов {df_train[index].value_counts().size}')"
   ],
   "outputs": [
    {
     "output_type": "display_data",
     "data": {
      "text/plain": [
       "<Figure size 576x144 with 1 Axes>"
      ],
      "image/png": "[encoded data removed]"
     },
     "metadata": {}
    },
    {
     "output_type": "stream",
     "name": "stdout",
     "text": [
      "\n",
      "Количество пропущенных элементов 1557\n",
      "median - nan\n",
      "mean - 1366391.7201749957\n",
      "mode - 969475.0\n",
      "\n",
      "164597.0      1\n",
      "175845.0      1\n",
      "177251.0      1\n",
      "191577.0      1\n",
      "192223.0      1\n",
      "             ..\n",
      "8710740.0     1\n",
      "8758449.0     1\n",
      "8923844.0     1\n",
      "9338880.0     1\n",
      "10149344.0    1\n",
      "Name: Annual Income, Length: 5478, dtype: int64\n",
      "\n",
      "Количество уникальных элементов 5478\n"
     ]
    }
   ],
   "metadata": {}
  },
  {
   "cell_type": "markdown",
   "source": [
    "### *Здесь все элементы уникальны, будем их группировать. Пропуски заполним модой.*"
   ],
   "metadata": {}
  },
  {
   "cell_type": "code",
   "execution_count": 6,
   "source": [
    "#Years in current job - количество лет на текущем месте работы\r\n",
    "index = 'Years in current job'\r\n",
    "counts = df_train[index].value_counts()\r\n",
    "plt.figure(figsize=(12, 2))\r\n",
    "sns.barplot(counts.index, counts.values)\r\n",
    "plt.show()\r\n",
    "\r\n",
    "print(f'\\nКоличество пропущенных элементов {df_train[index].isnull().sum()}')\r\n",
    "print(df_train[index].value_counts())\r\n",
    "print(f'\\nКоличество уникальных элементов {df_train[index].value_counts().size}')"
   ],
   "outputs": [
    {
     "output_type": "display_data",
     "data": {
      "text/plain": [
       "<Figure size 864x144 with 1 Axes>"
      ],
      "image/png": "[encoded data removed]"
     },
     "metadata": {}
    },
    {
     "output_type": "stream",
     "name": "stdout",
     "text": [
      "\n",
      "Количество пропущенных элементов 371\n",
      "10+ years    2332\n",
      "2 years       705\n",
      "3 years       620\n",
      "< 1 year      563\n",
      "5 years       516\n",
      "1 year        504\n",
      "4 years       469\n",
      "6 years       426\n",
      "7 years       396\n",
      "8 years       339\n",
      "9 years       259\n",
      "Name: Years in current job, dtype: int64\n",
      "\n",
      "Количество уникальных элементов 11\n"
     ]
    }
   ],
   "metadata": {}
  },
  {
   "cell_type": "markdown",
   "source": [
    "### *Имеем 11 уникальных значений. В последствии переведём этот признак из категориального в числовой (1 - 10). Пропуски заполним 1.*"
   ],
   "metadata": {}
  },
  {
   "cell_type": "code",
   "execution_count": 7,
   "source": [
    "#Tax Liens - налоговые обременения\r\n",
    "index = 'Tax Liens'\r\n",
    "plt.figure(figsize=(8, 2))\r\n",
    "sns.boxplot(df_train[index], whis=1.5)\r\n",
    "plt.xlabel(index)\r\n",
    "plt.show()\r\n",
    "\r\n",
    "print(f'\\nКоличество пропущенных элементов {df_train[index].isnull().sum()}')\r\n",
    "print(f'median - {np.quantile(df_train[index], q=0.5)}\\nmean - {np.mean(df_train[index])}\\nmode - {stats.mode(df_train[index])[0][0]}\\n')\r\n",
    "print(df_train[index].value_counts().sort_index(ascending=True))\r\n",
    "print(f'\\nКоличество уникальных элементов {df_train[index].value_counts().size}')"
   ],
   "outputs": [
    {
     "output_type": "display_data",
     "data": {
      "text/plain": [
       "<Figure size 576x144 with 1 Axes>"
      ],
      "image/png": "[encoded data removed]"
     },
     "metadata": {}
    },
    {
     "output_type": "stream",
     "name": "stdout",
     "text": [
      "\n",
      "Количество пропущенных элементов 0\n",
      "median - 0.0\n",
      "mean - 0.030133333333333335\n",
      "mode - 0.0\n",
      "\n",
      "0.0    7366\n",
      "1.0      83\n",
      "2.0      30\n",
      "3.0      10\n",
      "4.0       6\n",
      "5.0       2\n",
      "6.0       2\n",
      "7.0       1\n",
      "Name: Tax Liens, dtype: int64\n",
      "\n",
      "Количество уникальных элементов 8\n"
     ]
    }
   ],
   "metadata": {}
  },
  {
   "cell_type": "markdown",
   "source": [
    "### *Этот признак является категориальным, поэтому преобразуем его в соответствии с уникальными значениями.*"
   ],
   "metadata": {}
  },
  {
   "cell_type": "code",
   "execution_count": 8,
   "source": [
    "#Number of Open Accounts - количество открытых счетов\r\n",
    "index = 'Number of Open Accounts'\r\n",
    "plt.figure(figsize=(8, 2))\r\n",
    "sns.boxplot(df_train[index], whis=1.5)\r\n",
    "plt.xlabel(index)\r\n",
    "plt.show()\r\n",
    "\r\n",
    "print(f'\\nКоличество пропущенных элементов {df_train[index].isnull().sum()}')\r\n",
    "print(f'median - {np.quantile(df_train[index], q=0.5)}\\nmean - {np.mean(df_train[index])}\\nmode - {stats.mode(df_train[index])[0][0]}\\n')\r\n",
    "print(df_train[index].value_counts().sort_index(ascending=True))\r\n",
    "print(f'\\nКоличество уникальных элементов {df_train[index].value_counts().size}')"
   ],
   "outputs": [
    {
     "output_type": "display_data",
     "data": {
      "text/plain": [
       "<Figure size 576x144 with 1 Axes>"
      ],
      "image/png": "[encoded data removed]"
     },
     "metadata": {}
    },
    {
     "output_type": "stream",
     "name": "stdout",
     "text": [
      "\n",
      "Количество пропущенных элементов 0\n",
      "median - 10.0\n",
      "mean - 11.130933333333333\n",
      "mode - 9.0\n",
      "\n",
      "2.0      28\n",
      "3.0      95\n",
      "4.0     212\n",
      "5.0     325\n",
      "6.0     504\n",
      "7.0     613\n",
      "8.0     638\n",
      "9.0     728\n",
      "10.0    677\n",
      "11.0    692\n",
      "12.0    562\n",
      "13.0    465\n",
      "14.0    420\n",
      "15.0    313\n",
      "16.0    265\n",
      "17.0    232\n",
      "18.0    143\n",
      "19.0    139\n",
      "20.0     93\n",
      "21.0     78\n",
      "22.0     49\n",
      "23.0     59\n",
      "24.0     50\n",
      "25.0     32\n",
      "26.0     12\n",
      "27.0     14\n",
      "28.0     14\n",
      "29.0     10\n",
      "30.0     11\n",
      "31.0      6\n",
      "32.0      6\n",
      "33.0      6\n",
      "34.0      2\n",
      "35.0      1\n",
      "37.0      2\n",
      "38.0      1\n",
      "41.0      1\n",
      "42.0      1\n",
      "43.0      1\n",
      "Name: Number of Open Accounts, dtype: int64\n",
      "\n",
      "Количество уникальных элементов 39\n"
     ]
    }
   ],
   "metadata": {}
  },
  {
   "cell_type": "markdown",
   "source": [
    "### *Здесь всё хорошо так что не чего менять не будем.*"
   ],
   "metadata": {}
  },
  {
   "cell_type": "code",
   "execution_count": 9,
   "source": [
    "#Years of Credit History - количество лет кредитной истории\r\n",
    "index = 'Years of Credit History'\r\n",
    "plt.figure(figsize=(8, 2))\r\n",
    "sns.boxplot(df_train[index], whis=1.5)\r\n",
    "plt.xlabel(index)\r\n",
    "plt.show()\r\n",
    "\r\n",
    "print(f'\\nКоличество пропущенных элементов {df_train[index].isnull().sum()}')\r\n",
    "print(f'median - {np.quantile(df_train[index], q=0.5)}\\nmean - {np.mean(df_train[index])}\\nmode - {stats.mode(df_train[index])[0][0]}\\n')\r\n",
    "print(df_train[index].value_counts().sort_index(ascending=True))\r\n",
    "print(f'\\nКоличество уникальных элементов {df_train[index].value_counts().size}')"
   ],
   "outputs": [
    {
     "output_type": "display_data",
     "data": {
      "text/plain": [
       "<Figure size 576x144 with 1 Axes>"
      ],
      "image/png": "[encoded data removed]"
     },
     "metadata": {}
    },
    {
     "output_type": "stream",
     "name": "stdout",
     "text": [
      "\n",
      "Количество пропущенных элементов 0\n",
      "median - 17.0\n",
      "mean - 18.317466666666668\n",
      "mode - 15.0\n",
      "\n",
      "4.0     1\n",
      "4.3     1\n",
      "4.5     2\n",
      "4.7     2\n",
      "4.8     4\n",
      "       ..\n",
      "51.3    1\n",
      "51.5    1\n",
      "51.9    1\n",
      "52.2    1\n",
      "57.7    1\n",
      "Name: Years of Credit History, Length: 408, dtype: int64\n",
      "\n",
      "Количество уникальных элементов 408\n"
     ]
    }
   ],
   "metadata": {}
  },
  {
   "cell_type": "markdown",
   "source": [
    "### *Здесь всё хорошо. Может в последствии группирую по десяткам.*"
   ],
   "metadata": {}
  },
  {
   "cell_type": "code",
   "execution_count": 10,
   "source": [
    "#Maximum Open Credit - наибольший открытый кредит\r\n",
    "index = 'Maximum Open Credit'\r\n",
    "plt.figure(figsize=(8, 2))\r\n",
    "sns.boxplot(df_train[index], whis=1.5)\r\n",
    "plt.xlabel(index)\r\n",
    "plt.show()\r\n",
    "\r\n",
    "print(f'\\nКоличество пропущенных элементов {df_train[index].isnull().sum()}')\r\n",
    "print(f'median - {np.quantile(df_train[index], q=0.5)}\\nmean - {np.mean(df_train[index])}\\nmode - {stats.mode(df_train[index])[0][0]}\\n')\r\n",
    "print(df_train[index].value_counts().sort_index(ascending=True))\r\n",
    "print(f'\\nКоличество уникальных элементов {df_train[index].value_counts().size}')"
   ],
   "outputs": [
    {
     "output_type": "display_data",
     "data": {
      "text/plain": [
       "<Figure size 576x144 with 1 Axes>"
      ],
      "image/png": "[encoded data removed]"
     },
     "metadata": {}
    },
    {
     "output_type": "stream",
     "name": "stdout",
     "text": [
      "\n",
      "Количество пропущенных элементов 0\n",
      "median - 478159.0\n",
      "mean - 945153.7274666667\n",
      "mode - 0.0\n",
      "\n",
      "0.000000e+00    65\n",
      "4.334000e+03     1\n",
      "6.556000e+03     1\n",
      "6.622000e+03     1\n",
      "1.089000e+04     1\n",
      "                ..\n",
      "4.092389e+07     1\n",
      "5.756256e+07     1\n",
      "2.655129e+08     1\n",
      "3.800523e+08     1\n",
      "1.304726e+09     1\n",
      "Name: Maximum Open Credit, Length: 6963, dtype: int64\n",
      "\n",
      "Количество уникальных элементов 6963\n"
     ]
    }
   ],
   "metadata": {}
  },
  {
   "cell_type": "markdown",
   "source": [
    "### *Здесь все элементы уникальны, будем их группировать и обрабатывать выбросы*"
   ],
   "metadata": {}
  },
  {
   "cell_type": "code",
   "execution_count": 11,
   "source": [
    "#Number of Credit Problems - количество проблем с кредитом\r\n",
    "index = 'Number of Credit Problems'\r\n",
    "plt.figure(figsize=(8, 2))\r\n",
    "sns.boxplot(df_train[index], whis=1.5)\r\n",
    "plt.xlabel(index)\r\n",
    "plt.show()\r\n",
    "\r\n",
    "print(f'\\nКоличество пропущенных элементов {df_train[index].isnull().sum()}')\r\n",
    "print(f'median - {np.quantile(df_train[index], q=0.5)}\\nmean - {np.mean(df_train[index])}\\nmode - {stats.mode(df_train[index])[0][0]}\\n')\r\n",
    "print(df_train[index].value_counts().sort_index(ascending=True))\r\n",
    "print(f'\\nКоличество уникальных элементов {df_train[index].value_counts().size}')"
   ],
   "outputs": [
    {
     "output_type": "display_data",
     "data": {
      "text/plain": [
       "<Figure size 576x144 with 1 Axes>"
      ],
      "image/png": "[encoded data removed]"
     },
     "metadata": {}
    },
    {
     "output_type": "stream",
     "name": "stdout",
     "text": [
      "\n",
      "Количество пропущенных элементов 0\n",
      "median - 0.0\n",
      "mean - 0.17\n",
      "mode - 0.0\n",
      "\n",
      "0.0    6469\n",
      "1.0     882\n",
      "2.0      93\n",
      "3.0      35\n",
      "4.0       9\n",
      "5.0       7\n",
      "6.0       4\n",
      "7.0       1\n",
      "Name: Number of Credit Problems, dtype: int64\n",
      "\n",
      "Количество уникальных элементов 8\n"
     ]
    }
   ],
   "metadata": {}
  },
  {
   "cell_type": "markdown",
   "source": [
    "### *Этот признак является категориальным, поэтому преобразуем его в соответствии с уникальными значениями.*"
   ],
   "metadata": {}
  },
  {
   "cell_type": "code",
   "execution_count": 12,
   "source": [
    "#Months since last delinquent - количество месяцев с последней просрочки платежа\r\n",
    "index = 'Months since last delinquent'\r\n",
    "plt.figure(figsize=(8, 2))\r\n",
    "sns.boxplot(df_train[index], whis=1.5)\r\n",
    "plt.xlabel(index)\r\n",
    "plt.show()\r\n",
    "\r\n",
    "print(f'\\nКоличество пропущенных элементов {df_train[index].isnull().sum()}')\r\n",
    "print(f'median - {np.quantile(df_train[index], q=0.5)}\\nmean - {np.mean(df_train[index])}\\nmode - {stats.mode(df_train[index])[0][0]}\\n')\r\n",
    "print(df_train[index].value_counts().sort_index(ascending=True))\r\n",
    "print(f'\\nКоличество уникальных элементов {df_train[index].value_counts().size}')"
   ],
   "outputs": [
    {
     "output_type": "display_data",
     "data": {
      "text/plain": [
       "<Figure size 576x144 with 1 Axes>"
      ],
      "image/png": "[encoded data removed]"
     },
     "metadata": {}
    },
    {
     "output_type": "stream",
     "name": "stdout",
     "text": [
      "\n",
      "Количество пропущенных элементов 4081\n",
      "median - nan\n",
      "mean - 34.69260017548991\n",
      "mode - 14.0\n",
      "\n",
      "0.0      18\n",
      "1.0      26\n",
      "2.0      25\n",
      "3.0      30\n",
      "4.0      31\n",
      "         ..\n",
      "84.0      1\n",
      "86.0      1\n",
      "91.0      1\n",
      "92.0      1\n",
      "118.0     1\n",
      "Name: Months since last delinquent, Length: 89, dtype: int64\n",
      "\n",
      "Количество уникальных элементов 89\n"
     ]
    }
   ],
   "metadata": {}
  },
  {
   "cell_type": "markdown",
   "source": [
    "### *Имеем 89 уникальных значений. В последствии сгруппируем (0 - 50). Пропуски заполним 0, так как они означают отсутствие просрочек по кредитам.*"
   ],
   "metadata": {}
  },
  {
   "cell_type": "code",
   "execution_count": 13,
   "source": [
    "#Bankruptcies - банкротства\r\n",
    "index = 'Bankruptcies'\r\n",
    "counts = df_train[index].value_counts()\r\n",
    "plt.figure(figsize=(12, 2))\r\n",
    "sns.barplot(counts.index, counts.values)\r\n",
    "plt.show()\r\n",
    "\r\n",
    "print(f'\\nКоличество пропущенных элементов {df_train[index].isnull().sum()}')\r\n",
    "print(df_train[index].value_counts())\r\n",
    "print(f'\\nКоличество уникальных элементов {df_train[index].value_counts().size}')"
   ],
   "outputs": [
    {
     "output_type": "display_data",
     "data": {
      "text/plain": [
       "<Figure size 864x144 with 1 Axes>"
      ],
      "image/png": "[encoded data removed]"
     },
     "metadata": {}
    },
    {
     "output_type": "stream",
     "name": "stdout",
     "text": [
      "\n",
      "Количество пропущенных элементов 14\n",
      "0.0    6660\n",
      "1.0     786\n",
      "2.0      31\n",
      "3.0       7\n",
      "4.0       2\n",
      "Name: Bankruptcies, dtype: int64\n",
      "\n",
      "Количество уникальных элементов 5\n"
     ]
    }
   ],
   "metadata": {}
  },
  {
   "cell_type": "markdown",
   "source": [
    "### *Этот признак является категориальным, поэтому преобразуем его в соответствии с уникальными значениями. Пропуски заполним 0, так как они означают отсутствие банкротства.*"
   ],
   "metadata": {}
  },
  {
   "cell_type": "code",
   "execution_count": 14,
   "source": [
    "#Purpose - цель кредита\r\n",
    "index = 'Purpose'\r\n",
    "counts = df_train[index].value_counts()\r\n",
    "plt.figure(figsize=(16, 2))\r\n",
    "sns.barplot(counts.index, counts.values)\r\n",
    "plt.show()\r\n",
    "\r\n",
    "print(f'\\nКоличество пропущенных элементов {df_train[index].isnull().sum()}')\r\n",
    "print(df_train[index].value_counts())\r\n",
    "print(f'\\nКоличество уникальных элементов {df_train[index].value_counts().size}')"
   ],
   "outputs": [
    {
     "output_type": "display_data",
     "data": {
      "text/plain": [
       "<Figure size 1152x144 with 1 Axes>"
      ],
      "image/png": "[encoded data removed]"
     },
     "metadata": {}
    },
    {
     "output_type": "stream",
     "name": "stdout",
     "text": [
      "\n",
      "Количество пропущенных элементов 0\n",
      "debt consolidation      5944\n",
      "other                    665\n",
      "home improvements        412\n",
      "business loan            129\n",
      "buy a car                 96\n",
      "medical bills             71\n",
      "major purchase            40\n",
      "take a trip               37\n",
      "buy house                 34\n",
      "small business            26\n",
      "wedding                   15\n",
      "moving                    11\n",
      "educational expenses      10\n",
      "vacation                   8\n",
      "renewable energy           2\n",
      "Name: Purpose, dtype: int64\n",
      "\n",
      "Количество уникальных элементов 15\n"
     ]
    }
   ],
   "metadata": {}
  },
  {
   "cell_type": "markdown",
   "source": [
    "### *Имеем 15 уникальных значений. Пропусков нет. В последствии переведём этот признак из категориального в бинарный при помощи pd.get_dummies().*"
   ],
   "metadata": {}
  },
  {
   "cell_type": "code",
   "execution_count": 15,
   "source": [
    "#Term - срок кредита\r\n",
    "index = 'Term'\r\n",
    "counts = df_train[index].value_counts()\r\n",
    "plt.figure(figsize=(6, 2))\r\n",
    "sns.barplot(counts.index, counts.values)\r\n",
    "plt.show()\r\n",
    "\r\n",
    "print(f'\\nКоличество пропущенных элементов {df_train[index].isnull().sum()}')\r\n",
    "print(df_train[index].value_counts())\r\n",
    "print(f'\\nКоличество уникальных элементов {df_train[index].value_counts().size}')"
   ],
   "outputs": [
    {
     "output_type": "display_data",
     "data": {
      "text/plain": [
       "<Figure size 432x144 with 1 Axes>"
      ],
      "image/png": "[encoded data removed]"
     },
     "metadata": {}
    },
    {
     "output_type": "stream",
     "name": "stdout",
     "text": [
      "\n",
      "Количество пропущенных элементов 0\n",
      "Short Term    5556\n",
      "Long Term     1944\n",
      "Name: Term, dtype: int64\n",
      "\n",
      "Количество уникальных элементов 2\n"
     ]
    }
   ],
   "metadata": {}
  },
  {
   "cell_type": "markdown",
   "source": [
    "### *Имеем 2 уникальных значений. Пропусков нет. В последствии переведём этот признак из категориального в бинарный при помощи pd.get_dummies().*"
   ],
   "metadata": {}
  },
  {
   "cell_type": "code",
   "execution_count": 16,
   "source": [
    "#Current Loan Amount - текущая сумма кредита\r\n",
    "index = 'Current Loan Amount'\r\n",
    "plt.figure(figsize=(8, 2))\r\n",
    "sns.boxplot(df_train[index], whis=1.5)\r\n",
    "plt.xlabel(index)\r\n",
    "plt.show()\r\n",
    "\r\n",
    "print(f'\\nКоличество пропущенных элементов {df_train[index].isnull().sum()}')\r\n",
    "print(f'median - {np.quantile(df_train[index], q=0.5)}\\nmean - {np.mean(df_train[index])}\\nmode - {stats.mode(df_train[index])[0][0]}\\n')\r\n",
    "print(df_train[index].value_counts().sort_index(ascending=True))\r\n",
    "print(f'\\nКоличество уникальных элементов {df_train[index].value_counts().size}')"
   ],
   "outputs": [
    {
     "output_type": "display_data",
     "data": {
      "text/plain": [
       "<Figure size 576x144 with 1 Axes>"
      ],
      "image/png": "[encoded data removed]"
     },
     "metadata": {}
    },
    {
     "output_type": "stream",
     "name": "stdout",
     "text": [
      "\n",
      "Количество пропущенных элементов 0\n",
      "median - 309573.0\n",
      "mean - 11873177.445066666\n",
      "mode - 99999999.0\n",
      "\n",
      "11242.0         1\n",
      "21472.0         2\n",
      "21516.0         1\n",
      "21560.0         1\n",
      "21582.0         1\n",
      "             ... \n",
      "788634.0        2\n",
      "788788.0        1\n",
      "788942.0        1\n",
      "789030.0        1\n",
      "99999999.0    870\n",
      "Name: Current Loan Amount, Length: 5386, dtype: int64\n",
      "\n",
      "Количество уникальных элементов 5386\n"
     ]
    }
   ],
   "metadata": {}
  },
  {
   "cell_type": "markdown",
   "source": [
    "### *Здесь большинство элементов уникальны, будем их группировать и обрабатывать выбросы (прировняем их к медиане)*"
   ],
   "metadata": {}
  },
  {
   "cell_type": "code",
   "execution_count": 17,
   "source": [
    "#Current Credit Balance - текущий кредитный баланс\r\n",
    "index = 'Current Credit Balance'\r\n",
    "plt.figure(figsize=(8, 2))\r\n",
    "sns.boxplot(df_train[index], whis=1.5)\r\n",
    "plt.xlabel(index)\r\n",
    "plt.show()\r\n",
    "\r\n",
    "print(f'\\nКоличество пропущенных элементов {df_train[index].isnull().sum()}')\r\n",
    "print(f'median - {np.quantile(df_train[index], q=0.5)}\\nmean - {np.mean(df_train[index])}\\nmode - {stats.mode(df_train[index])[0][0]}\\n')\r\n",
    "print(df_train[index].value_counts().sort_index(ascending=True))\r\n",
    "print(f'\\nКоличество уникальных элементов {df_train[index].value_counts().size}')"
   ],
   "outputs": [
    {
     "output_type": "display_data",
     "data": {
      "text/plain": [
       "<Figure size 576x144 with 1 Axes>"
      ],
      "image/png": "[encoded data removed]"
     },
     "metadata": {}
    },
    {
     "output_type": "stream",
     "name": "stdout",
     "text": [
      "\n",
      "Количество пропущенных элементов 0\n",
      "median - 209323.0\n",
      "mean - 289833.2352\n",
      "mode - 0.0\n",
      "\n",
      "0.0          53\n",
      "19.0          3\n",
      "57.0          2\n",
      "76.0          2\n",
      "95.0          1\n",
      "             ..\n",
      "4209659.0     1\n",
      "4249673.0     1\n",
      "4367245.0     1\n",
      "4720132.0     1\n",
      "6506797.0     1\n",
      "Name: Current Credit Balance, Length: 6592, dtype: int64\n",
      "\n",
      "Количество уникальных элементов 6592\n"
     ]
    }
   ],
   "metadata": {}
  },
  {
   "cell_type": "markdown",
   "source": [
    "### *Здесь большинство элементов уникальны, будем их группировать и обрабатывать выбросы*"
   ],
   "metadata": {}
  },
  {
   "cell_type": "code",
   "execution_count": 18,
   "source": [
    "#Monthly Debt - ежемесячный долг\r\n",
    "index = 'Monthly Debt'\r\n",
    "plt.figure(figsize=(8, 2))\r\n",
    "sns.boxplot(df_train[index], whis=1.5)\r\n",
    "plt.xlabel(index)\r\n",
    "plt.show()\r\n",
    "\r\n",
    "print(f'\\nКоличество пропущенных элементов {df_train[index].isnull().sum()}')\r\n",
    "print(f'median - {np.quantile(df_train[index], q=0.5)}\\nmean - {np.mean(df_train[index])}\\nmode - {stats.mode(df_train[index])[0][0]}\\n')\r\n",
    "print(df_train[index].value_counts().sort_index(ascending=True))\r\n",
    "print(f'\\nКоличество уникальных элементов {df_train[index].value_counts().size}')"
   ],
   "outputs": [
    {
     "output_type": "display_data",
     "data": {
      "text/plain": [
       "<Figure size 576x144 with 1 Axes>"
      ],
      "image/png": "[encoded data removed]"
     },
     "metadata": {}
    },
    {
     "output_type": "stream",
     "name": "stdout",
     "text": [
      "\n",
      "Количество пропущенных элементов 0\n",
      "median - 16076.5\n",
      "mean - 18314.454133333333\n",
      "mode - 0.0\n",
      "\n",
      "0.0         6\n",
      "17.0        1\n",
      "21.0        1\n",
      "42.0        1\n",
      "57.0        1\n",
      "           ..\n",
      "96177.0     1\n",
      "100091.0    1\n",
      "104036.0    1\n",
      "110311.0    1\n",
      "136679.0    1\n",
      "Name: Monthly Debt, Length: 6716, dtype: int64\n",
      "\n",
      "Количество уникальных элементов 6716\n"
     ]
    }
   ],
   "metadata": {}
  },
  {
   "cell_type": "markdown",
   "source": [
    "### *Здесь большинство элементов уникальны, будем их группировать или всё так и оставим.*"
   ],
   "metadata": {}
  },
  {
   "cell_type": "code",
   "execution_count": 19,
   "source": [
    "#Credit Score - кредитный рейтинг\r\n",
    "index = 'Credit Score'\r\n",
    "plt.figure(figsize=(8, 2))\r\n",
    "sns.boxplot(df_train[index], whis=1.5)\r\n",
    "plt.xlabel(index)\r\n",
    "plt.show()\r\n",
    "\r\n",
    "print(f'\\nКоличество пропущенных элементов {df_train[index].isnull().sum()}')\r\n",
    "print(f'median - {np.quantile(df_train[index], q=0.5)}\\nmean - {np.mean(df_train[index])}\\nmode - {stats.mode(df_train[index])[0][0]}\\n')\r\n",
    "print(df_train[index].value_counts().sort_index(ascending=True))\r\n",
    "print(f'\\nКоличество уникальных элементов {df_train[index].value_counts().size}')"
   ],
   "outputs": [
    {
     "output_type": "display_data",
     "data": {
      "text/plain": [
       "<Figure size 576x144 with 1 Axes>"
      ],
      "image/png": "[encoded data removed]"
     },
     "metadata": {}
    },
    {
     "output_type": "stream",
     "name": "stdout",
     "text": [
      "\n",
      "Количество пропущенных элементов 1557\n",
      "median - nan\n",
      "mean - 1151.0874978966851\n",
      "mode - 740.0\n",
      "\n",
      "585.0     1\n",
      "586.0     1\n",
      "588.0     1\n",
      "589.0     1\n",
      "590.0     1\n",
      "         ..\n",
      "7470.0    4\n",
      "7480.0    6\n",
      "7490.0    2\n",
      "7500.0    2\n",
      "7510.0    2\n",
      "Name: Credit Score, Length: 268, dtype: int64\n",
      "\n",
      "Количество уникальных элементов 268\n"
     ]
    }
   ],
   "metadata": {}
  },
  {
   "cell_type": "markdown",
   "source": [
    "### *Здесь большинство элементов уникальны, пропуски заполним модой, выбросы получились скорее всего при добавление лишнего ранга (0).*"
   ],
   "metadata": {}
  },
  {
   "cell_type": "markdown",
   "source": [
    "## Исследование целевой переменной\r\n",
    "### Построим график распределения целевой переменной \"Credit Default\" - факт невыполнения кредитных обязательств"
   ],
   "metadata": {}
  },
  {
   "cell_type": "code",
   "execution_count": 20,
   "source": [
    "#Credit Default - факт невыполнения кредитных обязательств (0 - погашен вовремя, 1 - просрочка)\r\n",
    "index = 'Credit Default'\r\n",
    "counts = df_train[index].value_counts()\r\n",
    "plt.figure(figsize=(6, 2))\r\n",
    "sns.barplot(counts.index, counts.values)\r\n",
    "plt.show()\r\n",
    "\r\n",
    "print(f'\\nКоличество пропущенных элементов {df_train[index].isnull().sum()}')\r\n",
    "print(df_train[index].value_counts())\r\n",
    "print(f'\\nКоличество уникальных элементов {df_train[index].value_counts().size}')"
   ],
   "outputs": [
    {
     "output_type": "display_data",
     "data": {
      "text/plain": [
       "<Figure size 432x144 with 1 Axes>"
      ],
      "image/png": "[encoded data removed]"
     },
     "metadata": {}
    },
    {
     "output_type": "stream",
     "name": "stdout",
     "text": [
      "\n",
      "Количество пропущенных элементов 0\n",
      "0    5387\n",
      "1    2113\n",
      "Name: Credit Default, dtype: int64\n",
      "\n",
      "Количество уникальных элементов 2\n"
     ]
    }
   ],
   "metadata": {}
  },
  {
   "cell_type": "markdown",
   "source": [
    "### *Вывод: имеем не большой дисбаланс классов, в последствии будем проводить балансировку методом Oversampling*"
   ],
   "metadata": {}
  },
  {
   "cell_type": "markdown",
   "source": [
    "## Обработка данных"
   ],
   "metadata": {}
  },
  {
   "cell_type": "code",
   "execution_count": 21,
   "source": [
    "class DataPreprocessing():\r\n",
    "    def __init__(self):\r\n",
    "        self.medians = None\r\n",
    "        self.mode =  None\r\n",
    "        self.Purpose_list = ['debt consolidation','other','home improvements','business loan','buy a car','medical bills','major purchase','take a trip',\r\n",
    "                        'buy house','small business','wedding','educational expenses','moving','vacation','renewable energy']\r\n",
    "        self.value_Bankruptcies =  None\r\n",
    "        self.value_District =  None\r\n",
    "        self.value_Credit =  None\r\n",
    "\r\n",
    "    def fit(self, df):\r\n",
    "        df = df.copy()\r\n",
    "        #заполняем переменные класса\r\n",
    "        self.medians = df.median()\r\n",
    "        self.mode = df.mode()\r\n",
    "        self.value_Bankruptcies = df['Bankruptcies'].value_counts().to_dict() \r\n",
    "        self.value_District = df['Tax Liens'].value_counts().to_dict() \r\n",
    "        self.value_Credit = df['Number of Credit Problems'].value_counts().to_dict() \r\n",
    "\r\n",
    "    def transform(self, df):\r\n",
    "        df = df.copy()\r\n",
    "        # добавим колонку ID\r\n",
    "        df['Id'] = df.index.tolist()\r\n",
    "        df = df.set_index('Id')\r\n",
    "        # Переведём 'Home Ownership' признак из категориального в бинарный\r\n",
    "        df = pd.get_dummies(df, columns=['Home Ownership'], prefix='Home')\r\n",
    "        # Исправим пропуски 'Annual Income' \r\n",
    "        df.loc[df['Annual Income'].isna(), 'Annual Income'] = self.medians[0]\r\n",
    "        # Переведём признак из категориального в числовой (1 - 10). Пропуски заполним 0.\r\n",
    "        Years_dist = {'10+ years': 10,'2 years': 2,'3 years': 3,'< 1 year': 0,'5 years': 5,'1 year': 1,'4 years': 4,'6 years': 6,'7 years': 7,'8 years': 8,'9 years': 9}\r\n",
    "        df = df.replace({'Years in current job': Years_dist})\r\n",
    "        df.loc[df['Years in current job'].isna(), 'Years in current job'] = 0\r\n",
    "        df.drop(['Years in current job'], axis=1, inplace=True)\r\n",
    "        # Преобразуем 'Tax Liens' в соответствии с уникальными значениями\r\n",
    "        df = df.replace({'Tax Liens': self.value_District})\r\n",
    "        # Округляем значения к целому.\r\n",
    "        df['Years of Credit History'] = np.round_(df['Years of Credit History'], decimals = 0)\r\n",
    "        # Преобразуем 'Number of Credit Problems' в соответствии с уникальными значениями \r\n",
    "        df = df.replace({'Number of Credit Problems': self.value_Credit})\r\n",
    "        # Исправим пропуски 'Months since last delinquent' \r\n",
    "        df.loc[df['Months since last delinquent'].isna(), 'Months since last delinquent'] = 0\r\n",
    "        # Исправим пропуски 'Bankruptcies'. Преобразуем в соответствии с уникальными значениями \r\n",
    "        df.loc[df['Bankruptcies'].isna(), 'Bankruptcies'] = 0\r\n",
    "        df = df.replace({'Bankruptcies': self.value_Bankruptcies})\r\n",
    "        # Переведём 'Purpose' признак из категориального в бинарный\r\n",
    "        df[self.Purpose_list] = 0\r\n",
    "        for index in self.Purpose_list:\r\n",
    "            df.loc[df['Purpose'] == index, index] = 1\r\n",
    "        df.drop(['Purpose'], axis=1, inplace=True)\r\n",
    "        # Переведём 'Term' признак из категориального в бинарный\r\n",
    "        df = pd.get_dummies(df, columns=['Term'])\r\n",
    "        # Обрабатываем выбросы 'Current Loan Amount' (прировняем их к медиане). \r\n",
    "        # 999999 означает что клиент очень надёжен и ему открыт безлимит, пометим их отдельно.\r\n",
    "        df['Current Loan Amount Unlimited'] = 0\r\n",
    "        df.loc[df['Current Loan Amount'] > 99999998, 'Current Loan Amount Unlimited'] = 1\r\n",
    "        df.loc[df['Current Loan Amount'] > 99999998, 'Current Loan Amount'] = self.medians[8]\r\n",
    "        # Исправим пропуски 'Credit Score'(прировняем их к медиане). \r\n",
    "        # Обрабатываем выбросы 'Credit Score' делим на 10 \r\n",
    "        df.loc[df['Credit Score'].isna(), 'Credit Score'] = self.mode['Credit Score'][0]\r\n",
    "        df['Credit Score Unlimited'] = 0\r\n",
    "        condition = (df['Credit Score'] > 800)\r\n",
    "        df.loc[condition, 'Credit Score Unlimited'] = 1\r\n",
    "        df.loc[condition, 'Credit Score'] = df.loc[condition, 'Credit Score'] / 10\r\n",
    "        return df"
   ],
   "outputs": [],
   "metadata": {}
  },
  {
   "cell_type": "code",
   "execution_count": 22,
   "source": [
    "class FeatureGenetator():\r\n",
    "    def __init__(self):\r\n",
    "        #self.scaler = RobustScaler()\r\n",
    "        self.scaler = StandardScaler()\r\n",
    "        #self.scaler = MinMaxScaler()\r\n",
    "\r\n",
    "    def fit(self, df):\r\n",
    "        df = df.copy()\r\n",
    "        \r\n",
    "\r\n",
    "    def transform(self, df):\r\n",
    "        df = df.copy()\r\n",
    "        # Средний заработок в месяц\r\n",
    "        df['Monthly Income'] = np.round_(df['Annual Income'] / 12, decimals = 0)\r\n",
    "        # Часть платежа по кредиту от заработка \r\n",
    "        df['Debt/Income'] = np.round_((df['Monthly Debt'] / df['Monthly Income']) * 100, decimals = 0)\r\n",
    "        return df\r\n",
    "\r\n",
    "    def fit_scale_merge(self, df):\r\n",
    "        #Масштабирование\r\n",
    "        self.scaler.fit_transform(df)\r\n",
    "\r\n",
    "    def scale_merge(self, df):\r\n",
    "        df = df.copy()\r\n",
    "        #Масштабирование\r\n",
    "        df = pd.DataFrame(self.scaler.transform(df), columns=df.columns)\r\n",
    "        return df"
   ],
   "outputs": [],
   "metadata": {}
  },
  {
   "cell_type": "code",
   "execution_count": 23,
   "source": [
    "def reduce_mem_usage(df):\r\n",
    "    \"\"\" iterate through all the columns of a dataframe and modify the data type\r\n",
    "        to reduce memory usage.        \r\n",
    "    \"\"\"\r\n",
    "    start_mem = df.memory_usage().sum() / 1024**2\r\n",
    "    print('Memory usage of dataframe is {:.2f} MB'.format(start_mem))\r\n",
    "    \r\n",
    "    for col in df.columns:\r\n",
    "        col_type = df[col].dtype\r\n",
    "        \r\n",
    "        if col_type != object:\r\n",
    "            c_min = df[col].min()\r\n",
    "            c_max = df[col].max()\r\n",
    "            if str(col_type)[:3] == 'int':\r\n",
    "                if c_min > np.iinfo(np.int8).min and c_max < np.iinfo(np.int8).max:\r\n",
    "                    df[col] = df[col].astype(np.int8)\r\n",
    "                elif c_min > np.iinfo(np.int16).min and c_max < np.iinfo(np.int16).max:\r\n",
    "                    df[col] = df[col].astype(np.int16)\r\n",
    "                elif c_min > np.iinfo(np.int32).min and c_max < np.iinfo(np.int32).max:\r\n",
    "                    df[col] = df[col].astype(np.int32)\r\n",
    "                elif c_min > np.iinfo(np.int64).min and c_max < np.iinfo(np.int64).max:\r\n",
    "                    df[col] = df[col].astype(np.int64)  \r\n",
    "            else:\r\n",
    "                if c_min > np.finfo(np.float32).min and c_max < np.finfo(np.float32).max:\r\n",
    "                    df[col] = df[col].astype(np.float32)\r\n",
    "                else:\r\n",
    "                    df[col] = df[col].astype(np.float64)\r\n",
    "        else:\r\n",
    "            df[col] = df[col].astype('category')\r\n",
    "\r\n",
    "    end_mem = df.memory_usage().sum() / 1024**2\r\n",
    "    print('Memory usage after optimization is: {:.2f} MB'.format(end_mem))\r\n",
    "    print('Decreased by {:.1f}%'.format(100 * (start_mem - end_mem) / start_mem))\r\n",
    "    \r\n",
    "    return df"
   ],
   "outputs": [],
   "metadata": {}
  },
  {
   "cell_type": "code",
   "execution_count": 24,
   "source": [
    "def get_classification_report(y_train_true, y_train_pred, y_test_true, y_test_pred):\r\n",
    "    y_test_true = y_test_true['Credit Default'].to_numpy()\r\n",
    "    print('TRAIN\\n\\n' + classification_report(y_train_true, y_train_pred))\r\n",
    "    print('TEST\\n\\n' + classification_report(y_test_true, y_test_pred))\r\n",
    "    print('CONFUSION MATRIX\\n')\r\n",
    "    print(pd.crosstab(y_test_true, y_test_pred))"
   ],
   "outputs": [],
   "metadata": {}
  },
  {
   "cell_type": "markdown",
   "source": [
    "### Разбиение на train и test"
   ],
   "metadata": {}
  },
  {
   "cell_type": "code",
   "execution_count": 25,
   "source": [
    "train_df = pd.read_csv(TRAIN_DATASET_PATH)\r\n",
    "test_df = pd.read_csv(TEST_DATASET_PATH)\r\n",
    "\r\n",
    "X = train_df.drop(columns=['Credit Default'])\r\n",
    "y = train_df['Credit Default']\r\n",
    "X_train, X_valid, y_train, y_valid = train_test_split(X, y, test_size=0.3, shuffle=True, random_state=rs)"
   ],
   "outputs": [],
   "metadata": {}
  },
  {
   "cell_type": "code",
   "execution_count": 26,
   "source": [
    "y_train.value_counts()"
   ],
   "outputs": [
    {
     "output_type": "execute_result",
     "data": {
      "text/plain": [
       "0    3793\n",
       "1    1457\n",
       "Name: Credit Default, dtype: int64"
      ]
     },
     "metadata": {},
     "execution_count": 26
    }
   ],
   "metadata": {}
  },
  {
   "cell_type": "markdown",
   "source": [
    "### Обработка признаков"
   ],
   "metadata": {}
  },
  {
   "cell_type": "code",
   "execution_count": 27,
   "source": [
    "preprocessor = DataPreprocessing()\r\n",
    "preprocessor.fit(X_train)\r\n",
    "\r\n",
    "X_train = preprocessor.transform(X_train)\r\n",
    "X_valid = preprocessor.transform(X_valid)\r\n",
    "test_df = preprocessor.transform(test_df)\r\n",
    "\r\n",
    "X_train.shape, X_valid.shape, test_df.shape"
   ],
   "outputs": [
    {
     "output_type": "execute_result",
     "data": {
      "text/plain": [
       "((5250, 35), (2250, 35), (2500, 35))"
      ]
     },
     "metadata": {},
     "execution_count": 27
    }
   ],
   "metadata": {}
  },
  {
   "cell_type": "code",
   "execution_count": 28,
   "source": [
    "X_train.isna().sum().sum(), X_valid.isna().sum().sum(), test_df.isna().sum().sum()"
   ],
   "outputs": [
    {
     "output_type": "execute_result",
     "data": {
      "text/plain": [
       "(0, 0, 0)"
      ]
     },
     "metadata": {},
     "execution_count": 28
    }
   ],
   "metadata": {}
  },
  {
   "cell_type": "code",
   "execution_count": 29,
   "source": [
    "X_train = reduce_mem_usage(X_train)\r\n",
    "X_valid = reduce_mem_usage(X_valid)\r\n",
    "test_df = reduce_mem_usage(test_df)"
   ],
   "outputs": [
    {
     "output_type": "stream",
     "name": "stdout",
     "text": [
      "Memory usage of dataframe is 1.23 MB\n",
      "Memory usage after optimization is: 0.49 MB\n",
      "Decreased by 60.6%\n",
      "Memory usage of dataframe is 0.53 MB\n",
      "Memory usage after optimization is: 0.21 MB\n",
      "Decreased by 60.6%\n",
      "Memory usage of dataframe is 0.59 MB\n",
      "Memory usage after optimization is: 0.23 MB\n",
      "Decreased by 60.6%\n"
     ]
    }
   ],
   "metadata": {}
  },
  {
   "cell_type": "markdown",
   "source": [
    "### Генерация новых фич"
   ],
   "metadata": {}
  },
  {
   "cell_type": "code",
   "execution_count": 30,
   "source": [
    "features_gen = FeatureGenetator()\r\n",
    "features_gen.fit(X_train)\r\n",
    "\r\n",
    "X_train = features_gen.transform(X_train)\r\n",
    "X_valid = features_gen.transform(X_valid)\r\n",
    "test_df = features_gen.transform(test_df)\r\n",
    "\r\n",
    "X_train.shape, X_valid.shape, test_df.shape"
   ],
   "outputs": [
    {
     "output_type": "execute_result",
     "data": {
      "text/plain": [
       "((5250, 37), (2250, 37), (2500, 37))"
      ]
     },
     "metadata": {},
     "execution_count": 30
    }
   ],
   "metadata": {}
  },
  {
   "cell_type": "markdown",
   "source": [
    "### Нормализация данных"
   ],
   "metadata": {}
  },
  {
   "cell_type": "code",
   "execution_count": 31,
   "source": [
    "features_gen.fit_scale_merge(X_train)\r\n",
    "\r\n",
    "X_train = features_gen.scale_merge(X_train)\r\n",
    "X_valid = features_gen.scale_merge(X_valid)\r\n",
    "test_df = features_gen.scale_merge(test_df)\r\n",
    "\r\n",
    "X_train.shape, X_valid.shape, test_df.shape"
   ],
   "outputs": [
    {
     "output_type": "execute_result",
     "data": {
      "text/plain": [
       "((5250, 37), (2250, 37), (2500, 37))"
      ]
     },
     "metadata": {},
     "execution_count": 31
    }
   ],
   "metadata": {}
  },
  {
   "cell_type": "markdown",
   "source": [
    "### Балансировка целевой переменной"
   ],
   "metadata": {}
  },
  {
   "cell_type": "code",
   "execution_count": 32,
   "source": [
    "X_train_columns = X_train.columns.to_list()\r\n",
    "ros = RandomOverSampler(random_state=rs)\r\n",
    "X_train, y_train = ros.fit_resample(X_train, y_train)\r\n",
    "X_train = pd.DataFrame(X_train,columns=X_train_columns)\r\n",
    "y_train = pd.DataFrame(y_train)\r\n",
    "print (\"Train\\n\", y_train.value_counts())\r\n",
    "y_valid = pd.DataFrame(y_valid)\r\n",
    "print (\"\\nValid\\n\", y_valid.value_counts())"
   ],
   "outputs": [
    {
     "output_type": "stream",
     "name": "stdout",
     "text": [
      "Train\n",
      " Credit Default\n",
      "0                 3793\n",
      "1                 3793\n",
      "dtype: int64\n",
      "\n",
      "Valid\n",
      " Credit Default\n",
      "0                 1594\n",
      "1                  656\n",
      "dtype: int64\n"
     ]
    }
   ],
   "metadata": {}
  },
  {
   "cell_type": "markdown",
   "source": [
    "### Выбор лучшей модели и подбор гиперпараметров"
   ],
   "metadata": {}
  },
  {
   "cell_type": "code",
   "execution_count": 33,
   "source": [
    "import catboost as catb\r\n",
    "model = catb.CatBoostClassifier(silent=True, random_state=rs,n_estimators=100, max_depth=3, l2_leaf_reg=5)\r\n",
    "model.fit(X_train, y_train)\r\n",
    "y_train_pred = model.predict(X_train)\r\n",
    "y_valid_pred = model.predict(X_valid)\r\n",
    "get_classification_report(y_train, y_train_pred, y_valid, y_valid_pred)"
   ],
   "outputs": [
    {
     "output_type": "stream",
     "name": "stdout",
     "text": [
      "TRAIN\n",
      "\n",
      "              precision    recall  f1-score   support\n",
      "\n",
      "           0       0.68      0.76      0.72      3793\n",
      "           1       0.73      0.64      0.68      3793\n",
      "\n",
      "    accuracy                           0.70      7586\n",
      "   macro avg       0.70      0.70      0.70      7586\n",
      "weighted avg       0.70      0.70      0.70      7586\n",
      "\n",
      "TEST\n",
      "\n",
      "              precision    recall  f1-score   support\n",
      "\n",
      "           0       0.83      0.75      0.79      1594\n",
      "           1       0.51      0.62      0.56       656\n",
      "\n",
      "    accuracy                           0.71      2250\n",
      "   macro avg       0.67      0.69      0.67      2250\n",
      "weighted avg       0.73      0.71      0.72      2250\n",
      "\n",
      "CONFUSION MATRIX\n",
      "\n",
      "col_0     0    1\n",
      "row_0           \n",
      "0      1203  391\n",
      "1       251  405\n"
     ]
    }
   ],
   "metadata": {}
  },
  {
   "cell_type": "markdown",
   "source": [
    "### Важность признаков"
   ],
   "metadata": {}
  },
  {
   "cell_type": "code",
   "execution_count": 34,
   "source": [
    "def show_feature_importances(feature_names, feature_importances, get_top=None):\r\n",
    "    feature_importances = pd.DataFrame({'feature': feature_names, 'importance': feature_importances})\r\n",
    "    feature_importances = feature_importances.sort_values('importance', ascending=False)\r\n",
    "       \r\n",
    "    plt.figure(figsize = (20, len(feature_importances) * 0.355))\r\n",
    "    \r\n",
    "    sns.barplot(feature_importances['importance'], feature_importances['feature'])\r\n",
    "    \r\n",
    "    plt.xlabel('Importance')\r\n",
    "    plt.title('Importance of features')\r\n",
    "    plt.show()\r\n",
    "    \r\n",
    "    if get_top is not None:\r\n",
    "        return feature_importances['feature'][:get_top].tolist()"
   ],
   "outputs": [],
   "metadata": {}
  },
  {
   "cell_type": "code",
   "execution_count": 35,
   "source": [
    "important_features_top = show_feature_importances(X_train.columns, model.feature_importances_, get_top=20)"
   ],
   "outputs": [
    {
     "output_type": "display_data",
     "data": {
      "text/plain": [
       "<Figure size 1440x945.72 with 1 Axes>"
      ],
      "image/png": "[encoded data removed]"
     },
     "metadata": {}
    }
   ],
   "metadata": {}
  },
  {
   "cell_type": "markdown",
   "source": [
    "### Кросс-валидация на всём объёме данных"
   ],
   "metadata": {}
  },
  {
   "cell_type": "code",
   "execution_count": 36,
   "source": [
    "Xx = X_train.copy()\r\n",
    "Xx = Xx.append(X_valid, ignore_index=False)\r\n",
    "Yy = y_train.copy()\r\n",
    "Yy = Yy.append(y_valid, ignore_index=False) \r\n",
    "Xx.shape, Yy.shape"
   ],
   "outputs": [
    {
     "output_type": "execute_result",
     "data": {
      "text/plain": [
       "((9836, 37), (9836, 1))"
      ]
     },
     "metadata": {},
     "execution_count": 36
    }
   ],
   "metadata": {}
  },
  {
   "cell_type": "code",
   "execution_count": 37,
   "source": [
    "cv=KFold(n_splits=5, random_state=rs, shuffle=True)\r\n",
    "cv_score = cross_val_score(model, Xx, Yy, scoring='f1_macro', cv=cv)\r\n",
    "print(cv_score)"
   ],
   "outputs": [
    {
     "output_type": "stream",
     "name": "stdout",
     "text": [
      "[0.66362749 0.67942073 0.66381594 0.6682651  0.66764571]\n"
     ]
    }
   ],
   "metadata": {}
  },
  {
   "cell_type": "markdown",
   "source": [
    "### Финальная модель"
   ],
   "metadata": {}
  },
  {
   "cell_type": "code",
   "execution_count": 38,
   "source": [
    "import catboost as catb\r\n",
    "final_catb = catb.CatBoostClassifier(silent=True, random_state=rs,n_estimators=100, max_depth=3, l2_leaf_reg=5)\r\n",
    "final_catb.fit(X_train[important_features_top], y_train)\r\n",
    "y_train_pred = final_catb.predict(X_train[important_features_top])\r\n",
    "y_valid_pred = final_catb.predict(X_valid[important_features_top])\r\n",
    "get_classification_report(y_train, y_train_pred, y_valid, y_valid_pred)"
   ],
   "outputs": [
    {
     "output_type": "stream",
     "name": "stdout",
     "text": [
      "TRAIN\n",
      "\n",
      "              precision    recall  f1-score   support\n",
      "\n",
      "           0       0.69      0.75      0.72      3793\n",
      "           1       0.73      0.67      0.70      3793\n",
      "\n",
      "    accuracy                           0.71      7586\n",
      "   macro avg       0.71      0.71      0.71      7586\n",
      "weighted avg       0.71      0.71      0.71      7586\n",
      "\n",
      "TEST\n",
      "\n",
      "              precision    recall  f1-score   support\n",
      "\n",
      "           0       0.83      0.74      0.78      1594\n",
      "           1       0.50      0.64      0.57       656\n",
      "\n",
      "    accuracy                           0.71      2250\n",
      "   macro avg       0.67      0.69      0.67      2250\n",
      "weighted avg       0.74      0.71      0.72      2250\n",
      "\n",
      "CONFUSION MATRIX\n",
      "\n",
      "col_0     0    1\n",
      "row_0           \n",
      "0      1181  413\n",
      "1       235  421\n"
     ]
    }
   ],
   "metadata": {}
  },
  {
   "cell_type": "code",
   "execution_count": 39,
   "source": [
    "y_test_preds = final_catb.predict(test_df[important_features_top])"
   ],
   "outputs": [],
   "metadata": {}
  },
  {
   "cell_type": "code",
   "execution_count": 40,
   "source": [
    "df = pd.DataFrame(y_test_preds)\r\n",
    "df.columns =['Credit Default'] \r\n",
    "df['Id'] = df.index.tolist()\r\n",
    "df = df.set_index('Id')\r\n",
    "df.head()"
   ],
   "outputs": [
    {
     "output_type": "execute_result",
     "data": {
      "text/plain": [
       "    Credit Default\n",
       "Id                \n",
       "0                0\n",
       "1                1\n",
       "2                1\n",
       "3                0\n",
       "4                0"
      ],
      "text/html": [
       "<div>\n",
       "<style scoped>\n",
       "    .dataframe tbody tr th:only-of-type {\n",
       "        vertical-align: middle;\n",
       "    }\n",
       "\n",
       "    .dataframe tbody tr th {\n",
       "        vertical-align: top;\n",
       "    }\n",
       "\n",
       "    .dataframe thead th {\n",
       "        text-align: right;\n",
       "    }\n",
       "</style>\n",
       "<table border=\"1\" class=\"dataframe\">\n",
       "  <thead>\n",
       "    <tr style=\"text-align: right;\">\n",
       "      <th></th>\n",
       "      <th>Credit Default</th>\n",
       "    </tr>\n",
       "    <tr>\n",
       "      <th>Id</th>\n",
       "      <th></th>\n",
       "    </tr>\n",
       "  </thead>\n",
       "  <tbody>\n",
       "    <tr>\n",
       "      <th>0</th>\n",
       "      <td>0</td>\n",
       "    </tr>\n",
       "    <tr>\n",
       "      <th>1</th>\n",
       "      <td>1</td>\n",
       "    </tr>\n",
       "    <tr>\n",
       "      <th>2</th>\n",
       "      <td>1</td>\n",
       "    </tr>\n",
       "    <tr>\n",
       "      <th>3</th>\n",
       "      <td>0</td>\n",
       "    </tr>\n",
       "    <tr>\n",
       "      <th>4</th>\n",
       "      <td>0</td>\n",
       "    </tr>\n",
       "  </tbody>\n",
       "</table>\n",
       "</div>"
      ]
     },
     "metadata": {},
     "execution_count": 40
    }
   ],
   "metadata": {}
  },
  {
   "cell_type": "code",
   "execution_count": 41,
   "source": [
    "test_df.shape , df.shape"
   ],
   "outputs": [
    {
     "output_type": "execute_result",
     "data": {
      "text/plain": [
       "((2500, 37), (2500, 1))"
      ]
     },
     "metadata": {},
     "execution_count": 41
    }
   ],
   "metadata": {}
  },
  {
   "cell_type": "code",
   "execution_count": 42,
   "source": [
    "df['Credit Default'].value_counts()"
   ],
   "outputs": [
    {
     "output_type": "execute_result",
     "data": {
      "text/plain": [
       "0    1581\n",
       "1     919\n",
       "Name: Credit Default, dtype: int64"
      ]
     },
     "metadata": {},
     "execution_count": 42
    }
   ],
   "metadata": {}
  },
  {
   "cell_type": "code",
   "execution_count": 43,
   "source": [
    "df.to_csv('SergeyLazarevich_predictions.csv')"
   ],
   "outputs": [],
   "metadata": {}
  }
 ]
}