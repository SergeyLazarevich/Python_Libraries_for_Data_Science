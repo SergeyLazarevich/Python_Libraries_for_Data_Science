{
 "metadata": {
  "language_info": {
   "codemirror_mode": {
    "name": "ipython",
    "version": 3
   },
   "file_extension": ".py",
   "mimetype": "text/x-python",
   "name": "python",
   "nbconvert_exporter": "python",
   "pygments_lexer": "ipython3",
   "version": "3.8.10"
  },
  "orig_nbformat": 2,
  "kernelspec": {
   "name": "python3810jvsc74a57bd06ade3e7aac465f864a6e70e76d6ad747bccbdaae49928e31e964f86f87611c7f",
   "display_name": "Python 3.8.10 64-bit"
  },
  "metadata": {
   "interpreter": {
    "hash": "6ade3e7aac465f864a6e70e76d6ad747bccbdaae49928e31e964f86f87611c7f"
   }
  }
 },
 "nbformat": 4,
 "nbformat_minor": 2,
 "cells": [
  {
   "source": [
    "# Тема “Визуализация данных в Matplotlib”"
   ],
   "cell_type": "markdown",
   "metadata": {}
  },
  {
   "cell_type": "code",
   "execution_count": 1,
   "metadata": {},
   "outputs": [],
   "source": [
    "import numpy as np\n",
    "import pandas as pd\n",
    "from matplotlib import pyplot as plt\n",
    "%matplotlib inline\n",
    "%config InlineBackend.figure_format = 'svg'\n",
    "\n",
    "title_font = {\n",
    "    \"fontsize\": 16,\n",
    "    \"fontweight\": \"bold\",\n",
    "    \"color\": \"#808080\",\n",
    "    \"family\": \"serif\",\n",
    "}\n",
    "\n",
    "label_font = {\n",
    "    \"fontsize\": 9,\n",
    "    \"family\": \"serif\",\n",
    "}"
   ]
  },
  {
   "source": [
    "## Задание 1\n",
    "Загрузите модуль pyplot библиотеки matplotlib с псевдонимом plt, а также библиотеку numpy с\n",
    "псевдонимом np.\n",
    "\n",
    "Примените магическую функцию %matplotlib inline для отображения графиков в Jupyter Notebook и\n",
    "настройки конфигурации ноутбука со значением 'svg' для более четкого отображения графиков.\n",
    "Создайте список под названием x с числами 1, 2, 3, 4, 5, 6, 7 и список y с числами 3.5, 3.8, 4.2, 4.5, 5,\n",
    "5.5, 7.\n",
    "\n",
    "С помощью функции plot постройте график, соединяющий линиями точки с горизонтальными\n",
    "координатами из списка x и вертикальными - из списка y.\n",
    "\n",
    "Затем в следующей ячейке постройте диаграмму рассеяния (другие названия - диаграмма разброса,\n",
    "scatter plot)."
   ],
   "cell_type": "markdown",
   "metadata": {}
  },
  {
   "cell_type": "code",
   "execution_count": 2,
   "metadata": {},
   "outputs": [
    {
     "output_type": "display_data",
     "data": {
      "text/plain": "<Figure size 432x288 with 1 Axes>",
      "image/svg+xml": "<?xml version=\"1.0\" encoding=\"utf-8\" standalone=\"no\"?>\r\n<!DOCTYPE svg PUBLIC \"-//W3C//DTD SVG 1.1//EN\"\r\n  \"http://www.w3.org/Graphics/SVG/1.1/DTD/svg11.dtd\">\r\n<!-- Created with matplotlib (https://matplotlib.org/) -->\r\n<svg height=\"248.518125pt\" version=\"1.1\" viewBox=\"0 0 372.103125 248.518125\" width=\"372.103125pt\" xmlns=\"http://www.w3.org/2000/svg\" xmlns:xlink=\"http://www.w3.org/1999/xlink\">\r\n <metadata>\r\n  <rdf:RDF xmlns:cc=\"http://creativecommons.org/ns#\" xmlns:dc=\"http://purl.org/dc/elements/1.1/\" xmlns:rdf=\"http://www.w3.org/1999/02/22-rdf-syntax-ns#\">\r\n   <cc:Work>\r\n    <dc:type rdf:resource=\"http://purl.org/dc/dcmitype/StillImage\"/>\r\n    <dc:date>2021-06-06T20:46:47.292814</dc:date>\r\n    <dc:format>image/svg+xml</dc:format>\r\n    <dc:creator>\r\n     <cc:Agent>\r\n      <dc:title>Matplotlib v3.3.3, https://matplotlib.org/</dc:title>\r\n     </cc:Agent>\r\n    </dc:creator>\r\n   </cc:Work>\r\n  </rdf:RDF>\r\n </metadata>\r\n <defs>\r\n  <style type=\"text/css\">*{stroke-linecap:butt;stroke-linejoin:round;}</style>\r\n </defs>\r\n <g id=\"figure_1\">\r\n  <g id=\"patch_1\">\r\n   <path d=\"M 0 248.518125 \r\nL 372.103125 248.518125 \r\nL 372.103125 0 \r\nL 0 0 \r\nz\r\n\" style=\"fill:none;\"/>\r\n  </g>\r\n  <g id=\"axes_1\">\r\n   <g id=\"patch_2\">\r\n    <path d=\"M 30.103125 224.64 \r\nL 364.903125 224.64 \r\nL 364.903125 7.2 \r\nL 30.103125 7.2 \r\nz\r\n\" style=\"fill:#ffffff;\"/>\r\n   </g>\r\n   <g id=\"matplotlib.axis_1\">\r\n    <g id=\"xtick_1\">\r\n     <g id=\"line2d_1\">\r\n      <path clip-path=\"url(#p042a8e6456)\" d=\"M 45.321307 224.64 \r\nL 45.321307 7.2 \r\n\" style=\"fill:none;stroke:#b0b0b0;stroke-linecap:square;stroke-width:0.8;\"/>\r\n     </g>\r\n     <g id=\"line2d_2\">\r\n      <defs>\r\n       <path d=\"M 0 0 \r\nL 0 3.5 \r\n\" id=\"mcd98643bbf\" style=\"stroke:#000000;stroke-width:0.8;\"/>\r\n      </defs>\r\n      <g>\r\n       <use style=\"stroke:#000000;stroke-width:0.8;\" x=\"45.321307\" xlink:href=\"#mcd98643bbf\" y=\"224.64\"/>\r\n      </g>\r\n     </g>\r\n     <g id=\"text_1\">\r\n      <!-- 1 -->\r\n      <g transform=\"translate(42.140057 239.238437)scale(0.1 -0.1)\">\r\n       <defs>\r\n        <path d=\"M 12.40625 8.296875 \r\nL 28.515625 8.296875 \r\nL 28.515625 63.921875 \r\nL 10.984375 60.40625 \r\nL 10.984375 69.390625 \r\nL 28.421875 72.90625 \r\nL 38.28125 72.90625 \r\nL 38.28125 8.296875 \r\nL 54.390625 8.296875 \r\nL 54.390625 0 \r\nL 12.40625 0 \r\nz\r\n\" id=\"DejaVuSans-49\"/>\r\n       </defs>\r\n       <use xlink:href=\"#DejaVuSans-49\"/>\r\n      </g>\r\n     </g>\r\n    </g>\r\n    <g id=\"xtick_2\">\r\n     <g id=\"line2d_3\">\r\n      <path clip-path=\"url(#p042a8e6456)\" d=\"M 96.04858 224.64 \r\nL 96.04858 7.2 \r\n\" style=\"fill:none;stroke:#b0b0b0;stroke-linecap:square;stroke-width:0.8;\"/>\r\n     </g>\r\n     <g id=\"line2d_4\">\r\n      <g>\r\n       <use style=\"stroke:#000000;stroke-width:0.8;\" x=\"96.04858\" xlink:href=\"#mcd98643bbf\" y=\"224.64\"/>\r\n      </g>\r\n     </g>\r\n     <g id=\"text_2\">\r\n      <!-- 2 -->\r\n      <g transform=\"translate(92.86733 239.238437)scale(0.1 -0.1)\">\r\n       <defs>\r\n        <path d=\"M 19.1875 8.296875 \r\nL 53.609375 8.296875 \r\nL 53.609375 0 \r\nL 7.328125 0 \r\nL 7.328125 8.296875 \r\nQ 12.9375 14.109375 22.625 23.890625 \r\nQ 32.328125 33.6875 34.8125 36.53125 \r\nQ 39.546875 41.84375 41.421875 45.53125 \r\nQ 43.3125 49.21875 43.3125 52.78125 \r\nQ 43.3125 58.59375 39.234375 62.25 \r\nQ 35.15625 65.921875 28.609375 65.921875 \r\nQ 23.96875 65.921875 18.8125 64.3125 \r\nQ 13.671875 62.703125 7.8125 59.421875 \r\nL 7.8125 69.390625 \r\nQ 13.765625 71.78125 18.9375 73 \r\nQ 24.125 74.21875 28.421875 74.21875 \r\nQ 39.75 74.21875 46.484375 68.546875 \r\nQ 53.21875 62.890625 53.21875 53.421875 \r\nQ 53.21875 48.921875 51.53125 44.890625 \r\nQ 49.859375 40.875 45.40625 35.40625 \r\nQ 44.1875 33.984375 37.640625 27.21875 \r\nQ 31.109375 20.453125 19.1875 8.296875 \r\nz\r\n\" id=\"DejaVuSans-50\"/>\r\n       </defs>\r\n       <use xlink:href=\"#DejaVuSans-50\"/>\r\n      </g>\r\n     </g>\r\n    </g>\r\n    <g id=\"xtick_3\">\r\n     <g id=\"line2d_5\">\r\n      <path clip-path=\"url(#p042a8e6456)\" d=\"M 146.775852 224.64 \r\nL 146.775852 7.2 \r\n\" style=\"fill:none;stroke:#b0b0b0;stroke-linecap:square;stroke-width:0.8;\"/>\r\n     </g>\r\n     <g id=\"line2d_6\">\r\n      <g>\r\n       <use style=\"stroke:#000000;stroke-width:0.8;\" x=\"146.775852\" xlink:href=\"#mcd98643bbf\" y=\"224.64\"/>\r\n      </g>\r\n     </g>\r\n     <g id=\"text_3\">\r\n      <!-- 3 -->\r\n      <g transform=\"translate(143.594602 239.238437)scale(0.1 -0.1)\">\r\n       <defs>\r\n        <path d=\"M 40.578125 39.3125 \r\nQ 47.65625 37.796875 51.625 33 \r\nQ 55.609375 28.21875 55.609375 21.1875 \r\nQ 55.609375 10.40625 48.1875 4.484375 \r\nQ 40.765625 -1.421875 27.09375 -1.421875 \r\nQ 22.515625 -1.421875 17.65625 -0.515625 \r\nQ 12.796875 0.390625 7.625 2.203125 \r\nL 7.625 11.71875 \r\nQ 11.71875 9.328125 16.59375 8.109375 \r\nQ 21.484375 6.890625 26.8125 6.890625 \r\nQ 36.078125 6.890625 40.9375 10.546875 \r\nQ 45.796875 14.203125 45.796875 21.1875 \r\nQ 45.796875 27.640625 41.28125 31.265625 \r\nQ 36.765625 34.90625 28.71875 34.90625 \r\nL 20.21875 34.90625 \r\nL 20.21875 43.015625 \r\nL 29.109375 43.015625 \r\nQ 36.375 43.015625 40.234375 45.921875 \r\nQ 44.09375 48.828125 44.09375 54.296875 \r\nQ 44.09375 59.90625 40.109375 62.90625 \r\nQ 36.140625 65.921875 28.71875 65.921875 \r\nQ 24.65625 65.921875 20.015625 65.03125 \r\nQ 15.375 64.15625 9.8125 62.3125 \r\nL 9.8125 71.09375 \r\nQ 15.4375 72.65625 20.34375 73.4375 \r\nQ 25.25 74.21875 29.59375 74.21875 \r\nQ 40.828125 74.21875 47.359375 69.109375 \r\nQ 53.90625 64.015625 53.90625 55.328125 \r\nQ 53.90625 49.265625 50.4375 45.09375 \r\nQ 46.96875 40.921875 40.578125 39.3125 \r\nz\r\n\" id=\"DejaVuSans-51\"/>\r\n       </defs>\r\n       <use xlink:href=\"#DejaVuSans-51\"/>\r\n      </g>\r\n     </g>\r\n    </g>\r\n    <g id=\"xtick_4\">\r\n     <g id=\"line2d_7\">\r\n      <path clip-path=\"url(#p042a8e6456)\" d=\"M 197.503125 224.64 \r\nL 197.503125 7.2 \r\n\" style=\"fill:none;stroke:#b0b0b0;stroke-linecap:square;stroke-width:0.8;\"/>\r\n     </g>\r\n     <g id=\"line2d_8\">\r\n      <g>\r\n       <use style=\"stroke:#000000;stroke-width:0.8;\" x=\"197.503125\" xlink:href=\"#mcd98643bbf\" y=\"224.64\"/>\r\n      </g>\r\n     </g>\r\n     <g id=\"text_4\">\r\n      <!-- 4 -->\r\n      <g transform=\"translate(194.321875 239.238437)scale(0.1 -0.1)\">\r\n       <defs>\r\n        <path d=\"M 37.796875 64.3125 \r\nL 12.890625 25.390625 \r\nL 37.796875 25.390625 \r\nz\r\nM 35.203125 72.90625 \r\nL 47.609375 72.90625 \r\nL 47.609375 25.390625 \r\nL 58.015625 25.390625 \r\nL 58.015625 17.1875 \r\nL 47.609375 17.1875 \r\nL 47.609375 0 \r\nL 37.796875 0 \r\nL 37.796875 17.1875 \r\nL 4.890625 17.1875 \r\nL 4.890625 26.703125 \r\nz\r\n\" id=\"DejaVuSans-52\"/>\r\n       </defs>\r\n       <use xlink:href=\"#DejaVuSans-52\"/>\r\n      </g>\r\n     </g>\r\n    </g>\r\n    <g id=\"xtick_5\">\r\n     <g id=\"line2d_9\">\r\n      <path clip-path=\"url(#p042a8e6456)\" d=\"M 248.230398 224.64 \r\nL 248.230398 7.2 \r\n\" style=\"fill:none;stroke:#b0b0b0;stroke-linecap:square;stroke-width:0.8;\"/>\r\n     </g>\r\n     <g id=\"line2d_10\">\r\n      <g>\r\n       <use style=\"stroke:#000000;stroke-width:0.8;\" x=\"248.230398\" xlink:href=\"#mcd98643bbf\" y=\"224.64\"/>\r\n      </g>\r\n     </g>\r\n     <g id=\"text_5\">\r\n      <!-- 5 -->\r\n      <g transform=\"translate(245.049148 239.238437)scale(0.1 -0.1)\">\r\n       <defs>\r\n        <path d=\"M 10.796875 72.90625 \r\nL 49.515625 72.90625 \r\nL 49.515625 64.59375 \r\nL 19.828125 64.59375 \r\nL 19.828125 46.734375 \r\nQ 21.96875 47.46875 24.109375 47.828125 \r\nQ 26.265625 48.1875 28.421875 48.1875 \r\nQ 40.625 48.1875 47.75 41.5 \r\nQ 54.890625 34.8125 54.890625 23.390625 \r\nQ 54.890625 11.625 47.5625 5.09375 \r\nQ 40.234375 -1.421875 26.90625 -1.421875 \r\nQ 22.3125 -1.421875 17.546875 -0.640625 \r\nQ 12.796875 0.140625 7.71875 1.703125 \r\nL 7.71875 11.625 \r\nQ 12.109375 9.234375 16.796875 8.0625 \r\nQ 21.484375 6.890625 26.703125 6.890625 \r\nQ 35.15625 6.890625 40.078125 11.328125 \r\nQ 45.015625 15.765625 45.015625 23.390625 \r\nQ 45.015625 31 40.078125 35.4375 \r\nQ 35.15625 39.890625 26.703125 39.890625 \r\nQ 22.75 39.890625 18.8125 39.015625 \r\nQ 14.890625 38.140625 10.796875 36.28125 \r\nz\r\n\" id=\"DejaVuSans-53\"/>\r\n       </defs>\r\n       <use xlink:href=\"#DejaVuSans-53\"/>\r\n      </g>\r\n     </g>\r\n    </g>\r\n    <g id=\"xtick_6\">\r\n     <g id=\"line2d_11\">\r\n      <path clip-path=\"url(#p042a8e6456)\" d=\"M 298.95767 224.64 \r\nL 298.95767 7.2 \r\n\" style=\"fill:none;stroke:#b0b0b0;stroke-linecap:square;stroke-width:0.8;\"/>\r\n     </g>\r\n     <g id=\"line2d_12\">\r\n      <g>\r\n       <use style=\"stroke:#000000;stroke-width:0.8;\" x=\"298.95767\" xlink:href=\"#mcd98643bbf\" y=\"224.64\"/>\r\n      </g>\r\n     </g>\r\n     <g id=\"text_6\">\r\n      <!-- 6 -->\r\n      <g transform=\"translate(295.77642 239.238437)scale(0.1 -0.1)\">\r\n       <defs>\r\n        <path d=\"M 33.015625 40.375 \r\nQ 26.375 40.375 22.484375 35.828125 \r\nQ 18.609375 31.296875 18.609375 23.390625 \r\nQ 18.609375 15.53125 22.484375 10.953125 \r\nQ 26.375 6.390625 33.015625 6.390625 \r\nQ 39.65625 6.390625 43.53125 10.953125 \r\nQ 47.40625 15.53125 47.40625 23.390625 \r\nQ 47.40625 31.296875 43.53125 35.828125 \r\nQ 39.65625 40.375 33.015625 40.375 \r\nz\r\nM 52.59375 71.296875 \r\nL 52.59375 62.3125 \r\nQ 48.875 64.0625 45.09375 64.984375 \r\nQ 41.3125 65.921875 37.59375 65.921875 \r\nQ 27.828125 65.921875 22.671875 59.328125 \r\nQ 17.53125 52.734375 16.796875 39.40625 \r\nQ 19.671875 43.65625 24.015625 45.921875 \r\nQ 28.375 48.1875 33.59375 48.1875 \r\nQ 44.578125 48.1875 50.953125 41.515625 \r\nQ 57.328125 34.859375 57.328125 23.390625 \r\nQ 57.328125 12.15625 50.6875 5.359375 \r\nQ 44.046875 -1.421875 33.015625 -1.421875 \r\nQ 20.359375 -1.421875 13.671875 8.265625 \r\nQ 6.984375 17.96875 6.984375 36.375 \r\nQ 6.984375 53.65625 15.1875 63.9375 \r\nQ 23.390625 74.21875 37.203125 74.21875 \r\nQ 40.921875 74.21875 44.703125 73.484375 \r\nQ 48.484375 72.75 52.59375 71.296875 \r\nz\r\n\" id=\"DejaVuSans-54\"/>\r\n       </defs>\r\n       <use xlink:href=\"#DejaVuSans-54\"/>\r\n      </g>\r\n     </g>\r\n    </g>\r\n    <g id=\"xtick_7\">\r\n     <g id=\"line2d_13\">\r\n      <path clip-path=\"url(#p042a8e6456)\" d=\"M 349.684943 224.64 \r\nL 349.684943 7.2 \r\n\" style=\"fill:none;stroke:#b0b0b0;stroke-linecap:square;stroke-width:0.8;\"/>\r\n     </g>\r\n     <g id=\"line2d_14\">\r\n      <g>\r\n       <use style=\"stroke:#000000;stroke-width:0.8;\" x=\"349.684943\" xlink:href=\"#mcd98643bbf\" y=\"224.64\"/>\r\n      </g>\r\n     </g>\r\n     <g id=\"text_7\">\r\n      <!-- 7 -->\r\n      <g transform=\"translate(346.503693 239.238437)scale(0.1 -0.1)\">\r\n       <defs>\r\n        <path d=\"M 8.203125 72.90625 \r\nL 55.078125 72.90625 \r\nL 55.078125 68.703125 \r\nL 28.609375 0 \r\nL 18.3125 0 \r\nL 43.21875 64.59375 \r\nL 8.203125 64.59375 \r\nz\r\n\" id=\"DejaVuSans-55\"/>\r\n       </defs>\r\n       <use xlink:href=\"#DejaVuSans-55\"/>\r\n      </g>\r\n     </g>\r\n    </g>\r\n   </g>\r\n   <g id=\"matplotlib.axis_2\">\r\n    <g id=\"ytick_1\">\r\n     <g id=\"line2d_15\">\r\n      <path clip-path=\"url(#p042a8e6456)\" d=\"M 30.103125 214.756364 \r\nL 364.903125 214.756364 \r\n\" style=\"fill:none;stroke:#b0b0b0;stroke-linecap:square;stroke-width:0.8;\"/>\r\n     </g>\r\n     <g id=\"line2d_16\">\r\n      <defs>\r\n       <path d=\"M 0 0 \r\nL -3.5 0 \r\n\" id=\"mc6aa4e4832\" style=\"stroke:#000000;stroke-width:0.8;\"/>\r\n      </defs>\r\n      <g>\r\n       <use style=\"stroke:#000000;stroke-width:0.8;\" x=\"30.103125\" xlink:href=\"#mc6aa4e4832\" y=\"214.756364\"/>\r\n      </g>\r\n     </g>\r\n     <g id=\"text_8\">\r\n      <!-- 3.5 -->\r\n      <g transform=\"translate(7.2 218.555582)scale(0.1 -0.1)\">\r\n       <defs>\r\n        <path d=\"M 10.6875 12.40625 \r\nL 21 12.40625 \r\nL 21 0 \r\nL 10.6875 0 \r\nz\r\n\" id=\"DejaVuSans-46\"/>\r\n       </defs>\r\n       <use xlink:href=\"#DejaVuSans-51\"/>\r\n       <use x=\"63.623047\" xlink:href=\"#DejaVuSans-46\"/>\r\n       <use x=\"95.410156\" xlink:href=\"#DejaVuSans-53\"/>\r\n      </g>\r\n     </g>\r\n    </g>\r\n    <g id=\"ytick_2\">\r\n     <g id=\"line2d_17\">\r\n      <path clip-path=\"url(#p042a8e6456)\" d=\"M 30.103125 186.517403 \r\nL 364.903125 186.517403 \r\n\" style=\"fill:none;stroke:#b0b0b0;stroke-linecap:square;stroke-width:0.8;\"/>\r\n     </g>\r\n     <g id=\"line2d_18\">\r\n      <g>\r\n       <use style=\"stroke:#000000;stroke-width:0.8;\" x=\"30.103125\" xlink:href=\"#mc6aa4e4832\" y=\"186.517403\"/>\r\n      </g>\r\n     </g>\r\n     <g id=\"text_9\">\r\n      <!-- 4.0 -->\r\n      <g transform=\"translate(7.2 190.316621)scale(0.1 -0.1)\">\r\n       <defs>\r\n        <path d=\"M 31.78125 66.40625 \r\nQ 24.171875 66.40625 20.328125 58.90625 \r\nQ 16.5 51.421875 16.5 36.375 \r\nQ 16.5 21.390625 20.328125 13.890625 \r\nQ 24.171875 6.390625 31.78125 6.390625 \r\nQ 39.453125 6.390625 43.28125 13.890625 \r\nQ 47.125 21.390625 47.125 36.375 \r\nQ 47.125 51.421875 43.28125 58.90625 \r\nQ 39.453125 66.40625 31.78125 66.40625 \r\nz\r\nM 31.78125 74.21875 \r\nQ 44.046875 74.21875 50.515625 64.515625 \r\nQ 56.984375 54.828125 56.984375 36.375 \r\nQ 56.984375 17.96875 50.515625 8.265625 \r\nQ 44.046875 -1.421875 31.78125 -1.421875 \r\nQ 19.53125 -1.421875 13.0625 8.265625 \r\nQ 6.59375 17.96875 6.59375 36.375 \r\nQ 6.59375 54.828125 13.0625 64.515625 \r\nQ 19.53125 74.21875 31.78125 74.21875 \r\nz\r\n\" id=\"DejaVuSans-48\"/>\r\n       </defs>\r\n       <use xlink:href=\"#DejaVuSans-52\"/>\r\n       <use x=\"63.623047\" xlink:href=\"#DejaVuSans-46\"/>\r\n       <use x=\"95.410156\" xlink:href=\"#DejaVuSans-48\"/>\r\n      </g>\r\n     </g>\r\n    </g>\r\n    <g id=\"ytick_3\">\r\n     <g id=\"line2d_19\">\r\n      <path clip-path=\"url(#p042a8e6456)\" d=\"M 30.103125 158.278442 \r\nL 364.903125 158.278442 \r\n\" style=\"fill:none;stroke:#b0b0b0;stroke-linecap:square;stroke-width:0.8;\"/>\r\n     </g>\r\n     <g id=\"line2d_20\">\r\n      <g>\r\n       <use style=\"stroke:#000000;stroke-width:0.8;\" x=\"30.103125\" xlink:href=\"#mc6aa4e4832\" y=\"158.278442\"/>\r\n      </g>\r\n     </g>\r\n     <g id=\"text_10\">\r\n      <!-- 4.5 -->\r\n      <g transform=\"translate(7.2 162.07766)scale(0.1 -0.1)\">\r\n       <use xlink:href=\"#DejaVuSans-52\"/>\r\n       <use x=\"63.623047\" xlink:href=\"#DejaVuSans-46\"/>\r\n       <use x=\"95.410156\" xlink:href=\"#DejaVuSans-53\"/>\r\n      </g>\r\n     </g>\r\n    </g>\r\n    <g id=\"ytick_4\">\r\n     <g id=\"line2d_21\">\r\n      <path clip-path=\"url(#p042a8e6456)\" d=\"M 30.103125 130.039481 \r\nL 364.903125 130.039481 \r\n\" style=\"fill:none;stroke:#b0b0b0;stroke-linecap:square;stroke-width:0.8;\"/>\r\n     </g>\r\n     <g id=\"line2d_22\">\r\n      <g>\r\n       <use style=\"stroke:#000000;stroke-width:0.8;\" x=\"30.103125\" xlink:href=\"#mc6aa4e4832\" y=\"130.039481\"/>\r\n      </g>\r\n     </g>\r\n     <g id=\"text_11\">\r\n      <!-- 5.0 -->\r\n      <g transform=\"translate(7.2 133.838699)scale(0.1 -0.1)\">\r\n       <use xlink:href=\"#DejaVuSans-53\"/>\r\n       <use x=\"63.623047\" xlink:href=\"#DejaVuSans-46\"/>\r\n       <use x=\"95.410156\" xlink:href=\"#DejaVuSans-48\"/>\r\n      </g>\r\n     </g>\r\n    </g>\r\n    <g id=\"ytick_5\">\r\n     <g id=\"line2d_23\">\r\n      <path clip-path=\"url(#p042a8e6456)\" d=\"M 30.103125 101.800519 \r\nL 364.903125 101.800519 \r\n\" style=\"fill:none;stroke:#b0b0b0;stroke-linecap:square;stroke-width:0.8;\"/>\r\n     </g>\r\n     <g id=\"line2d_24\">\r\n      <g>\r\n       <use style=\"stroke:#000000;stroke-width:0.8;\" x=\"30.103125\" xlink:href=\"#mc6aa4e4832\" y=\"101.800519\"/>\r\n      </g>\r\n     </g>\r\n     <g id=\"text_12\">\r\n      <!-- 5.5 -->\r\n      <g transform=\"translate(7.2 105.599738)scale(0.1 -0.1)\">\r\n       <use xlink:href=\"#DejaVuSans-53\"/>\r\n       <use x=\"63.623047\" xlink:href=\"#DejaVuSans-46\"/>\r\n       <use x=\"95.410156\" xlink:href=\"#DejaVuSans-53\"/>\r\n      </g>\r\n     </g>\r\n    </g>\r\n    <g id=\"ytick_6\">\r\n     <g id=\"line2d_25\">\r\n      <path clip-path=\"url(#p042a8e6456)\" d=\"M 30.103125 73.561558 \r\nL 364.903125 73.561558 \r\n\" style=\"fill:none;stroke:#b0b0b0;stroke-linecap:square;stroke-width:0.8;\"/>\r\n     </g>\r\n     <g id=\"line2d_26\">\r\n      <g>\r\n       <use style=\"stroke:#000000;stroke-width:0.8;\" x=\"30.103125\" xlink:href=\"#mc6aa4e4832\" y=\"73.561558\"/>\r\n      </g>\r\n     </g>\r\n     <g id=\"text_13\">\r\n      <!-- 6.0 -->\r\n      <g transform=\"translate(7.2 77.360777)scale(0.1 -0.1)\">\r\n       <use xlink:href=\"#DejaVuSans-54\"/>\r\n       <use x=\"63.623047\" xlink:href=\"#DejaVuSans-46\"/>\r\n       <use x=\"95.410156\" xlink:href=\"#DejaVuSans-48\"/>\r\n      </g>\r\n     </g>\r\n    </g>\r\n    <g id=\"ytick_7\">\r\n     <g id=\"line2d_27\">\r\n      <path clip-path=\"url(#p042a8e6456)\" d=\"M 30.103125 45.322597 \r\nL 364.903125 45.322597 \r\n\" style=\"fill:none;stroke:#b0b0b0;stroke-linecap:square;stroke-width:0.8;\"/>\r\n     </g>\r\n     <g id=\"line2d_28\">\r\n      <g>\r\n       <use style=\"stroke:#000000;stroke-width:0.8;\" x=\"30.103125\" xlink:href=\"#mc6aa4e4832\" y=\"45.322597\"/>\r\n      </g>\r\n     </g>\r\n     <g id=\"text_14\">\r\n      <!-- 6.5 -->\r\n      <g transform=\"translate(7.2 49.121816)scale(0.1 -0.1)\">\r\n       <use xlink:href=\"#DejaVuSans-54\"/>\r\n       <use x=\"63.623047\" xlink:href=\"#DejaVuSans-46\"/>\r\n       <use x=\"95.410156\" xlink:href=\"#DejaVuSans-53\"/>\r\n      </g>\r\n     </g>\r\n    </g>\r\n    <g id=\"ytick_8\">\r\n     <g id=\"line2d_29\">\r\n      <path clip-path=\"url(#p042a8e6456)\" d=\"M 30.103125 17.083636 \r\nL 364.903125 17.083636 \r\n\" style=\"fill:none;stroke:#b0b0b0;stroke-linecap:square;stroke-width:0.8;\"/>\r\n     </g>\r\n     <g id=\"line2d_30\">\r\n      <g>\r\n       <use style=\"stroke:#000000;stroke-width:0.8;\" x=\"30.103125\" xlink:href=\"#mc6aa4e4832\" y=\"17.083636\"/>\r\n      </g>\r\n     </g>\r\n     <g id=\"text_15\">\r\n      <!-- 7.0 -->\r\n      <g transform=\"translate(7.2 20.882855)scale(0.1 -0.1)\">\r\n       <use xlink:href=\"#DejaVuSans-55\"/>\r\n       <use x=\"63.623047\" xlink:href=\"#DejaVuSans-46\"/>\r\n       <use x=\"95.410156\" xlink:href=\"#DejaVuSans-48\"/>\r\n      </g>\r\n     </g>\r\n    </g>\r\n   </g>\r\n   <g id=\"line2d_31\">\r\n    <path clip-path=\"url(#p042a8e6456)\" d=\"M 45.321307 214.756364 \r\nL 96.04858 197.812987 \r\nL 146.775852 175.221818 \r\nL 197.503125 158.278442 \r\nL 248.230398 130.039481 \r\nL 298.95767 101.800519 \r\nL 349.684943 17.083636 \r\n\" style=\"fill:none;stroke:#1f77b4;stroke-linecap:square;stroke-width:1.5;\"/>\r\n   </g>\r\n   <g id=\"patch_3\">\r\n    <path d=\"M 30.103125 224.64 \r\nL 30.103125 7.2 \r\n\" style=\"fill:none;stroke:#000000;stroke-linecap:square;stroke-linejoin:miter;stroke-width:0.8;\"/>\r\n   </g>\r\n   <g id=\"patch_4\">\r\n    <path d=\"M 364.903125 224.64 \r\nL 364.903125 7.2 \r\n\" style=\"fill:none;stroke:#000000;stroke-linecap:square;stroke-linejoin:miter;stroke-width:0.8;\"/>\r\n   </g>\r\n   <g id=\"patch_5\">\r\n    <path d=\"M 30.103125 224.64 \r\nL 364.903125 224.64 \r\n\" style=\"fill:none;stroke:#000000;stroke-linecap:square;stroke-linejoin:miter;stroke-width:0.8;\"/>\r\n   </g>\r\n   <g id=\"patch_6\">\r\n    <path d=\"M 30.103125 7.2 \r\nL 364.903125 7.2 \r\n\" style=\"fill:none;stroke:#000000;stroke-linecap:square;stroke-linejoin:miter;stroke-width:0.8;\"/>\r\n   </g>\r\n  </g>\r\n </g>\r\n <defs>\r\n  <clipPath id=\"p042a8e6456\">\r\n   <rect height=\"217.44\" width=\"334.8\" x=\"30.103125\" y=\"7.2\"/>\r\n  </clipPath>\r\n </defs>\r\n</svg>\r\n"
     },
     "metadata": {
      "needs_background": "light"
     }
    }
   ],
   "source": [
    "x = np.array([1, 2, 3, 4, 5, 6, 7])\n",
    "y = np.array([3.5, 3.8, 4.2, 4.5, 5, 5.5, 7.0])\n",
    "plt.plot(x, y)\n",
    "plt.grid()\n",
    "plt.show()"
   ]
  },
  {
   "cell_type": "code",
   "execution_count": 3,
   "metadata": {},
   "outputs": [
    {
     "output_type": "display_data",
     "data": {
      "text/plain": "<Figure size 432x288 with 1 Axes>",
      "image/svg+xml": "<?xml version=\"1.0\" encoding=\"utf-8\" standalone=\"no\"?>\r\n<!DOCTYPE svg PUBLIC \"-//W3C//DTD SVG 1.1//EN\"\r\n  \"http://www.w3.org/Graphics/SVG/1.1/DTD/svg11.dtd\">\r\n<!-- Created with matplotlib (https://matplotlib.org/) -->\r\n<svg height=\"248.518125pt\" version=\"1.1\" viewBox=\"0 0 372.103125 248.518125\" width=\"372.103125pt\" xmlns=\"http://www.w3.org/2000/svg\" xmlns:xlink=\"http://www.w3.org/1999/xlink\">\r\n <metadata>\r\n  <rdf:RDF xmlns:cc=\"http://creativecommons.org/ns#\" xmlns:dc=\"http://purl.org/dc/elements/1.1/\" xmlns:rdf=\"http://www.w3.org/1999/02/22-rdf-syntax-ns#\">\r\n   <cc:Work>\r\n    <dc:type rdf:resource=\"http://purl.org/dc/dcmitype/StillImage\"/>\r\n    <dc:date>2021-06-06T20:46:47.745116</dc:date>\r\n    <dc:format>image/svg+xml</dc:format>\r\n    <dc:creator>\r\n     <cc:Agent>\r\n      <dc:title>Matplotlib v3.3.3, https://matplotlib.org/</dc:title>\r\n     </cc:Agent>\r\n    </dc:creator>\r\n   </cc:Work>\r\n  </rdf:RDF>\r\n </metadata>\r\n <defs>\r\n  <style type=\"text/css\">*{stroke-linecap:butt;stroke-linejoin:round;}</style>\r\n </defs>\r\n <g id=\"figure_1\">\r\n  <g id=\"patch_1\">\r\n   <path d=\"M 0 248.518125 \r\nL 372.103125 248.518125 \r\nL 372.103125 0 \r\nL 0 0 \r\nz\r\n\" style=\"fill:none;\"/>\r\n  </g>\r\n  <g id=\"axes_1\">\r\n   <g id=\"patch_2\">\r\n    <path d=\"M 30.103125 224.64 \r\nL 364.903125 224.64 \r\nL 364.903125 7.2 \r\nL 30.103125 7.2 \r\nz\r\n\" style=\"fill:#ffffff;\"/>\r\n   </g>\r\n   <g id=\"PathCollection_1\">\r\n    <defs>\r\n     <path d=\"M 0 3 \r\nC 0.795609 3 1.55874 2.683901 2.12132 2.12132 \r\nC 2.683901 1.55874 3 0.795609 3 0 \r\nC 3 -0.795609 2.683901 -1.55874 2.12132 -2.12132 \r\nC 1.55874 -2.683901 0.795609 -3 0 -3 \r\nC -0.795609 -3 -1.55874 -2.683901 -2.12132 -2.12132 \r\nC -2.683901 -1.55874 -3 -0.795609 -3 0 \r\nC -3 0.795609 -2.683901 1.55874 -2.12132 2.12132 \r\nC -1.55874 2.683901 -0.795609 3 0 3 \r\nz\r\n\" id=\"m64499ddd8f\" style=\"stroke:#1f77b4;\"/>\r\n    </defs>\r\n    <g clip-path=\"url(#p3e6a0a5330)\">\r\n     <use style=\"fill:#1f77b4;stroke:#1f77b4;\" x=\"45.321307\" xlink:href=\"#m64499ddd8f\" y=\"214.756364\"/>\r\n     <use style=\"fill:#1f77b4;stroke:#1f77b4;\" x=\"96.04858\" xlink:href=\"#m64499ddd8f\" y=\"197.812987\"/>\r\n     <use style=\"fill:#1f77b4;stroke:#1f77b4;\" x=\"146.775852\" xlink:href=\"#m64499ddd8f\" y=\"175.221818\"/>\r\n     <use style=\"fill:#1f77b4;stroke:#1f77b4;\" x=\"197.503125\" xlink:href=\"#m64499ddd8f\" y=\"158.278442\"/>\r\n     <use style=\"fill:#1f77b4;stroke:#1f77b4;\" x=\"248.230398\" xlink:href=\"#m64499ddd8f\" y=\"130.039481\"/>\r\n     <use style=\"fill:#1f77b4;stroke:#1f77b4;\" x=\"298.95767\" xlink:href=\"#m64499ddd8f\" y=\"101.800519\"/>\r\n     <use style=\"fill:#1f77b4;stroke:#1f77b4;\" x=\"349.684943\" xlink:href=\"#m64499ddd8f\" y=\"17.083636\"/>\r\n    </g>\r\n   </g>\r\n   <g id=\"matplotlib.axis_1\">\r\n    <g id=\"xtick_1\">\r\n     <g id=\"line2d_1\">\r\n      <path clip-path=\"url(#p3e6a0a5330)\" d=\"M 45.321307 224.64 \r\nL 45.321307 7.2 \r\n\" style=\"fill:none;stroke:#b0b0b0;stroke-linecap:square;stroke-width:0.8;\"/>\r\n     </g>\r\n     <g id=\"line2d_2\">\r\n      <defs>\r\n       <path d=\"M 0 0 \r\nL 0 3.5 \r\n\" id=\"m01a015f635\" style=\"stroke:#000000;stroke-width:0.8;\"/>\r\n      </defs>\r\n      <g>\r\n       <use style=\"stroke:#000000;stroke-width:0.8;\" x=\"45.321307\" xlink:href=\"#m01a015f635\" y=\"224.64\"/>\r\n      </g>\r\n     </g>\r\n     <g id=\"text_1\">\r\n      <!-- 1 -->\r\n      <g transform=\"translate(42.140057 239.238437)scale(0.1 -0.1)\">\r\n       <defs>\r\n        <path d=\"M 12.40625 8.296875 \r\nL 28.515625 8.296875 \r\nL 28.515625 63.921875 \r\nL 10.984375 60.40625 \r\nL 10.984375 69.390625 \r\nL 28.421875 72.90625 \r\nL 38.28125 72.90625 \r\nL 38.28125 8.296875 \r\nL 54.390625 8.296875 \r\nL 54.390625 0 \r\nL 12.40625 0 \r\nz\r\n\" id=\"DejaVuSans-49\"/>\r\n       </defs>\r\n       <use xlink:href=\"#DejaVuSans-49\"/>\r\n      </g>\r\n     </g>\r\n    </g>\r\n    <g id=\"xtick_2\">\r\n     <g id=\"line2d_3\">\r\n      <path clip-path=\"url(#p3e6a0a5330)\" d=\"M 96.04858 224.64 \r\nL 96.04858 7.2 \r\n\" style=\"fill:none;stroke:#b0b0b0;stroke-linecap:square;stroke-width:0.8;\"/>\r\n     </g>\r\n     <g id=\"line2d_4\">\r\n      <g>\r\n       <use style=\"stroke:#000000;stroke-width:0.8;\" x=\"96.04858\" xlink:href=\"#m01a015f635\" y=\"224.64\"/>\r\n      </g>\r\n     </g>\r\n     <g id=\"text_2\">\r\n      <!-- 2 -->\r\n      <g transform=\"translate(92.86733 239.238437)scale(0.1 -0.1)\">\r\n       <defs>\r\n        <path d=\"M 19.1875 8.296875 \r\nL 53.609375 8.296875 \r\nL 53.609375 0 \r\nL 7.328125 0 \r\nL 7.328125 8.296875 \r\nQ 12.9375 14.109375 22.625 23.890625 \r\nQ 32.328125 33.6875 34.8125 36.53125 \r\nQ 39.546875 41.84375 41.421875 45.53125 \r\nQ 43.3125 49.21875 43.3125 52.78125 \r\nQ 43.3125 58.59375 39.234375 62.25 \r\nQ 35.15625 65.921875 28.609375 65.921875 \r\nQ 23.96875 65.921875 18.8125 64.3125 \r\nQ 13.671875 62.703125 7.8125 59.421875 \r\nL 7.8125 69.390625 \r\nQ 13.765625 71.78125 18.9375 73 \r\nQ 24.125 74.21875 28.421875 74.21875 \r\nQ 39.75 74.21875 46.484375 68.546875 \r\nQ 53.21875 62.890625 53.21875 53.421875 \r\nQ 53.21875 48.921875 51.53125 44.890625 \r\nQ 49.859375 40.875 45.40625 35.40625 \r\nQ 44.1875 33.984375 37.640625 27.21875 \r\nQ 31.109375 20.453125 19.1875 8.296875 \r\nz\r\n\" id=\"DejaVuSans-50\"/>\r\n       </defs>\r\n       <use xlink:href=\"#DejaVuSans-50\"/>\r\n      </g>\r\n     </g>\r\n    </g>\r\n    <g id=\"xtick_3\">\r\n     <g id=\"line2d_5\">\r\n      <path clip-path=\"url(#p3e6a0a5330)\" d=\"M 146.775852 224.64 \r\nL 146.775852 7.2 \r\n\" style=\"fill:none;stroke:#b0b0b0;stroke-linecap:square;stroke-width:0.8;\"/>\r\n     </g>\r\n     <g id=\"line2d_6\">\r\n      <g>\r\n       <use style=\"stroke:#000000;stroke-width:0.8;\" x=\"146.775852\" xlink:href=\"#m01a015f635\" y=\"224.64\"/>\r\n      </g>\r\n     </g>\r\n     <g id=\"text_3\">\r\n      <!-- 3 -->\r\n      <g transform=\"translate(143.594602 239.238437)scale(0.1 -0.1)\">\r\n       <defs>\r\n        <path d=\"M 40.578125 39.3125 \r\nQ 47.65625 37.796875 51.625 33 \r\nQ 55.609375 28.21875 55.609375 21.1875 \r\nQ 55.609375 10.40625 48.1875 4.484375 \r\nQ 40.765625 -1.421875 27.09375 -1.421875 \r\nQ 22.515625 -1.421875 17.65625 -0.515625 \r\nQ 12.796875 0.390625 7.625 2.203125 \r\nL 7.625 11.71875 \r\nQ 11.71875 9.328125 16.59375 8.109375 \r\nQ 21.484375 6.890625 26.8125 6.890625 \r\nQ 36.078125 6.890625 40.9375 10.546875 \r\nQ 45.796875 14.203125 45.796875 21.1875 \r\nQ 45.796875 27.640625 41.28125 31.265625 \r\nQ 36.765625 34.90625 28.71875 34.90625 \r\nL 20.21875 34.90625 \r\nL 20.21875 43.015625 \r\nL 29.109375 43.015625 \r\nQ 36.375 43.015625 40.234375 45.921875 \r\nQ 44.09375 48.828125 44.09375 54.296875 \r\nQ 44.09375 59.90625 40.109375 62.90625 \r\nQ 36.140625 65.921875 28.71875 65.921875 \r\nQ 24.65625 65.921875 20.015625 65.03125 \r\nQ 15.375 64.15625 9.8125 62.3125 \r\nL 9.8125 71.09375 \r\nQ 15.4375 72.65625 20.34375 73.4375 \r\nQ 25.25 74.21875 29.59375 74.21875 \r\nQ 40.828125 74.21875 47.359375 69.109375 \r\nQ 53.90625 64.015625 53.90625 55.328125 \r\nQ 53.90625 49.265625 50.4375 45.09375 \r\nQ 46.96875 40.921875 40.578125 39.3125 \r\nz\r\n\" id=\"DejaVuSans-51\"/>\r\n       </defs>\r\n       <use xlink:href=\"#DejaVuSans-51\"/>\r\n      </g>\r\n     </g>\r\n    </g>\r\n    <g id=\"xtick_4\">\r\n     <g id=\"line2d_7\">\r\n      <path clip-path=\"url(#p3e6a0a5330)\" d=\"M 197.503125 224.64 \r\nL 197.503125 7.2 \r\n\" style=\"fill:none;stroke:#b0b0b0;stroke-linecap:square;stroke-width:0.8;\"/>\r\n     </g>\r\n     <g id=\"line2d_8\">\r\n      <g>\r\n       <use style=\"stroke:#000000;stroke-width:0.8;\" x=\"197.503125\" xlink:href=\"#m01a015f635\" y=\"224.64\"/>\r\n      </g>\r\n     </g>\r\n     <g id=\"text_4\">\r\n      <!-- 4 -->\r\n      <g transform=\"translate(194.321875 239.238437)scale(0.1 -0.1)\">\r\n       <defs>\r\n        <path d=\"M 37.796875 64.3125 \r\nL 12.890625 25.390625 \r\nL 37.796875 25.390625 \r\nz\r\nM 35.203125 72.90625 \r\nL 47.609375 72.90625 \r\nL 47.609375 25.390625 \r\nL 58.015625 25.390625 \r\nL 58.015625 17.1875 \r\nL 47.609375 17.1875 \r\nL 47.609375 0 \r\nL 37.796875 0 \r\nL 37.796875 17.1875 \r\nL 4.890625 17.1875 \r\nL 4.890625 26.703125 \r\nz\r\n\" id=\"DejaVuSans-52\"/>\r\n       </defs>\r\n       <use xlink:href=\"#DejaVuSans-52\"/>\r\n      </g>\r\n     </g>\r\n    </g>\r\n    <g id=\"xtick_5\">\r\n     <g id=\"line2d_9\">\r\n      <path clip-path=\"url(#p3e6a0a5330)\" d=\"M 248.230398 224.64 \r\nL 248.230398 7.2 \r\n\" style=\"fill:none;stroke:#b0b0b0;stroke-linecap:square;stroke-width:0.8;\"/>\r\n     </g>\r\n     <g id=\"line2d_10\">\r\n      <g>\r\n       <use style=\"stroke:#000000;stroke-width:0.8;\" x=\"248.230398\" xlink:href=\"#m01a015f635\" y=\"224.64\"/>\r\n      </g>\r\n     </g>\r\n     <g id=\"text_5\">\r\n      <!-- 5 -->\r\n      <g transform=\"translate(245.049148 239.238437)scale(0.1 -0.1)\">\r\n       <defs>\r\n        <path d=\"M 10.796875 72.90625 \r\nL 49.515625 72.90625 \r\nL 49.515625 64.59375 \r\nL 19.828125 64.59375 \r\nL 19.828125 46.734375 \r\nQ 21.96875 47.46875 24.109375 47.828125 \r\nQ 26.265625 48.1875 28.421875 48.1875 \r\nQ 40.625 48.1875 47.75 41.5 \r\nQ 54.890625 34.8125 54.890625 23.390625 \r\nQ 54.890625 11.625 47.5625 5.09375 \r\nQ 40.234375 -1.421875 26.90625 -1.421875 \r\nQ 22.3125 -1.421875 17.546875 -0.640625 \r\nQ 12.796875 0.140625 7.71875 1.703125 \r\nL 7.71875 11.625 \r\nQ 12.109375 9.234375 16.796875 8.0625 \r\nQ 21.484375 6.890625 26.703125 6.890625 \r\nQ 35.15625 6.890625 40.078125 11.328125 \r\nQ 45.015625 15.765625 45.015625 23.390625 \r\nQ 45.015625 31 40.078125 35.4375 \r\nQ 35.15625 39.890625 26.703125 39.890625 \r\nQ 22.75 39.890625 18.8125 39.015625 \r\nQ 14.890625 38.140625 10.796875 36.28125 \r\nz\r\n\" id=\"DejaVuSans-53\"/>\r\n       </defs>\r\n       <use xlink:href=\"#DejaVuSans-53\"/>\r\n      </g>\r\n     </g>\r\n    </g>\r\n    <g id=\"xtick_6\">\r\n     <g id=\"line2d_11\">\r\n      <path clip-path=\"url(#p3e6a0a5330)\" d=\"M 298.95767 224.64 \r\nL 298.95767 7.2 \r\n\" style=\"fill:none;stroke:#b0b0b0;stroke-linecap:square;stroke-width:0.8;\"/>\r\n     </g>\r\n     <g id=\"line2d_12\">\r\n      <g>\r\n       <use style=\"stroke:#000000;stroke-width:0.8;\" x=\"298.95767\" xlink:href=\"#m01a015f635\" y=\"224.64\"/>\r\n      </g>\r\n     </g>\r\n     <g id=\"text_6\">\r\n      <!-- 6 -->\r\n      <g transform=\"translate(295.77642 239.238437)scale(0.1 -0.1)\">\r\n       <defs>\r\n        <path d=\"M 33.015625 40.375 \r\nQ 26.375 40.375 22.484375 35.828125 \r\nQ 18.609375 31.296875 18.609375 23.390625 \r\nQ 18.609375 15.53125 22.484375 10.953125 \r\nQ 26.375 6.390625 33.015625 6.390625 \r\nQ 39.65625 6.390625 43.53125 10.953125 \r\nQ 47.40625 15.53125 47.40625 23.390625 \r\nQ 47.40625 31.296875 43.53125 35.828125 \r\nQ 39.65625 40.375 33.015625 40.375 \r\nz\r\nM 52.59375 71.296875 \r\nL 52.59375 62.3125 \r\nQ 48.875 64.0625 45.09375 64.984375 \r\nQ 41.3125 65.921875 37.59375 65.921875 \r\nQ 27.828125 65.921875 22.671875 59.328125 \r\nQ 17.53125 52.734375 16.796875 39.40625 \r\nQ 19.671875 43.65625 24.015625 45.921875 \r\nQ 28.375 48.1875 33.59375 48.1875 \r\nQ 44.578125 48.1875 50.953125 41.515625 \r\nQ 57.328125 34.859375 57.328125 23.390625 \r\nQ 57.328125 12.15625 50.6875 5.359375 \r\nQ 44.046875 -1.421875 33.015625 -1.421875 \r\nQ 20.359375 -1.421875 13.671875 8.265625 \r\nQ 6.984375 17.96875 6.984375 36.375 \r\nQ 6.984375 53.65625 15.1875 63.9375 \r\nQ 23.390625 74.21875 37.203125 74.21875 \r\nQ 40.921875 74.21875 44.703125 73.484375 \r\nQ 48.484375 72.75 52.59375 71.296875 \r\nz\r\n\" id=\"DejaVuSans-54\"/>\r\n       </defs>\r\n       <use xlink:href=\"#DejaVuSans-54\"/>\r\n      </g>\r\n     </g>\r\n    </g>\r\n    <g id=\"xtick_7\">\r\n     <g id=\"line2d_13\">\r\n      <path clip-path=\"url(#p3e6a0a5330)\" d=\"M 349.684943 224.64 \r\nL 349.684943 7.2 \r\n\" style=\"fill:none;stroke:#b0b0b0;stroke-linecap:square;stroke-width:0.8;\"/>\r\n     </g>\r\n     <g id=\"line2d_14\">\r\n      <g>\r\n       <use style=\"stroke:#000000;stroke-width:0.8;\" x=\"349.684943\" xlink:href=\"#m01a015f635\" y=\"224.64\"/>\r\n      </g>\r\n     </g>\r\n     <g id=\"text_7\">\r\n      <!-- 7 -->\r\n      <g transform=\"translate(346.503693 239.238437)scale(0.1 -0.1)\">\r\n       <defs>\r\n        <path d=\"M 8.203125 72.90625 \r\nL 55.078125 72.90625 \r\nL 55.078125 68.703125 \r\nL 28.609375 0 \r\nL 18.3125 0 \r\nL 43.21875 64.59375 \r\nL 8.203125 64.59375 \r\nz\r\n\" id=\"DejaVuSans-55\"/>\r\n       </defs>\r\n       <use xlink:href=\"#DejaVuSans-55\"/>\r\n      </g>\r\n     </g>\r\n    </g>\r\n   </g>\r\n   <g id=\"matplotlib.axis_2\">\r\n    <g id=\"ytick_1\">\r\n     <g id=\"line2d_15\">\r\n      <path clip-path=\"url(#p3e6a0a5330)\" d=\"M 30.103125 214.756364 \r\nL 364.903125 214.756364 \r\n\" style=\"fill:none;stroke:#b0b0b0;stroke-linecap:square;stroke-width:0.8;\"/>\r\n     </g>\r\n     <g id=\"line2d_16\">\r\n      <defs>\r\n       <path d=\"M 0 0 \r\nL -3.5 0 \r\n\" id=\"md94d19aac5\" style=\"stroke:#000000;stroke-width:0.8;\"/>\r\n      </defs>\r\n      <g>\r\n       <use style=\"stroke:#000000;stroke-width:0.8;\" x=\"30.103125\" xlink:href=\"#md94d19aac5\" y=\"214.756364\"/>\r\n      </g>\r\n     </g>\r\n     <g id=\"text_8\">\r\n      <!-- 3.5 -->\r\n      <g transform=\"translate(7.2 218.555582)scale(0.1 -0.1)\">\r\n       <defs>\r\n        <path d=\"M 10.6875 12.40625 \r\nL 21 12.40625 \r\nL 21 0 \r\nL 10.6875 0 \r\nz\r\n\" id=\"DejaVuSans-46\"/>\r\n       </defs>\r\n       <use xlink:href=\"#DejaVuSans-51\"/>\r\n       <use x=\"63.623047\" xlink:href=\"#DejaVuSans-46\"/>\r\n       <use x=\"95.410156\" xlink:href=\"#DejaVuSans-53\"/>\r\n      </g>\r\n     </g>\r\n    </g>\r\n    <g id=\"ytick_2\">\r\n     <g id=\"line2d_17\">\r\n      <path clip-path=\"url(#p3e6a0a5330)\" d=\"M 30.103125 186.517403 \r\nL 364.903125 186.517403 \r\n\" style=\"fill:none;stroke:#b0b0b0;stroke-linecap:square;stroke-width:0.8;\"/>\r\n     </g>\r\n     <g id=\"line2d_18\">\r\n      <g>\r\n       <use style=\"stroke:#000000;stroke-width:0.8;\" x=\"30.103125\" xlink:href=\"#md94d19aac5\" y=\"186.517403\"/>\r\n      </g>\r\n     </g>\r\n     <g id=\"text_9\">\r\n      <!-- 4.0 -->\r\n      <g transform=\"translate(7.2 190.316621)scale(0.1 -0.1)\">\r\n       <defs>\r\n        <path d=\"M 31.78125 66.40625 \r\nQ 24.171875 66.40625 20.328125 58.90625 \r\nQ 16.5 51.421875 16.5 36.375 \r\nQ 16.5 21.390625 20.328125 13.890625 \r\nQ 24.171875 6.390625 31.78125 6.390625 \r\nQ 39.453125 6.390625 43.28125 13.890625 \r\nQ 47.125 21.390625 47.125 36.375 \r\nQ 47.125 51.421875 43.28125 58.90625 \r\nQ 39.453125 66.40625 31.78125 66.40625 \r\nz\r\nM 31.78125 74.21875 \r\nQ 44.046875 74.21875 50.515625 64.515625 \r\nQ 56.984375 54.828125 56.984375 36.375 \r\nQ 56.984375 17.96875 50.515625 8.265625 \r\nQ 44.046875 -1.421875 31.78125 -1.421875 \r\nQ 19.53125 -1.421875 13.0625 8.265625 \r\nQ 6.59375 17.96875 6.59375 36.375 \r\nQ 6.59375 54.828125 13.0625 64.515625 \r\nQ 19.53125 74.21875 31.78125 74.21875 \r\nz\r\n\" id=\"DejaVuSans-48\"/>\r\n       </defs>\r\n       <use xlink:href=\"#DejaVuSans-52\"/>\r\n       <use x=\"63.623047\" xlink:href=\"#DejaVuSans-46\"/>\r\n       <use x=\"95.410156\" xlink:href=\"#DejaVuSans-48\"/>\r\n      </g>\r\n     </g>\r\n    </g>\r\n    <g id=\"ytick_3\">\r\n     <g id=\"line2d_19\">\r\n      <path clip-path=\"url(#p3e6a0a5330)\" d=\"M 30.103125 158.278442 \r\nL 364.903125 158.278442 \r\n\" style=\"fill:none;stroke:#b0b0b0;stroke-linecap:square;stroke-width:0.8;\"/>\r\n     </g>\r\n     <g id=\"line2d_20\">\r\n      <g>\r\n       <use style=\"stroke:#000000;stroke-width:0.8;\" x=\"30.103125\" xlink:href=\"#md94d19aac5\" y=\"158.278442\"/>\r\n      </g>\r\n     </g>\r\n     <g id=\"text_10\">\r\n      <!-- 4.5 -->\r\n      <g transform=\"translate(7.2 162.07766)scale(0.1 -0.1)\">\r\n       <use xlink:href=\"#DejaVuSans-52\"/>\r\n       <use x=\"63.623047\" xlink:href=\"#DejaVuSans-46\"/>\r\n       <use x=\"95.410156\" xlink:href=\"#DejaVuSans-53\"/>\r\n      </g>\r\n     </g>\r\n    </g>\r\n    <g id=\"ytick_4\">\r\n     <g id=\"line2d_21\">\r\n      <path clip-path=\"url(#p3e6a0a5330)\" d=\"M 30.103125 130.039481 \r\nL 364.903125 130.039481 \r\n\" style=\"fill:none;stroke:#b0b0b0;stroke-linecap:square;stroke-width:0.8;\"/>\r\n     </g>\r\n     <g id=\"line2d_22\">\r\n      <g>\r\n       <use style=\"stroke:#000000;stroke-width:0.8;\" x=\"30.103125\" xlink:href=\"#md94d19aac5\" y=\"130.039481\"/>\r\n      </g>\r\n     </g>\r\n     <g id=\"text_11\">\r\n      <!-- 5.0 -->\r\n      <g transform=\"translate(7.2 133.838699)scale(0.1 -0.1)\">\r\n       <use xlink:href=\"#DejaVuSans-53\"/>\r\n       <use x=\"63.623047\" xlink:href=\"#DejaVuSans-46\"/>\r\n       <use x=\"95.410156\" xlink:href=\"#DejaVuSans-48\"/>\r\n      </g>\r\n     </g>\r\n    </g>\r\n    <g id=\"ytick_5\">\r\n     <g id=\"line2d_23\">\r\n      <path clip-path=\"url(#p3e6a0a5330)\" d=\"M 30.103125 101.800519 \r\nL 364.903125 101.800519 \r\n\" style=\"fill:none;stroke:#b0b0b0;stroke-linecap:square;stroke-width:0.8;\"/>\r\n     </g>\r\n     <g id=\"line2d_24\">\r\n      <g>\r\n       <use style=\"stroke:#000000;stroke-width:0.8;\" x=\"30.103125\" xlink:href=\"#md94d19aac5\" y=\"101.800519\"/>\r\n      </g>\r\n     </g>\r\n     <g id=\"text_12\">\r\n      <!-- 5.5 -->\r\n      <g transform=\"translate(7.2 105.599738)scale(0.1 -0.1)\">\r\n       <use xlink:href=\"#DejaVuSans-53\"/>\r\n       <use x=\"63.623047\" xlink:href=\"#DejaVuSans-46\"/>\r\n       <use x=\"95.410156\" xlink:href=\"#DejaVuSans-53\"/>\r\n      </g>\r\n     </g>\r\n    </g>\r\n    <g id=\"ytick_6\">\r\n     <g id=\"line2d_25\">\r\n      <path clip-path=\"url(#p3e6a0a5330)\" d=\"M 30.103125 73.561558 \r\nL 364.903125 73.561558 \r\n\" style=\"fill:none;stroke:#b0b0b0;stroke-linecap:square;stroke-width:0.8;\"/>\r\n     </g>\r\n     <g id=\"line2d_26\">\r\n      <g>\r\n       <use style=\"stroke:#000000;stroke-width:0.8;\" x=\"30.103125\" xlink:href=\"#md94d19aac5\" y=\"73.561558\"/>\r\n      </g>\r\n     </g>\r\n     <g id=\"text_13\">\r\n      <!-- 6.0 -->\r\n      <g transform=\"translate(7.2 77.360777)scale(0.1 -0.1)\">\r\n       <use xlink:href=\"#DejaVuSans-54\"/>\r\n       <use x=\"63.623047\" xlink:href=\"#DejaVuSans-46\"/>\r\n       <use x=\"95.410156\" xlink:href=\"#DejaVuSans-48\"/>\r\n      </g>\r\n     </g>\r\n    </g>\r\n    <g id=\"ytick_7\">\r\n     <g id=\"line2d_27\">\r\n      <path clip-path=\"url(#p3e6a0a5330)\" d=\"M 30.103125 45.322597 \r\nL 364.903125 45.322597 \r\n\" style=\"fill:none;stroke:#b0b0b0;stroke-linecap:square;stroke-width:0.8;\"/>\r\n     </g>\r\n     <g id=\"line2d_28\">\r\n      <g>\r\n       <use style=\"stroke:#000000;stroke-width:0.8;\" x=\"30.103125\" xlink:href=\"#md94d19aac5\" y=\"45.322597\"/>\r\n      </g>\r\n     </g>\r\n     <g id=\"text_14\">\r\n      <!-- 6.5 -->\r\n      <g transform=\"translate(7.2 49.121816)scale(0.1 -0.1)\">\r\n       <use xlink:href=\"#DejaVuSans-54\"/>\r\n       <use x=\"63.623047\" xlink:href=\"#DejaVuSans-46\"/>\r\n       <use x=\"95.410156\" xlink:href=\"#DejaVuSans-53\"/>\r\n      </g>\r\n     </g>\r\n    </g>\r\n    <g id=\"ytick_8\">\r\n     <g id=\"line2d_29\">\r\n      <path clip-path=\"url(#p3e6a0a5330)\" d=\"M 30.103125 17.083636 \r\nL 364.903125 17.083636 \r\n\" style=\"fill:none;stroke:#b0b0b0;stroke-linecap:square;stroke-width:0.8;\"/>\r\n     </g>\r\n     <g id=\"line2d_30\">\r\n      <g>\r\n       <use style=\"stroke:#000000;stroke-width:0.8;\" x=\"30.103125\" xlink:href=\"#md94d19aac5\" y=\"17.083636\"/>\r\n      </g>\r\n     </g>\r\n     <g id=\"text_15\">\r\n      <!-- 7.0 -->\r\n      <g transform=\"translate(7.2 20.882855)scale(0.1 -0.1)\">\r\n       <use xlink:href=\"#DejaVuSans-55\"/>\r\n       <use x=\"63.623047\" xlink:href=\"#DejaVuSans-46\"/>\r\n       <use x=\"95.410156\" xlink:href=\"#DejaVuSans-48\"/>\r\n      </g>\r\n     </g>\r\n    </g>\r\n   </g>\r\n   <g id=\"patch_3\">\r\n    <path d=\"M 30.103125 224.64 \r\nL 30.103125 7.2 \r\n\" style=\"fill:none;stroke:#000000;stroke-linecap:square;stroke-linejoin:miter;stroke-width:0.8;\"/>\r\n   </g>\r\n   <g id=\"patch_4\">\r\n    <path d=\"M 364.903125 224.64 \r\nL 364.903125 7.2 \r\n\" style=\"fill:none;stroke:#000000;stroke-linecap:square;stroke-linejoin:miter;stroke-width:0.8;\"/>\r\n   </g>\r\n   <g id=\"patch_5\">\r\n    <path d=\"M 30.103125 224.64 \r\nL 364.903125 224.64 \r\n\" style=\"fill:none;stroke:#000000;stroke-linecap:square;stroke-linejoin:miter;stroke-width:0.8;\"/>\r\n   </g>\r\n   <g id=\"patch_6\">\r\n    <path d=\"M 30.103125 7.2 \r\nL 364.903125 7.2 \r\n\" style=\"fill:none;stroke:#000000;stroke-linecap:square;stroke-linejoin:miter;stroke-width:0.8;\"/>\r\n   </g>\r\n  </g>\r\n </g>\r\n <defs>\r\n  <clipPath id=\"p3e6a0a5330\">\r\n   <rect height=\"217.44\" width=\"334.8\" x=\"30.103125\" y=\"7.2\"/>\r\n  </clipPath>\r\n </defs>\r\n</svg>\r\n"
     },
     "metadata": {
      "needs_background": "light"
     }
    }
   ],
   "source": [
    "plt.scatter(x, y)\n",
    "plt.grid()\n",
    "plt.show()"
   ]
  },
  {
   "source": [
    "## Задание 2\n",
    "С помощью функции linspace из библиотеки Numpy создайте массив t из 51 числа от 0 до 10\n",
    "включительно.\n",
    "\n",
    "Создайте массив Numpy под названием f, содержащий косинусы элементов массива t.\n",
    "Постройте линейную диаграмму, используя массив t для координат по горизонтали,а массив f - для\n",
    "координат по вертикали. Линия графика должна быть зеленого цвета.\n",
    "\n",
    "Выведите название диаграммы - 'График f(t)'. Также добавьте названия для горизонтальной оси -\n",
    "'Значения t' и для вертикальной - 'Значения f'.\n",
    "\n",
    "Ограничьте график по оси x значениями 0.5 и 9.5, а по оси y - значениями -2.5 и 2.5."
   ],
   "cell_type": "markdown",
   "metadata": {}
  },
  {
   "cell_type": "code",
   "execution_count": 4,
   "metadata": {},
   "outputs": [
    {
     "output_type": "display_data",
     "data": {
      "text/plain": "<Figure size 432x288 with 1 Axes>",
      "image/svg+xml": "<?xml version=\"1.0\" encoding=\"utf-8\" standalone=\"no\"?>\r\n<!DOCTYPE svg PUBLIC \"-//W3C//DTD SVG 1.1//EN\"\r\n  \"http://www.w3.org/Graphics/SVG/1.1/DTD/svg11.dtd\">\r\n<!-- Created with matplotlib (https://matplotlib.org/) -->\r\n<svg height=\"279.385938pt\" version=\"1.1\" viewBox=\"0 0 383.6525 279.385938\" width=\"383.6525pt\" xmlns=\"http://www.w3.org/2000/svg\" xmlns:xlink=\"http://www.w3.org/1999/xlink\">\r\n <metadata>\r\n  <rdf:RDF xmlns:cc=\"http://creativecommons.org/ns#\" xmlns:dc=\"http://purl.org/dc/elements/1.1/\" xmlns:rdf=\"http://www.w3.org/1999/02/22-rdf-syntax-ns#\">\r\n   <cc:Work>\r\n    <dc:type rdf:resource=\"http://purl.org/dc/dcmitype/StillImage\"/>\r\n    <dc:date>2021-06-06T20:46:48.292479</dc:date>\r\n    <dc:format>image/svg+xml</dc:format>\r\n    <dc:creator>\r\n     <cc:Agent>\r\n      <dc:title>Matplotlib v3.3.3, https://matplotlib.org/</dc:title>\r\n     </cc:Agent>\r\n    </dc:creator>\r\n   </cc:Work>\r\n  </rdf:RDF>\r\n </metadata>\r\n <defs>\r\n  <style type=\"text/css\">*{stroke-linecap:butt;stroke-linejoin:round;}</style>\r\n </defs>\r\n <g id=\"figure_1\">\r\n  <g id=\"patch_1\">\r\n   <path d=\"M 0 279.385938 \r\nL 383.6525 279.385938 \r\nL 383.6525 0 \r\nL 0 0 \r\nz\r\n\" style=\"fill:none;\"/>\r\n  </g>\r\n  <g id=\"axes_1\">\r\n   <g id=\"patch_2\">\r\n    <path d=\"M 41.6525 242.7975 \r\nL 376.4525 242.7975 \r\nL 376.4525 25.3575 \r\nL 41.6525 25.3575 \r\nz\r\n\" style=\"fill:#ffffff;\"/>\r\n   </g>\r\n   <g id=\"matplotlib.axis_1\">\r\n    <g id=\"xtick_1\">\r\n     <g id=\"line2d_1\">\r\n      <path clip-path=\"url(#paf0b5e7da4)\" d=\"M 60.2525 242.7975 \r\nL 60.2525 25.3575 \r\n\" style=\"fill:none;stroke:#b0b0b0;stroke-linecap:square;stroke-width:0.8;\"/>\r\n     </g>\r\n     <g id=\"line2d_2\">\r\n      <defs>\r\n       <path d=\"M 0 0 \r\nL 0 3.5 \r\n\" id=\"m2386098577\" style=\"stroke:#000000;stroke-width:0.8;\"/>\r\n      </defs>\r\n      <g>\r\n       <use style=\"stroke:#000000;stroke-width:0.8;\" x=\"60.2525\" xlink:href=\"#m2386098577\" y=\"242.7975\"/>\r\n      </g>\r\n     </g>\r\n     <g id=\"text_1\">\r\n      <!-- 1 -->\r\n      <g transform=\"translate(57.07125 257.395938)scale(0.1 -0.1)\">\r\n       <defs>\r\n        <path d=\"M 12.40625 8.296875 \r\nL 28.515625 8.296875 \r\nL 28.515625 63.921875 \r\nL 10.984375 60.40625 \r\nL 10.984375 69.390625 \r\nL 28.421875 72.90625 \r\nL 38.28125 72.90625 \r\nL 38.28125 8.296875 \r\nL 54.390625 8.296875 \r\nL 54.390625 0 \r\nL 12.40625 0 \r\nz\r\n\" id=\"DejaVuSans-49\"/>\r\n       </defs>\r\n       <use xlink:href=\"#DejaVuSans-49\"/>\r\n      </g>\r\n     </g>\r\n    </g>\r\n    <g id=\"xtick_2\">\r\n     <g id=\"line2d_3\">\r\n      <path clip-path=\"url(#paf0b5e7da4)\" d=\"M 97.4525 242.7975 \r\nL 97.4525 25.3575 \r\n\" style=\"fill:none;stroke:#b0b0b0;stroke-linecap:square;stroke-width:0.8;\"/>\r\n     </g>\r\n     <g id=\"line2d_4\">\r\n      <g>\r\n       <use style=\"stroke:#000000;stroke-width:0.8;\" x=\"97.4525\" xlink:href=\"#m2386098577\" y=\"242.7975\"/>\r\n      </g>\r\n     </g>\r\n     <g id=\"text_2\">\r\n      <!-- 2 -->\r\n      <g transform=\"translate(94.27125 257.395938)scale(0.1 -0.1)\">\r\n       <defs>\r\n        <path d=\"M 19.1875 8.296875 \r\nL 53.609375 8.296875 \r\nL 53.609375 0 \r\nL 7.328125 0 \r\nL 7.328125 8.296875 \r\nQ 12.9375 14.109375 22.625 23.890625 \r\nQ 32.328125 33.6875 34.8125 36.53125 \r\nQ 39.546875 41.84375 41.421875 45.53125 \r\nQ 43.3125 49.21875 43.3125 52.78125 \r\nQ 43.3125 58.59375 39.234375 62.25 \r\nQ 35.15625 65.921875 28.609375 65.921875 \r\nQ 23.96875 65.921875 18.8125 64.3125 \r\nQ 13.671875 62.703125 7.8125 59.421875 \r\nL 7.8125 69.390625 \r\nQ 13.765625 71.78125 18.9375 73 \r\nQ 24.125 74.21875 28.421875 74.21875 \r\nQ 39.75 74.21875 46.484375 68.546875 \r\nQ 53.21875 62.890625 53.21875 53.421875 \r\nQ 53.21875 48.921875 51.53125 44.890625 \r\nQ 49.859375 40.875 45.40625 35.40625 \r\nQ 44.1875 33.984375 37.640625 27.21875 \r\nQ 31.109375 20.453125 19.1875 8.296875 \r\nz\r\n\" id=\"DejaVuSans-50\"/>\r\n       </defs>\r\n       <use xlink:href=\"#DejaVuSans-50\"/>\r\n      </g>\r\n     </g>\r\n    </g>\r\n    <g id=\"xtick_3\">\r\n     <g id=\"line2d_5\">\r\n      <path clip-path=\"url(#paf0b5e7da4)\" d=\"M 134.6525 242.7975 \r\nL 134.6525 25.3575 \r\n\" style=\"fill:none;stroke:#b0b0b0;stroke-linecap:square;stroke-width:0.8;\"/>\r\n     </g>\r\n     <g id=\"line2d_6\">\r\n      <g>\r\n       <use style=\"stroke:#000000;stroke-width:0.8;\" x=\"134.6525\" xlink:href=\"#m2386098577\" y=\"242.7975\"/>\r\n      </g>\r\n     </g>\r\n     <g id=\"text_3\">\r\n      <!-- 3 -->\r\n      <g transform=\"translate(131.47125 257.395938)scale(0.1 -0.1)\">\r\n       <defs>\r\n        <path d=\"M 40.578125 39.3125 \r\nQ 47.65625 37.796875 51.625 33 \r\nQ 55.609375 28.21875 55.609375 21.1875 \r\nQ 55.609375 10.40625 48.1875 4.484375 \r\nQ 40.765625 -1.421875 27.09375 -1.421875 \r\nQ 22.515625 -1.421875 17.65625 -0.515625 \r\nQ 12.796875 0.390625 7.625 2.203125 \r\nL 7.625 11.71875 \r\nQ 11.71875 9.328125 16.59375 8.109375 \r\nQ 21.484375 6.890625 26.8125 6.890625 \r\nQ 36.078125 6.890625 40.9375 10.546875 \r\nQ 45.796875 14.203125 45.796875 21.1875 \r\nQ 45.796875 27.640625 41.28125 31.265625 \r\nQ 36.765625 34.90625 28.71875 34.90625 \r\nL 20.21875 34.90625 \r\nL 20.21875 43.015625 \r\nL 29.109375 43.015625 \r\nQ 36.375 43.015625 40.234375 45.921875 \r\nQ 44.09375 48.828125 44.09375 54.296875 \r\nQ 44.09375 59.90625 40.109375 62.90625 \r\nQ 36.140625 65.921875 28.71875 65.921875 \r\nQ 24.65625 65.921875 20.015625 65.03125 \r\nQ 15.375 64.15625 9.8125 62.3125 \r\nL 9.8125 71.09375 \r\nQ 15.4375 72.65625 20.34375 73.4375 \r\nQ 25.25 74.21875 29.59375 74.21875 \r\nQ 40.828125 74.21875 47.359375 69.109375 \r\nQ 53.90625 64.015625 53.90625 55.328125 \r\nQ 53.90625 49.265625 50.4375 45.09375 \r\nQ 46.96875 40.921875 40.578125 39.3125 \r\nz\r\n\" id=\"DejaVuSans-51\"/>\r\n       </defs>\r\n       <use xlink:href=\"#DejaVuSans-51\"/>\r\n      </g>\r\n     </g>\r\n    </g>\r\n    <g id=\"xtick_4\">\r\n     <g id=\"line2d_7\">\r\n      <path clip-path=\"url(#paf0b5e7da4)\" d=\"M 171.8525 242.7975 \r\nL 171.8525 25.3575 \r\n\" style=\"fill:none;stroke:#b0b0b0;stroke-linecap:square;stroke-width:0.8;\"/>\r\n     </g>\r\n     <g id=\"line2d_8\">\r\n      <g>\r\n       <use style=\"stroke:#000000;stroke-width:0.8;\" x=\"171.8525\" xlink:href=\"#m2386098577\" y=\"242.7975\"/>\r\n      </g>\r\n     </g>\r\n     <g id=\"text_4\">\r\n      <!-- 4 -->\r\n      <g transform=\"translate(168.67125 257.395938)scale(0.1 -0.1)\">\r\n       <defs>\r\n        <path d=\"M 37.796875 64.3125 \r\nL 12.890625 25.390625 \r\nL 37.796875 25.390625 \r\nz\r\nM 35.203125 72.90625 \r\nL 47.609375 72.90625 \r\nL 47.609375 25.390625 \r\nL 58.015625 25.390625 \r\nL 58.015625 17.1875 \r\nL 47.609375 17.1875 \r\nL 47.609375 0 \r\nL 37.796875 0 \r\nL 37.796875 17.1875 \r\nL 4.890625 17.1875 \r\nL 4.890625 26.703125 \r\nz\r\n\" id=\"DejaVuSans-52\"/>\r\n       </defs>\r\n       <use xlink:href=\"#DejaVuSans-52\"/>\r\n      </g>\r\n     </g>\r\n    </g>\r\n    <g id=\"xtick_5\">\r\n     <g id=\"line2d_9\">\r\n      <path clip-path=\"url(#paf0b5e7da4)\" d=\"M 209.0525 242.7975 \r\nL 209.0525 25.3575 \r\n\" style=\"fill:none;stroke:#b0b0b0;stroke-linecap:square;stroke-width:0.8;\"/>\r\n     </g>\r\n     <g id=\"line2d_10\">\r\n      <g>\r\n       <use style=\"stroke:#000000;stroke-width:0.8;\" x=\"209.0525\" xlink:href=\"#m2386098577\" y=\"242.7975\"/>\r\n      </g>\r\n     </g>\r\n     <g id=\"text_5\">\r\n      <!-- 5 -->\r\n      <g transform=\"translate(205.87125 257.395938)scale(0.1 -0.1)\">\r\n       <defs>\r\n        <path d=\"M 10.796875 72.90625 \r\nL 49.515625 72.90625 \r\nL 49.515625 64.59375 \r\nL 19.828125 64.59375 \r\nL 19.828125 46.734375 \r\nQ 21.96875 47.46875 24.109375 47.828125 \r\nQ 26.265625 48.1875 28.421875 48.1875 \r\nQ 40.625 48.1875 47.75 41.5 \r\nQ 54.890625 34.8125 54.890625 23.390625 \r\nQ 54.890625 11.625 47.5625 5.09375 \r\nQ 40.234375 -1.421875 26.90625 -1.421875 \r\nQ 22.3125 -1.421875 17.546875 -0.640625 \r\nQ 12.796875 0.140625 7.71875 1.703125 \r\nL 7.71875 11.625 \r\nQ 12.109375 9.234375 16.796875 8.0625 \r\nQ 21.484375 6.890625 26.703125 6.890625 \r\nQ 35.15625 6.890625 40.078125 11.328125 \r\nQ 45.015625 15.765625 45.015625 23.390625 \r\nQ 45.015625 31 40.078125 35.4375 \r\nQ 35.15625 39.890625 26.703125 39.890625 \r\nQ 22.75 39.890625 18.8125 39.015625 \r\nQ 14.890625 38.140625 10.796875 36.28125 \r\nz\r\n\" id=\"DejaVuSans-53\"/>\r\n       </defs>\r\n       <use xlink:href=\"#DejaVuSans-53\"/>\r\n      </g>\r\n     </g>\r\n    </g>\r\n    <g id=\"xtick_6\">\r\n     <g id=\"line2d_11\">\r\n      <path clip-path=\"url(#paf0b5e7da4)\" d=\"M 246.2525 242.7975 \r\nL 246.2525 25.3575 \r\n\" style=\"fill:none;stroke:#b0b0b0;stroke-linecap:square;stroke-width:0.8;\"/>\r\n     </g>\r\n     <g id=\"line2d_12\">\r\n      <g>\r\n       <use style=\"stroke:#000000;stroke-width:0.8;\" x=\"246.2525\" xlink:href=\"#m2386098577\" y=\"242.7975\"/>\r\n      </g>\r\n     </g>\r\n     <g id=\"text_6\">\r\n      <!-- 6 -->\r\n      <g transform=\"translate(243.07125 257.395938)scale(0.1 -0.1)\">\r\n       <defs>\r\n        <path d=\"M 33.015625 40.375 \r\nQ 26.375 40.375 22.484375 35.828125 \r\nQ 18.609375 31.296875 18.609375 23.390625 \r\nQ 18.609375 15.53125 22.484375 10.953125 \r\nQ 26.375 6.390625 33.015625 6.390625 \r\nQ 39.65625 6.390625 43.53125 10.953125 \r\nQ 47.40625 15.53125 47.40625 23.390625 \r\nQ 47.40625 31.296875 43.53125 35.828125 \r\nQ 39.65625 40.375 33.015625 40.375 \r\nz\r\nM 52.59375 71.296875 \r\nL 52.59375 62.3125 \r\nQ 48.875 64.0625 45.09375 64.984375 \r\nQ 41.3125 65.921875 37.59375 65.921875 \r\nQ 27.828125 65.921875 22.671875 59.328125 \r\nQ 17.53125 52.734375 16.796875 39.40625 \r\nQ 19.671875 43.65625 24.015625 45.921875 \r\nQ 28.375 48.1875 33.59375 48.1875 \r\nQ 44.578125 48.1875 50.953125 41.515625 \r\nQ 57.328125 34.859375 57.328125 23.390625 \r\nQ 57.328125 12.15625 50.6875 5.359375 \r\nQ 44.046875 -1.421875 33.015625 -1.421875 \r\nQ 20.359375 -1.421875 13.671875 8.265625 \r\nQ 6.984375 17.96875 6.984375 36.375 \r\nQ 6.984375 53.65625 15.1875 63.9375 \r\nQ 23.390625 74.21875 37.203125 74.21875 \r\nQ 40.921875 74.21875 44.703125 73.484375 \r\nQ 48.484375 72.75 52.59375 71.296875 \r\nz\r\n\" id=\"DejaVuSans-54\"/>\r\n       </defs>\r\n       <use xlink:href=\"#DejaVuSans-54\"/>\r\n      </g>\r\n     </g>\r\n    </g>\r\n    <g id=\"xtick_7\">\r\n     <g id=\"line2d_13\">\r\n      <path clip-path=\"url(#paf0b5e7da4)\" d=\"M 283.4525 242.7975 \r\nL 283.4525 25.3575 \r\n\" style=\"fill:none;stroke:#b0b0b0;stroke-linecap:square;stroke-width:0.8;\"/>\r\n     </g>\r\n     <g id=\"line2d_14\">\r\n      <g>\r\n       <use style=\"stroke:#000000;stroke-width:0.8;\" x=\"283.4525\" xlink:href=\"#m2386098577\" y=\"242.7975\"/>\r\n      </g>\r\n     </g>\r\n     <g id=\"text_7\">\r\n      <!-- 7 -->\r\n      <g transform=\"translate(280.27125 257.395938)scale(0.1 -0.1)\">\r\n       <defs>\r\n        <path d=\"M 8.203125 72.90625 \r\nL 55.078125 72.90625 \r\nL 55.078125 68.703125 \r\nL 28.609375 0 \r\nL 18.3125 0 \r\nL 43.21875 64.59375 \r\nL 8.203125 64.59375 \r\nz\r\n\" id=\"DejaVuSans-55\"/>\r\n       </defs>\r\n       <use xlink:href=\"#DejaVuSans-55\"/>\r\n      </g>\r\n     </g>\r\n    </g>\r\n    <g id=\"xtick_8\">\r\n     <g id=\"line2d_15\">\r\n      <path clip-path=\"url(#paf0b5e7da4)\" d=\"M 320.6525 242.7975 \r\nL 320.6525 25.3575 \r\n\" style=\"fill:none;stroke:#b0b0b0;stroke-linecap:square;stroke-width:0.8;\"/>\r\n     </g>\r\n     <g id=\"line2d_16\">\r\n      <g>\r\n       <use style=\"stroke:#000000;stroke-width:0.8;\" x=\"320.6525\" xlink:href=\"#m2386098577\" y=\"242.7975\"/>\r\n      </g>\r\n     </g>\r\n     <g id=\"text_8\">\r\n      <!-- 8 -->\r\n      <g transform=\"translate(317.47125 257.395938)scale(0.1 -0.1)\">\r\n       <defs>\r\n        <path d=\"M 31.78125 34.625 \r\nQ 24.75 34.625 20.71875 30.859375 \r\nQ 16.703125 27.09375 16.703125 20.515625 \r\nQ 16.703125 13.921875 20.71875 10.15625 \r\nQ 24.75 6.390625 31.78125 6.390625 \r\nQ 38.8125 6.390625 42.859375 10.171875 \r\nQ 46.921875 13.96875 46.921875 20.515625 \r\nQ 46.921875 27.09375 42.890625 30.859375 \r\nQ 38.875 34.625 31.78125 34.625 \r\nz\r\nM 21.921875 38.8125 \r\nQ 15.578125 40.375 12.03125 44.71875 \r\nQ 8.5 49.078125 8.5 55.328125 \r\nQ 8.5 64.0625 14.71875 69.140625 \r\nQ 20.953125 74.21875 31.78125 74.21875 \r\nQ 42.671875 74.21875 48.875 69.140625 \r\nQ 55.078125 64.0625 55.078125 55.328125 \r\nQ 55.078125 49.078125 51.53125 44.71875 \r\nQ 48 40.375 41.703125 38.8125 \r\nQ 48.828125 37.15625 52.796875 32.3125 \r\nQ 56.78125 27.484375 56.78125 20.515625 \r\nQ 56.78125 9.90625 50.3125 4.234375 \r\nQ 43.84375 -1.421875 31.78125 -1.421875 \r\nQ 19.734375 -1.421875 13.25 4.234375 \r\nQ 6.78125 9.90625 6.78125 20.515625 \r\nQ 6.78125 27.484375 10.78125 32.3125 \r\nQ 14.796875 37.15625 21.921875 38.8125 \r\nz\r\nM 18.3125 54.390625 \r\nQ 18.3125 48.734375 21.84375 45.5625 \r\nQ 25.390625 42.390625 31.78125 42.390625 \r\nQ 38.140625 42.390625 41.71875 45.5625 \r\nQ 45.3125 48.734375 45.3125 54.390625 \r\nQ 45.3125 60.0625 41.71875 63.234375 \r\nQ 38.140625 66.40625 31.78125 66.40625 \r\nQ 25.390625 66.40625 21.84375 63.234375 \r\nQ 18.3125 60.0625 18.3125 54.390625 \r\nz\r\n\" id=\"DejaVuSans-56\"/>\r\n       </defs>\r\n       <use xlink:href=\"#DejaVuSans-56\"/>\r\n      </g>\r\n     </g>\r\n    </g>\r\n    <g id=\"xtick_9\">\r\n     <g id=\"line2d_17\">\r\n      <path clip-path=\"url(#paf0b5e7da4)\" d=\"M 357.8525 242.7975 \r\nL 357.8525 25.3575 \r\n\" style=\"fill:none;stroke:#b0b0b0;stroke-linecap:square;stroke-width:0.8;\"/>\r\n     </g>\r\n     <g id=\"line2d_18\">\r\n      <g>\r\n       <use style=\"stroke:#000000;stroke-width:0.8;\" x=\"357.8525\" xlink:href=\"#m2386098577\" y=\"242.7975\"/>\r\n      </g>\r\n     </g>\r\n     <g id=\"text_9\">\r\n      <!-- 9 -->\r\n      <g transform=\"translate(354.67125 257.395938)scale(0.1 -0.1)\">\r\n       <defs>\r\n        <path d=\"M 10.984375 1.515625 \r\nL 10.984375 10.5 \r\nQ 14.703125 8.734375 18.5 7.8125 \r\nQ 22.3125 6.890625 25.984375 6.890625 \r\nQ 35.75 6.890625 40.890625 13.453125 \r\nQ 46.046875 20.015625 46.78125 33.40625 \r\nQ 43.953125 29.203125 39.59375 26.953125 \r\nQ 35.25 24.703125 29.984375 24.703125 \r\nQ 19.046875 24.703125 12.671875 31.3125 \r\nQ 6.296875 37.9375 6.296875 49.421875 \r\nQ 6.296875 60.640625 12.9375 67.421875 \r\nQ 19.578125 74.21875 30.609375 74.21875 \r\nQ 43.265625 74.21875 49.921875 64.515625 \r\nQ 56.59375 54.828125 56.59375 36.375 \r\nQ 56.59375 19.140625 48.40625 8.859375 \r\nQ 40.234375 -1.421875 26.421875 -1.421875 \r\nQ 22.703125 -1.421875 18.890625 -0.6875 \r\nQ 15.09375 0.046875 10.984375 1.515625 \r\nz\r\nM 30.609375 32.421875 \r\nQ 37.25 32.421875 41.125 36.953125 \r\nQ 45.015625 41.5 45.015625 49.421875 \r\nQ 45.015625 57.28125 41.125 61.84375 \r\nQ 37.25 66.40625 30.609375 66.40625 \r\nQ 23.96875 66.40625 20.09375 61.84375 \r\nQ 16.21875 57.28125 16.21875 49.421875 \r\nQ 16.21875 41.5 20.09375 36.953125 \r\nQ 23.96875 32.421875 30.609375 32.421875 \r\nz\r\n\" id=\"DejaVuSans-57\"/>\r\n       </defs>\r\n       <use xlink:href=\"#DejaVuSans-57\"/>\r\n      </g>\r\n     </g>\r\n    </g>\r\n    <g id=\"text_10\">\r\n     <!-- Значения t -->\r\n     <g transform=\"translate(182.850547 270.314219)scale(0.09 -0.09)\">\r\n      <defs>\r\n       <path d=\"M 6.296875 69.828125 \r\nQ 17.96875 74.21875 28.078125 74.21875 \r\nQ 41.21875 74.21875 47.21875 69.59375 \r\nQ 53.21875 64.984375 53.21875 56.78125 \r\nQ 53.21875 50.203125 49.0625 45.78125 \r\nQ 44.921875 41.359375 37.3125 39.796875 \r\nQ 46.296875 38.53125 51.25 33.28125 \r\nQ 56.203125 28.03125 56.203125 19.671875 \r\nQ 56.203125 9.46875 49.34375 4.015625 \r\nQ 42.484375 -1.421875 30.765625 -1.421875 \r\nQ 19.046875 -1.421875 13.15625 3.1875 \r\nQ 7.28125 7.8125 5.421875 12.9375 \r\nL 14.40625 12.9375 \r\nQ 14.75 10.15625 19.328125 6.78125 \r\nQ 23.921875 3.421875 30.5625 3.421875 \r\nQ 37.25 3.421875 41.578125 7.734375 \r\nQ 45.90625 12.0625 45.90625 20.125 \r\nQ 45.90625 28.171875 41.5 32.546875 \r\nQ 37.109375 36.921875 26.421875 36.921875 \r\nL 21.78125 36.921875 \r\nL 21.78125 42.09375 \r\nL 24.21875 42.09375 \r\nQ 34.859375 42.09375 39.078125 45.578125 \r\nQ 43.3125 49.078125 43.3125 55.859375 \r\nQ 43.3125 62.59375 39.796875 65.984375 \r\nQ 36.28125 69.390625 27.984375 69.390625 \r\nQ 19.671875 69.390625 16.03125 66.265625 \r\nQ 12.40625 63.140625 11.765625 56.984375 \r\nL 6.296875 56.984375 \r\nz\r\n\" id=\"DejaVuSerif-1047\"/>\r\n       <path d=\"M 53.265625 46.734375 \r\nL 53.265625 5.171875 \r\nL 61.375 5.171875 \r\nL 61.375 0 \r\nL 36.1875 0 \r\nL 36.1875 5.171875 \r\nL 44.28125 5.171875 \r\nL 44.28125 25.203125 \r\nL 20.515625 25.203125 \r\nL 20.515625 5.171875 \r\nL 28.609375 5.171875 \r\nL 28.609375 0 \r\nL 3.421875 0 \r\nL 3.421875 5.171875 \r\nL 11.53125 5.171875 \r\nL 11.53125 46.734375 \r\nL 3.421875 46.734375 \r\nL 3.421875 51.90625 \r\nL 28.609375 51.90625 \r\nL 28.609375 46.734375 \r\nL 20.515625 46.734375 \r\nL 20.515625 31.25 \r\nL 44.28125 31.25 \r\nL 44.28125 46.734375 \r\nL 36.1875 46.734375 \r\nL 36.1875 51.90625 \r\nL 61.375 51.90625 \r\nL 61.375 46.734375 \r\nz\r\n\" id=\"DejaVuSerif-1085\"/>\r\n       <path d=\"M 39.796875 16.3125 \r\nL 39.796875 27.296875 \r\nL 28.21875 27.296875 \r\nQ 21.53125 27.296875 18.25 24.40625 \r\nQ 14.984375 21.53125 14.984375 15.578125 \r\nQ 14.984375 10.15625 18.296875 6.984375 \r\nQ 21.625 3.8125 27.296875 3.8125 \r\nQ 32.90625 3.8125 36.34375 7.28125 \r\nQ 39.796875 10.75 39.796875 16.3125 \r\nz\r\nM 48.78125 32.421875 \r\nL 48.78125 5.171875 \r\nL 56.78125 5.171875 \r\nL 56.78125 0 \r\nL 39.796875 0 \r\nL 39.796875 5.609375 \r\nQ 36.8125 2 32.90625 0.28125 \r\nQ 29 -1.421875 23.78125 -1.421875 \r\nQ 15.140625 -1.421875 10.0625 3.171875 \r\nQ 4.984375 7.765625 4.984375 15.578125 \r\nQ 4.984375 23.640625 10.796875 28.078125 \r\nQ 16.609375 32.515625 27.203125 32.515625 \r\nL 39.796875 32.515625 \r\nL 39.796875 36.078125 \r\nQ 39.796875 42 36.203125 45.234375 \r\nQ 32.625 48.484375 26.125 48.484375 \r\nQ 20.75 48.484375 17.578125 46.046875 \r\nQ 14.40625 43.609375 13.625 38.8125 \r\nL 8.984375 38.8125 \r\nL 8.984375 49.3125 \r\nQ 13.671875 51.3125 18.09375 52.3125 \r\nQ 22.515625 53.328125 26.703125 53.328125 \r\nQ 37.5 53.328125 43.140625 47.96875 \r\nQ 48.78125 42.625 48.78125 32.421875 \r\nz\r\n\" id=\"DejaVuSerif-1072\"/>\r\n       <path d=\"M 60.796875 51.90625 \r\nL 60.796875 46.734375 \r\nL 52.6875 46.734375 \r\nL 52.6875 5.171875 \r\nL 60.796875 5.171875 \r\nL 60.796875 0 \r\nL 35.59375 0 \r\nL 35.59375 5.171875 \r\nL 43.703125 5.171875 \r\nL 43.703125 20.453125 \r\nL 23.484375 20.453125 \r\nQ 18.890625 20.453125 15.203125 23.890625 \r\nQ 11.53125 27.34375 11.53125 31.109375 \r\nL 11.53125 46.734375 \r\nL 3.421875 46.734375 \r\nL 3.421875 51.90625 \r\nL 28.328125 51.90625 \r\nL 28.328125 46.734375 \r\nL 20.515625 46.734375 \r\nL 20.515625 36.03125 \r\nQ 20.515625 30.421875 22.1875 28.46875 \r\nQ 23.875 26.515625 26.8125 26.515625 \r\nL 43.703125 26.515625 \r\nL 43.703125 46.734375 \r\nL 35.890625 46.734375 \r\nL 35.890625 51.90625 \r\nz\r\n\" id=\"DejaVuSerif-1095\"/>\r\n       <path d=\"M 54.203125 25 \r\nL 15.484375 25 \r\nL 15.484375 24.609375 \r\nQ 15.484375 14.109375 19.4375 8.765625 \r\nQ 23.390625 3.421875 31.109375 3.421875 \r\nQ 37.015625 3.421875 40.796875 6.515625 \r\nQ 44.578125 9.625 46.09375 15.71875 \r\nL 53.328125 15.71875 \r\nQ 51.171875 7.171875 45.375 2.875 \r\nQ 39.59375 -1.421875 30.171875 -1.421875 \r\nQ 18.796875 -1.421875 11.890625 6.078125 \r\nQ 4.984375 13.578125 4.984375 25.984375 \r\nQ 4.984375 38.28125 11.765625 45.796875 \r\nQ 18.5625 53.328125 29.59375 53.328125 \r\nQ 41.359375 53.328125 47.65625 46.0625 \r\nQ 53.953125 38.8125 54.203125 25 \r\nz\r\nM 43.609375 30.171875 \r\nQ 43.3125 39.265625 39.765625 43.875 \r\nQ 36.234375 48.484375 29.59375 48.484375 \r\nQ 23.390625 48.484375 19.828125 43.84375 \r\nQ 16.265625 39.203125 15.484375 30.171875 \r\nz\r\n\" id=\"DejaVuSerif-1077\"/>\r\n       <path d=\"M 3.421875 0 \r\nL 3.421875 5.171875 \r\nL 11.53125 5.171875 \r\nL 11.53125 46.734375 \r\nL 3.421875 46.734375 \r\nL 3.421875 51.90625 \r\nL 28.609375 51.90625 \r\nL 28.609375 46.734375 \r\nL 20.515625 46.734375 \r\nL 20.515625 16.9375 \r\nL 44.28125 42.09375 \r\nL 44.28125 46.734375 \r\nL 36.1875 46.734375 \r\nL 36.1875 51.90625 \r\nL 61.375 51.90625 \r\nL 61.375 46.734375 \r\nL 53.265625 46.734375 \r\nL 53.265625 5.171875 \r\nL 61.375 5.171875 \r\nL 61.375 0 \r\nL 36.1875 0 \r\nL 36.1875 5.171875 \r\nL 44.28125 5.171875 \r\nL 44.28125 34.1875 \r\nL 20.515625 9.03125 \r\nL 20.515625 5.171875 \r\nL 28.609375 5.171875 \r\nL 28.609375 0 \r\nz\r\n\" id=\"DejaVuSerif-1080\"/>\r\n       <path d=\"M 40.1875 29.15625 \r\nL 40.1875 46.734375 \r\nL 28.8125 46.734375 \r\nQ 23.53125 46.734375 21.046875 44.28125 \r\nQ 18.5625 41.84375 18.5625 37.984375 \r\nQ 18.5625 34.125 21.015625 31.640625 \r\nQ 23.484375 29.15625 28.8125 29.15625 \r\nz\r\nM 57.8125 51.90625 \r\nL 57.8125 46.734375 \r\nL 49.171875 46.734375 \r\nL 49.171875 5.171875 \r\nL 57.28125 5.171875 \r\nL 57.28125 0 \r\nL 32.375 0 \r\nL 32.375 5.171875 \r\nL 40.1875 5.171875 \r\nL 40.1875 24.125 \r\nL 32.171875 24.125 \r\nL 17.1875 0 \r\nL 3.171875 0 \r\nL 3.171875 5.171875 \r\nL 10.359375 5.171875 \r\nL 22.515625 24.75 \r\nQ 19.046875 25.6875 13.96875 28.8125 \r\nQ 8.890625 31.9375 8.890625 38.875 \r\nQ 8.890625 44.671875 13.015625 48.28125 \r\nQ 17.140625 51.90625 24.703125 51.90625 \r\nz\r\n\" id=\"DejaVuSerif-1103\"/>\r\n       <path id=\"DejaVuSerif-32\"/>\r\n       <path d=\"M 10.796875 46.6875 \r\nL 2.875 46.6875 \r\nL 2.875 51.90625 \r\nL 10.796875 51.90625 \r\nL 10.796875 68.015625 \r\nL 19.828125 68.015625 \r\nL 19.828125 51.90625 \r\nL 36.71875 51.90625 \r\nL 36.71875 46.6875 \r\nL 19.828125 46.6875 \r\nL 19.828125 13.71875 \r\nQ 19.828125 7.125 21.09375 5.265625 \r\nQ 22.359375 3.421875 25.78125 3.421875 \r\nQ 29.296875 3.421875 30.90625 5.484375 \r\nQ 32.515625 7.5625 32.625 12.203125 \r\nL 39.40625 12.203125 \r\nQ 39.015625 5.125 35.546875 1.84375 \r\nQ 32.078125 -1.421875 25 -1.421875 \r\nQ 17.234375 -1.421875 14.015625 2.015625 \r\nQ 10.796875 5.46875 10.796875 13.71875 \r\nz\r\n\" id=\"DejaVuSerif-116\"/>\r\n      </defs>\r\n      <use xlink:href=\"#DejaVuSerif-1047\"/>\r\n      <use x=\"62.304688\" xlink:href=\"#DejaVuSerif-1085\"/>\r\n      <use x=\"128.955078\" xlink:href=\"#DejaVuSerif-1072\"/>\r\n      <use x=\"188.574219\" xlink:href=\"#DejaVuSerif-1095\"/>\r\n      <use x=\"254.6875\" xlink:href=\"#DejaVuSerif-1077\"/>\r\n      <use x=\"313.867188\" xlink:href=\"#DejaVuSerif-1085\"/>\r\n      <use x=\"380.517578\" xlink:href=\"#DejaVuSerif-1080\"/>\r\n      <use x=\"447.167969\" xlink:href=\"#DejaVuSerif-1103\"/>\r\n      <use x=\"510.253906\" xlink:href=\"#DejaVuSerif-32\"/>\r\n      <use x=\"542.041016\" xlink:href=\"#DejaVuSerif-116\"/>\r\n     </g>\r\n    </g>\r\n   </g>\r\n   <g id=\"matplotlib.axis_2\">\r\n    <g id=\"ytick_1\">\r\n     <g id=\"line2d_19\">\r\n      <path clip-path=\"url(#paf0b5e7da4)\" d=\"M 41.6525 221.0535 \r\nL 376.4525 221.0535 \r\n\" style=\"fill:none;stroke:#b0b0b0;stroke-linecap:square;stroke-width:0.8;\"/>\r\n     </g>\r\n     <g id=\"line2d_20\">\r\n      <defs>\r\n       <path d=\"M 0 0 \r\nL -3.5 0 \r\n\" id=\"m46879250bd\" style=\"stroke:#000000;stroke-width:0.8;\"/>\r\n      </defs>\r\n      <g>\r\n       <use style=\"stroke:#000000;stroke-width:0.8;\" x=\"41.6525\" xlink:href=\"#m46879250bd\" y=\"221.0535\"/>\r\n      </g>\r\n     </g>\r\n     <g id=\"text_11\">\r\n      <!-- −2 -->\r\n      <g transform=\"translate(19.910313 224.852719)scale(0.1 -0.1)\">\r\n       <defs>\r\n        <path d=\"M 10.59375 35.5 \r\nL 73.1875 35.5 \r\nL 73.1875 27.203125 \r\nL 10.59375 27.203125 \r\nz\r\n\" id=\"DejaVuSans-8722\"/>\r\n       </defs>\r\n       <use xlink:href=\"#DejaVuSans-8722\"/>\r\n       <use x=\"83.789062\" xlink:href=\"#DejaVuSans-50\"/>\r\n      </g>\r\n     </g>\r\n    </g>\r\n    <g id=\"ytick_2\">\r\n     <g id=\"line2d_21\">\r\n      <path clip-path=\"url(#paf0b5e7da4)\" d=\"M 41.6525 177.5655 \r\nL 376.4525 177.5655 \r\n\" style=\"fill:none;stroke:#b0b0b0;stroke-linecap:square;stroke-width:0.8;\"/>\r\n     </g>\r\n     <g id=\"line2d_22\">\r\n      <g>\r\n       <use style=\"stroke:#000000;stroke-width:0.8;\" x=\"41.6525\" xlink:href=\"#m46879250bd\" y=\"177.5655\"/>\r\n      </g>\r\n     </g>\r\n     <g id=\"text_12\">\r\n      <!-- −1 -->\r\n      <g transform=\"translate(19.910313 181.364719)scale(0.1 -0.1)\">\r\n       <use xlink:href=\"#DejaVuSans-8722\"/>\r\n       <use x=\"83.789062\" xlink:href=\"#DejaVuSans-49\"/>\r\n      </g>\r\n     </g>\r\n    </g>\r\n    <g id=\"ytick_3\">\r\n     <g id=\"line2d_23\">\r\n      <path clip-path=\"url(#paf0b5e7da4)\" d=\"M 41.6525 134.0775 \r\nL 376.4525 134.0775 \r\n\" style=\"fill:none;stroke:#b0b0b0;stroke-linecap:square;stroke-width:0.8;\"/>\r\n     </g>\r\n     <g id=\"line2d_24\">\r\n      <g>\r\n       <use style=\"stroke:#000000;stroke-width:0.8;\" x=\"41.6525\" xlink:href=\"#m46879250bd\" y=\"134.0775\"/>\r\n      </g>\r\n     </g>\r\n     <g id=\"text_13\">\r\n      <!-- 0 -->\r\n      <g transform=\"translate(28.29 137.876719)scale(0.1 -0.1)\">\r\n       <defs>\r\n        <path d=\"M 31.78125 66.40625 \r\nQ 24.171875 66.40625 20.328125 58.90625 \r\nQ 16.5 51.421875 16.5 36.375 \r\nQ 16.5 21.390625 20.328125 13.890625 \r\nQ 24.171875 6.390625 31.78125 6.390625 \r\nQ 39.453125 6.390625 43.28125 13.890625 \r\nQ 47.125 21.390625 47.125 36.375 \r\nQ 47.125 51.421875 43.28125 58.90625 \r\nQ 39.453125 66.40625 31.78125 66.40625 \r\nz\r\nM 31.78125 74.21875 \r\nQ 44.046875 74.21875 50.515625 64.515625 \r\nQ 56.984375 54.828125 56.984375 36.375 \r\nQ 56.984375 17.96875 50.515625 8.265625 \r\nQ 44.046875 -1.421875 31.78125 -1.421875 \r\nQ 19.53125 -1.421875 13.0625 8.265625 \r\nQ 6.59375 17.96875 6.59375 36.375 \r\nQ 6.59375 54.828125 13.0625 64.515625 \r\nQ 19.53125 74.21875 31.78125 74.21875 \r\nz\r\n\" id=\"DejaVuSans-48\"/>\r\n       </defs>\r\n       <use xlink:href=\"#DejaVuSans-48\"/>\r\n      </g>\r\n     </g>\r\n    </g>\r\n    <g id=\"ytick_4\">\r\n     <g id=\"line2d_25\">\r\n      <path clip-path=\"url(#paf0b5e7da4)\" d=\"M 41.6525 90.5895 \r\nL 376.4525 90.5895 \r\n\" style=\"fill:none;stroke:#b0b0b0;stroke-linecap:square;stroke-width:0.8;\"/>\r\n     </g>\r\n     <g id=\"line2d_26\">\r\n      <g>\r\n       <use style=\"stroke:#000000;stroke-width:0.8;\" x=\"41.6525\" xlink:href=\"#m46879250bd\" y=\"90.5895\"/>\r\n      </g>\r\n     </g>\r\n     <g id=\"text_14\">\r\n      <!-- 1 -->\r\n      <g transform=\"translate(28.29 94.388719)scale(0.1 -0.1)\">\r\n       <use xlink:href=\"#DejaVuSans-49\"/>\r\n      </g>\r\n     </g>\r\n    </g>\r\n    <g id=\"ytick_5\">\r\n     <g id=\"line2d_27\">\r\n      <path clip-path=\"url(#paf0b5e7da4)\" d=\"M 41.6525 47.1015 \r\nL 376.4525 47.1015 \r\n\" style=\"fill:none;stroke:#b0b0b0;stroke-linecap:square;stroke-width:0.8;\"/>\r\n     </g>\r\n     <g id=\"line2d_28\">\r\n      <g>\r\n       <use style=\"stroke:#000000;stroke-width:0.8;\" x=\"41.6525\" xlink:href=\"#m46879250bd\" y=\"47.1015\"/>\r\n      </g>\r\n     </g>\r\n     <g id=\"text_15\">\r\n      <!-- 2 -->\r\n      <g transform=\"translate(28.29 50.900719)scale(0.1 -0.1)\">\r\n       <use xlink:href=\"#DejaVuSans-50\"/>\r\n      </g>\r\n     </g>\r\n    </g>\r\n    <g id=\"text_16\">\r\n     <!-- Значения f -->\r\n     <g transform=\"translate(14.038594 160.136719)rotate(-90)scale(0.09 -0.09)\">\r\n      <defs>\r\n       <path d=\"M 43.015625 63.71875 \r\nL 38.28125 63.71875 \r\nQ 38.234375 67.390625 36.203125 69.28125 \r\nQ 34.1875 71.1875 30.328125 71.1875 \r\nQ 25.296875 71.1875 23.234375 68.421875 \r\nQ 21.1875 65.671875 21.1875 58.59375 \r\nL 21.1875 51.90625 \r\nL 35.6875 51.90625 \r\nL 35.6875 46.6875 \r\nL 21.1875 46.6875 \r\nL 21.1875 5.171875 \r\nL 32.71875 5.171875 \r\nL 32.71875 0 \r\nL 3.609375 0 \r\nL 3.609375 5.171875 \r\nL 12.203125 5.171875 \r\nL 12.203125 46.6875 \r\nL 3.609375 46.6875 \r\nL 3.609375 51.90625 \r\nL 12.203125 51.90625 \r\nL 12.203125 58.40625 \r\nQ 12.203125 67.09375 16.71875 71.53125 \r\nQ 21.234375 75.984375 29.984375 75.984375 \r\nQ 33.25 75.984375 36.515625 75.390625 \r\nQ 39.796875 74.8125 43.015625 73.578125 \r\nz\r\n\" id=\"DejaVuSerif-102\"/>\r\n      </defs>\r\n      <use xlink:href=\"#DejaVuSerif-1047\"/>\r\n      <use x=\"62.304688\" xlink:href=\"#DejaVuSerif-1085\"/>\r\n      <use x=\"128.955078\" xlink:href=\"#DejaVuSerif-1072\"/>\r\n      <use x=\"188.574219\" xlink:href=\"#DejaVuSerif-1095\"/>\r\n      <use x=\"254.6875\" xlink:href=\"#DejaVuSerif-1077\"/>\r\n      <use x=\"313.867188\" xlink:href=\"#DejaVuSerif-1085\"/>\r\n      <use x=\"380.517578\" xlink:href=\"#DejaVuSerif-1080\"/>\r\n      <use x=\"447.167969\" xlink:href=\"#DejaVuSerif-1103\"/>\r\n      <use x=\"510.253906\" xlink:href=\"#DejaVuSerif-32\"/>\r\n      <use x=\"542.041016\" xlink:href=\"#DejaVuSerif-102\"/>\r\n     </g>\r\n    </g>\r\n   </g>\r\n   <g id=\"line2d_29\">\r\n    <path clip-path=\"url(#paf0b5e7da4)\" d=\"M 23.0525 90.5895 \r\nL 30.4925 91.456365 \r\nL 37.9325 94.022399 \r\nL 45.3725 98.185305 \r\nL 52.8125 103.779119 \r\nL 60.2525 110.580833 \r\nL 67.6925 118.319286 \r\nL 75.1325 126.685969 \r\nL 82.5725 135.347329 \r\nL 90.0125 143.958065 \r\nL 97.4525 152.174894 \r\nL 104.8925 159.670237 \r\nL 112.3325 166.145278 \r\nL 119.7725 171.341878 \r\nL 127.2125 175.052865 \r\nL 134.6525 177.130294 \r\nL 142.0925 177.491343 \r\nL 149.5325 176.12162 \r\nL 156.9725 173.07573 \r\nL 164.4125 168.475104 \r\nL 171.8525 162.503154 \r\nL 179.2925 155.397963 \r\nL 186.7325 147.442792 \r\nL 194.1725 138.954789 \r\nL 201.6125 130.272344 \r\nL 209.0525 121.741599 \r\nL 216.4925 113.702647 \r\nL 223.9325 106.475976 \r\nL 231.3725 100.349691 \r\nL 238.8125 95.568027 \r\nL 246.2525 92.321615 \r\nL 253.6925 90.739877 \r\nL 261.1325 90.885874 \r\nL 268.5725 92.753785 \r\nL 276.0125 96.269142 \r\nL 283.4525 101.291799 \r\nL 290.8925 107.621518 \r\nL 298.3325 115.005954 \r\nL 305.7725 123.150712 \r\nL 313.2125 131.731087 \r\nL 320.6525 140.405005 \r\nL 328.0925 148.826667 \r\nL 335.5325 156.660325 \r\nL 342.9725 163.593677 \r\nL 350.4125 169.350313 \r\nL 357.8525 173.700733 \r\nL 365.2925 176.471499 \r\nL 372.7325 177.552151 \r\nL 380.1725 176.899605 \r\nL 384.6525 175.478694 \r\n\" style=\"fill:none;stroke:#008000;stroke-linecap:square;stroke-width:1.5;\"/>\r\n   </g>\r\n   <g id=\"patch_3\">\r\n    <path d=\"M 41.6525 242.7975 \r\nL 41.6525 25.3575 \r\n\" style=\"fill:none;stroke:#000000;stroke-linecap:square;stroke-linejoin:miter;stroke-width:0.8;\"/>\r\n   </g>\r\n   <g id=\"patch_4\">\r\n    <path d=\"M 376.4525 242.7975 \r\nL 376.4525 25.3575 \r\n\" style=\"fill:none;stroke:#000000;stroke-linecap:square;stroke-linejoin:miter;stroke-width:0.8;\"/>\r\n   </g>\r\n   <g id=\"patch_5\">\r\n    <path d=\"M 41.6525 242.7975 \r\nL 376.4525 242.7975 \r\n\" style=\"fill:none;stroke:#000000;stroke-linecap:square;stroke-linejoin:miter;stroke-width:0.8;\"/>\r\n   </g>\r\n   <g id=\"patch_6\">\r\n    <path d=\"M 41.6525 25.3575 \r\nL 376.4525 25.3575 \r\n\" style=\"fill:none;stroke:#000000;stroke-linecap:square;stroke-linejoin:miter;stroke-width:0.8;\"/>\r\n   </g>\r\n   <g id=\"text_17\">\r\n    <!-- График f(t) -->\r\n    <g style=\"fill:#808080;\" transform=\"translate(156.33375 19.3575)scale(0.16 -0.16)\">\r\n     <defs>\r\n      <path d=\"M 32.90625 5.90625 \r\nL 44.390625 5.90625 \r\nL 44.390625 0 \r\nL 4.6875 0 \r\nL 4.6875 5.90625 \r\nL 14.015625 5.90625 \r\nL 14.015625 67 \r\nL 4.6875 67 \r\nL 4.6875 72.90625 \r\nL 67.71875 72.90625 \r\nL 67.71875 55.71875 \r\nL 61.03125 55.71875 \r\nL 61.03125 66.21875 \r\nL 32.90625 66.21875 \r\nz\r\n\" id=\"DejaVuSerif-Bold-1043\"/>\r\n      <path d=\"M 27 28.515625 \r\nL 27 23.390625 \r\nQ 27 14.3125 29.3125 10.25 \r\nQ 31.640625 6.203125 36.8125 6.203125 \r\nQ 42.140625 6.203125 44.3125 10.5 \r\nQ 46.484375 14.796875 46.484375 25.984375 \r\nQ 46.484375 37.15625 44.3125 41.421875 \r\nQ 42.140625 45.703125 36.8125 45.703125 \r\nQ 31.640625 45.703125 29.3125 41.640625 \r\nQ 27 37.59375 27 28.515625 \r\nz\r\nM 9.71875 46 \r\nL 2.296875 46 \r\nL 2.296875 51.90625 \r\nL 27 51.90625 \r\nL 27 45.3125 \r\nQ 29.203125 49.359375 32.90625 51.34375 \r\nQ 36.625 53.328125 42.09375 53.328125 \r\nQ 53.171875 53.328125 59.546875 46.015625 \r\nQ 65.921875 38.71875 65.921875 25.984375 \r\nQ 65.921875 13.234375 59.546875 5.90625 \r\nQ 53.171875 -1.421875 42.09375 -1.421875 \r\nQ 36.625 -1.421875 32.90625 0.5625 \r\nQ 29.203125 2.546875 27 6.59375 \r\nL 27 -14.890625 \r\nL 35.015625 -14.890625 \r\nL 35.015625 -20.796875 \r\nL 2.296875 -20.796875 \r\nL 2.296875 -14.890625 \r\nL 9.71875 -14.890625 \r\nz\r\n\" id=\"DejaVuSerif-Bold-1088\"/>\r\n      <path d=\"M 55.078125 31.890625 \r\nL 55.078125 5.90625 \r\nL 62.5 5.90625 \r\nL 62.5 0 \r\nL 37.796875 0 \r\nL 37.796875 6.59375 \r\nQ 34.375 2.484375 30.171875 0.53125 \r\nQ 25.984375 -1.421875 20.609375 -1.421875 \r\nQ 12.640625 -1.421875 8.375 2.84375 \r\nQ 4.109375 7.125 4.109375 15.09375 \r\nQ 4.109375 23.828125 10.234375 28.171875 \r\nQ 16.359375 32.515625 28.71875 32.515625 \r\nL 37.796875 32.515625 \r\nL 37.796875 35.59375 \r\nQ 37.796875 41.890625 34.8125 44.890625 \r\nQ 31.84375 47.90625 25.59375 47.90625 \r\nQ 20.40625 47.90625 17.59375 45.78125 \r\nQ 14.796875 43.65625 13.625 38.8125 \r\nL 8.109375 38.8125 \r\nL 8.109375 50 \r\nQ 12.75 51.65625 17.71875 52.484375 \r\nQ 22.703125 53.328125 28.21875 53.328125 \r\nQ 42.140625 53.328125 48.609375 48.140625 \r\nQ 55.078125 42.96875 55.078125 31.890625 \r\nz\r\nM 37.796875 16.3125 \r\nL 37.796875 26.703125 \r\nL 31.296875 26.703125 \r\nQ 26.46875 26.703125 23.875 24.0625 \r\nQ 21.296875 21.4375 21.296875 16.5 \r\nQ 21.296875 11.578125 23.171875 9.125 \r\nQ 25.046875 6.6875 28.90625 6.6875 \r\nQ 32.90625 6.6875 35.34375 9.328125 \r\nQ 37.796875 11.96875 37.796875 16.3125 \r\nz\r\n\" id=\"DejaVuSerif-Bold-1072\"/>\r\n      <path d=\"M 23.34375 25.984375 \r\nQ 23.34375 13.484375 25.40625 9.1875 \r\nQ 27.484375 4.890625 29.984375 4.890625 \r\nQ 33.984375 4.890625 35.796875 7.5625 \r\nL 36.46875 8.640625 \r\nL 36.46875 43.3125 \r\nL 35.796875 44.34375 \r\nQ 33.984375 47.015625 29.984375 47.015625 \r\nQ 27.484375 47.015625 25.40625 42.71875 \r\nQ 23.34375 38.421875 23.34375 25.984375 \r\nz\r\nM 53.765625 8.640625 \r\nL 54.4375 7.5625 \r\nQ 56.25 4.890625 60.25 4.890625 \r\nQ 62.75 4.890625 64.8125 9.1875 \r\nQ 66.890625 13.484375 66.890625 25.984375 \r\nQ 66.890625 38.421875 64.8125 42.71875 \r\nQ 62.75 47.015625 60.25 47.015625 \r\nQ 56.25 47.015625 54.4375 44.34375 \r\nL 53.765625 43.3125 \r\nz\r\nM 4.046875 25.984375 \r\nQ 4.046875 38.765625 11.71875 46.046875 \r\nQ 19.390625 53.328125 26.5625 53.328125 \r\nQ 33.59375 53.328125 35.796875 49.859375 \r\nL 36.46875 48.828125 \r\nL 36.46875 70.125 \r\nL 28.765625 70.125 \r\nL 28.765625 75.984375 \r\nL 53.765625 75.984375 \r\nL 53.765625 48.828125 \r\nL 54.4375 49.859375 \r\nQ 56.640625 53.328125 63.671875 53.328125 \r\nQ 70.84375 53.328125 78.515625 46.046875 \r\nQ 86.1875 38.765625 86.1875 25.984375 \r\nQ 86.1875 13.140625 78.515625 5.859375 \r\nQ 70.84375 -1.421875 63.671875 -1.421875 \r\nQ 56.640625 -1.421875 54.4375 2.046875 \r\nL 53.765625 3.125 \r\nL 53.765625 -14.890625 \r\nL 61.1875 -14.890625 \r\nL 61.1875 -20.796875 \r\nL 29.046875 -20.796875 \r\nL 29.046875 -14.890625 \r\nL 36.46875 -14.890625 \r\nL 36.46875 3.125 \r\nL 35.796875 2.046875 \r\nQ 33.59375 -1.421875 26.5625 -1.421875 \r\nQ 19.390625 -1.421875 11.71875 5.859375 \r\nQ 4.046875 13.140625 4.046875 25.984375 \r\nz\r\n\" id=\"DejaVuSerif-Bold-1092\"/>\r\n      <path d=\"M 3.421875 0 \r\nL 3.421875 5.90625 \r\nL 10.796875 5.90625 \r\nL 10.796875 46 \r\nL 3.421875 46 \r\nL 3.421875 51.90625 \r\nL 34.421875 51.90625 \r\nL 34.421875 46 \r\nL 28.078125 46 \r\nL 28.078125 22.46875 \r\nL 46.09375 40.1875 \r\nL 46.09375 46 \r\nL 39.703125 46 \r\nL 39.703125 51.90625 \r\nL 70.796875 51.90625 \r\nL 70.796875 46 \r\nL 63.375 46 \r\nL 63.375 5.90625 \r\nL 70.796875 5.90625 \r\nL 70.796875 0 \r\nL 39.703125 0 \r\nL 39.703125 5.90625 \r\nL 46.09375 5.90625 \r\nL 46.09375 29.15625 \r\nL 28.078125 11.421875 \r\nL 28.078125 5.90625 \r\nL 34.421875 5.90625 \r\nL 34.421875 0 \r\nz\r\n\" id=\"DejaVuSerif-Bold-1080\"/>\r\n      <path d=\"M 3.421875 0 \r\nL 3.421875 5.90625 \r\nL 10.796875 5.90625 \r\nL 10.796875 46.046875 \r\nL 3.421875 46.046875 \r\nL 3.421875 51.90625 \r\nL 34.421875 51.90625 \r\nL 34.421875 46.046875 \r\nL 28.078125 46.046875 \r\nL 28.078125 27.203125 \r\nL 49.03125 46 \r\nL 42.828125 46 \r\nL 42.828125 51.90625 \r\nL 66.5 51.90625 \r\nL 66.5 46 \r\nL 56.890625 46 \r\nL 43.5 33.984375 \r\nL 65.375 5.90625 \r\nL 71 5.90625 \r\nL 71 0 \r\nL 41.21875 0 \r\nL 41.21875 5.90625 \r\nL 47.3125 5.90625 \r\nL 32.90625 24.421875 \r\nL 28.078125 20.125 \r\nL 28.078125 5.90625 \r\nL 34.421875 5.90625 \r\nL 34.421875 0 \r\nz\r\n\" id=\"DejaVuSerif-Bold-1082\"/>\r\n      <path id=\"DejaVuSerif-Bold-32\"/>\r\n      <path d=\"M 48.390625 62.984375 \r\nL 42.921875 62.984375 \r\nQ 42.53125 66.796875 40.703125 68.65625 \r\nQ 38.875 70.515625 35.5 70.515625 \r\nQ 31.59375 70.515625 29.828125 67.703125 \r\nQ 28.078125 64.890625 28.078125 58.59375 \r\nL 28.078125 51.90625 \r\nL 41.109375 51.90625 \r\nL 41.109375 46 \r\nL 28.078125 46 \r\nL 28.078125 5.90625 \r\nL 38.09375 5.90625 \r\nL 38.09375 0 \r\nL 3.421875 0 \r\nL 3.421875 5.90625 \r\nL 10.796875 5.90625 \r\nL 10.796875 46 \r\nL 3.078125 46 \r\nL 3.078125 51.90625 \r\nL 10.796875 51.90625 \r\nL 10.796875 58.40625 \r\nQ 10.796875 67.046875 16.3125 71.515625 \r\nQ 21.828125 75.984375 32.515625 75.984375 \r\nQ 36.671875 75.984375 40.625 75.515625 \r\nQ 44.578125 75.046875 48.390625 74.125 \r\nz\r\n\" id=\"DejaVuSerif-Bold-102\"/>\r\n      <path d=\"M 42.09375 -15.578125 \r\nQ 25.640625 -9.46875 17.53125 1.90625 \r\nQ 9.421875 13.28125 9.421875 30.171875 \r\nQ 9.421875 47.078125 17.421875 58.296875 \r\nQ 25.4375 69.53125 42.09375 75.984375 \r\nL 42.09375 70.125 \r\nQ 34.375 65.4375 30.984375 56.21875 \r\nQ 27.59375 47.015625 27.59375 30.171875 \r\nQ 27.59375 13.375 30.984375 4.171875 \r\nQ 34.375 -5.03125 42.09375 -9.71875 \r\nz\r\n\" id=\"DejaVuSerif-Bold-40\"/>\r\n      <path d=\"M 9.90625 46 \r\nL 2.390625 46 \r\nL 2.390625 51.90625 \r\nL 9.90625 51.90625 \r\nL 9.90625 68.015625 \r\nL 27.203125 68.015625 \r\nL 27.203125 51.90625 \r\nL 41.609375 51.90625 \r\nL 41.609375 46 \r\nL 27.203125 46 \r\nL 27.203125 14.203125 \r\nQ 27.203125 7.421875 28.265625 5.765625 \r\nQ 29.34375 4.109375 32.171875 4.109375 \r\nQ 35.296875 4.109375 36.8125 6.203125 \r\nQ 38.328125 8.296875 38.421875 12.703125 \r\nL 45.703125 12.703125 \r\nQ 45.265625 4.890625 41.421875 1.734375 \r\nQ 37.59375 -1.421875 28.21875 -1.421875 \r\nQ 17.53125 -1.421875 13.71875 1.921875 \r\nQ 9.90625 5.28125 9.90625 14.203125 \r\nz\r\n\" id=\"DejaVuSerif-Bold-116\"/>\r\n      <path d=\"M 5.078125 -15.578125 \r\nL 5.078125 -9.71875 \r\nQ 12.796875 -5.03125 16.1875 4.171875 \r\nQ 19.578125 13.375 19.578125 30.171875 \r\nQ 19.578125 47.015625 16.1875 56.21875 \r\nQ 12.796875 65.4375 5.078125 70.125 \r\nL 5.078125 75.984375 \r\nQ 21.734375 69.53125 29.765625 58.296875 \r\nQ 37.796875 47.078125 37.796875 30.171875 \r\nQ 37.796875 13.28125 29.65625 1.90625 \r\nQ 21.53125 -9.46875 5.078125 -15.578125 \r\nz\r\n\" id=\"DejaVuSerif-Bold-41\"/>\r\n     </defs>\r\n     <use xlink:href=\"#DejaVuSerif-Bold-1043\"/>\r\n     <use x=\"69.042969\" xlink:href=\"#DejaVuSerif-Bold-1088\"/>\r\n     <use x=\"138.964844\" xlink:href=\"#DejaVuSerif-Bold-1072\"/>\r\n     <use x=\"203.759766\" xlink:href=\"#DejaVuSerif-Bold-1092\"/>\r\n     <use x=\"293.945312\" xlink:href=\"#DejaVuSerif-Bold-1080\"/>\r\n     <use x=\"368.115234\" xlink:href=\"#DejaVuSerif-Bold-1082\"/>\r\n     <use x=\"440.332031\" xlink:href=\"#DejaVuSerif-Bold-32\"/>\r\n     <use x=\"475.146484\" xlink:href=\"#DejaVuSerif-Bold-102\"/>\r\n     <use x=\"518.164062\" xlink:href=\"#DejaVuSerif-Bold-40\"/>\r\n     <use x=\"565.478516\" xlink:href=\"#DejaVuSerif-Bold-116\"/>\r\n     <use x=\"611.669922\" xlink:href=\"#DejaVuSerif-Bold-41\"/>\r\n    </g>\r\n   </g>\r\n  </g>\r\n </g>\r\n <defs>\r\n  <clipPath id=\"paf0b5e7da4\">\r\n   <rect height=\"217.44\" width=\"334.8\" x=\"41.6525\" y=\"25.3575\"/>\r\n  </clipPath>\r\n </defs>\r\n</svg>\r\n"
     },
     "metadata": {
      "needs_background": "light"
     }
    }
   ],
   "source": [
    "t = np.linspace(0, 10, 51)\n",
    "f = np.cos(t)\n",
    "plt.plot(t, f, color=\"green\")\n",
    "plt.title(\"График f(t)\", fontdict=title_font)\n",
    "plt.xlabel(\"Значения t\", fontdict=label_font)\n",
    "plt.ylabel(\"Значения f\", fontdict=label_font)\n",
    "plt.xlim([0.5,9.5])\n",
    "plt.ylim([-2.5,2.5])\n",
    "plt.grid()\n",
    "plt.show()"
   ]
  },
  {
   "source": [
    "## *Задание 3\n",
    "С помощью функции linspace библиотеки Numpy создайте массив x из 51 числа от -3 до 3\n",
    "включительно.\n",
    "Создайте массивы y1, y2, y3, y4 по следующим формулам:\n",
    "\n",
    "### $y_1 = x^2$\n",
    "\n",
    "### $y_2 =  2$x $+$ $0.5$\n",
    "\n",
    "### $y_3 =  -3$x $-$ $1.5$\n",
    "\n",
    "### $y_4 = sin($x)"
   ],
   "cell_type": "markdown",
   "metadata": {}
  },
  {
   "cell_type": "code",
   "execution_count": 5,
   "metadata": {},
   "outputs": [],
   "source": [
    "x = np.linspace(-3, 3, 51)\n",
    "y_1 = x**2\n",
    "y_2 = 2 * x + 0.5\n",
    "y_3 = -3 * x - 1.5\n",
    "y_4 = np.sinc(x)"
   ]
  },
  {
   "source": [
    "\n",
    "- Используя функцию subplots модуля matplotlib.pyplot, создайте объект matplotlib.figure.Figure с\n",
    "названием fig и массив объектов Axes под названием ax,причем так, чтобы у вас было 4 отдельных\n",
    "графика в сетке, состоящей из двух строк и двух столбцов.\n",
    "\n",
    "- В каждом графике массив x используется\n",
    "для координат по горизонтали.В левом верхнем графике для координат по вертикали используйте\n",
    "y1,в правом верхнем - y2, в левом нижнем - y3, в правом нижнем - y4.\n",
    "\n",
    "- Дайте название графикам:'График y1', 'График y2' и т.д.\n",
    "\n",
    "- Для графика в левом верхнем углу установите границы по оси x от -5 до 5.\n",
    "\n",
    "- Установите размеры фигуры 8 дюймов по горизонтали и 6 дюймов по вертикали.\n",
    "\n",
    "- Вертикальные и горизонтальные зазоры между графиками должны составлять 0.3."
   ],
   "cell_type": "markdown",
   "metadata": {}
  },
  {
   "cell_type": "code",
   "execution_count": 6,
   "metadata": {},
   "outputs": [
    {
     "output_type": "display_data",
     "data": {
      "text/plain": "<Figure size 576x432 with 4 Axes>",
      "image/svg+xml": "<?xml version=\"1.0\" encoding=\"utf-8\" standalone=\"no\"?>\r\n<!DOCTYPE svg PUBLIC \"-//W3C//DTD SVG 1.1//EN\"\r\n  \"http://www.w3.org/Graphics/SVG/1.1/DTD/svg11.dtd\">\r\n<!-- Created with matplotlib (https://matplotlib.org/) -->\r\n<svg height=\"388.105937pt\" version=\"1.1\" viewBox=\"0 0 504.79625 388.105937\" width=\"504.79625pt\" xmlns=\"http://www.w3.org/2000/svg\" xmlns:xlink=\"http://www.w3.org/1999/xlink\">\r\n <metadata>\r\n  <rdf:RDF xmlns:cc=\"http://creativecommons.org/ns#\" xmlns:dc=\"http://purl.org/dc/elements/1.1/\" xmlns:rdf=\"http://www.w3.org/1999/02/22-rdf-syntax-ns#\">\r\n   <cc:Work>\r\n    <dc:type rdf:resource=\"http://purl.org/dc/dcmitype/StillImage\"/>\r\n    <dc:date>2021-06-06T20:46:49.773459</dc:date>\r\n    <dc:format>image/svg+xml</dc:format>\r\n    <dc:creator>\r\n     <cc:Agent>\r\n      <dc:title>Matplotlib v3.3.3, https://matplotlib.org/</dc:title>\r\n     </cc:Agent>\r\n    </dc:creator>\r\n   </cc:Work>\r\n  </rdf:RDF>\r\n </metadata>\r\n <defs>\r\n  <style type=\"text/css\">*{stroke-linecap:butt;stroke-linejoin:round;}</style>\r\n </defs>\r\n <g id=\"figure_1\">\r\n  <g id=\"patch_1\">\r\n   <path d=\"M 0 388.105937 \r\nL 504.79625 388.105937 \r\nL 504.79625 0 \r\nL 0 0 \r\nz\r\n\" style=\"fill:none;\"/>\r\n  </g>\r\n  <g id=\"axes_1\">\r\n   <g id=\"patch_2\">\r\n    <path d=\"M 48.015 161.2575 \r\nL 242.101957 161.2575 \r\nL 242.101957 25.3575 \r\nL 48.015 25.3575 \r\nz\r\n\" style=\"fill:#ffffff;\"/>\r\n   </g>\r\n   <g id=\"matplotlib.axis_1\">\r\n    <g id=\"xtick_1\">\r\n     <g id=\"line2d_1\">\r\n      <path clip-path=\"url(#p66e4fa92ef)\" d=\"M 67.423696 161.2575 \r\nL 67.423696 25.3575 \r\n\" style=\"fill:none;stroke:#b0b0b0;stroke-linecap:square;stroke-width:0.8;\"/>\r\n     </g>\r\n     <g id=\"line2d_2\">\r\n      <defs>\r\n       <path d=\"M 0 0 \r\nL 0 3.5 \r\n\" id=\"m2ac2d7acfd\" style=\"stroke:#000000;stroke-width:0.8;\"/>\r\n      </defs>\r\n      <g>\r\n       <use style=\"stroke:#000000;stroke-width:0.8;\" x=\"67.423696\" xlink:href=\"#m2ac2d7acfd\" y=\"161.2575\"/>\r\n      </g>\r\n     </g>\r\n     <g id=\"text_1\">\r\n      <!-- −4 -->\r\n      <g transform=\"translate(60.052602 175.855937)scale(0.1 -0.1)\">\r\n       <defs>\r\n        <path d=\"M 10.59375 35.5 \r\nL 73.1875 35.5 \r\nL 73.1875 27.203125 \r\nL 10.59375 27.203125 \r\nz\r\n\" id=\"DejaVuSans-8722\"/>\r\n        <path d=\"M 37.796875 64.3125 \r\nL 12.890625 25.390625 \r\nL 37.796875 25.390625 \r\nz\r\nM 35.203125 72.90625 \r\nL 47.609375 72.90625 \r\nL 47.609375 25.390625 \r\nL 58.015625 25.390625 \r\nL 58.015625 17.1875 \r\nL 47.609375 17.1875 \r\nL 47.609375 0 \r\nL 37.796875 0 \r\nL 37.796875 17.1875 \r\nL 4.890625 17.1875 \r\nL 4.890625 26.703125 \r\nz\r\n\" id=\"DejaVuSans-52\"/>\r\n       </defs>\r\n       <use xlink:href=\"#DejaVuSans-8722\"/>\r\n       <use x=\"83.789062\" xlink:href=\"#DejaVuSans-52\"/>\r\n      </g>\r\n     </g>\r\n    </g>\r\n    <g id=\"xtick_2\">\r\n     <g id=\"line2d_3\">\r\n      <path clip-path=\"url(#p66e4fa92ef)\" d=\"M 106.241087 161.2575 \r\nL 106.241087 25.3575 \r\n\" style=\"fill:none;stroke:#b0b0b0;stroke-linecap:square;stroke-width:0.8;\"/>\r\n     </g>\r\n     <g id=\"line2d_4\">\r\n      <g>\r\n       <use style=\"stroke:#000000;stroke-width:0.8;\" x=\"106.241087\" xlink:href=\"#m2ac2d7acfd\" y=\"161.2575\"/>\r\n      </g>\r\n     </g>\r\n     <g id=\"text_2\">\r\n      <!-- −2 -->\r\n      <g transform=\"translate(98.869993 175.855937)scale(0.1 -0.1)\">\r\n       <defs>\r\n        <path d=\"M 19.1875 8.296875 \r\nL 53.609375 8.296875 \r\nL 53.609375 0 \r\nL 7.328125 0 \r\nL 7.328125 8.296875 \r\nQ 12.9375 14.109375 22.625 23.890625 \r\nQ 32.328125 33.6875 34.8125 36.53125 \r\nQ 39.546875 41.84375 41.421875 45.53125 \r\nQ 43.3125 49.21875 43.3125 52.78125 \r\nQ 43.3125 58.59375 39.234375 62.25 \r\nQ 35.15625 65.921875 28.609375 65.921875 \r\nQ 23.96875 65.921875 18.8125 64.3125 \r\nQ 13.671875 62.703125 7.8125 59.421875 \r\nL 7.8125 69.390625 \r\nQ 13.765625 71.78125 18.9375 73 \r\nQ 24.125 74.21875 28.421875 74.21875 \r\nQ 39.75 74.21875 46.484375 68.546875 \r\nQ 53.21875 62.890625 53.21875 53.421875 \r\nQ 53.21875 48.921875 51.53125 44.890625 \r\nQ 49.859375 40.875 45.40625 35.40625 \r\nQ 44.1875 33.984375 37.640625 27.21875 \r\nQ 31.109375 20.453125 19.1875 8.296875 \r\nz\r\n\" id=\"DejaVuSans-50\"/>\r\n       </defs>\r\n       <use xlink:href=\"#DejaVuSans-8722\"/>\r\n       <use x=\"83.789062\" xlink:href=\"#DejaVuSans-50\"/>\r\n      </g>\r\n     </g>\r\n    </g>\r\n    <g id=\"xtick_3\">\r\n     <g id=\"line2d_5\">\r\n      <path clip-path=\"url(#p66e4fa92ef)\" d=\"M 145.058478 161.2575 \r\nL 145.058478 25.3575 \r\n\" style=\"fill:none;stroke:#b0b0b0;stroke-linecap:square;stroke-width:0.8;\"/>\r\n     </g>\r\n     <g id=\"line2d_6\">\r\n      <g>\r\n       <use style=\"stroke:#000000;stroke-width:0.8;\" x=\"145.058478\" xlink:href=\"#m2ac2d7acfd\" y=\"161.2575\"/>\r\n      </g>\r\n     </g>\r\n     <g id=\"text_3\">\r\n      <!-- 0 -->\r\n      <g transform=\"translate(141.877228 175.855937)scale(0.1 -0.1)\">\r\n       <defs>\r\n        <path d=\"M 31.78125 66.40625 \r\nQ 24.171875 66.40625 20.328125 58.90625 \r\nQ 16.5 51.421875 16.5 36.375 \r\nQ 16.5 21.390625 20.328125 13.890625 \r\nQ 24.171875 6.390625 31.78125 6.390625 \r\nQ 39.453125 6.390625 43.28125 13.890625 \r\nQ 47.125 21.390625 47.125 36.375 \r\nQ 47.125 51.421875 43.28125 58.90625 \r\nQ 39.453125 66.40625 31.78125 66.40625 \r\nz\r\nM 31.78125 74.21875 \r\nQ 44.046875 74.21875 50.515625 64.515625 \r\nQ 56.984375 54.828125 56.984375 36.375 \r\nQ 56.984375 17.96875 50.515625 8.265625 \r\nQ 44.046875 -1.421875 31.78125 -1.421875 \r\nQ 19.53125 -1.421875 13.0625 8.265625 \r\nQ 6.59375 17.96875 6.59375 36.375 \r\nQ 6.59375 54.828125 13.0625 64.515625 \r\nQ 19.53125 74.21875 31.78125 74.21875 \r\nz\r\n\" id=\"DejaVuSans-48\"/>\r\n       </defs>\r\n       <use xlink:href=\"#DejaVuSans-48\"/>\r\n      </g>\r\n     </g>\r\n    </g>\r\n    <g id=\"xtick_4\">\r\n     <g id=\"line2d_7\">\r\n      <path clip-path=\"url(#p66e4fa92ef)\" d=\"M 183.87587 161.2575 \r\nL 183.87587 25.3575 \r\n\" style=\"fill:none;stroke:#b0b0b0;stroke-linecap:square;stroke-width:0.8;\"/>\r\n     </g>\r\n     <g id=\"line2d_8\">\r\n      <g>\r\n       <use style=\"stroke:#000000;stroke-width:0.8;\" x=\"183.87587\" xlink:href=\"#m2ac2d7acfd\" y=\"161.2575\"/>\r\n      </g>\r\n     </g>\r\n     <g id=\"text_4\">\r\n      <!-- 2 -->\r\n      <g transform=\"translate(180.69462 175.855937)scale(0.1 -0.1)\">\r\n       <use xlink:href=\"#DejaVuSans-50\"/>\r\n      </g>\r\n     </g>\r\n    </g>\r\n    <g id=\"xtick_5\">\r\n     <g id=\"line2d_9\">\r\n      <path clip-path=\"url(#p66e4fa92ef)\" d=\"M 222.693261 161.2575 \r\nL 222.693261 25.3575 \r\n\" style=\"fill:none;stroke:#b0b0b0;stroke-linecap:square;stroke-width:0.8;\"/>\r\n     </g>\r\n     <g id=\"line2d_10\">\r\n      <g>\r\n       <use style=\"stroke:#000000;stroke-width:0.8;\" x=\"222.693261\" xlink:href=\"#m2ac2d7acfd\" y=\"161.2575\"/>\r\n      </g>\r\n     </g>\r\n     <g id=\"text_5\">\r\n      <!-- 4 -->\r\n      <g transform=\"translate(219.512011 175.855937)scale(0.1 -0.1)\">\r\n       <use xlink:href=\"#DejaVuSans-52\"/>\r\n      </g>\r\n     </g>\r\n    </g>\r\n    <g id=\"text_6\">\r\n     <!-- Значения x -->\r\n     <g transform=\"translate(118.127385 188.774219)scale(0.09 -0.09)\">\r\n      <defs>\r\n       <path d=\"M 6.296875 69.828125 \r\nQ 17.96875 74.21875 28.078125 74.21875 \r\nQ 41.21875 74.21875 47.21875 69.59375 \r\nQ 53.21875 64.984375 53.21875 56.78125 \r\nQ 53.21875 50.203125 49.0625 45.78125 \r\nQ 44.921875 41.359375 37.3125 39.796875 \r\nQ 46.296875 38.53125 51.25 33.28125 \r\nQ 56.203125 28.03125 56.203125 19.671875 \r\nQ 56.203125 9.46875 49.34375 4.015625 \r\nQ 42.484375 -1.421875 30.765625 -1.421875 \r\nQ 19.046875 -1.421875 13.15625 3.1875 \r\nQ 7.28125 7.8125 5.421875 12.9375 \r\nL 14.40625 12.9375 \r\nQ 14.75 10.15625 19.328125 6.78125 \r\nQ 23.921875 3.421875 30.5625 3.421875 \r\nQ 37.25 3.421875 41.578125 7.734375 \r\nQ 45.90625 12.0625 45.90625 20.125 \r\nQ 45.90625 28.171875 41.5 32.546875 \r\nQ 37.109375 36.921875 26.421875 36.921875 \r\nL 21.78125 36.921875 \r\nL 21.78125 42.09375 \r\nL 24.21875 42.09375 \r\nQ 34.859375 42.09375 39.078125 45.578125 \r\nQ 43.3125 49.078125 43.3125 55.859375 \r\nQ 43.3125 62.59375 39.796875 65.984375 \r\nQ 36.28125 69.390625 27.984375 69.390625 \r\nQ 19.671875 69.390625 16.03125 66.265625 \r\nQ 12.40625 63.140625 11.765625 56.984375 \r\nL 6.296875 56.984375 \r\nz\r\n\" id=\"DejaVuSerif-1047\"/>\r\n       <path d=\"M 53.265625 46.734375 \r\nL 53.265625 5.171875 \r\nL 61.375 5.171875 \r\nL 61.375 0 \r\nL 36.1875 0 \r\nL 36.1875 5.171875 \r\nL 44.28125 5.171875 \r\nL 44.28125 25.203125 \r\nL 20.515625 25.203125 \r\nL 20.515625 5.171875 \r\nL 28.609375 5.171875 \r\nL 28.609375 0 \r\nL 3.421875 0 \r\nL 3.421875 5.171875 \r\nL 11.53125 5.171875 \r\nL 11.53125 46.734375 \r\nL 3.421875 46.734375 \r\nL 3.421875 51.90625 \r\nL 28.609375 51.90625 \r\nL 28.609375 46.734375 \r\nL 20.515625 46.734375 \r\nL 20.515625 31.25 \r\nL 44.28125 31.25 \r\nL 44.28125 46.734375 \r\nL 36.1875 46.734375 \r\nL 36.1875 51.90625 \r\nL 61.375 51.90625 \r\nL 61.375 46.734375 \r\nz\r\n\" id=\"DejaVuSerif-1085\"/>\r\n       <path d=\"M 39.796875 16.3125 \r\nL 39.796875 27.296875 \r\nL 28.21875 27.296875 \r\nQ 21.53125 27.296875 18.25 24.40625 \r\nQ 14.984375 21.53125 14.984375 15.578125 \r\nQ 14.984375 10.15625 18.296875 6.984375 \r\nQ 21.625 3.8125 27.296875 3.8125 \r\nQ 32.90625 3.8125 36.34375 7.28125 \r\nQ 39.796875 10.75 39.796875 16.3125 \r\nz\r\nM 48.78125 32.421875 \r\nL 48.78125 5.171875 \r\nL 56.78125 5.171875 \r\nL 56.78125 0 \r\nL 39.796875 0 \r\nL 39.796875 5.609375 \r\nQ 36.8125 2 32.90625 0.28125 \r\nQ 29 -1.421875 23.78125 -1.421875 \r\nQ 15.140625 -1.421875 10.0625 3.171875 \r\nQ 4.984375 7.765625 4.984375 15.578125 \r\nQ 4.984375 23.640625 10.796875 28.078125 \r\nQ 16.609375 32.515625 27.203125 32.515625 \r\nL 39.796875 32.515625 \r\nL 39.796875 36.078125 \r\nQ 39.796875 42 36.203125 45.234375 \r\nQ 32.625 48.484375 26.125 48.484375 \r\nQ 20.75 48.484375 17.578125 46.046875 \r\nQ 14.40625 43.609375 13.625 38.8125 \r\nL 8.984375 38.8125 \r\nL 8.984375 49.3125 \r\nQ 13.671875 51.3125 18.09375 52.3125 \r\nQ 22.515625 53.328125 26.703125 53.328125 \r\nQ 37.5 53.328125 43.140625 47.96875 \r\nQ 48.78125 42.625 48.78125 32.421875 \r\nz\r\n\" id=\"DejaVuSerif-1072\"/>\r\n       <path d=\"M 60.796875 51.90625 \r\nL 60.796875 46.734375 \r\nL 52.6875 46.734375 \r\nL 52.6875 5.171875 \r\nL 60.796875 5.171875 \r\nL 60.796875 0 \r\nL 35.59375 0 \r\nL 35.59375 5.171875 \r\nL 43.703125 5.171875 \r\nL 43.703125 20.453125 \r\nL 23.484375 20.453125 \r\nQ 18.890625 20.453125 15.203125 23.890625 \r\nQ 11.53125 27.34375 11.53125 31.109375 \r\nL 11.53125 46.734375 \r\nL 3.421875 46.734375 \r\nL 3.421875 51.90625 \r\nL 28.328125 51.90625 \r\nL 28.328125 46.734375 \r\nL 20.515625 46.734375 \r\nL 20.515625 36.03125 \r\nQ 20.515625 30.421875 22.1875 28.46875 \r\nQ 23.875 26.515625 26.8125 26.515625 \r\nL 43.703125 26.515625 \r\nL 43.703125 46.734375 \r\nL 35.890625 46.734375 \r\nL 35.890625 51.90625 \r\nz\r\n\" id=\"DejaVuSerif-1095\"/>\r\n       <path d=\"M 54.203125 25 \r\nL 15.484375 25 \r\nL 15.484375 24.609375 \r\nQ 15.484375 14.109375 19.4375 8.765625 \r\nQ 23.390625 3.421875 31.109375 3.421875 \r\nQ 37.015625 3.421875 40.796875 6.515625 \r\nQ 44.578125 9.625 46.09375 15.71875 \r\nL 53.328125 15.71875 \r\nQ 51.171875 7.171875 45.375 2.875 \r\nQ 39.59375 -1.421875 30.171875 -1.421875 \r\nQ 18.796875 -1.421875 11.890625 6.078125 \r\nQ 4.984375 13.578125 4.984375 25.984375 \r\nQ 4.984375 38.28125 11.765625 45.796875 \r\nQ 18.5625 53.328125 29.59375 53.328125 \r\nQ 41.359375 53.328125 47.65625 46.0625 \r\nQ 53.953125 38.8125 54.203125 25 \r\nz\r\nM 43.609375 30.171875 \r\nQ 43.3125 39.265625 39.765625 43.875 \r\nQ 36.234375 48.484375 29.59375 48.484375 \r\nQ 23.390625 48.484375 19.828125 43.84375 \r\nQ 16.265625 39.203125 15.484375 30.171875 \r\nz\r\n\" id=\"DejaVuSerif-1077\"/>\r\n       <path d=\"M 3.421875 0 \r\nL 3.421875 5.171875 \r\nL 11.53125 5.171875 \r\nL 11.53125 46.734375 \r\nL 3.421875 46.734375 \r\nL 3.421875 51.90625 \r\nL 28.609375 51.90625 \r\nL 28.609375 46.734375 \r\nL 20.515625 46.734375 \r\nL 20.515625 16.9375 \r\nL 44.28125 42.09375 \r\nL 44.28125 46.734375 \r\nL 36.1875 46.734375 \r\nL 36.1875 51.90625 \r\nL 61.375 51.90625 \r\nL 61.375 46.734375 \r\nL 53.265625 46.734375 \r\nL 53.265625 5.171875 \r\nL 61.375 5.171875 \r\nL 61.375 0 \r\nL 36.1875 0 \r\nL 36.1875 5.171875 \r\nL 44.28125 5.171875 \r\nL 44.28125 34.1875 \r\nL 20.515625 9.03125 \r\nL 20.515625 5.171875 \r\nL 28.609375 5.171875 \r\nL 28.609375 0 \r\nz\r\n\" id=\"DejaVuSerif-1080\"/>\r\n       <path d=\"M 40.1875 29.15625 \r\nL 40.1875 46.734375 \r\nL 28.8125 46.734375 \r\nQ 23.53125 46.734375 21.046875 44.28125 \r\nQ 18.5625 41.84375 18.5625 37.984375 \r\nQ 18.5625 34.125 21.015625 31.640625 \r\nQ 23.484375 29.15625 28.8125 29.15625 \r\nz\r\nM 57.8125 51.90625 \r\nL 57.8125 46.734375 \r\nL 49.171875 46.734375 \r\nL 49.171875 5.171875 \r\nL 57.28125 5.171875 \r\nL 57.28125 0 \r\nL 32.375 0 \r\nL 32.375 5.171875 \r\nL 40.1875 5.171875 \r\nL 40.1875 24.125 \r\nL 32.171875 24.125 \r\nL 17.1875 0 \r\nL 3.171875 0 \r\nL 3.171875 5.171875 \r\nL 10.359375 5.171875 \r\nL 22.515625 24.75 \r\nQ 19.046875 25.6875 13.96875 28.8125 \r\nQ 8.890625 31.9375 8.890625 38.875 \r\nQ 8.890625 44.671875 13.015625 48.28125 \r\nQ 17.140625 51.90625 24.703125 51.90625 \r\nz\r\n\" id=\"DejaVuSerif-1103\"/>\r\n       <path id=\"DejaVuSerif-32\"/>\r\n       <path d=\"M 29.109375 31.6875 \r\nL 39.984375 46.6875 \r\nL 33.015625 46.6875 \r\nL 33.015625 51.90625 \r\nL 52.984375 51.90625 \r\nL 52.984375 46.6875 \r\nL 46.09375 46.6875 \r\nL 32.171875 27.484375 \r\nL 48.390625 5.171875 \r\nL 55.171875 5.171875 \r\nL 55.171875 0 \r\nL 31.203125 0 \r\nL 31.203125 5.171875 \r\nL 37.796875 5.171875 \r\nL 26.515625 20.703125 \r\nL 15.1875 5.171875 \r\nL 21.921875 5.171875 \r\nL 21.921875 0 \r\nL 2.203125 0 \r\nL 2.203125 5.171875 \r\nL 9.078125 5.171875 \r\nL 23.390625 24.90625 \r\nL 7.625 46.6875 \r\nL 1.21875 46.6875 \r\nL 1.21875 51.90625 \r\nL 24.421875 51.90625 \r\nL 24.421875 46.6875 \r\nL 18.21875 46.6875 \r\nz\r\n\" id=\"DejaVuSerif-120\"/>\r\n      </defs>\r\n      <use xlink:href=\"#DejaVuSerif-1047\"/>\r\n      <use x=\"62.304688\" xlink:href=\"#DejaVuSerif-1085\"/>\r\n      <use x=\"128.955078\" xlink:href=\"#DejaVuSerif-1072\"/>\r\n      <use x=\"188.574219\" xlink:href=\"#DejaVuSerif-1095\"/>\r\n      <use x=\"254.6875\" xlink:href=\"#DejaVuSerif-1077\"/>\r\n      <use x=\"313.867188\" xlink:href=\"#DejaVuSerif-1085\"/>\r\n      <use x=\"380.517578\" xlink:href=\"#DejaVuSerif-1080\"/>\r\n      <use x=\"447.167969\" xlink:href=\"#DejaVuSerif-1103\"/>\r\n      <use x=\"510.253906\" xlink:href=\"#DejaVuSerif-32\"/>\r\n      <use x=\"542.041016\" xlink:href=\"#DejaVuSerif-120\"/>\r\n     </g>\r\n    </g>\r\n   </g>\r\n   <g id=\"matplotlib.axis_2\">\r\n    <g id=\"ytick_1\">\r\n     <g id=\"line2d_11\">\r\n      <path clip-path=\"url(#p66e4fa92ef)\" d=\"M 48.015 161.2575 \r\nL 242.101957 161.2575 \r\n\" style=\"fill:none;stroke:#b0b0b0;stroke-linecap:square;stroke-width:0.8;\"/>\r\n     </g>\r\n     <g id=\"line2d_12\">\r\n      <defs>\r\n       <path d=\"M 0 0 \r\nL -3.5 0 \r\n\" id=\"m0b6f703e94\" style=\"stroke:#000000;stroke-width:0.8;\"/>\r\n      </defs>\r\n      <g>\r\n       <use style=\"stroke:#000000;stroke-width:0.8;\" x=\"48.015\" xlink:href=\"#m0b6f703e94\" y=\"161.2575\"/>\r\n      </g>\r\n     </g>\r\n     <g id=\"text_7\">\r\n      <!-- 0 -->\r\n      <g transform=\"translate(34.6525 165.056719)scale(0.1 -0.1)\">\r\n       <use xlink:href=\"#DejaVuSans-48\"/>\r\n      </g>\r\n     </g>\r\n    </g>\r\n    <g id=\"ytick_2\">\r\n     <g id=\"line2d_13\">\r\n      <path clip-path=\"url(#p66e4fa92ef)\" d=\"M 48.015 131.0575 \r\nL 242.101957 131.0575 \r\n\" style=\"fill:none;stroke:#b0b0b0;stroke-linecap:square;stroke-width:0.8;\"/>\r\n     </g>\r\n     <g id=\"line2d_14\">\r\n      <g>\r\n       <use style=\"stroke:#000000;stroke-width:0.8;\" x=\"48.015\" xlink:href=\"#m0b6f703e94\" y=\"131.0575\"/>\r\n      </g>\r\n     </g>\r\n     <g id=\"text_8\">\r\n      <!-- 2 -->\r\n      <g transform=\"translate(34.6525 134.856719)scale(0.1 -0.1)\">\r\n       <use xlink:href=\"#DejaVuSans-50\"/>\r\n      </g>\r\n     </g>\r\n    </g>\r\n    <g id=\"ytick_3\">\r\n     <g id=\"line2d_15\">\r\n      <path clip-path=\"url(#p66e4fa92ef)\" d=\"M 48.015 100.8575 \r\nL 242.101957 100.8575 \r\n\" style=\"fill:none;stroke:#b0b0b0;stroke-linecap:square;stroke-width:0.8;\"/>\r\n     </g>\r\n     <g id=\"line2d_16\">\r\n      <g>\r\n       <use style=\"stroke:#000000;stroke-width:0.8;\" x=\"48.015\" xlink:href=\"#m0b6f703e94\" y=\"100.8575\"/>\r\n      </g>\r\n     </g>\r\n     <g id=\"text_9\">\r\n      <!-- 4 -->\r\n      <g transform=\"translate(34.6525 104.656719)scale(0.1 -0.1)\">\r\n       <use xlink:href=\"#DejaVuSans-52\"/>\r\n      </g>\r\n     </g>\r\n    </g>\r\n    <g id=\"ytick_4\">\r\n     <g id=\"line2d_17\">\r\n      <path clip-path=\"url(#p66e4fa92ef)\" d=\"M 48.015 70.6575 \r\nL 242.101957 70.6575 \r\n\" style=\"fill:none;stroke:#b0b0b0;stroke-linecap:square;stroke-width:0.8;\"/>\r\n     </g>\r\n     <g id=\"line2d_18\">\r\n      <g>\r\n       <use style=\"stroke:#000000;stroke-width:0.8;\" x=\"48.015\" xlink:href=\"#m0b6f703e94\" y=\"70.6575\"/>\r\n      </g>\r\n     </g>\r\n     <g id=\"text_10\">\r\n      <!-- 6 -->\r\n      <g transform=\"translate(34.6525 74.456719)scale(0.1 -0.1)\">\r\n       <defs>\r\n        <path d=\"M 33.015625 40.375 \r\nQ 26.375 40.375 22.484375 35.828125 \r\nQ 18.609375 31.296875 18.609375 23.390625 \r\nQ 18.609375 15.53125 22.484375 10.953125 \r\nQ 26.375 6.390625 33.015625 6.390625 \r\nQ 39.65625 6.390625 43.53125 10.953125 \r\nQ 47.40625 15.53125 47.40625 23.390625 \r\nQ 47.40625 31.296875 43.53125 35.828125 \r\nQ 39.65625 40.375 33.015625 40.375 \r\nz\r\nM 52.59375 71.296875 \r\nL 52.59375 62.3125 \r\nQ 48.875 64.0625 45.09375 64.984375 \r\nQ 41.3125 65.921875 37.59375 65.921875 \r\nQ 27.828125 65.921875 22.671875 59.328125 \r\nQ 17.53125 52.734375 16.796875 39.40625 \r\nQ 19.671875 43.65625 24.015625 45.921875 \r\nQ 28.375 48.1875 33.59375 48.1875 \r\nQ 44.578125 48.1875 50.953125 41.515625 \r\nQ 57.328125 34.859375 57.328125 23.390625 \r\nQ 57.328125 12.15625 50.6875 5.359375 \r\nQ 44.046875 -1.421875 33.015625 -1.421875 \r\nQ 20.359375 -1.421875 13.671875 8.265625 \r\nQ 6.984375 17.96875 6.984375 36.375 \r\nQ 6.984375 53.65625 15.1875 63.9375 \r\nQ 23.390625 74.21875 37.203125 74.21875 \r\nQ 40.921875 74.21875 44.703125 73.484375 \r\nQ 48.484375 72.75 52.59375 71.296875 \r\nz\r\n\" id=\"DejaVuSans-54\"/>\r\n       </defs>\r\n       <use xlink:href=\"#DejaVuSans-54\"/>\r\n      </g>\r\n     </g>\r\n    </g>\r\n    <g id=\"ytick_5\">\r\n     <g id=\"line2d_19\">\r\n      <path clip-path=\"url(#p66e4fa92ef)\" d=\"M 48.015 40.4575 \r\nL 242.101957 40.4575 \r\n\" style=\"fill:none;stroke:#b0b0b0;stroke-linecap:square;stroke-width:0.8;\"/>\r\n     </g>\r\n     <g id=\"line2d_20\">\r\n      <g>\r\n       <use style=\"stroke:#000000;stroke-width:0.8;\" x=\"48.015\" xlink:href=\"#m0b6f703e94\" y=\"40.4575\"/>\r\n      </g>\r\n     </g>\r\n     <g id=\"text_11\">\r\n      <!-- 8 -->\r\n      <g transform=\"translate(34.6525 44.256719)scale(0.1 -0.1)\">\r\n       <defs>\r\n        <path d=\"M 31.78125 34.625 \r\nQ 24.75 34.625 20.71875 30.859375 \r\nQ 16.703125 27.09375 16.703125 20.515625 \r\nQ 16.703125 13.921875 20.71875 10.15625 \r\nQ 24.75 6.390625 31.78125 6.390625 \r\nQ 38.8125 6.390625 42.859375 10.171875 \r\nQ 46.921875 13.96875 46.921875 20.515625 \r\nQ 46.921875 27.09375 42.890625 30.859375 \r\nQ 38.875 34.625 31.78125 34.625 \r\nz\r\nM 21.921875 38.8125 \r\nQ 15.578125 40.375 12.03125 44.71875 \r\nQ 8.5 49.078125 8.5 55.328125 \r\nQ 8.5 64.0625 14.71875 69.140625 \r\nQ 20.953125 74.21875 31.78125 74.21875 \r\nQ 42.671875 74.21875 48.875 69.140625 \r\nQ 55.078125 64.0625 55.078125 55.328125 \r\nQ 55.078125 49.078125 51.53125 44.71875 \r\nQ 48 40.375 41.703125 38.8125 \r\nQ 48.828125 37.15625 52.796875 32.3125 \r\nQ 56.78125 27.484375 56.78125 20.515625 \r\nQ 56.78125 9.90625 50.3125 4.234375 \r\nQ 43.84375 -1.421875 31.78125 -1.421875 \r\nQ 19.734375 -1.421875 13.25 4.234375 \r\nQ 6.78125 9.90625 6.78125 20.515625 \r\nQ 6.78125 27.484375 10.78125 32.3125 \r\nQ 14.796875 37.15625 21.921875 38.8125 \r\nz\r\nM 18.3125 54.390625 \r\nQ 18.3125 48.734375 21.84375 45.5625 \r\nQ 25.390625 42.390625 31.78125 42.390625 \r\nQ 38.140625 42.390625 41.71875 45.5625 \r\nQ 45.3125 48.734375 45.3125 54.390625 \r\nQ 45.3125 60.0625 41.71875 63.234375 \r\nQ 38.140625 66.40625 31.78125 66.40625 \r\nQ 25.390625 66.40625 21.84375 63.234375 \r\nQ 18.3125 60.0625 18.3125 54.390625 \r\nz\r\n\" id=\"DejaVuSans-56\"/>\r\n       </defs>\r\n       <use xlink:href=\"#DejaVuSans-56\"/>\r\n      </g>\r\n     </g>\r\n    </g>\r\n    <g id=\"text_12\">\r\n     <!-- Значения y1 -->\r\n     <g transform=\"translate(28.652813 123.106641)rotate(-90)scale(0.09 -0.09)\">\r\n      <defs>\r\n       <path d=\"M 21.578125 -9.515625 \r\nL 25 -0.875 \r\nL 5.609375 46.6875 \r\nL -0.296875 46.6875 \r\nL -0.296875 51.90625 \r\nL 23.578125 51.90625 \r\nL 23.578125 46.6875 \r\nL 15.28125 46.6875 \r\nL 29.890625 10.984375 \r\nL 44.484375 46.6875 \r\nL 36.71875 46.6875 \r\nL 36.71875 51.90625 \r\nL 56.203125 51.90625 \r\nL 56.203125 46.6875 \r\nL 50.390625 46.6875 \r\nL 26.609375 -11.71875 \r\nQ 24.171875 -17.78125 21.1875 -20 \r\nQ 18.21875 -22.21875 12.796875 -22.21875 \r\nQ 10.5 -22.21875 8.078125 -21.828125 \r\nQ 5.671875 -21.4375 3.21875 -20.703125 \r\nL 3.21875 -10.796875 \r\nL 7.8125 -10.796875 \r\nQ 8.109375 -14.109375 9.5 -15.546875 \r\nQ 10.890625 -17 13.8125 -17 \r\nQ 16.5 -17 18.140625 -15.5 \r\nQ 19.78125 -14.015625 21.578125 -9.515625 \r\nz\r\n\" id=\"DejaVuSerif-121\"/>\r\n       <path d=\"M 14.203125 0 \r\nL 14.203125 5.171875 \r\nL 26.90625 5.171875 \r\nL 26.90625 65.828125 \r\nL 12.203125 56.296875 \r\nL 12.203125 62.703125 \r\nL 29.984375 74.21875 \r\nL 36.71875 74.21875 \r\nL 36.71875 5.171875 \r\nL 49.421875 5.171875 \r\nL 49.421875 0 \r\nz\r\n\" id=\"DejaVuSerif-49\"/>\r\n      </defs>\r\n      <use xlink:href=\"#DejaVuSerif-1047\"/>\r\n      <use x=\"62.304688\" xlink:href=\"#DejaVuSerif-1085\"/>\r\n      <use x=\"128.955078\" xlink:href=\"#DejaVuSerif-1072\"/>\r\n      <use x=\"188.574219\" xlink:href=\"#DejaVuSerif-1095\"/>\r\n      <use x=\"254.6875\" xlink:href=\"#DejaVuSerif-1077\"/>\r\n      <use x=\"313.867188\" xlink:href=\"#DejaVuSerif-1085\"/>\r\n      <use x=\"380.517578\" xlink:href=\"#DejaVuSerif-1080\"/>\r\n      <use x=\"447.167969\" xlink:href=\"#DejaVuSerif-1103\"/>\r\n      <use x=\"510.253906\" xlink:href=\"#DejaVuSerif-32\"/>\r\n      <use x=\"542.041016\" xlink:href=\"#DejaVuSerif-121\"/>\r\n      <use x=\"598.535156\" xlink:href=\"#DejaVuSerif-49\"/>\r\n     </g>\r\n    </g>\r\n   </g>\r\n   <g id=\"line2d_21\">\r\n    <path clip-path=\"url(#p66e4fa92ef)\" d=\"M 86.832391 25.3575 \r\nL 89.161435 36.01206 \r\nL 91.490478 46.23174 \r\nL 93.819522 56.01654 \r\nL 96.148565 65.36646 \r\nL 98.477609 74.2815 \r\nL 100.806652 82.76166 \r\nL 103.135696 90.80694 \r\nL 105.464739 98.41734 \r\nL 107.793783 105.59286 \r\nL 110.122826 112.3335 \r\nL 112.45187 118.63926 \r\nL 114.780913 124.51014 \r\nL 117.109957 129.94614 \r\nL 119.439 134.94726 \r\nL 121.768043 139.5135 \r\nL 124.097087 143.64486 \r\nL 126.42613 147.34134 \r\nL 128.755174 150.60294 \r\nL 131.084217 153.42966 \r\nL 133.413261 155.8215 \r\nL 135.742304 157.77846 \r\nL 138.071348 159.30054 \r\nL 140.400391 160.38774 \r\nL 142.729435 161.04006 \r\nL 145.058478 161.2575 \r\nL 147.387522 161.04006 \r\nL 149.716565 160.38774 \r\nL 152.045609 159.30054 \r\nL 154.374652 157.77846 \r\nL 156.703696 155.8215 \r\nL 159.032739 153.42966 \r\nL 161.361783 150.60294 \r\nL 163.690826 147.34134 \r\nL 166.01987 143.64486 \r\nL 168.348913 139.5135 \r\nL 170.677957 134.94726 \r\nL 173.007 129.94614 \r\nL 175.336043 124.51014 \r\nL 177.665087 118.63926 \r\nL 179.99413 112.3335 \r\nL 182.323174 105.59286 \r\nL 184.652217 98.41734 \r\nL 186.981261 90.80694 \r\nL 189.310304 82.76166 \r\nL 191.639348 74.2815 \r\nL 193.968391 65.36646 \r\nL 196.297435 56.01654 \r\nL 198.626478 46.23174 \r\nL 200.955522 36.01206 \r\nL 203.284565 25.3575 \r\n\" style=\"fill:none;stroke:#44944a;stroke-linecap:square;stroke-width:1.5;\"/>\r\n   </g>\r\n   <g id=\"patch_3\">\r\n    <path d=\"M 48.015 161.2575 \r\nL 48.015 25.3575 \r\n\" style=\"fill:none;stroke:#000000;stroke-linecap:square;stroke-linejoin:miter;stroke-width:0.8;\"/>\r\n   </g>\r\n   <g id=\"patch_4\">\r\n    <path d=\"M 242.101957 161.2575 \r\nL 242.101957 25.3575 \r\n\" style=\"fill:none;stroke:#000000;stroke-linecap:square;stroke-linejoin:miter;stroke-width:0.8;\"/>\r\n   </g>\r\n   <g id=\"patch_5\">\r\n    <path d=\"M 48.015 161.2575 \r\nL 242.101957 161.2575 \r\n\" style=\"fill:none;stroke:#000000;stroke-linecap:square;stroke-linejoin:miter;stroke-width:0.8;\"/>\r\n   </g>\r\n   <g id=\"patch_6\">\r\n    <path d=\"M 48.015 25.3575 \r\nL 242.101957 25.3575 \r\n\" style=\"fill:none;stroke:#000000;stroke-linecap:square;stroke-linejoin:miter;stroke-width:0.8;\"/>\r\n   </g>\r\n   <g id=\"text_13\">\r\n    <!-- График y1 -->\r\n    <g style=\"fill:#808080;\" transform=\"translate(96.830978 19.3575)scale(0.16 -0.16)\">\r\n     <defs>\r\n      <path d=\"M 32.90625 5.90625 \r\nL 44.390625 5.90625 \r\nL 44.390625 0 \r\nL 4.6875 0 \r\nL 4.6875 5.90625 \r\nL 14.015625 5.90625 \r\nL 14.015625 67 \r\nL 4.6875 67 \r\nL 4.6875 72.90625 \r\nL 67.71875 72.90625 \r\nL 67.71875 55.71875 \r\nL 61.03125 55.71875 \r\nL 61.03125 66.21875 \r\nL 32.90625 66.21875 \r\nz\r\n\" id=\"DejaVuSerif-Bold-1043\"/>\r\n      <path d=\"M 27 28.515625 \r\nL 27 23.390625 \r\nQ 27 14.3125 29.3125 10.25 \r\nQ 31.640625 6.203125 36.8125 6.203125 \r\nQ 42.140625 6.203125 44.3125 10.5 \r\nQ 46.484375 14.796875 46.484375 25.984375 \r\nQ 46.484375 37.15625 44.3125 41.421875 \r\nQ 42.140625 45.703125 36.8125 45.703125 \r\nQ 31.640625 45.703125 29.3125 41.640625 \r\nQ 27 37.59375 27 28.515625 \r\nz\r\nM 9.71875 46 \r\nL 2.296875 46 \r\nL 2.296875 51.90625 \r\nL 27 51.90625 \r\nL 27 45.3125 \r\nQ 29.203125 49.359375 32.90625 51.34375 \r\nQ 36.625 53.328125 42.09375 53.328125 \r\nQ 53.171875 53.328125 59.546875 46.015625 \r\nQ 65.921875 38.71875 65.921875 25.984375 \r\nQ 65.921875 13.234375 59.546875 5.90625 \r\nQ 53.171875 -1.421875 42.09375 -1.421875 \r\nQ 36.625 -1.421875 32.90625 0.5625 \r\nQ 29.203125 2.546875 27 6.59375 \r\nL 27 -14.890625 \r\nL 35.015625 -14.890625 \r\nL 35.015625 -20.796875 \r\nL 2.296875 -20.796875 \r\nL 2.296875 -14.890625 \r\nL 9.71875 -14.890625 \r\nz\r\n\" id=\"DejaVuSerif-Bold-1088\"/>\r\n      <path d=\"M 55.078125 31.890625 \r\nL 55.078125 5.90625 \r\nL 62.5 5.90625 \r\nL 62.5 0 \r\nL 37.796875 0 \r\nL 37.796875 6.59375 \r\nQ 34.375 2.484375 30.171875 0.53125 \r\nQ 25.984375 -1.421875 20.609375 -1.421875 \r\nQ 12.640625 -1.421875 8.375 2.84375 \r\nQ 4.109375 7.125 4.109375 15.09375 \r\nQ 4.109375 23.828125 10.234375 28.171875 \r\nQ 16.359375 32.515625 28.71875 32.515625 \r\nL 37.796875 32.515625 \r\nL 37.796875 35.59375 \r\nQ 37.796875 41.890625 34.8125 44.890625 \r\nQ 31.84375 47.90625 25.59375 47.90625 \r\nQ 20.40625 47.90625 17.59375 45.78125 \r\nQ 14.796875 43.65625 13.625 38.8125 \r\nL 8.109375 38.8125 \r\nL 8.109375 50 \r\nQ 12.75 51.65625 17.71875 52.484375 \r\nQ 22.703125 53.328125 28.21875 53.328125 \r\nQ 42.140625 53.328125 48.609375 48.140625 \r\nQ 55.078125 42.96875 55.078125 31.890625 \r\nz\r\nM 37.796875 16.3125 \r\nL 37.796875 26.703125 \r\nL 31.296875 26.703125 \r\nQ 26.46875 26.703125 23.875 24.0625 \r\nQ 21.296875 21.4375 21.296875 16.5 \r\nQ 21.296875 11.578125 23.171875 9.125 \r\nQ 25.046875 6.6875 28.90625 6.6875 \r\nQ 32.90625 6.6875 35.34375 9.328125 \r\nQ 37.796875 11.96875 37.796875 16.3125 \r\nz\r\n\" id=\"DejaVuSerif-Bold-1072\"/>\r\n      <path d=\"M 23.34375 25.984375 \r\nQ 23.34375 13.484375 25.40625 9.1875 \r\nQ 27.484375 4.890625 29.984375 4.890625 \r\nQ 33.984375 4.890625 35.796875 7.5625 \r\nL 36.46875 8.640625 \r\nL 36.46875 43.3125 \r\nL 35.796875 44.34375 \r\nQ 33.984375 47.015625 29.984375 47.015625 \r\nQ 27.484375 47.015625 25.40625 42.71875 \r\nQ 23.34375 38.421875 23.34375 25.984375 \r\nz\r\nM 53.765625 8.640625 \r\nL 54.4375 7.5625 \r\nQ 56.25 4.890625 60.25 4.890625 \r\nQ 62.75 4.890625 64.8125 9.1875 \r\nQ 66.890625 13.484375 66.890625 25.984375 \r\nQ 66.890625 38.421875 64.8125 42.71875 \r\nQ 62.75 47.015625 60.25 47.015625 \r\nQ 56.25 47.015625 54.4375 44.34375 \r\nL 53.765625 43.3125 \r\nz\r\nM 4.046875 25.984375 \r\nQ 4.046875 38.765625 11.71875 46.046875 \r\nQ 19.390625 53.328125 26.5625 53.328125 \r\nQ 33.59375 53.328125 35.796875 49.859375 \r\nL 36.46875 48.828125 \r\nL 36.46875 70.125 \r\nL 28.765625 70.125 \r\nL 28.765625 75.984375 \r\nL 53.765625 75.984375 \r\nL 53.765625 48.828125 \r\nL 54.4375 49.859375 \r\nQ 56.640625 53.328125 63.671875 53.328125 \r\nQ 70.84375 53.328125 78.515625 46.046875 \r\nQ 86.1875 38.765625 86.1875 25.984375 \r\nQ 86.1875 13.140625 78.515625 5.859375 \r\nQ 70.84375 -1.421875 63.671875 -1.421875 \r\nQ 56.640625 -1.421875 54.4375 2.046875 \r\nL 53.765625 3.125 \r\nL 53.765625 -14.890625 \r\nL 61.1875 -14.890625 \r\nL 61.1875 -20.796875 \r\nL 29.046875 -20.796875 \r\nL 29.046875 -14.890625 \r\nL 36.46875 -14.890625 \r\nL 36.46875 3.125 \r\nL 35.796875 2.046875 \r\nQ 33.59375 -1.421875 26.5625 -1.421875 \r\nQ 19.390625 -1.421875 11.71875 5.859375 \r\nQ 4.046875 13.140625 4.046875 25.984375 \r\nz\r\n\" id=\"DejaVuSerif-Bold-1092\"/>\r\n      <path d=\"M 3.421875 0 \r\nL 3.421875 5.90625 \r\nL 10.796875 5.90625 \r\nL 10.796875 46 \r\nL 3.421875 46 \r\nL 3.421875 51.90625 \r\nL 34.421875 51.90625 \r\nL 34.421875 46 \r\nL 28.078125 46 \r\nL 28.078125 22.46875 \r\nL 46.09375 40.1875 \r\nL 46.09375 46 \r\nL 39.703125 46 \r\nL 39.703125 51.90625 \r\nL 70.796875 51.90625 \r\nL 70.796875 46 \r\nL 63.375 46 \r\nL 63.375 5.90625 \r\nL 70.796875 5.90625 \r\nL 70.796875 0 \r\nL 39.703125 0 \r\nL 39.703125 5.90625 \r\nL 46.09375 5.90625 \r\nL 46.09375 29.15625 \r\nL 28.078125 11.421875 \r\nL 28.078125 5.90625 \r\nL 34.421875 5.90625 \r\nL 34.421875 0 \r\nz\r\n\" id=\"DejaVuSerif-Bold-1080\"/>\r\n      <path d=\"M 3.421875 0 \r\nL 3.421875 5.90625 \r\nL 10.796875 5.90625 \r\nL 10.796875 46.046875 \r\nL 3.421875 46.046875 \r\nL 3.421875 51.90625 \r\nL 34.421875 51.90625 \r\nL 34.421875 46.046875 \r\nL 28.078125 46.046875 \r\nL 28.078125 27.203125 \r\nL 49.03125 46 \r\nL 42.828125 46 \r\nL 42.828125 51.90625 \r\nL 66.5 51.90625 \r\nL 66.5 46 \r\nL 56.890625 46 \r\nL 43.5 33.984375 \r\nL 65.375 5.90625 \r\nL 71 5.90625 \r\nL 71 0 \r\nL 41.21875 0 \r\nL 41.21875 5.90625 \r\nL 47.3125 5.90625 \r\nL 32.90625 24.421875 \r\nL 28.078125 20.125 \r\nL 28.078125 5.90625 \r\nL 34.421875 5.90625 \r\nL 34.421875 0 \r\nz\r\n\" id=\"DejaVuSerif-Bold-1082\"/>\r\n      <path id=\"DejaVuSerif-Bold-32\"/>\r\n      <path d=\"M 31.203125 -11.71875 \r\nQ 28.859375 -17.4375 25.53125 -19.828125 \r\nQ 22.21875 -22.21875 16.609375 -22.21875 \r\nQ 14.203125 -22.21875 11.265625 -21.671875 \r\nQ 8.34375 -21.140625 4.890625 -20.125 \r\nL 4.890625 -9.28125 \r\nL 10.40625 -9.328125 \r\nQ 10.546875 -13.09375 12.171875 -14.890625 \r\nQ 13.8125 -16.703125 17.09375 -16.703125 \r\nQ 20.265625 -16.703125 22.21875 -14.96875 \r\nQ 24.171875 -13.234375 26.125 -8.40625 \r\nL 26.90625 -6.59375 \r\nL 4.296875 46 \r\nL -1.3125 46 \r\nL -1.3125 51.90625 \r\nL 28.609375 51.90625 \r\nL 28.609375 46 \r\nL 22.40625 46 \r\nL 35.59375 15.28125 \r\nL 47.90625 46 \r\nL 41.015625 46 \r\nL 41.015625 51.90625 \r\nL 60.5 51.90625 \r\nL 60.5 46 \r\nL 54.203125 46 \r\nz\r\n\" id=\"DejaVuSerif-Bold-121\"/>\r\n      <path d=\"M 13.71875 0 \r\nL 13.71875 5.90625 \r\nL 27.390625 5.90625 \r\nL 27.390625 64.890625 \r\nL 12.203125 55.90625 \r\nL 12.203125 63.1875 \r\nL 30.515625 74.21875 \r\nL 45.90625 74.21875 \r\nL 45.90625 5.90625 \r\nL 59.625 5.90625 \r\nL 59.625 0 \r\nz\r\n\" id=\"DejaVuSerif-Bold-49\"/>\r\n     </defs>\r\n     <use xlink:href=\"#DejaVuSerif-Bold-1043\"/>\r\n     <use x=\"69.042969\" xlink:href=\"#DejaVuSerif-Bold-1088\"/>\r\n     <use x=\"138.964844\" xlink:href=\"#DejaVuSerif-Bold-1072\"/>\r\n     <use x=\"203.759766\" xlink:href=\"#DejaVuSerif-Bold-1092\"/>\r\n     <use x=\"293.945312\" xlink:href=\"#DejaVuSerif-Bold-1080\"/>\r\n     <use x=\"368.115234\" xlink:href=\"#DejaVuSerif-Bold-1082\"/>\r\n     <use x=\"440.332031\" xlink:href=\"#DejaVuSerif-Bold-32\"/>\r\n     <use x=\"475.146484\" xlink:href=\"#DejaVuSerif-Bold-121\"/>\r\n     <use x=\"533.251953\" xlink:href=\"#DejaVuSerif-Bold-49\"/>\r\n    </g>\r\n   </g>\r\n  </g>\r\n  <g id=\"axes_2\">\r\n   <g id=\"patch_7\">\r\n    <path d=\"M 300.328043 161.2575 \r\nL 494.415 161.2575 \r\nL 494.415 25.3575 \r\nL 300.328043 25.3575 \r\nz\r\n\" style=\"fill:#ffffff;\"/>\r\n   </g>\r\n   <g id=\"matplotlib.axis_3\">\r\n    <g id=\"xtick_6\">\r\n     <g id=\"line2d_22\">\r\n      <path clip-path=\"url(#paa6583ba18)\" d=\"M 300.328043 161.2575 \r\nL 300.328043 25.3575 \r\n\" style=\"fill:none;stroke:#b0b0b0;stroke-linecap:square;stroke-width:0.8;\"/>\r\n     </g>\r\n     <g id=\"line2d_23\">\r\n      <g>\r\n       <use style=\"stroke:#000000;stroke-width:0.8;\" x=\"300.328043\" xlink:href=\"#m2ac2d7acfd\" y=\"161.2575\"/>\r\n      </g>\r\n     </g>\r\n     <g id=\"text_14\">\r\n      <!-- −3 -->\r\n      <g transform=\"translate(292.95695 175.855937)scale(0.1 -0.1)\">\r\n       <defs>\r\n        <path d=\"M 40.578125 39.3125 \r\nQ 47.65625 37.796875 51.625 33 \r\nQ 55.609375 28.21875 55.609375 21.1875 \r\nQ 55.609375 10.40625 48.1875 4.484375 \r\nQ 40.765625 -1.421875 27.09375 -1.421875 \r\nQ 22.515625 -1.421875 17.65625 -0.515625 \r\nQ 12.796875 0.390625 7.625 2.203125 \r\nL 7.625 11.71875 \r\nQ 11.71875 9.328125 16.59375 8.109375 \r\nQ 21.484375 6.890625 26.8125 6.890625 \r\nQ 36.078125 6.890625 40.9375 10.546875 \r\nQ 45.796875 14.203125 45.796875 21.1875 \r\nQ 45.796875 27.640625 41.28125 31.265625 \r\nQ 36.765625 34.90625 28.71875 34.90625 \r\nL 20.21875 34.90625 \r\nL 20.21875 43.015625 \r\nL 29.109375 43.015625 \r\nQ 36.375 43.015625 40.234375 45.921875 \r\nQ 44.09375 48.828125 44.09375 54.296875 \r\nQ 44.09375 59.90625 40.109375 62.90625 \r\nQ 36.140625 65.921875 28.71875 65.921875 \r\nQ 24.65625 65.921875 20.015625 65.03125 \r\nQ 15.375 64.15625 9.8125 62.3125 \r\nL 9.8125 71.09375 \r\nQ 15.4375 72.65625 20.34375 73.4375 \r\nQ 25.25 74.21875 29.59375 74.21875 \r\nQ 40.828125 74.21875 47.359375 69.109375 \r\nQ 53.90625 64.015625 53.90625 55.328125 \r\nQ 53.90625 49.265625 50.4375 45.09375 \r\nQ 46.96875 40.921875 40.578125 39.3125 \r\nz\r\n\" id=\"DejaVuSans-51\"/>\r\n       </defs>\r\n       <use xlink:href=\"#DejaVuSans-8722\"/>\r\n       <use x=\"83.789062\" xlink:href=\"#DejaVuSans-51\"/>\r\n      </g>\r\n     </g>\r\n    </g>\r\n    <g id=\"xtick_7\">\r\n     <g id=\"line2d_24\">\r\n      <path clip-path=\"url(#paa6583ba18)\" d=\"M 332.67587 161.2575 \r\nL 332.67587 25.3575 \r\n\" style=\"fill:none;stroke:#b0b0b0;stroke-linecap:square;stroke-width:0.8;\"/>\r\n     </g>\r\n     <g id=\"line2d_25\">\r\n      <g>\r\n       <use style=\"stroke:#000000;stroke-width:0.8;\" x=\"332.67587\" xlink:href=\"#m2ac2d7acfd\" y=\"161.2575\"/>\r\n      </g>\r\n     </g>\r\n     <g id=\"text_15\">\r\n      <!-- −2 -->\r\n      <g transform=\"translate(325.304776 175.855937)scale(0.1 -0.1)\">\r\n       <use xlink:href=\"#DejaVuSans-8722\"/>\r\n       <use x=\"83.789062\" xlink:href=\"#DejaVuSans-50\"/>\r\n      </g>\r\n     </g>\r\n    </g>\r\n    <g id=\"xtick_8\">\r\n     <g id=\"line2d_26\">\r\n      <path clip-path=\"url(#paa6583ba18)\" d=\"M 365.023696 161.2575 \r\nL 365.023696 25.3575 \r\n\" style=\"fill:none;stroke:#b0b0b0;stroke-linecap:square;stroke-width:0.8;\"/>\r\n     </g>\r\n     <g id=\"line2d_27\">\r\n      <g>\r\n       <use style=\"stroke:#000000;stroke-width:0.8;\" x=\"365.023696\" xlink:href=\"#m2ac2d7acfd\" y=\"161.2575\"/>\r\n      </g>\r\n     </g>\r\n     <g id=\"text_16\">\r\n      <!-- −1 -->\r\n      <g transform=\"translate(357.652602 175.855937)scale(0.1 -0.1)\">\r\n       <defs>\r\n        <path d=\"M 12.40625 8.296875 \r\nL 28.515625 8.296875 \r\nL 28.515625 63.921875 \r\nL 10.984375 60.40625 \r\nL 10.984375 69.390625 \r\nL 28.421875 72.90625 \r\nL 38.28125 72.90625 \r\nL 38.28125 8.296875 \r\nL 54.390625 8.296875 \r\nL 54.390625 0 \r\nL 12.40625 0 \r\nz\r\n\" id=\"DejaVuSans-49\"/>\r\n       </defs>\r\n       <use xlink:href=\"#DejaVuSans-8722\"/>\r\n       <use x=\"83.789062\" xlink:href=\"#DejaVuSans-49\"/>\r\n      </g>\r\n     </g>\r\n    </g>\r\n    <g id=\"xtick_9\">\r\n     <g id=\"line2d_28\">\r\n      <path clip-path=\"url(#paa6583ba18)\" d=\"M 397.371522 161.2575 \r\nL 397.371522 25.3575 \r\n\" style=\"fill:none;stroke:#b0b0b0;stroke-linecap:square;stroke-width:0.8;\"/>\r\n     </g>\r\n     <g id=\"line2d_29\">\r\n      <g>\r\n       <use style=\"stroke:#000000;stroke-width:0.8;\" x=\"397.371522\" xlink:href=\"#m2ac2d7acfd\" y=\"161.2575\"/>\r\n      </g>\r\n     </g>\r\n     <g id=\"text_17\">\r\n      <!-- 0 -->\r\n      <g transform=\"translate(394.190272 175.855937)scale(0.1 -0.1)\">\r\n       <use xlink:href=\"#DejaVuSans-48\"/>\r\n      </g>\r\n     </g>\r\n    </g>\r\n    <g id=\"xtick_10\">\r\n     <g id=\"line2d_30\">\r\n      <path clip-path=\"url(#paa6583ba18)\" d=\"M 429.719348 161.2575 \r\nL 429.719348 25.3575 \r\n\" style=\"fill:none;stroke:#b0b0b0;stroke-linecap:square;stroke-width:0.8;\"/>\r\n     </g>\r\n     <g id=\"line2d_31\">\r\n      <g>\r\n       <use style=\"stroke:#000000;stroke-width:0.8;\" x=\"429.719348\" xlink:href=\"#m2ac2d7acfd\" y=\"161.2575\"/>\r\n      </g>\r\n     </g>\r\n     <g id=\"text_18\">\r\n      <!-- 1 -->\r\n      <g transform=\"translate(426.538098 175.855937)scale(0.1 -0.1)\">\r\n       <use xlink:href=\"#DejaVuSans-49\"/>\r\n      </g>\r\n     </g>\r\n    </g>\r\n    <g id=\"xtick_11\">\r\n     <g id=\"line2d_32\">\r\n      <path clip-path=\"url(#paa6583ba18)\" d=\"M 462.067174 161.2575 \r\nL 462.067174 25.3575 \r\n\" style=\"fill:none;stroke:#b0b0b0;stroke-linecap:square;stroke-width:0.8;\"/>\r\n     </g>\r\n     <g id=\"line2d_33\">\r\n      <g>\r\n       <use style=\"stroke:#000000;stroke-width:0.8;\" x=\"462.067174\" xlink:href=\"#m2ac2d7acfd\" y=\"161.2575\"/>\r\n      </g>\r\n     </g>\r\n     <g id=\"text_19\">\r\n      <!-- 2 -->\r\n      <g transform=\"translate(458.885924 175.855937)scale(0.1 -0.1)\">\r\n       <use xlink:href=\"#DejaVuSans-50\"/>\r\n      </g>\r\n     </g>\r\n    </g>\r\n    <g id=\"xtick_12\">\r\n     <g id=\"line2d_34\">\r\n      <path clip-path=\"url(#paa6583ba18)\" d=\"M 494.415 161.2575 \r\nL 494.415 25.3575 \r\n\" style=\"fill:none;stroke:#b0b0b0;stroke-linecap:square;stroke-width:0.8;\"/>\r\n     </g>\r\n     <g id=\"line2d_35\">\r\n      <g>\r\n       <use style=\"stroke:#000000;stroke-width:0.8;\" x=\"494.415\" xlink:href=\"#m2ac2d7acfd\" y=\"161.2575\"/>\r\n      </g>\r\n     </g>\r\n     <g id=\"text_20\">\r\n      <!-- 3 -->\r\n      <g transform=\"translate(491.23375 175.855937)scale(0.1 -0.1)\">\r\n       <use xlink:href=\"#DejaVuSans-51\"/>\r\n      </g>\r\n     </g>\r\n    </g>\r\n    <g id=\"text_21\">\r\n     <!-- Значения x -->\r\n     <g transform=\"translate(370.440428 188.774219)scale(0.09 -0.09)\">\r\n      <use xlink:href=\"#DejaVuSerif-1047\"/>\r\n      <use x=\"62.304688\" xlink:href=\"#DejaVuSerif-1085\"/>\r\n      <use x=\"128.955078\" xlink:href=\"#DejaVuSerif-1072\"/>\r\n      <use x=\"188.574219\" xlink:href=\"#DejaVuSerif-1095\"/>\r\n      <use x=\"254.6875\" xlink:href=\"#DejaVuSerif-1077\"/>\r\n      <use x=\"313.867188\" xlink:href=\"#DejaVuSerif-1085\"/>\r\n      <use x=\"380.517578\" xlink:href=\"#DejaVuSerif-1080\"/>\r\n      <use x=\"447.167969\" xlink:href=\"#DejaVuSerif-1103\"/>\r\n      <use x=\"510.253906\" xlink:href=\"#DejaVuSerif-32\"/>\r\n      <use x=\"542.041016\" xlink:href=\"#DejaVuSerif-120\"/>\r\n     </g>\r\n    </g>\r\n   </g>\r\n   <g id=\"matplotlib.axis_4\">\r\n    <g id=\"ytick_6\">\r\n     <g id=\"line2d_36\">\r\n      <path clip-path=\"url(#paa6583ba18)\" d=\"M 300.328043 150.803654 \r\nL 494.415 150.803654 \r\n\" style=\"fill:none;stroke:#b0b0b0;stroke-linecap:square;stroke-width:0.8;\"/>\r\n     </g>\r\n     <g id=\"line2d_37\">\r\n      <g>\r\n       <use style=\"stroke:#000000;stroke-width:0.8;\" x=\"300.328043\" xlink:href=\"#m0b6f703e94\" y=\"150.803654\"/>\r\n      </g>\r\n     </g>\r\n     <g id=\"text_22\">\r\n      <!-- −5.0 -->\r\n      <g transform=\"translate(269.045231 154.602873)scale(0.1 -0.1)\">\r\n       <defs>\r\n        <path d=\"M 10.796875 72.90625 \r\nL 49.515625 72.90625 \r\nL 49.515625 64.59375 \r\nL 19.828125 64.59375 \r\nL 19.828125 46.734375 \r\nQ 21.96875 47.46875 24.109375 47.828125 \r\nQ 26.265625 48.1875 28.421875 48.1875 \r\nQ 40.625 48.1875 47.75 41.5 \r\nQ 54.890625 34.8125 54.890625 23.390625 \r\nQ 54.890625 11.625 47.5625 5.09375 \r\nQ 40.234375 -1.421875 26.90625 -1.421875 \r\nQ 22.3125 -1.421875 17.546875 -0.640625 \r\nQ 12.796875 0.140625 7.71875 1.703125 \r\nL 7.71875 11.625 \r\nQ 12.109375 9.234375 16.796875 8.0625 \r\nQ 21.484375 6.890625 26.703125 6.890625 \r\nQ 35.15625 6.890625 40.078125 11.328125 \r\nQ 45.015625 15.765625 45.015625 23.390625 \r\nQ 45.015625 31 40.078125 35.4375 \r\nQ 35.15625 39.890625 26.703125 39.890625 \r\nQ 22.75 39.890625 18.8125 39.015625 \r\nQ 14.890625 38.140625 10.796875 36.28125 \r\nz\r\n\" id=\"DejaVuSans-53\"/>\r\n        <path d=\"M 10.6875 12.40625 \r\nL 21 12.40625 \r\nL 21 0 \r\nL 10.6875 0 \r\nz\r\n\" id=\"DejaVuSans-46\"/>\r\n       </defs>\r\n       <use xlink:href=\"#DejaVuSans-8722\"/>\r\n       <use x=\"83.789062\" xlink:href=\"#DejaVuSans-53\"/>\r\n       <use x=\"147.412109\" xlink:href=\"#DejaVuSans-46\"/>\r\n       <use x=\"179.199219\" xlink:href=\"#DejaVuSans-48\"/>\r\n      </g>\r\n     </g>\r\n    </g>\r\n    <g id=\"ytick_7\">\r\n     <g id=\"line2d_38\">\r\n      <path clip-path=\"url(#paa6583ba18)\" d=\"M 300.328043 124.669038 \r\nL 494.415 124.669038 \r\n\" style=\"fill:none;stroke:#b0b0b0;stroke-linecap:square;stroke-width:0.8;\"/>\r\n     </g>\r\n     <g id=\"line2d_39\">\r\n      <g>\r\n       <use style=\"stroke:#000000;stroke-width:0.8;\" x=\"300.328043\" xlink:href=\"#m0b6f703e94\" y=\"124.669038\"/>\r\n      </g>\r\n     </g>\r\n     <g id=\"text_23\">\r\n      <!-- −2.5 -->\r\n      <g transform=\"translate(269.045231 128.468257)scale(0.1 -0.1)\">\r\n       <use xlink:href=\"#DejaVuSans-8722\"/>\r\n       <use x=\"83.789062\" xlink:href=\"#DejaVuSans-50\"/>\r\n       <use x=\"147.412109\" xlink:href=\"#DejaVuSans-46\"/>\r\n       <use x=\"179.199219\" xlink:href=\"#DejaVuSans-53\"/>\r\n      </g>\r\n     </g>\r\n    </g>\r\n    <g id=\"ytick_8\">\r\n     <g id=\"line2d_40\">\r\n      <path clip-path=\"url(#paa6583ba18)\" d=\"M 300.328043 98.534423 \r\nL 494.415 98.534423 \r\n\" style=\"fill:none;stroke:#b0b0b0;stroke-linecap:square;stroke-width:0.8;\"/>\r\n     </g>\r\n     <g id=\"line2d_41\">\r\n      <g>\r\n       <use style=\"stroke:#000000;stroke-width:0.8;\" x=\"300.328043\" xlink:href=\"#m0b6f703e94\" y=\"98.534423\"/>\r\n      </g>\r\n     </g>\r\n     <g id=\"text_24\">\r\n      <!-- 0.0 -->\r\n      <g transform=\"translate(277.424918 102.333642)scale(0.1 -0.1)\">\r\n       <use xlink:href=\"#DejaVuSans-48\"/>\r\n       <use x=\"63.623047\" xlink:href=\"#DejaVuSans-46\"/>\r\n       <use x=\"95.410156\" xlink:href=\"#DejaVuSans-48\"/>\r\n      </g>\r\n     </g>\r\n    </g>\r\n    <g id=\"ytick_9\">\r\n     <g id=\"line2d_42\">\r\n      <path clip-path=\"url(#paa6583ba18)\" d=\"M 300.328043 72.399808 \r\nL 494.415 72.399808 \r\n\" style=\"fill:none;stroke:#b0b0b0;stroke-linecap:square;stroke-width:0.8;\"/>\r\n     </g>\r\n     <g id=\"line2d_43\">\r\n      <g>\r\n       <use style=\"stroke:#000000;stroke-width:0.8;\" x=\"300.328043\" xlink:href=\"#m0b6f703e94\" y=\"72.399808\"/>\r\n      </g>\r\n     </g>\r\n     <g id=\"text_25\">\r\n      <!-- 2.5 -->\r\n      <g transform=\"translate(277.424918 76.199026)scale(0.1 -0.1)\">\r\n       <use xlink:href=\"#DejaVuSans-50\"/>\r\n       <use x=\"63.623047\" xlink:href=\"#DejaVuSans-46\"/>\r\n       <use x=\"95.410156\" xlink:href=\"#DejaVuSans-53\"/>\r\n      </g>\r\n     </g>\r\n    </g>\r\n    <g id=\"ytick_10\">\r\n     <g id=\"line2d_44\">\r\n      <path clip-path=\"url(#paa6583ba18)\" d=\"M 300.328043 46.265192 \r\nL 494.415 46.265192 \r\n\" style=\"fill:none;stroke:#b0b0b0;stroke-linecap:square;stroke-width:0.8;\"/>\r\n     </g>\r\n     <g id=\"line2d_45\">\r\n      <g>\r\n       <use style=\"stroke:#000000;stroke-width:0.8;\" x=\"300.328043\" xlink:href=\"#m0b6f703e94\" y=\"46.265192\"/>\r\n      </g>\r\n     </g>\r\n     <g id=\"text_26\">\r\n      <!-- 5.0 -->\r\n      <g transform=\"translate(277.424918 50.064411)scale(0.1 -0.1)\">\r\n       <use xlink:href=\"#DejaVuSans-53\"/>\r\n       <use x=\"63.623047\" xlink:href=\"#DejaVuSans-46\"/>\r\n       <use x=\"95.410156\" xlink:href=\"#DejaVuSans-48\"/>\r\n      </g>\r\n     </g>\r\n    </g>\r\n    <g id=\"text_27\">\r\n     <!-- Значения y2 -->\r\n     <g transform=\"translate(263.045543 123.106641)rotate(-90)scale(0.09 -0.09)\">\r\n      <defs>\r\n       <path d=\"M 12.796875 55.515625 \r\nL 7.328125 55.515625 \r\nL 7.328125 68.5 \r\nQ 12.546875 71.296875 17.84375 72.75 \r\nQ 23.140625 74.21875 28.21875 74.21875 \r\nQ 39.59375 74.21875 46.1875 68.703125 \r\nQ 52.78125 63.1875 52.78125 53.71875 \r\nQ 52.78125 43.015625 37.84375 28.125 \r\nQ 36.671875 27 36.078125 26.421875 \r\nL 17.671875 8.015625 \r\nL 48.09375 8.015625 \r\nL 48.09375 17 \r\nL 53.8125 17 \r\nL 53.8125 0 \r\nL 6.78125 0 \r\nL 6.78125 5.328125 \r\nL 28.90625 27.390625 \r\nQ 36.234375 34.71875 39.359375 40.84375 \r\nQ 42.484375 46.96875 42.484375 53.71875 \r\nQ 42.484375 61.078125 38.640625 65.234375 \r\nQ 34.8125 69.390625 28.078125 69.390625 \r\nQ 21.09375 69.390625 17.28125 65.921875 \r\nQ 13.484375 62.453125 12.796875 55.515625 \r\nz\r\n\" id=\"DejaVuSerif-50\"/>\r\n      </defs>\r\n      <use xlink:href=\"#DejaVuSerif-1047\"/>\r\n      <use x=\"62.304688\" xlink:href=\"#DejaVuSerif-1085\"/>\r\n      <use x=\"128.955078\" xlink:href=\"#DejaVuSerif-1072\"/>\r\n      <use x=\"188.574219\" xlink:href=\"#DejaVuSerif-1095\"/>\r\n      <use x=\"254.6875\" xlink:href=\"#DejaVuSerif-1077\"/>\r\n      <use x=\"313.867188\" xlink:href=\"#DejaVuSerif-1085\"/>\r\n      <use x=\"380.517578\" xlink:href=\"#DejaVuSerif-1080\"/>\r\n      <use x=\"447.167969\" xlink:href=\"#DejaVuSerif-1103\"/>\r\n      <use x=\"510.253906\" xlink:href=\"#DejaVuSerif-32\"/>\r\n      <use x=\"542.041016\" xlink:href=\"#DejaVuSerif-121\"/>\r\n      <use x=\"598.535156\" xlink:href=\"#DejaVuSerif-50\"/>\r\n     </g>\r\n    </g>\r\n   </g>\r\n   <g id=\"line2d_46\">\r\n    <path clip-path=\"url(#paa6583ba18)\" d=\"M 300.328043 156.030577 \r\nL 304.209783 153.521654 \r\nL 308.091522 151.012731 \r\nL 311.973261 148.503808 \r\nL 315.855 145.994885 \r\nL 319.736739 143.485962 \r\nL 323.618478 140.977038 \r\nL 327.500217 138.468115 \r\nL 331.381957 135.959192 \r\nL 335.263696 133.450269 \r\nL 339.145435 130.941346 \r\nL 343.027174 128.432423 \r\nL 346.908913 125.9235 \r\nL 350.790652 123.414577 \r\nL 354.672391 120.905654 \r\nL 358.55413 118.396731 \r\nL 362.43587 115.887808 \r\nL 366.317609 113.378885 \r\nL 370.199348 110.869962 \r\nL 374.081087 108.361038 \r\nL 377.962826 105.852115 \r\nL 381.844565 103.343192 \r\nL 385.726304 100.834269 \r\nL 389.608043 98.325346 \r\nL 393.489783 95.816423 \r\nL 397.371522 93.3075 \r\nL 401.253261 90.798577 \r\nL 405.135 88.289654 \r\nL 409.016739 85.780731 \r\nL 412.898478 83.271808 \r\nL 416.780217 80.762885 \r\nL 420.661957 78.253962 \r\nL 424.543696 75.745038 \r\nL 428.425435 73.236115 \r\nL 432.307174 70.727192 \r\nL 436.188913 68.218269 \r\nL 440.070652 65.709346 \r\nL 443.952391 63.200423 \r\nL 447.83413 60.6915 \r\nL 451.71587 58.182577 \r\nL 455.597609 55.673654 \r\nL 459.479348 53.164731 \r\nL 463.361087 50.655808 \r\nL 467.242826 48.146885 \r\nL 471.124565 45.637962 \r\nL 475.006304 43.129038 \r\nL 478.888043 40.620115 \r\nL 482.769783 38.111192 \r\nL 486.651522 35.602269 \r\nL 490.533261 33.093346 \r\nL 494.415 30.584423 \r\n\" style=\"fill:none;stroke:#ff2400;stroke-linecap:square;stroke-width:1.5;\"/>\r\n   </g>\r\n   <g id=\"patch_8\">\r\n    <path d=\"M 300.328043 161.2575 \r\nL 300.328043 25.3575 \r\n\" style=\"fill:none;stroke:#000000;stroke-linecap:square;stroke-linejoin:miter;stroke-width:0.8;\"/>\r\n   </g>\r\n   <g id=\"patch_9\">\r\n    <path d=\"M 494.415 161.2575 \r\nL 494.415 25.3575 \r\n\" style=\"fill:none;stroke:#000000;stroke-linecap:square;stroke-linejoin:miter;stroke-width:0.8;\"/>\r\n   </g>\r\n   <g id=\"patch_10\">\r\n    <path d=\"M 300.328043 161.2575 \r\nL 494.415 161.2575 \r\n\" style=\"fill:none;stroke:#000000;stroke-linecap:square;stroke-linejoin:miter;stroke-width:0.8;\"/>\r\n   </g>\r\n   <g id=\"patch_11\">\r\n    <path d=\"M 300.328043 25.3575 \r\nL 494.415 25.3575 \r\n\" style=\"fill:none;stroke:#000000;stroke-linecap:square;stroke-linejoin:miter;stroke-width:0.8;\"/>\r\n   </g>\r\n   <g id=\"text_28\">\r\n    <!-- График y2 -->\r\n    <g style=\"fill:#808080;\" transform=\"translate(349.144022 19.3575)scale(0.16 -0.16)\">\r\n     <defs>\r\n      <path d=\"M 13.1875 54.890625 \r\nL 7.328125 54.890625 \r\nL 7.328125 70.609375 \r\nQ 13.28125 72.40625 19.109375 73.3125 \r\nQ 24.953125 74.21875 30.90625 74.21875 \r\nQ 44.828125 74.21875 52.609375 68.53125 \r\nQ 60.40625 62.84375 60.40625 52.6875 \r\nQ 60.40625 45.453125 56.109375 39.71875 \r\nQ 51.8125 33.984375 39.703125 26.125 \r\nL 19.390625 12.796875 \r\nL 53.90625 12.796875 \r\nL 53.90625 21.390625 \r\nL 60.59375 21.390625 \r\nL 60.59375 0 \r\nL 6.6875 0 \r\nL 6.6875 11.921875 \r\nL 17.484375 19.390625 \r\nQ 31.296875 28.90625 35.890625 35.59375 \r\nQ 40.484375 42.28125 40.484375 51.21875 \r\nQ 40.484375 59.671875 36.984375 64.078125 \r\nQ 33.5 68.5 26.8125 68.5 \r\nQ 21.046875 68.5 17.578125 65.015625 \r\nQ 14.109375 61.53125 13.1875 54.890625 \r\nz\r\n\" id=\"DejaVuSerif-Bold-50\"/>\r\n     </defs>\r\n     <use xlink:href=\"#DejaVuSerif-Bold-1043\"/>\r\n     <use x=\"69.042969\" xlink:href=\"#DejaVuSerif-Bold-1088\"/>\r\n     <use x=\"138.964844\" xlink:href=\"#DejaVuSerif-Bold-1072\"/>\r\n     <use x=\"203.759766\" xlink:href=\"#DejaVuSerif-Bold-1092\"/>\r\n     <use x=\"293.945312\" xlink:href=\"#DejaVuSerif-Bold-1080\"/>\r\n     <use x=\"368.115234\" xlink:href=\"#DejaVuSerif-Bold-1082\"/>\r\n     <use x=\"440.332031\" xlink:href=\"#DejaVuSerif-Bold-32\"/>\r\n     <use x=\"475.146484\" xlink:href=\"#DejaVuSerif-Bold-121\"/>\r\n     <use x=\"533.251953\" xlink:href=\"#DejaVuSerif-Bold-50\"/>\r\n    </g>\r\n   </g>\r\n  </g>\r\n  <g id=\"axes_3\">\r\n   <g id=\"patch_12\">\r\n    <path d=\"M 48.015 351.5175 \r\nL 242.101957 351.5175 \r\nL 242.101957 215.6175 \r\nL 48.015 215.6175 \r\nz\r\n\" style=\"fill:#ffffff;\"/>\r\n   </g>\r\n   <g id=\"matplotlib.axis_5\">\r\n    <g id=\"xtick_13\">\r\n     <g id=\"line2d_47\">\r\n      <path clip-path=\"url(#pcb83b97b0e)\" d=\"M 48.015 351.5175 \r\nL 48.015 215.6175 \r\n\" style=\"fill:none;stroke:#b0b0b0;stroke-linecap:square;stroke-width:0.8;\"/>\r\n     </g>\r\n     <g id=\"line2d_48\">\r\n      <g>\r\n       <use style=\"stroke:#000000;stroke-width:0.8;\" x=\"48.015\" xlink:href=\"#m2ac2d7acfd\" y=\"351.5175\"/>\r\n      </g>\r\n     </g>\r\n     <g id=\"text_29\">\r\n      <!-- −3 -->\r\n      <g transform=\"translate(40.643906 366.115937)scale(0.1 -0.1)\">\r\n       <use xlink:href=\"#DejaVuSans-8722\"/>\r\n       <use x=\"83.789062\" xlink:href=\"#DejaVuSans-51\"/>\r\n      </g>\r\n     </g>\r\n    </g>\r\n    <g id=\"xtick_14\">\r\n     <g id=\"line2d_49\">\r\n      <path clip-path=\"url(#pcb83b97b0e)\" d=\"M 80.362826 351.5175 \r\nL 80.362826 215.6175 \r\n\" style=\"fill:none;stroke:#b0b0b0;stroke-linecap:square;stroke-width:0.8;\"/>\r\n     </g>\r\n     <g id=\"line2d_50\">\r\n      <g>\r\n       <use style=\"stroke:#000000;stroke-width:0.8;\" x=\"80.362826\" xlink:href=\"#m2ac2d7acfd\" y=\"351.5175\"/>\r\n      </g>\r\n     </g>\r\n     <g id=\"text_30\">\r\n      <!-- −2 -->\r\n      <g transform=\"translate(72.991732 366.115937)scale(0.1 -0.1)\">\r\n       <use xlink:href=\"#DejaVuSans-8722\"/>\r\n       <use x=\"83.789062\" xlink:href=\"#DejaVuSans-50\"/>\r\n      </g>\r\n     </g>\r\n    </g>\r\n    <g id=\"xtick_15\">\r\n     <g id=\"line2d_51\">\r\n      <path clip-path=\"url(#pcb83b97b0e)\" d=\"M 112.710652 351.5175 \r\nL 112.710652 215.6175 \r\n\" style=\"fill:none;stroke:#b0b0b0;stroke-linecap:square;stroke-width:0.8;\"/>\r\n     </g>\r\n     <g id=\"line2d_52\">\r\n      <g>\r\n       <use style=\"stroke:#000000;stroke-width:0.8;\" x=\"112.710652\" xlink:href=\"#m2ac2d7acfd\" y=\"351.5175\"/>\r\n      </g>\r\n     </g>\r\n     <g id=\"text_31\">\r\n      <!-- −1 -->\r\n      <g transform=\"translate(105.339558 366.115937)scale(0.1 -0.1)\">\r\n       <use xlink:href=\"#DejaVuSans-8722\"/>\r\n       <use x=\"83.789062\" xlink:href=\"#DejaVuSans-49\"/>\r\n      </g>\r\n     </g>\r\n    </g>\r\n    <g id=\"xtick_16\">\r\n     <g id=\"line2d_53\">\r\n      <path clip-path=\"url(#pcb83b97b0e)\" d=\"M 145.058478 351.5175 \r\nL 145.058478 215.6175 \r\n\" style=\"fill:none;stroke:#b0b0b0;stroke-linecap:square;stroke-width:0.8;\"/>\r\n     </g>\r\n     <g id=\"line2d_54\">\r\n      <g>\r\n       <use style=\"stroke:#000000;stroke-width:0.8;\" x=\"145.058478\" xlink:href=\"#m2ac2d7acfd\" y=\"351.5175\"/>\r\n      </g>\r\n     </g>\r\n     <g id=\"text_32\">\r\n      <!-- 0 -->\r\n      <g transform=\"translate(141.877228 366.115937)scale(0.1 -0.1)\">\r\n       <use xlink:href=\"#DejaVuSans-48\"/>\r\n      </g>\r\n     </g>\r\n    </g>\r\n    <g id=\"xtick_17\">\r\n     <g id=\"line2d_55\">\r\n      <path clip-path=\"url(#pcb83b97b0e)\" d=\"M 177.406304 351.5175 \r\nL 177.406304 215.6175 \r\n\" style=\"fill:none;stroke:#b0b0b0;stroke-linecap:square;stroke-width:0.8;\"/>\r\n     </g>\r\n     <g id=\"line2d_56\">\r\n      <g>\r\n       <use style=\"stroke:#000000;stroke-width:0.8;\" x=\"177.406304\" xlink:href=\"#m2ac2d7acfd\" y=\"351.5175\"/>\r\n      </g>\r\n     </g>\r\n     <g id=\"text_33\">\r\n      <!-- 1 -->\r\n      <g transform=\"translate(174.225054 366.115937)scale(0.1 -0.1)\">\r\n       <use xlink:href=\"#DejaVuSans-49\"/>\r\n      </g>\r\n     </g>\r\n    </g>\r\n    <g id=\"xtick_18\">\r\n     <g id=\"line2d_57\">\r\n      <path clip-path=\"url(#pcb83b97b0e)\" d=\"M 209.75413 351.5175 \r\nL 209.75413 215.6175 \r\n\" style=\"fill:none;stroke:#b0b0b0;stroke-linecap:square;stroke-width:0.8;\"/>\r\n     </g>\r\n     <g id=\"line2d_58\">\r\n      <g>\r\n       <use style=\"stroke:#000000;stroke-width:0.8;\" x=\"209.75413\" xlink:href=\"#m2ac2d7acfd\" y=\"351.5175\"/>\r\n      </g>\r\n     </g>\r\n     <g id=\"text_34\">\r\n      <!-- 2 -->\r\n      <g transform=\"translate(206.57288 366.115937)scale(0.1 -0.1)\">\r\n       <use xlink:href=\"#DejaVuSans-50\"/>\r\n      </g>\r\n     </g>\r\n    </g>\r\n    <g id=\"xtick_19\">\r\n     <g id=\"line2d_59\">\r\n      <path clip-path=\"url(#pcb83b97b0e)\" d=\"M 242.101957 351.5175 \r\nL 242.101957 215.6175 \r\n\" style=\"fill:none;stroke:#b0b0b0;stroke-linecap:square;stroke-width:0.8;\"/>\r\n     </g>\r\n     <g id=\"line2d_60\">\r\n      <g>\r\n       <use style=\"stroke:#000000;stroke-width:0.8;\" x=\"242.101957\" xlink:href=\"#m2ac2d7acfd\" y=\"351.5175\"/>\r\n      </g>\r\n     </g>\r\n     <g id=\"text_35\">\r\n      <!-- 3 -->\r\n      <g transform=\"translate(238.920707 366.115937)scale(0.1 -0.1)\">\r\n       <use xlink:href=\"#DejaVuSans-51\"/>\r\n      </g>\r\n     </g>\r\n    </g>\r\n    <g id=\"text_36\">\r\n     <!-- Значения x -->\r\n     <g transform=\"translate(118.127385 379.034219)scale(0.09 -0.09)\">\r\n      <use xlink:href=\"#DejaVuSerif-1047\"/>\r\n      <use x=\"62.304688\" xlink:href=\"#DejaVuSerif-1085\"/>\r\n      <use x=\"128.955078\" xlink:href=\"#DejaVuSerif-1072\"/>\r\n      <use x=\"188.574219\" xlink:href=\"#DejaVuSerif-1095\"/>\r\n      <use x=\"254.6875\" xlink:href=\"#DejaVuSerif-1077\"/>\r\n      <use x=\"313.867188\" xlink:href=\"#DejaVuSerif-1085\"/>\r\n      <use x=\"380.517578\" xlink:href=\"#DejaVuSerif-1080\"/>\r\n      <use x=\"447.167969\" xlink:href=\"#DejaVuSerif-1103\"/>\r\n      <use x=\"510.253906\" xlink:href=\"#DejaVuSerif-32\"/>\r\n      <use x=\"542.041016\" xlink:href=\"#DejaVuSerif-120\"/>\r\n     </g>\r\n    </g>\r\n   </g>\r\n   <g id=\"matplotlib.axis_6\">\r\n    <g id=\"ytick_11\">\r\n     <g id=\"line2d_61\">\r\n      <path clip-path=\"url(#pcb83b97b0e)\" d=\"M 48.015 351.5175 \r\nL 242.101957 351.5175 \r\n\" style=\"fill:none;stroke:#b0b0b0;stroke-linecap:square;stroke-width:0.8;\"/>\r\n     </g>\r\n     <g id=\"line2d_62\">\r\n      <g>\r\n       <use style=\"stroke:#000000;stroke-width:0.8;\" x=\"48.015\" xlink:href=\"#m0b6f703e94\" y=\"351.5175\"/>\r\n      </g>\r\n     </g>\r\n     <g id=\"text_37\">\r\n      <!-- −10 -->\r\n      <g transform=\"translate(19.910312 355.316719)scale(0.1 -0.1)\">\r\n       <use xlink:href=\"#DejaVuSans-8722\"/>\r\n       <use x=\"83.789062\" xlink:href=\"#DejaVuSans-49\"/>\r\n       <use x=\"147.412109\" xlink:href=\"#DejaVuSans-48\"/>\r\n      </g>\r\n     </g>\r\n    </g>\r\n    <g id=\"ytick_12\">\r\n     <g id=\"line2d_63\">\r\n      <path clip-path=\"url(#pcb83b97b0e)\" d=\"M 48.015 311.546912 \r\nL 242.101957 311.546912 \r\n\" style=\"fill:none;stroke:#b0b0b0;stroke-linecap:square;stroke-width:0.8;\"/>\r\n     </g>\r\n     <g id=\"line2d_64\">\r\n      <g>\r\n       <use style=\"stroke:#000000;stroke-width:0.8;\" x=\"48.015\" xlink:href=\"#m0b6f703e94\" y=\"311.546912\"/>\r\n      </g>\r\n     </g>\r\n     <g id=\"text_38\">\r\n      <!-- −5 -->\r\n      <g transform=\"translate(26.272813 315.346131)scale(0.1 -0.1)\">\r\n       <use xlink:href=\"#DejaVuSans-8722\"/>\r\n       <use x=\"83.789062\" xlink:href=\"#DejaVuSans-53\"/>\r\n      </g>\r\n     </g>\r\n    </g>\r\n    <g id=\"ytick_13\">\r\n     <g id=\"line2d_65\">\r\n      <path clip-path=\"url(#pcb83b97b0e)\" d=\"M 48.015 271.576324 \r\nL 242.101957 271.576324 \r\n\" style=\"fill:none;stroke:#b0b0b0;stroke-linecap:square;stroke-width:0.8;\"/>\r\n     </g>\r\n     <g id=\"line2d_66\">\r\n      <g>\r\n       <use style=\"stroke:#000000;stroke-width:0.8;\" x=\"48.015\" xlink:href=\"#m0b6f703e94\" y=\"271.576324\"/>\r\n      </g>\r\n     </g>\r\n     <g id=\"text_39\">\r\n      <!-- 0 -->\r\n      <g transform=\"translate(34.6525 275.375542)scale(0.1 -0.1)\">\r\n       <use xlink:href=\"#DejaVuSans-48\"/>\r\n      </g>\r\n     </g>\r\n    </g>\r\n    <g id=\"ytick_14\">\r\n     <g id=\"line2d_67\">\r\n      <path clip-path=\"url(#pcb83b97b0e)\" d=\"M 48.015 231.605735 \r\nL 242.101957 231.605735 \r\n\" style=\"fill:none;stroke:#b0b0b0;stroke-linecap:square;stroke-width:0.8;\"/>\r\n     </g>\r\n     <g id=\"line2d_68\">\r\n      <g>\r\n       <use style=\"stroke:#000000;stroke-width:0.8;\" x=\"48.015\" xlink:href=\"#m0b6f703e94\" y=\"231.605735\"/>\r\n      </g>\r\n     </g>\r\n     <g id=\"text_40\">\r\n      <!-- 5 -->\r\n      <g transform=\"translate(34.6525 235.404954)scale(0.1 -0.1)\">\r\n       <use xlink:href=\"#DejaVuSans-53\"/>\r\n      </g>\r\n     </g>\r\n    </g>\r\n    <g id=\"text_41\">\r\n     <!-- Значения y3 -->\r\n     <g transform=\"translate(13.910625 313.366641)rotate(-90)scale(0.09 -0.09)\">\r\n      <defs>\r\n       <path d=\"M 9.71875 69.828125 \r\nQ 15.4375 71.96875 20.671875 73.09375 \r\nQ 25.921875 74.21875 30.515625 74.21875 \r\nQ 41.21875 74.21875 47.21875 69.59375 \r\nQ 53.21875 64.984375 53.21875 56.78125 \r\nQ 53.21875 50.203125 49.0625 45.78125 \r\nQ 44.921875 41.359375 37.3125 39.796875 \r\nQ 46.296875 38.53125 51.25 33.28125 \r\nQ 56.203125 28.03125 56.203125 19.671875 \r\nQ 56.203125 9.46875 49.34375 4.015625 \r\nQ 42.484375 -1.421875 29.59375 -1.421875 \r\nQ 23.875 -1.421875 18.421875 -0.1875 \r\nQ 12.984375 1.03125 7.625 3.515625 \r\nL 7.625 17.671875 \r\nL 13.09375 17.671875 \r\nQ 13.578125 10.640625 17.828125 7.03125 \r\nQ 22.078125 3.421875 29.78125 3.421875 \r\nQ 37.25 3.421875 41.578125 7.734375 \r\nQ 45.90625 12.0625 45.90625 19.578125 \r\nQ 45.90625 28.171875 41.453125 32.59375 \r\nQ 37.015625 37.015625 28.421875 37.015625 \r\nL 23.78125 37.015625 \r\nL 23.78125 42 \r\nL 26.21875 42 \r\nQ 34.765625 42 39.03125 45.53125 \r\nQ 43.3125 49.078125 43.3125 56.203125 \r\nQ 43.3125 62.59375 39.796875 65.984375 \r\nQ 36.28125 69.390625 29.6875 69.390625 \r\nQ 23.09375 69.390625 19.453125 66.265625 \r\nQ 15.828125 63.140625 15.1875 56.984375 \r\nL 9.71875 56.984375 \r\nz\r\n\" id=\"DejaVuSerif-51\"/>\r\n      </defs>\r\n      <use xlink:href=\"#DejaVuSerif-1047\"/>\r\n      <use x=\"62.304688\" xlink:href=\"#DejaVuSerif-1085\"/>\r\n      <use x=\"128.955078\" xlink:href=\"#DejaVuSerif-1072\"/>\r\n      <use x=\"188.574219\" xlink:href=\"#DejaVuSerif-1095\"/>\r\n      <use x=\"254.6875\" xlink:href=\"#DejaVuSerif-1077\"/>\r\n      <use x=\"313.867188\" xlink:href=\"#DejaVuSerif-1085\"/>\r\n      <use x=\"380.517578\" xlink:href=\"#DejaVuSerif-1080\"/>\r\n      <use x=\"447.167969\" xlink:href=\"#DejaVuSerif-1103\"/>\r\n      <use x=\"510.253906\" xlink:href=\"#DejaVuSerif-32\"/>\r\n      <use x=\"542.041016\" xlink:href=\"#DejaVuSerif-121\"/>\r\n      <use x=\"598.535156\" xlink:href=\"#DejaVuSerif-51\"/>\r\n     </g>\r\n    </g>\r\n   </g>\r\n   <g id=\"line2d_69\">\r\n    <path clip-path=\"url(#pcb83b97b0e)\" d=\"M 48.015 211.620441 \r\nL 51.896739 214.498324 \r\nL 55.778478 217.376206 \r\nL 59.660217 220.254088 \r\nL 63.541957 223.131971 \r\nL 67.423696 226.009853 \r\nL 71.305435 228.887735 \r\nL 75.187174 231.765618 \r\nL 79.068913 234.6435 \r\nL 82.950652 237.521382 \r\nL 86.832391 240.399265 \r\nL 90.71413 243.277147 \r\nL 94.59587 246.155029 \r\nL 98.477609 249.032912 \r\nL 102.359348 251.910794 \r\nL 106.241087 254.788676 \r\nL 110.122826 257.666559 \r\nL 114.004565 260.544441 \r\nL 117.886304 263.422324 \r\nL 121.768043 266.300206 \r\nL 125.649783 269.178088 \r\nL 129.531522 272.055971 \r\nL 133.413261 274.933853 \r\nL 137.295 277.811735 \r\nL 141.176739 280.689618 \r\nL 145.058478 283.5675 \r\nL 148.940217 286.445382 \r\nL 152.821957 289.323265 \r\nL 156.703696 292.201147 \r\nL 160.585435 295.079029 \r\nL 164.467174 297.956912 \r\nL 168.348913 300.834794 \r\nL 172.230652 303.712676 \r\nL 176.112391 306.590559 \r\nL 179.99413 309.468441 \r\nL 183.87587 312.346324 \r\nL 187.757609 315.224206 \r\nL 191.639348 318.102088 \r\nL 195.521087 320.979971 \r\nL 199.402826 323.857853 \r\nL 203.284565 326.735735 \r\nL 207.166304 329.613618 \r\nL 211.048043 332.4915 \r\nL 214.929783 335.369382 \r\nL 218.811522 338.247265 \r\nL 222.693261 341.125147 \r\nL 226.575 344.003029 \r\nL 230.456739 346.880912 \r\nL 234.338478 349.758794 \r\nL 238.220217 352.636676 \r\nL 242.101957 355.514559 \r\n\" style=\"fill:none;stroke:#00ffff;stroke-linecap:square;stroke-width:1.5;\"/>\r\n   </g>\r\n   <g id=\"patch_13\">\r\n    <path d=\"M 48.015 351.5175 \r\nL 48.015 215.6175 \r\n\" style=\"fill:none;stroke:#000000;stroke-linecap:square;stroke-linejoin:miter;stroke-width:0.8;\"/>\r\n   </g>\r\n   <g id=\"patch_14\">\r\n    <path d=\"M 242.101957 351.5175 \r\nL 242.101957 215.6175 \r\n\" style=\"fill:none;stroke:#000000;stroke-linecap:square;stroke-linejoin:miter;stroke-width:0.8;\"/>\r\n   </g>\r\n   <g id=\"patch_15\">\r\n    <path d=\"M 48.015 351.5175 \r\nL 242.101957 351.5175 \r\n\" style=\"fill:none;stroke:#000000;stroke-linecap:square;stroke-linejoin:miter;stroke-width:0.8;\"/>\r\n   </g>\r\n   <g id=\"patch_16\">\r\n    <path d=\"M 48.015 215.6175 \r\nL 242.101957 215.6175 \r\n\" style=\"fill:none;stroke:#000000;stroke-linecap:square;stroke-linejoin:miter;stroke-width:0.8;\"/>\r\n   </g>\r\n   <g id=\"text_42\">\r\n    <!-- График y3 -->\r\n    <g style=\"fill:#808080;\" transform=\"translate(96.830978 209.6175)scale(0.16 -0.16)\">\r\n     <defs>\r\n      <path d=\"M 8.59375 70.796875 \r\nQ 15.046875 72.515625 21.09375 73.359375 \r\nQ 27.15625 74.21875 32.90625 74.21875 \r\nQ 46.09375 74.21875 53.140625 69.5 \r\nQ 60.203125 64.796875 60.203125 56 \r\nQ 60.203125 49.421875 56.140625 45.3125 \r\nQ 52.09375 41.21875 44.28125 39.796875 \r\nQ 53.8125 38.28125 58.5 33.296875 \r\nQ 63.1875 28.328125 63.1875 19.671875 \r\nQ 63.1875 9.46875 55.09375 4.015625 \r\nQ 47.015625 -1.421875 31.6875 -1.421875 \r\nQ 25.921875 -1.421875 19.796875 -0.4375 \r\nQ 13.671875 0.53125 6.984375 2.484375 \r\nL 6.984375 18.5 \r\nL 12.890625 18.5 \r\nQ 13.421875 11.578125 17.234375 7.9375 \r\nQ 21.046875 4.296875 27.78125 4.296875 \r\nQ 35.203125 4.296875 39.25 8.421875 \r\nQ 43.3125 12.546875 43.3125 20.125 \r\nQ 43.3125 28.03125 39.078125 32.328125 \r\nQ 34.859375 36.625 27.09375 36.625 \r\nL 23.875 36.625 \r\nL 23.875 42.484375 \r\nL 26.421875 42.484375 \r\nQ 33.59375 42.484375 37.203125 45.796875 \r\nQ 40.828125 49.125 40.828125 55.71875 \r\nQ 40.828125 61.921875 37.421875 65.203125 \r\nQ 34.03125 68.5 27.6875 68.5 \r\nQ 21.921875 68.5 18.546875 65.34375 \r\nQ 15.1875 62.203125 14.5 56.203125 \r\nL 8.59375 56.203125 \r\nz\r\n\" id=\"DejaVuSerif-Bold-51\"/>\r\n     </defs>\r\n     <use xlink:href=\"#DejaVuSerif-Bold-1043\"/>\r\n     <use x=\"69.042969\" xlink:href=\"#DejaVuSerif-Bold-1088\"/>\r\n     <use x=\"138.964844\" xlink:href=\"#DejaVuSerif-Bold-1072\"/>\r\n     <use x=\"203.759766\" xlink:href=\"#DejaVuSerif-Bold-1092\"/>\r\n     <use x=\"293.945312\" xlink:href=\"#DejaVuSerif-Bold-1080\"/>\r\n     <use x=\"368.115234\" xlink:href=\"#DejaVuSerif-Bold-1082\"/>\r\n     <use x=\"440.332031\" xlink:href=\"#DejaVuSerif-Bold-32\"/>\r\n     <use x=\"475.146484\" xlink:href=\"#DejaVuSerif-Bold-121\"/>\r\n     <use x=\"533.251953\" xlink:href=\"#DejaVuSerif-Bold-51\"/>\r\n    </g>\r\n   </g>\r\n  </g>\r\n  <g id=\"axes_4\">\r\n   <g id=\"patch_17\">\r\n    <path d=\"M 300.328043 351.5175 \r\nL 494.415 351.5175 \r\nL 494.415 215.6175 \r\nL 300.328043 215.6175 \r\nz\r\n\" style=\"fill:#ffffff;\"/>\r\n   </g>\r\n   <g id=\"matplotlib.axis_7\">\r\n    <g id=\"xtick_20\">\r\n     <g id=\"line2d_70\">\r\n      <path clip-path=\"url(#p8904b0dc6b)\" d=\"M 300.328043 351.5175 \r\nL 300.328043 215.6175 \r\n\" style=\"fill:none;stroke:#b0b0b0;stroke-linecap:square;stroke-width:0.8;\"/>\r\n     </g>\r\n     <g id=\"line2d_71\">\r\n      <g>\r\n       <use style=\"stroke:#000000;stroke-width:0.8;\" x=\"300.328043\" xlink:href=\"#m2ac2d7acfd\" y=\"351.5175\"/>\r\n      </g>\r\n     </g>\r\n     <g id=\"text_43\">\r\n      <!-- −3 -->\r\n      <g transform=\"translate(292.95695 366.115937)scale(0.1 -0.1)\">\r\n       <use xlink:href=\"#DejaVuSans-8722\"/>\r\n       <use x=\"83.789062\" xlink:href=\"#DejaVuSans-51\"/>\r\n      </g>\r\n     </g>\r\n    </g>\r\n    <g id=\"xtick_21\">\r\n     <g id=\"line2d_72\">\r\n      <path clip-path=\"url(#p8904b0dc6b)\" d=\"M 332.67587 351.5175 \r\nL 332.67587 215.6175 \r\n\" style=\"fill:none;stroke:#b0b0b0;stroke-linecap:square;stroke-width:0.8;\"/>\r\n     </g>\r\n     <g id=\"line2d_73\">\r\n      <g>\r\n       <use style=\"stroke:#000000;stroke-width:0.8;\" x=\"332.67587\" xlink:href=\"#m2ac2d7acfd\" y=\"351.5175\"/>\r\n      </g>\r\n     </g>\r\n     <g id=\"text_44\">\r\n      <!-- −2 -->\r\n      <g transform=\"translate(325.304776 366.115937)scale(0.1 -0.1)\">\r\n       <use xlink:href=\"#DejaVuSans-8722\"/>\r\n       <use x=\"83.789062\" xlink:href=\"#DejaVuSans-50\"/>\r\n      </g>\r\n     </g>\r\n    </g>\r\n    <g id=\"xtick_22\">\r\n     <g id=\"line2d_74\">\r\n      <path clip-path=\"url(#p8904b0dc6b)\" d=\"M 365.023696 351.5175 \r\nL 365.023696 215.6175 \r\n\" style=\"fill:none;stroke:#b0b0b0;stroke-linecap:square;stroke-width:0.8;\"/>\r\n     </g>\r\n     <g id=\"line2d_75\">\r\n      <g>\r\n       <use style=\"stroke:#000000;stroke-width:0.8;\" x=\"365.023696\" xlink:href=\"#m2ac2d7acfd\" y=\"351.5175\"/>\r\n      </g>\r\n     </g>\r\n     <g id=\"text_45\">\r\n      <!-- −1 -->\r\n      <g transform=\"translate(357.652602 366.115937)scale(0.1 -0.1)\">\r\n       <use xlink:href=\"#DejaVuSans-8722\"/>\r\n       <use x=\"83.789062\" xlink:href=\"#DejaVuSans-49\"/>\r\n      </g>\r\n     </g>\r\n    </g>\r\n    <g id=\"xtick_23\">\r\n     <g id=\"line2d_76\">\r\n      <path clip-path=\"url(#p8904b0dc6b)\" d=\"M 397.371522 351.5175 \r\nL 397.371522 215.6175 \r\n\" style=\"fill:none;stroke:#b0b0b0;stroke-linecap:square;stroke-width:0.8;\"/>\r\n     </g>\r\n     <g id=\"line2d_77\">\r\n      <g>\r\n       <use style=\"stroke:#000000;stroke-width:0.8;\" x=\"397.371522\" xlink:href=\"#m2ac2d7acfd\" y=\"351.5175\"/>\r\n      </g>\r\n     </g>\r\n     <g id=\"text_46\">\r\n      <!-- 0 -->\r\n      <g transform=\"translate(394.190272 366.115937)scale(0.1 -0.1)\">\r\n       <use xlink:href=\"#DejaVuSans-48\"/>\r\n      </g>\r\n     </g>\r\n    </g>\r\n    <g id=\"xtick_24\">\r\n     <g id=\"line2d_78\">\r\n      <path clip-path=\"url(#p8904b0dc6b)\" d=\"M 429.719348 351.5175 \r\nL 429.719348 215.6175 \r\n\" style=\"fill:none;stroke:#b0b0b0;stroke-linecap:square;stroke-width:0.8;\"/>\r\n     </g>\r\n     <g id=\"line2d_79\">\r\n      <g>\r\n       <use style=\"stroke:#000000;stroke-width:0.8;\" x=\"429.719348\" xlink:href=\"#m2ac2d7acfd\" y=\"351.5175\"/>\r\n      </g>\r\n     </g>\r\n     <g id=\"text_47\">\r\n      <!-- 1 -->\r\n      <g transform=\"translate(426.538098 366.115937)scale(0.1 -0.1)\">\r\n       <use xlink:href=\"#DejaVuSans-49\"/>\r\n      </g>\r\n     </g>\r\n    </g>\r\n    <g id=\"xtick_25\">\r\n     <g id=\"line2d_80\">\r\n      <path clip-path=\"url(#p8904b0dc6b)\" d=\"M 462.067174 351.5175 \r\nL 462.067174 215.6175 \r\n\" style=\"fill:none;stroke:#b0b0b0;stroke-linecap:square;stroke-width:0.8;\"/>\r\n     </g>\r\n     <g id=\"line2d_81\">\r\n      <g>\r\n       <use style=\"stroke:#000000;stroke-width:0.8;\" x=\"462.067174\" xlink:href=\"#m2ac2d7acfd\" y=\"351.5175\"/>\r\n      </g>\r\n     </g>\r\n     <g id=\"text_48\">\r\n      <!-- 2 -->\r\n      <g transform=\"translate(458.885924 366.115937)scale(0.1 -0.1)\">\r\n       <use xlink:href=\"#DejaVuSans-50\"/>\r\n      </g>\r\n     </g>\r\n    </g>\r\n    <g id=\"xtick_26\">\r\n     <g id=\"line2d_82\">\r\n      <path clip-path=\"url(#p8904b0dc6b)\" d=\"M 494.415 351.5175 \r\nL 494.415 215.6175 \r\n\" style=\"fill:none;stroke:#b0b0b0;stroke-linecap:square;stroke-width:0.8;\"/>\r\n     </g>\r\n     <g id=\"line2d_83\">\r\n      <g>\r\n       <use style=\"stroke:#000000;stroke-width:0.8;\" x=\"494.415\" xlink:href=\"#m2ac2d7acfd\" y=\"351.5175\"/>\r\n      </g>\r\n     </g>\r\n     <g id=\"text_49\">\r\n      <!-- 3 -->\r\n      <g transform=\"translate(491.23375 366.115937)scale(0.1 -0.1)\">\r\n       <use xlink:href=\"#DejaVuSans-51\"/>\r\n      </g>\r\n     </g>\r\n    </g>\r\n    <g id=\"text_50\">\r\n     <!-- Значения x -->\r\n     <g transform=\"translate(370.440428 379.034219)scale(0.09 -0.09)\">\r\n      <use xlink:href=\"#DejaVuSerif-1047\"/>\r\n      <use x=\"62.304688\" xlink:href=\"#DejaVuSerif-1085\"/>\r\n      <use x=\"128.955078\" xlink:href=\"#DejaVuSerif-1072\"/>\r\n      <use x=\"188.574219\" xlink:href=\"#DejaVuSerif-1095\"/>\r\n      <use x=\"254.6875\" xlink:href=\"#DejaVuSerif-1077\"/>\r\n      <use x=\"313.867188\" xlink:href=\"#DejaVuSerif-1085\"/>\r\n      <use x=\"380.517578\" xlink:href=\"#DejaVuSerif-1080\"/>\r\n      <use x=\"447.167969\" xlink:href=\"#DejaVuSerif-1103\"/>\r\n      <use x=\"510.253906\" xlink:href=\"#DejaVuSerif-32\"/>\r\n      <use x=\"542.041016\" xlink:href=\"#DejaVuSerif-120\"/>\r\n     </g>\r\n    </g>\r\n   </g>\r\n   <g id=\"matplotlib.axis_8\">\r\n    <g id=\"ytick_15\">\r\n     <g id=\"line2d_84\">\r\n      <path clip-path=\"url(#p8904b0dc6b)\" d=\"M 300.328043 346.290577 \r\nL 494.415 346.290577 \r\n\" style=\"fill:none;stroke:#b0b0b0;stroke-linecap:square;stroke-width:0.8;\"/>\r\n     </g>\r\n     <g id=\"line2d_85\">\r\n      <g>\r\n       <use style=\"stroke:#000000;stroke-width:0.8;\" x=\"300.328043\" xlink:href=\"#m0b6f703e94\" y=\"346.290577\"/>\r\n      </g>\r\n     </g>\r\n     <g id=\"text_51\">\r\n      <!-- −0.25 -->\r\n      <g transform=\"translate(262.682731 350.089796)scale(0.1 -0.1)\">\r\n       <use xlink:href=\"#DejaVuSans-8722\"/>\r\n       <use x=\"83.789062\" xlink:href=\"#DejaVuSans-48\"/>\r\n       <use x=\"147.412109\" xlink:href=\"#DejaVuSans-46\"/>\r\n       <use x=\"179.199219\" xlink:href=\"#DejaVuSans-50\"/>\r\n       <use x=\"242.822266\" xlink:href=\"#DejaVuSans-53\"/>\r\n      </g>\r\n     </g>\r\n    </g>\r\n    <g id=\"ytick_16\">\r\n     <g id=\"line2d_86\">\r\n      <path clip-path=\"url(#p8904b0dc6b)\" d=\"M 300.328043 320.155962 \r\nL 494.415 320.155962 \r\n\" style=\"fill:none;stroke:#b0b0b0;stroke-linecap:square;stroke-width:0.8;\"/>\r\n     </g>\r\n     <g id=\"line2d_87\">\r\n      <g>\r\n       <use style=\"stroke:#000000;stroke-width:0.8;\" x=\"300.328043\" xlink:href=\"#m0b6f703e94\" y=\"320.155962\"/>\r\n      </g>\r\n     </g>\r\n     <g id=\"text_52\">\r\n      <!-- 0.00 -->\r\n      <g transform=\"translate(271.062418 323.95518)scale(0.1 -0.1)\">\r\n       <use xlink:href=\"#DejaVuSans-48\"/>\r\n       <use x=\"63.623047\" xlink:href=\"#DejaVuSans-46\"/>\r\n       <use x=\"95.410156\" xlink:href=\"#DejaVuSans-48\"/>\r\n       <use x=\"159.033203\" xlink:href=\"#DejaVuSans-48\"/>\r\n      </g>\r\n     </g>\r\n    </g>\r\n    <g id=\"ytick_17\">\r\n     <g id=\"line2d_88\">\r\n      <path clip-path=\"url(#p8904b0dc6b)\" d=\"M 300.328043 294.021346 \r\nL 494.415 294.021346 \r\n\" style=\"fill:none;stroke:#b0b0b0;stroke-linecap:square;stroke-width:0.8;\"/>\r\n     </g>\r\n     <g id=\"line2d_89\">\r\n      <g>\r\n       <use style=\"stroke:#000000;stroke-width:0.8;\" x=\"300.328043\" xlink:href=\"#m0b6f703e94\" y=\"294.021346\"/>\r\n      </g>\r\n     </g>\r\n     <g id=\"text_53\">\r\n      <!-- 0.25 -->\r\n      <g transform=\"translate(271.062418 297.820565)scale(0.1 -0.1)\">\r\n       <use xlink:href=\"#DejaVuSans-48\"/>\r\n       <use x=\"63.623047\" xlink:href=\"#DejaVuSans-46\"/>\r\n       <use x=\"95.410156\" xlink:href=\"#DejaVuSans-50\"/>\r\n       <use x=\"159.033203\" xlink:href=\"#DejaVuSans-53\"/>\r\n      </g>\r\n     </g>\r\n    </g>\r\n    <g id=\"ytick_18\">\r\n     <g id=\"line2d_90\">\r\n      <path clip-path=\"url(#p8904b0dc6b)\" d=\"M 300.328043 267.886731 \r\nL 494.415 267.886731 \r\n\" style=\"fill:none;stroke:#b0b0b0;stroke-linecap:square;stroke-width:0.8;\"/>\r\n     </g>\r\n     <g id=\"line2d_91\">\r\n      <g>\r\n       <use style=\"stroke:#000000;stroke-width:0.8;\" x=\"300.328043\" xlink:href=\"#m0b6f703e94\" y=\"267.886731\"/>\r\n      </g>\r\n     </g>\r\n     <g id=\"text_54\">\r\n      <!-- 0.50 -->\r\n      <g transform=\"translate(271.062418 271.68595)scale(0.1 -0.1)\">\r\n       <use xlink:href=\"#DejaVuSans-48\"/>\r\n       <use x=\"63.623047\" xlink:href=\"#DejaVuSans-46\"/>\r\n       <use x=\"95.410156\" xlink:href=\"#DejaVuSans-53\"/>\r\n       <use x=\"159.033203\" xlink:href=\"#DejaVuSans-48\"/>\r\n      </g>\r\n     </g>\r\n    </g>\r\n    <g id=\"ytick_19\">\r\n     <g id=\"line2d_92\">\r\n      <path clip-path=\"url(#p8904b0dc6b)\" d=\"M 300.328043 241.752115 \r\nL 494.415 241.752115 \r\n\" style=\"fill:none;stroke:#b0b0b0;stroke-linecap:square;stroke-width:0.8;\"/>\r\n     </g>\r\n     <g id=\"line2d_93\">\r\n      <g>\r\n       <use style=\"stroke:#000000;stroke-width:0.8;\" x=\"300.328043\" xlink:href=\"#m0b6f703e94\" y=\"241.752115\"/>\r\n      </g>\r\n     </g>\r\n     <g id=\"text_55\">\r\n      <!-- 0.75 -->\r\n      <g transform=\"translate(271.062418 245.551334)scale(0.1 -0.1)\">\r\n       <defs>\r\n        <path d=\"M 8.203125 72.90625 \r\nL 55.078125 72.90625 \r\nL 55.078125 68.703125 \r\nL 28.609375 0 \r\nL 18.3125 0 \r\nL 43.21875 64.59375 \r\nL 8.203125 64.59375 \r\nz\r\n\" id=\"DejaVuSans-55\"/>\r\n       </defs>\r\n       <use xlink:href=\"#DejaVuSans-48\"/>\r\n       <use x=\"63.623047\" xlink:href=\"#DejaVuSans-46\"/>\r\n       <use x=\"95.410156\" xlink:href=\"#DejaVuSans-55\"/>\r\n       <use x=\"159.033203\" xlink:href=\"#DejaVuSans-53\"/>\r\n      </g>\r\n     </g>\r\n    </g>\r\n    <g id=\"ytick_20\">\r\n     <g id=\"line2d_94\">\r\n      <path clip-path=\"url(#p8904b0dc6b)\" d=\"M 300.328043 215.6175 \r\nL 494.415 215.6175 \r\n\" style=\"fill:none;stroke:#b0b0b0;stroke-linecap:square;stroke-width:0.8;\"/>\r\n     </g>\r\n     <g id=\"line2d_95\">\r\n      <g>\r\n       <use style=\"stroke:#000000;stroke-width:0.8;\" x=\"300.328043\" xlink:href=\"#m0b6f703e94\" y=\"215.6175\"/>\r\n      </g>\r\n     </g>\r\n     <g id=\"text_56\">\r\n      <!-- 1.00 -->\r\n      <g transform=\"translate(271.062418 219.416719)scale(0.1 -0.1)\">\r\n       <use xlink:href=\"#DejaVuSans-49\"/>\r\n       <use x=\"63.623047\" xlink:href=\"#DejaVuSans-46\"/>\r\n       <use x=\"95.410156\" xlink:href=\"#DejaVuSans-48\"/>\r\n       <use x=\"159.033203\" xlink:href=\"#DejaVuSans-48\"/>\r\n      </g>\r\n     </g>\r\n    </g>\r\n    <g id=\"text_57\">\r\n     <!-- Значения y4 -->\r\n     <g transform=\"translate(256.683043 313.366641)rotate(-90)scale(0.09 -0.09)\">\r\n      <defs>\r\n       <path d=\"M 34.90625 24.703125 \r\nL 34.90625 63.484375 \r\nL 10.015625 24.703125 \r\nz\r\nM 56.390625 0 \r\nL 23.1875 0 \r\nL 23.1875 5.171875 \r\nL 34.90625 5.171875 \r\nL 34.90625 19.484375 \r\nL 3.078125 19.484375 \r\nL 3.078125 24.8125 \r\nL 35.015625 74.21875 \r\nL 44.671875 74.21875 \r\nL 44.671875 24.703125 \r\nL 58.59375 24.703125 \r\nL 58.59375 19.484375 \r\nL 44.671875 19.484375 \r\nL 44.671875 5.171875 \r\nL 56.390625 5.171875 \r\nz\r\n\" id=\"DejaVuSerif-52\"/>\r\n      </defs>\r\n      <use xlink:href=\"#DejaVuSerif-1047\"/>\r\n      <use x=\"62.304688\" xlink:href=\"#DejaVuSerif-1085\"/>\r\n      <use x=\"128.955078\" xlink:href=\"#DejaVuSerif-1072\"/>\r\n      <use x=\"188.574219\" xlink:href=\"#DejaVuSerif-1095\"/>\r\n      <use x=\"254.6875\" xlink:href=\"#DejaVuSerif-1077\"/>\r\n      <use x=\"313.867188\" xlink:href=\"#DejaVuSerif-1085\"/>\r\n      <use x=\"380.517578\" xlink:href=\"#DejaVuSerif-1080\"/>\r\n      <use x=\"447.167969\" xlink:href=\"#DejaVuSerif-1103\"/>\r\n      <use x=\"510.253906\" xlink:href=\"#DejaVuSerif-32\"/>\r\n      <use x=\"542.041016\" xlink:href=\"#DejaVuSerif-121\"/>\r\n      <use x=\"598.535156\" xlink:href=\"#DejaVuSerif-52\"/>\r\n     </g>\r\n    </g>\r\n   </g>\r\n   <g id=\"line2d_96\">\r\n    <path clip-path=\"url(#p8904b0dc6b)\" d=\"M 300.328043 320.155962 \r\nL 304.209783 315.902637 \r\nL 308.091522 311.902797 \r\nL 311.973261 308.751156 \r\nL 315.855 306.977404 \r\nL 319.736739 306.969711 \r\nL 323.618478 308.91065 \r\nL 327.500217 312.734362 \r\nL 331.381957 318.111578 \r\nL 335.263696 324.46602 \r\nL 339.145435 331.022029 \r\nL 343.027174 336.879497 \r\nL 346.908913 341.108669 \r\nL 350.790652 342.854727 \r\nL 354.672391 341.440462 \r\nL 358.55413 336.455063 \r\nL 362.43587 327.818287 \r\nL 366.317609 315.811647 \r\nL 370.199348 301.071848 \r\nL 374.081087 284.545808 \r\nL 377.962826 267.41096 \r\nL 381.844565 250.968537 \r\nL 385.726304 236.520722 \r\nL 389.608043 225.244573 \r\nL 393.489783 218.076171 \r\nL 397.371522 215.6175 \r\nL 401.253261 218.076171 \r\nL 405.135 225.244573 \r\nL 409.016739 236.520722 \r\nL 412.898478 250.968537 \r\nL 416.780217 267.41096 \r\nL 420.661957 284.545808 \r\nL 424.543696 301.071848 \r\nL 428.425435 315.811647 \r\nL 432.307174 327.818287 \r\nL 436.188913 336.455063 \r\nL 440.070652 341.440462 \r\nL 443.952391 342.854727 \r\nL 447.83413 341.108669 \r\nL 451.71587 336.879497 \r\nL 455.597609 331.022029 \r\nL 459.479348 324.46602 \r\nL 463.361087 318.111578 \r\nL 467.242826 312.734362 \r\nL 471.124565 308.91065 \r\nL 475.006304 306.969711 \r\nL 478.888043 306.977404 \r\nL 482.769783 308.751156 \r\nL 486.651522 311.902797 \r\nL 490.533261 315.902637 \r\nL 494.415 320.155962 \r\n\" style=\"fill:none;stroke:#ff00ff;stroke-linecap:square;stroke-width:1.5;\"/>\r\n   </g>\r\n   <g id=\"patch_18\">\r\n    <path d=\"M 300.328043 351.5175 \r\nL 300.328043 215.6175 \r\n\" style=\"fill:none;stroke:#000000;stroke-linecap:square;stroke-linejoin:miter;stroke-width:0.8;\"/>\r\n   </g>\r\n   <g id=\"patch_19\">\r\n    <path d=\"M 494.415 351.5175 \r\nL 494.415 215.6175 \r\n\" style=\"fill:none;stroke:#000000;stroke-linecap:square;stroke-linejoin:miter;stroke-width:0.8;\"/>\r\n   </g>\r\n   <g id=\"patch_20\">\r\n    <path d=\"M 300.328043 351.5175 \r\nL 494.415 351.5175 \r\n\" style=\"fill:none;stroke:#000000;stroke-linecap:square;stroke-linejoin:miter;stroke-width:0.8;\"/>\r\n   </g>\r\n   <g id=\"patch_21\">\r\n    <path d=\"M 300.328043 215.6175 \r\nL 494.415 215.6175 \r\n\" style=\"fill:none;stroke:#000000;stroke-linecap:square;stroke-linejoin:miter;stroke-width:0.8;\"/>\r\n   </g>\r\n   <g id=\"text_58\">\r\n    <!-- График y4 -->\r\n    <g style=\"fill:#808080;\" transform=\"translate(349.144022 209.6175)scale(0.16 -0.16)\">\r\n     <defs>\r\n      <path d=\"M 63.8125 0 \r\nL 23.6875 0 \r\nL 23.6875 5.90625 \r\nL 34.515625 5.90625 \r\nL 34.515625 19.1875 \r\nL 4.109375 19.1875 \r\nL 4.109375 24.8125 \r\nL 34.625 74.21875 \r\nL 52.984375 74.21875 \r\nL 52.984375 25.484375 \r\nL 65.484375 25.484375 \r\nL 65.484375 19.1875 \r\nL 52.984375 19.1875 \r\nL 52.984375 5.90625 \r\nL 63.8125 5.90625 \r\nz\r\nM 34.515625 25.484375 \r\nL 34.515625 60.890625 \r\nL 12.796875 25.484375 \r\nz\r\n\" id=\"DejaVuSerif-Bold-52\"/>\r\n     </defs>\r\n     <use xlink:href=\"#DejaVuSerif-Bold-1043\"/>\r\n     <use x=\"69.042969\" xlink:href=\"#DejaVuSerif-Bold-1088\"/>\r\n     <use x=\"138.964844\" xlink:href=\"#DejaVuSerif-Bold-1072\"/>\r\n     <use x=\"203.759766\" xlink:href=\"#DejaVuSerif-Bold-1092\"/>\r\n     <use x=\"293.945312\" xlink:href=\"#DejaVuSerif-Bold-1080\"/>\r\n     <use x=\"368.115234\" xlink:href=\"#DejaVuSerif-Bold-1082\"/>\r\n     <use x=\"440.332031\" xlink:href=\"#DejaVuSerif-Bold-32\"/>\r\n     <use x=\"475.146484\" xlink:href=\"#DejaVuSerif-Bold-121\"/>\r\n     <use x=\"533.251953\" xlink:href=\"#DejaVuSerif-Bold-52\"/>\r\n    </g>\r\n   </g>\r\n  </g>\r\n </g>\r\n <defs>\r\n  <clipPath id=\"p66e4fa92ef\">\r\n   <rect height=\"135.9\" width=\"194.086957\" x=\"48.015\" y=\"25.3575\"/>\r\n  </clipPath>\r\n  <clipPath id=\"paa6583ba18\">\r\n   <rect height=\"135.9\" width=\"194.086957\" x=\"300.328043\" y=\"25.3575\"/>\r\n  </clipPath>\r\n  <clipPath id=\"pcb83b97b0e\">\r\n   <rect height=\"135.9\" width=\"194.086957\" x=\"48.015\" y=\"215.6175\"/>\r\n  </clipPath>\r\n  <clipPath id=\"p8904b0dc6b\">\r\n   <rect height=\"135.9\" width=\"194.086957\" x=\"300.328043\" y=\"215.6175\"/>\r\n  </clipPath>\r\n </defs>\r\n</svg>\r\n"
     },
     "metadata": {
      "needs_background": "light"
     }
    }
   ],
   "source": [
    "fig, ax = plt.subplots(nrows=2, ncols=2)\n",
    "fig.set_size_inches(8, 6)\n",
    "fig.subplots_adjust(wspace=0.3, hspace=0.4)\n",
    "\n",
    "ax[0][0].plot(x, y_1, color=\"#44944A\")\n",
    "ax[0][0].set_title(\"График y1\", fontdict=title_font)\n",
    "ax[0][0].set_xlabel(\"Значения x\", fontdict=label_font)\n",
    "ax[0][0].set_ylabel(\"Значения y1\", fontdict=label_font)\n",
    "ax[0][0].set_xlim([-5, 5])\n",
    "ax[0][0].set_ylim([0, 9])\n",
    "ax[0][0].grid()\n",
    "\n",
    "ax[0][1].plot(x, y_2, color='#FF2400')\n",
    "ax[0][1].set_title(\"График y2\", fontdict=title_font)\n",
    "ax[0][1].set_xlabel(\"Значения x\", fontdict=label_font)\n",
    "ax[0][1].set_ylabel(\"Значения y2\", fontdict=label_font)\n",
    "ax[0][1].set_xlim([-3, 3])\n",
    "ax[0][1].set_ylim([-6, 7])\n",
    "ax[0][1].grid()\n",
    "\n",
    "ax[1][0].plot(x, y_3, color='#00FFFF')\n",
    "ax[1][0].set_title(\"График y3\", fontdict=title_font)\n",
    "ax[1][0].set_xlabel(\"Значения x\", fontdict=label_font)\n",
    "ax[1][0].set_ylabel(\"Значения y3\", fontdict=label_font)\n",
    "ax[1][0].set_xlim([-3, 3])\n",
    "ax[1][0].set_ylim([-10, 7])\n",
    "ax[1][0].grid()\n",
    "\n",
    "ax[1][1].plot(x, y_4, color='#FF00FF')\n",
    "ax[1][1].set_title(\"График y4\", fontdict=title_font)\n",
    "ax[1][1].set_xlabel(\"Значения x\", fontdict=label_font)\n",
    "ax[1][1].set_ylabel(\"Значения y4\", fontdict=label_font)\n",
    "ax[1][1].set_xlim([-3, 3])\n",
    "ax[1][1].set_ylim([-0.3, 1])\n",
    "ax[1][1].grid()\n"
   ]
  },
  {
   "source": [
    "## *Задание 4\n",
    "\n",
    "В этом задании мы будем работать с датасетом, в котором приведены данные по мошенничеству с\n",
    "кредитными данными: Credit Card Fraud Detection (информация об авторах: Andrea Dal Pozzolo, Olivier\n",
    "Caelen, Reid A. Johnson and Gianluca Bontempi. Calibrating Probability with Undersampling for Unbalanced\n",
    "Classification. In Symposium on Computational Intelligence and Data Mining (CIDM), IEEE, 2015).\n",
    "Ознакомьтесь с описанием и скачайте датасет creditcard.csv с сайта Kaggle.com по ссылке:\n",
    "\n",
    "[Credit Card Fraud Detection](https://www.kaggle.com/mlg-ulb/creditcardfraud)\n",
    "\n",
    "Данный датасет является примером несбалансированных данных, так как мошеннические операции с\n",
    "картами встречаются реже обычных."
   ],
   "cell_type": "markdown",
   "metadata": {}
  },
  {
   "cell_type": "code",
   "execution_count": 7,
   "metadata": {},
   "outputs": [
    {
     "output_type": "execute_result",
     "data": {
      "text/plain": [
       "        V26       V27       V28  Amount  Class\n",
       "0 -0.189115  0.133558 -0.021053  149.62      0\n",
       "1  0.125895 -0.008983  0.014724    2.69      0\n",
       "2 -0.139097 -0.055353 -0.059752  378.66      0\n",
       "3 -0.221929  0.062723  0.061458  123.50      0\n",
       "4  0.502292  0.219422  0.215153   69.99      0"
      ],
      "text/html": "<div>\n<style scoped>\n    .dataframe tbody tr th:only-of-type {\n        vertical-align: middle;\n    }\n\n    .dataframe tbody tr th {\n        vertical-align: top;\n    }\n\n    .dataframe thead th {\n        text-align: right;\n    }\n</style>\n<table border=\"1\" class=\"dataframe\">\n  <thead>\n    <tr style=\"text-align: right;\">\n      <th></th>\n      <th>V26</th>\n      <th>V27</th>\n      <th>V28</th>\n      <th>Amount</th>\n      <th>Class</th>\n    </tr>\n  </thead>\n  <tbody>\n    <tr>\n      <th>0</th>\n      <td>-0.189115</td>\n      <td>0.133558</td>\n      <td>-0.021053</td>\n      <td>149.62</td>\n      <td>0</td>\n    </tr>\n    <tr>\n      <th>1</th>\n      <td>0.125895</td>\n      <td>-0.008983</td>\n      <td>0.014724</td>\n      <td>2.69</td>\n      <td>0</td>\n    </tr>\n    <tr>\n      <th>2</th>\n      <td>-0.139097</td>\n      <td>-0.055353</td>\n      <td>-0.059752</td>\n      <td>378.66</td>\n      <td>0</td>\n    </tr>\n    <tr>\n      <th>3</th>\n      <td>-0.221929</td>\n      <td>0.062723</td>\n      <td>0.061458</td>\n      <td>123.50</td>\n      <td>0</td>\n    </tr>\n    <tr>\n      <th>4</th>\n      <td>0.502292</td>\n      <td>0.219422</td>\n      <td>0.215153</td>\n      <td>69.99</td>\n      <td>0</td>\n    </tr>\n  </tbody>\n</table>\n</div>"
     },
     "metadata": {},
     "execution_count": 7
    }
   ],
   "source": [
    "url = \"creditcard.csv\"\n",
    "fraudster = pd.read_csv(url)\n",
    "\n",
    "fraudster.iloc[:5, 26:]"
   ]
  },
  {
   "cell_type": "code",
   "execution_count": 8,
   "metadata": {},
   "outputs": [
    {
     "output_type": "execute_result",
     "data": {
      "text/plain": [
       "Class\n",
       "0    284315\n",
       "1       492\n",
       "dtype: int64"
      ]
     },
     "metadata": {},
     "execution_count": 8
    }
   ],
   "source": [
    "fraudster.value_counts('Class')"
   ]
  },
  {
   "source": [
    "- Импортруйте библиотеку Pandas, а также используйте для графиков стиль “fivethirtyeight”.\n",
    "- Посчитайте с помощью метода value_counts количество наблюдений для каждого значения целевой\n",
    "переменной Class и примените к полученным данным метод plot, чтобы построить столбчатую\n",
    "диаграмму."
   ],
   "cell_type": "markdown",
   "metadata": {}
  },
  {
   "cell_type": "code",
   "execution_count": 11,
   "metadata": {},
   "outputs": [
    {
     "output_type": "execute_result",
     "data": {
      "text/plain": [
       "<AxesSubplot:xlabel='Class'>"
      ]
     },
     "metadata": {},
     "execution_count": 11
    },
    {
     "output_type": "display_data",
     "data": {
      "text/plain": "<Figure size 432x288 with 1 Axes>",
      "image/svg+xml": "<?xml version=\"1.0\" encoding=\"utf-8\" standalone=\"no\"?>\r\n<!DOCTYPE svg PUBLIC \"-//W3C//DTD SVG 1.1//EN\"\r\n  \"http://www.w3.org/Graphics/SVG/1.1/DTD/svg11.dtd\">\r\n<!-- Created with matplotlib (https://matplotlib.org/) -->\r\n<svg height=\"280.34675pt\" version=\"1.1\" viewBox=\"0 0 447.185 280.34675\" width=\"447.185pt\" xmlns=\"http://www.w3.org/2000/svg\" xmlns:xlink=\"http://www.w3.org/1999/xlink\">\r\n <metadata>\r\n  <rdf:RDF xmlns:cc=\"http://creativecommons.org/ns#\" xmlns:dc=\"http://purl.org/dc/elements/1.1/\" xmlns:rdf=\"http://www.w3.org/1999/02/22-rdf-syntax-ns#\">\r\n   <cc:Work>\r\n    <dc:type rdf:resource=\"http://purl.org/dc/dcmitype/StillImage\"/>\r\n    <dc:date>2021-06-06T20:47:50.351223</dc:date>\r\n    <dc:format>image/svg+xml</dc:format>\r\n    <dc:creator>\r\n     <cc:Agent>\r\n      <dc:title>Matplotlib v3.3.3, https://matplotlib.org/</dc:title>\r\n     </cc:Agent>\r\n    </dc:creator>\r\n   </cc:Work>\r\n  </rdf:RDF>\r\n </metadata>\r\n <defs>\r\n  <style type=\"text/css\">*{stroke-linecap:butt;stroke-linejoin:round;}</style>\r\n </defs>\r\n <g id=\"figure_1\">\r\n  <g id=\"patch_1\">\r\n   <path d=\"M 0 280.34675 \r\nL 447.185 280.34675 \r\nL 447.185 0 \r\nL 0 0 \r\nz\r\n\" style=\"fill:#f0f0f0;\"/>\r\n  </g>\r\n  <g id=\"axes_1\">\r\n   <g id=\"patch_2\">\r\n    <path d=\"M 64.145 240.48 \r\nL 439.985 240.48 \r\nL 439.985 7.2 \r\nL 64.145 7.2 \r\nz\r\n\" style=\"fill:#f0f0f0;\"/>\r\n   </g>\r\n   <g id=\"matplotlib.axis_1\">\r\n    <g id=\"xtick_1\">\r\n     <g id=\"line2d_1\">\r\n      <path clip-path=\"url(#p31eb32b649)\" d=\"M 158.105 240.48 \r\nL 158.105 7.2 \r\n\" style=\"fill:none;stroke:#cbcbcb;\"/>\r\n     </g>\r\n     <g id=\"line2d_2\"/>\r\n     <g id=\"text_1\">\r\n      <!-- 0 -->\r\n      <g transform=\"translate(161.968125 252.8875)rotate(-90)scale(0.14 -0.14)\">\r\n       <defs>\r\n        <path d=\"M 31.78125 66.40625 \r\nQ 24.171875 66.40625 20.328125 58.90625 \r\nQ 16.5 51.421875 16.5 36.375 \r\nQ 16.5 21.390625 20.328125 13.890625 \r\nQ 24.171875 6.390625 31.78125 6.390625 \r\nQ 39.453125 6.390625 43.28125 13.890625 \r\nQ 47.125 21.390625 47.125 36.375 \r\nQ 47.125 51.421875 43.28125 58.90625 \r\nQ 39.453125 66.40625 31.78125 66.40625 \r\nz\r\nM 31.78125 74.21875 \r\nQ 44.046875 74.21875 50.515625 64.515625 \r\nQ 56.984375 54.828125 56.984375 36.375 \r\nQ 56.984375 17.96875 50.515625 8.265625 \r\nQ 44.046875 -1.421875 31.78125 -1.421875 \r\nQ 19.53125 -1.421875 13.0625 8.265625 \r\nQ 6.59375 17.96875 6.59375 36.375 \r\nQ 6.59375 54.828125 13.0625 64.515625 \r\nQ 19.53125 74.21875 31.78125 74.21875 \r\nz\r\n\" id=\"DejaVuSans-48\"/>\r\n       </defs>\r\n       <use xlink:href=\"#DejaVuSans-48\"/>\r\n      </g>\r\n     </g>\r\n    </g>\r\n    <g id=\"xtick_2\">\r\n     <g id=\"line2d_3\">\r\n      <path clip-path=\"url(#p31eb32b649)\" d=\"M 346.025 240.48 \r\nL 346.025 7.2 \r\n\" style=\"fill:none;stroke:#cbcbcb;\"/>\r\n     </g>\r\n     <g id=\"line2d_4\"/>\r\n     <g id=\"text_2\">\r\n      <!-- 1 -->\r\n      <g transform=\"translate(349.888125 252.8875)rotate(-90)scale(0.14 -0.14)\">\r\n       <defs>\r\n        <path d=\"M 12.40625 8.296875 \r\nL 28.515625 8.296875 \r\nL 28.515625 63.921875 \r\nL 10.984375 60.40625 \r\nL 10.984375 69.390625 \r\nL 28.421875 72.90625 \r\nL 38.28125 72.90625 \r\nL 38.28125 8.296875 \r\nL 54.390625 8.296875 \r\nL 54.390625 0 \r\nL 12.40625 0 \r\nz\r\n\" id=\"DejaVuSans-49\"/>\r\n       </defs>\r\n       <use xlink:href=\"#DejaVuSans-49\"/>\r\n      </g>\r\n     </g>\r\n    </g>\r\n    <g id=\"text_3\">\r\n     <!-- Class -->\r\n     <g transform=\"translate(229.966437 269.652875)scale(0.168 -0.168)\">\r\n      <defs>\r\n       <path d=\"M 64.40625 67.28125 \r\nL 64.40625 56.890625 \r\nQ 59.421875 61.53125 53.78125 63.8125 \r\nQ 48.140625 66.109375 41.796875 66.109375 \r\nQ 29.296875 66.109375 22.65625 58.46875 \r\nQ 16.015625 50.828125 16.015625 36.375 \r\nQ 16.015625 21.96875 22.65625 14.328125 \r\nQ 29.296875 6.6875 41.796875 6.6875 \r\nQ 48.140625 6.6875 53.78125 8.984375 \r\nQ 59.421875 11.28125 64.40625 15.921875 \r\nL 64.40625 5.609375 \r\nQ 59.234375 2.09375 53.4375 0.328125 \r\nQ 47.65625 -1.421875 41.21875 -1.421875 \r\nQ 24.65625 -1.421875 15.125 8.703125 \r\nQ 5.609375 18.84375 5.609375 36.375 \r\nQ 5.609375 53.953125 15.125 64.078125 \r\nQ 24.65625 74.21875 41.21875 74.21875 \r\nQ 47.75 74.21875 53.53125 72.484375 \r\nQ 59.328125 70.75 64.40625 67.28125 \r\nz\r\n\" id=\"DejaVuSans-67\"/>\r\n       <path d=\"M 9.421875 75.984375 \r\nL 18.40625 75.984375 \r\nL 18.40625 0 \r\nL 9.421875 0 \r\nz\r\n\" id=\"DejaVuSans-108\"/>\r\n       <path d=\"M 34.28125 27.484375 \r\nQ 23.390625 27.484375 19.1875 25 \r\nQ 14.984375 22.515625 14.984375 16.5 \r\nQ 14.984375 11.71875 18.140625 8.90625 \r\nQ 21.296875 6.109375 26.703125 6.109375 \r\nQ 34.1875 6.109375 38.703125 11.40625 \r\nQ 43.21875 16.703125 43.21875 25.484375 \r\nL 43.21875 27.484375 \r\nz\r\nM 52.203125 31.203125 \r\nL 52.203125 0 \r\nL 43.21875 0 \r\nL 43.21875 8.296875 \r\nQ 40.140625 3.328125 35.546875 0.953125 \r\nQ 30.953125 -1.421875 24.3125 -1.421875 \r\nQ 15.921875 -1.421875 10.953125 3.296875 \r\nQ 6 8.015625 6 15.921875 \r\nQ 6 25.140625 12.171875 29.828125 \r\nQ 18.359375 34.515625 30.609375 34.515625 \r\nL 43.21875 34.515625 \r\nL 43.21875 35.40625 \r\nQ 43.21875 41.609375 39.140625 45 \r\nQ 35.0625 48.390625 27.6875 48.390625 \r\nQ 23 48.390625 18.546875 47.265625 \r\nQ 14.109375 46.140625 10.015625 43.890625 \r\nL 10.015625 52.203125 \r\nQ 14.9375 54.109375 19.578125 55.046875 \r\nQ 24.21875 56 28.609375 56 \r\nQ 40.484375 56 46.34375 49.84375 \r\nQ 52.203125 43.703125 52.203125 31.203125 \r\nz\r\n\" id=\"DejaVuSans-97\"/>\r\n       <path d=\"M 44.28125 53.078125 \r\nL 44.28125 44.578125 \r\nQ 40.484375 46.53125 36.375 47.5 \r\nQ 32.28125 48.484375 27.875 48.484375 \r\nQ 21.1875 48.484375 17.84375 46.4375 \r\nQ 14.5 44.390625 14.5 40.28125 \r\nQ 14.5 37.15625 16.890625 35.375 \r\nQ 19.28125 33.59375 26.515625 31.984375 \r\nL 29.59375 31.296875 \r\nQ 39.15625 29.25 43.1875 25.515625 \r\nQ 47.21875 21.78125 47.21875 15.09375 \r\nQ 47.21875 7.46875 41.1875 3.015625 \r\nQ 35.15625 -1.421875 24.609375 -1.421875 \r\nQ 20.21875 -1.421875 15.453125 -0.5625 \r\nQ 10.6875 0.296875 5.421875 2 \r\nL 5.421875 11.28125 \r\nQ 10.40625 8.6875 15.234375 7.390625 \r\nQ 20.0625 6.109375 24.8125 6.109375 \r\nQ 31.15625 6.109375 34.5625 8.28125 \r\nQ 37.984375 10.453125 37.984375 14.40625 \r\nQ 37.984375 18.0625 35.515625 20.015625 \r\nQ 33.0625 21.96875 24.703125 23.78125 \r\nL 21.578125 24.515625 \r\nQ 13.234375 26.265625 9.515625 29.90625 \r\nQ 5.8125 33.546875 5.8125 39.890625 \r\nQ 5.8125 47.609375 11.28125 51.796875 \r\nQ 16.75 56 26.8125 56 \r\nQ 31.78125 56 36.171875 55.265625 \r\nQ 40.578125 54.546875 44.28125 53.078125 \r\nz\r\n\" id=\"DejaVuSans-115\"/>\r\n      </defs>\r\n      <use xlink:href=\"#DejaVuSans-67\"/>\r\n      <use x=\"69.824219\" xlink:href=\"#DejaVuSans-108\"/>\r\n      <use x=\"97.607422\" xlink:href=\"#DejaVuSans-97\"/>\r\n      <use x=\"158.886719\" xlink:href=\"#DejaVuSans-115\"/>\r\n      <use x=\"210.986328\" xlink:href=\"#DejaVuSans-115\"/>\r\n     </g>\r\n    </g>\r\n   </g>\r\n   <g id=\"matplotlib.axis_2\">\r\n    <g id=\"ytick_1\">\r\n     <g id=\"line2d_5\">\r\n      <path clip-path=\"url(#p31eb32b649)\" d=\"M 64.145 240.48 \r\nL 439.985 240.48 \r\n\" style=\"fill:none;stroke:#cbcbcb;\"/>\r\n     </g>\r\n     <g id=\"line2d_6\"/>\r\n     <g id=\"text_4\">\r\n      <!-- 0 -->\r\n      <g transform=\"translate(51.7375 245.798906)scale(0.14 -0.14)\">\r\n       <use xlink:href=\"#DejaVuSans-48\"/>\r\n      </g>\r\n     </g>\r\n    </g>\r\n    <g id=\"ytick_2\">\r\n     <g id=\"line2d_7\">\r\n      <path clip-path=\"url(#p31eb32b649)\" d=\"M 64.145 201.408648 \r\nL 439.985 201.408648 \r\n\" style=\"fill:none;stroke:#cbcbcb;\"/>\r\n     </g>\r\n     <g id=\"line2d_8\"/>\r\n     <g id=\"text_5\">\r\n      <!-- 50000 -->\r\n      <g transform=\"translate(16.1075 206.727554)scale(0.14 -0.14)\">\r\n       <defs>\r\n        <path d=\"M 10.796875 72.90625 \r\nL 49.515625 72.90625 \r\nL 49.515625 64.59375 \r\nL 19.828125 64.59375 \r\nL 19.828125 46.734375 \r\nQ 21.96875 47.46875 24.109375 47.828125 \r\nQ 26.265625 48.1875 28.421875 48.1875 \r\nQ 40.625 48.1875 47.75 41.5 \r\nQ 54.890625 34.8125 54.890625 23.390625 \r\nQ 54.890625 11.625 47.5625 5.09375 \r\nQ 40.234375 -1.421875 26.90625 -1.421875 \r\nQ 22.3125 -1.421875 17.546875 -0.640625 \r\nQ 12.796875 0.140625 7.71875 1.703125 \r\nL 7.71875 11.625 \r\nQ 12.109375 9.234375 16.796875 8.0625 \r\nQ 21.484375 6.890625 26.703125 6.890625 \r\nQ 35.15625 6.890625 40.078125 11.328125 \r\nQ 45.015625 15.765625 45.015625 23.390625 \r\nQ 45.015625 31 40.078125 35.4375 \r\nQ 35.15625 39.890625 26.703125 39.890625 \r\nQ 22.75 39.890625 18.8125 39.015625 \r\nQ 14.890625 38.140625 10.796875 36.28125 \r\nz\r\n\" id=\"DejaVuSans-53\"/>\r\n       </defs>\r\n       <use xlink:href=\"#DejaVuSans-53\"/>\r\n       <use x=\"63.623047\" xlink:href=\"#DejaVuSans-48\"/>\r\n       <use x=\"127.246094\" xlink:href=\"#DejaVuSans-48\"/>\r\n       <use x=\"190.869141\" xlink:href=\"#DejaVuSans-48\"/>\r\n       <use x=\"254.492188\" xlink:href=\"#DejaVuSans-48\"/>\r\n      </g>\r\n     </g>\r\n    </g>\r\n    <g id=\"ytick_3\">\r\n     <g id=\"line2d_9\">\r\n      <path clip-path=\"url(#p31eb32b649)\" d=\"M 64.145 162.337296 \r\nL 439.985 162.337296 \r\n\" style=\"fill:none;stroke:#cbcbcb;\"/>\r\n     </g>\r\n     <g id=\"line2d_10\"/>\r\n     <g id=\"text_6\">\r\n      <!-- 100000 -->\r\n      <g transform=\"translate(7.2 167.656202)scale(0.14 -0.14)\">\r\n       <use xlink:href=\"#DejaVuSans-49\"/>\r\n       <use x=\"63.623047\" xlink:href=\"#DejaVuSans-48\"/>\r\n       <use x=\"127.246094\" xlink:href=\"#DejaVuSans-48\"/>\r\n       <use x=\"190.869141\" xlink:href=\"#DejaVuSans-48\"/>\r\n       <use x=\"254.492188\" xlink:href=\"#DejaVuSans-48\"/>\r\n       <use x=\"318.115234\" xlink:href=\"#DejaVuSans-48\"/>\r\n      </g>\r\n     </g>\r\n    </g>\r\n    <g id=\"ytick_4\">\r\n     <g id=\"line2d_11\">\r\n      <path clip-path=\"url(#p31eb32b649)\" d=\"M 64.145 123.265944 \r\nL 439.985 123.265944 \r\n\" style=\"fill:none;stroke:#cbcbcb;\"/>\r\n     </g>\r\n     <g id=\"line2d_12\"/>\r\n     <g id=\"text_7\">\r\n      <!-- 150000 -->\r\n      <g transform=\"translate(7.2 128.58485)scale(0.14 -0.14)\">\r\n       <use xlink:href=\"#DejaVuSans-49\"/>\r\n       <use x=\"63.623047\" xlink:href=\"#DejaVuSans-53\"/>\r\n       <use x=\"127.246094\" xlink:href=\"#DejaVuSans-48\"/>\r\n       <use x=\"190.869141\" xlink:href=\"#DejaVuSans-48\"/>\r\n       <use x=\"254.492188\" xlink:href=\"#DejaVuSans-48\"/>\r\n       <use x=\"318.115234\" xlink:href=\"#DejaVuSans-48\"/>\r\n      </g>\r\n     </g>\r\n    </g>\r\n    <g id=\"ytick_5\">\r\n     <g id=\"line2d_13\">\r\n      <path clip-path=\"url(#p31eb32b649)\" d=\"M 64.145 84.194592 \r\nL 439.985 84.194592 \r\n\" style=\"fill:none;stroke:#cbcbcb;\"/>\r\n     </g>\r\n     <g id=\"line2d_14\"/>\r\n     <g id=\"text_8\">\r\n      <!-- 200000 -->\r\n      <g transform=\"translate(7.2 89.513498)scale(0.14 -0.14)\">\r\n       <defs>\r\n        <path d=\"M 19.1875 8.296875 \r\nL 53.609375 8.296875 \r\nL 53.609375 0 \r\nL 7.328125 0 \r\nL 7.328125 8.296875 \r\nQ 12.9375 14.109375 22.625 23.890625 \r\nQ 32.328125 33.6875 34.8125 36.53125 \r\nQ 39.546875 41.84375 41.421875 45.53125 \r\nQ 43.3125 49.21875 43.3125 52.78125 \r\nQ 43.3125 58.59375 39.234375 62.25 \r\nQ 35.15625 65.921875 28.609375 65.921875 \r\nQ 23.96875 65.921875 18.8125 64.3125 \r\nQ 13.671875 62.703125 7.8125 59.421875 \r\nL 7.8125 69.390625 \r\nQ 13.765625 71.78125 18.9375 73 \r\nQ 24.125 74.21875 28.421875 74.21875 \r\nQ 39.75 74.21875 46.484375 68.546875 \r\nQ 53.21875 62.890625 53.21875 53.421875 \r\nQ 53.21875 48.921875 51.53125 44.890625 \r\nQ 49.859375 40.875 45.40625 35.40625 \r\nQ 44.1875 33.984375 37.640625 27.21875 \r\nQ 31.109375 20.453125 19.1875 8.296875 \r\nz\r\n\" id=\"DejaVuSans-50\"/>\r\n       </defs>\r\n       <use xlink:href=\"#DejaVuSans-50\"/>\r\n       <use x=\"63.623047\" xlink:href=\"#DejaVuSans-48\"/>\r\n       <use x=\"127.246094\" xlink:href=\"#DejaVuSans-48\"/>\r\n       <use x=\"190.869141\" xlink:href=\"#DejaVuSans-48\"/>\r\n       <use x=\"254.492188\" xlink:href=\"#DejaVuSans-48\"/>\r\n       <use x=\"318.115234\" xlink:href=\"#DejaVuSans-48\"/>\r\n      </g>\r\n     </g>\r\n    </g>\r\n    <g id=\"ytick_6\">\r\n     <g id=\"line2d_15\">\r\n      <path clip-path=\"url(#p31eb32b649)\" d=\"M 64.145 45.12324 \r\nL 439.985 45.12324 \r\n\" style=\"fill:none;stroke:#cbcbcb;\"/>\r\n     </g>\r\n     <g id=\"line2d_16\"/>\r\n     <g id=\"text_9\">\r\n      <!-- 250000 -->\r\n      <g transform=\"translate(7.2 50.442147)scale(0.14 -0.14)\">\r\n       <use xlink:href=\"#DejaVuSans-50\"/>\r\n       <use x=\"63.623047\" xlink:href=\"#DejaVuSans-53\"/>\r\n       <use x=\"127.246094\" xlink:href=\"#DejaVuSans-48\"/>\r\n       <use x=\"190.869141\" xlink:href=\"#DejaVuSans-48\"/>\r\n       <use x=\"254.492188\" xlink:href=\"#DejaVuSans-48\"/>\r\n       <use x=\"318.115234\" xlink:href=\"#DejaVuSans-48\"/>\r\n      </g>\r\n     </g>\r\n    </g>\r\n   </g>\r\n   <g id=\"patch_3\">\r\n    <path clip-path=\"url(#p31eb32b649)\" d=\"M 111.125 240.48 \r\nL 205.085 240.48 \r\nL 205.085 18.308571 \r\nL 111.125 18.308571 \r\nz\r\n\" style=\"fill:#008fd5;\"/>\r\n   </g>\r\n   <g id=\"patch_4\">\r\n    <path clip-path=\"url(#p31eb32b649)\" d=\"M 299.045 240.48 \r\nL 393.005 240.48 \r\nL 393.005 240.095538 \r\nL 299.045 240.095538 \r\nz\r\n\" style=\"fill:#008fd5;\"/>\r\n   </g>\r\n   <g id=\"patch_5\">\r\n    <path d=\"M 64.145 240.48 \r\nL 64.145 7.2 \r\n\" style=\"fill:none;stroke:#f0f0f0;stroke-linecap:square;stroke-linejoin:miter;stroke-width:3;\"/>\r\n   </g>\r\n   <g id=\"patch_6\">\r\n    <path d=\"M 439.985 240.48 \r\nL 439.985 7.2 \r\n\" style=\"fill:none;stroke:#f0f0f0;stroke-linecap:square;stroke-linejoin:miter;stroke-width:3;\"/>\r\n   </g>\r\n   <g id=\"patch_7\">\r\n    <path d=\"M 64.145 240.48 \r\nL 439.985 240.48 \r\n\" style=\"fill:none;stroke:#f0f0f0;stroke-linecap:square;stroke-linejoin:miter;stroke-width:3;\"/>\r\n   </g>\r\n   <g id=\"patch_8\">\r\n    <path d=\"M 64.145 7.2 \r\nL 439.985 7.2 \r\n\" style=\"fill:none;stroke:#f0f0f0;stroke-linecap:square;stroke-linejoin:miter;stroke-width:3;\"/>\r\n   </g>\r\n  </g>\r\n </g>\r\n <defs>\r\n  <clipPath id=\"p31eb32b649\">\r\n   <rect height=\"233.28\" width=\"375.84\" x=\"64.145\" y=\"7.2\"/>\r\n  </clipPath>\r\n </defs>\r\n</svg>\r\n"
     },
     "metadata": {}
    }
   ],
   "source": [
    "plt.style.use('fivethirtyeight')\n",
    "fraudster.value_counts('Class').plot(kind=\"bar\")"
   ]
  },
  {
   "source": [
    "- Затем постройте такую же диаграмму, используя логарифмический масштаб."
   ],
   "cell_type": "markdown",
   "metadata": {}
  },
  {
   "cell_type": "code",
   "execution_count": 12,
   "metadata": {},
   "outputs": [
    {
     "output_type": "execute_result",
     "data": {
      "text/plain": [
       "<AxesSubplot:xlabel='Class'>"
      ]
     },
     "metadata": {},
     "execution_count": 12
    },
    {
     "output_type": "display_data",
     "data": {
      "text/plain": "<Figure size 432x288 with 1 Axes>",
      "image/svg+xml": "<?xml version=\"1.0\" encoding=\"utf-8\" standalone=\"no\"?>\r\n<!DOCTYPE svg PUBLIC \"-//W3C//DTD SVG 1.1//EN\"\r\n  \"http://www.w3.org/Graphics/SVG/1.1/DTD/svg11.dtd\">\r\n<!-- Created with matplotlib (https://matplotlib.org/) -->\r\n<svg height=\"280.34675pt\" version=\"1.1\" viewBox=\"0 0 418.38 280.34675\" width=\"418.38pt\" xmlns=\"http://www.w3.org/2000/svg\" xmlns:xlink=\"http://www.w3.org/1999/xlink\">\r\n <metadata>\r\n  <rdf:RDF xmlns:cc=\"http://creativecommons.org/ns#\" xmlns:dc=\"http://purl.org/dc/elements/1.1/\" xmlns:rdf=\"http://www.w3.org/1999/02/22-rdf-syntax-ns#\">\r\n   <cc:Work>\r\n    <dc:type rdf:resource=\"http://purl.org/dc/dcmitype/StillImage\"/>\r\n    <dc:date>2021-06-06T20:47:58.178348</dc:date>\r\n    <dc:format>image/svg+xml</dc:format>\r\n    <dc:creator>\r\n     <cc:Agent>\r\n      <dc:title>Matplotlib v3.3.3, https://matplotlib.org/</dc:title>\r\n     </cc:Agent>\r\n    </dc:creator>\r\n   </cc:Work>\r\n  </rdf:RDF>\r\n </metadata>\r\n <defs>\r\n  <style type=\"text/css\">*{stroke-linecap:butt;stroke-linejoin:round;}</style>\r\n </defs>\r\n <g id=\"figure_1\">\r\n  <g id=\"patch_1\">\r\n   <path d=\"M 0 280.34675 \r\nL 418.38 280.34675 \r\nL 418.38 0 \r\nL 0 0 \r\nz\r\n\" style=\"fill:#f0f0f0;\"/>\r\n  </g>\r\n  <g id=\"axes_1\">\r\n   <g id=\"patch_2\">\r\n    <path d=\"M 35.34 240.48 \r\nL 411.18 240.48 \r\nL 411.18 7.2 \r\nL 35.34 7.2 \r\nz\r\n\" style=\"fill:#f0f0f0;\"/>\r\n   </g>\r\n   <g id=\"matplotlib.axis_1\">\r\n    <g id=\"xtick_1\">\r\n     <g id=\"line2d_1\">\r\n      <path clip-path=\"url(#pbb8678dcbf)\" d=\"M 129.3 240.48 \r\nL 129.3 7.2 \r\n\" style=\"fill:none;stroke:#cbcbcb;\"/>\r\n     </g>\r\n     <g id=\"line2d_2\"/>\r\n     <g id=\"text_1\">\r\n      <!-- 0 -->\r\n      <g transform=\"translate(133.163125 252.8875)rotate(-90)scale(0.14 -0.14)\">\r\n       <defs>\r\n        <path d=\"M 31.78125 66.40625 \r\nQ 24.171875 66.40625 20.328125 58.90625 \r\nQ 16.5 51.421875 16.5 36.375 \r\nQ 16.5 21.390625 20.328125 13.890625 \r\nQ 24.171875 6.390625 31.78125 6.390625 \r\nQ 39.453125 6.390625 43.28125 13.890625 \r\nQ 47.125 21.390625 47.125 36.375 \r\nQ 47.125 51.421875 43.28125 58.90625 \r\nQ 39.453125 66.40625 31.78125 66.40625 \r\nz\r\nM 31.78125 74.21875 \r\nQ 44.046875 74.21875 50.515625 64.515625 \r\nQ 56.984375 54.828125 56.984375 36.375 \r\nQ 56.984375 17.96875 50.515625 8.265625 \r\nQ 44.046875 -1.421875 31.78125 -1.421875 \r\nQ 19.53125 -1.421875 13.0625 8.265625 \r\nQ 6.59375 17.96875 6.59375 36.375 \r\nQ 6.59375 54.828125 13.0625 64.515625 \r\nQ 19.53125 74.21875 31.78125 74.21875 \r\nz\r\n\" id=\"DejaVuSans-48\"/>\r\n       </defs>\r\n       <use xlink:href=\"#DejaVuSans-48\"/>\r\n      </g>\r\n     </g>\r\n    </g>\r\n    <g id=\"xtick_2\">\r\n     <g id=\"line2d_3\">\r\n      <path clip-path=\"url(#pbb8678dcbf)\" d=\"M 317.22 240.48 \r\nL 317.22 7.2 \r\n\" style=\"fill:none;stroke:#cbcbcb;\"/>\r\n     </g>\r\n     <g id=\"line2d_4\"/>\r\n     <g id=\"text_2\">\r\n      <!-- 1 -->\r\n      <g transform=\"translate(321.083125 252.8875)rotate(-90)scale(0.14 -0.14)\">\r\n       <defs>\r\n        <path d=\"M 12.40625 8.296875 \r\nL 28.515625 8.296875 \r\nL 28.515625 63.921875 \r\nL 10.984375 60.40625 \r\nL 10.984375 69.390625 \r\nL 28.421875 72.90625 \r\nL 38.28125 72.90625 \r\nL 38.28125 8.296875 \r\nL 54.390625 8.296875 \r\nL 54.390625 0 \r\nL 12.40625 0 \r\nz\r\n\" id=\"DejaVuSans-49\"/>\r\n       </defs>\r\n       <use xlink:href=\"#DejaVuSans-49\"/>\r\n      </g>\r\n     </g>\r\n    </g>\r\n    <g id=\"text_3\">\r\n     <!-- Class -->\r\n     <g transform=\"translate(201.161437 269.652875)scale(0.168 -0.168)\">\r\n      <defs>\r\n       <path d=\"M 64.40625 67.28125 \r\nL 64.40625 56.890625 \r\nQ 59.421875 61.53125 53.78125 63.8125 \r\nQ 48.140625 66.109375 41.796875 66.109375 \r\nQ 29.296875 66.109375 22.65625 58.46875 \r\nQ 16.015625 50.828125 16.015625 36.375 \r\nQ 16.015625 21.96875 22.65625 14.328125 \r\nQ 29.296875 6.6875 41.796875 6.6875 \r\nQ 48.140625 6.6875 53.78125 8.984375 \r\nQ 59.421875 11.28125 64.40625 15.921875 \r\nL 64.40625 5.609375 \r\nQ 59.234375 2.09375 53.4375 0.328125 \r\nQ 47.65625 -1.421875 41.21875 -1.421875 \r\nQ 24.65625 -1.421875 15.125 8.703125 \r\nQ 5.609375 18.84375 5.609375 36.375 \r\nQ 5.609375 53.953125 15.125 64.078125 \r\nQ 24.65625 74.21875 41.21875 74.21875 \r\nQ 47.75 74.21875 53.53125 72.484375 \r\nQ 59.328125 70.75 64.40625 67.28125 \r\nz\r\n\" id=\"DejaVuSans-67\"/>\r\n       <path d=\"M 9.421875 75.984375 \r\nL 18.40625 75.984375 \r\nL 18.40625 0 \r\nL 9.421875 0 \r\nz\r\n\" id=\"DejaVuSans-108\"/>\r\n       <path d=\"M 34.28125 27.484375 \r\nQ 23.390625 27.484375 19.1875 25 \r\nQ 14.984375 22.515625 14.984375 16.5 \r\nQ 14.984375 11.71875 18.140625 8.90625 \r\nQ 21.296875 6.109375 26.703125 6.109375 \r\nQ 34.1875 6.109375 38.703125 11.40625 \r\nQ 43.21875 16.703125 43.21875 25.484375 \r\nL 43.21875 27.484375 \r\nz\r\nM 52.203125 31.203125 \r\nL 52.203125 0 \r\nL 43.21875 0 \r\nL 43.21875 8.296875 \r\nQ 40.140625 3.328125 35.546875 0.953125 \r\nQ 30.953125 -1.421875 24.3125 -1.421875 \r\nQ 15.921875 -1.421875 10.953125 3.296875 \r\nQ 6 8.015625 6 15.921875 \r\nQ 6 25.140625 12.171875 29.828125 \r\nQ 18.359375 34.515625 30.609375 34.515625 \r\nL 43.21875 34.515625 \r\nL 43.21875 35.40625 \r\nQ 43.21875 41.609375 39.140625 45 \r\nQ 35.0625 48.390625 27.6875 48.390625 \r\nQ 23 48.390625 18.546875 47.265625 \r\nQ 14.109375 46.140625 10.015625 43.890625 \r\nL 10.015625 52.203125 \r\nQ 14.9375 54.109375 19.578125 55.046875 \r\nQ 24.21875 56 28.609375 56 \r\nQ 40.484375 56 46.34375 49.84375 \r\nQ 52.203125 43.703125 52.203125 31.203125 \r\nz\r\n\" id=\"DejaVuSans-97\"/>\r\n       <path d=\"M 44.28125 53.078125 \r\nL 44.28125 44.578125 \r\nQ 40.484375 46.53125 36.375 47.5 \r\nQ 32.28125 48.484375 27.875 48.484375 \r\nQ 21.1875 48.484375 17.84375 46.4375 \r\nQ 14.5 44.390625 14.5 40.28125 \r\nQ 14.5 37.15625 16.890625 35.375 \r\nQ 19.28125 33.59375 26.515625 31.984375 \r\nL 29.59375 31.296875 \r\nQ 39.15625 29.25 43.1875 25.515625 \r\nQ 47.21875 21.78125 47.21875 15.09375 \r\nQ 47.21875 7.46875 41.1875 3.015625 \r\nQ 35.15625 -1.421875 24.609375 -1.421875 \r\nQ 20.21875 -1.421875 15.453125 -0.5625 \r\nQ 10.6875 0.296875 5.421875 2 \r\nL 5.421875 11.28125 \r\nQ 10.40625 8.6875 15.234375 7.390625 \r\nQ 20.0625 6.109375 24.8125 6.109375 \r\nQ 31.15625 6.109375 34.5625 8.28125 \r\nQ 37.984375 10.453125 37.984375 14.40625 \r\nQ 37.984375 18.0625 35.515625 20.015625 \r\nQ 33.0625 21.96875 24.703125 23.78125 \r\nL 21.578125 24.515625 \r\nQ 13.234375 26.265625 9.515625 29.90625 \r\nQ 5.8125 33.546875 5.8125 39.890625 \r\nQ 5.8125 47.609375 11.28125 51.796875 \r\nQ 16.75 56 26.8125 56 \r\nQ 31.78125 56 36.171875 55.265625 \r\nQ 40.578125 54.546875 44.28125 53.078125 \r\nz\r\n\" id=\"DejaVuSans-115\"/>\r\n      </defs>\r\n      <use xlink:href=\"#DejaVuSans-67\"/>\r\n      <use x=\"69.824219\" xlink:href=\"#DejaVuSans-108\"/>\r\n      <use x=\"97.607422\" xlink:href=\"#DejaVuSans-97\"/>\r\n      <use x=\"158.886719\" xlink:href=\"#DejaVuSans-115\"/>\r\n      <use x=\"210.986328\" xlink:href=\"#DejaVuSans-115\"/>\r\n     </g>\r\n    </g>\r\n   </g>\r\n   <g id=\"matplotlib.axis_2\">\r\n    <g id=\"ytick_1\">\r\n     <g id=\"line2d_5\">\r\n      <path clip-path=\"url(#pbb8678dcbf)\" d=\"M 35.34 206.223318 \r\nL 411.18 206.223318 \r\n\" style=\"fill:none;stroke:#cbcbcb;\"/>\r\n     </g>\r\n     <g id=\"line2d_6\"/>\r\n     <g id=\"text_4\">\r\n      <!-- $\\mathdefault{10^{3}}$ -->\r\n      <g transform=\"translate(7.2 211.542225)scale(0.14 -0.14)\">\r\n       <defs>\r\n        <path d=\"M 40.578125 39.3125 \r\nQ 47.65625 37.796875 51.625 33 \r\nQ 55.609375 28.21875 55.609375 21.1875 \r\nQ 55.609375 10.40625 48.1875 4.484375 \r\nQ 40.765625 -1.421875 27.09375 -1.421875 \r\nQ 22.515625 -1.421875 17.65625 -0.515625 \r\nQ 12.796875 0.390625 7.625 2.203125 \r\nL 7.625 11.71875 \r\nQ 11.71875 9.328125 16.59375 8.109375 \r\nQ 21.484375 6.890625 26.8125 6.890625 \r\nQ 36.078125 6.890625 40.9375 10.546875 \r\nQ 45.796875 14.203125 45.796875 21.1875 \r\nQ 45.796875 27.640625 41.28125 31.265625 \r\nQ 36.765625 34.90625 28.71875 34.90625 \r\nL 20.21875 34.90625 \r\nL 20.21875 43.015625 \r\nL 29.109375 43.015625 \r\nQ 36.375 43.015625 40.234375 45.921875 \r\nQ 44.09375 48.828125 44.09375 54.296875 \r\nQ 44.09375 59.90625 40.109375 62.90625 \r\nQ 36.140625 65.921875 28.71875 65.921875 \r\nQ 24.65625 65.921875 20.015625 65.03125 \r\nQ 15.375 64.15625 9.8125 62.3125 \r\nL 9.8125 71.09375 \r\nQ 15.4375 72.65625 20.34375 73.4375 \r\nQ 25.25 74.21875 29.59375 74.21875 \r\nQ 40.828125 74.21875 47.359375 69.109375 \r\nQ 53.90625 64.015625 53.90625 55.328125 \r\nQ 53.90625 49.265625 50.4375 45.09375 \r\nQ 46.96875 40.921875 40.578125 39.3125 \r\nz\r\n\" id=\"DejaVuSans-51\"/>\r\n       </defs>\r\n       <use transform=\"translate(0 0.765625)\" xlink:href=\"#DejaVuSans-49\"/>\r\n       <use transform=\"translate(63.623047 0.765625)\" xlink:href=\"#DejaVuSans-48\"/>\r\n       <use transform=\"translate(128.203125 39.046875)scale(0.7)\" xlink:href=\"#DejaVuSans-51\"/>\r\n      </g>\r\n     </g>\r\n    </g>\r\n    <g id=\"ytick_2\">\r\n     <g id=\"line2d_7\">\r\n      <path clip-path=\"url(#pbb8678dcbf)\" d=\"M 35.34 129.436417 \r\nL 411.18 129.436417 \r\n\" style=\"fill:none;stroke:#cbcbcb;\"/>\r\n     </g>\r\n     <g id=\"line2d_8\"/>\r\n     <g id=\"text_5\">\r\n      <!-- $\\mathdefault{10^{4}}$ -->\r\n      <g transform=\"translate(7.2 134.755323)scale(0.14 -0.14)\">\r\n       <defs>\r\n        <path d=\"M 37.796875 64.3125 \r\nL 12.890625 25.390625 \r\nL 37.796875 25.390625 \r\nz\r\nM 35.203125 72.90625 \r\nL 47.609375 72.90625 \r\nL 47.609375 25.390625 \r\nL 58.015625 25.390625 \r\nL 58.015625 17.1875 \r\nL 47.609375 17.1875 \r\nL 47.609375 0 \r\nL 37.796875 0 \r\nL 37.796875 17.1875 \r\nL 4.890625 17.1875 \r\nL 4.890625 26.703125 \r\nz\r\n\" id=\"DejaVuSans-52\"/>\r\n       </defs>\r\n       <use transform=\"translate(0 0.684375)\" xlink:href=\"#DejaVuSans-49\"/>\r\n       <use transform=\"translate(63.623047 0.684375)\" xlink:href=\"#DejaVuSans-48\"/>\r\n       <use transform=\"translate(128.203125 38.965625)scale(0.7)\" xlink:href=\"#DejaVuSans-52\"/>\r\n      </g>\r\n     </g>\r\n    </g>\r\n    <g id=\"ytick_3\">\r\n     <g id=\"line2d_9\">\r\n      <path clip-path=\"url(#pbb8678dcbf)\" d=\"M 35.34 52.649515 \r\nL 411.18 52.649515 \r\n\" style=\"fill:none;stroke:#cbcbcb;\"/>\r\n     </g>\r\n     <g id=\"line2d_10\"/>\r\n     <g id=\"text_6\">\r\n      <!-- $\\mathdefault{10^{5}}$ -->\r\n      <g transform=\"translate(7.2 57.968421)scale(0.14 -0.14)\">\r\n       <defs>\r\n        <path d=\"M 10.796875 72.90625 \r\nL 49.515625 72.90625 \r\nL 49.515625 64.59375 \r\nL 19.828125 64.59375 \r\nL 19.828125 46.734375 \r\nQ 21.96875 47.46875 24.109375 47.828125 \r\nQ 26.265625 48.1875 28.421875 48.1875 \r\nQ 40.625 48.1875 47.75 41.5 \r\nQ 54.890625 34.8125 54.890625 23.390625 \r\nQ 54.890625 11.625 47.5625 5.09375 \r\nQ 40.234375 -1.421875 26.90625 -1.421875 \r\nQ 22.3125 -1.421875 17.546875 -0.640625 \r\nQ 12.796875 0.140625 7.71875 1.703125 \r\nL 7.71875 11.625 \r\nQ 12.109375 9.234375 16.796875 8.0625 \r\nQ 21.484375 6.890625 26.703125 6.890625 \r\nQ 35.15625 6.890625 40.078125 11.328125 \r\nQ 45.015625 15.765625 45.015625 23.390625 \r\nQ 45.015625 31 40.078125 35.4375 \r\nQ 35.15625 39.890625 26.703125 39.890625 \r\nQ 22.75 39.890625 18.8125 39.015625 \r\nQ 14.890625 38.140625 10.796875 36.28125 \r\nz\r\n\" id=\"DejaVuSans-53\"/>\r\n       </defs>\r\n       <use transform=\"translate(0 0.684375)\" xlink:href=\"#DejaVuSans-49\"/>\r\n       <use transform=\"translate(63.623047 0.684375)\" xlink:href=\"#DejaVuSans-48\"/>\r\n       <use transform=\"translate(128.203125 38.965625)scale(0.7)\" xlink:href=\"#DejaVuSans-53\"/>\r\n      </g>\r\n     </g>\r\n    </g>\r\n    <g id=\"ytick_4\">\r\n     <g id=\"line2d_11\"/>\r\n    </g>\r\n    <g id=\"ytick_5\">\r\n     <g id=\"line2d_12\"/>\r\n    </g>\r\n    <g id=\"ytick_6\">\r\n     <g id=\"line2d_13\"/>\r\n    </g>\r\n    <g id=\"ytick_7\">\r\n     <g id=\"line2d_14\"/>\r\n    </g>\r\n    <g id=\"ytick_8\">\r\n     <g id=\"line2d_15\"/>\r\n    </g>\r\n    <g id=\"ytick_9\">\r\n     <g id=\"line2d_16\"/>\r\n    </g>\r\n    <g id=\"ytick_10\">\r\n     <g id=\"line2d_17\"/>\r\n    </g>\r\n    <g id=\"ytick_11\">\r\n     <g id=\"line2d_18\"/>\r\n    </g>\r\n    <g id=\"ytick_12\">\r\n     <g id=\"line2d_19\"/>\r\n    </g>\r\n    <g id=\"ytick_13\">\r\n     <g id=\"line2d_20\"/>\r\n    </g>\r\n    <g id=\"ytick_14\">\r\n     <g id=\"line2d_21\"/>\r\n    </g>\r\n    <g id=\"ytick_15\">\r\n     <g id=\"line2d_22\"/>\r\n    </g>\r\n    <g id=\"ytick_16\">\r\n     <g id=\"line2d_23\"/>\r\n    </g>\r\n    <g id=\"ytick_17\">\r\n     <g id=\"line2d_24\"/>\r\n    </g>\r\n    <g id=\"ytick_18\">\r\n     <g id=\"line2d_25\"/>\r\n    </g>\r\n    <g id=\"ytick_19\">\r\n     <g id=\"line2d_26\"/>\r\n    </g>\r\n    <g id=\"ytick_20\">\r\n     <g id=\"line2d_27\"/>\r\n    </g>\r\n    <g id=\"ytick_21\">\r\n     <g id=\"line2d_28\"/>\r\n    </g>\r\n    <g id=\"ytick_22\">\r\n     <g id=\"line2d_29\"/>\r\n    </g>\r\n    <g id=\"ytick_23\">\r\n     <g id=\"line2d_30\"/>\r\n    </g>\r\n    <g id=\"ytick_24\">\r\n     <g id=\"line2d_31\"/>\r\n    </g>\r\n    <g id=\"ytick_25\">\r\n     <g id=\"line2d_32\"/>\r\n    </g>\r\n    <g id=\"ytick_26\">\r\n     <g id=\"line2d_33\"/>\r\n    </g>\r\n    <g id=\"ytick_27\">\r\n     <g id=\"line2d_34\"/>\r\n    </g>\r\n   </g>\r\n   <g id=\"patch_3\">\r\n    <path clip-path=\"url(#pbb8678dcbf)\" d=\"M 82.32 77223.485702 \r\nL 176.28 77223.485702 \r\nL 176.28 17.803636 \r\nL 82.32 17.803636 \r\nz\r\n\" style=\"fill:#008fd5;\"/>\r\n   </g>\r\n   <g id=\"patch_4\">\r\n    <path clip-path=\"url(#pbb8678dcbf)\" d=\"M 270.24 77223.485702 \r\nL 364.2 77223.485702 \r\nL 364.2 229.876364 \r\nL 270.24 229.876364 \r\nz\r\n\" style=\"fill:#008fd5;\"/>\r\n   </g>\r\n   <g id=\"patch_5\">\r\n    <path d=\"M 35.34 240.48 \r\nL 35.34 7.2 \r\n\" style=\"fill:none;stroke:#f0f0f0;stroke-linecap:square;stroke-linejoin:miter;stroke-width:3;\"/>\r\n   </g>\r\n   <g id=\"patch_6\">\r\n    <path d=\"M 411.18 240.48 \r\nL 411.18 7.2 \r\n\" style=\"fill:none;stroke:#f0f0f0;stroke-linecap:square;stroke-linejoin:miter;stroke-width:3;\"/>\r\n   </g>\r\n   <g id=\"patch_7\">\r\n    <path d=\"M 35.34 240.48 \r\nL 411.18 240.48 \r\n\" style=\"fill:none;stroke:#f0f0f0;stroke-linecap:square;stroke-linejoin:miter;stroke-width:3;\"/>\r\n   </g>\r\n   <g id=\"patch_8\">\r\n    <path d=\"M 35.34 7.2 \r\nL 411.18 7.2 \r\n\" style=\"fill:none;stroke:#f0f0f0;stroke-linecap:square;stroke-linejoin:miter;stroke-width:3;\"/>\r\n   </g>\r\n  </g>\r\n </g>\r\n <defs>\r\n  <clipPath id=\"pbb8678dcbf\">\r\n   <rect height=\"233.28\" width=\"375.84\" x=\"35.34\" y=\"7.2\"/>\r\n  </clipPath>\r\n </defs>\r\n</svg>\r\n"
     },
     "metadata": {}
    }
   ],
   "source": [
    "fraudster.value_counts('Class').plot(kind=\"bar\", logy=True)"
   ]
  },
  {
   "source": [
    "- На следующем графике постройте две гистограммы по значениям признака V1 - одну для\n",
    "мошеннических транзакций (Class равен 1) и другую - для обычных (Class равен 0).\n",
    "- Подберите значение аргумента density так, чтобы по вертикали графика было расположено не число\n",
    "наблюдений, а плотность распределения. Число бинов должно равняться 20 для обеих гистограмм, а\n",
    "коэффициент alpha сделайте равным 0.5, чтобы гистограммы были полупрозрачными и не\n",
    "загораживали друг друга. \n",
    "- Создайте легенду с двумя значениями: “Class 0” и “Class 1”. Гистограмма\n",
    "обычных транзакций должна быть серого цвета, а мошеннических - красного. Горизонтальной оси\n",
    "дайте название “V1”."
   ],
   "cell_type": "markdown",
   "metadata": {}
  },
  {
   "cell_type": "code",
   "execution_count": 17,
   "metadata": {},
   "outputs": [
    {
     "output_type": "display_data",
     "data": {
      "text/plain": "<Figure size 432x288 with 1 Axes>",
      "image/svg+xml": "<?xml version=\"1.0\" encoding=\"utf-8\" standalone=\"no\"?>\r\n<!DOCTYPE svg PUBLIC \"-//W3C//DTD SVG 1.1//EN\"\r\n  \"http://www.w3.org/Graphics/SVG/1.1/DTD/svg11.dtd\">\r\n<!-- Created with matplotlib (https://matplotlib.org/) -->\r\n<svg height=\"290.307531pt\" version=\"1.1\" viewBox=\"0 0 429.365625 290.307531\" width=\"429.365625pt\" xmlns=\"http://www.w3.org/2000/svg\" xmlns:xlink=\"http://www.w3.org/1999/xlink\">\r\n <metadata>\r\n  <rdf:RDF xmlns:cc=\"http://creativecommons.org/ns#\" xmlns:dc=\"http://purl.org/dc/elements/1.1/\" xmlns:rdf=\"http://www.w3.org/1999/02/22-rdf-syntax-ns#\">\r\n   <cc:Work>\r\n    <dc:type rdf:resource=\"http://purl.org/dc/dcmitype/StillImage\"/>\r\n    <dc:date>2021-06-06T21:12:09.685013</dc:date>\r\n    <dc:format>image/svg+xml</dc:format>\r\n    <dc:creator>\r\n     <cc:Agent>\r\n      <dc:title>Matplotlib v3.3.3, https://matplotlib.org/</dc:title>\r\n     </cc:Agent>\r\n    </dc:creator>\r\n   </cc:Work>\r\n  </rdf:RDF>\r\n </metadata>\r\n <defs>\r\n  <style type=\"text/css\">*{stroke-linecap:butt;stroke-linejoin:round;}</style>\r\n </defs>\r\n <g id=\"figure_1\">\r\n  <g id=\"patch_1\">\r\n   <path d=\"M -0 290.307531 \r\nL 429.365625 290.307531 \r\nL 429.365625 0 \r\nL -0 0 \r\nz\r\n\" style=\"fill:#f0f0f0;\"/>\r\n  </g>\r\n  <g id=\"axes_1\">\r\n   <g id=\"patch_2\">\r\n    <path d=\"M 41.871875 245.798906 \r\nL 417.711875 245.798906 \r\nL 417.711875 12.518906 \r\nL 41.871875 12.518906 \r\nz\r\n\" style=\"fill:#f0f0f0;\"/>\r\n   </g>\r\n   <g id=\"matplotlib.axis_1\">\r\n    <g id=\"xtick_1\">\r\n     <g id=\"line2d_1\">\r\n      <path clip-path=\"url(#p88b88f4ba7)\" d=\"M 41.871875 245.798906 \r\nL 41.871875 12.518906 \r\n\" style=\"fill:none;stroke:#cbcbcb;\"/>\r\n     </g>\r\n     <g id=\"line2d_2\"/>\r\n     <g id=\"text_1\">\r\n      <!-- −35 -->\r\n      <g transform=\"translate(27.098594 259.936719)scale(0.14 -0.14)\">\r\n       <defs>\r\n        <path d=\"M 10.59375 35.5 \r\nL 73.1875 35.5 \r\nL 73.1875 27.203125 \r\nL 10.59375 27.203125 \r\nz\r\n\" id=\"DejaVuSans-8722\"/>\r\n        <path d=\"M 40.578125 39.3125 \r\nQ 47.65625 37.796875 51.625 33 \r\nQ 55.609375 28.21875 55.609375 21.1875 \r\nQ 55.609375 10.40625 48.1875 4.484375 \r\nQ 40.765625 -1.421875 27.09375 -1.421875 \r\nQ 22.515625 -1.421875 17.65625 -0.515625 \r\nQ 12.796875 0.390625 7.625 2.203125 \r\nL 7.625 11.71875 \r\nQ 11.71875 9.328125 16.59375 8.109375 \r\nQ 21.484375 6.890625 26.8125 6.890625 \r\nQ 36.078125 6.890625 40.9375 10.546875 \r\nQ 45.796875 14.203125 45.796875 21.1875 \r\nQ 45.796875 27.640625 41.28125 31.265625 \r\nQ 36.765625 34.90625 28.71875 34.90625 \r\nL 20.21875 34.90625 \r\nL 20.21875 43.015625 \r\nL 29.109375 43.015625 \r\nQ 36.375 43.015625 40.234375 45.921875 \r\nQ 44.09375 48.828125 44.09375 54.296875 \r\nQ 44.09375 59.90625 40.109375 62.90625 \r\nQ 36.140625 65.921875 28.71875 65.921875 \r\nQ 24.65625 65.921875 20.015625 65.03125 \r\nQ 15.375 64.15625 9.8125 62.3125 \r\nL 9.8125 71.09375 \r\nQ 15.4375 72.65625 20.34375 73.4375 \r\nQ 25.25 74.21875 29.59375 74.21875 \r\nQ 40.828125 74.21875 47.359375 69.109375 \r\nQ 53.90625 64.015625 53.90625 55.328125 \r\nQ 53.90625 49.265625 50.4375 45.09375 \r\nQ 46.96875 40.921875 40.578125 39.3125 \r\nz\r\n\" id=\"DejaVuSans-51\"/>\r\n        <path d=\"M 10.796875 72.90625 \r\nL 49.515625 72.90625 \r\nL 49.515625 64.59375 \r\nL 19.828125 64.59375 \r\nL 19.828125 46.734375 \r\nQ 21.96875 47.46875 24.109375 47.828125 \r\nQ 26.265625 48.1875 28.421875 48.1875 \r\nQ 40.625 48.1875 47.75 41.5 \r\nQ 54.890625 34.8125 54.890625 23.390625 \r\nQ 54.890625 11.625 47.5625 5.09375 \r\nQ 40.234375 -1.421875 26.90625 -1.421875 \r\nQ 22.3125 -1.421875 17.546875 -0.640625 \r\nQ 12.796875 0.140625 7.71875 1.703125 \r\nL 7.71875 11.625 \r\nQ 12.109375 9.234375 16.796875 8.0625 \r\nQ 21.484375 6.890625 26.703125 6.890625 \r\nQ 35.15625 6.890625 40.078125 11.328125 \r\nQ 45.015625 15.765625 45.015625 23.390625 \r\nQ 45.015625 31 40.078125 35.4375 \r\nQ 35.15625 39.890625 26.703125 39.890625 \r\nQ 22.75 39.890625 18.8125 39.015625 \r\nQ 14.890625 38.140625 10.796875 36.28125 \r\nz\r\n\" id=\"DejaVuSans-53\"/>\r\n       </defs>\r\n       <use xlink:href=\"#DejaVuSans-8722\"/>\r\n       <use x=\"83.789062\" xlink:href=\"#DejaVuSans-51\"/>\r\n       <use x=\"147.412109\" xlink:href=\"#DejaVuSans-53\"/>\r\n      </g>\r\n     </g>\r\n    </g>\r\n    <g id=\"xtick_2\">\r\n     <g id=\"line2d_3\">\r\n      <path clip-path=\"url(#p88b88f4ba7)\" d=\"M 88.851875 245.798906 \r\nL 88.851875 12.518906 \r\n\" style=\"fill:none;stroke:#cbcbcb;\"/>\r\n     </g>\r\n     <g id=\"line2d_4\"/>\r\n     <g id=\"text_2\">\r\n      <!-- −30 -->\r\n      <g transform=\"translate(74.078594 259.936719)scale(0.14 -0.14)\">\r\n       <defs>\r\n        <path d=\"M 31.78125 66.40625 \r\nQ 24.171875 66.40625 20.328125 58.90625 \r\nQ 16.5 51.421875 16.5 36.375 \r\nQ 16.5 21.390625 20.328125 13.890625 \r\nQ 24.171875 6.390625 31.78125 6.390625 \r\nQ 39.453125 6.390625 43.28125 13.890625 \r\nQ 47.125 21.390625 47.125 36.375 \r\nQ 47.125 51.421875 43.28125 58.90625 \r\nQ 39.453125 66.40625 31.78125 66.40625 \r\nz\r\nM 31.78125 74.21875 \r\nQ 44.046875 74.21875 50.515625 64.515625 \r\nQ 56.984375 54.828125 56.984375 36.375 \r\nQ 56.984375 17.96875 50.515625 8.265625 \r\nQ 44.046875 -1.421875 31.78125 -1.421875 \r\nQ 19.53125 -1.421875 13.0625 8.265625 \r\nQ 6.59375 17.96875 6.59375 36.375 \r\nQ 6.59375 54.828125 13.0625 64.515625 \r\nQ 19.53125 74.21875 31.78125 74.21875 \r\nz\r\n\" id=\"DejaVuSans-48\"/>\r\n       </defs>\r\n       <use xlink:href=\"#DejaVuSans-8722\"/>\r\n       <use x=\"83.789062\" xlink:href=\"#DejaVuSans-51\"/>\r\n       <use x=\"147.412109\" xlink:href=\"#DejaVuSans-48\"/>\r\n      </g>\r\n     </g>\r\n    </g>\r\n    <g id=\"xtick_3\">\r\n     <g id=\"line2d_5\">\r\n      <path clip-path=\"url(#p88b88f4ba7)\" d=\"M 135.831875 245.798906 \r\nL 135.831875 12.518906 \r\n\" style=\"fill:none;stroke:#cbcbcb;\"/>\r\n     </g>\r\n     <g id=\"line2d_6\"/>\r\n     <g id=\"text_3\">\r\n      <!-- −25 -->\r\n      <g transform=\"translate(121.058594 259.936719)scale(0.14 -0.14)\">\r\n       <defs>\r\n        <path d=\"M 19.1875 8.296875 \r\nL 53.609375 8.296875 \r\nL 53.609375 0 \r\nL 7.328125 0 \r\nL 7.328125 8.296875 \r\nQ 12.9375 14.109375 22.625 23.890625 \r\nQ 32.328125 33.6875 34.8125 36.53125 \r\nQ 39.546875 41.84375 41.421875 45.53125 \r\nQ 43.3125 49.21875 43.3125 52.78125 \r\nQ 43.3125 58.59375 39.234375 62.25 \r\nQ 35.15625 65.921875 28.609375 65.921875 \r\nQ 23.96875 65.921875 18.8125 64.3125 \r\nQ 13.671875 62.703125 7.8125 59.421875 \r\nL 7.8125 69.390625 \r\nQ 13.765625 71.78125 18.9375 73 \r\nQ 24.125 74.21875 28.421875 74.21875 \r\nQ 39.75 74.21875 46.484375 68.546875 \r\nQ 53.21875 62.890625 53.21875 53.421875 \r\nQ 53.21875 48.921875 51.53125 44.890625 \r\nQ 49.859375 40.875 45.40625 35.40625 \r\nQ 44.1875 33.984375 37.640625 27.21875 \r\nQ 31.109375 20.453125 19.1875 8.296875 \r\nz\r\n\" id=\"DejaVuSans-50\"/>\r\n       </defs>\r\n       <use xlink:href=\"#DejaVuSans-8722\"/>\r\n       <use x=\"83.789062\" xlink:href=\"#DejaVuSans-50\"/>\r\n       <use x=\"147.412109\" xlink:href=\"#DejaVuSans-53\"/>\r\n      </g>\r\n     </g>\r\n    </g>\r\n    <g id=\"xtick_4\">\r\n     <g id=\"line2d_7\">\r\n      <path clip-path=\"url(#p88b88f4ba7)\" d=\"M 182.811875 245.798906 \r\nL 182.811875 12.518906 \r\n\" style=\"fill:none;stroke:#cbcbcb;\"/>\r\n     </g>\r\n     <g id=\"line2d_8\"/>\r\n     <g id=\"text_4\">\r\n      <!-- −20 -->\r\n      <g transform=\"translate(168.038594 259.936719)scale(0.14 -0.14)\">\r\n       <use xlink:href=\"#DejaVuSans-8722\"/>\r\n       <use x=\"83.789062\" xlink:href=\"#DejaVuSans-50\"/>\r\n       <use x=\"147.412109\" xlink:href=\"#DejaVuSans-48\"/>\r\n      </g>\r\n     </g>\r\n    </g>\r\n    <g id=\"xtick_5\">\r\n     <g id=\"line2d_9\">\r\n      <path clip-path=\"url(#p88b88f4ba7)\" d=\"M 229.791875 245.798906 \r\nL 229.791875 12.518906 \r\n\" style=\"fill:none;stroke:#cbcbcb;\"/>\r\n     </g>\r\n     <g id=\"line2d_10\"/>\r\n     <g id=\"text_5\">\r\n      <!-- −15 -->\r\n      <g transform=\"translate(215.018594 259.936719)scale(0.14 -0.14)\">\r\n       <defs>\r\n        <path d=\"M 12.40625 8.296875 \r\nL 28.515625 8.296875 \r\nL 28.515625 63.921875 \r\nL 10.984375 60.40625 \r\nL 10.984375 69.390625 \r\nL 28.421875 72.90625 \r\nL 38.28125 72.90625 \r\nL 38.28125 8.296875 \r\nL 54.390625 8.296875 \r\nL 54.390625 0 \r\nL 12.40625 0 \r\nz\r\n\" id=\"DejaVuSans-49\"/>\r\n       </defs>\r\n       <use xlink:href=\"#DejaVuSans-8722\"/>\r\n       <use x=\"83.789062\" xlink:href=\"#DejaVuSans-49\"/>\r\n       <use x=\"147.412109\" xlink:href=\"#DejaVuSans-53\"/>\r\n      </g>\r\n     </g>\r\n    </g>\r\n    <g id=\"xtick_6\">\r\n     <g id=\"line2d_11\">\r\n      <path clip-path=\"url(#p88b88f4ba7)\" d=\"M 276.771875 245.798906 \r\nL 276.771875 12.518906 \r\n\" style=\"fill:none;stroke:#cbcbcb;\"/>\r\n     </g>\r\n     <g id=\"line2d_12\"/>\r\n     <g id=\"text_6\">\r\n      <!-- −10 -->\r\n      <g transform=\"translate(261.998594 259.936719)scale(0.14 -0.14)\">\r\n       <use xlink:href=\"#DejaVuSans-8722\"/>\r\n       <use x=\"83.789062\" xlink:href=\"#DejaVuSans-49\"/>\r\n       <use x=\"147.412109\" xlink:href=\"#DejaVuSans-48\"/>\r\n      </g>\r\n     </g>\r\n    </g>\r\n    <g id=\"xtick_7\">\r\n     <g id=\"line2d_13\">\r\n      <path clip-path=\"url(#p88b88f4ba7)\" d=\"M 323.751875 245.798906 \r\nL 323.751875 12.518906 \r\n\" style=\"fill:none;stroke:#cbcbcb;\"/>\r\n     </g>\r\n     <g id=\"line2d_14\"/>\r\n     <g id=\"text_7\">\r\n      <!-- −5 -->\r\n      <g transform=\"translate(313.432344 259.936719)scale(0.14 -0.14)\">\r\n       <use xlink:href=\"#DejaVuSans-8722\"/>\r\n       <use x=\"83.789062\" xlink:href=\"#DejaVuSans-53\"/>\r\n      </g>\r\n     </g>\r\n    </g>\r\n    <g id=\"xtick_8\">\r\n     <g id=\"line2d_15\">\r\n      <path clip-path=\"url(#p88b88f4ba7)\" d=\"M 370.731875 245.798906 \r\nL 370.731875 12.518906 \r\n\" style=\"fill:none;stroke:#cbcbcb;\"/>\r\n     </g>\r\n     <g id=\"line2d_16\"/>\r\n     <g id=\"text_8\">\r\n      <!-- 0 -->\r\n      <g transform=\"translate(366.278125 259.936719)scale(0.14 -0.14)\">\r\n       <use xlink:href=\"#DejaVuSans-48\"/>\r\n      </g>\r\n     </g>\r\n    </g>\r\n    <g id=\"xtick_9\">\r\n     <g id=\"line2d_17\">\r\n      <path clip-path=\"url(#p88b88f4ba7)\" d=\"M 417.711875 245.798906 \r\nL 417.711875 12.518906 \r\n\" style=\"fill:none;stroke:#cbcbcb;\"/>\r\n     </g>\r\n     <g id=\"line2d_18\"/>\r\n     <g id=\"text_9\">\r\n      <!-- 5 -->\r\n      <g transform=\"translate(413.258125 259.936719)scale(0.14 -0.14)\">\r\n       <use xlink:href=\"#DejaVuSans-53\"/>\r\n      </g>\r\n     </g>\r\n    </g>\r\n    <g id=\"text_10\">\r\n     <!-- V1 -->\r\n     <g transform=\"translate(218.70125 279.613656)scale(0.168 -0.168)\">\r\n      <defs>\r\n       <path d=\"M 28.609375 0 \r\nL 0.78125 72.90625 \r\nL 11.078125 72.90625 \r\nL 34.1875 11.53125 \r\nL 57.328125 72.90625 \r\nL 67.578125 72.90625 \r\nL 39.796875 0 \r\nz\r\n\" id=\"DejaVuSans-86\"/>\r\n      </defs>\r\n      <use xlink:href=\"#DejaVuSans-86\"/>\r\n      <use x=\"68.408203\" xlink:href=\"#DejaVuSans-49\"/>\r\n     </g>\r\n    </g>\r\n   </g>\r\n   <g id=\"matplotlib.axis_2\">\r\n    <g id=\"ytick_1\">\r\n     <g id=\"line2d_19\">\r\n      <path clip-path=\"url(#p88b88f4ba7)\" d=\"M 41.871875 245.798906 \r\nL 417.711875 245.798906 \r\n\" style=\"fill:none;stroke:#cbcbcb;\"/>\r\n     </g>\r\n     <g id=\"line2d_20\"/>\r\n     <g id=\"text_11\">\r\n      <!-- 0.00 -->\r\n      <g transform=\"translate(7.2 251.117813)scale(0.14 -0.14)\">\r\n       <defs>\r\n        <path d=\"M 10.6875 12.40625 \r\nL 21 12.40625 \r\nL 21 0 \r\nL 10.6875 0 \r\nz\r\n\" id=\"DejaVuSans-46\"/>\r\n       </defs>\r\n       <use xlink:href=\"#DejaVuSans-48\"/>\r\n       <use x=\"63.623047\" xlink:href=\"#DejaVuSans-46\"/>\r\n       <use x=\"95.410156\" xlink:href=\"#DejaVuSans-48\"/>\r\n       <use x=\"159.033203\" xlink:href=\"#DejaVuSans-48\"/>\r\n      </g>\r\n     </g>\r\n    </g>\r\n    <g id=\"ytick_2\">\r\n     <g id=\"line2d_21\">\r\n      <path clip-path=\"url(#p88b88f4ba7)\" d=\"M 41.871875 199.142906 \r\nL 417.711875 199.142906 \r\n\" style=\"fill:none;stroke:#cbcbcb;\"/>\r\n     </g>\r\n     <g id=\"line2d_22\"/>\r\n     <g id=\"text_12\">\r\n      <!-- 0.05 -->\r\n      <g transform=\"translate(7.2 204.461813)scale(0.14 -0.14)\">\r\n       <use xlink:href=\"#DejaVuSans-48\"/>\r\n       <use x=\"63.623047\" xlink:href=\"#DejaVuSans-46\"/>\r\n       <use x=\"95.410156\" xlink:href=\"#DejaVuSans-48\"/>\r\n       <use x=\"159.033203\" xlink:href=\"#DejaVuSans-53\"/>\r\n      </g>\r\n     </g>\r\n    </g>\r\n    <g id=\"ytick_3\">\r\n     <g id=\"line2d_23\">\r\n      <path clip-path=\"url(#p88b88f4ba7)\" d=\"M 41.871875 152.486906 \r\nL 417.711875 152.486906 \r\n\" style=\"fill:none;stroke:#cbcbcb;\"/>\r\n     </g>\r\n     <g id=\"line2d_24\"/>\r\n     <g id=\"text_13\">\r\n      <!-- 0.10 -->\r\n      <g transform=\"translate(7.2 157.805813)scale(0.14 -0.14)\">\r\n       <use xlink:href=\"#DejaVuSans-48\"/>\r\n       <use x=\"63.623047\" xlink:href=\"#DejaVuSans-46\"/>\r\n       <use x=\"95.410156\" xlink:href=\"#DejaVuSans-49\"/>\r\n       <use x=\"159.033203\" xlink:href=\"#DejaVuSans-48\"/>\r\n      </g>\r\n     </g>\r\n    </g>\r\n    <g id=\"ytick_4\">\r\n     <g id=\"line2d_25\">\r\n      <path clip-path=\"url(#p88b88f4ba7)\" d=\"M 41.871875 105.830906 \r\nL 417.711875 105.830906 \r\n\" style=\"fill:none;stroke:#cbcbcb;\"/>\r\n     </g>\r\n     <g id=\"line2d_26\"/>\r\n     <g id=\"text_14\">\r\n      <!-- 0.15 -->\r\n      <g transform=\"translate(7.2 111.149812)scale(0.14 -0.14)\">\r\n       <use xlink:href=\"#DejaVuSans-48\"/>\r\n       <use x=\"63.623047\" xlink:href=\"#DejaVuSans-46\"/>\r\n       <use x=\"95.410156\" xlink:href=\"#DejaVuSans-49\"/>\r\n       <use x=\"159.033203\" xlink:href=\"#DejaVuSans-53\"/>\r\n      </g>\r\n     </g>\r\n    </g>\r\n    <g id=\"ytick_5\">\r\n     <g id=\"line2d_27\">\r\n      <path clip-path=\"url(#p88b88f4ba7)\" d=\"M 41.871875 59.174906 \r\nL 417.711875 59.174906 \r\n\" style=\"fill:none;stroke:#cbcbcb;\"/>\r\n     </g>\r\n     <g id=\"line2d_28\"/>\r\n     <g id=\"text_15\">\r\n      <!-- 0.20 -->\r\n      <g transform=\"translate(7.2 64.493812)scale(0.14 -0.14)\">\r\n       <use xlink:href=\"#DejaVuSans-48\"/>\r\n       <use x=\"63.623047\" xlink:href=\"#DejaVuSans-46\"/>\r\n       <use x=\"95.410156\" xlink:href=\"#DejaVuSans-50\"/>\r\n       <use x=\"159.033203\" xlink:href=\"#DejaVuSans-48\"/>\r\n      </g>\r\n     </g>\r\n    </g>\r\n    <g id=\"ytick_6\">\r\n     <g id=\"line2d_29\">\r\n      <path clip-path=\"url(#p88b88f4ba7)\" d=\"M 41.871875 12.518906 \r\nL 417.711875 12.518906 \r\n\" style=\"fill:none;stroke:#cbcbcb;\"/>\r\n     </g>\r\n     <g id=\"line2d_30\"/>\r\n     <g id=\"text_16\">\r\n      <!-- 0.25 -->\r\n      <g transform=\"translate(7.2 17.837812)scale(0.14 -0.14)\">\r\n       <use xlink:href=\"#DejaVuSans-48\"/>\r\n       <use x=\"63.623047\" xlink:href=\"#DejaVuSans-46\"/>\r\n       <use x=\"95.410156\" xlink:href=\"#DejaVuSans-50\"/>\r\n       <use x=\"159.033203\" xlink:href=\"#DejaVuSans-53\"/>\r\n      </g>\r\n     </g>\r\n    </g>\r\n   </g>\r\n   <g id=\"patch_3\">\r\n    <path clip-path=\"url(#p88b88f4ba7)\" d=\"M -159.273085 245.798906 \r\nL -131.619511 245.798906 \r\nL -131.619511 245.797791 \r\nL -159.273085 245.797791 \r\nz\r\n\" style=\"fill:#808080;opacity:0.5;stroke:#000000;stroke-linejoin:miter;stroke-width:0.5;\"/>\r\n   </g>\r\n   <g id=\"patch_4\">\r\n    <path clip-path=\"url(#p88b88f4ba7)\" d=\"M -131.619511 245.798906 \r\nL -103.965937 245.798906 \r\nL -103.965937 245.798906 \r\nL -131.619511 245.798906 \r\nz\r\n\" style=\"fill:#808080;opacity:0.5;stroke:#000000;stroke-linejoin:miter;stroke-width:0.5;\"/>\r\n   </g>\r\n   <g id=\"patch_5\">\r\n    <path clip-path=\"url(#p88b88f4ba7)\" d=\"M -103.965937 245.798906 \r\nL -76.312363 245.798906 \r\nL -76.312363 245.798906 \r\nL -103.965937 245.798906 \r\nz\r\n\" style=\"fill:#808080;opacity:0.5;stroke:#000000;stroke-linejoin:miter;stroke-width:0.5;\"/>\r\n   </g>\r\n   <g id=\"patch_6\">\r\n    <path clip-path=\"url(#p88b88f4ba7)\" d=\"M -76.312363 245.798906 \r\nL -48.658789 245.798906 \r\nL -48.658789 245.797791 \r\nL -76.312363 245.797791 \r\nz\r\n\" style=\"fill:#808080;opacity:0.5;stroke:#000000;stroke-linejoin:miter;stroke-width:0.5;\"/>\r\n   </g>\r\n   <g id=\"patch_7\">\r\n    <path clip-path=\"url(#p88b88f4ba7)\" d=\"M -48.658789 245.798906 \r\nL -21.005215 245.798906 \r\nL -21.005215 245.797791 \r\nL -48.658789 245.797791 \r\nz\r\n\" style=\"fill:#808080;opacity:0.5;stroke:#000000;stroke-linejoin:miter;stroke-width:0.5;\"/>\r\n   </g>\r\n   <g id=\"patch_8\">\r\n    <path clip-path=\"url(#p88b88f4ba7)\" d=\"M -21.005215 245.798906 \r\nL 6.648359 245.798906 \r\nL 6.648359 245.796676 \r\nL -21.005215 245.796676 \r\nz\r\n\" style=\"fill:#808080;opacity:0.5;stroke:#000000;stroke-linejoin:miter;stroke-width:0.5;\"/>\r\n   </g>\r\n   <g id=\"patch_9\">\r\n    <path clip-path=\"url(#p88b88f4ba7)\" d=\"M 6.648359 245.798906 \r\nL 34.301933 245.798906 \r\nL 34.301933 245.793331 \r\nL 6.648359 245.793331 \r\nz\r\n\" style=\"fill:#808080;opacity:0.5;stroke:#000000;stroke-linejoin:miter;stroke-width:0.5;\"/>\r\n   </g>\r\n   <g id=\"patch_10\">\r\n    <path clip-path=\"url(#p88b88f4ba7)\" d=\"M 34.301933 245.798906 \r\nL 61.955508 245.798906 \r\nL 61.955508 245.784409 \r\nL 34.301933 245.784409 \r\nz\r\n\" style=\"fill:#808080;opacity:0.5;stroke:#000000;stroke-linejoin:miter;stroke-width:0.5;\"/>\r\n   </g>\r\n   <g id=\"patch_11\">\r\n    <path clip-path=\"url(#p88b88f4ba7)\" d=\"M 61.955508 245.798906 \r\nL 89.609082 245.798906 \r\nL 89.609082 245.78664 \r\nL 61.955508 245.78664 \r\nz\r\n\" style=\"fill:#808080;opacity:0.5;stroke:#000000;stroke-linejoin:miter;stroke-width:0.5;\"/>\r\n   </g>\r\n   <g id=\"patch_12\">\r\n    <path clip-path=\"url(#p88b88f4ba7)\" d=\"M 89.609082 245.798906 \r\nL 117.262656 245.798906 \r\nL 117.262656 245.78664 \r\nL 89.609082 245.78664 \r\nz\r\n\" style=\"fill:#808080;opacity:0.5;stroke:#000000;stroke-linejoin:miter;stroke-width:0.5;\"/>\r\n   </g>\r\n   <g id=\"patch_13\">\r\n    <path clip-path=\"url(#p88b88f4ba7)\" d=\"M 117.262656 245.798906 \r\nL 144.91623 245.798906 \r\nL 144.91623 245.775488 \r\nL 117.262656 245.775488 \r\nz\r\n\" style=\"fill:#808080;opacity:0.5;stroke:#000000;stroke-linejoin:miter;stroke-width:0.5;\"/>\r\n   </g>\r\n   <g id=\"patch_14\">\r\n    <path clip-path=\"url(#p88b88f4ba7)\" d=\"M 144.91623 245.798906 \r\nL 172.569804 245.798906 \r\nL 172.569804 245.748725 \r\nL 144.91623 245.748725 \r\nz\r\n\" style=\"fill:#808080;opacity:0.5;stroke:#000000;stroke-linejoin:miter;stroke-width:0.5;\"/>\r\n   </g>\r\n   <g id=\"patch_15\">\r\n    <path clip-path=\"url(#p88b88f4ba7)\" d=\"M 172.569804 245.798906 \r\nL 200.223378 245.798906 \r\nL 200.223378 245.728652 \r\nL 172.569804 245.728652 \r\nz\r\n\" style=\"fill:#808080;opacity:0.5;stroke:#000000;stroke-linejoin:miter;stroke-width:0.5;\"/>\r\n   </g>\r\n   <g id=\"patch_16\">\r\n    <path clip-path=\"url(#p88b88f4ba7)\" d=\"M 200.223378 245.798906 \r\nL 227.876952 245.798906 \r\nL 227.876952 245.689623 \r\nL 200.223378 245.689623 \r\nz\r\n\" style=\"fill:#808080;opacity:0.5;stroke:#000000;stroke-linejoin:miter;stroke-width:0.5;\"/>\r\n   </g>\r\n   <g id=\"patch_17\">\r\n    <path clip-path=\"url(#p88b88f4ba7)\" d=\"M 227.876952 245.798906 \r\nL 255.530527 245.798906 \r\nL 255.530527 245.551345 \r\nL 227.876952 245.551345 \r\nz\r\n\" style=\"fill:#808080;opacity:0.5;stroke:#000000;stroke-linejoin:miter;stroke-width:0.5;\"/>\r\n   </g>\r\n   <g id=\"patch_18\">\r\n    <path clip-path=\"url(#p88b88f4ba7)\" d=\"M 255.530527 245.798906 \r\nL 283.184101 245.798906 \r\nL 283.184101 245.100828 \r\nL 255.530527 245.100828 \r\nz\r\n\" style=\"fill:#808080;opacity:0.5;stroke:#000000;stroke-linejoin:miter;stroke-width:0.5;\"/>\r\n   </g>\r\n   <g id=\"patch_19\">\r\n    <path clip-path=\"url(#p88b88f4ba7)\" d=\"M 283.184101 245.798906 \r\nL 310.837675 245.798906 \r\nL 310.837675 243.766006 \r\nL 283.184101 243.766006 \r\nz\r\n\" style=\"fill:#808080;opacity:0.5;stroke:#000000;stroke-linejoin:miter;stroke-width:0.5;\"/>\r\n   </g>\r\n   <g id=\"patch_20\">\r\n    <path clip-path=\"url(#p88b88f4ba7)\" d=\"M 310.837675 245.798906 \r\nL 338.491249 245.798906 \r\nL 338.491249 237.407476 \r\nL 310.837675 237.407476 \r\nz\r\n\" style=\"fill:#808080;opacity:0.5;stroke:#000000;stroke-linejoin:miter;stroke-width:0.5;\"/>\r\n   </g>\r\n   <g id=\"patch_21\">\r\n    <path clip-path=\"url(#p88b88f4ba7)\" d=\"M 338.491249 245.798906 \r\nL 366.144823 245.798906 \r\nL 366.144823 137.113999 \r\nL 338.491249 137.113999 \r\nz\r\n\" style=\"fill:#808080;opacity:0.5;stroke:#000000;stroke-linejoin:miter;stroke-width:0.5;\"/>\r\n   </g>\r\n   <g id=\"patch_22\">\r\n    <path clip-path=\"url(#p88b88f4ba7)\" d=\"M 366.144823 245.798906 \r\nL 393.798397 245.798906 \r\nL 393.798397 49.106021 \r\nL 366.144823 49.106021 \r\nz\r\n\" style=\"fill:#808080;opacity:0.5;stroke:#000000;stroke-linejoin:miter;stroke-width:0.5;\"/>\r\n   </g>\r\n   <g id=\"patch_23\">\r\n    <path clip-path=\"url(#p88b88f4ba7)\" d=\"M 83.661712 245.798906 \r\nL 99.017015 245.798906 \r\nL 99.017015 242.317311 \r\nL 83.661712 242.317311 \r\nz\r\n\" style=\"fill:#ff0000;opacity:0.5;stroke:#000000;stroke-linejoin:miter;stroke-width:0.5;\"/>\r\n   </g>\r\n   <g id=\"patch_24\">\r\n    <path clip-path=\"url(#p88b88f4ba7)\" d=\"M 99.017015 245.798906 \r\nL 114.372318 245.798906 \r\nL 114.372318 241.156779 \r\nL 99.017015 241.156779 \r\nz\r\n\" style=\"fill:#ff0000;opacity:0.5;stroke:#000000;stroke-linejoin:miter;stroke-width:0.5;\"/>\r\n   </g>\r\n   <g id=\"patch_25\">\r\n    <path clip-path=\"url(#p88b88f4ba7)\" d=\"M 114.372318 245.798906 \r\nL 129.727621 245.798906 \r\nL 129.727621 237.675184 \r\nL 114.372318 237.675184 \r\nz\r\n\" style=\"fill:#ff0000;opacity:0.5;stroke:#000000;stroke-linejoin:miter;stroke-width:0.5;\"/>\r\n   </g>\r\n   <g id=\"patch_26\">\r\n    <path clip-path=\"url(#p88b88f4ba7)\" d=\"M 129.727621 245.798906 \r\nL 145.082924 245.798906 \r\nL 145.082924 243.477843 \r\nL 129.727621 243.477843 \r\nz\r\n\" style=\"fill:#ff0000;opacity:0.5;stroke:#000000;stroke-linejoin:miter;stroke-width:0.5;\"/>\r\n   </g>\r\n   <g id=\"patch_27\">\r\n    <path clip-path=\"url(#p88b88f4ba7)\" d=\"M 145.082924 245.798906 \r\nL 160.438228 245.798906 \r\nL 160.438228 241.156779 \r\nL 145.082924 241.156779 \r\nz\r\n\" style=\"fill:#ff0000;opacity:0.5;stroke:#000000;stroke-linejoin:miter;stroke-width:0.5;\"/>\r\n   </g>\r\n   <g id=\"patch_28\">\r\n    <path clip-path=\"url(#p88b88f4ba7)\" d=\"M 160.438228 245.798906 \r\nL 175.793531 245.798906 \r\nL 175.793531 241.156779 \r\nL 160.438228 241.156779 \r\nz\r\n\" style=\"fill:#ff0000;opacity:0.5;stroke:#000000;stroke-linejoin:miter;stroke-width:0.5;\"/>\r\n   </g>\r\n   <g id=\"patch_29\">\r\n    <path clip-path=\"url(#p88b88f4ba7)\" d=\"M 175.793531 245.798906 \r\nL 191.148834 245.798906 \r\nL 191.148834 239.996248 \r\nL 175.793531 239.996248 \r\nz\r\n\" style=\"fill:#ff0000;opacity:0.5;stroke:#000000;stroke-linejoin:miter;stroke-width:0.5;\"/>\r\n   </g>\r\n   <g id=\"patch_30\">\r\n    <path clip-path=\"url(#p88b88f4ba7)\" d=\"M 191.148834 245.798906 \r\nL 206.504137 245.798906 \r\nL 206.504137 238.835716 \r\nL 191.148834 238.835716 \r\nz\r\n\" style=\"fill:#ff0000;opacity:0.5;stroke:#000000;stroke-linejoin:miter;stroke-width:0.5;\"/>\r\n   </g>\r\n   <g id=\"patch_31\">\r\n    <path clip-path=\"url(#p88b88f4ba7)\" d=\"M 206.504137 245.798906 \r\nL 221.85944 245.798906 \r\nL 221.85944 236.514653 \r\nL 206.504137 236.514653 \r\nz\r\n\" style=\"fill:#ff0000;opacity:0.5;stroke:#000000;stroke-linejoin:miter;stroke-width:0.5;\"/>\r\n   </g>\r\n   <g id=\"patch_32\">\r\n    <path clip-path=\"url(#p88b88f4ba7)\" d=\"M 221.85944 245.798906 \r\nL 237.214743 245.798906 \r\nL 237.214743 235.354121 \r\nL 221.85944 235.354121 \r\nz\r\n\" style=\"fill:#ff0000;opacity:0.5;stroke:#000000;stroke-linejoin:miter;stroke-width:0.5;\"/>\r\n   </g>\r\n   <g id=\"patch_33\">\r\n    <path clip-path=\"url(#p88b88f4ba7)\" d=\"M 237.214743 245.798906 \r\nL 252.570046 245.798906 \r\nL 252.570046 227.230399 \r\nL 237.214743 227.230399 \r\nz\r\n\" style=\"fill:#ff0000;opacity:0.5;stroke:#000000;stroke-linejoin:miter;stroke-width:0.5;\"/>\r\n   </g>\r\n   <g id=\"patch_34\">\r\n    <path clip-path=\"url(#p88b88f4ba7)\" d=\"M 252.570046 245.798906 \r\nL 267.925349 245.798906 \r\nL 267.925349 237.675184 \r\nL 252.570046 237.675184 \r\nz\r\n\" style=\"fill:#ff0000;opacity:0.5;stroke:#000000;stroke-linejoin:miter;stroke-width:0.5;\"/>\r\n   </g>\r\n   <g id=\"patch_35\">\r\n    <path clip-path=\"url(#p88b88f4ba7)\" d=\"M 267.925349 245.798906 \r\nL 283.280652 245.798906 \r\nL 283.280652 231.872526 \r\nL 267.925349 231.872526 \r\nz\r\n\" style=\"fill:#ff0000;opacity:0.5;stroke:#000000;stroke-linejoin:miter;stroke-width:0.5;\"/>\r\n   </g>\r\n   <g id=\"patch_36\">\r\n    <path clip-path=\"url(#p88b88f4ba7)\" d=\"M 283.280652 245.798906 \r\nL 298.635955 245.798906 \r\nL 298.635955 233.033057 \r\nL 283.280652 233.033057 \r\nz\r\n\" style=\"fill:#ff0000;opacity:0.5;stroke:#000000;stroke-linejoin:miter;stroke-width:0.5;\"/>\r\n   </g>\r\n   <g id=\"patch_37\">\r\n    <path clip-path=\"url(#p88b88f4ba7)\" d=\"M 298.635955 245.798906 \r\nL 313.991259 245.798906 \r\nL 313.991259 216.785614 \r\nL 298.635955 216.785614 \r\nz\r\n\" style=\"fill:#ff0000;opacity:0.5;stroke:#000000;stroke-linejoin:miter;stroke-width:0.5;\"/>\r\n   </g>\r\n   <g id=\"patch_38\">\r\n    <path clip-path=\"url(#p88b88f4ba7)\" d=\"M 313.991259 245.798906 \r\nL 329.346562 245.798906 \r\nL 329.346562 192.414448 \r\nL 313.991259 192.414448 \r\nz\r\n\" style=\"fill:#ff0000;opacity:0.5;stroke:#000000;stroke-linejoin:miter;stroke-width:0.5;\"/>\r\n   </g>\r\n   <g id=\"patch_39\">\r\n    <path clip-path=\"url(#p88b88f4ba7)\" d=\"M 329.346562 245.798906 \r\nL 344.701865 245.798906 \r\nL 344.701865 178.488067 \r\nL 329.346562 178.488067 \r\nz\r\n\" style=\"fill:#ff0000;opacity:0.5;stroke:#000000;stroke-linejoin:miter;stroke-width:0.5;\"/>\r\n   </g>\r\n   <g id=\"patch_40\">\r\n    <path clip-path=\"url(#p88b88f4ba7)\" d=\"M 344.701865 245.798906 \r\nL 360.057168 245.798906 \r\nL 360.057168 130.906267 \r\nL 344.701865 130.906267 \r\nz\r\n\" style=\"fill:#ff0000;opacity:0.5;stroke:#000000;stroke-linejoin:miter;stroke-width:0.5;\"/>\r\n   </g>\r\n   <g id=\"patch_41\">\r\n    <path clip-path=\"url(#p88b88f4ba7)\" d=\"M 360.057168 245.798906 \r\nL 375.412471 245.798906 \r\nL 375.412471 137.869458 \r\nL 360.057168 137.869458 \r\nz\r\n\" style=\"fill:#ff0000;opacity:0.5;stroke:#000000;stroke-linejoin:miter;stroke-width:0.5;\"/>\r\n   </g>\r\n   <g id=\"patch_42\">\r\n    <path clip-path=\"url(#p88b88f4ba7)\" d=\"M 375.412471 245.798906 \r\nL 390.767774 245.798906 \r\nL 390.767774 161.080092 \r\nL 375.412471 161.080092 \r\nz\r\n\" style=\"fill:#ff0000;opacity:0.5;stroke:#000000;stroke-linejoin:miter;stroke-width:0.5;\"/>\r\n   </g>\r\n   <g id=\"patch_43\">\r\n    <path d=\"M 41.871875 245.798906 \r\nL 41.871875 12.518906 \r\n\" style=\"fill:none;stroke:#f0f0f0;stroke-linecap:square;stroke-linejoin:miter;stroke-width:3;\"/>\r\n   </g>\r\n   <g id=\"patch_44\">\r\n    <path d=\"M 417.711875 245.798906 \r\nL 417.711875 12.518906 \r\n\" style=\"fill:none;stroke:#f0f0f0;stroke-linecap:square;stroke-linejoin:miter;stroke-width:3;\"/>\r\n   </g>\r\n   <g id=\"patch_45\">\r\n    <path d=\"M 41.871875 245.798906 \r\nL 417.711875 245.798906 \r\n\" style=\"fill:none;stroke:#f0f0f0;stroke-linecap:square;stroke-linejoin:miter;stroke-width:3;\"/>\r\n   </g>\r\n   <g id=\"patch_46\">\r\n    <path d=\"M 41.871875 12.518906 \r\nL 417.711875 12.518906 \r\n\" style=\"fill:none;stroke:#f0f0f0;stroke-linecap:square;stroke-linejoin:miter;stroke-width:3;\"/>\r\n   </g>\r\n   <g id=\"legend_1\">\r\n    <g id=\"patch_47\">\r\n     <path d=\"M 185.097969 35.756719 \r\nL 213.097969 35.756719 \r\nL 213.097969 25.956719 \r\nL 185.097969 25.956719 \r\nz\r\n\" style=\"fill:#808080;opacity:0.5;stroke:#000000;stroke-linejoin:miter;stroke-width:0.5;\"/>\r\n    </g>\r\n    <g id=\"text_17\">\r\n     <!-- Class 0 -->\r\n     <g transform=\"translate(224.297969 35.756719)scale(0.14 -0.14)\">\r\n      <defs>\r\n       <path d=\"M 64.40625 67.28125 \r\nL 64.40625 56.890625 \r\nQ 59.421875 61.53125 53.78125 63.8125 \r\nQ 48.140625 66.109375 41.796875 66.109375 \r\nQ 29.296875 66.109375 22.65625 58.46875 \r\nQ 16.015625 50.828125 16.015625 36.375 \r\nQ 16.015625 21.96875 22.65625 14.328125 \r\nQ 29.296875 6.6875 41.796875 6.6875 \r\nQ 48.140625 6.6875 53.78125 8.984375 \r\nQ 59.421875 11.28125 64.40625 15.921875 \r\nL 64.40625 5.609375 \r\nQ 59.234375 2.09375 53.4375 0.328125 \r\nQ 47.65625 -1.421875 41.21875 -1.421875 \r\nQ 24.65625 -1.421875 15.125 8.703125 \r\nQ 5.609375 18.84375 5.609375 36.375 \r\nQ 5.609375 53.953125 15.125 64.078125 \r\nQ 24.65625 74.21875 41.21875 74.21875 \r\nQ 47.75 74.21875 53.53125 72.484375 \r\nQ 59.328125 70.75 64.40625 67.28125 \r\nz\r\n\" id=\"DejaVuSans-67\"/>\r\n       <path d=\"M 9.421875 75.984375 \r\nL 18.40625 75.984375 \r\nL 18.40625 0 \r\nL 9.421875 0 \r\nz\r\n\" id=\"DejaVuSans-108\"/>\r\n       <path d=\"M 34.28125 27.484375 \r\nQ 23.390625 27.484375 19.1875 25 \r\nQ 14.984375 22.515625 14.984375 16.5 \r\nQ 14.984375 11.71875 18.140625 8.90625 \r\nQ 21.296875 6.109375 26.703125 6.109375 \r\nQ 34.1875 6.109375 38.703125 11.40625 \r\nQ 43.21875 16.703125 43.21875 25.484375 \r\nL 43.21875 27.484375 \r\nz\r\nM 52.203125 31.203125 \r\nL 52.203125 0 \r\nL 43.21875 0 \r\nL 43.21875 8.296875 \r\nQ 40.140625 3.328125 35.546875 0.953125 \r\nQ 30.953125 -1.421875 24.3125 -1.421875 \r\nQ 15.921875 -1.421875 10.953125 3.296875 \r\nQ 6 8.015625 6 15.921875 \r\nQ 6 25.140625 12.171875 29.828125 \r\nQ 18.359375 34.515625 30.609375 34.515625 \r\nL 43.21875 34.515625 \r\nL 43.21875 35.40625 \r\nQ 43.21875 41.609375 39.140625 45 \r\nQ 35.0625 48.390625 27.6875 48.390625 \r\nQ 23 48.390625 18.546875 47.265625 \r\nQ 14.109375 46.140625 10.015625 43.890625 \r\nL 10.015625 52.203125 \r\nQ 14.9375 54.109375 19.578125 55.046875 \r\nQ 24.21875 56 28.609375 56 \r\nQ 40.484375 56 46.34375 49.84375 \r\nQ 52.203125 43.703125 52.203125 31.203125 \r\nz\r\n\" id=\"DejaVuSans-97\"/>\r\n       <path d=\"M 44.28125 53.078125 \r\nL 44.28125 44.578125 \r\nQ 40.484375 46.53125 36.375 47.5 \r\nQ 32.28125 48.484375 27.875 48.484375 \r\nQ 21.1875 48.484375 17.84375 46.4375 \r\nQ 14.5 44.390625 14.5 40.28125 \r\nQ 14.5 37.15625 16.890625 35.375 \r\nQ 19.28125 33.59375 26.515625 31.984375 \r\nL 29.59375 31.296875 \r\nQ 39.15625 29.25 43.1875 25.515625 \r\nQ 47.21875 21.78125 47.21875 15.09375 \r\nQ 47.21875 7.46875 41.1875 3.015625 \r\nQ 35.15625 -1.421875 24.609375 -1.421875 \r\nQ 20.21875 -1.421875 15.453125 -0.5625 \r\nQ 10.6875 0.296875 5.421875 2 \r\nL 5.421875 11.28125 \r\nQ 10.40625 8.6875 15.234375 7.390625 \r\nQ 20.0625 6.109375 24.8125 6.109375 \r\nQ 31.15625 6.109375 34.5625 8.28125 \r\nQ 37.984375 10.453125 37.984375 14.40625 \r\nQ 37.984375 18.0625 35.515625 20.015625 \r\nQ 33.0625 21.96875 24.703125 23.78125 \r\nL 21.578125 24.515625 \r\nQ 13.234375 26.265625 9.515625 29.90625 \r\nQ 5.8125 33.546875 5.8125 39.890625 \r\nQ 5.8125 47.609375 11.28125 51.796875 \r\nQ 16.75 56 26.8125 56 \r\nQ 31.78125 56 36.171875 55.265625 \r\nQ 40.578125 54.546875 44.28125 53.078125 \r\nz\r\n\" id=\"DejaVuSans-115\"/>\r\n       <path id=\"DejaVuSans-32\"/>\r\n      </defs>\r\n      <use xlink:href=\"#DejaVuSans-67\"/>\r\n      <use x=\"69.824219\" xlink:href=\"#DejaVuSans-108\"/>\r\n      <use x=\"97.607422\" xlink:href=\"#DejaVuSans-97\"/>\r\n      <use x=\"158.886719\" xlink:href=\"#DejaVuSans-115\"/>\r\n      <use x=\"210.986328\" xlink:href=\"#DejaVuSans-115\"/>\r\n      <use x=\"263.085938\" xlink:href=\"#DejaVuSans-32\"/>\r\n      <use x=\"294.873047\" xlink:href=\"#DejaVuSans-48\"/>\r\n     </g>\r\n    </g>\r\n    <g id=\"patch_48\">\r\n     <path d=\"M 185.097969 56.306094 \r\nL 213.097969 56.306094 \r\nL 213.097969 46.506094 \r\nL 185.097969 46.506094 \r\nz\r\n\" style=\"fill:#ff0000;opacity:0.5;stroke:#000000;stroke-linejoin:miter;stroke-width:0.5;\"/>\r\n    </g>\r\n    <g id=\"text_18\">\r\n     <!-- Class 1 -->\r\n     <g transform=\"translate(224.297969 56.306094)scale(0.14 -0.14)\">\r\n      <use xlink:href=\"#DejaVuSans-67\"/>\r\n      <use x=\"69.824219\" xlink:href=\"#DejaVuSans-108\"/>\r\n      <use x=\"97.607422\" xlink:href=\"#DejaVuSans-97\"/>\r\n      <use x=\"158.886719\" xlink:href=\"#DejaVuSans-115\"/>\r\n      <use x=\"210.986328\" xlink:href=\"#DejaVuSans-115\"/>\r\n      <use x=\"263.085938\" xlink:href=\"#DejaVuSans-32\"/>\r\n      <use x=\"294.873047\" xlink:href=\"#DejaVuSans-49\"/>\r\n     </g>\r\n    </g>\r\n   </g>\r\n  </g>\r\n </g>\r\n <defs>\r\n  <clipPath id=\"p88b88f4ba7\">\r\n   <rect height=\"233.28\" width=\"375.84\" x=\"41.871875\" y=\"12.518906\"/>\r\n  </clipPath>\r\n </defs>\r\n</svg>\r\n"
     },
     "metadata": {}
    }
   ],
   "source": [
    "\n",
    "ordinary_info_0 = plt.hist(fraudster.loc[fraudster[\"Class\"] == 0, \"V1\"], bins=20, alpha=0.5, ec=\"black\", density=True, color=\"#808080\")\n",
    "fraudster_info_1 = plt.hist(fraudster.loc[fraudster[\"Class\"] == 1, \"V1\"], bins=20, alpha=0.5, ec=\"black\", density=True, color=\"#FF0000\")\n",
    "plt.axis([-35, 5, 0, 0.25])\n",
    "plt.legend(labels=[\"Class 0\", \"Class 1\"], loc=\"upper center\", frameon=False)\n",
    "plt.xlabel(\"V1\")\n",
    "plt.show()"
   ]
  },
  {
   "source": [
    "# **Задание на повторение материала"
   ],
   "cell_type": "markdown",
   "metadata": {}
  },
  {
   "cell_type": "code",
   "execution_count": 18,
   "metadata": {},
   "outputs": [],
   "source": [
    "import numpy as np"
   ]
  },
  {
   "source": [
    "1. Создать одномерный массив Numpy под названием a из 12 последовательных целых чисел\n",
    "чисел от 12 до 24 невключительно"
   ],
   "cell_type": "markdown",
   "metadata": {}
  },
  {
   "cell_type": "code",
   "execution_count": 45,
   "metadata": {},
   "outputs": [
    {
     "output_type": "execute_result",
     "data": {
      "text/plain": [
       "array([12, 13, 14, 15, 16, 17, 18, 19, 20, 21, 22, 23])"
      ]
     },
     "metadata": {},
     "execution_count": 45
    }
   ],
   "source": [
    "a = np.arange(12,24)\n",
    "a"
   ]
  },
  {
   "source": [
    "2. Создать 5 двумерных массивов разной формы из массива a. Не использовать в аргументах\n",
    "метода reshape число -1."
   ],
   "cell_type": "markdown",
   "metadata": {}
  },
  {
   "cell_type": "code",
   "execution_count": 22,
   "metadata": {},
   "outputs": [
    {
     "output_type": "execute_result",
     "data": {
      "text/plain": [
       "array([[12, 13, 14, 15, 16, 17],\n",
       "       [18, 19, 20, 21, 22, 23]])"
      ]
     },
     "metadata": {},
     "execution_count": 22
    }
   ],
   "source": [
    "a.reshape(2, 6)"
   ]
  },
  {
   "cell_type": "code",
   "execution_count": 23,
   "metadata": {},
   "outputs": [
    {
     "output_type": "execute_result",
     "data": {
      "text/plain": [
       "array([[12, 13, 14, 15],\n",
       "       [16, 17, 18, 19],\n",
       "       [20, 21, 22, 23]])"
      ]
     },
     "metadata": {},
     "execution_count": 23
    }
   ],
   "source": [
    "a.reshape(3, 4)"
   ]
  },
  {
   "cell_type": "code",
   "execution_count": 24,
   "metadata": {},
   "outputs": [
    {
     "output_type": "execute_result",
     "data": {
      "text/plain": [
       "array([[12, 13, 14],\n",
       "       [15, 16, 17],\n",
       "       [18, 19, 20],\n",
       "       [21, 22, 23]])"
      ]
     },
     "metadata": {},
     "execution_count": 24
    }
   ],
   "source": [
    "a.reshape(4, 3)"
   ]
  },
  {
   "cell_type": "code",
   "execution_count": 25,
   "metadata": {},
   "outputs": [
    {
     "output_type": "execute_result",
     "data": {
      "text/plain": [
       "array([[12, 13],\n",
       "       [14, 15],\n",
       "       [16, 17],\n",
       "       [18, 19],\n",
       "       [20, 21],\n",
       "       [22, 23]])"
      ]
     },
     "metadata": {},
     "execution_count": 25
    }
   ],
   "source": [
    "a.reshape(6, 2)"
   ]
  },
  {
   "cell_type": "code",
   "execution_count": 26,
   "metadata": {},
   "outputs": [
    {
     "output_type": "execute_result",
     "data": {
      "text/plain": [
       "array([[12],\n",
       "       [13],\n",
       "       [14],\n",
       "       [15],\n",
       "       [16],\n",
       "       [17],\n",
       "       [18],\n",
       "       [19],\n",
       "       [20],\n",
       "       [21],\n",
       "       [22],\n",
       "       [23]])"
      ]
     },
     "metadata": {},
     "execution_count": 26
    }
   ],
   "source": [
    "a.reshape(12, 1)"
   ]
  },
  {
   "source": [
    "3. Создать 5 двумерных массивов разной формы из массива a. Использовать в аргументах\n",
    "метода reshape число -1 (в трех примерах - для обозначения числа столбцов, в двух - для\n",
    "строк)."
   ],
   "cell_type": "markdown",
   "metadata": {}
  },
  {
   "cell_type": "code",
   "execution_count": 27,
   "metadata": {},
   "outputs": [
    {
     "output_type": "execute_result",
     "data": {
      "text/plain": [
       "array([[12, 13],\n",
       "       [14, 15],\n",
       "       [16, 17],\n",
       "       [18, 19],\n",
       "       [20, 21],\n",
       "       [22, 23]])"
      ]
     },
     "metadata": {},
     "execution_count": 27
    }
   ],
   "source": [
    "a.reshape(-1, 2)"
   ]
  },
  {
   "cell_type": "code",
   "execution_count": 28,
   "metadata": {},
   "outputs": [
    {
     "output_type": "execute_result",
     "data": {
      "text/plain": [
       "array([[12, 13, 14],\n",
       "       [15, 16, 17],\n",
       "       [18, 19, 20],\n",
       "       [21, 22, 23]])"
      ]
     },
     "metadata": {},
     "execution_count": 28
    }
   ],
   "source": [
    "a.reshape(-1, 3)"
   ]
  },
  {
   "cell_type": "code",
   "execution_count": 29,
   "metadata": {},
   "outputs": [
    {
     "output_type": "execute_result",
     "data": {
      "text/plain": [
       "array([[12, 13, 14, 15, 16, 17],\n",
       "       [18, 19, 20, 21, 22, 23]])"
      ]
     },
     "metadata": {},
     "execution_count": 29
    }
   ],
   "source": [
    "a.reshape(-1, 6)"
   ]
  },
  {
   "cell_type": "code",
   "execution_count": 31,
   "metadata": {},
   "outputs": [
    {
     "output_type": "execute_result",
     "data": {
      "text/plain": [
       "array([[12, 13, 14, 15],\n",
       "       [16, 17, 18, 19],\n",
       "       [20, 21, 22, 23]])"
      ]
     },
     "metadata": {},
     "execution_count": 31
    }
   ],
   "source": [
    "a.reshape(3, -1)"
   ]
  },
  {
   "cell_type": "code",
   "execution_count": 46,
   "metadata": {},
   "outputs": [
    {
     "output_type": "execute_result",
     "data": {
      "text/plain": [
       "array([[12, 13, 14, 15, 16, 17, 18, 19, 20, 21, 22, 23]])"
      ]
     },
     "metadata": {},
     "execution_count": 46
    }
   ],
   "source": [
    "a.reshape(1, -1)"
   ]
  },
  {
   "source": [
    "4. Можно ли массив Numpy, состоящий из одного столбца и 12 строк, назвать одномерным?\n",
    "\n",
    "## *Нет!*"
   ],
   "cell_type": "markdown",
   "metadata": {}
  },
  {
   "cell_type": "code",
   "execution_count": 37,
   "metadata": {},
   "outputs": [
    {
     "output_type": "execute_result",
     "data": {
      "text/plain": [
       "array([[ 5],\n",
       "       [ 5],\n",
       "       [10],\n",
       "       [ 7],\n",
       "       [ 5],\n",
       "       [ 5],\n",
       "       [11],\n",
       "       [ 4],\n",
       "       [10],\n",
       "       [10],\n",
       "       [ 6],\n",
       "       [ 3]])"
      ]
     },
     "metadata": {},
     "execution_count": 37
    }
   ],
   "source": [
    "a = np.random.randint(0, 12, (12, 1))\n",
    "a"
   ]
  },
  {
   "source": [
    "Метод shape возвращает количество строк и столбцов в матрице:"
   ],
   "cell_type": "markdown",
   "metadata": {}
  },
  {
   "cell_type": "code",
   "execution_count": 38,
   "metadata": {},
   "outputs": [
    {
     "output_type": "execute_result",
     "data": {
      "text/plain": [
       "(12, 1)"
      ]
     },
     "metadata": {},
     "execution_count": 38
    }
   ],
   "source": [
    "a.shape"
   ]
  },
  {
   "source": [
    "5. Создать массив из 3 строк и 4 столбцов, состоящий из случайных чисел с плавающей запятой\n",
    "из нормального распределения со средним, равным 0 и среднеквадратичным отклонением,\n",
    "равным 1.0. Получить из этого массива одномерный массив с таким же атрибутом size, как и\n",
    "исходный массив."
   ],
   "cell_type": "markdown",
   "metadata": {}
  },
  {
   "cell_type": "code",
   "execution_count": 47,
   "metadata": {},
   "outputs": [
    {
     "output_type": "execute_result",
     "data": {
      "text/plain": [
       "array([[ 0.86955033,  0.54922317, -0.5341846 , -0.76105499],\n",
       "       [ 0.05864454,  0.96825364, -0.79372852,  0.32031943],\n",
       "       [-0.76135854, -0.22360423, -1.43585501,  0.65245032]])"
      ]
     },
     "metadata": {},
     "execution_count": 47
    }
   ],
   "source": [
    "a = np.random.randn(3, 4)\n",
    "a"
   ]
  },
  {
   "cell_type": "code",
   "execution_count": 50,
   "metadata": {},
   "outputs": [
    {
     "output_type": "execute_result",
     "data": {
      "text/plain": [
       "array([ 0.86955033,  0.54922317, -0.5341846 , -0.76105499,  0.05864454,\n",
       "        0.96825364, -0.79372852,  0.32031943, -0.76135854, -0.22360423,\n",
       "       -1.43585501,  0.65245032])"
      ]
     },
     "metadata": {},
     "execution_count": 50
    }
   ],
   "source": [
    "a.flatten()"
   ]
  },
  {
   "cell_type": "code",
   "execution_count": 82,
   "metadata": {},
   "outputs": [
    {
     "output_type": "stream",
     "name": "stdout",
     "text": [
      "Размер исходного массива a: 10\nРазмер одномерного массива b: 10\n"
     ]
    }
   ],
   "source": [
    "print(f'Размер исходного массива a: {a.size}\\nРазмер одномерного массива b: {b.size}')"
   ]
  },
  {
   "source": [
    "6. Создать массив a, состоящий из целых чисел, убывающих от 20 до 0 невключительно с\n",
    "интервалом 2."
   ],
   "cell_type": "markdown",
   "metadata": {}
  },
  {
   "cell_type": "code",
   "execution_count": 62,
   "metadata": {},
   "outputs": [
    {
     "output_type": "execute_result",
     "data": {
      "text/plain": [
       "array([20, 18, 16, 14, 12, 10,  8,  6,  4,  2])"
      ]
     },
     "metadata": {},
     "execution_count": 62
    }
   ],
   "source": [
    "a = np.arange(20, 0, -2)\n",
    "a"
   ]
  },
  {
   "source": [
    "7. Создать массив b, состоящий из 1 строки и 10 столбцов: целых чисел, убывающих от 20 до 1\n",
    "невключительно с интервалом 2. В чем разница между массивами a и b?"
   ],
   "cell_type": "markdown",
   "metadata": {}
  },
  {
   "cell_type": "code",
   "execution_count": 79,
   "metadata": {},
   "outputs": [
    {
     "output_type": "execute_result",
     "data": {
      "text/plain": [
       "array([[20, 18, 16, 14, 12, 10,  8,  6,  4,  2]])"
      ]
     },
     "metadata": {},
     "execution_count": 79
    }
   ],
   "source": [
    "b = np.arange(20, 1, -2).reshape(1, 10)\n",
    "b"
   ]
  },
  {
   "cell_type": "code",
   "execution_count": 81,
   "metadata": {},
   "outputs": [
    {
     "output_type": "stream",
     "name": "stdout",
     "text": [
      "Размерность массива a: (10,)\nРазмерность массива b: (1, 10)\n"
     ]
    }
   ],
   "source": [
    "\n",
    "print(f'Размерность массива a: {a.shape}\\nРазмерность массива b: {b.shape}')"
   ]
  },
  {
   "source": [
    "## *Разница между a и b в том, что один является одномерным, а второй двумерный.*"
   ],
   "cell_type": "markdown",
   "metadata": {}
  },
  {
   "source": [
    "8. Вертикально соединить массивы a и b. a - двумерный массив из нулей, число строк которого\n",
    "больше 1 и на 1 меньше, чем число строк двумерного массива b, состоящего из единиц.\n",
    "Итоговый массив v должен иметь атрибут size, равный 10."
   ],
   "cell_type": "markdown",
   "metadata": {}
  },
  {
   "cell_type": "code",
   "execution_count": 85,
   "metadata": {},
   "outputs": [
    {
     "output_type": "execute_result",
     "data": {
      "text/plain": [
       "array([[0., 0.],\n",
       "       [0., 0.]])"
      ]
     },
     "metadata": {},
     "execution_count": 85
    }
   ],
   "source": [
    "a = np.zeros((2, 2))\n",
    "a"
   ]
  },
  {
   "cell_type": "code",
   "execution_count": 86,
   "metadata": {},
   "outputs": [
    {
     "output_type": "execute_result",
     "data": {
      "text/plain": [
       "array([[1., 1.],\n",
       "       [1., 1.],\n",
       "       [1., 1.]])"
      ]
     },
     "metadata": {},
     "execution_count": 86
    }
   ],
   "source": [
    "b = np.ones((3, 2))\n",
    "b"
   ]
  },
  {
   "cell_type": "code",
   "execution_count": 87,
   "metadata": {},
   "outputs": [
    {
     "output_type": "execute_result",
     "data": {
      "text/plain": [
       "array([[0., 0.],\n",
       "       [0., 0.],\n",
       "       [1., 1.],\n",
       "       [1., 1.],\n",
       "       [1., 1.]])"
      ]
     },
     "metadata": {},
     "execution_count": 87
    }
   ],
   "source": [
    " c = np.concatenate((a, b), axis=0)\n",
    " c"
   ]
  },
  {
   "cell_type": "code",
   "execution_count": 88,
   "metadata": {},
   "outputs": [
    {
     "output_type": "execute_result",
     "data": {
      "text/plain": [
       "10"
      ]
     },
     "metadata": {},
     "execution_count": 88
    }
   ],
   "source": [
    "c.size"
   ]
  },
  {
   "source": [
    "9. Создать одномерный массив а, состоящий из последовательности целых чисел от 0 до 12.\n",
    "Поменять форму этого массива, чтобы получилась матрица A (двумерный массив Numpy),\n",
    "состоящая из 4 строк и 3 столбцов. "
   ],
   "cell_type": "markdown",
   "metadata": {}
  },
  {
   "cell_type": "code",
   "execution_count": 91,
   "metadata": {},
   "outputs": [
    {
     "output_type": "execute_result",
     "data": {
      "text/plain": [
       "array([[ 0,  1,  2],\n",
       "       [ 3,  4,  5],\n",
       "       [ 6,  7,  8],\n",
       "       [ 9, 10, 11]])"
      ]
     },
     "metadata": {},
     "execution_count": 91
    }
   ],
   "source": [
    "A = np.arange(0, 12).reshape(4, 3)\n",
    "A"
   ]
  },
  {
   "source": [
    "- Получить матрицу At путем транспонирования матрицы A."
   ],
   "cell_type": "markdown",
   "metadata": {}
  },
  {
   "cell_type": "code",
   "execution_count": 96,
   "metadata": {},
   "outputs": [
    {
     "output_type": "execute_result",
     "data": {
      "text/plain": [
       "array([[ 0,  3,  6,  9],\n",
       "       [ 1,  4,  7, 10],\n",
       "       [ 2,  5,  8, 11]])"
      ]
     },
     "metadata": {},
     "execution_count": 96
    }
   ],
   "source": [
    "At = A.T\n",
    "At"
   ]
  },
  {
   "source": [
    "- Получить матрицу B, умножив матрицу A на матрицу At с помощью матричного умножения."
   ],
   "cell_type": "markdown",
   "metadata": {}
  },
  {
   "cell_type": "code",
   "execution_count": 99,
   "metadata": {},
   "outputs": [
    {
     "output_type": "execute_result",
     "data": {
      "text/plain": [
       "array([[  5,  14,  23,  32],\n",
       "       [ 14,  50,  86, 122],\n",
       "       [ 23,  86, 149, 212],\n",
       "       [ 32, 122, 212, 302]])"
      ]
     },
     "metadata": {},
     "execution_count": 99
    }
   ],
   "source": [
    "B = A.dot(At)\n",
    "B"
   ]
  },
  {
   "source": [
    "- Какой размер имеет матрица B?"
   ],
   "cell_type": "markdown",
   "metadata": {}
  },
  {
   "cell_type": "code",
   "execution_count": 103,
   "metadata": {},
   "outputs": [
    {
     "output_type": "stream",
     "name": "stdout",
     "text": [
      "Размер исходного массива B: 16\n"
     ]
    }
   ],
   "source": [
    "print(f'Размер исходного массива B: {B.size}')"
   ]
  },
  {
   "source": [
    "-  Получится ли вычислить обратную матрицу для матрицы B и почему?"
   ],
   "cell_type": "markdown",
   "metadata": {}
  },
  {
   "cell_type": "code",
   "execution_count": 104,
   "metadata": {},
   "outputs": [
    {
     "output_type": "execute_result",
     "data": {
      "text/plain": [
       "0.0"
      ]
     },
     "metadata": {},
     "execution_count": 104
    }
   ],
   "source": [
    "d = np.linalg.det(B)\n",
    "d"
   ]
  },
  {
   "source": [
    "*Вывод: обратную матрицу можно посчитать только для матрицы, определитель которой не равен $0$, в нашем случае обратной матрицы для матрицы B не существует.*"
   ],
   "cell_type": "markdown",
   "metadata": {}
  },
  {
   "source": [
    "10. Инициализируйте генератор случайных числе с помощью объекта seed, равного 42."
   ],
   "cell_type": "markdown",
   "metadata": {}
  },
  {
   "cell_type": "code",
   "execution_count": 107,
   "metadata": {},
   "outputs": [
    {
     "output_type": "execute_result",
     "data": {
      "text/plain": [
       "array([0.37454012, 0.95071431, 0.73199394, 0.59865848, 0.15601864,\n",
       "       0.15599452, 0.05808361, 0.86617615, 0.60111501, 0.70807258])"
      ]
     },
     "metadata": {},
     "execution_count": 107
    }
   ],
   "source": [
    "np.random.seed(42)\n",
    "np.random.rand(10)"
   ]
  },
  {
   "source": [
    "11. Создайте одномерный массив c, составленный из последовательности 16-ти случайных равномерно распределенных целых чисел от 0 до 16 невключительно."
   ],
   "cell_type": "markdown",
   "metadata": {}
  },
  {
   "cell_type": "code",
   "execution_count": 108,
   "metadata": {},
   "outputs": [
    {
     "output_type": "execute_result",
     "data": {
      "text/plain": [
       "array([ 5,  4,  1,  7, 11, 13,  5,  1, 15, 11,  4,  0, 11,  9,  5, 12])"
      ]
     },
     "metadata": {},
     "execution_count": 108
    }
   ],
   "source": [
    "c = np.random.randint(0, 16, (16))\n",
    "c"
   ]
  },
  {
   "source": [
    "12. Поменяйте его форму так, чтобы получилась квадратная матрица C. "
   ],
   "cell_type": "markdown",
   "metadata": {}
  },
  {
   "cell_type": "code",
   "execution_count": 109,
   "metadata": {},
   "outputs": [
    {
     "output_type": "execute_result",
     "data": {
      "text/plain": [
       "array([[ 5,  4,  1,  7],\n",
       "       [11, 13,  5,  1],\n",
       "       [15, 11,  4,  0],\n",
       "       [11,  9,  5, 12]])"
      ]
     },
     "metadata": {},
     "execution_count": 109
    }
   ],
   "source": [
    "C = c.reshape(4, 4)\n",
    "C"
   ]
  },
  {
   "source": [
    "- Получите матрицу D,\n",
    "поэлементно прибавив матрицу B из предыдущего вопроса к матрице C, умноженной на 10."
   ],
   "cell_type": "markdown",
   "metadata": {}
  },
  {
   "cell_type": "code",
   "execution_count": 110,
   "metadata": {},
   "outputs": [
    {
     "output_type": "execute_result",
     "data": {
      "text/plain": [
       "array([[ 55,  54,  33, 102],\n",
       "       [124, 180, 136, 132],\n",
       "       [173, 196, 189, 212],\n",
       "       [142, 212, 262, 422]])"
      ]
     },
     "metadata": {},
     "execution_count": 110
    }
   ],
   "source": [
    "D = np.add(C * 10, B)\n",
    "D"
   ]
  },
  {
   "source": [
    "- Вычислите определитель, ранг и обратную матрицу D_inv для D."
   ],
   "cell_type": "markdown",
   "metadata": {}
  },
  {
   "source": [
    "*определитель матрицы D*"
   ],
   "cell_type": "markdown",
   "metadata": {}
  },
  {
   "cell_type": "code",
   "execution_count": 111,
   "metadata": {},
   "outputs": [
    {
     "output_type": "execute_result",
     "data": {
      "text/plain": [
       "72557599.99999987"
      ]
     },
     "metadata": {},
     "execution_count": 111
    }
   ],
   "source": [
    "np.linalg.det(D)"
   ]
  },
  {
   "source": [
    "*ранг матрицы D*"
   ],
   "cell_type": "markdown",
   "metadata": {}
  },
  {
   "cell_type": "code",
   "execution_count": 112,
   "metadata": {},
   "outputs": [
    {
     "output_type": "execute_result",
     "data": {
      "text/plain": [
       "4"
      ]
     },
     "metadata": {},
     "execution_count": 112
    }
   ],
   "source": [
    "np.linalg.matrix_rank(D)"
   ]
  },
  {
   "source": [
    "*обратная матрица для D*"
   ],
   "cell_type": "markdown",
   "metadata": {}
  },
  {
   "cell_type": "code",
   "execution_count": 113,
   "metadata": {},
   "outputs": [
    {
     "output_type": "execute_result",
     "data": {
      "text/plain": [
       "array([[ 0.00980683, -0.01670645,  0.02091966, -0.00765406],\n",
       "       [ 0.00539875,  0.02483241, -0.02053706,  0.0012448 ],\n",
       "       [-0.02579633, -0.00913233,  0.01239567,  0.00286448],\n",
       "       [ 0.01000364, -0.00118361, -0.00441801,  0.00254143]])"
      ]
     },
     "metadata": {},
     "execution_count": 113
    }
   ],
   "source": [
    "D_inv = np.linalg.inv(D)\n",
    "D_inv"
   ]
  },
  {
   "source": [
    "13. Приравняйте к нулю отрицательные числа в матрице D_inv, а положительные - к единице.\n",
    "Убедитесь, что в матрице D_inv остались только нули и единицы."
   ],
   "cell_type": "markdown",
   "metadata": {}
  },
  {
   "cell_type": "code",
   "execution_count": 118,
   "metadata": {},
   "outputs": [
    {
     "output_type": "execute_result",
     "data": {
      "text/plain": [
       "array([[1., 0., 1., 0.],\n",
       "       [1., 1., 0., 1.],\n",
       "       [0., 0., 1., 1.],\n",
       "       [1., 0., 0., 1.]])"
      ]
     },
     "metadata": {},
     "execution_count": 118
    }
   ],
   "source": [
    "D_inv[D_inv < 0] = 0\n",
    "D_inv[D_inv > 0] = 1\n",
    "D_inv"
   ]
  },
  {
   "source": [
    "- С помощью функции\n",
    "numpy.where, используя матрицу D_inv в качестве маски, а матрицы B и C - в качестве\n",
    "источников данных, получите матрицу E размером 4x4. Элементы матрицы E, для которых\n",
    "соответствующий элемент матрицы D_inv равен 1, должны быть равны соответствующему\n",
    "элементу матрицы B, а элементы матрицы E, для которых соответствующий элемент матрицы\n",
    "D_inv равен 0, должны быть равны соответствующему элементу матрицы C."
   ],
   "cell_type": "markdown",
   "metadata": {}
  },
  {
   "cell_type": "code",
   "execution_count": 119,
   "metadata": {},
   "outputs": [
    {
     "output_type": "execute_result",
     "data": {
      "text/plain": [
       "array([[  5,  14,  23,  32],\n",
       "       [ 14,  50,  86, 122],\n",
       "       [ 23,  86, 149, 212],\n",
       "       [ 32, 122, 212, 302]])"
      ]
     },
     "metadata": {},
     "execution_count": 119
    }
   ],
   "source": [
    "B"
   ]
  },
  {
   "cell_type": "code",
   "execution_count": 120,
   "metadata": {},
   "outputs": [
    {
     "output_type": "execute_result",
     "data": {
      "text/plain": [
       "array([[ 5,  4,  1,  7],\n",
       "       [11, 13,  5,  1],\n",
       "       [15, 11,  4,  0],\n",
       "       [11,  9,  5, 12]])"
      ]
     },
     "metadata": {},
     "execution_count": 120
    }
   ],
   "source": [
    "C"
   ]
  },
  {
   "cell_type": "code",
   "execution_count": 123,
   "metadata": {},
   "outputs": [
    {
     "output_type": "execute_result",
     "data": {
      "text/plain": [
       "array([[  5,   4,  23,   7],\n",
       "       [ 14,  50,   5, 122],\n",
       "       [ 15,  11, 149, 212],\n",
       "       [ 32,   9,   5, 302]])"
      ]
     },
     "metadata": {},
     "execution_count": 123
    }
   ],
   "source": [
    "E = np.where(D_inv == 1, B, C)\n",
    "E"
   ]
  }
 ]
}