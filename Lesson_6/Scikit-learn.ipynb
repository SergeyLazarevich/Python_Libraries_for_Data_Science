{
  "nbformat": 4,
  "nbformat_minor": 0,
  "metadata": {
    "language_info": {
      "codemirror_mode": {
        "name": "ipython",
        "version": 3
      },
      "file_extension": ".py",
      "mimetype": "text/x-python",
      "name": "python",
      "nbconvert_exporter": "python",
      "pygments_lexer": "ipython3",
      "version": "3.8.10"
    },
    "orig_nbformat": 2,
    "kernelspec": {
      "name": "python3",
      "display_name": "Python 3.8.10 64-bit"
    },
    "metadata": {
      "interpreter": {
        "hash": "6ade3e7aac465f864a6e70e76d6ad747bccbdaae49928e31e964f86f87611c7f"
      }
    },
    "colab": {
      "name": "Scikit-learn.ipynb",
      "provenance": []
    },
    "interpreter": {
      "hash": "6ade3e7aac465f864a6e70e76d6ad747bccbdaae49928e31e964f86f87611c7f"
    }
  },
  "cells": [
    {
      "cell_type": "markdown",
      "metadata": {
        "id": "NPJ2Sq-xnRfS"
      },
      "source": [
        "# Тема “Обучение с учителем”"
      ]
    },
    {
      "cell_type": "markdown",
      "metadata": {
        "id": "zGke-QVVnRfU"
      },
      "source": [
        "## Задание 1\n",
        "- Импортируйте библиотеки pandas и numpy.\n",
        "- Загрузите \"Boston House Prices dataset\" из встроенных наборов данных библиотеки sklearn.\n",
        "- Создайте датафреймы X и y из этих данных.\n",
        "- Разбейте эти датафреймы на тренировочные (X_train, y_train) и тестовые (X_test, y_test) с помощью\n",
        "функции train_test_split так, чтобы размер тестовой выборки\n",
        "составлял 30% от всех данных, при этом аргумент random_state должен быть равен 42.\n",
        "- Создайте модель линейной регрессии под названием lr с помощью класса LinearRegression из модуля\n",
        "sklearn.linear_model.\n",
        "- Обучите модель на тренировочных данных (используйте все признаки) и сделайте предсказание на\n",
        "тестовых.\n",
        "- Вычислите R2 полученных предказаний с помощью r2_score из модуля sklearn.metrics."
      ]
    },
    {
      "cell_type": "code",
      "metadata": {
        "id": "KyVS769CnRfX"
      },
      "source": [
        "# Импортируйте библиотеки pandas и numpy.\n",
        "import numpy as np\n",
        "import pandas as pd"
      ],
      "execution_count": 25,
      "outputs": []
    },
    {
      "cell_type": "code",
      "metadata": {
        "id": "FJNri3FanRfY"
      },
      "source": [
        "# Загрузите \"Boston House Prices dataset\" из встроенных наборов данных библиотеки sklearn.\n",
        "from sklearn.datasets import load_boston"
      ],
      "execution_count": 26,
      "outputs": []
    },
    {
      "cell_type": "code",
      "metadata": {
        "id": "nPsQhMkMnRfZ"
      },
      "source": [
        "# Создайте датафреймы X и y из этих данных.\n",
        "boston = load_boston()\n",
        "X = pd.DataFrame(boston[\"data\"], columns=boston[\"feature_names\"])\n",
        "y = pd.DataFrame(boston[\"target\"], columns=[\"price\"])"
      ],
      "execution_count": 27,
      "outputs": []
    },
    {
      "cell_type": "code",
      "metadata": {
        "colab": {
          "base_uri": "https://localhost:8080/"
        },
        "id": "7t3_G0kKnRfa",
        "outputId": "4d9644a9-c6a4-4e07-e8d3-d42cddf9d57b"
      },
      "source": [
        "X.info()"
      ],
      "execution_count": 28,
      "outputs": [
        {
          "output_type": "stream",
          "text": [
            "<class 'pandas.core.frame.DataFrame'>\n",
            "RangeIndex: 506 entries, 0 to 505\n",
            "Data columns (total 13 columns):\n",
            " #   Column   Non-Null Count  Dtype  \n",
            "---  ------   --------------  -----  \n",
            " 0   CRIM     506 non-null    float64\n",
            " 1   ZN       506 non-null    float64\n",
            " 2   INDUS    506 non-null    float64\n",
            " 3   CHAS     506 non-null    float64\n",
            " 4   NOX      506 non-null    float64\n",
            " 5   RM       506 non-null    float64\n",
            " 6   AGE      506 non-null    float64\n",
            " 7   DIS      506 non-null    float64\n",
            " 8   RAD      506 non-null    float64\n",
            " 9   TAX      506 non-null    float64\n",
            " 10  PTRATIO  506 non-null    float64\n",
            " 11  B        506 non-null    float64\n",
            " 12  LSTAT    506 non-null    float64\n",
            "dtypes: float64(13)\n",
            "memory usage: 51.5 KB\n"
          ],
          "name": "stdout"
        }
      ]
    },
    {
      "cell_type": "code",
      "metadata": {
        "colab": {
          "base_uri": "https://localhost:8080/"
        },
        "id": "kHz_l1qPnRfb",
        "outputId": "61c8d563-9a12-440b-c215-7afa5a0d8301"
      },
      "source": [
        "y.info()"
      ],
      "execution_count": 29,
      "outputs": [
        {
          "output_type": "stream",
          "text": [
            "<class 'pandas.core.frame.DataFrame'>\n",
            "RangeIndex: 506 entries, 0 to 505\n",
            "Data columns (total 1 columns):\n",
            " #   Column  Non-Null Count  Dtype  \n",
            "---  ------  --------------  -----  \n",
            " 0   price   506 non-null    float64\n",
            "dtypes: float64(1)\n",
            "memory usage: 4.1 KB\n"
          ],
          "name": "stdout"
        }
      ]
    },
    {
      "cell_type": "code",
      "metadata": {
        "id": "x2G12XTEnRfc"
      },
      "source": [
        "# Разбейте эти датафреймы на тренировочные (X_train, y_train) и тестовые (X_test, y_test) с помощью функции train_test_split так, чтобы размер тестовой выборки составлял 30% от всех данных, при этом аргумент random_state должен быть равен 42.\n",
        "from sklearn.model_selection import train_test_split\n",
        "\n",
        "X_train, X_test, y_train, y_test = train_test_split(X, y, test_size=0.30, random_state=42)"
      ],
      "execution_count": 30,
      "outputs": []
    },
    {
      "cell_type": "code",
      "metadata": {
        "id": "lhLq_WPunRfd"
      },
      "source": [
        "#  Создайте модель линейной регрессии под названием lr с помощью класса LinearRegression из модуля sklearn.linear_model.\n",
        "from sklearn.linear_model import LinearRegression\n",
        "\n",
        "lr = LinearRegression()"
      ],
      "execution_count": 31,
      "outputs": []
    },
    {
      "cell_type": "code",
      "metadata": {
        "colab": {
          "base_uri": "https://localhost:8080/"
        },
        "id": "JJV2tyQgnRfe",
        "outputId": "8689af24-a5db-4ad1-81a2-928177fdf839"
      },
      "source": [
        "# Обучите модель на тренировочных данных (используйте все признаки) и сделайте предсказание на тестовых.\n",
        "from sklearn.linear_model import LinearRegression\n",
        "\n",
        "lr.fit(X_train, y_train)"
      ],
      "execution_count": 32,
      "outputs": [
        {
          "output_type": "execute_result",
          "data": {
            "text/plain": [
              "LinearRegression(copy_X=True, fit_intercept=True, n_jobs=None, normalize=False)"
            ]
          },
          "metadata": {
            "tags": []
          },
          "execution_count": 32
        }
      ]
    },
    {
      "cell_type": "code",
      "metadata": {
        "colab": {
          "base_uri": "https://localhost:8080/"
        },
        "id": "9K4JKQKBn_rR",
        "outputId": "d32a2125-152b-4f01-f1c7-039d55db5b7f"
      },
      "source": [
        "y_pred = lr.predict(X_test)\n",
        "y_pred.shape"
      ],
      "execution_count": 33,
      "outputs": [
        {
          "output_type": "execute_result",
          "data": {
            "text/plain": [
              "(152, 1)"
            ]
          },
          "metadata": {
            "tags": []
          },
          "execution_count": 33
        }
      ]
    },
    {
      "cell_type": "code",
      "metadata": {
        "colab": {
          "base_uri": "https://localhost:8080/"
        },
        "id": "NdTrNzPTnRff",
        "outputId": "50ddade8-146b-4cfa-a94a-07aa30e4ed13"
      },
      "source": [
        "# Вычислите R2 полученных предказаний с помощью r2_score из модуля sklearn.metrics.\n",
        "from sklearn.metrics import r2_score\n",
        "\n",
        "r2_score(y_test, y_pred)"
      ],
      "execution_count": 34,
      "outputs": [
        {
          "output_type": "execute_result",
          "data": {
            "text/plain": [
              "0.7112260057484974"
            ]
          },
          "metadata": {
            "tags": []
          },
          "execution_count": 34
        }
      ]
    },
    {
      "cell_type": "markdown",
      "metadata": {
        "id": "1uOklq2enRfh"
      },
      "source": [
        "## Задание 2\n",
        "- Создайте модель под названием model с помощью RandomForestRegressor из модуля\n",
        "sklearn.ensemble.\n",
        "- Сделайте агрумент n_estimators равным 1000,\n",
        "max_depth должен быть равен 12 и random_state сделайте равным 42.\n",
        "- Обучите модель на тренировочных данных аналогично тому, как вы обучали модель LinearRegression,\n",
        "но при этом в метод fit вместо датафрейма y_train поставьте y_train.values [:, 0],\n",
        "чтобы получить из датафрейма одномерный массив Numpy,\n",
        "так как для класса RandomForestRegressor в данном методе для аргумента y предпочтительно\n",
        "применение массивов вместо датафрейма.\n",
        "- Сделайте предсказание на тестовых данных и посчитайте R2. Сравните с результатом из\n",
        "предыдущего задания.\n",
        "- Напишите в комментариях к коду, какая модель в данном случае работает лучше."
      ]
    },
    {
      "cell_type": "code",
      "metadata": {
        "id": "DhX2XOhwnRfj"
      },
      "source": [
        "# Создайте модель под названием model с помощью RandomForestRegressor из модуля sklearn.ensemble.\n",
        "# Сделайте агрумент n_estimators равным 1000, max_depth должен быть равен 12 и random_state сделайте равным 42.\n",
        "from sklearn.ensemble import RandomForestRegressor\n",
        "\n",
        "rf_model = RandomForestRegressor(max_depth=12, # глубина дерева  \n",
        "                                 min_samples_leaf=30, # минимальное кол-во наблюдений в листе дерева\n",
        "                                 random_state=42,\n",
        "                                 n_estimators=1000  # кол-во деревьев\n",
        "                                 )"
      ],
      "execution_count": 35,
      "outputs": []
    },
    {
      "cell_type": "code",
      "metadata": {
        "colab": {
          "base_uri": "https://localhost:8080/"
        },
        "id": "d5zxXXzLnRfl",
        "outputId": "701ff4d7-625b-443c-f07d-bbf49e88107b"
      },
      "source": [
        "#  Обучите модель на тренировочных данных аналогично тому, как вы обучали модель LinearRegression, но при этом в метод fit вместо датафрейма y_train поставьте y_train.values [:, 0], чтобы получить из датафрейма одномерный массив Numpy, так как для класса RandomForestRegressor в данном методе для аргумента y предпочтительно применение массивов вместо датафрейма.\n",
        "\n",
        "rf_model.fit(X_train, y_train.values [:, 0])"
      ],
      "execution_count": 36,
      "outputs": [
        {
          "output_type": "execute_result",
          "data": {
            "text/plain": [
              "RandomForestRegressor(bootstrap=True, ccp_alpha=0.0, criterion='mse',\n",
              "                      max_depth=12, max_features='auto', max_leaf_nodes=None,\n",
              "                      max_samples=None, min_impurity_decrease=0.0,\n",
              "                      min_impurity_split=None, min_samples_leaf=30,\n",
              "                      min_samples_split=2, min_weight_fraction_leaf=0.0,\n",
              "                      n_estimators=1000, n_jobs=None, oob_score=False,\n",
              "                      random_state=42, verbose=0, warm_start=False)"
            ]
          },
          "metadata": {
            "tags": []
          },
          "execution_count": 36
        }
      ]
    },
    {
      "cell_type": "code",
      "metadata": {
        "colab": {
          "base_uri": "https://localhost:8080/"
        },
        "id": "MdAvkmqznu1p",
        "outputId": "f2a5510a-a173-47d2-c4f8-c6933a17d898"
      },
      "source": [
        "y_test_preds = rf_model.predict(X_test)\n",
        "y_test_preds.shape"
      ],
      "execution_count": 37,
      "outputs": [
        {
          "output_type": "execute_result",
          "data": {
            "text/plain": [
              "(152,)"
            ]
          },
          "metadata": {
            "tags": []
          },
          "execution_count": 37
        }
      ]
    },
    {
      "cell_type": "code",
      "metadata": {
        "colab": {
          "base_uri": "https://localhost:8080/"
        },
        "id": "e-i4Bkt9nRfm",
        "outputId": "123465ff-2440-43c1-9ba0-d0f23826bf77"
      },
      "source": [
        "r2_score(y_test, y_test_preds)"
      ],
      "execution_count": 38,
      "outputs": [
        {
          "output_type": "execute_result",
          "data": {
            "text/plain": [
              "0.7207632345916866"
            ]
          },
          "metadata": {
            "tags": []
          },
          "execution_count": 38
        }
      ]
    },
    {
      "cell_type": "markdown",
      "metadata": {
        "id": "fmITIf-JnRfn"
      },
      "source": [
        "### *В нашем случае модель RandomForestRegressor показала чуть лучший результат чем модель LinearRegression, об этом нам говорит более высокий коэффициент детерминации R2.*"
      ]
    },
    {
      "cell_type": "markdown",
      "metadata": {
        "id": "10AcOutbnRfo"
      },
      "source": [
        "## *Задание 3\n",
        "- Вызовите документацию для класса RandomForestRegressor,\n",
        "найдите информацию об атрибуте feature_importances_.\n",
        "- С помощью этого атрибута найдите сумму всех показателей важности,\n",
        "установите, какие два признака показывают наибольшую важность."
      ]
    },
    {
      "cell_type": "code",
      "metadata": {
        "id": "ZltJbzzenRfo",
        "colab": {
          "base_uri": "https://localhost:8080/"
        },
        "outputId": "39e9a21a-19a7-4bdd-ece9-b05da4a6c123"
      },
      "source": [
        "np.sum(rf_model.feature_importances_)"
      ],
      "execution_count": 39,
      "outputs": [
        {
          "output_type": "execute_result",
          "data": {
            "text/plain": [
              "1.0"
            ]
          },
          "metadata": {
            "tags": []
          },
          "execution_count": 39
        }
      ]
    },
    {
      "cell_type": "code",
      "metadata": {
        "colab": {
          "base_uri": "https://localhost:8080/",
          "height": 111
        },
        "id": "fS2vXHrlhDr6",
        "outputId": "84376483-0d6b-41d8-f9cd-d879d9809d16"
      },
      "source": [
        "feature_importances = pd.DataFrame(zip(X_train.columns, \n",
        "                                        rf_model.feature_importances_), \n",
        "                                   columns=['feature_name', 'importance'])\n",
        "feature_importances.sort_values(by='importance', ascending=False, inplace=True)\n",
        "feature_importances.head(2)"
      ],
      "execution_count": 40,
      "outputs": [
        {
          "output_type": "execute_result",
          "data": {
            "text/html": [
              "<div>\n",
              "<style scoped>\n",
              "    .dataframe tbody tr th:only-of-type {\n",
              "        vertical-align: middle;\n",
              "    }\n",
              "\n",
              "    .dataframe tbody tr th {\n",
              "        vertical-align: top;\n",
              "    }\n",
              "\n",
              "    .dataframe thead th {\n",
              "        text-align: right;\n",
              "    }\n",
              "</style>\n",
              "<table border=\"1\" class=\"dataframe\">\n",
              "  <thead>\n",
              "    <tr style=\"text-align: right;\">\n",
              "      <th></th>\n",
              "      <th>feature_name</th>\n",
              "      <th>importance</th>\n",
              "    </tr>\n",
              "  </thead>\n",
              "  <tbody>\n",
              "    <tr>\n",
              "      <th>12</th>\n",
              "      <td>LSTAT</td>\n",
              "      <td>0.533689</td>\n",
              "    </tr>\n",
              "    <tr>\n",
              "      <th>5</th>\n",
              "      <td>RM</td>\n",
              "      <td>0.435824</td>\n",
              "    </tr>\n",
              "  </tbody>\n",
              "</table>\n",
              "</div>"
            ],
            "text/plain": [
              "   feature_name  importance\n",
              "12        LSTAT    0.533689\n",
              "5            RM    0.435824"
            ]
          },
          "metadata": {
            "tags": []
          },
          "execution_count": 40
        }
      ]
    },
    {
      "cell_type": "markdown",
      "metadata": {
        "id": "UkRn3dSfnRfo"
      },
      "source": [
        "## *Задание 4\n",
        "В этом задании мы будем работать с датасетом, с которым мы уже знакомы по домашнему заданию\n",
        "по библиотеке Matplotlib, это датасет Credit Card Fraud Detection.Для этого датасета мы будем решать\n",
        "задачу классификации - будем определять,какие из транзакциции по кредитной карте являются\n",
        "мошенническими.Данный датасет сильно несбалансирован (так как случаи мошенничества\n",
        "относительно редки),так что применение метрики accuracy не принесет пользы и не поможет выбрать\n",
        "лучшую модель.Мы будем вычислять AUC, то есть площадь под кривой ROC.\n",
        "Импортируйте из соответствующих модулей RandomForestClassifier, GridSearchCV и train_test_split.\n",
        "Загрузите датасет creditcard.csv и создайте датафрейм df.\n",
        "С помощью метода value_counts с аргументом normalize=True убедитесь в том, что выборка\n",
        "несбалансирована.Используя метод info, проверьте, все ли столбцы содержат числовые данные и нет\n",
        "ли в них пропусков.Примените следующую настройку, чтобы можно было просматривать все столбцы\n",
        "датафрейма:\n",
        "\n",
        "- pd.options.display.max_columns = 100.\n",
        "- Просмотрите первые 10 строк датафрейма df.\n",
        "- Создайте датафрейм X из датафрейма df, исключив столбец Class.\n",
        "- Создайте объект Series под названием y из столбца Class.\n",
        "\n",
        "Разбейте X и y на тренировочный и тестовый наборы данных при помощи функции train_test_split,\n",
        "используя аргументы: \n",
        "- test_size=0.3, random_state=100, stratify=y.\n",
        "- У вас должны получиться объекты X_train, X_test, y_train и y_test.\n",
        "- Просмотрите информацию о их форме.\n",
        "\n",
        "Для поиска по сетке параметров задайте такие параметры:\n",
        "- parameters = [{'n_estimators': [10, 15], 'max_features': np.arange(3, 5),'max_depth': np.arange(4, 7)}]\n",
        "\n",
        "Создайте модель GridSearchCV со следующими аргументами:\n",
        "- estimator=RandomForestClassifier(random_state=100),\n",
        "- param_grid=parameters,\n",
        "- scoring='roc_auc',\n",
        "- cv=3.\n",
        "\n",
        "Обучите модель на тренировочном наборе данных (может занять несколько минут).\n",
        "- Просмотрите параметры лучшей модели с помощью атрибута best_params_.\n",
        "- Предскажите вероятности классов с помощью полученнной модели и метода predict_proba.\n",
        "- Из полученного результата (массив Numpy) выберите столбец с индексом 1 (вероятность класса 1) и\n",
        "- запишите в массив y_pred_proba. Из модуля sklearn.metrics импортируйте метрику roc_auc_score.\n",
        "- Вычислите AUC на тестовых данных и сравните с результатом,полученным на тренировочных данных,\n",
        "используя в качестве аргументов массивы y_test и y_pred_proba.\n"
      ]
    },
    {
      "cell_type": "code",
      "metadata": {
        "id": "ir3-GuqRhDr9"
      },
      "source": [
        "# Импортируйте из соответствующих модулей RandomForestClassifier, GridSearchCV и train_test_split.\n",
        "#import warnings\n",
        "#warnings.filterwarnings('ignore')\n",
        "import numpy as np\n",
        "import pandas as pd\n",
        "from sklearn.ensemble import RandomForestClassifier\n",
        "from sklearn.model_selection import GridSearchCV\n",
        "from sklearn.model_selection import train_test_split\n",
        "\n",
        "pd.options.display.max_columns = 100"
      ],
      "execution_count": 41,
      "outputs": []
    },
    {
      "cell_type": "code",
      "metadata": {
        "id": "c5x6OcCVhDr-"
      },
      "source": [
        "def reduce_mem_usage(df):\n",
        "    \"\"\" iterate through all the columns of a dataframe and modify the data type\n",
        "        to reduce memory usage.        \n",
        "    \"\"\"\n",
        "    start_mem = df.memory_usage().sum() / 1024**2\n",
        "    print('Memory usage of dataframe is {:.2f} MB'.format(start_mem))\n",
        "    \n",
        "    for col in df.columns:\n",
        "        col_type = df[col].dtype\n",
        "        \n",
        "        if col_type != object:\n",
        "            c_min = df[col].min()\n",
        "            c_max = df[col].max()\n",
        "            if str(col_type)[:3] == 'int':\n",
        "                if c_min > np.iinfo(np.int8).min and c_max < np.iinfo(np.int8).max:\n",
        "                    df[col] = df[col].astype(np.int8)\n",
        "                elif c_min > np.iinfo(np.int16).min and c_max < np.iinfo(np.int16).max:\n",
        "                    df[col] = df[col].astype(np.int16)\n",
        "                elif c_min > np.iinfo(np.int32).min and c_max < np.iinfo(np.int32).max:\n",
        "                    df[col] = df[col].astype(np.int32)\n",
        "                elif c_min > np.iinfo(np.int64).min and c_max < np.iinfo(np.int64).max:\n",
        "                    df[col] = df[col].astype(np.int64)  \n",
        "            else:\n",
        "                if c_min > np.finfo(np.float32).min and c_max < np.finfo(np.float32).max:\n",
        "                    df[col] = df[col].astype(np.float32)\n",
        "                else:\n",
        "                    df[col] = df[col].astype(np.float64)\n",
        "        else:\n",
        "            df[col] = df[col].astype('category')\n",
        "\n",
        "    end_mem = df.memory_usage().sum() / 1024**2\n",
        "    print('Memory usage after optimization is: {:.2f} MB'.format(end_mem))\n",
        "    print('Decreased by {:.1f}%'.format(100 * (start_mem - end_mem) / start_mem))\n",
        "    \n",
        "    return df"
      ],
      "execution_count": 42,
      "outputs": []
    },
    {
      "cell_type": "code",
      "metadata": {
        "id": "DJz-r72jnRfp",
        "colab": {
          "base_uri": "https://localhost:8080/"
        },
        "outputId": "7c3bc3b6-65ad-4046-82d8-56cd8f5614f9"
      },
      "source": [
        "#Загрузите датасет creditcard.csv и создайте датафрейм df.\n",
        "df = pd.read_csv(\"creditcard.csv\")\n",
        "df = reduce_mem_usage(df)"
      ],
      "execution_count": 43,
      "outputs": [
        {
          "output_type": "stream",
          "text": [
            "Memory usage of dataframe is 67.36 MB\n",
            "Memory usage after optimization is: 32.87 MB\n",
            "Decreased by 51.2%\n"
          ],
          "name": "stdout"
        }
      ]
    },
    {
      "cell_type": "code",
      "metadata": {
        "colab": {
          "base_uri": "https://localhost:8080/"
        },
        "id": "Dklgz1yyhDsA",
        "outputId": "014b7684-9555-41e5-f014-a4834128d53e"
      },
      "source": [
        "#С помощью метода value_counts с аргументом normalize=True убедитесь в том, что выборка несбалансирована.\n",
        "df['Class'].value_counts(normalize=True)"
      ],
      "execution_count": 44,
      "outputs": [
        {
          "output_type": "execute_result",
          "data": {
            "text/plain": [
              "0    0.998273\n",
              "1    0.001727\n",
              "Name: Class, dtype: float64"
            ]
          },
          "metadata": {
            "tags": []
          },
          "execution_count": 44
        }
      ]
    },
    {
      "cell_type": "code",
      "metadata": {
        "colab": {
          "base_uri": "https://localhost:8080/"
        },
        "id": "rrKtMHWphDsB",
        "outputId": "cd61561b-364d-41cc-9d44-3ee22a2166de"
      },
      "source": [
        "#Используя метод info, проверьте, все ли столбцы содержат числовые данные и нет ли в них пропусков.\n",
        "df.info()"
      ],
      "execution_count": 45,
      "outputs": [
        {
          "output_type": "stream",
          "text": [
            "<class 'pandas.core.frame.DataFrame'>\n",
            "RangeIndex: 284807 entries, 0 to 284806\n",
            "Data columns (total 31 columns):\n",
            " #   Column  Non-Null Count   Dtype  \n",
            "---  ------  --------------   -----  \n",
            " 0   Time    284807 non-null  float32\n",
            " 1   V1      284807 non-null  float32\n",
            " 2   V2      284807 non-null  float32\n",
            " 3   V3      284807 non-null  float32\n",
            " 4   V4      284807 non-null  float32\n",
            " 5   V5      284807 non-null  float32\n",
            " 6   V6      284807 non-null  float32\n",
            " 7   V7      284807 non-null  float32\n",
            " 8   V8      284807 non-null  float32\n",
            " 9   V9      284807 non-null  float32\n",
            " 10  V10     284807 non-null  float32\n",
            " 11  V11     284807 non-null  float32\n",
            " 12  V12     284807 non-null  float32\n",
            " 13  V13     284807 non-null  float32\n",
            " 14  V14     284807 non-null  float32\n",
            " 15  V15     284807 non-null  float32\n",
            " 16  V16     284807 non-null  float32\n",
            " 17  V17     284807 non-null  float32\n",
            " 18  V18     284807 non-null  float32\n",
            " 19  V19     284807 non-null  float32\n",
            " 20  V20     284807 non-null  float32\n",
            " 21  V21     284807 non-null  float32\n",
            " 22  V22     284807 non-null  float32\n",
            " 23  V23     284807 non-null  float32\n",
            " 24  V24     284807 non-null  float32\n",
            " 25  V25     284807 non-null  float32\n",
            " 26  V26     284807 non-null  float32\n",
            " 27  V27     284807 non-null  float32\n",
            " 28  V28     284807 non-null  float32\n",
            " 29  Amount  284807 non-null  float32\n",
            " 30  Class   284807 non-null  int8   \n",
            "dtypes: float32(30), int8(1)\n",
            "memory usage: 32.9 MB\n"
          ],
          "name": "stdout"
        }
      ]
    },
    {
      "cell_type": "code",
      "metadata": {
        "colab": {
          "base_uri": "https://localhost:8080/",
          "height": 379
        },
        "id": "iRqOsCHMhDsB",
        "outputId": "4fc9cd8f-3378-467c-e67f-9b2b2aba2246"
      },
      "source": [
        "#Просмотрите первые 10 строк датафрейма df.\n",
        "df.head(10)"
      ],
      "execution_count": 46,
      "outputs": [
        {
          "output_type": "execute_result",
          "data": {
            "text/html": [
              "<div>\n",
              "<style scoped>\n",
              "    .dataframe tbody tr th:only-of-type {\n",
              "        vertical-align: middle;\n",
              "    }\n",
              "\n",
              "    .dataframe tbody tr th {\n",
              "        vertical-align: top;\n",
              "    }\n",
              "\n",
              "    .dataframe thead th {\n",
              "        text-align: right;\n",
              "    }\n",
              "</style>\n",
              "<table border=\"1\" class=\"dataframe\">\n",
              "  <thead>\n",
              "    <tr style=\"text-align: right;\">\n",
              "      <th></th>\n",
              "      <th>Time</th>\n",
              "      <th>V1</th>\n",
              "      <th>V2</th>\n",
              "      <th>V3</th>\n",
              "      <th>V4</th>\n",
              "      <th>V5</th>\n",
              "      <th>V6</th>\n",
              "      <th>V7</th>\n",
              "      <th>V8</th>\n",
              "      <th>V9</th>\n",
              "      <th>V10</th>\n",
              "      <th>V11</th>\n",
              "      <th>V12</th>\n",
              "      <th>V13</th>\n",
              "      <th>V14</th>\n",
              "      <th>V15</th>\n",
              "      <th>V16</th>\n",
              "      <th>V17</th>\n",
              "      <th>V18</th>\n",
              "      <th>V19</th>\n",
              "      <th>V20</th>\n",
              "      <th>V21</th>\n",
              "      <th>V22</th>\n",
              "      <th>V23</th>\n",
              "      <th>V24</th>\n",
              "      <th>V25</th>\n",
              "      <th>V26</th>\n",
              "      <th>V27</th>\n",
              "      <th>V28</th>\n",
              "      <th>Amount</th>\n",
              "      <th>Class</th>\n",
              "    </tr>\n",
              "  </thead>\n",
              "  <tbody>\n",
              "    <tr>\n",
              "      <th>0</th>\n",
              "      <td>0.0</td>\n",
              "      <td>-1.359807</td>\n",
              "      <td>-0.072781</td>\n",
              "      <td>2.536347</td>\n",
              "      <td>1.378155</td>\n",
              "      <td>-0.338321</td>\n",
              "      <td>0.462388</td>\n",
              "      <td>0.239599</td>\n",
              "      <td>0.098698</td>\n",
              "      <td>0.363787</td>\n",
              "      <td>0.090794</td>\n",
              "      <td>-0.551600</td>\n",
              "      <td>-0.617801</td>\n",
              "      <td>-0.991390</td>\n",
              "      <td>-0.311169</td>\n",
              "      <td>1.468177</td>\n",
              "      <td>-0.470401</td>\n",
              "      <td>0.207971</td>\n",
              "      <td>0.025791</td>\n",
              "      <td>0.403993</td>\n",
              "      <td>0.251412</td>\n",
              "      <td>-0.018307</td>\n",
              "      <td>0.277838</td>\n",
              "      <td>-0.110474</td>\n",
              "      <td>0.066928</td>\n",
              "      <td>0.128539</td>\n",
              "      <td>-0.189115</td>\n",
              "      <td>0.133558</td>\n",
              "      <td>-0.021053</td>\n",
              "      <td>149.619995</td>\n",
              "      <td>0</td>\n",
              "    </tr>\n",
              "    <tr>\n",
              "      <th>1</th>\n",
              "      <td>0.0</td>\n",
              "      <td>1.191857</td>\n",
              "      <td>0.266151</td>\n",
              "      <td>0.166480</td>\n",
              "      <td>0.448154</td>\n",
              "      <td>0.060018</td>\n",
              "      <td>-0.082361</td>\n",
              "      <td>-0.078803</td>\n",
              "      <td>0.085102</td>\n",
              "      <td>-0.255425</td>\n",
              "      <td>-0.166974</td>\n",
              "      <td>1.612727</td>\n",
              "      <td>1.065235</td>\n",
              "      <td>0.489095</td>\n",
              "      <td>-0.143772</td>\n",
              "      <td>0.635558</td>\n",
              "      <td>0.463917</td>\n",
              "      <td>-0.114805</td>\n",
              "      <td>-0.183361</td>\n",
              "      <td>-0.145783</td>\n",
              "      <td>-0.069083</td>\n",
              "      <td>-0.225775</td>\n",
              "      <td>-0.638672</td>\n",
              "      <td>0.101288</td>\n",
              "      <td>-0.339846</td>\n",
              "      <td>0.167170</td>\n",
              "      <td>0.125895</td>\n",
              "      <td>-0.008983</td>\n",
              "      <td>0.014724</td>\n",
              "      <td>2.690000</td>\n",
              "      <td>0</td>\n",
              "    </tr>\n",
              "    <tr>\n",
              "      <th>2</th>\n",
              "      <td>1.0</td>\n",
              "      <td>-1.358354</td>\n",
              "      <td>-1.340163</td>\n",
              "      <td>1.773209</td>\n",
              "      <td>0.379780</td>\n",
              "      <td>-0.503198</td>\n",
              "      <td>1.800499</td>\n",
              "      <td>0.791461</td>\n",
              "      <td>0.247676</td>\n",
              "      <td>-1.514654</td>\n",
              "      <td>0.207643</td>\n",
              "      <td>0.624501</td>\n",
              "      <td>0.066084</td>\n",
              "      <td>0.717293</td>\n",
              "      <td>-0.165946</td>\n",
              "      <td>2.345865</td>\n",
              "      <td>-2.890083</td>\n",
              "      <td>1.109969</td>\n",
              "      <td>-0.121359</td>\n",
              "      <td>-2.261857</td>\n",
              "      <td>0.524980</td>\n",
              "      <td>0.247998</td>\n",
              "      <td>0.771679</td>\n",
              "      <td>0.909412</td>\n",
              "      <td>-0.689281</td>\n",
              "      <td>-0.327642</td>\n",
              "      <td>-0.139097</td>\n",
              "      <td>-0.055353</td>\n",
              "      <td>-0.059752</td>\n",
              "      <td>378.660004</td>\n",
              "      <td>0</td>\n",
              "    </tr>\n",
              "    <tr>\n",
              "      <th>3</th>\n",
              "      <td>1.0</td>\n",
              "      <td>-0.966272</td>\n",
              "      <td>-0.185226</td>\n",
              "      <td>1.792993</td>\n",
              "      <td>-0.863291</td>\n",
              "      <td>-0.010309</td>\n",
              "      <td>1.247203</td>\n",
              "      <td>0.237609</td>\n",
              "      <td>0.377436</td>\n",
              "      <td>-1.387024</td>\n",
              "      <td>-0.054952</td>\n",
              "      <td>-0.226487</td>\n",
              "      <td>0.178228</td>\n",
              "      <td>0.507757</td>\n",
              "      <td>-0.287924</td>\n",
              "      <td>-0.631418</td>\n",
              "      <td>-1.059647</td>\n",
              "      <td>-0.684093</td>\n",
              "      <td>1.965775</td>\n",
              "      <td>-1.232622</td>\n",
              "      <td>-0.208038</td>\n",
              "      <td>-0.108300</td>\n",
              "      <td>0.005274</td>\n",
              "      <td>-0.190321</td>\n",
              "      <td>-1.175575</td>\n",
              "      <td>0.647376</td>\n",
              "      <td>-0.221929</td>\n",
              "      <td>0.062723</td>\n",
              "      <td>0.061458</td>\n",
              "      <td>123.500000</td>\n",
              "      <td>0</td>\n",
              "    </tr>\n",
              "    <tr>\n",
              "      <th>4</th>\n",
              "      <td>2.0</td>\n",
              "      <td>-1.158233</td>\n",
              "      <td>0.877737</td>\n",
              "      <td>1.548718</td>\n",
              "      <td>0.403034</td>\n",
              "      <td>-0.407193</td>\n",
              "      <td>0.095921</td>\n",
              "      <td>0.592941</td>\n",
              "      <td>-0.270533</td>\n",
              "      <td>0.817739</td>\n",
              "      <td>0.753074</td>\n",
              "      <td>-0.822843</td>\n",
              "      <td>0.538196</td>\n",
              "      <td>1.345852</td>\n",
              "      <td>-1.119670</td>\n",
              "      <td>0.175121</td>\n",
              "      <td>-0.451449</td>\n",
              "      <td>-0.237033</td>\n",
              "      <td>-0.038195</td>\n",
              "      <td>0.803487</td>\n",
              "      <td>0.408542</td>\n",
              "      <td>-0.009431</td>\n",
              "      <td>0.798279</td>\n",
              "      <td>-0.137458</td>\n",
              "      <td>0.141267</td>\n",
              "      <td>-0.206010</td>\n",
              "      <td>0.502292</td>\n",
              "      <td>0.219422</td>\n",
              "      <td>0.215153</td>\n",
              "      <td>69.989998</td>\n",
              "      <td>0</td>\n",
              "    </tr>\n",
              "    <tr>\n",
              "      <th>5</th>\n",
              "      <td>2.0</td>\n",
              "      <td>-0.425966</td>\n",
              "      <td>0.960523</td>\n",
              "      <td>1.141109</td>\n",
              "      <td>-0.168252</td>\n",
              "      <td>0.420987</td>\n",
              "      <td>-0.029728</td>\n",
              "      <td>0.476201</td>\n",
              "      <td>0.260314</td>\n",
              "      <td>-0.568671</td>\n",
              "      <td>-0.371407</td>\n",
              "      <td>1.341262</td>\n",
              "      <td>0.359894</td>\n",
              "      <td>-0.358091</td>\n",
              "      <td>-0.137134</td>\n",
              "      <td>0.517617</td>\n",
              "      <td>0.401726</td>\n",
              "      <td>-0.058133</td>\n",
              "      <td>0.068653</td>\n",
              "      <td>-0.033194</td>\n",
              "      <td>0.084968</td>\n",
              "      <td>-0.208254</td>\n",
              "      <td>-0.559825</td>\n",
              "      <td>-0.026398</td>\n",
              "      <td>-0.371427</td>\n",
              "      <td>-0.232794</td>\n",
              "      <td>0.105915</td>\n",
              "      <td>0.253844</td>\n",
              "      <td>0.081080</td>\n",
              "      <td>3.670000</td>\n",
              "      <td>0</td>\n",
              "    </tr>\n",
              "    <tr>\n",
              "      <th>6</th>\n",
              "      <td>4.0</td>\n",
              "      <td>1.229658</td>\n",
              "      <td>0.141004</td>\n",
              "      <td>0.045371</td>\n",
              "      <td>1.202613</td>\n",
              "      <td>0.191881</td>\n",
              "      <td>0.272708</td>\n",
              "      <td>-0.005159</td>\n",
              "      <td>0.081213</td>\n",
              "      <td>0.464960</td>\n",
              "      <td>-0.099254</td>\n",
              "      <td>-1.416907</td>\n",
              "      <td>-0.153826</td>\n",
              "      <td>-0.751063</td>\n",
              "      <td>0.167372</td>\n",
              "      <td>0.050144</td>\n",
              "      <td>-0.443587</td>\n",
              "      <td>0.002821</td>\n",
              "      <td>-0.611987</td>\n",
              "      <td>-0.045575</td>\n",
              "      <td>-0.219633</td>\n",
              "      <td>-0.167716</td>\n",
              "      <td>-0.270710</td>\n",
              "      <td>-0.154104</td>\n",
              "      <td>-0.780055</td>\n",
              "      <td>0.750137</td>\n",
              "      <td>-0.257237</td>\n",
              "      <td>0.034507</td>\n",
              "      <td>0.005168</td>\n",
              "      <td>4.990000</td>\n",
              "      <td>0</td>\n",
              "    </tr>\n",
              "    <tr>\n",
              "      <th>7</th>\n",
              "      <td>7.0</td>\n",
              "      <td>-0.644269</td>\n",
              "      <td>1.417964</td>\n",
              "      <td>1.074380</td>\n",
              "      <td>-0.492199</td>\n",
              "      <td>0.948934</td>\n",
              "      <td>0.428118</td>\n",
              "      <td>1.120631</td>\n",
              "      <td>-3.807864</td>\n",
              "      <td>0.615375</td>\n",
              "      <td>1.249376</td>\n",
              "      <td>-0.619468</td>\n",
              "      <td>0.291474</td>\n",
              "      <td>1.757964</td>\n",
              "      <td>-1.323865</td>\n",
              "      <td>0.686132</td>\n",
              "      <td>-0.076127</td>\n",
              "      <td>-1.222127</td>\n",
              "      <td>-0.358222</td>\n",
              "      <td>0.324505</td>\n",
              "      <td>-0.156742</td>\n",
              "      <td>1.943465</td>\n",
              "      <td>-1.015455</td>\n",
              "      <td>0.057504</td>\n",
              "      <td>-0.649709</td>\n",
              "      <td>-0.415267</td>\n",
              "      <td>-0.051634</td>\n",
              "      <td>-1.206921</td>\n",
              "      <td>-1.085339</td>\n",
              "      <td>40.799999</td>\n",
              "      <td>0</td>\n",
              "    </tr>\n",
              "    <tr>\n",
              "      <th>8</th>\n",
              "      <td>7.0</td>\n",
              "      <td>-0.894286</td>\n",
              "      <td>0.286157</td>\n",
              "      <td>-0.113192</td>\n",
              "      <td>-0.271526</td>\n",
              "      <td>2.669599</td>\n",
              "      <td>3.721818</td>\n",
              "      <td>0.370145</td>\n",
              "      <td>0.851084</td>\n",
              "      <td>-0.392048</td>\n",
              "      <td>-0.410430</td>\n",
              "      <td>-0.705117</td>\n",
              "      <td>-0.110452</td>\n",
              "      <td>-0.286254</td>\n",
              "      <td>0.074355</td>\n",
              "      <td>-0.328783</td>\n",
              "      <td>-0.210077</td>\n",
              "      <td>-0.499768</td>\n",
              "      <td>0.118765</td>\n",
              "      <td>0.570328</td>\n",
              "      <td>0.052736</td>\n",
              "      <td>-0.073425</td>\n",
              "      <td>-0.268092</td>\n",
              "      <td>-0.204233</td>\n",
              "      <td>1.011592</td>\n",
              "      <td>0.373205</td>\n",
              "      <td>-0.384157</td>\n",
              "      <td>0.011747</td>\n",
              "      <td>0.142404</td>\n",
              "      <td>93.199997</td>\n",
              "      <td>0</td>\n",
              "    </tr>\n",
              "    <tr>\n",
              "      <th>9</th>\n",
              "      <td>9.0</td>\n",
              "      <td>-0.338262</td>\n",
              "      <td>1.119593</td>\n",
              "      <td>1.044367</td>\n",
              "      <td>-0.222187</td>\n",
              "      <td>0.499361</td>\n",
              "      <td>-0.246761</td>\n",
              "      <td>0.651583</td>\n",
              "      <td>0.069539</td>\n",
              "      <td>-0.736727</td>\n",
              "      <td>-0.366846</td>\n",
              "      <td>1.017614</td>\n",
              "      <td>0.836390</td>\n",
              "      <td>1.006844</td>\n",
              "      <td>-0.443523</td>\n",
              "      <td>0.150219</td>\n",
              "      <td>0.739453</td>\n",
              "      <td>-0.540980</td>\n",
              "      <td>0.476677</td>\n",
              "      <td>0.451773</td>\n",
              "      <td>0.203711</td>\n",
              "      <td>-0.246914</td>\n",
              "      <td>-0.633753</td>\n",
              "      <td>-0.120794</td>\n",
              "      <td>-0.385050</td>\n",
              "      <td>-0.069733</td>\n",
              "      <td>0.094199</td>\n",
              "      <td>0.246219</td>\n",
              "      <td>0.083076</td>\n",
              "      <td>3.680000</td>\n",
              "      <td>0</td>\n",
              "    </tr>\n",
              "  </tbody>\n",
              "</table>\n",
              "</div>"
            ],
            "text/plain": [
              "   Time        V1        V2        V3        V4        V5        V6        V7  \\\n",
              "0   0.0 -1.359807 -0.072781  2.536347  1.378155 -0.338321  0.462388  0.239599   \n",
              "1   0.0  1.191857  0.266151  0.166480  0.448154  0.060018 -0.082361 -0.078803   \n",
              "2   1.0 -1.358354 -1.340163  1.773209  0.379780 -0.503198  1.800499  0.791461   \n",
              "3   1.0 -0.966272 -0.185226  1.792993 -0.863291 -0.010309  1.247203  0.237609   \n",
              "4   2.0 -1.158233  0.877737  1.548718  0.403034 -0.407193  0.095921  0.592941   \n",
              "5   2.0 -0.425966  0.960523  1.141109 -0.168252  0.420987 -0.029728  0.476201   \n",
              "6   4.0  1.229658  0.141004  0.045371  1.202613  0.191881  0.272708 -0.005159   \n",
              "7   7.0 -0.644269  1.417964  1.074380 -0.492199  0.948934  0.428118  1.120631   \n",
              "8   7.0 -0.894286  0.286157 -0.113192 -0.271526  2.669599  3.721818  0.370145   \n",
              "9   9.0 -0.338262  1.119593  1.044367 -0.222187  0.499361 -0.246761  0.651583   \n",
              "\n",
              "         V8        V9       V10       V11       V12       V13       V14  \\\n",
              "0  0.098698  0.363787  0.090794 -0.551600 -0.617801 -0.991390 -0.311169   \n",
              "1  0.085102 -0.255425 -0.166974  1.612727  1.065235  0.489095 -0.143772   \n",
              "2  0.247676 -1.514654  0.207643  0.624501  0.066084  0.717293 -0.165946   \n",
              "3  0.377436 -1.387024 -0.054952 -0.226487  0.178228  0.507757 -0.287924   \n",
              "4 -0.270533  0.817739  0.753074 -0.822843  0.538196  1.345852 -1.119670   \n",
              "5  0.260314 -0.568671 -0.371407  1.341262  0.359894 -0.358091 -0.137134   \n",
              "6  0.081213  0.464960 -0.099254 -1.416907 -0.153826 -0.751063  0.167372   \n",
              "7 -3.807864  0.615375  1.249376 -0.619468  0.291474  1.757964 -1.323865   \n",
              "8  0.851084 -0.392048 -0.410430 -0.705117 -0.110452 -0.286254  0.074355   \n",
              "9  0.069539 -0.736727 -0.366846  1.017614  0.836390  1.006844 -0.443523   \n",
              "\n",
              "        V15       V16       V17       V18       V19       V20       V21  \\\n",
              "0  1.468177 -0.470401  0.207971  0.025791  0.403993  0.251412 -0.018307   \n",
              "1  0.635558  0.463917 -0.114805 -0.183361 -0.145783 -0.069083 -0.225775   \n",
              "2  2.345865 -2.890083  1.109969 -0.121359 -2.261857  0.524980  0.247998   \n",
              "3 -0.631418 -1.059647 -0.684093  1.965775 -1.232622 -0.208038 -0.108300   \n",
              "4  0.175121 -0.451449 -0.237033 -0.038195  0.803487  0.408542 -0.009431   \n",
              "5  0.517617  0.401726 -0.058133  0.068653 -0.033194  0.084968 -0.208254   \n",
              "6  0.050144 -0.443587  0.002821 -0.611987 -0.045575 -0.219633 -0.167716   \n",
              "7  0.686132 -0.076127 -1.222127 -0.358222  0.324505 -0.156742  1.943465   \n",
              "8 -0.328783 -0.210077 -0.499768  0.118765  0.570328  0.052736 -0.073425   \n",
              "9  0.150219  0.739453 -0.540980  0.476677  0.451773  0.203711 -0.246914   \n",
              "\n",
              "        V22       V23       V24       V25       V26       V27       V28  \\\n",
              "0  0.277838 -0.110474  0.066928  0.128539 -0.189115  0.133558 -0.021053   \n",
              "1 -0.638672  0.101288 -0.339846  0.167170  0.125895 -0.008983  0.014724   \n",
              "2  0.771679  0.909412 -0.689281 -0.327642 -0.139097 -0.055353 -0.059752   \n",
              "3  0.005274 -0.190321 -1.175575  0.647376 -0.221929  0.062723  0.061458   \n",
              "4  0.798279 -0.137458  0.141267 -0.206010  0.502292  0.219422  0.215153   \n",
              "5 -0.559825 -0.026398 -0.371427 -0.232794  0.105915  0.253844  0.081080   \n",
              "6 -0.270710 -0.154104 -0.780055  0.750137 -0.257237  0.034507  0.005168   \n",
              "7 -1.015455  0.057504 -0.649709 -0.415267 -0.051634 -1.206921 -1.085339   \n",
              "8 -0.268092 -0.204233  1.011592  0.373205 -0.384157  0.011747  0.142404   \n",
              "9 -0.633753 -0.120794 -0.385050 -0.069733  0.094199  0.246219  0.083076   \n",
              "\n",
              "       Amount  Class  \n",
              "0  149.619995      0  \n",
              "1    2.690000      0  \n",
              "2  378.660004      0  \n",
              "3  123.500000      0  \n",
              "4   69.989998      0  \n",
              "5    3.670000      0  \n",
              "6    4.990000      0  \n",
              "7   40.799999      0  \n",
              "8   93.199997      0  \n",
              "9    3.680000      0  "
            ]
          },
          "metadata": {
            "tags": []
          },
          "execution_count": 46
        }
      ]
    },
    {
      "cell_type": "code",
      "metadata": {
        "colab": {
          "base_uri": "https://localhost:8080/",
          "height": 439
        },
        "id": "kHEGKqsthDsC",
        "outputId": "004a9837-1803-4eb4-e3a1-b36d0716736d"
      },
      "source": [
        "#Создайте датафрейм X из датафрейма df, исключив столбец Class.\n",
        "X = df.drop('Class',axis=1)\n",
        "X"
      ],
      "execution_count": 47,
      "outputs": [
        {
          "output_type": "execute_result",
          "data": {
            "text/html": [
              "<div>\n",
              "<style scoped>\n",
              "    .dataframe tbody tr th:only-of-type {\n",
              "        vertical-align: middle;\n",
              "    }\n",
              "\n",
              "    .dataframe tbody tr th {\n",
              "        vertical-align: top;\n",
              "    }\n",
              "\n",
              "    .dataframe thead th {\n",
              "        text-align: right;\n",
              "    }\n",
              "</style>\n",
              "<table border=\"1\" class=\"dataframe\">\n",
              "  <thead>\n",
              "    <tr style=\"text-align: right;\">\n",
              "      <th></th>\n",
              "      <th>Time</th>\n",
              "      <th>V1</th>\n",
              "      <th>V2</th>\n",
              "      <th>V3</th>\n",
              "      <th>V4</th>\n",
              "      <th>V5</th>\n",
              "      <th>V6</th>\n",
              "      <th>V7</th>\n",
              "      <th>V8</th>\n",
              "      <th>V9</th>\n",
              "      <th>V10</th>\n",
              "      <th>V11</th>\n",
              "      <th>V12</th>\n",
              "      <th>V13</th>\n",
              "      <th>V14</th>\n",
              "      <th>V15</th>\n",
              "      <th>V16</th>\n",
              "      <th>V17</th>\n",
              "      <th>V18</th>\n",
              "      <th>V19</th>\n",
              "      <th>V20</th>\n",
              "      <th>V21</th>\n",
              "      <th>V22</th>\n",
              "      <th>V23</th>\n",
              "      <th>V24</th>\n",
              "      <th>V25</th>\n",
              "      <th>V26</th>\n",
              "      <th>V27</th>\n",
              "      <th>V28</th>\n",
              "      <th>Amount</th>\n",
              "    </tr>\n",
              "  </thead>\n",
              "  <tbody>\n",
              "    <tr>\n",
              "      <th>0</th>\n",
              "      <td>0.0</td>\n",
              "      <td>-1.359807</td>\n",
              "      <td>-0.072781</td>\n",
              "      <td>2.536347</td>\n",
              "      <td>1.378155</td>\n",
              "      <td>-0.338321</td>\n",
              "      <td>0.462388</td>\n",
              "      <td>0.239599</td>\n",
              "      <td>0.098698</td>\n",
              "      <td>0.363787</td>\n",
              "      <td>0.090794</td>\n",
              "      <td>-0.551600</td>\n",
              "      <td>-0.617801</td>\n",
              "      <td>-0.991390</td>\n",
              "      <td>-0.311169</td>\n",
              "      <td>1.468177</td>\n",
              "      <td>-0.470401</td>\n",
              "      <td>0.207971</td>\n",
              "      <td>0.025791</td>\n",
              "      <td>0.403993</td>\n",
              "      <td>0.251412</td>\n",
              "      <td>-0.018307</td>\n",
              "      <td>0.277838</td>\n",
              "      <td>-0.110474</td>\n",
              "      <td>0.066928</td>\n",
              "      <td>0.128539</td>\n",
              "      <td>-0.189115</td>\n",
              "      <td>0.133558</td>\n",
              "      <td>-0.021053</td>\n",
              "      <td>149.619995</td>\n",
              "    </tr>\n",
              "    <tr>\n",
              "      <th>1</th>\n",
              "      <td>0.0</td>\n",
              "      <td>1.191857</td>\n",
              "      <td>0.266151</td>\n",
              "      <td>0.166480</td>\n",
              "      <td>0.448154</td>\n",
              "      <td>0.060018</td>\n",
              "      <td>-0.082361</td>\n",
              "      <td>-0.078803</td>\n",
              "      <td>0.085102</td>\n",
              "      <td>-0.255425</td>\n",
              "      <td>-0.166974</td>\n",
              "      <td>1.612727</td>\n",
              "      <td>1.065235</td>\n",
              "      <td>0.489095</td>\n",
              "      <td>-0.143772</td>\n",
              "      <td>0.635558</td>\n",
              "      <td>0.463917</td>\n",
              "      <td>-0.114805</td>\n",
              "      <td>-0.183361</td>\n",
              "      <td>-0.145783</td>\n",
              "      <td>-0.069083</td>\n",
              "      <td>-0.225775</td>\n",
              "      <td>-0.638672</td>\n",
              "      <td>0.101288</td>\n",
              "      <td>-0.339846</td>\n",
              "      <td>0.167170</td>\n",
              "      <td>0.125895</td>\n",
              "      <td>-0.008983</td>\n",
              "      <td>0.014724</td>\n",
              "      <td>2.690000</td>\n",
              "    </tr>\n",
              "    <tr>\n",
              "      <th>2</th>\n",
              "      <td>1.0</td>\n",
              "      <td>-1.358354</td>\n",
              "      <td>-1.340163</td>\n",
              "      <td>1.773209</td>\n",
              "      <td>0.379780</td>\n",
              "      <td>-0.503198</td>\n",
              "      <td>1.800499</td>\n",
              "      <td>0.791461</td>\n",
              "      <td>0.247676</td>\n",
              "      <td>-1.514654</td>\n",
              "      <td>0.207643</td>\n",
              "      <td>0.624501</td>\n",
              "      <td>0.066084</td>\n",
              "      <td>0.717293</td>\n",
              "      <td>-0.165946</td>\n",
              "      <td>2.345865</td>\n",
              "      <td>-2.890083</td>\n",
              "      <td>1.109969</td>\n",
              "      <td>-0.121359</td>\n",
              "      <td>-2.261857</td>\n",
              "      <td>0.524980</td>\n",
              "      <td>0.247998</td>\n",
              "      <td>0.771679</td>\n",
              "      <td>0.909412</td>\n",
              "      <td>-0.689281</td>\n",
              "      <td>-0.327642</td>\n",
              "      <td>-0.139097</td>\n",
              "      <td>-0.055353</td>\n",
              "      <td>-0.059752</td>\n",
              "      <td>378.660004</td>\n",
              "    </tr>\n",
              "    <tr>\n",
              "      <th>3</th>\n",
              "      <td>1.0</td>\n",
              "      <td>-0.966272</td>\n",
              "      <td>-0.185226</td>\n",
              "      <td>1.792993</td>\n",
              "      <td>-0.863291</td>\n",
              "      <td>-0.010309</td>\n",
              "      <td>1.247203</td>\n",
              "      <td>0.237609</td>\n",
              "      <td>0.377436</td>\n",
              "      <td>-1.387024</td>\n",
              "      <td>-0.054952</td>\n",
              "      <td>-0.226487</td>\n",
              "      <td>0.178228</td>\n",
              "      <td>0.507757</td>\n",
              "      <td>-0.287924</td>\n",
              "      <td>-0.631418</td>\n",
              "      <td>-1.059647</td>\n",
              "      <td>-0.684093</td>\n",
              "      <td>1.965775</td>\n",
              "      <td>-1.232622</td>\n",
              "      <td>-0.208038</td>\n",
              "      <td>-0.108300</td>\n",
              "      <td>0.005274</td>\n",
              "      <td>-0.190321</td>\n",
              "      <td>-1.175575</td>\n",
              "      <td>0.647376</td>\n",
              "      <td>-0.221929</td>\n",
              "      <td>0.062723</td>\n",
              "      <td>0.061458</td>\n",
              "      <td>123.500000</td>\n",
              "    </tr>\n",
              "    <tr>\n",
              "      <th>4</th>\n",
              "      <td>2.0</td>\n",
              "      <td>-1.158233</td>\n",
              "      <td>0.877737</td>\n",
              "      <td>1.548718</td>\n",
              "      <td>0.403034</td>\n",
              "      <td>-0.407193</td>\n",
              "      <td>0.095921</td>\n",
              "      <td>0.592941</td>\n",
              "      <td>-0.270533</td>\n",
              "      <td>0.817739</td>\n",
              "      <td>0.753074</td>\n",
              "      <td>-0.822843</td>\n",
              "      <td>0.538196</td>\n",
              "      <td>1.345852</td>\n",
              "      <td>-1.119670</td>\n",
              "      <td>0.175121</td>\n",
              "      <td>-0.451449</td>\n",
              "      <td>-0.237033</td>\n",
              "      <td>-0.038195</td>\n",
              "      <td>0.803487</td>\n",
              "      <td>0.408542</td>\n",
              "      <td>-0.009431</td>\n",
              "      <td>0.798279</td>\n",
              "      <td>-0.137458</td>\n",
              "      <td>0.141267</td>\n",
              "      <td>-0.206010</td>\n",
              "      <td>0.502292</td>\n",
              "      <td>0.219422</td>\n",
              "      <td>0.215153</td>\n",
              "      <td>69.989998</td>\n",
              "    </tr>\n",
              "    <tr>\n",
              "      <th>...</th>\n",
              "      <td>...</td>\n",
              "      <td>...</td>\n",
              "      <td>...</td>\n",
              "      <td>...</td>\n",
              "      <td>...</td>\n",
              "      <td>...</td>\n",
              "      <td>...</td>\n",
              "      <td>...</td>\n",
              "      <td>...</td>\n",
              "      <td>...</td>\n",
              "      <td>...</td>\n",
              "      <td>...</td>\n",
              "      <td>...</td>\n",
              "      <td>...</td>\n",
              "      <td>...</td>\n",
              "      <td>...</td>\n",
              "      <td>...</td>\n",
              "      <td>...</td>\n",
              "      <td>...</td>\n",
              "      <td>...</td>\n",
              "      <td>...</td>\n",
              "      <td>...</td>\n",
              "      <td>...</td>\n",
              "      <td>...</td>\n",
              "      <td>...</td>\n",
              "      <td>...</td>\n",
              "      <td>...</td>\n",
              "      <td>...</td>\n",
              "      <td>...</td>\n",
              "      <td>...</td>\n",
              "    </tr>\n",
              "    <tr>\n",
              "      <th>284802</th>\n",
              "      <td>172786.0</td>\n",
              "      <td>-11.881118</td>\n",
              "      <td>10.071785</td>\n",
              "      <td>-9.834784</td>\n",
              "      <td>-2.066656</td>\n",
              "      <td>-5.364473</td>\n",
              "      <td>-2.606837</td>\n",
              "      <td>-4.918215</td>\n",
              "      <td>7.305334</td>\n",
              "      <td>1.914428</td>\n",
              "      <td>4.356170</td>\n",
              "      <td>-1.593105</td>\n",
              "      <td>2.711941</td>\n",
              "      <td>-0.689256</td>\n",
              "      <td>4.626942</td>\n",
              "      <td>-0.924459</td>\n",
              "      <td>1.107641</td>\n",
              "      <td>1.991691</td>\n",
              "      <td>0.510632</td>\n",
              "      <td>-0.682920</td>\n",
              "      <td>1.475829</td>\n",
              "      <td>0.213454</td>\n",
              "      <td>0.111864</td>\n",
              "      <td>1.014480</td>\n",
              "      <td>-0.509348</td>\n",
              "      <td>1.436807</td>\n",
              "      <td>0.250034</td>\n",
              "      <td>0.943651</td>\n",
              "      <td>0.823731</td>\n",
              "      <td>0.770000</td>\n",
              "    </tr>\n",
              "    <tr>\n",
              "      <th>284803</th>\n",
              "      <td>172787.0</td>\n",
              "      <td>-0.732789</td>\n",
              "      <td>-0.055080</td>\n",
              "      <td>2.035030</td>\n",
              "      <td>-0.738589</td>\n",
              "      <td>0.868229</td>\n",
              "      <td>1.058415</td>\n",
              "      <td>0.024330</td>\n",
              "      <td>0.294869</td>\n",
              "      <td>0.584800</td>\n",
              "      <td>-0.975926</td>\n",
              "      <td>-0.150189</td>\n",
              "      <td>0.915802</td>\n",
              "      <td>1.214756</td>\n",
              "      <td>-0.675143</td>\n",
              "      <td>1.164931</td>\n",
              "      <td>-0.711757</td>\n",
              "      <td>-0.025693</td>\n",
              "      <td>-1.221179</td>\n",
              "      <td>-1.545556</td>\n",
              "      <td>0.059616</td>\n",
              "      <td>0.214205</td>\n",
              "      <td>0.924384</td>\n",
              "      <td>0.012463</td>\n",
              "      <td>-1.016226</td>\n",
              "      <td>-0.606624</td>\n",
              "      <td>-0.395255</td>\n",
              "      <td>0.068472</td>\n",
              "      <td>-0.053527</td>\n",
              "      <td>24.790001</td>\n",
              "    </tr>\n",
              "    <tr>\n",
              "      <th>284804</th>\n",
              "      <td>172788.0</td>\n",
              "      <td>1.919565</td>\n",
              "      <td>-0.301254</td>\n",
              "      <td>-3.249640</td>\n",
              "      <td>-0.557828</td>\n",
              "      <td>2.630515</td>\n",
              "      <td>3.031260</td>\n",
              "      <td>-0.296827</td>\n",
              "      <td>0.708417</td>\n",
              "      <td>0.432454</td>\n",
              "      <td>-0.484782</td>\n",
              "      <td>0.411614</td>\n",
              "      <td>0.063119</td>\n",
              "      <td>-0.183699</td>\n",
              "      <td>-0.510602</td>\n",
              "      <td>1.329283</td>\n",
              "      <td>0.140716</td>\n",
              "      <td>0.313502</td>\n",
              "      <td>0.395652</td>\n",
              "      <td>-0.577252</td>\n",
              "      <td>0.001396</td>\n",
              "      <td>0.232045</td>\n",
              "      <td>0.578229</td>\n",
              "      <td>-0.037501</td>\n",
              "      <td>0.640134</td>\n",
              "      <td>0.265745</td>\n",
              "      <td>-0.087371</td>\n",
              "      <td>0.004455</td>\n",
              "      <td>-0.026561</td>\n",
              "      <td>67.879997</td>\n",
              "    </tr>\n",
              "    <tr>\n",
              "      <th>284805</th>\n",
              "      <td>172788.0</td>\n",
              "      <td>-0.240440</td>\n",
              "      <td>0.530483</td>\n",
              "      <td>0.702510</td>\n",
              "      <td>0.689799</td>\n",
              "      <td>-0.377961</td>\n",
              "      <td>0.623708</td>\n",
              "      <td>-0.686180</td>\n",
              "      <td>0.679145</td>\n",
              "      <td>0.392087</td>\n",
              "      <td>-0.399126</td>\n",
              "      <td>-1.933849</td>\n",
              "      <td>-0.962886</td>\n",
              "      <td>-1.042082</td>\n",
              "      <td>0.449624</td>\n",
              "      <td>1.962563</td>\n",
              "      <td>-0.608577</td>\n",
              "      <td>0.509928</td>\n",
              "      <td>1.113981</td>\n",
              "      <td>2.897849</td>\n",
              "      <td>0.127434</td>\n",
              "      <td>0.265245</td>\n",
              "      <td>0.800049</td>\n",
              "      <td>-0.163298</td>\n",
              "      <td>0.123205</td>\n",
              "      <td>-0.569159</td>\n",
              "      <td>0.546668</td>\n",
              "      <td>0.108821</td>\n",
              "      <td>0.104533</td>\n",
              "      <td>10.000000</td>\n",
              "    </tr>\n",
              "    <tr>\n",
              "      <th>284806</th>\n",
              "      <td>172792.0</td>\n",
              "      <td>-0.533413</td>\n",
              "      <td>-0.189733</td>\n",
              "      <td>0.703337</td>\n",
              "      <td>-0.506271</td>\n",
              "      <td>-0.012546</td>\n",
              "      <td>-0.649617</td>\n",
              "      <td>1.577006</td>\n",
              "      <td>-0.414650</td>\n",
              "      <td>0.486180</td>\n",
              "      <td>-0.915427</td>\n",
              "      <td>-1.040458</td>\n",
              "      <td>-0.031513</td>\n",
              "      <td>-0.188093</td>\n",
              "      <td>-0.084316</td>\n",
              "      <td>0.041333</td>\n",
              "      <td>-0.302620</td>\n",
              "      <td>-0.660377</td>\n",
              "      <td>0.167430</td>\n",
              "      <td>-0.256117</td>\n",
              "      <td>0.382948</td>\n",
              "      <td>0.261057</td>\n",
              "      <td>0.643078</td>\n",
              "      <td>0.376777</td>\n",
              "      <td>0.008797</td>\n",
              "      <td>-0.473649</td>\n",
              "      <td>-0.818267</td>\n",
              "      <td>-0.002415</td>\n",
              "      <td>0.013649</td>\n",
              "      <td>217.000000</td>\n",
              "    </tr>\n",
              "  </tbody>\n",
              "</table>\n",
              "<p>284807 rows × 30 columns</p>\n",
              "</div>"
            ],
            "text/plain": [
              "            Time         V1         V2        V3        V4        V5  \\\n",
              "0            0.0  -1.359807  -0.072781  2.536347  1.378155 -0.338321   \n",
              "1            0.0   1.191857   0.266151  0.166480  0.448154  0.060018   \n",
              "2            1.0  -1.358354  -1.340163  1.773209  0.379780 -0.503198   \n",
              "3            1.0  -0.966272  -0.185226  1.792993 -0.863291 -0.010309   \n",
              "4            2.0  -1.158233   0.877737  1.548718  0.403034 -0.407193   \n",
              "...          ...        ...        ...       ...       ...       ...   \n",
              "284802  172786.0 -11.881118  10.071785 -9.834784 -2.066656 -5.364473   \n",
              "284803  172787.0  -0.732789  -0.055080  2.035030 -0.738589  0.868229   \n",
              "284804  172788.0   1.919565  -0.301254 -3.249640 -0.557828  2.630515   \n",
              "284805  172788.0  -0.240440   0.530483  0.702510  0.689799 -0.377961   \n",
              "284806  172792.0  -0.533413  -0.189733  0.703337 -0.506271 -0.012546   \n",
              "\n",
              "              V6        V7        V8        V9       V10       V11       V12  \\\n",
              "0       0.462388  0.239599  0.098698  0.363787  0.090794 -0.551600 -0.617801   \n",
              "1      -0.082361 -0.078803  0.085102 -0.255425 -0.166974  1.612727  1.065235   \n",
              "2       1.800499  0.791461  0.247676 -1.514654  0.207643  0.624501  0.066084   \n",
              "3       1.247203  0.237609  0.377436 -1.387024 -0.054952 -0.226487  0.178228   \n",
              "4       0.095921  0.592941 -0.270533  0.817739  0.753074 -0.822843  0.538196   \n",
              "...          ...       ...       ...       ...       ...       ...       ...   \n",
              "284802 -2.606837 -4.918215  7.305334  1.914428  4.356170 -1.593105  2.711941   \n",
              "284803  1.058415  0.024330  0.294869  0.584800 -0.975926 -0.150189  0.915802   \n",
              "284804  3.031260 -0.296827  0.708417  0.432454 -0.484782  0.411614  0.063119   \n",
              "284805  0.623708 -0.686180  0.679145  0.392087 -0.399126 -1.933849 -0.962886   \n",
              "284806 -0.649617  1.577006 -0.414650  0.486180 -0.915427 -1.040458 -0.031513   \n",
              "\n",
              "             V13       V14       V15       V16       V17       V18       V19  \\\n",
              "0      -0.991390 -0.311169  1.468177 -0.470401  0.207971  0.025791  0.403993   \n",
              "1       0.489095 -0.143772  0.635558  0.463917 -0.114805 -0.183361 -0.145783   \n",
              "2       0.717293 -0.165946  2.345865 -2.890083  1.109969 -0.121359 -2.261857   \n",
              "3       0.507757 -0.287924 -0.631418 -1.059647 -0.684093  1.965775 -1.232622   \n",
              "4       1.345852 -1.119670  0.175121 -0.451449 -0.237033 -0.038195  0.803487   \n",
              "...          ...       ...       ...       ...       ...       ...       ...   \n",
              "284802 -0.689256  4.626942 -0.924459  1.107641  1.991691  0.510632 -0.682920   \n",
              "284803  1.214756 -0.675143  1.164931 -0.711757 -0.025693 -1.221179 -1.545556   \n",
              "284804 -0.183699 -0.510602  1.329283  0.140716  0.313502  0.395652 -0.577252   \n",
              "284805 -1.042082  0.449624  1.962563 -0.608577  0.509928  1.113981  2.897849   \n",
              "284806 -0.188093 -0.084316  0.041333 -0.302620 -0.660377  0.167430 -0.256117   \n",
              "\n",
              "             V20       V21       V22       V23       V24       V25       V26  \\\n",
              "0       0.251412 -0.018307  0.277838 -0.110474  0.066928  0.128539 -0.189115   \n",
              "1      -0.069083 -0.225775 -0.638672  0.101288 -0.339846  0.167170  0.125895   \n",
              "2       0.524980  0.247998  0.771679  0.909412 -0.689281 -0.327642 -0.139097   \n",
              "3      -0.208038 -0.108300  0.005274 -0.190321 -1.175575  0.647376 -0.221929   \n",
              "4       0.408542 -0.009431  0.798279 -0.137458  0.141267 -0.206010  0.502292   \n",
              "...          ...       ...       ...       ...       ...       ...       ...   \n",
              "284802  1.475829  0.213454  0.111864  1.014480 -0.509348  1.436807  0.250034   \n",
              "284803  0.059616  0.214205  0.924384  0.012463 -1.016226 -0.606624 -0.395255   \n",
              "284804  0.001396  0.232045  0.578229 -0.037501  0.640134  0.265745 -0.087371   \n",
              "284805  0.127434  0.265245  0.800049 -0.163298  0.123205 -0.569159  0.546668   \n",
              "284806  0.382948  0.261057  0.643078  0.376777  0.008797 -0.473649 -0.818267   \n",
              "\n",
              "             V27       V28      Amount  \n",
              "0       0.133558 -0.021053  149.619995  \n",
              "1      -0.008983  0.014724    2.690000  \n",
              "2      -0.055353 -0.059752  378.660004  \n",
              "3       0.062723  0.061458  123.500000  \n",
              "4       0.219422  0.215153   69.989998  \n",
              "...          ...       ...         ...  \n",
              "284802  0.943651  0.823731    0.770000  \n",
              "284803  0.068472 -0.053527   24.790001  \n",
              "284804  0.004455 -0.026561   67.879997  \n",
              "284805  0.108821  0.104533   10.000000  \n",
              "284806 -0.002415  0.013649  217.000000  \n",
              "\n",
              "[284807 rows x 30 columns]"
            ]
          },
          "metadata": {
            "tags": []
          },
          "execution_count": 47
        }
      ]
    },
    {
      "cell_type": "code",
      "metadata": {
        "colab": {
          "base_uri": "https://localhost:8080/"
        },
        "id": "nzcp9J25hDsC",
        "outputId": "80d11e2e-4119-49df-e5e7-c489d04e1b2d"
      },
      "source": [
        "#Создайте объект Series под названием y из столбца Class.\n",
        "y = pd.Series(df['Class'])\n",
        "y.value_counts(normalize=True)"
      ],
      "execution_count": 48,
      "outputs": [
        {
          "output_type": "execute_result",
          "data": {
            "text/plain": [
              "0    0.998273\n",
              "1    0.001727\n",
              "Name: Class, dtype: float64"
            ]
          },
          "metadata": {
            "tags": []
          },
          "execution_count": 48
        }
      ]
    },
    {
      "cell_type": "code",
      "metadata": {
        "id": "9ncp9UYFhDsD"
      },
      "source": [
        "#Разбейте X и y на тренировочный и тестовый наборы данных при помощи функции train_test_split, используя аргументы:\n",
        "#test_size=0.3, random_state=100, stratify=y.\n",
        "X_train, X_test, y_train, y_test = train_test_split(X, y, test_size=0.3, random_state=100, stratify=y)"
      ],
      "execution_count": 49,
      "outputs": []
    },
    {
      "cell_type": "code",
      "metadata": {
        "colab": {
          "base_uri": "https://localhost:8080/"
        },
        "id": "ubuxFW39hDsF",
        "outputId": "f04243f0-403e-4e72-ad85-a7ad63a50d33"
      },
      "source": [
        "#У вас должны получиться объекты X_train, X_test, y_train и y_test.\n",
        "#Просмотрите информацию о их форме.\n",
        "print(f\"Форма X_train: {X_train.shape}\")\n",
        "print(f\"Форма y_train: {y_train.shape}\")\n",
        "print(f\"Форма X_test: {X_test.shape}\")\n",
        "print(f\"Форма y_test: {y_test.shape}\")"
      ],
      "execution_count": 50,
      "outputs": [
        {
          "output_type": "stream",
          "text": [
            "Форма X_train: (199364, 30)\n",
            "Форма y_train: (199364,)\n",
            "Форма X_test: (85443, 30)\n",
            "Форма y_test: (85443,)\n"
          ],
          "name": "stdout"
        }
      ]
    },
    {
      "cell_type": "code",
      "metadata": {
        "colab": {
          "base_uri": "https://localhost:8080/"
        },
        "id": "xKi0lLzMhDsF",
        "outputId": "74ddc9bd-b9dd-4891-c98a-ca36b3787fbf"
      },
      "source": [
        "#Для поиска по сетке параметров задайте такие параметры: \n",
        "parameters = [{\n",
        "    'n_estimators': [10, 15], \n",
        "    'max_features': np.arange(3, 5),\n",
        "    'max_depth': np.arange(4, 7)\n",
        "    }]\n",
        "\n",
        "#Создайте модель GridSearchCV со следующими аргументами:\n",
        "clf = GridSearchCV(\n",
        "    estimator=RandomForestClassifier(random_state=100),\n",
        "    param_grid=parameters,\n",
        "    scoring='roc_auc',\n",
        "    cv=3\n",
        ")\n",
        "clf.fit(X_train, y_train)"
      ],
      "execution_count": 51,
      "outputs": [
        {
          "output_type": "execute_result",
          "data": {
            "text/plain": [
              "GridSearchCV(cv=3, error_score=nan,\n",
              "             estimator=RandomForestClassifier(bootstrap=True, ccp_alpha=0.0,\n",
              "                                              class_weight=None,\n",
              "                                              criterion='gini', max_depth=None,\n",
              "                                              max_features='auto',\n",
              "                                              max_leaf_nodes=None,\n",
              "                                              max_samples=None,\n",
              "                                              min_impurity_decrease=0.0,\n",
              "                                              min_impurity_split=None,\n",
              "                                              min_samples_leaf=1,\n",
              "                                              min_samples_split=2,\n",
              "                                              min_weight_fraction_leaf=0.0,\n",
              "                                              n_estimators=100, n_jobs=None,\n",
              "                                              oob_score=False, random_state=100,\n",
              "                                              verbose=0, warm_start=False),\n",
              "             iid='deprecated', n_jobs=None,\n",
              "             param_grid=[{'max_depth': array([4, 5, 6]),\n",
              "                          'max_features': array([3, 4]),\n",
              "                          'n_estimators': [10, 15]}],\n",
              "             pre_dispatch='2*n_jobs', refit=True, return_train_score=False,\n",
              "             scoring='roc_auc', verbose=0)"
            ]
          },
          "metadata": {
            "tags": []
          },
          "execution_count": 51
        }
      ]
    },
    {
      "cell_type": "code",
      "metadata": {
        "colab": {
          "base_uri": "https://localhost:8080/"
        },
        "id": "HYPhmDPDhDsG",
        "outputId": "38fbbe22-0b47-4bc1-9235-c660f05696ed"
      },
      "source": [
        "cv_results = pd.DataFrame(clf.cv_results_)\n",
        "cv_results.columns"
      ],
      "execution_count": 52,
      "outputs": [
        {
          "output_type": "execute_result",
          "data": {
            "text/plain": [
              "Index(['mean_fit_time', 'std_fit_time', 'mean_score_time', 'std_score_time',\n",
              "       'param_max_depth', 'param_max_features', 'param_n_estimators', 'params',\n",
              "       'split0_test_score', 'split1_test_score', 'split2_test_score',\n",
              "       'mean_test_score', 'std_test_score', 'rank_test_score'],\n",
              "      dtype='object')"
            ]
          },
          "metadata": {
            "tags": []
          },
          "execution_count": 52
        }
      ]
    },
    {
      "cell_type": "code",
      "metadata": {
        "colab": {
          "base_uri": "https://localhost:8080/",
          "height": 359
        },
        "id": "S8AcHn88hDsH",
        "outputId": "9b951d23-6b1d-4ef3-a2c3-45249e03448f"
      },
      "source": [
        "param_columns = [\n",
        "    column\n",
        "    for column in cv_results.columns\n",
        "    if column.startswith('param_')\n",
        "]\n",
        "\n",
        "score_columns = ['mean_test_score']\n",
        "\n",
        "cv_results = (cv_results[param_columns + score_columns]\n",
        "              .sort_values(by=score_columns, ascending=False))\n",
        "\n",
        "cv_results.head(10)"
      ],
      "execution_count": 53,
      "outputs": [
        {
          "output_type": "execute_result",
          "data": {
            "text/html": [
              "<div>\n",
              "<style scoped>\n",
              "    .dataframe tbody tr th:only-of-type {\n",
              "        vertical-align: middle;\n",
              "    }\n",
              "\n",
              "    .dataframe tbody tr th {\n",
              "        vertical-align: top;\n",
              "    }\n",
              "\n",
              "    .dataframe thead th {\n",
              "        text-align: right;\n",
              "    }\n",
              "</style>\n",
              "<table border=\"1\" class=\"dataframe\">\n",
              "  <thead>\n",
              "    <tr style=\"text-align: right;\">\n",
              "      <th></th>\n",
              "      <th>param_max_depth</th>\n",
              "      <th>param_max_features</th>\n",
              "      <th>param_n_estimators</th>\n",
              "      <th>mean_test_score</th>\n",
              "    </tr>\n",
              "  </thead>\n",
              "  <tbody>\n",
              "    <tr>\n",
              "      <th>9</th>\n",
              "      <td>6</td>\n",
              "      <td>3</td>\n",
              "      <td>15</td>\n",
              "      <td>0.965969</td>\n",
              "    </tr>\n",
              "    <tr>\n",
              "      <th>7</th>\n",
              "      <td>5</td>\n",
              "      <td>4</td>\n",
              "      <td>15</td>\n",
              "      <td>0.962597</td>\n",
              "    </tr>\n",
              "    <tr>\n",
              "      <th>6</th>\n",
              "      <td>5</td>\n",
              "      <td>4</td>\n",
              "      <td>10</td>\n",
              "      <td>0.960201</td>\n",
              "    </tr>\n",
              "    <tr>\n",
              "      <th>11</th>\n",
              "      <td>6</td>\n",
              "      <td>4</td>\n",
              "      <td>15</td>\n",
              "      <td>0.959975</td>\n",
              "    </tr>\n",
              "    <tr>\n",
              "      <th>10</th>\n",
              "      <td>6</td>\n",
              "      <td>4</td>\n",
              "      <td>10</td>\n",
              "      <td>0.956352</td>\n",
              "    </tr>\n",
              "    <tr>\n",
              "      <th>3</th>\n",
              "      <td>4</td>\n",
              "      <td>4</td>\n",
              "      <td>15</td>\n",
              "      <td>0.955851</td>\n",
              "    </tr>\n",
              "    <tr>\n",
              "      <th>8</th>\n",
              "      <td>6</td>\n",
              "      <td>3</td>\n",
              "      <td>10</td>\n",
              "      <td>0.954698</td>\n",
              "    </tr>\n",
              "    <tr>\n",
              "      <th>5</th>\n",
              "      <td>5</td>\n",
              "      <td>3</td>\n",
              "      <td>15</td>\n",
              "      <td>0.949443</td>\n",
              "    </tr>\n",
              "    <tr>\n",
              "      <th>4</th>\n",
              "      <td>5</td>\n",
              "      <td>3</td>\n",
              "      <td>10</td>\n",
              "      <td>0.949299</td>\n",
              "    </tr>\n",
              "    <tr>\n",
              "      <th>2</th>\n",
              "      <td>4</td>\n",
              "      <td>4</td>\n",
              "      <td>10</td>\n",
              "      <td>0.941082</td>\n",
              "    </tr>\n",
              "  </tbody>\n",
              "</table>\n",
              "</div>"
            ],
            "text/plain": [
              "   param_max_depth param_max_features param_n_estimators  mean_test_score\n",
              "9                6                  3                 15         0.965969\n",
              "7                5                  4                 15         0.962597\n",
              "6                5                  4                 10         0.960201\n",
              "11               6                  4                 15         0.959975\n",
              "10               6                  4                 10         0.956352\n",
              "3                4                  4                 15         0.955851\n",
              "8                6                  3                 10         0.954698\n",
              "5                5                  3                 15         0.949443\n",
              "4                5                  3                 10         0.949299\n",
              "2                4                  4                 10         0.941082"
            ]
          },
          "metadata": {
            "tags": []
          },
          "execution_count": 53
        }
      ]
    },
    {
      "cell_type": "code",
      "metadata": {
        "colab": {
          "base_uri": "https://localhost:8080/"
        },
        "id": "neECJjk-hDsH",
        "outputId": "d24ad184-78d7-48da-eaaa-1200c0668ce0"
      },
      "source": [
        "#Просмотрите параметры лучшей модели с помощью атрибута best_params_.\n",
        "clf.best_params_"
      ],
      "execution_count": 54,
      "outputs": [
        {
          "output_type": "execute_result",
          "data": {
            "text/plain": [
              "{'max_depth': 6, 'max_features': 3, 'n_estimators': 15}"
            ]
          },
          "metadata": {
            "tags": []
          },
          "execution_count": 54
        }
      ]
    },
    {
      "cell_type": "code",
      "metadata": {
        "colab": {
          "base_uri": "https://localhost:8080/"
        },
        "id": "KwuHw_F2hDsI",
        "outputId": "5e3aeec3-ae18-4420-b80d-8b61852cce6b"
      },
      "source": [
        "# Предскажите вероятности классов с помощью полученнной модели и метода predict_proba.\n",
        "#Из полученного результата (массив Numpy) выберите столбец с индексом 1 (вероятность класса 1) изапишите в массив y_pred_proba.\n",
        "y_pred_proba = clf.predict_proba(X_test)[:, 1]\n",
        "y_pred_proba[:10]"
      ],
      "execution_count": 55,
      "outputs": [
        {
          "output_type": "execute_result",
          "data": {
            "text/plain": [
              "array([0.00092917, 0.00029521, 0.00028215, 0.00028215, 0.00028215,\n",
              "       0.00028215, 0.00028215, 0.00028215, 0.00028215, 0.00028215])"
            ]
          },
          "metadata": {
            "tags": []
          },
          "execution_count": 55
        }
      ]
    },
    {
      "cell_type": "code",
      "metadata": {
        "colab": {
          "base_uri": "https://localhost:8080/",
          "height": 388
        },
        "id": "CISSmz8shDsI",
        "outputId": "a40ba87c-3d3f-4ca1-b5c3-29beaad711f6"
      },
      "source": [
        "#Посмотрим, как распределяются эти вероятности. Для этого построим две гистограммы. В первом случае будем смотреть на распределение вероятностей на объектах, принадлежащих классу 1, а во втором - на объектах класса 0.\n",
        "from matplotlib import pyplot as plt\n",
        "%matplotlib inline\n",
        "%config InlineBackend.figure_format = 'svg'\n",
        "plt.hist(y_pred_proba[y_test == 1], bins=7, density=True, label='class 1', alpha=0.5)\n",
        "plt.hist(y_pred_proba[y_test == 0], bins=7, density=True, label='class 0', alpha=0.5)\n",
        "\n",
        "plt.xlabel(\"Probability\")\n",
        "plt.ylabel(\"Density\")\n",
        "\n",
        "plt.legend()"
      ],
      "execution_count": 56,
      "outputs": [
        {
          "output_type": "execute_result",
          "data": {
            "text/plain": [
              "<matplotlib.legend.Legend at 0x7fd38b437a10>"
            ]
          },
          "metadata": {
            "tags": []
          },
          "execution_count": 56
        },
        {
          "output_type": "display_data",
          "data": {
            "text/plain": [
              "<Figure size 432x288 with 1 Axes>"
            ],
            "image/svg+xml": "<?xml version=\"1.0\" encoding=\"utf-8\" standalone=\"no\"?>\n<!DOCTYPE svg PUBLIC \"-//W3C//DTD SVG 1.1//EN\"\n  \"http://www.w3.org/Graphics/SVG/1.1/DTD/svg11.dtd\">\n<!-- Created with matplotlib (https://matplotlib.org/) -->\n<svg height=\"262.19625pt\" version=\"1.1\" viewBox=\"0 0 376.240625 262.19625\" width=\"376.240625pt\" xmlns=\"http://www.w3.org/2000/svg\" xmlns:xlink=\"http://www.w3.org/1999/xlink\">\n <defs>\n  <style type=\"text/css\">\n*{stroke-linecap:butt;stroke-linejoin:round;}\n  </style>\n </defs>\n <g id=\"figure_1\">\n  <g id=\"patch_1\">\n   <path d=\"M 0 262.19625 \nL 376.240625 262.19625 \nL 376.240625 0 \nL 0 0 \nz\n\" style=\"fill:none;\"/>\n  </g>\n  <g id=\"axes_1\">\n   <g id=\"patch_2\">\n    <path d=\"M 34.240625 224.64 \nL 369.040625 224.64 \nL 369.040625 7.2 \nL 34.240625 7.2 \nz\n\" style=\"fill:#ffffff;\"/>\n   </g>\n   <g id=\"patch_3\">\n    <path clip-path=\"url(#p21813adb51)\" d=\"M 49.483824 224.64 \nL 92.96077 224.64 \nL 92.96077 192.798392 \nL 49.483824 192.798392 \nz\n\" style=\"fill:#1f77b4;opacity:0.5;\"/>\n   </g>\n   <g id=\"patch_4\">\n    <path clip-path=\"url(#p21813adb51)\" d=\"M 92.96077 224.64 \nL 136.437715 224.64 \nL 136.437715 208.719196 \nL 92.96077 208.719196 \nz\n\" style=\"fill:#1f77b4;opacity:0.5;\"/>\n   </g>\n   <g id=\"patch_5\">\n    <path clip-path=\"url(#p21813adb51)\" d=\"M 136.437715 224.64 \nL 179.914661 224.64 \nL 179.914661 214.842582 \nL 136.437715 214.842582 \nz\n\" style=\"fill:#1f77b4;opacity:0.5;\"/>\n   </g>\n   <g id=\"patch_6\">\n    <path clip-path=\"url(#p21813adb51)\" d=\"M 179.914661 224.64 \nL 223.391607 224.64 \nL 223.391607 213.617905 \nL 179.914661 213.617905 \nz\n\" style=\"fill:#1f77b4;opacity:0.5;\"/>\n   </g>\n   <g id=\"patch_7\">\n    <path clip-path=\"url(#p21813adb51)\" d=\"M 223.391607 224.64 \nL 266.868552 224.64 \nL 266.868552 207.494519 \nL 223.391607 207.494519 \nz\n\" style=\"fill:#1f77b4;opacity:0.5;\"/>\n   </g>\n   <g id=\"patch_8\">\n    <path clip-path=\"url(#p21813adb51)\" d=\"M 266.868552 224.64 \nL 310.345498 224.64 \nL 310.345498 209.943873 \nL 266.868552 209.943873 \nz\n\" style=\"fill:#1f77b4;opacity:0.5;\"/>\n   </g>\n   <g id=\"patch_9\">\n    <path clip-path=\"url(#p21813adb51)\" d=\"M 310.345498 224.64 \nL 353.822443 224.64 \nL 353.822443 143.811302 \nL 310.345498 143.811302 \nz\n\" style=\"fill:#1f77b4;opacity:0.5;\"/>\n   </g>\n   <g id=\"patch_10\">\n    <path clip-path=\"url(#p21813adb51)\" d=\"M 49.458807 224.64 \nL 87.489793 224.64 \nL 87.489793 17.554286 \nL 49.458807 17.554286 \nz\n\" style=\"fill:#ff7f0e;opacity:0.5;\"/>\n   </g>\n   <g id=\"patch_11\">\n    <path clip-path=\"url(#p21813adb51)\" d=\"M 87.489793 224.64 \nL 125.520779 224.64 \nL 125.520779 224.57198 \nL 87.489793 224.57198 \nz\n\" style=\"fill:#ff7f0e;opacity:0.5;\"/>\n   </g>\n   <g id=\"patch_12\">\n    <path clip-path=\"url(#p21813adb51)\" d=\"M 125.520779 224.64 \nL 163.551765 224.64 \nL 163.551765 224.615707 \nL 125.520779 224.615707 \nz\n\" style=\"fill:#ff7f0e;opacity:0.5;\"/>\n   </g>\n   <g id=\"patch_13\">\n    <path clip-path=\"url(#p21813adb51)\" d=\"M 163.551765 224.64 \nL 201.582752 224.64 \nL 201.582752 224.627853 \nL 163.551765 224.627853 \nz\n\" style=\"fill:#ff7f0e;opacity:0.5;\"/>\n   </g>\n   <g id=\"patch_14\">\n    <path clip-path=\"url(#p21813adb51)\" d=\"M 201.582752 224.64 \nL 239.613738 224.64 \nL 239.613738 224.632712 \nL 201.582752 224.632712 \nz\n\" style=\"fill:#ff7f0e;opacity:0.5;\"/>\n   </g>\n   <g id=\"patch_15\">\n    <path clip-path=\"url(#p21813adb51)\" d=\"M 239.613738 224.64 \nL 277.644724 224.64 \nL 277.644724 224.64 \nL 239.613738 224.64 \nz\n\" style=\"fill:#ff7f0e;opacity:0.5;\"/>\n   </g>\n   <g id=\"patch_16\">\n    <path clip-path=\"url(#p21813adb51)\" d=\"M 277.644724 224.64 \nL 315.67571 224.64 \nL 315.67571 224.630283 \nL 277.644724 224.630283 \nz\n\" style=\"fill:#ff7f0e;opacity:0.5;\"/>\n   </g>\n   <g id=\"matplotlib.axis_1\">\n    <g id=\"xtick_1\">\n     <g id=\"line2d_1\">\n      <defs>\n       <path d=\"M 0 0 \nL 0 3.5 \n\" id=\"md97ded3640\" style=\"stroke:#000000;stroke-width:0.8;\"/>\n      </defs>\n      <g>\n       <use style=\"stroke:#000000;stroke-width:0.8;\" x=\"49.397698\" xlink:href=\"#md97ded3640\" y=\"224.64\"/>\n      </g>\n     </g>\n     <g id=\"text_1\">\n      <!-- 0.0 -->\n      <defs>\n       <path d=\"M 31.78125 66.40625 \nQ 24.171875 66.40625 20.328125 58.90625 \nQ 16.5 51.421875 16.5 36.375 \nQ 16.5 21.390625 20.328125 13.890625 \nQ 24.171875 6.390625 31.78125 6.390625 \nQ 39.453125 6.390625 43.28125 13.890625 \nQ 47.125 21.390625 47.125 36.375 \nQ 47.125 51.421875 43.28125 58.90625 \nQ 39.453125 66.40625 31.78125 66.40625 \nz\nM 31.78125 74.21875 \nQ 44.046875 74.21875 50.515625 64.515625 \nQ 56.984375 54.828125 56.984375 36.375 \nQ 56.984375 17.96875 50.515625 8.265625 \nQ 44.046875 -1.421875 31.78125 -1.421875 \nQ 19.53125 -1.421875 13.0625 8.265625 \nQ 6.59375 17.96875 6.59375 36.375 \nQ 6.59375 54.828125 13.0625 64.515625 \nQ 19.53125 74.21875 31.78125 74.21875 \nz\n\" id=\"DejaVuSans-48\"/>\n       <path d=\"M 10.6875 12.40625 \nL 21 12.40625 \nL 21 0 \nL 10.6875 0 \nz\n\" id=\"DejaVuSans-46\"/>\n      </defs>\n      <g transform=\"translate(41.446135 239.238437)scale(0.1 -0.1)\">\n       <use xlink:href=\"#DejaVuSans-48\"/>\n       <use x=\"63.623047\" xlink:href=\"#DejaVuSans-46\"/>\n       <use x=\"95.410156\" xlink:href=\"#DejaVuSans-48\"/>\n      </g>\n     </g>\n    </g>\n    <g id=\"xtick_2\">\n     <g id=\"line2d_2\">\n      <g>\n       <use style=\"stroke:#000000;stroke-width:0.8;\" x=\"110.446928\" xlink:href=\"#md97ded3640\" y=\"224.64\"/>\n      </g>\n     </g>\n     <g id=\"text_2\">\n      <!-- 0.2 -->\n      <defs>\n       <path d=\"M 19.1875 8.296875 \nL 53.609375 8.296875 \nL 53.609375 0 \nL 7.328125 0 \nL 7.328125 8.296875 \nQ 12.9375 14.109375 22.625 23.890625 \nQ 32.328125 33.6875 34.8125 36.53125 \nQ 39.546875 41.84375 41.421875 45.53125 \nQ 43.3125 49.21875 43.3125 52.78125 \nQ 43.3125 58.59375 39.234375 62.25 \nQ 35.15625 65.921875 28.609375 65.921875 \nQ 23.96875 65.921875 18.8125 64.3125 \nQ 13.671875 62.703125 7.8125 59.421875 \nL 7.8125 69.390625 \nQ 13.765625 71.78125 18.9375 73 \nQ 24.125 74.21875 28.421875 74.21875 \nQ 39.75 74.21875 46.484375 68.546875 \nQ 53.21875 62.890625 53.21875 53.421875 \nQ 53.21875 48.921875 51.53125 44.890625 \nQ 49.859375 40.875 45.40625 35.40625 \nQ 44.1875 33.984375 37.640625 27.21875 \nQ 31.109375 20.453125 19.1875 8.296875 \nz\n\" id=\"DejaVuSans-50\"/>\n      </defs>\n      <g transform=\"translate(102.495365 239.238437)scale(0.1 -0.1)\">\n       <use xlink:href=\"#DejaVuSans-48\"/>\n       <use x=\"63.623047\" xlink:href=\"#DejaVuSans-46\"/>\n       <use x=\"95.410156\" xlink:href=\"#DejaVuSans-50\"/>\n      </g>\n     </g>\n    </g>\n    <g id=\"xtick_3\">\n     <g id=\"line2d_3\">\n      <g>\n       <use style=\"stroke:#000000;stroke-width:0.8;\" x=\"171.496158\" xlink:href=\"#md97ded3640\" y=\"224.64\"/>\n      </g>\n     </g>\n     <g id=\"text_3\">\n      <!-- 0.4 -->\n      <defs>\n       <path d=\"M 37.796875 64.3125 \nL 12.890625 25.390625 \nL 37.796875 25.390625 \nz\nM 35.203125 72.90625 \nL 47.609375 72.90625 \nL 47.609375 25.390625 \nL 58.015625 25.390625 \nL 58.015625 17.1875 \nL 47.609375 17.1875 \nL 47.609375 0 \nL 37.796875 0 \nL 37.796875 17.1875 \nL 4.890625 17.1875 \nL 4.890625 26.703125 \nz\n\" id=\"DejaVuSans-52\"/>\n      </defs>\n      <g transform=\"translate(163.544595 239.238437)scale(0.1 -0.1)\">\n       <use xlink:href=\"#DejaVuSans-48\"/>\n       <use x=\"63.623047\" xlink:href=\"#DejaVuSans-46\"/>\n       <use x=\"95.410156\" xlink:href=\"#DejaVuSans-52\"/>\n      </g>\n     </g>\n    </g>\n    <g id=\"xtick_4\">\n     <g id=\"line2d_4\">\n      <g>\n       <use style=\"stroke:#000000;stroke-width:0.8;\" x=\"232.545388\" xlink:href=\"#md97ded3640\" y=\"224.64\"/>\n      </g>\n     </g>\n     <g id=\"text_4\">\n      <!-- 0.6 -->\n      <defs>\n       <path d=\"M 33.015625 40.375 \nQ 26.375 40.375 22.484375 35.828125 \nQ 18.609375 31.296875 18.609375 23.390625 \nQ 18.609375 15.53125 22.484375 10.953125 \nQ 26.375 6.390625 33.015625 6.390625 \nQ 39.65625 6.390625 43.53125 10.953125 \nQ 47.40625 15.53125 47.40625 23.390625 \nQ 47.40625 31.296875 43.53125 35.828125 \nQ 39.65625 40.375 33.015625 40.375 \nz\nM 52.59375 71.296875 \nL 52.59375 62.3125 \nQ 48.875 64.0625 45.09375 64.984375 \nQ 41.3125 65.921875 37.59375 65.921875 \nQ 27.828125 65.921875 22.671875 59.328125 \nQ 17.53125 52.734375 16.796875 39.40625 \nQ 19.671875 43.65625 24.015625 45.921875 \nQ 28.375 48.1875 33.59375 48.1875 \nQ 44.578125 48.1875 50.953125 41.515625 \nQ 57.328125 34.859375 57.328125 23.390625 \nQ 57.328125 12.15625 50.6875 5.359375 \nQ 44.046875 -1.421875 33.015625 -1.421875 \nQ 20.359375 -1.421875 13.671875 8.265625 \nQ 6.984375 17.96875 6.984375 36.375 \nQ 6.984375 53.65625 15.1875 63.9375 \nQ 23.390625 74.21875 37.203125 74.21875 \nQ 40.921875 74.21875 44.703125 73.484375 \nQ 48.484375 72.75 52.59375 71.296875 \nz\n\" id=\"DejaVuSans-54\"/>\n      </defs>\n      <g transform=\"translate(224.593825 239.238437)scale(0.1 -0.1)\">\n       <use xlink:href=\"#DejaVuSans-48\"/>\n       <use x=\"63.623047\" xlink:href=\"#DejaVuSans-46\"/>\n       <use x=\"95.410156\" xlink:href=\"#DejaVuSans-54\"/>\n      </g>\n     </g>\n    </g>\n    <g id=\"xtick_5\">\n     <g id=\"line2d_5\">\n      <g>\n       <use style=\"stroke:#000000;stroke-width:0.8;\" x=\"293.594618\" xlink:href=\"#md97ded3640\" y=\"224.64\"/>\n      </g>\n     </g>\n     <g id=\"text_5\">\n      <!-- 0.8 -->\n      <defs>\n       <path d=\"M 31.78125 34.625 \nQ 24.75 34.625 20.71875 30.859375 \nQ 16.703125 27.09375 16.703125 20.515625 \nQ 16.703125 13.921875 20.71875 10.15625 \nQ 24.75 6.390625 31.78125 6.390625 \nQ 38.8125 6.390625 42.859375 10.171875 \nQ 46.921875 13.96875 46.921875 20.515625 \nQ 46.921875 27.09375 42.890625 30.859375 \nQ 38.875 34.625 31.78125 34.625 \nz\nM 21.921875 38.8125 \nQ 15.578125 40.375 12.03125 44.71875 \nQ 8.5 49.078125 8.5 55.328125 \nQ 8.5 64.0625 14.71875 69.140625 \nQ 20.953125 74.21875 31.78125 74.21875 \nQ 42.671875 74.21875 48.875 69.140625 \nQ 55.078125 64.0625 55.078125 55.328125 \nQ 55.078125 49.078125 51.53125 44.71875 \nQ 48 40.375 41.703125 38.8125 \nQ 48.828125 37.15625 52.796875 32.3125 \nQ 56.78125 27.484375 56.78125 20.515625 \nQ 56.78125 9.90625 50.3125 4.234375 \nQ 43.84375 -1.421875 31.78125 -1.421875 \nQ 19.734375 -1.421875 13.25 4.234375 \nQ 6.78125 9.90625 6.78125 20.515625 \nQ 6.78125 27.484375 10.78125 32.3125 \nQ 14.796875 37.15625 21.921875 38.8125 \nz\nM 18.3125 54.390625 \nQ 18.3125 48.734375 21.84375 45.5625 \nQ 25.390625 42.390625 31.78125 42.390625 \nQ 38.140625 42.390625 41.71875 45.5625 \nQ 45.3125 48.734375 45.3125 54.390625 \nQ 45.3125 60.0625 41.71875 63.234375 \nQ 38.140625 66.40625 31.78125 66.40625 \nQ 25.390625 66.40625 21.84375 63.234375 \nQ 18.3125 60.0625 18.3125 54.390625 \nz\n\" id=\"DejaVuSans-56\"/>\n      </defs>\n      <g transform=\"translate(285.643056 239.238437)scale(0.1 -0.1)\">\n       <use xlink:href=\"#DejaVuSans-48\"/>\n       <use x=\"63.623047\" xlink:href=\"#DejaVuSans-46\"/>\n       <use x=\"95.410156\" xlink:href=\"#DejaVuSans-56\"/>\n      </g>\n     </g>\n    </g>\n    <g id=\"xtick_6\">\n     <g id=\"line2d_6\">\n      <g>\n       <use style=\"stroke:#000000;stroke-width:0.8;\" x=\"354.643848\" xlink:href=\"#md97ded3640\" y=\"224.64\"/>\n      </g>\n     </g>\n     <g id=\"text_6\">\n      <!-- 1.0 -->\n      <defs>\n       <path d=\"M 12.40625 8.296875 \nL 28.515625 8.296875 \nL 28.515625 63.921875 \nL 10.984375 60.40625 \nL 10.984375 69.390625 \nL 28.421875 72.90625 \nL 38.28125 72.90625 \nL 38.28125 8.296875 \nL 54.390625 8.296875 \nL 54.390625 0 \nL 12.40625 0 \nz\n\" id=\"DejaVuSans-49\"/>\n      </defs>\n      <g transform=\"translate(346.692286 239.238437)scale(0.1 -0.1)\">\n       <use xlink:href=\"#DejaVuSans-49\"/>\n       <use x=\"63.623047\" xlink:href=\"#DejaVuSans-46\"/>\n       <use x=\"95.410156\" xlink:href=\"#DejaVuSans-48\"/>\n      </g>\n     </g>\n    </g>\n    <g id=\"text_7\">\n     <!-- Probability -->\n     <defs>\n      <path d=\"M 19.671875 64.796875 \nL 19.671875 37.40625 \nL 32.078125 37.40625 \nQ 38.96875 37.40625 42.71875 40.96875 \nQ 46.484375 44.53125 46.484375 51.125 \nQ 46.484375 57.671875 42.71875 61.234375 \nQ 38.96875 64.796875 32.078125 64.796875 \nz\nM 9.8125 72.90625 \nL 32.078125 72.90625 \nQ 44.34375 72.90625 50.609375 67.359375 \nQ 56.890625 61.8125 56.890625 51.125 \nQ 56.890625 40.328125 50.609375 34.8125 \nQ 44.34375 29.296875 32.078125 29.296875 \nL 19.671875 29.296875 \nL 19.671875 0 \nL 9.8125 0 \nz\n\" id=\"DejaVuSans-80\"/>\n      <path d=\"M 41.109375 46.296875 \nQ 39.59375 47.171875 37.8125 47.578125 \nQ 36.03125 48 33.890625 48 \nQ 26.265625 48 22.1875 43.046875 \nQ 18.109375 38.09375 18.109375 28.8125 \nL 18.109375 0 \nL 9.078125 0 \nL 9.078125 54.6875 \nL 18.109375 54.6875 \nL 18.109375 46.1875 \nQ 20.953125 51.171875 25.484375 53.578125 \nQ 30.03125 56 36.53125 56 \nQ 37.453125 56 38.578125 55.875 \nQ 39.703125 55.765625 41.0625 55.515625 \nz\n\" id=\"DejaVuSans-114\"/>\n      <path d=\"M 30.609375 48.390625 \nQ 23.390625 48.390625 19.1875 42.75 \nQ 14.984375 37.109375 14.984375 27.296875 \nQ 14.984375 17.484375 19.15625 11.84375 \nQ 23.34375 6.203125 30.609375 6.203125 \nQ 37.796875 6.203125 41.984375 11.859375 \nQ 46.1875 17.53125 46.1875 27.296875 \nQ 46.1875 37.015625 41.984375 42.703125 \nQ 37.796875 48.390625 30.609375 48.390625 \nz\nM 30.609375 56 \nQ 42.328125 56 49.015625 48.375 \nQ 55.71875 40.765625 55.71875 27.296875 \nQ 55.71875 13.875 49.015625 6.21875 \nQ 42.328125 -1.421875 30.609375 -1.421875 \nQ 18.84375 -1.421875 12.171875 6.21875 \nQ 5.515625 13.875 5.515625 27.296875 \nQ 5.515625 40.765625 12.171875 48.375 \nQ 18.84375 56 30.609375 56 \nz\n\" id=\"DejaVuSans-111\"/>\n      <path d=\"M 48.6875 27.296875 \nQ 48.6875 37.203125 44.609375 42.84375 \nQ 40.53125 48.484375 33.40625 48.484375 \nQ 26.265625 48.484375 22.1875 42.84375 \nQ 18.109375 37.203125 18.109375 27.296875 \nQ 18.109375 17.390625 22.1875 11.75 \nQ 26.265625 6.109375 33.40625 6.109375 \nQ 40.53125 6.109375 44.609375 11.75 \nQ 48.6875 17.390625 48.6875 27.296875 \nz\nM 18.109375 46.390625 \nQ 20.953125 51.265625 25.265625 53.625 \nQ 29.59375 56 35.59375 56 \nQ 45.5625 56 51.78125 48.09375 \nQ 58.015625 40.1875 58.015625 27.296875 \nQ 58.015625 14.40625 51.78125 6.484375 \nQ 45.5625 -1.421875 35.59375 -1.421875 \nQ 29.59375 -1.421875 25.265625 0.953125 \nQ 20.953125 3.328125 18.109375 8.203125 \nL 18.109375 0 \nL 9.078125 0 \nL 9.078125 75.984375 \nL 18.109375 75.984375 \nz\n\" id=\"DejaVuSans-98\"/>\n      <path d=\"M 34.28125 27.484375 \nQ 23.390625 27.484375 19.1875 25 \nQ 14.984375 22.515625 14.984375 16.5 \nQ 14.984375 11.71875 18.140625 8.90625 \nQ 21.296875 6.109375 26.703125 6.109375 \nQ 34.1875 6.109375 38.703125 11.40625 \nQ 43.21875 16.703125 43.21875 25.484375 \nL 43.21875 27.484375 \nz\nM 52.203125 31.203125 \nL 52.203125 0 \nL 43.21875 0 \nL 43.21875 8.296875 \nQ 40.140625 3.328125 35.546875 0.953125 \nQ 30.953125 -1.421875 24.3125 -1.421875 \nQ 15.921875 -1.421875 10.953125 3.296875 \nQ 6 8.015625 6 15.921875 \nQ 6 25.140625 12.171875 29.828125 \nQ 18.359375 34.515625 30.609375 34.515625 \nL 43.21875 34.515625 \nL 43.21875 35.40625 \nQ 43.21875 41.609375 39.140625 45 \nQ 35.0625 48.390625 27.6875 48.390625 \nQ 23 48.390625 18.546875 47.265625 \nQ 14.109375 46.140625 10.015625 43.890625 \nL 10.015625 52.203125 \nQ 14.9375 54.109375 19.578125 55.046875 \nQ 24.21875 56 28.609375 56 \nQ 40.484375 56 46.34375 49.84375 \nQ 52.203125 43.703125 52.203125 31.203125 \nz\n\" id=\"DejaVuSans-97\"/>\n      <path d=\"M 9.421875 54.6875 \nL 18.40625 54.6875 \nL 18.40625 0 \nL 9.421875 0 \nz\nM 9.421875 75.984375 \nL 18.40625 75.984375 \nL 18.40625 64.59375 \nL 9.421875 64.59375 \nz\n\" id=\"DejaVuSans-105\"/>\n      <path d=\"M 9.421875 75.984375 \nL 18.40625 75.984375 \nL 18.40625 0 \nL 9.421875 0 \nz\n\" id=\"DejaVuSans-108\"/>\n      <path d=\"M 18.3125 70.21875 \nL 18.3125 54.6875 \nL 36.8125 54.6875 \nL 36.8125 47.703125 \nL 18.3125 47.703125 \nL 18.3125 18.015625 \nQ 18.3125 11.328125 20.140625 9.421875 \nQ 21.96875 7.515625 27.59375 7.515625 \nL 36.8125 7.515625 \nL 36.8125 0 \nL 27.59375 0 \nQ 17.1875 0 13.234375 3.875 \nQ 9.28125 7.765625 9.28125 18.015625 \nL 9.28125 47.703125 \nL 2.6875 47.703125 \nL 2.6875 54.6875 \nL 9.28125 54.6875 \nL 9.28125 70.21875 \nz\n\" id=\"DejaVuSans-116\"/>\n      <path d=\"M 32.171875 -5.078125 \nQ 28.375 -14.84375 24.75 -17.8125 \nQ 21.140625 -20.796875 15.09375 -20.796875 \nL 7.90625 -20.796875 \nL 7.90625 -13.28125 \nL 13.1875 -13.28125 \nQ 16.890625 -13.28125 18.9375 -11.515625 \nQ 21 -9.765625 23.484375 -3.21875 \nL 25.09375 0.875 \nL 2.984375 54.6875 \nL 12.5 54.6875 \nL 29.59375 11.921875 \nL 46.6875 54.6875 \nL 56.203125 54.6875 \nz\n\" id=\"DejaVuSans-121\"/>\n     </defs>\n     <g transform=\"translate(175.211719 252.916562)scale(0.1 -0.1)\">\n      <use xlink:href=\"#DejaVuSans-80\"/>\n      <use x=\"58.552734\" xlink:href=\"#DejaVuSans-114\"/>\n      <use x=\"97.416016\" xlink:href=\"#DejaVuSans-111\"/>\n      <use x=\"158.597656\" xlink:href=\"#DejaVuSans-98\"/>\n      <use x=\"222.074219\" xlink:href=\"#DejaVuSans-97\"/>\n      <use x=\"283.353516\" xlink:href=\"#DejaVuSans-98\"/>\n      <use x=\"346.830078\" xlink:href=\"#DejaVuSans-105\"/>\n      <use x=\"374.613281\" xlink:href=\"#DejaVuSans-108\"/>\n      <use x=\"402.396484\" xlink:href=\"#DejaVuSans-105\"/>\n      <use x=\"430.179688\" xlink:href=\"#DejaVuSans-116\"/>\n      <use x=\"469.388672\" xlink:href=\"#DejaVuSans-121\"/>\n     </g>\n    </g>\n   </g>\n   <g id=\"matplotlib.axis_2\">\n    <g id=\"ytick_1\">\n     <g id=\"line2d_7\">\n      <defs>\n       <path d=\"M 0 0 \nL -3.5 0 \n\" id=\"m0367a3b128\" style=\"stroke:#000000;stroke-width:0.8;\"/>\n      </defs>\n      <g>\n       <use style=\"stroke:#000000;stroke-width:0.8;\" x=\"34.240625\" xlink:href=\"#m0367a3b128\" y=\"224.64\"/>\n      </g>\n     </g>\n     <g id=\"text_8\">\n      <!-- 0 -->\n      <g transform=\"translate(20.878125 228.439219)scale(0.1 -0.1)\">\n       <use xlink:href=\"#DejaVuSans-48\"/>\n      </g>\n     </g>\n    </g>\n    <g id=\"ytick_2\">\n     <g id=\"line2d_8\">\n      <g>\n       <use style=\"stroke:#000000;stroke-width:0.8;\" x=\"34.240625\" xlink:href=\"#m0367a3b128\" y=\"198.823807\"/>\n      </g>\n     </g>\n     <g id=\"text_9\">\n      <!-- 1 -->\n      <g transform=\"translate(20.878125 202.623026)scale(0.1 -0.1)\">\n       <use xlink:href=\"#DejaVuSans-49\"/>\n      </g>\n     </g>\n    </g>\n    <g id=\"ytick_3\">\n     <g id=\"line2d_9\">\n      <g>\n       <use style=\"stroke:#000000;stroke-width:0.8;\" x=\"34.240625\" xlink:href=\"#m0367a3b128\" y=\"173.007615\"/>\n      </g>\n     </g>\n     <g id=\"text_10\">\n      <!-- 2 -->\n      <g transform=\"translate(20.878125 176.806834)scale(0.1 -0.1)\">\n       <use xlink:href=\"#DejaVuSans-50\"/>\n      </g>\n     </g>\n    </g>\n    <g id=\"ytick_4\">\n     <g id=\"line2d_10\">\n      <g>\n       <use style=\"stroke:#000000;stroke-width:0.8;\" x=\"34.240625\" xlink:href=\"#m0367a3b128\" y=\"147.191422\"/>\n      </g>\n     </g>\n     <g id=\"text_11\">\n      <!-- 3 -->\n      <defs>\n       <path d=\"M 40.578125 39.3125 \nQ 47.65625 37.796875 51.625 33 \nQ 55.609375 28.21875 55.609375 21.1875 \nQ 55.609375 10.40625 48.1875 4.484375 \nQ 40.765625 -1.421875 27.09375 -1.421875 \nQ 22.515625 -1.421875 17.65625 -0.515625 \nQ 12.796875 0.390625 7.625 2.203125 \nL 7.625 11.71875 \nQ 11.71875 9.328125 16.59375 8.109375 \nQ 21.484375 6.890625 26.8125 6.890625 \nQ 36.078125 6.890625 40.9375 10.546875 \nQ 45.796875 14.203125 45.796875 21.1875 \nQ 45.796875 27.640625 41.28125 31.265625 \nQ 36.765625 34.90625 28.71875 34.90625 \nL 20.21875 34.90625 \nL 20.21875 43.015625 \nL 29.109375 43.015625 \nQ 36.375 43.015625 40.234375 45.921875 \nQ 44.09375 48.828125 44.09375 54.296875 \nQ 44.09375 59.90625 40.109375 62.90625 \nQ 36.140625 65.921875 28.71875 65.921875 \nQ 24.65625 65.921875 20.015625 65.03125 \nQ 15.375 64.15625 9.8125 62.3125 \nL 9.8125 71.09375 \nQ 15.4375 72.65625 20.34375 73.4375 \nQ 25.25 74.21875 29.59375 74.21875 \nQ 40.828125 74.21875 47.359375 69.109375 \nQ 53.90625 64.015625 53.90625 55.328125 \nQ 53.90625 49.265625 50.4375 45.09375 \nQ 46.96875 40.921875 40.578125 39.3125 \nz\n\" id=\"DejaVuSans-51\"/>\n      </defs>\n      <g transform=\"translate(20.878125 150.990641)scale(0.1 -0.1)\">\n       <use xlink:href=\"#DejaVuSans-51\"/>\n      </g>\n     </g>\n    </g>\n    <g id=\"ytick_5\">\n     <g id=\"line2d_11\">\n      <g>\n       <use style=\"stroke:#000000;stroke-width:0.8;\" x=\"34.240625\" xlink:href=\"#m0367a3b128\" y=\"121.37523\"/>\n      </g>\n     </g>\n     <g id=\"text_12\">\n      <!-- 4 -->\n      <g transform=\"translate(20.878125 125.174449)scale(0.1 -0.1)\">\n       <use xlink:href=\"#DejaVuSans-52\"/>\n      </g>\n     </g>\n    </g>\n    <g id=\"ytick_6\">\n     <g id=\"line2d_12\">\n      <g>\n       <use style=\"stroke:#000000;stroke-width:0.8;\" x=\"34.240625\" xlink:href=\"#m0367a3b128\" y=\"95.559037\"/>\n      </g>\n     </g>\n     <g id=\"text_13\">\n      <!-- 5 -->\n      <defs>\n       <path d=\"M 10.796875 72.90625 \nL 49.515625 72.90625 \nL 49.515625 64.59375 \nL 19.828125 64.59375 \nL 19.828125 46.734375 \nQ 21.96875 47.46875 24.109375 47.828125 \nQ 26.265625 48.1875 28.421875 48.1875 \nQ 40.625 48.1875 47.75 41.5 \nQ 54.890625 34.8125 54.890625 23.390625 \nQ 54.890625 11.625 47.5625 5.09375 \nQ 40.234375 -1.421875 26.90625 -1.421875 \nQ 22.3125 -1.421875 17.546875 -0.640625 \nQ 12.796875 0.140625 7.71875 1.703125 \nL 7.71875 11.625 \nQ 12.109375 9.234375 16.796875 8.0625 \nQ 21.484375 6.890625 26.703125 6.890625 \nQ 35.15625 6.890625 40.078125 11.328125 \nQ 45.015625 15.765625 45.015625 23.390625 \nQ 45.015625 31 40.078125 35.4375 \nQ 35.15625 39.890625 26.703125 39.890625 \nQ 22.75 39.890625 18.8125 39.015625 \nQ 14.890625 38.140625 10.796875 36.28125 \nz\n\" id=\"DejaVuSans-53\"/>\n      </defs>\n      <g transform=\"translate(20.878125 99.358256)scale(0.1 -0.1)\">\n       <use xlink:href=\"#DejaVuSans-53\"/>\n      </g>\n     </g>\n    </g>\n    <g id=\"ytick_7\">\n     <g id=\"line2d_13\">\n      <g>\n       <use style=\"stroke:#000000;stroke-width:0.8;\" x=\"34.240625\" xlink:href=\"#m0367a3b128\" y=\"69.742845\"/>\n      </g>\n     </g>\n     <g id=\"text_14\">\n      <!-- 6 -->\n      <g transform=\"translate(20.878125 73.542064)scale(0.1 -0.1)\">\n       <use xlink:href=\"#DejaVuSans-54\"/>\n      </g>\n     </g>\n    </g>\n    <g id=\"ytick_8\">\n     <g id=\"line2d_14\">\n      <g>\n       <use style=\"stroke:#000000;stroke-width:0.8;\" x=\"34.240625\" xlink:href=\"#m0367a3b128\" y=\"43.926652\"/>\n      </g>\n     </g>\n     <g id=\"text_15\">\n      <!-- 7 -->\n      <defs>\n       <path d=\"M 8.203125 72.90625 \nL 55.078125 72.90625 \nL 55.078125 68.703125 \nL 28.609375 0 \nL 18.3125 0 \nL 43.21875 64.59375 \nL 8.203125 64.59375 \nz\n\" id=\"DejaVuSans-55\"/>\n      </defs>\n      <g transform=\"translate(20.878125 47.725871)scale(0.1 -0.1)\">\n       <use xlink:href=\"#DejaVuSans-55\"/>\n      </g>\n     </g>\n    </g>\n    <g id=\"ytick_9\">\n     <g id=\"line2d_15\">\n      <g>\n       <use style=\"stroke:#000000;stroke-width:0.8;\" x=\"34.240625\" xlink:href=\"#m0367a3b128\" y=\"18.11046\"/>\n      </g>\n     </g>\n     <g id=\"text_16\">\n      <!-- 8 -->\n      <g transform=\"translate(20.878125 21.909679)scale(0.1 -0.1)\">\n       <use xlink:href=\"#DejaVuSans-56\"/>\n      </g>\n     </g>\n    </g>\n    <g id=\"text_17\">\n     <!-- Density -->\n     <defs>\n      <path d=\"M 19.671875 64.796875 \nL 19.671875 8.109375 \nL 31.59375 8.109375 \nQ 46.6875 8.109375 53.6875 14.9375 \nQ 60.6875 21.78125 60.6875 36.53125 \nQ 60.6875 51.171875 53.6875 57.984375 \nQ 46.6875 64.796875 31.59375 64.796875 \nz\nM 9.8125 72.90625 \nL 30.078125 72.90625 \nQ 51.265625 72.90625 61.171875 64.09375 \nQ 71.09375 55.28125 71.09375 36.53125 \nQ 71.09375 17.671875 61.125 8.828125 \nQ 51.171875 0 30.078125 0 \nL 9.8125 0 \nz\n\" id=\"DejaVuSans-68\"/>\n      <path d=\"M 56.203125 29.59375 \nL 56.203125 25.203125 \nL 14.890625 25.203125 \nQ 15.484375 15.921875 20.484375 11.0625 \nQ 25.484375 6.203125 34.421875 6.203125 \nQ 39.59375 6.203125 44.453125 7.46875 \nQ 49.3125 8.734375 54.109375 11.28125 \nL 54.109375 2.78125 \nQ 49.265625 0.734375 44.1875 -0.34375 \nQ 39.109375 -1.421875 33.890625 -1.421875 \nQ 20.796875 -1.421875 13.15625 6.1875 \nQ 5.515625 13.8125 5.515625 26.8125 \nQ 5.515625 40.234375 12.765625 48.109375 \nQ 20.015625 56 32.328125 56 \nQ 43.359375 56 49.78125 48.890625 \nQ 56.203125 41.796875 56.203125 29.59375 \nz\nM 47.21875 32.234375 \nQ 47.125 39.59375 43.09375 43.984375 \nQ 39.0625 48.390625 32.421875 48.390625 \nQ 24.90625 48.390625 20.390625 44.140625 \nQ 15.875 39.890625 15.1875 32.171875 \nz\n\" id=\"DejaVuSans-101\"/>\n      <path d=\"M 54.890625 33.015625 \nL 54.890625 0 \nL 45.90625 0 \nL 45.90625 32.71875 \nQ 45.90625 40.484375 42.875 44.328125 \nQ 39.84375 48.1875 33.796875 48.1875 \nQ 26.515625 48.1875 22.3125 43.546875 \nQ 18.109375 38.921875 18.109375 30.90625 \nL 18.109375 0 \nL 9.078125 0 \nL 9.078125 54.6875 \nL 18.109375 54.6875 \nL 18.109375 46.1875 \nQ 21.34375 51.125 25.703125 53.5625 \nQ 30.078125 56 35.796875 56 \nQ 45.21875 56 50.046875 50.171875 \nQ 54.890625 44.34375 54.890625 33.015625 \nz\n\" id=\"DejaVuSans-110\"/>\n      <path d=\"M 44.28125 53.078125 \nL 44.28125 44.578125 \nQ 40.484375 46.53125 36.375 47.5 \nQ 32.28125 48.484375 27.875 48.484375 \nQ 21.1875 48.484375 17.84375 46.4375 \nQ 14.5 44.390625 14.5 40.28125 \nQ 14.5 37.15625 16.890625 35.375 \nQ 19.28125 33.59375 26.515625 31.984375 \nL 29.59375 31.296875 \nQ 39.15625 29.25 43.1875 25.515625 \nQ 47.21875 21.78125 47.21875 15.09375 \nQ 47.21875 7.46875 41.1875 3.015625 \nQ 35.15625 -1.421875 24.609375 -1.421875 \nQ 20.21875 -1.421875 15.453125 -0.5625 \nQ 10.6875 0.296875 5.421875 2 \nL 5.421875 11.28125 \nQ 10.40625 8.6875 15.234375 7.390625 \nQ 20.0625 6.109375 24.8125 6.109375 \nQ 31.15625 6.109375 34.5625 8.28125 \nQ 37.984375 10.453125 37.984375 14.40625 \nQ 37.984375 18.0625 35.515625 20.015625 \nQ 33.0625 21.96875 24.703125 23.78125 \nL 21.578125 24.515625 \nQ 13.234375 26.265625 9.515625 29.90625 \nQ 5.8125 33.546875 5.8125 39.890625 \nQ 5.8125 47.609375 11.28125 51.796875 \nQ 16.75 56 26.8125 56 \nQ 31.78125 56 36.171875 55.265625 \nQ 40.578125 54.546875 44.28125 53.078125 \nz\n\" id=\"DejaVuSans-115\"/>\n     </defs>\n     <g transform=\"translate(14.798437 134.928594)rotate(-90)scale(0.1 -0.1)\">\n      <use xlink:href=\"#DejaVuSans-68\"/>\n      <use x=\"77.001953\" xlink:href=\"#DejaVuSans-101\"/>\n      <use x=\"138.525391\" xlink:href=\"#DejaVuSans-110\"/>\n      <use x=\"201.904297\" xlink:href=\"#DejaVuSans-115\"/>\n      <use x=\"254.003906\" xlink:href=\"#DejaVuSans-105\"/>\n      <use x=\"281.787109\" xlink:href=\"#DejaVuSans-116\"/>\n      <use x=\"320.996094\" xlink:href=\"#DejaVuSans-121\"/>\n     </g>\n    </g>\n   </g>\n   <g id=\"patch_17\">\n    <path d=\"M 34.240625 224.64 \nL 34.240625 7.2 \n\" style=\"fill:none;stroke:#000000;stroke-linecap:square;stroke-linejoin:miter;stroke-width:0.8;\"/>\n   </g>\n   <g id=\"patch_18\">\n    <path d=\"M 369.040625 224.64 \nL 369.040625 7.2 \n\" style=\"fill:none;stroke:#000000;stroke-linecap:square;stroke-linejoin:miter;stroke-width:0.8;\"/>\n   </g>\n   <g id=\"patch_19\">\n    <path d=\"M 34.240625 224.64 \nL 369.040625 224.64 \n\" style=\"fill:none;stroke:#000000;stroke-linecap:square;stroke-linejoin:miter;stroke-width:0.8;\"/>\n   </g>\n   <g id=\"patch_20\">\n    <path d=\"M 34.240625 7.2 \nL 369.040625 7.2 \n\" style=\"fill:none;stroke:#000000;stroke-linecap:square;stroke-linejoin:miter;stroke-width:0.8;\"/>\n   </g>\n   <g id=\"legend_1\">\n    <g id=\"patch_21\">\n     <path d=\"M 295.676563 44.55625 \nL 362.040625 44.55625 \nQ 364.040625 44.55625 364.040625 42.55625 \nL 364.040625 14.2 \nQ 364.040625 12.2 362.040625 12.2 \nL 295.676563 12.2 \nQ 293.676563 12.2 293.676563 14.2 \nL 293.676563 42.55625 \nQ 293.676563 44.55625 295.676563 44.55625 \nz\n\" style=\"fill:#ffffff;opacity:0.8;stroke:#cccccc;stroke-linejoin:miter;\"/>\n    </g>\n    <g id=\"patch_22\">\n     <path d=\"M 297.676563 23.798437 \nL 317.676563 23.798437 \nL 317.676563 16.798437 \nL 297.676563 16.798437 \nz\n\" style=\"fill:#1f77b4;opacity:0.5;\"/>\n    </g>\n    <g id=\"text_18\">\n     <!-- class 1 -->\n     <defs>\n      <path d=\"M 48.78125 52.59375 \nL 48.78125 44.1875 \nQ 44.96875 46.296875 41.140625 47.34375 \nQ 37.3125 48.390625 33.40625 48.390625 \nQ 24.65625 48.390625 19.8125 42.84375 \nQ 14.984375 37.3125 14.984375 27.296875 \nQ 14.984375 17.28125 19.8125 11.734375 \nQ 24.65625 6.203125 33.40625 6.203125 \nQ 37.3125 6.203125 41.140625 7.25 \nQ 44.96875 8.296875 48.78125 10.40625 \nL 48.78125 2.09375 \nQ 45.015625 0.34375 40.984375 -0.53125 \nQ 36.96875 -1.421875 32.421875 -1.421875 \nQ 20.0625 -1.421875 12.78125 6.34375 \nQ 5.515625 14.109375 5.515625 27.296875 \nQ 5.515625 40.671875 12.859375 48.328125 \nQ 20.21875 56 33.015625 56 \nQ 37.15625 56 41.109375 55.140625 \nQ 45.0625 54.296875 48.78125 52.59375 \nz\n\" id=\"DejaVuSans-99\"/>\n      <path id=\"DejaVuSans-32\"/>\n     </defs>\n     <g transform=\"translate(325.676563 23.798437)scale(0.1 -0.1)\">\n      <use xlink:href=\"#DejaVuSans-99\"/>\n      <use x=\"54.980469\" xlink:href=\"#DejaVuSans-108\"/>\n      <use x=\"82.763672\" xlink:href=\"#DejaVuSans-97\"/>\n      <use x=\"144.042969\" xlink:href=\"#DejaVuSans-115\"/>\n      <use x=\"196.142578\" xlink:href=\"#DejaVuSans-115\"/>\n      <use x=\"248.242188\" xlink:href=\"#DejaVuSans-32\"/>\n      <use x=\"280.029297\" xlink:href=\"#DejaVuSans-49\"/>\n     </g>\n    </g>\n    <g id=\"patch_23\">\n     <path d=\"M 297.676563 38.476562 \nL 317.676563 38.476562 \nL 317.676563 31.476562 \nL 297.676563 31.476562 \nz\n\" style=\"fill:#ff7f0e;opacity:0.5;\"/>\n    </g>\n    <g id=\"text_19\">\n     <!-- class 0 -->\n     <g transform=\"translate(325.676563 38.476562)scale(0.1 -0.1)\">\n      <use xlink:href=\"#DejaVuSans-99\"/>\n      <use x=\"54.980469\" xlink:href=\"#DejaVuSans-108\"/>\n      <use x=\"82.763672\" xlink:href=\"#DejaVuSans-97\"/>\n      <use x=\"144.042969\" xlink:href=\"#DejaVuSans-115\"/>\n      <use x=\"196.142578\" xlink:href=\"#DejaVuSans-115\"/>\n      <use x=\"248.242188\" xlink:href=\"#DejaVuSans-32\"/>\n      <use x=\"280.029297\" xlink:href=\"#DejaVuSans-48\"/>\n     </g>\n    </g>\n   </g>\n  </g>\n </g>\n <defs>\n  <clipPath id=\"p21813adb51\">\n   <rect height=\"217.44\" width=\"334.8\" x=\"34.240625\" y=\"7.2\"/>\n  </clipPath>\n </defs>\n</svg>\n"
          },
          "metadata": {
            "tags": [],
            "needs_background": "light"
          }
        }
      ]
    },
    {
      "cell_type": "code",
      "metadata": {
        "id": "aprzHJc_hDsJ"
      },
      "source": [
        "#Построим ROC-кривую.\n",
        "from sklearn.metrics import roc_curve\n",
        "fpr, tpr, thresholds = roc_curve(y_test, y_pred_proba, pos_label=1)"
      ],
      "execution_count": 57,
      "outputs": []
    },
    {
      "cell_type": "code",
      "metadata": {
        "colab": {
          "base_uri": "https://localhost:8080/",
          "height": 463
        },
        "id": "vu7Vc5IvhDsJ",
        "outputId": "5905c08c-9fa1-43bb-cf50-c115405d8caf"
      },
      "source": [
        "plt.rcParams['figure.figsize'] = 5, 5\n",
        "plt.plot(fpr, tpr)\n",
        "plt.plot([0, 1], [0, 1], color='grey', linestyle='dashed')\n",
        "plt.xlabel('False Positive Rate')\n",
        "plt.ylabel('True Positive Rate')\n",
        "plt.title('ROC curve')\n",
        "plt.show()"
      ],
      "execution_count": 58,
      "outputs": [
        {
          "output_type": "display_data",
          "data": {
            "text/plain": [
              "<Figure size 360x360 with 1 Axes>"
            ],
            "image/svg+xml": "<?xml version=\"1.0\" encoding=\"utf-8\" standalone=\"no\"?>\n<!DOCTYPE svg PUBLIC \"-//W3C//DTD SVG 1.1//EN\"\n  \"http://www.w3.org/Graphics/SVG/1.1/DTD/svg11.dtd\">\n<!-- Created with matplotlib (https://matplotlib.org/) -->\n<svg height=\"331.674375pt\" version=\"1.1\" viewBox=\"0 0 329.98125 331.674375\" width=\"329.98125pt\" xmlns=\"http://www.w3.org/2000/svg\" xmlns:xlink=\"http://www.w3.org/1999/xlink\">\n <defs>\n  <style type=\"text/css\">\n*{stroke-linecap:butt;stroke-linejoin:round;}\n  </style>\n </defs>\n <g id=\"figure_1\">\n  <g id=\"patch_1\">\n   <path d=\"M 0 331.674375 \nL 329.98125 331.674375 \nL 329.98125 0 \nL 0 0 \nz\n\" style=\"fill:none;\"/>\n  </g>\n  <g id=\"axes_1\">\n   <g id=\"patch_2\">\n    <path d=\"M 43.78125 294.118125 \nL 322.78125 294.118125 \nL 322.78125 22.318125 \nL 43.78125 22.318125 \nz\n\" style=\"fill:#ffffff;\"/>\n   </g>\n   <g id=\"matplotlib.axis_1\">\n    <g id=\"xtick_1\">\n     <g id=\"line2d_1\">\n      <defs>\n       <path d=\"M 0 0 \nL 0 3.5 \n\" id=\"m18c5b52529\" style=\"stroke:#000000;stroke-width:0.8;\"/>\n      </defs>\n      <g>\n       <use style=\"stroke:#000000;stroke-width:0.8;\" x=\"56.463068\" xlink:href=\"#m18c5b52529\" y=\"294.118125\"/>\n      </g>\n     </g>\n     <g id=\"text_1\">\n      <!-- 0.0 -->\n      <defs>\n       <path d=\"M 31.78125 66.40625 \nQ 24.171875 66.40625 20.328125 58.90625 \nQ 16.5 51.421875 16.5 36.375 \nQ 16.5 21.390625 20.328125 13.890625 \nQ 24.171875 6.390625 31.78125 6.390625 \nQ 39.453125 6.390625 43.28125 13.890625 \nQ 47.125 21.390625 47.125 36.375 \nQ 47.125 51.421875 43.28125 58.90625 \nQ 39.453125 66.40625 31.78125 66.40625 \nz\nM 31.78125 74.21875 \nQ 44.046875 74.21875 50.515625 64.515625 \nQ 56.984375 54.828125 56.984375 36.375 \nQ 56.984375 17.96875 50.515625 8.265625 \nQ 44.046875 -1.421875 31.78125 -1.421875 \nQ 19.53125 -1.421875 13.0625 8.265625 \nQ 6.59375 17.96875 6.59375 36.375 \nQ 6.59375 54.828125 13.0625 64.515625 \nQ 19.53125 74.21875 31.78125 74.21875 \nz\n\" id=\"DejaVuSans-48\"/>\n       <path d=\"M 10.6875 12.40625 \nL 21 12.40625 \nL 21 0 \nL 10.6875 0 \nz\n\" id=\"DejaVuSans-46\"/>\n      </defs>\n      <g transform=\"translate(48.511506 308.716563)scale(0.1 -0.1)\">\n       <use xlink:href=\"#DejaVuSans-48\"/>\n       <use x=\"63.623047\" xlink:href=\"#DejaVuSans-46\"/>\n       <use x=\"95.410156\" xlink:href=\"#DejaVuSans-48\"/>\n      </g>\n     </g>\n    </g>\n    <g id=\"xtick_2\">\n     <g id=\"line2d_2\">\n      <g>\n       <use style=\"stroke:#000000;stroke-width:0.8;\" x=\"107.190341\" xlink:href=\"#m18c5b52529\" y=\"294.118125\"/>\n      </g>\n     </g>\n     <g id=\"text_2\">\n      <!-- 0.2 -->\n      <defs>\n       <path d=\"M 19.1875 8.296875 \nL 53.609375 8.296875 \nL 53.609375 0 \nL 7.328125 0 \nL 7.328125 8.296875 \nQ 12.9375 14.109375 22.625 23.890625 \nQ 32.328125 33.6875 34.8125 36.53125 \nQ 39.546875 41.84375 41.421875 45.53125 \nQ 43.3125 49.21875 43.3125 52.78125 \nQ 43.3125 58.59375 39.234375 62.25 \nQ 35.15625 65.921875 28.609375 65.921875 \nQ 23.96875 65.921875 18.8125 64.3125 \nQ 13.671875 62.703125 7.8125 59.421875 \nL 7.8125 69.390625 \nQ 13.765625 71.78125 18.9375 73 \nQ 24.125 74.21875 28.421875 74.21875 \nQ 39.75 74.21875 46.484375 68.546875 \nQ 53.21875 62.890625 53.21875 53.421875 \nQ 53.21875 48.921875 51.53125 44.890625 \nQ 49.859375 40.875 45.40625 35.40625 \nQ 44.1875 33.984375 37.640625 27.21875 \nQ 31.109375 20.453125 19.1875 8.296875 \nz\n\" id=\"DejaVuSans-50\"/>\n      </defs>\n      <g transform=\"translate(99.238778 308.716563)scale(0.1 -0.1)\">\n       <use xlink:href=\"#DejaVuSans-48\"/>\n       <use x=\"63.623047\" xlink:href=\"#DejaVuSans-46\"/>\n       <use x=\"95.410156\" xlink:href=\"#DejaVuSans-50\"/>\n      </g>\n     </g>\n    </g>\n    <g id=\"xtick_3\">\n     <g id=\"line2d_3\">\n      <g>\n       <use style=\"stroke:#000000;stroke-width:0.8;\" x=\"157.917614\" xlink:href=\"#m18c5b52529\" y=\"294.118125\"/>\n      </g>\n     </g>\n     <g id=\"text_3\">\n      <!-- 0.4 -->\n      <defs>\n       <path d=\"M 37.796875 64.3125 \nL 12.890625 25.390625 \nL 37.796875 25.390625 \nz\nM 35.203125 72.90625 \nL 47.609375 72.90625 \nL 47.609375 25.390625 \nL 58.015625 25.390625 \nL 58.015625 17.1875 \nL 47.609375 17.1875 \nL 47.609375 0 \nL 37.796875 0 \nL 37.796875 17.1875 \nL 4.890625 17.1875 \nL 4.890625 26.703125 \nz\n\" id=\"DejaVuSans-52\"/>\n      </defs>\n      <g transform=\"translate(149.966051 308.716563)scale(0.1 -0.1)\">\n       <use xlink:href=\"#DejaVuSans-48\"/>\n       <use x=\"63.623047\" xlink:href=\"#DejaVuSans-46\"/>\n       <use x=\"95.410156\" xlink:href=\"#DejaVuSans-52\"/>\n      </g>\n     </g>\n    </g>\n    <g id=\"xtick_4\">\n     <g id=\"line2d_4\">\n      <g>\n       <use style=\"stroke:#000000;stroke-width:0.8;\" x=\"208.644886\" xlink:href=\"#m18c5b52529\" y=\"294.118125\"/>\n      </g>\n     </g>\n     <g id=\"text_4\">\n      <!-- 0.6 -->\n      <defs>\n       <path d=\"M 33.015625 40.375 \nQ 26.375 40.375 22.484375 35.828125 \nQ 18.609375 31.296875 18.609375 23.390625 \nQ 18.609375 15.53125 22.484375 10.953125 \nQ 26.375 6.390625 33.015625 6.390625 \nQ 39.65625 6.390625 43.53125 10.953125 \nQ 47.40625 15.53125 47.40625 23.390625 \nQ 47.40625 31.296875 43.53125 35.828125 \nQ 39.65625 40.375 33.015625 40.375 \nz\nM 52.59375 71.296875 \nL 52.59375 62.3125 \nQ 48.875 64.0625 45.09375 64.984375 \nQ 41.3125 65.921875 37.59375 65.921875 \nQ 27.828125 65.921875 22.671875 59.328125 \nQ 17.53125 52.734375 16.796875 39.40625 \nQ 19.671875 43.65625 24.015625 45.921875 \nQ 28.375 48.1875 33.59375 48.1875 \nQ 44.578125 48.1875 50.953125 41.515625 \nQ 57.328125 34.859375 57.328125 23.390625 \nQ 57.328125 12.15625 50.6875 5.359375 \nQ 44.046875 -1.421875 33.015625 -1.421875 \nQ 20.359375 -1.421875 13.671875 8.265625 \nQ 6.984375 17.96875 6.984375 36.375 \nQ 6.984375 53.65625 15.1875 63.9375 \nQ 23.390625 74.21875 37.203125 74.21875 \nQ 40.921875 74.21875 44.703125 73.484375 \nQ 48.484375 72.75 52.59375 71.296875 \nz\n\" id=\"DejaVuSans-54\"/>\n      </defs>\n      <g transform=\"translate(200.693324 308.716563)scale(0.1 -0.1)\">\n       <use xlink:href=\"#DejaVuSans-48\"/>\n       <use x=\"63.623047\" xlink:href=\"#DejaVuSans-46\"/>\n       <use x=\"95.410156\" xlink:href=\"#DejaVuSans-54\"/>\n      </g>\n     </g>\n    </g>\n    <g id=\"xtick_5\">\n     <g id=\"line2d_5\">\n      <g>\n       <use style=\"stroke:#000000;stroke-width:0.8;\" x=\"259.372159\" xlink:href=\"#m18c5b52529\" y=\"294.118125\"/>\n      </g>\n     </g>\n     <g id=\"text_5\">\n      <!-- 0.8 -->\n      <defs>\n       <path d=\"M 31.78125 34.625 \nQ 24.75 34.625 20.71875 30.859375 \nQ 16.703125 27.09375 16.703125 20.515625 \nQ 16.703125 13.921875 20.71875 10.15625 \nQ 24.75 6.390625 31.78125 6.390625 \nQ 38.8125 6.390625 42.859375 10.171875 \nQ 46.921875 13.96875 46.921875 20.515625 \nQ 46.921875 27.09375 42.890625 30.859375 \nQ 38.875 34.625 31.78125 34.625 \nz\nM 21.921875 38.8125 \nQ 15.578125 40.375 12.03125 44.71875 \nQ 8.5 49.078125 8.5 55.328125 \nQ 8.5 64.0625 14.71875 69.140625 \nQ 20.953125 74.21875 31.78125 74.21875 \nQ 42.671875 74.21875 48.875 69.140625 \nQ 55.078125 64.0625 55.078125 55.328125 \nQ 55.078125 49.078125 51.53125 44.71875 \nQ 48 40.375 41.703125 38.8125 \nQ 48.828125 37.15625 52.796875 32.3125 \nQ 56.78125 27.484375 56.78125 20.515625 \nQ 56.78125 9.90625 50.3125 4.234375 \nQ 43.84375 -1.421875 31.78125 -1.421875 \nQ 19.734375 -1.421875 13.25 4.234375 \nQ 6.78125 9.90625 6.78125 20.515625 \nQ 6.78125 27.484375 10.78125 32.3125 \nQ 14.796875 37.15625 21.921875 38.8125 \nz\nM 18.3125 54.390625 \nQ 18.3125 48.734375 21.84375 45.5625 \nQ 25.390625 42.390625 31.78125 42.390625 \nQ 38.140625 42.390625 41.71875 45.5625 \nQ 45.3125 48.734375 45.3125 54.390625 \nQ 45.3125 60.0625 41.71875 63.234375 \nQ 38.140625 66.40625 31.78125 66.40625 \nQ 25.390625 66.40625 21.84375 63.234375 \nQ 18.3125 60.0625 18.3125 54.390625 \nz\n\" id=\"DejaVuSans-56\"/>\n      </defs>\n      <g transform=\"translate(251.420597 308.716563)scale(0.1 -0.1)\">\n       <use xlink:href=\"#DejaVuSans-48\"/>\n       <use x=\"63.623047\" xlink:href=\"#DejaVuSans-46\"/>\n       <use x=\"95.410156\" xlink:href=\"#DejaVuSans-56\"/>\n      </g>\n     </g>\n    </g>\n    <g id=\"xtick_6\">\n     <g id=\"line2d_6\">\n      <g>\n       <use style=\"stroke:#000000;stroke-width:0.8;\" x=\"310.099432\" xlink:href=\"#m18c5b52529\" y=\"294.118125\"/>\n      </g>\n     </g>\n     <g id=\"text_6\">\n      <!-- 1.0 -->\n      <defs>\n       <path d=\"M 12.40625 8.296875 \nL 28.515625 8.296875 \nL 28.515625 63.921875 \nL 10.984375 60.40625 \nL 10.984375 69.390625 \nL 28.421875 72.90625 \nL 38.28125 72.90625 \nL 38.28125 8.296875 \nL 54.390625 8.296875 \nL 54.390625 0 \nL 12.40625 0 \nz\n\" id=\"DejaVuSans-49\"/>\n      </defs>\n      <g transform=\"translate(302.147869 308.716563)scale(0.1 -0.1)\">\n       <use xlink:href=\"#DejaVuSans-49\"/>\n       <use x=\"63.623047\" xlink:href=\"#DejaVuSans-46\"/>\n       <use x=\"95.410156\" xlink:href=\"#DejaVuSans-48\"/>\n      </g>\n     </g>\n    </g>\n    <g id=\"text_7\">\n     <!-- False Positive Rate -->\n     <defs>\n      <path d=\"M 9.8125 72.90625 \nL 51.703125 72.90625 \nL 51.703125 64.59375 \nL 19.671875 64.59375 \nL 19.671875 43.109375 \nL 48.578125 43.109375 \nL 48.578125 34.8125 \nL 19.671875 34.8125 \nL 19.671875 0 \nL 9.8125 0 \nz\n\" id=\"DejaVuSans-70\"/>\n      <path d=\"M 34.28125 27.484375 \nQ 23.390625 27.484375 19.1875 25 \nQ 14.984375 22.515625 14.984375 16.5 \nQ 14.984375 11.71875 18.140625 8.90625 \nQ 21.296875 6.109375 26.703125 6.109375 \nQ 34.1875 6.109375 38.703125 11.40625 \nQ 43.21875 16.703125 43.21875 25.484375 \nL 43.21875 27.484375 \nz\nM 52.203125 31.203125 \nL 52.203125 0 \nL 43.21875 0 \nL 43.21875 8.296875 \nQ 40.140625 3.328125 35.546875 0.953125 \nQ 30.953125 -1.421875 24.3125 -1.421875 \nQ 15.921875 -1.421875 10.953125 3.296875 \nQ 6 8.015625 6 15.921875 \nQ 6 25.140625 12.171875 29.828125 \nQ 18.359375 34.515625 30.609375 34.515625 \nL 43.21875 34.515625 \nL 43.21875 35.40625 \nQ 43.21875 41.609375 39.140625 45 \nQ 35.0625 48.390625 27.6875 48.390625 \nQ 23 48.390625 18.546875 47.265625 \nQ 14.109375 46.140625 10.015625 43.890625 \nL 10.015625 52.203125 \nQ 14.9375 54.109375 19.578125 55.046875 \nQ 24.21875 56 28.609375 56 \nQ 40.484375 56 46.34375 49.84375 \nQ 52.203125 43.703125 52.203125 31.203125 \nz\n\" id=\"DejaVuSans-97\"/>\n      <path d=\"M 9.421875 75.984375 \nL 18.40625 75.984375 \nL 18.40625 0 \nL 9.421875 0 \nz\n\" id=\"DejaVuSans-108\"/>\n      <path d=\"M 44.28125 53.078125 \nL 44.28125 44.578125 \nQ 40.484375 46.53125 36.375 47.5 \nQ 32.28125 48.484375 27.875 48.484375 \nQ 21.1875 48.484375 17.84375 46.4375 \nQ 14.5 44.390625 14.5 40.28125 \nQ 14.5 37.15625 16.890625 35.375 \nQ 19.28125 33.59375 26.515625 31.984375 \nL 29.59375 31.296875 \nQ 39.15625 29.25 43.1875 25.515625 \nQ 47.21875 21.78125 47.21875 15.09375 \nQ 47.21875 7.46875 41.1875 3.015625 \nQ 35.15625 -1.421875 24.609375 -1.421875 \nQ 20.21875 -1.421875 15.453125 -0.5625 \nQ 10.6875 0.296875 5.421875 2 \nL 5.421875 11.28125 \nQ 10.40625 8.6875 15.234375 7.390625 \nQ 20.0625 6.109375 24.8125 6.109375 \nQ 31.15625 6.109375 34.5625 8.28125 \nQ 37.984375 10.453125 37.984375 14.40625 \nQ 37.984375 18.0625 35.515625 20.015625 \nQ 33.0625 21.96875 24.703125 23.78125 \nL 21.578125 24.515625 \nQ 13.234375 26.265625 9.515625 29.90625 \nQ 5.8125 33.546875 5.8125 39.890625 \nQ 5.8125 47.609375 11.28125 51.796875 \nQ 16.75 56 26.8125 56 \nQ 31.78125 56 36.171875 55.265625 \nQ 40.578125 54.546875 44.28125 53.078125 \nz\n\" id=\"DejaVuSans-115\"/>\n      <path d=\"M 56.203125 29.59375 \nL 56.203125 25.203125 \nL 14.890625 25.203125 \nQ 15.484375 15.921875 20.484375 11.0625 \nQ 25.484375 6.203125 34.421875 6.203125 \nQ 39.59375 6.203125 44.453125 7.46875 \nQ 49.3125 8.734375 54.109375 11.28125 \nL 54.109375 2.78125 \nQ 49.265625 0.734375 44.1875 -0.34375 \nQ 39.109375 -1.421875 33.890625 -1.421875 \nQ 20.796875 -1.421875 13.15625 6.1875 \nQ 5.515625 13.8125 5.515625 26.8125 \nQ 5.515625 40.234375 12.765625 48.109375 \nQ 20.015625 56 32.328125 56 \nQ 43.359375 56 49.78125 48.890625 \nQ 56.203125 41.796875 56.203125 29.59375 \nz\nM 47.21875 32.234375 \nQ 47.125 39.59375 43.09375 43.984375 \nQ 39.0625 48.390625 32.421875 48.390625 \nQ 24.90625 48.390625 20.390625 44.140625 \nQ 15.875 39.890625 15.1875 32.171875 \nz\n\" id=\"DejaVuSans-101\"/>\n      <path id=\"DejaVuSans-32\"/>\n      <path d=\"M 19.671875 64.796875 \nL 19.671875 37.40625 \nL 32.078125 37.40625 \nQ 38.96875 37.40625 42.71875 40.96875 \nQ 46.484375 44.53125 46.484375 51.125 \nQ 46.484375 57.671875 42.71875 61.234375 \nQ 38.96875 64.796875 32.078125 64.796875 \nz\nM 9.8125 72.90625 \nL 32.078125 72.90625 \nQ 44.34375 72.90625 50.609375 67.359375 \nQ 56.890625 61.8125 56.890625 51.125 \nQ 56.890625 40.328125 50.609375 34.8125 \nQ 44.34375 29.296875 32.078125 29.296875 \nL 19.671875 29.296875 \nL 19.671875 0 \nL 9.8125 0 \nz\n\" id=\"DejaVuSans-80\"/>\n      <path d=\"M 30.609375 48.390625 \nQ 23.390625 48.390625 19.1875 42.75 \nQ 14.984375 37.109375 14.984375 27.296875 \nQ 14.984375 17.484375 19.15625 11.84375 \nQ 23.34375 6.203125 30.609375 6.203125 \nQ 37.796875 6.203125 41.984375 11.859375 \nQ 46.1875 17.53125 46.1875 27.296875 \nQ 46.1875 37.015625 41.984375 42.703125 \nQ 37.796875 48.390625 30.609375 48.390625 \nz\nM 30.609375 56 \nQ 42.328125 56 49.015625 48.375 \nQ 55.71875 40.765625 55.71875 27.296875 \nQ 55.71875 13.875 49.015625 6.21875 \nQ 42.328125 -1.421875 30.609375 -1.421875 \nQ 18.84375 -1.421875 12.171875 6.21875 \nQ 5.515625 13.875 5.515625 27.296875 \nQ 5.515625 40.765625 12.171875 48.375 \nQ 18.84375 56 30.609375 56 \nz\n\" id=\"DejaVuSans-111\"/>\n      <path d=\"M 9.421875 54.6875 \nL 18.40625 54.6875 \nL 18.40625 0 \nL 9.421875 0 \nz\nM 9.421875 75.984375 \nL 18.40625 75.984375 \nL 18.40625 64.59375 \nL 9.421875 64.59375 \nz\n\" id=\"DejaVuSans-105\"/>\n      <path d=\"M 18.3125 70.21875 \nL 18.3125 54.6875 \nL 36.8125 54.6875 \nL 36.8125 47.703125 \nL 18.3125 47.703125 \nL 18.3125 18.015625 \nQ 18.3125 11.328125 20.140625 9.421875 \nQ 21.96875 7.515625 27.59375 7.515625 \nL 36.8125 7.515625 \nL 36.8125 0 \nL 27.59375 0 \nQ 17.1875 0 13.234375 3.875 \nQ 9.28125 7.765625 9.28125 18.015625 \nL 9.28125 47.703125 \nL 2.6875 47.703125 \nL 2.6875 54.6875 \nL 9.28125 54.6875 \nL 9.28125 70.21875 \nz\n\" id=\"DejaVuSans-116\"/>\n      <path d=\"M 2.984375 54.6875 \nL 12.5 54.6875 \nL 29.59375 8.796875 \nL 46.6875 54.6875 \nL 56.203125 54.6875 \nL 35.6875 0 \nL 23.484375 0 \nz\n\" id=\"DejaVuSans-118\"/>\n      <path d=\"M 44.390625 34.1875 \nQ 47.5625 33.109375 50.5625 29.59375 \nQ 53.5625 26.078125 56.59375 19.921875 \nL 66.609375 0 \nL 56 0 \nL 46.6875 18.703125 \nQ 43.0625 26.03125 39.671875 28.421875 \nQ 36.28125 30.8125 30.421875 30.8125 \nL 19.671875 30.8125 \nL 19.671875 0 \nL 9.8125 0 \nL 9.8125 72.90625 \nL 32.078125 72.90625 \nQ 44.578125 72.90625 50.734375 67.671875 \nQ 56.890625 62.453125 56.890625 51.90625 \nQ 56.890625 45.015625 53.6875 40.46875 \nQ 50.484375 35.9375 44.390625 34.1875 \nz\nM 19.671875 64.796875 \nL 19.671875 38.921875 \nL 32.078125 38.921875 \nQ 39.203125 38.921875 42.84375 42.21875 \nQ 46.484375 45.515625 46.484375 51.90625 \nQ 46.484375 58.296875 42.84375 61.546875 \nQ 39.203125 64.796875 32.078125 64.796875 \nz\n\" id=\"DejaVuSans-82\"/>\n     </defs>\n     <g transform=\"translate(136.814844 322.394687)scale(0.1 -0.1)\">\n      <use xlink:href=\"#DejaVuSans-70\"/>\n      <use x=\"48.394531\" xlink:href=\"#DejaVuSans-97\"/>\n      <use x=\"109.673828\" xlink:href=\"#DejaVuSans-108\"/>\n      <use x=\"137.457031\" xlink:href=\"#DejaVuSans-115\"/>\n      <use x=\"189.556641\" xlink:href=\"#DejaVuSans-101\"/>\n      <use x=\"251.080078\" xlink:href=\"#DejaVuSans-32\"/>\n      <use x=\"282.867188\" xlink:href=\"#DejaVuSans-80\"/>\n      <use x=\"339.544922\" xlink:href=\"#DejaVuSans-111\"/>\n      <use x=\"400.726562\" xlink:href=\"#DejaVuSans-115\"/>\n      <use x=\"452.826172\" xlink:href=\"#DejaVuSans-105\"/>\n      <use x=\"480.609375\" xlink:href=\"#DejaVuSans-116\"/>\n      <use x=\"519.818359\" xlink:href=\"#DejaVuSans-105\"/>\n      <use x=\"547.601562\" xlink:href=\"#DejaVuSans-118\"/>\n      <use x=\"606.78125\" xlink:href=\"#DejaVuSans-101\"/>\n      <use x=\"668.304688\" xlink:href=\"#DejaVuSans-32\"/>\n      <use x=\"700.091797\" xlink:href=\"#DejaVuSans-82\"/>\n      <use x=\"767.324219\" xlink:href=\"#DejaVuSans-97\"/>\n      <use x=\"828.603516\" xlink:href=\"#DejaVuSans-116\"/>\n      <use x=\"867.8125\" xlink:href=\"#DejaVuSans-101\"/>\n     </g>\n    </g>\n   </g>\n   <g id=\"matplotlib.axis_2\">\n    <g id=\"ytick_1\">\n     <g id=\"line2d_7\">\n      <defs>\n       <path d=\"M 0 0 \nL -3.5 0 \n\" id=\"m565c1c0f54\" style=\"stroke:#000000;stroke-width:0.8;\"/>\n      </defs>\n      <g>\n       <use style=\"stroke:#000000;stroke-width:0.8;\" x=\"43.78125\" xlink:href=\"#m565c1c0f54\" y=\"281.76358\"/>\n      </g>\n     </g>\n     <g id=\"text_8\">\n      <!-- 0.0 -->\n      <g transform=\"translate(20.878125 285.562798)scale(0.1 -0.1)\">\n       <use xlink:href=\"#DejaVuSans-48\"/>\n       <use x=\"63.623047\" xlink:href=\"#DejaVuSans-46\"/>\n       <use x=\"95.410156\" xlink:href=\"#DejaVuSans-48\"/>\n      </g>\n     </g>\n    </g>\n    <g id=\"ytick_2\">\n     <g id=\"line2d_8\">\n      <g>\n       <use style=\"stroke:#000000;stroke-width:0.8;\" x=\"43.78125\" xlink:href=\"#m565c1c0f54\" y=\"232.345398\"/>\n      </g>\n     </g>\n     <g id=\"text_9\">\n      <!-- 0.2 -->\n      <g transform=\"translate(20.878125 236.144616)scale(0.1 -0.1)\">\n       <use xlink:href=\"#DejaVuSans-48\"/>\n       <use x=\"63.623047\" xlink:href=\"#DejaVuSans-46\"/>\n       <use x=\"95.410156\" xlink:href=\"#DejaVuSans-50\"/>\n      </g>\n     </g>\n    </g>\n    <g id=\"ytick_3\">\n     <g id=\"line2d_9\">\n      <g>\n       <use style=\"stroke:#000000;stroke-width:0.8;\" x=\"43.78125\" xlink:href=\"#m565c1c0f54\" y=\"182.927216\"/>\n      </g>\n     </g>\n     <g id=\"text_10\">\n      <!-- 0.4 -->\n      <g transform=\"translate(20.878125 186.726435)scale(0.1 -0.1)\">\n       <use xlink:href=\"#DejaVuSans-48\"/>\n       <use x=\"63.623047\" xlink:href=\"#DejaVuSans-46\"/>\n       <use x=\"95.410156\" xlink:href=\"#DejaVuSans-52\"/>\n      </g>\n     </g>\n    </g>\n    <g id=\"ytick_4\">\n     <g id=\"line2d_10\">\n      <g>\n       <use style=\"stroke:#000000;stroke-width:0.8;\" x=\"43.78125\" xlink:href=\"#m565c1c0f54\" y=\"133.509034\"/>\n      </g>\n     </g>\n     <g id=\"text_11\">\n      <!-- 0.6 -->\n      <g transform=\"translate(20.878125 137.308253)scale(0.1 -0.1)\">\n       <use xlink:href=\"#DejaVuSans-48\"/>\n       <use x=\"63.623047\" xlink:href=\"#DejaVuSans-46\"/>\n       <use x=\"95.410156\" xlink:href=\"#DejaVuSans-54\"/>\n      </g>\n     </g>\n    </g>\n    <g id=\"ytick_5\">\n     <g id=\"line2d_11\">\n      <g>\n       <use style=\"stroke:#000000;stroke-width:0.8;\" x=\"43.78125\" xlink:href=\"#m565c1c0f54\" y=\"84.090852\"/>\n      </g>\n     </g>\n     <g id=\"text_12\">\n      <!-- 0.8 -->\n      <g transform=\"translate(20.878125 87.890071)scale(0.1 -0.1)\">\n       <use xlink:href=\"#DejaVuSans-48\"/>\n       <use x=\"63.623047\" xlink:href=\"#DejaVuSans-46\"/>\n       <use x=\"95.410156\" xlink:href=\"#DejaVuSans-56\"/>\n      </g>\n     </g>\n    </g>\n    <g id=\"ytick_6\">\n     <g id=\"line2d_12\">\n      <g>\n       <use style=\"stroke:#000000;stroke-width:0.8;\" x=\"43.78125\" xlink:href=\"#m565c1c0f54\" y=\"34.67267\"/>\n      </g>\n     </g>\n     <g id=\"text_13\">\n      <!-- 1.0 -->\n      <g transform=\"translate(20.878125 38.471889)scale(0.1 -0.1)\">\n       <use xlink:href=\"#DejaVuSans-49\"/>\n       <use x=\"63.623047\" xlink:href=\"#DejaVuSans-46\"/>\n       <use x=\"95.410156\" xlink:href=\"#DejaVuSans-48\"/>\n      </g>\n     </g>\n    </g>\n    <g id=\"text_14\">\n     <!-- True Positive Rate -->\n     <defs>\n      <path d=\"M -0.296875 72.90625 \nL 61.375 72.90625 \nL 61.375 64.59375 \nL 35.5 64.59375 \nL 35.5 0 \nL 25.59375 0 \nL 25.59375 64.59375 \nL -0.296875 64.59375 \nz\n\" id=\"DejaVuSans-84\"/>\n      <path d=\"M 41.109375 46.296875 \nQ 39.59375 47.171875 37.8125 47.578125 \nQ 36.03125 48 33.890625 48 \nQ 26.265625 48 22.1875 43.046875 \nQ 18.109375 38.09375 18.109375 28.8125 \nL 18.109375 0 \nL 9.078125 0 \nL 9.078125 54.6875 \nL 18.109375 54.6875 \nL 18.109375 46.1875 \nQ 20.953125 51.171875 25.484375 53.578125 \nQ 30.03125 56 36.53125 56 \nQ 37.453125 56 38.578125 55.875 \nQ 39.703125 55.765625 41.0625 55.515625 \nz\n\" id=\"DejaVuSans-114\"/>\n      <path d=\"M 8.5 21.578125 \nL 8.5 54.6875 \nL 17.484375 54.6875 \nL 17.484375 21.921875 \nQ 17.484375 14.15625 20.5 10.265625 \nQ 23.53125 6.390625 29.59375 6.390625 \nQ 36.859375 6.390625 41.078125 11.03125 \nQ 45.3125 15.671875 45.3125 23.6875 \nL 45.3125 54.6875 \nL 54.296875 54.6875 \nL 54.296875 0 \nL 45.3125 0 \nL 45.3125 8.40625 \nQ 42.046875 3.421875 37.71875 1 \nQ 33.40625 -1.421875 27.6875 -1.421875 \nQ 18.265625 -1.421875 13.375 4.4375 \nQ 8.5 10.296875 8.5 21.578125 \nz\nM 31.109375 56 \nz\n\" id=\"DejaVuSans-117\"/>\n     </defs>\n     <g transform=\"translate(14.798438 202.747813)rotate(-90)scale(0.1 -0.1)\">\n      <use xlink:href=\"#DejaVuSans-84\"/>\n      <use x=\"46.333984\" xlink:href=\"#DejaVuSans-114\"/>\n      <use x=\"87.447266\" xlink:href=\"#DejaVuSans-117\"/>\n      <use x=\"150.826172\" xlink:href=\"#DejaVuSans-101\"/>\n      <use x=\"212.349609\" xlink:href=\"#DejaVuSans-32\"/>\n      <use x=\"244.136719\" xlink:href=\"#DejaVuSans-80\"/>\n      <use x=\"300.814453\" xlink:href=\"#DejaVuSans-111\"/>\n      <use x=\"361.996094\" xlink:href=\"#DejaVuSans-115\"/>\n      <use x=\"414.095703\" xlink:href=\"#DejaVuSans-105\"/>\n      <use x=\"441.878906\" xlink:href=\"#DejaVuSans-116\"/>\n      <use x=\"481.087891\" xlink:href=\"#DejaVuSans-105\"/>\n      <use x=\"508.871094\" xlink:href=\"#DejaVuSans-118\"/>\n      <use x=\"568.050781\" xlink:href=\"#DejaVuSans-101\"/>\n      <use x=\"629.574219\" xlink:href=\"#DejaVuSans-32\"/>\n      <use x=\"661.361328\" xlink:href=\"#DejaVuSans-82\"/>\n      <use x=\"728.59375\" xlink:href=\"#DejaVuSans-97\"/>\n      <use x=\"789.873047\" xlink:href=\"#DejaVuSans-116\"/>\n      <use x=\"829.082031\" xlink:href=\"#DejaVuSans-101\"/>\n     </g>\n    </g>\n   </g>\n   <g id=\"line2d_13\">\n    <path clip-path=\"url(#p375d74448e)\" d=\"M 56.463068 281.76358 \nL 56.573093 83.089132 \nL 56.57904 83.089132 \nL 56.608776 76.411 \nL 56.659328 76.411 \nL 56.74259 76.411 \nL 56.751511 74.741467 \nL 56.849641 74.741467 \nL 57.584129 74.741467 \nL 57.590077 73.071933 \nL 57.685233 73.071933 \nL 59.897619 73.071933 \nL 60.245534 69.732867 \nL 65.273954 69.732867 \nL 67.004611 66.393801 \nL 74.614148 66.393801 \nL 74.985853 64.724268 \nL 80.302716 64.724268 \nL 85.955599 63.054734 \nL 86.710903 61.385201 \nL 97.972066 61.385201 \nL 100.529394 59.715668 \nL 101.674244 59.715668 \nL 109.102389 56.376602 \nL 109.114284 54.707068 \nL 110.547577 53.037535 \nL 110.696259 53.037535 \nL 115.989333 51.368002 \nL 125.912359 51.368002 \nL 309.796121 34.67267 \nL 310.099432 34.67267 \nL 310.099432 34.67267 \n\" style=\"fill:none;stroke:#1f77b4;stroke-linecap:square;stroke-width:1.5;\"/>\n   </g>\n   <g id=\"line2d_14\">\n    <path clip-path=\"url(#p375d74448e)\" d=\"M 56.463068 281.76358 \nL 310.099432 34.67267 \n\" style=\"fill:none;stroke:#808080;stroke-dasharray:5.55,2.4;stroke-dashoffset:0;stroke-width:1.5;\"/>\n   </g>\n   <g id=\"patch_3\">\n    <path d=\"M 43.78125 294.118125 \nL 43.78125 22.318125 \n\" style=\"fill:none;stroke:#000000;stroke-linecap:square;stroke-linejoin:miter;stroke-width:0.8;\"/>\n   </g>\n   <g id=\"patch_4\">\n    <path d=\"M 322.78125 294.118125 \nL 322.78125 22.318125 \n\" style=\"fill:none;stroke:#000000;stroke-linecap:square;stroke-linejoin:miter;stroke-width:0.8;\"/>\n   </g>\n   <g id=\"patch_5\">\n    <path d=\"M 43.78125 294.118125 \nL 322.78125 294.118125 \n\" style=\"fill:none;stroke:#000000;stroke-linecap:square;stroke-linejoin:miter;stroke-width:0.8;\"/>\n   </g>\n   <g id=\"patch_6\">\n    <path d=\"M 43.78125 22.318125 \nL 322.78125 22.318125 \n\" style=\"fill:none;stroke:#000000;stroke-linecap:square;stroke-linejoin:miter;stroke-width:0.8;\"/>\n   </g>\n   <g id=\"text_15\">\n    <!-- ROC curve -->\n    <defs>\n     <path d=\"M 39.40625 66.21875 \nQ 28.65625 66.21875 22.328125 58.203125 \nQ 16.015625 50.203125 16.015625 36.375 \nQ 16.015625 22.609375 22.328125 14.59375 \nQ 28.65625 6.59375 39.40625 6.59375 \nQ 50.140625 6.59375 56.421875 14.59375 \nQ 62.703125 22.609375 62.703125 36.375 \nQ 62.703125 50.203125 56.421875 58.203125 \nQ 50.140625 66.21875 39.40625 66.21875 \nz\nM 39.40625 74.21875 \nQ 54.734375 74.21875 63.90625 63.9375 \nQ 73.09375 53.65625 73.09375 36.375 \nQ 73.09375 19.140625 63.90625 8.859375 \nQ 54.734375 -1.421875 39.40625 -1.421875 \nQ 24.03125 -1.421875 14.8125 8.828125 \nQ 5.609375 19.09375 5.609375 36.375 \nQ 5.609375 53.65625 14.8125 63.9375 \nQ 24.03125 74.21875 39.40625 74.21875 \nz\n\" id=\"DejaVuSans-79\"/>\n     <path d=\"M 64.40625 67.28125 \nL 64.40625 56.890625 \nQ 59.421875 61.53125 53.78125 63.8125 \nQ 48.140625 66.109375 41.796875 66.109375 \nQ 29.296875 66.109375 22.65625 58.46875 \nQ 16.015625 50.828125 16.015625 36.375 \nQ 16.015625 21.96875 22.65625 14.328125 \nQ 29.296875 6.6875 41.796875 6.6875 \nQ 48.140625 6.6875 53.78125 8.984375 \nQ 59.421875 11.28125 64.40625 15.921875 \nL 64.40625 5.609375 \nQ 59.234375 2.09375 53.4375 0.328125 \nQ 47.65625 -1.421875 41.21875 -1.421875 \nQ 24.65625 -1.421875 15.125 8.703125 \nQ 5.609375 18.84375 5.609375 36.375 \nQ 5.609375 53.953125 15.125 64.078125 \nQ 24.65625 74.21875 41.21875 74.21875 \nQ 47.75 74.21875 53.53125 72.484375 \nQ 59.328125 70.75 64.40625 67.28125 \nz\n\" id=\"DejaVuSans-67\"/>\n     <path d=\"M 48.78125 52.59375 \nL 48.78125 44.1875 \nQ 44.96875 46.296875 41.140625 47.34375 \nQ 37.3125 48.390625 33.40625 48.390625 \nQ 24.65625 48.390625 19.8125 42.84375 \nQ 14.984375 37.3125 14.984375 27.296875 \nQ 14.984375 17.28125 19.8125 11.734375 \nQ 24.65625 6.203125 33.40625 6.203125 \nQ 37.3125 6.203125 41.140625 7.25 \nQ 44.96875 8.296875 48.78125 10.40625 \nL 48.78125 2.09375 \nQ 45.015625 0.34375 40.984375 -0.53125 \nQ 36.96875 -1.421875 32.421875 -1.421875 \nQ 20.0625 -1.421875 12.78125 6.34375 \nQ 5.515625 14.109375 5.515625 27.296875 \nQ 5.515625 40.671875 12.859375 48.328125 \nQ 20.21875 56 33.015625 56 \nQ 37.15625 56 41.109375 55.140625 \nQ 45.0625 54.296875 48.78125 52.59375 \nz\n\" id=\"DejaVuSans-99\"/>\n    </defs>\n    <g transform=\"translate(151.48125 16.318125)scale(0.12 -0.12)\">\n     <use xlink:href=\"#DejaVuSans-82\"/>\n     <use x=\"69.482422\" xlink:href=\"#DejaVuSans-79\"/>\n     <use x=\"148.193359\" xlink:href=\"#DejaVuSans-67\"/>\n     <use x=\"218.017578\" xlink:href=\"#DejaVuSans-32\"/>\n     <use x=\"249.804688\" xlink:href=\"#DejaVuSans-99\"/>\n     <use x=\"304.785156\" xlink:href=\"#DejaVuSans-117\"/>\n     <use x=\"368.164062\" xlink:href=\"#DejaVuSans-114\"/>\n     <use x=\"409.277344\" xlink:href=\"#DejaVuSans-118\"/>\n     <use x=\"468.457031\" xlink:href=\"#DejaVuSans-101\"/>\n    </g>\n   </g>\n  </g>\n </g>\n <defs>\n  <clipPath id=\"p375d74448e\">\n   <rect height=\"271.8\" width=\"279\" x=\"43.78125\" y=\"22.318125\"/>\n  </clipPath>\n </defs>\n</svg>\n"
          },
          "metadata": {
            "tags": [],
            "needs_background": "light"
          }
        }
      ]
    },
    {
      "cell_type": "code",
      "metadata": {
        "colab": {
          "base_uri": "https://localhost:8080/"
        },
        "id": "WqXYsl8NhDsK",
        "outputId": "982fa7ef-a4a7-4b20-d86c-17789cef34a5"
      },
      "source": [
        "#Из модуля sklearn.metrics импортируйте метрику roc_auc_score.\n",
        "from sklearn.metrics import roc_auc_score\n",
        "\n",
        "roc_auc_score(y_test, y_pred_proba)"
      ],
      "execution_count": 59,
      "outputs": [
        {
          "output_type": "execute_result",
          "data": {
            "text/plain": [
              "0.9462664156037156"
            ]
          },
          "metadata": {
            "tags": []
          },
          "execution_count": 59
        }
      ]
    },
    {
      "cell_type": "markdown",
      "metadata": {
        "id": "dJTBxzxhnRfq"
      },
      "source": [
        "## *Дополнительные задания:"
      ]
    },
    {
      "cell_type": "markdown",
      "metadata": {
        "id": "Ki6PyoMInRfq"
      },
      "source": [
        "### 1). Загрузите датасет Wine из встроенных датасетов sklearn.datasets с помощью функции load_wine в переменную data."
      ]
    },
    {
      "cell_type": "code",
      "metadata": {
        "id": "xAQLBwW1hDsL"
      },
      "source": [
        "from sklearn.datasets import load_wine\n",
        "data = load_wine()"
      ],
      "execution_count": 60,
      "outputs": []
    },
    {
      "cell_type": "markdown",
      "metadata": {
        "id": "kMm8QYmNnRfr"
      },
      "source": [
        "### 2). Полученный датасет не является датафреймом. Это структура данных, имеющая ключи аналогично словарю. Просмотрите тип данных этой структуры данных и создайте список data_keys, содержащий ее ключи."
      ]
    },
    {
      "cell_type": "code",
      "metadata": {
        "colab": {
          "base_uri": "https://localhost:8080/"
        },
        "id": "c8eOdZSShDsM",
        "outputId": "8de44cc1-354b-4993-9f79-af5548d742f5"
      },
      "source": [
        "type(data)"
      ],
      "execution_count": 61,
      "outputs": [
        {
          "output_type": "execute_result",
          "data": {
            "text/plain": [
              "sklearn.utils.Bunch"
            ]
          },
          "metadata": {
            "tags": []
          },
          "execution_count": 61
        }
      ]
    },
    {
      "cell_type": "markdown",
      "metadata": {
        "id": "0M9SB64OpmL4"
      },
      "source": [
        ""
      ]
    },
    {
      "cell_type": "code",
      "metadata": {
        "colab": {
          "base_uri": "https://localhost:8080/"
        },
        "id": "jqZa4qvEhDsM",
        "outputId": "94e1da44-3411-4530-cfa9-4e6b2094cf01"
      },
      "source": [
        "data.keys()"
      ],
      "execution_count": 62,
      "outputs": [
        {
          "output_type": "execute_result",
          "data": {
            "text/plain": [
              "dict_keys(['data', 'target', 'target_names', 'DESCR', 'feature_names'])"
            ]
          },
          "metadata": {
            "tags": []
          },
          "execution_count": 62
        }
      ]
    },
    {
      "cell_type": "markdown",
      "metadata": {
        "id": "SgM-GSzWnRfr"
      },
      "source": [
        "### 3). Просмотрите данные, описание и названия признаков в датасете. Описание нужно вывести в виде привычного, аккуратно оформленного текста, без обозначений переноса строки, но с самими переносами и т.д.4). Сколько классов содержит целевая переменная датасета? Выведите названия классов."
      ]
    },
    {
      "cell_type": "code",
      "metadata": {
        "colab": {
          "base_uri": "https://localhost:8080/"
        },
        "id": "dFCVjeq8hDsO",
        "outputId": "63a5f7d7-fbbf-4bd5-b67d-64752a7ea0e6"
      },
      "source": [
        "print(data[\"DESCR\"])"
      ],
      "execution_count": 63,
      "outputs": [
        {
          "output_type": "stream",
          "text": [
            ".. _wine_dataset:\n",
            "\n",
            "Wine recognition dataset\n",
            "------------------------\n",
            "\n",
            "**Data Set Characteristics:**\n",
            "\n",
            "    :Number of Instances: 178 (50 in each of three classes)\n",
            "    :Number of Attributes: 13 numeric, predictive attributes and the class\n",
            "    :Attribute Information:\n",
            " \t\t- Alcohol\n",
            " \t\t- Malic acid\n",
            " \t\t- Ash\n",
            "\t\t- Alcalinity of ash  \n",
            " \t\t- Magnesium\n",
            "\t\t- Total phenols\n",
            " \t\t- Flavanoids\n",
            " \t\t- Nonflavanoid phenols\n",
            " \t\t- Proanthocyanins\n",
            "\t\t- Color intensity\n",
            " \t\t- Hue\n",
            " \t\t- OD280/OD315 of diluted wines\n",
            " \t\t- Proline\n",
            "\n",
            "    - class:\n",
            "            - class_0\n",
            "            - class_1\n",
            "            - class_2\n",
            "\t\t\n",
            "    :Summary Statistics:\n",
            "    \n",
            "    ============================= ==== ===== ======= =====\n",
            "                                   Min   Max   Mean     SD\n",
            "    ============================= ==== ===== ======= =====\n",
            "    Alcohol:                      11.0  14.8    13.0   0.8\n",
            "    Malic Acid:                   0.74  5.80    2.34  1.12\n",
            "    Ash:                          1.36  3.23    2.36  0.27\n",
            "    Alcalinity of Ash:            10.6  30.0    19.5   3.3\n",
            "    Magnesium:                    70.0 162.0    99.7  14.3\n",
            "    Total Phenols:                0.98  3.88    2.29  0.63\n",
            "    Flavanoids:                   0.34  5.08    2.03  1.00\n",
            "    Nonflavanoid Phenols:         0.13  0.66    0.36  0.12\n",
            "    Proanthocyanins:              0.41  3.58    1.59  0.57\n",
            "    Colour Intensity:              1.3  13.0     5.1   2.3\n",
            "    Hue:                          0.48  1.71    0.96  0.23\n",
            "    OD280/OD315 of diluted wines: 1.27  4.00    2.61  0.71\n",
            "    Proline:                       278  1680     746   315\n",
            "    ============================= ==== ===== ======= =====\n",
            "\n",
            "    :Missing Attribute Values: None\n",
            "    :Class Distribution: class_0 (59), class_1 (71), class_2 (48)\n",
            "    :Creator: R.A. Fisher\n",
            "    :Donor: Michael Marshall (MARSHALL%PLU@io.arc.nasa.gov)\n",
            "    :Date: July, 1988\n",
            "\n",
            "This is a copy of UCI ML Wine recognition datasets.\n",
            "https://archive.ics.uci.edu/ml/machine-learning-databases/wine/wine.data\n",
            "\n",
            "The data is the results of a chemical analysis of wines grown in the same\n",
            "region in Italy by three different cultivators. There are thirteen different\n",
            "measurements taken for different constituents found in the three types of\n",
            "wine.\n",
            "\n",
            "Original Owners: \n",
            "\n",
            "Forina, M. et al, PARVUS - \n",
            "An Extendible Package for Data Exploration, Classification and Correlation. \n",
            "Institute of Pharmaceutical and Food Analysis and Technologies,\n",
            "Via Brigata Salerno, 16147 Genoa, Italy.\n",
            "\n",
            "Citation:\n",
            "\n",
            "Lichman, M. (2013). UCI Machine Learning Repository\n",
            "[https://archive.ics.uci.edu/ml]. Irvine, CA: University of California,\n",
            "School of Information and Computer Science. \n",
            "\n",
            ".. topic:: References\n",
            "\n",
            "  (1) S. Aeberhard, D. Coomans and O. de Vel, \n",
            "  Comparison of Classifiers in High Dimensional Settings, \n",
            "  Tech. Rep. no. 92-02, (1992), Dept. of Computer Science and Dept. of  \n",
            "  Mathematics and Statistics, James Cook University of North Queensland. \n",
            "  (Also submitted to Technometrics). \n",
            "\n",
            "  The data was used with many others for comparing various \n",
            "  classifiers. The classes are separable, though only RDA \n",
            "  has achieved 100% correct classification. \n",
            "  (RDA : 100%, QDA 99.4%, LDA 98.9%, 1NN 96.1% (z-transformed data)) \n",
            "  (All results using the leave-one-out technique) \n",
            "\n",
            "  (2) S. Aeberhard, D. Coomans and O. de Vel, \n",
            "  \"THE CLASSIFICATION PERFORMANCE OF RDA\" \n",
            "  Tech. Rep. no. 92-01, (1992), Dept. of Computer Science and Dept. of \n",
            "  Mathematics and Statistics, James Cook University of North Queensland. \n",
            "  (Also submitted to Journal of Chemometrics).\n",
            "\n"
          ],
          "name": "stdout"
        }
      ]
    },
    {
      "cell_type": "code",
      "metadata": {
        "colab": {
          "base_uri": "https://localhost:8080/"
        },
        "id": "ii7DBuKMhDsO",
        "outputId": "cd2b1f2f-8bdd-4018-90fe-f544e77a0a1b"
      },
      "source": [
        "#Сколько классов содержит целевая переменная датасета? Выведите названия классов.\n",
        "print(data['target_names'])"
      ],
      "execution_count": 64,
      "outputs": [
        {
          "output_type": "stream",
          "text": [
            "['class_0' 'class_1' 'class_2']\n"
          ],
          "name": "stdout"
        }
      ]
    },
    {
      "cell_type": "markdown",
      "metadata": {
        "id": "TFnpg2bbhDsP"
      },
      "source": [
        "*Видим 3 класса, с названиями 'class_0' 'class_1' 'class_2'*"
      ]
    },
    {
      "cell_type": "markdown",
      "metadata": {
        "id": "Ykrcui7PnRfr"
      },
      "source": [
        "### 5). На основе данных датасета (они содержатся в двумерном массиве Numpy) и названий признаков создайте датафрейм под названием X."
      ]
    },
    {
      "cell_type": "code",
      "metadata": {
        "colab": {
          "base_uri": "https://localhost:8080/",
          "height": 224
        },
        "id": "mxrYpU6fhDsQ",
        "outputId": "8776931d-2389-418c-938f-4b786cddfd90"
      },
      "source": [
        "X = pd.DataFrame(data[\"data\"], columns=data[\"feature_names\"])\n",
        "X.head()"
      ],
      "execution_count": 65,
      "outputs": [
        {
          "output_type": "execute_result",
          "data": {
            "text/html": [
              "<div>\n",
              "<style scoped>\n",
              "    .dataframe tbody tr th:only-of-type {\n",
              "        vertical-align: middle;\n",
              "    }\n",
              "\n",
              "    .dataframe tbody tr th {\n",
              "        vertical-align: top;\n",
              "    }\n",
              "\n",
              "    .dataframe thead th {\n",
              "        text-align: right;\n",
              "    }\n",
              "</style>\n",
              "<table border=\"1\" class=\"dataframe\">\n",
              "  <thead>\n",
              "    <tr style=\"text-align: right;\">\n",
              "      <th></th>\n",
              "      <th>alcohol</th>\n",
              "      <th>malic_acid</th>\n",
              "      <th>ash</th>\n",
              "      <th>alcalinity_of_ash</th>\n",
              "      <th>magnesium</th>\n",
              "      <th>total_phenols</th>\n",
              "      <th>flavanoids</th>\n",
              "      <th>nonflavanoid_phenols</th>\n",
              "      <th>proanthocyanins</th>\n",
              "      <th>color_intensity</th>\n",
              "      <th>hue</th>\n",
              "      <th>od280/od315_of_diluted_wines</th>\n",
              "      <th>proline</th>\n",
              "    </tr>\n",
              "  </thead>\n",
              "  <tbody>\n",
              "    <tr>\n",
              "      <th>0</th>\n",
              "      <td>14.23</td>\n",
              "      <td>1.71</td>\n",
              "      <td>2.43</td>\n",
              "      <td>15.6</td>\n",
              "      <td>127.0</td>\n",
              "      <td>2.80</td>\n",
              "      <td>3.06</td>\n",
              "      <td>0.28</td>\n",
              "      <td>2.29</td>\n",
              "      <td>5.64</td>\n",
              "      <td>1.04</td>\n",
              "      <td>3.92</td>\n",
              "      <td>1065.0</td>\n",
              "    </tr>\n",
              "    <tr>\n",
              "      <th>1</th>\n",
              "      <td>13.20</td>\n",
              "      <td>1.78</td>\n",
              "      <td>2.14</td>\n",
              "      <td>11.2</td>\n",
              "      <td>100.0</td>\n",
              "      <td>2.65</td>\n",
              "      <td>2.76</td>\n",
              "      <td>0.26</td>\n",
              "      <td>1.28</td>\n",
              "      <td>4.38</td>\n",
              "      <td>1.05</td>\n",
              "      <td>3.40</td>\n",
              "      <td>1050.0</td>\n",
              "    </tr>\n",
              "    <tr>\n",
              "      <th>2</th>\n",
              "      <td>13.16</td>\n",
              "      <td>2.36</td>\n",
              "      <td>2.67</td>\n",
              "      <td>18.6</td>\n",
              "      <td>101.0</td>\n",
              "      <td>2.80</td>\n",
              "      <td>3.24</td>\n",
              "      <td>0.30</td>\n",
              "      <td>2.81</td>\n",
              "      <td>5.68</td>\n",
              "      <td>1.03</td>\n",
              "      <td>3.17</td>\n",
              "      <td>1185.0</td>\n",
              "    </tr>\n",
              "    <tr>\n",
              "      <th>3</th>\n",
              "      <td>14.37</td>\n",
              "      <td>1.95</td>\n",
              "      <td>2.50</td>\n",
              "      <td>16.8</td>\n",
              "      <td>113.0</td>\n",
              "      <td>3.85</td>\n",
              "      <td>3.49</td>\n",
              "      <td>0.24</td>\n",
              "      <td>2.18</td>\n",
              "      <td>7.80</td>\n",
              "      <td>0.86</td>\n",
              "      <td>3.45</td>\n",
              "      <td>1480.0</td>\n",
              "    </tr>\n",
              "    <tr>\n",
              "      <th>4</th>\n",
              "      <td>13.24</td>\n",
              "      <td>2.59</td>\n",
              "      <td>2.87</td>\n",
              "      <td>21.0</td>\n",
              "      <td>118.0</td>\n",
              "      <td>2.80</td>\n",
              "      <td>2.69</td>\n",
              "      <td>0.39</td>\n",
              "      <td>1.82</td>\n",
              "      <td>4.32</td>\n",
              "      <td>1.04</td>\n",
              "      <td>2.93</td>\n",
              "      <td>735.0</td>\n",
              "    </tr>\n",
              "  </tbody>\n",
              "</table>\n",
              "</div>"
            ],
            "text/plain": [
              "   alcohol  malic_acid   ash  alcalinity_of_ash  magnesium  total_phenols  \\\n",
              "0    14.23        1.71  2.43               15.6      127.0           2.80   \n",
              "1    13.20        1.78  2.14               11.2      100.0           2.65   \n",
              "2    13.16        2.36  2.67               18.6      101.0           2.80   \n",
              "3    14.37        1.95  2.50               16.8      113.0           3.85   \n",
              "4    13.24        2.59  2.87               21.0      118.0           2.80   \n",
              "\n",
              "   flavanoids  nonflavanoid_phenols  proanthocyanins  color_intensity   hue  \\\n",
              "0        3.06                  0.28             2.29             5.64  1.04   \n",
              "1        2.76                  0.26             1.28             4.38  1.05   \n",
              "2        3.24                  0.30             2.81             5.68  1.03   \n",
              "3        3.49                  0.24             2.18             7.80  0.86   \n",
              "4        2.69                  0.39             1.82             4.32  1.04   \n",
              "\n",
              "   od280/od315_of_diluted_wines  proline  \n",
              "0                          3.92   1065.0  \n",
              "1                          3.40   1050.0  \n",
              "2                          3.17   1185.0  \n",
              "3                          3.45   1480.0  \n",
              "4                          2.93    735.0  "
            ]
          },
          "metadata": {
            "tags": []
          },
          "execution_count": 65
        }
      ]
    },
    {
      "cell_type": "markdown",
      "metadata": {
        "id": "XnTLiXt6nRfs"
      },
      "source": [
        "6). Выясните размер датафрейма X и установите, имеются ли в нем пропущенные значения."
      ]
    },
    {
      "cell_type": "code",
      "metadata": {
        "colab": {
          "base_uri": "https://localhost:8080/"
        },
        "id": "VTcXrcYJhDsR",
        "outputId": "8226c33d-4ff5-4f84-9612-7095c2b54f73"
      },
      "source": [
        "X.shape"
      ],
      "execution_count": 66,
      "outputs": [
        {
          "output_type": "execute_result",
          "data": {
            "text/plain": [
              "(178, 13)"
            ]
          },
          "metadata": {
            "tags": []
          },
          "execution_count": 66
        }
      ]
    },
    {
      "cell_type": "markdown",
      "metadata": {
        "id": "GDZ5X8NkhDsS"
      },
      "source": [
        "*Мы видим, что это массив из 178 строк и 13 столбцов.*"
      ]
    },
    {
      "cell_type": "code",
      "metadata": {
        "colab": {
          "base_uri": "https://localhost:8080/"
        },
        "id": "mATSIgbHhDsS",
        "outputId": "12b40531-c9ca-465e-cf42-1af4f3beb397"
      },
      "source": [
        "X.info()"
      ],
      "execution_count": 67,
      "outputs": [
        {
          "output_type": "stream",
          "text": [
            "<class 'pandas.core.frame.DataFrame'>\n",
            "RangeIndex: 178 entries, 0 to 177\n",
            "Data columns (total 13 columns):\n",
            " #   Column                        Non-Null Count  Dtype  \n",
            "---  ------                        --------------  -----  \n",
            " 0   alcohol                       178 non-null    float64\n",
            " 1   malic_acid                    178 non-null    float64\n",
            " 2   ash                           178 non-null    float64\n",
            " 3   alcalinity_of_ash             178 non-null    float64\n",
            " 4   magnesium                     178 non-null    float64\n",
            " 5   total_phenols                 178 non-null    float64\n",
            " 6   flavanoids                    178 non-null    float64\n",
            " 7   nonflavanoid_phenols          178 non-null    float64\n",
            " 8   proanthocyanins               178 non-null    float64\n",
            " 9   color_intensity               178 non-null    float64\n",
            " 10  hue                           178 non-null    float64\n",
            " 11  od280/od315_of_diluted_wines  178 non-null    float64\n",
            " 12  proline                       178 non-null    float64\n",
            "dtypes: float64(13)\n",
            "memory usage: 18.2 KB\n"
          ],
          "name": "stdout"
        }
      ]
    },
    {
      "cell_type": "markdown",
      "metadata": {
        "id": "SW5tZ4a_hDsS"
      },
      "source": [
        "*Как видно из этой информации, данная таблица не содержит пропущенных значений.*"
      ]
    },
    {
      "cell_type": "markdown",
      "metadata": {
        "id": "OUtCFk5znRft"
      },
      "source": [
        "### 7). Добавьте в датафрейм поле с классами вин в виде чисел, имеющих тип данных numpy.int64. Название поля - 'target'."
      ]
    },
    {
      "cell_type": "code",
      "metadata": {
        "colab": {
          "base_uri": "https://localhost:8080/"
        },
        "id": "7DksS-nGhDsT",
        "outputId": "2cfb408b-b5f7-4e16-d86c-dcd9f8746341"
      },
      "source": [
        "X = X.assign(target=data['target'])\n",
        "X['target'] = X['target'].astype(np.int64)\n",
        "X.info()"
      ],
      "execution_count": 68,
      "outputs": [
        {
          "output_type": "stream",
          "text": [
            "<class 'pandas.core.frame.DataFrame'>\n",
            "RangeIndex: 178 entries, 0 to 177\n",
            "Data columns (total 14 columns):\n",
            " #   Column                        Non-Null Count  Dtype  \n",
            "---  ------                        --------------  -----  \n",
            " 0   alcohol                       178 non-null    float64\n",
            " 1   malic_acid                    178 non-null    float64\n",
            " 2   ash                           178 non-null    float64\n",
            " 3   alcalinity_of_ash             178 non-null    float64\n",
            " 4   magnesium                     178 non-null    float64\n",
            " 5   total_phenols                 178 non-null    float64\n",
            " 6   flavanoids                    178 non-null    float64\n",
            " 7   nonflavanoid_phenols          178 non-null    float64\n",
            " 8   proanthocyanins               178 non-null    float64\n",
            " 9   color_intensity               178 non-null    float64\n",
            " 10  hue                           178 non-null    float64\n",
            " 11  od280/od315_of_diluted_wines  178 non-null    float64\n",
            " 12  proline                       178 non-null    float64\n",
            " 13  target                        178 non-null    int64  \n",
            "dtypes: float64(13), int64(1)\n",
            "memory usage: 19.6 KB\n"
          ],
          "name": "stdout"
        }
      ]
    },
    {
      "cell_type": "markdown",
      "metadata": {
        "id": "qwn1rBDmnRft"
      },
      "source": [
        "### 8). Постройте матрицу корреляций для всех полей X. Дайте полученному датафрейму название X_corr."
      ]
    },
    {
      "cell_type": "code",
      "metadata": {
        "colab": {
          "base_uri": "https://localhost:8080/",
          "height": 682
        },
        "id": "HKZd696whDsU",
        "outputId": "925dac92-5256-4b55-ce6f-7c1d891202d3"
      },
      "source": [
        "import matplotlib.pyplot as plt\n",
        "import seaborn as sns\n",
        "%matplotlib inline\n",
        "%config InlineBackend.figure_format = 'svg'\n",
        "\n",
        "plt.figure(figsize = (10,5))\n",
        "\n",
        "sns.set(font_scale=1)\n",
        "\n",
        "X_corr = X.corr()\n",
        "X_corr = np.round(X_corr, 2)\n",
        "X_corr[np.abs(X_corr) < 0.25] = 0\n",
        "\n",
        "sns.heatmap(X_corr, annot=True, linewidths=.5, cmap='coolwarm')\n",
        "\n",
        "plt.title('Correlation matrix')\n",
        "plt.show()"
      ],
      "execution_count": 69,
      "outputs": [
        {
          "output_type": "display_data",
          "data": {
            "text/plain": [
              "<Figure size 720x360 with 2 Axes>"
            ],
            "image/svg+xml": "<?xml version=\"1.0\" encoding=\"utf-8\" standalone=\"no\"?>\n<!DOCTYPE svg PUBLIC \"-//W3C//DTD SVG 1.1//EN\"\n  \"http://www.w3.org/Graphics/SVG/1.1/DTD/svg11.dtd\">\n<!-- Created with matplotlib (https://matplotlib.org/) -->\n<svg height=\"480.699375pt\" version=\"1.1\" viewBox=\"0 0 724.881094 480.699375\" width=\"724.881094pt\" xmlns=\"http://www.w3.org/2000/svg\" xmlns:xlink=\"http://www.w3.org/1999/xlink\">\n <defs>\n  <style type=\"text/css\">\n*{stroke-linecap:butt;stroke-linejoin:round;}\n  </style>\n </defs>\n <g id=\"figure_1\">\n  <g id=\"patch_1\">\n   <path d=\"M 0 480.699375 \nL 724.881094 480.699375 \nL 724.881094 -0 \nL 0 -0 \nz\n\" style=\"fill:none;\"/>\n  </g>\n  <g id=\"axes_1\">\n   <g id=\"patch_2\">\n    <path d=\"M 186.58125 294.118125 \nL 632.98125 294.118125 \nL 632.98125 22.318125 \nL 186.58125 22.318125 \nz\n\" style=\"fill:#eaeaf2;\"/>\n   </g>\n   <g id=\"matplotlib.axis_1\">\n    <g id=\"xtick_1\">\n     <g id=\"text_1\">\n      <!-- alcohol -->\n      <defs>\n       <path d=\"M 34.28125 27.484375 \nQ 23.390625 27.484375 19.1875 25 \nQ 14.984375 22.515625 14.984375 16.5 \nQ 14.984375 11.71875 18.140625 8.90625 \nQ 21.296875 6.109375 26.703125 6.109375 \nQ 34.1875 6.109375 38.703125 11.40625 \nQ 43.21875 16.703125 43.21875 25.484375 \nL 43.21875 27.484375 \nz\nM 52.203125 31.203125 \nL 52.203125 0 \nL 43.21875 0 \nL 43.21875 8.296875 \nQ 40.140625 3.328125 35.546875 0.953125 \nQ 30.953125 -1.421875 24.3125 -1.421875 \nQ 15.921875 -1.421875 10.953125 3.296875 \nQ 6 8.015625 6 15.921875 \nQ 6 25.140625 12.171875 29.828125 \nQ 18.359375 34.515625 30.609375 34.515625 \nL 43.21875 34.515625 \nL 43.21875 35.40625 \nQ 43.21875 41.609375 39.140625 45 \nQ 35.0625 48.390625 27.6875 48.390625 \nQ 23 48.390625 18.546875 47.265625 \nQ 14.109375 46.140625 10.015625 43.890625 \nL 10.015625 52.203125 \nQ 14.9375 54.109375 19.578125 55.046875 \nQ 24.21875 56 28.609375 56 \nQ 40.484375 56 46.34375 49.84375 \nQ 52.203125 43.703125 52.203125 31.203125 \nz\n\" id=\"DejaVuSans-97\"/>\n       <path d=\"M 9.421875 75.984375 \nL 18.40625 75.984375 \nL 18.40625 0 \nL 9.421875 0 \nz\n\" id=\"DejaVuSans-108\"/>\n       <path d=\"M 48.78125 52.59375 \nL 48.78125 44.1875 \nQ 44.96875 46.296875 41.140625 47.34375 \nQ 37.3125 48.390625 33.40625 48.390625 \nQ 24.65625 48.390625 19.8125 42.84375 \nQ 14.984375 37.3125 14.984375 27.296875 \nQ 14.984375 17.28125 19.8125 11.734375 \nQ 24.65625 6.203125 33.40625 6.203125 \nQ 37.3125 6.203125 41.140625 7.25 \nQ 44.96875 8.296875 48.78125 10.40625 \nL 48.78125 2.09375 \nQ 45.015625 0.34375 40.984375 -0.53125 \nQ 36.96875 -1.421875 32.421875 -1.421875 \nQ 20.0625 -1.421875 12.78125 6.34375 \nQ 5.515625 14.109375 5.515625 27.296875 \nQ 5.515625 40.671875 12.859375 48.328125 \nQ 20.21875 56 33.015625 56 \nQ 37.15625 56 41.109375 55.140625 \nQ 45.0625 54.296875 48.78125 52.59375 \nz\n\" id=\"DejaVuSans-99\"/>\n       <path d=\"M 30.609375 48.390625 \nQ 23.390625 48.390625 19.1875 42.75 \nQ 14.984375 37.109375 14.984375 27.296875 \nQ 14.984375 17.484375 19.15625 11.84375 \nQ 23.34375 6.203125 30.609375 6.203125 \nQ 37.796875 6.203125 41.984375 11.859375 \nQ 46.1875 17.53125 46.1875 27.296875 \nQ 46.1875 37.015625 41.984375 42.703125 \nQ 37.796875 48.390625 30.609375 48.390625 \nz\nM 30.609375 56 \nQ 42.328125 56 49.015625 48.375 \nQ 55.71875 40.765625 55.71875 27.296875 \nQ 55.71875 13.875 49.015625 6.21875 \nQ 42.328125 -1.421875 30.609375 -1.421875 \nQ 18.84375 -1.421875 12.171875 6.21875 \nQ 5.515625 13.875 5.515625 27.296875 \nQ 5.515625 40.765625 12.171875 48.375 \nQ 18.84375 56 30.609375 56 \nz\n\" id=\"DejaVuSans-111\"/>\n       <path d=\"M 54.890625 33.015625 \nL 54.890625 0 \nL 45.90625 0 \nL 45.90625 32.71875 \nQ 45.90625 40.484375 42.875 44.328125 \nQ 39.84375 48.1875 33.796875 48.1875 \nQ 26.515625 48.1875 22.3125 43.546875 \nQ 18.109375 38.921875 18.109375 30.90625 \nL 18.109375 0 \nL 9.078125 0 \nL 9.078125 75.984375 \nL 18.109375 75.984375 \nL 18.109375 46.1875 \nQ 21.34375 51.125 25.703125 53.5625 \nQ 30.078125 56 35.796875 56 \nQ 45.21875 56 50.046875 50.171875 \nQ 54.890625 44.34375 54.890625 33.015625 \nz\n\" id=\"DejaVuSans-104\"/>\n      </defs>\n      <g style=\"fill:#262626;\" transform=\"translate(205.55942 342.951719)rotate(-90)scale(0.11 -0.11)\">\n       <use xlink:href=\"#DejaVuSans-97\"/>\n       <use x=\"61.279297\" xlink:href=\"#DejaVuSans-108\"/>\n       <use x=\"89.0625\" xlink:href=\"#DejaVuSans-99\"/>\n       <use x=\"144.042969\" xlink:href=\"#DejaVuSans-111\"/>\n       <use x=\"205.224609\" xlink:href=\"#DejaVuSans-104\"/>\n       <use x=\"268.603516\" xlink:href=\"#DejaVuSans-111\"/>\n       <use x=\"329.785156\" xlink:href=\"#DejaVuSans-108\"/>\n      </g>\n     </g>\n    </g>\n    <g id=\"xtick_2\">\n     <g id=\"text_2\">\n      <!-- malic_acid -->\n      <defs>\n       <path d=\"M 52 44.1875 \nQ 55.375 50.25 60.0625 53.125 \nQ 64.75 56 71.09375 56 \nQ 79.640625 56 84.28125 50.015625 \nQ 88.921875 44.046875 88.921875 33.015625 \nL 88.921875 0 \nL 79.890625 0 \nL 79.890625 32.71875 \nQ 79.890625 40.578125 77.09375 44.375 \nQ 74.3125 48.1875 68.609375 48.1875 \nQ 61.625 48.1875 57.5625 43.546875 \nQ 53.515625 38.921875 53.515625 30.90625 \nL 53.515625 0 \nL 44.484375 0 \nL 44.484375 32.71875 \nQ 44.484375 40.625 41.703125 44.40625 \nQ 38.921875 48.1875 33.109375 48.1875 \nQ 26.21875 48.1875 22.15625 43.53125 \nQ 18.109375 38.875 18.109375 30.90625 \nL 18.109375 0 \nL 9.078125 0 \nL 9.078125 54.6875 \nL 18.109375 54.6875 \nL 18.109375 46.1875 \nQ 21.1875 51.21875 25.484375 53.609375 \nQ 29.78125 56 35.6875 56 \nQ 41.65625 56 45.828125 52.96875 \nQ 50 49.953125 52 44.1875 \nz\n\" id=\"DejaVuSans-109\"/>\n       <path d=\"M 9.421875 54.6875 \nL 18.40625 54.6875 \nL 18.40625 0 \nL 9.421875 0 \nz\nM 9.421875 75.984375 \nL 18.40625 75.984375 \nL 18.40625 64.59375 \nL 9.421875 64.59375 \nz\n\" id=\"DejaVuSans-105\"/>\n       <path d=\"M 50.984375 -16.609375 \nL 50.984375 -23.578125 \nL -0.984375 -23.578125 \nL -0.984375 -16.609375 \nz\n\" id=\"DejaVuSans-95\"/>\n       <path d=\"M 45.40625 46.390625 \nL 45.40625 75.984375 \nL 54.390625 75.984375 \nL 54.390625 0 \nL 45.40625 0 \nL 45.40625 8.203125 \nQ 42.578125 3.328125 38.25 0.953125 \nQ 33.9375 -1.421875 27.875 -1.421875 \nQ 17.96875 -1.421875 11.734375 6.484375 \nQ 5.515625 14.40625 5.515625 27.296875 \nQ 5.515625 40.1875 11.734375 48.09375 \nQ 17.96875 56 27.875 56 \nQ 33.9375 56 38.25 53.625 \nQ 42.578125 51.265625 45.40625 46.390625 \nz\nM 14.796875 27.296875 \nQ 14.796875 17.390625 18.875 11.75 \nQ 22.953125 6.109375 30.078125 6.109375 \nQ 37.203125 6.109375 41.296875 11.75 \nQ 45.40625 17.390625 45.40625 27.296875 \nQ 45.40625 37.203125 41.296875 42.84375 \nQ 37.203125 48.484375 30.078125 48.484375 \nQ 22.953125 48.484375 18.875 42.84375 \nQ 14.796875 37.203125 14.796875 27.296875 \nz\n\" id=\"DejaVuSans-100\"/>\n      </defs>\n      <g style=\"fill:#262626;\" transform=\"translate(237.292165 361.562344)rotate(-90)scale(0.11 -0.11)\">\n       <use xlink:href=\"#DejaVuSans-109\"/>\n       <use x=\"97.412109\" xlink:href=\"#DejaVuSans-97\"/>\n       <use x=\"158.691406\" xlink:href=\"#DejaVuSans-108\"/>\n       <use x=\"186.474609\" xlink:href=\"#DejaVuSans-105\"/>\n       <use x=\"214.257812\" xlink:href=\"#DejaVuSans-99\"/>\n       <use x=\"269.238281\" xlink:href=\"#DejaVuSans-95\"/>\n       <use x=\"319.238281\" xlink:href=\"#DejaVuSans-97\"/>\n       <use x=\"380.517578\" xlink:href=\"#DejaVuSans-99\"/>\n       <use x=\"435.498047\" xlink:href=\"#DejaVuSans-105\"/>\n       <use x=\"463.28125\" xlink:href=\"#DejaVuSans-100\"/>\n      </g>\n     </g>\n    </g>\n    <g id=\"xtick_3\">\n     <g id=\"text_3\">\n      <!-- ash -->\n      <defs>\n       <path d=\"M 44.28125 53.078125 \nL 44.28125 44.578125 \nQ 40.484375 46.53125 36.375 47.5 \nQ 32.28125 48.484375 27.875 48.484375 \nQ 21.1875 48.484375 17.84375 46.4375 \nQ 14.5 44.390625 14.5 40.28125 \nQ 14.5 37.15625 16.890625 35.375 \nQ 19.28125 33.59375 26.515625 31.984375 \nL 29.59375 31.296875 \nQ 39.15625 29.25 43.1875 25.515625 \nQ 47.21875 21.78125 47.21875 15.09375 \nQ 47.21875 7.46875 41.1875 3.015625 \nQ 35.15625 -1.421875 24.609375 -1.421875 \nQ 20.21875 -1.421875 15.453125 -0.5625 \nQ 10.6875 0.296875 5.421875 2 \nL 5.421875 11.28125 \nQ 10.40625 8.6875 15.234375 7.390625 \nQ 20.0625 6.109375 24.8125 6.109375 \nQ 31.15625 6.109375 34.5625 8.28125 \nQ 37.984375 10.453125 37.984375 14.40625 \nQ 37.984375 18.0625 35.515625 20.015625 \nQ 33.0625 21.96875 24.703125 23.78125 \nL 21.578125 24.515625 \nQ 13.234375 26.265625 9.515625 29.90625 \nQ 5.8125 33.546875 5.8125 39.890625 \nQ 5.8125 47.609375 11.28125 51.796875 \nQ 16.75 56 26.8125 56 \nQ 31.78125 56 36.171875 55.265625 \nQ 40.578125 54.546875 44.28125 53.078125 \nz\n\" id=\"DejaVuSans-115\"/>\n      </defs>\n      <g style=\"fill:#262626;\" transform=\"translate(269.330848 323.060625)rotate(-90)scale(0.11 -0.11)\">\n       <use xlink:href=\"#DejaVuSans-97\"/>\n       <use x=\"61.279297\" xlink:href=\"#DejaVuSans-115\"/>\n       <use x=\"113.378906\" xlink:href=\"#DejaVuSans-104\"/>\n      </g>\n     </g>\n    </g>\n    <g id=\"xtick_4\">\n     <g id=\"text_4\">\n      <!-- alcalinity_of_ash -->\n      <defs>\n       <path d=\"M 54.890625 33.015625 \nL 54.890625 0 \nL 45.90625 0 \nL 45.90625 32.71875 \nQ 45.90625 40.484375 42.875 44.328125 \nQ 39.84375 48.1875 33.796875 48.1875 \nQ 26.515625 48.1875 22.3125 43.546875 \nQ 18.109375 38.921875 18.109375 30.90625 \nL 18.109375 0 \nL 9.078125 0 \nL 9.078125 54.6875 \nL 18.109375 54.6875 \nL 18.109375 46.1875 \nQ 21.34375 51.125 25.703125 53.5625 \nQ 30.078125 56 35.796875 56 \nQ 45.21875 56 50.046875 50.171875 \nQ 54.890625 44.34375 54.890625 33.015625 \nz\n\" id=\"DejaVuSans-110\"/>\n       <path d=\"M 18.3125 70.21875 \nL 18.3125 54.6875 \nL 36.8125 54.6875 \nL 36.8125 47.703125 \nL 18.3125 47.703125 \nL 18.3125 18.015625 \nQ 18.3125 11.328125 20.140625 9.421875 \nQ 21.96875 7.515625 27.59375 7.515625 \nL 36.8125 7.515625 \nL 36.8125 0 \nL 27.59375 0 \nQ 17.1875 0 13.234375 3.875 \nQ 9.28125 7.765625 9.28125 18.015625 \nL 9.28125 47.703125 \nL 2.6875 47.703125 \nL 2.6875 54.6875 \nL 9.28125 54.6875 \nL 9.28125 70.21875 \nz\n\" id=\"DejaVuSans-116\"/>\n       <path d=\"M 32.171875 -5.078125 \nQ 28.375 -14.84375 24.75 -17.8125 \nQ 21.140625 -20.796875 15.09375 -20.796875 \nL 7.90625 -20.796875 \nL 7.90625 -13.28125 \nL 13.1875 -13.28125 \nQ 16.890625 -13.28125 18.9375 -11.515625 \nQ 21 -9.765625 23.484375 -3.21875 \nL 25.09375 0.875 \nL 2.984375 54.6875 \nL 12.5 54.6875 \nL 29.59375 11.921875 \nL 46.6875 54.6875 \nL 56.203125 54.6875 \nz\n\" id=\"DejaVuSans-121\"/>\n       <path d=\"M 37.109375 75.984375 \nL 37.109375 68.5 \nL 28.515625 68.5 \nQ 23.6875 68.5 21.796875 66.546875 \nQ 19.921875 64.59375 19.921875 59.515625 \nL 19.921875 54.6875 \nL 34.71875 54.6875 \nL 34.71875 47.703125 \nL 19.921875 47.703125 \nL 19.921875 0 \nL 10.890625 0 \nL 10.890625 47.703125 \nL 2.296875 47.703125 \nL 2.296875 54.6875 \nL 10.890625 54.6875 \nL 10.890625 58.5 \nQ 10.890625 67.625 15.140625 71.796875 \nQ 19.390625 75.984375 28.609375 75.984375 \nz\n\" id=\"DejaVuSans-102\"/>\n      </defs>\n      <g style=\"fill:#262626;\" transform=\"translate(301.063594 394.211719)rotate(-90)scale(0.11 -0.11)\">\n       <use xlink:href=\"#DejaVuSans-97\"/>\n       <use x=\"61.279297\" xlink:href=\"#DejaVuSans-108\"/>\n       <use x=\"89.0625\" xlink:href=\"#DejaVuSans-99\"/>\n       <use x=\"144.042969\" xlink:href=\"#DejaVuSans-97\"/>\n       <use x=\"205.322266\" xlink:href=\"#DejaVuSans-108\"/>\n       <use x=\"233.105469\" xlink:href=\"#DejaVuSans-105\"/>\n       <use x=\"260.888672\" xlink:href=\"#DejaVuSans-110\"/>\n       <use x=\"324.267578\" xlink:href=\"#DejaVuSans-105\"/>\n       <use x=\"352.050781\" xlink:href=\"#DejaVuSans-116\"/>\n       <use x=\"391.259766\" xlink:href=\"#DejaVuSans-121\"/>\n       <use x=\"450.439453\" xlink:href=\"#DejaVuSans-95\"/>\n       <use x=\"500.439453\" xlink:href=\"#DejaVuSans-111\"/>\n       <use x=\"561.621094\" xlink:href=\"#DejaVuSans-102\"/>\n       <use x=\"596.826172\" xlink:href=\"#DejaVuSans-95\"/>\n       <use x=\"646.826172\" xlink:href=\"#DejaVuSans-97\"/>\n       <use x=\"708.105469\" xlink:href=\"#DejaVuSans-115\"/>\n       <use x=\"760.205078\" xlink:href=\"#DejaVuSans-104\"/>\n      </g>\n     </g>\n    </g>\n    <g id=\"xtick_5\">\n     <g id=\"text_5\">\n      <!-- magnesium -->\n      <defs>\n       <path d=\"M 45.40625 27.984375 \nQ 45.40625 37.75 41.375 43.109375 \nQ 37.359375 48.484375 30.078125 48.484375 \nQ 22.859375 48.484375 18.828125 43.109375 \nQ 14.796875 37.75 14.796875 27.984375 \nQ 14.796875 18.265625 18.828125 12.890625 \nQ 22.859375 7.515625 30.078125 7.515625 \nQ 37.359375 7.515625 41.375 12.890625 \nQ 45.40625 18.265625 45.40625 27.984375 \nz\nM 54.390625 6.78125 \nQ 54.390625 -7.171875 48.1875 -13.984375 \nQ 42 -20.796875 29.203125 -20.796875 \nQ 24.46875 -20.796875 20.265625 -20.09375 \nQ 16.0625 -19.390625 12.109375 -17.921875 \nL 12.109375 -9.1875 \nQ 16.0625 -11.328125 19.921875 -12.34375 \nQ 23.78125 -13.375 27.78125 -13.375 \nQ 36.625 -13.375 41.015625 -8.765625 \nQ 45.40625 -4.15625 45.40625 5.171875 \nL 45.40625 9.625 \nQ 42.625 4.78125 38.28125 2.390625 \nQ 33.9375 0 27.875 0 \nQ 17.828125 0 11.671875 7.65625 \nQ 5.515625 15.328125 5.515625 27.984375 \nQ 5.515625 40.671875 11.671875 48.328125 \nQ 17.828125 56 27.875 56 \nQ 33.9375 56 38.28125 53.609375 \nQ 42.625 51.21875 45.40625 46.390625 \nL 45.40625 54.6875 \nL 54.390625 54.6875 \nz\n\" id=\"DejaVuSans-103\"/>\n       <path d=\"M 56.203125 29.59375 \nL 56.203125 25.203125 \nL 14.890625 25.203125 \nQ 15.484375 15.921875 20.484375 11.0625 \nQ 25.484375 6.203125 34.421875 6.203125 \nQ 39.59375 6.203125 44.453125 7.46875 \nQ 49.3125 8.734375 54.109375 11.28125 \nL 54.109375 2.78125 \nQ 49.265625 0.734375 44.1875 -0.34375 \nQ 39.109375 -1.421875 33.890625 -1.421875 \nQ 20.796875 -1.421875 13.15625 6.1875 \nQ 5.515625 13.8125 5.515625 26.8125 \nQ 5.515625 40.234375 12.765625 48.109375 \nQ 20.015625 56 32.328125 56 \nQ 43.359375 56 49.78125 48.890625 \nQ 56.203125 41.796875 56.203125 29.59375 \nz\nM 47.21875 32.234375 \nQ 47.125 39.59375 43.09375 43.984375 \nQ 39.0625 48.390625 32.421875 48.390625 \nQ 24.90625 48.390625 20.390625 44.140625 \nQ 15.875 39.890625 15.1875 32.171875 \nz\n\" id=\"DejaVuSans-101\"/>\n       <path d=\"M 8.5 21.578125 \nL 8.5 54.6875 \nL 17.484375 54.6875 \nL 17.484375 21.921875 \nQ 17.484375 14.15625 20.5 10.265625 \nQ 23.53125 6.390625 29.59375 6.390625 \nQ 36.859375 6.390625 41.078125 11.03125 \nQ 45.3125 15.671875 45.3125 23.6875 \nL 45.3125 54.6875 \nL 54.296875 54.6875 \nL 54.296875 0 \nL 45.3125 0 \nL 45.3125 8.40625 \nQ 42.046875 3.421875 37.71875 1 \nQ 33.40625 -1.421875 27.6875 -1.421875 \nQ 18.265625 -1.421875 13.375 4.4375 \nQ 8.5 10.296875 8.5 21.578125 \nz\nM 31.109375 56 \nz\n\" id=\"DejaVuSans-117\"/>\n      </defs>\n      <g style=\"fill:#262626;\" transform=\"translate(333.102277 368.268906)rotate(-90)scale(0.11 -0.11)\">\n       <use xlink:href=\"#DejaVuSans-109\"/>\n       <use x=\"97.412109\" xlink:href=\"#DejaVuSans-97\"/>\n       <use x=\"158.691406\" xlink:href=\"#DejaVuSans-103\"/>\n       <use x=\"222.167969\" xlink:href=\"#DejaVuSans-110\"/>\n       <use x=\"285.546875\" xlink:href=\"#DejaVuSans-101\"/>\n       <use x=\"347.070312\" xlink:href=\"#DejaVuSans-115\"/>\n       <use x=\"399.169922\" xlink:href=\"#DejaVuSans-105\"/>\n       <use x=\"426.953125\" xlink:href=\"#DejaVuSans-117\"/>\n       <use x=\"490.332031\" xlink:href=\"#DejaVuSans-109\"/>\n      </g>\n     </g>\n    </g>\n    <g id=\"xtick_6\">\n     <g id=\"text_6\">\n      <!-- total_phenols -->\n      <defs>\n       <path d=\"M 18.109375 8.203125 \nL 18.109375 -20.796875 \nL 9.078125 -20.796875 \nL 9.078125 54.6875 \nL 18.109375 54.6875 \nL 18.109375 46.390625 \nQ 20.953125 51.265625 25.265625 53.625 \nQ 29.59375 56 35.59375 56 \nQ 45.5625 56 51.78125 48.09375 \nQ 58.015625 40.1875 58.015625 27.296875 \nQ 58.015625 14.40625 51.78125 6.484375 \nQ 45.5625 -1.421875 35.59375 -1.421875 \nQ 29.59375 -1.421875 25.265625 0.953125 \nQ 20.953125 3.328125 18.109375 8.203125 \nz\nM 48.6875 27.296875 \nQ 48.6875 37.203125 44.609375 42.84375 \nQ 40.53125 48.484375 33.40625 48.484375 \nQ 26.265625 48.484375 22.1875 42.84375 \nQ 18.109375 37.203125 18.109375 27.296875 \nQ 18.109375 17.390625 22.1875 11.75 \nQ 26.265625 6.109375 33.40625 6.109375 \nQ 40.53125 6.109375 44.609375 11.75 \nQ 48.6875 17.390625 48.6875 27.296875 \nz\n\" id=\"DejaVuSans-112\"/>\n      </defs>\n      <g style=\"fill:#262626;\" transform=\"translate(364.835022 377.481406)rotate(-90)scale(0.11 -0.11)\">\n       <use xlink:href=\"#DejaVuSans-116\"/>\n       <use x=\"39.208984\" xlink:href=\"#DejaVuSans-111\"/>\n       <use x=\"100.390625\" xlink:href=\"#DejaVuSans-116\"/>\n       <use x=\"139.599609\" xlink:href=\"#DejaVuSans-97\"/>\n       <use x=\"200.878906\" xlink:href=\"#DejaVuSans-108\"/>\n       <use x=\"228.662109\" xlink:href=\"#DejaVuSans-95\"/>\n       <use x=\"278.662109\" xlink:href=\"#DejaVuSans-112\"/>\n       <use x=\"342.138672\" xlink:href=\"#DejaVuSans-104\"/>\n       <use x=\"405.517578\" xlink:href=\"#DejaVuSans-101\"/>\n       <use x=\"467.041016\" xlink:href=\"#DejaVuSans-110\"/>\n       <use x=\"530.419922\" xlink:href=\"#DejaVuSans-111\"/>\n       <use x=\"591.601562\" xlink:href=\"#DejaVuSans-108\"/>\n       <use x=\"619.384766\" xlink:href=\"#DejaVuSans-115\"/>\n      </g>\n     </g>\n    </g>\n    <g id=\"xtick_7\">\n     <g id=\"text_7\">\n      <!-- flavanoids -->\n      <defs>\n       <path d=\"M 2.984375 54.6875 \nL 12.5 54.6875 \nL 29.59375 8.796875 \nL 46.6875 54.6875 \nL 56.203125 54.6875 \nL 35.6875 0 \nL 23.484375 0 \nz\n\" id=\"DejaVuSans-118\"/>\n      </defs>\n      <g style=\"fill:#262626;\" transform=\"translate(396.873705 360.010312)rotate(-90)scale(0.11 -0.11)\">\n       <use xlink:href=\"#DejaVuSans-102\"/>\n       <use x=\"35.205078\" xlink:href=\"#DejaVuSans-108\"/>\n       <use x=\"62.988281\" xlink:href=\"#DejaVuSans-97\"/>\n       <use x=\"124.267578\" xlink:href=\"#DejaVuSans-118\"/>\n       <use x=\"183.447266\" xlink:href=\"#DejaVuSans-97\"/>\n       <use x=\"244.726562\" xlink:href=\"#DejaVuSans-110\"/>\n       <use x=\"308.105469\" xlink:href=\"#DejaVuSans-111\"/>\n       <use x=\"369.287109\" xlink:href=\"#DejaVuSans-105\"/>\n       <use x=\"397.070312\" xlink:href=\"#DejaVuSans-100\"/>\n       <use x=\"460.546875\" xlink:href=\"#DejaVuSans-115\"/>\n      </g>\n     </g>\n    </g>\n    <g id=\"xtick_8\">\n     <g id=\"text_8\">\n      <!-- nonflavanoid_phenols -->\n      <g style=\"fill:#262626;\" transform=\"translate(428.606451 423.664219)rotate(-90)scale(0.11 -0.11)\">\n       <use xlink:href=\"#DejaVuSans-110\"/>\n       <use x=\"63.378906\" xlink:href=\"#DejaVuSans-111\"/>\n       <use x=\"124.560547\" xlink:href=\"#DejaVuSans-110\"/>\n       <use x=\"187.939453\" xlink:href=\"#DejaVuSans-102\"/>\n       <use x=\"223.144531\" xlink:href=\"#DejaVuSans-108\"/>\n       <use x=\"250.927734\" xlink:href=\"#DejaVuSans-97\"/>\n       <use x=\"312.207031\" xlink:href=\"#DejaVuSans-118\"/>\n       <use x=\"371.386719\" xlink:href=\"#DejaVuSans-97\"/>\n       <use x=\"432.666016\" xlink:href=\"#DejaVuSans-110\"/>\n       <use x=\"496.044922\" xlink:href=\"#DejaVuSans-111\"/>\n       <use x=\"557.226562\" xlink:href=\"#DejaVuSans-105\"/>\n       <use x=\"585.009766\" xlink:href=\"#DejaVuSans-100\"/>\n       <use x=\"648.486328\" xlink:href=\"#DejaVuSans-95\"/>\n       <use x=\"698.486328\" xlink:href=\"#DejaVuSans-112\"/>\n       <use x=\"761.962891\" xlink:href=\"#DejaVuSans-104\"/>\n       <use x=\"825.341797\" xlink:href=\"#DejaVuSans-101\"/>\n       <use x=\"886.865234\" xlink:href=\"#DejaVuSans-110\"/>\n       <use x=\"950.244141\" xlink:href=\"#DejaVuSans-111\"/>\n       <use x=\"1011.425781\" xlink:href=\"#DejaVuSans-108\"/>\n       <use x=\"1039.208984\" xlink:href=\"#DejaVuSans-115\"/>\n      </g>\n     </g>\n    </g>\n    <g id=\"xtick_9\">\n     <g id=\"text_9\">\n      <!-- proanthocyanins -->\n      <defs>\n       <path d=\"M 41.109375 46.296875 \nQ 39.59375 47.171875 37.8125 47.578125 \nQ 36.03125 48 33.890625 48 \nQ 26.265625 48 22.1875 43.046875 \nQ 18.109375 38.09375 18.109375 28.8125 \nL 18.109375 0 \nL 9.078125 0 \nL 9.078125 54.6875 \nL 18.109375 54.6875 \nL 18.109375 46.1875 \nQ 20.953125 51.171875 25.484375 53.578125 \nQ 30.03125 56 36.53125 56 \nQ 37.453125 56 38.578125 55.875 \nQ 39.703125 55.765625 41.0625 55.515625 \nz\n\" id=\"DejaVuSans-114\"/>\n      </defs>\n      <g style=\"fill:#262626;\" transform=\"translate(460.645134 395.361562)rotate(-90)scale(0.11 -0.11)\">\n       <use xlink:href=\"#DejaVuSans-112\"/>\n       <use x=\"63.476562\" xlink:href=\"#DejaVuSans-114\"/>\n       <use x=\"102.339844\" xlink:href=\"#DejaVuSans-111\"/>\n       <use x=\"163.521484\" xlink:href=\"#DejaVuSans-97\"/>\n       <use x=\"224.800781\" xlink:href=\"#DejaVuSans-110\"/>\n       <use x=\"288.179688\" xlink:href=\"#DejaVuSans-116\"/>\n       <use x=\"327.388672\" xlink:href=\"#DejaVuSans-104\"/>\n       <use x=\"390.767578\" xlink:href=\"#DejaVuSans-111\"/>\n       <use x=\"451.949219\" xlink:href=\"#DejaVuSans-99\"/>\n       <use x=\"506.929688\" xlink:href=\"#DejaVuSans-121\"/>\n       <use x=\"566.109375\" xlink:href=\"#DejaVuSans-97\"/>\n       <use x=\"627.388672\" xlink:href=\"#DejaVuSans-110\"/>\n       <use x=\"690.767578\" xlink:href=\"#DejaVuSans-105\"/>\n       <use x=\"718.550781\" xlink:href=\"#DejaVuSans-110\"/>\n       <use x=\"781.929688\" xlink:href=\"#DejaVuSans-115\"/>\n      </g>\n     </g>\n    </g>\n    <g id=\"xtick_10\">\n     <g id=\"text_10\">\n      <!-- color_intensity -->\n      <g style=\"fill:#262626;\" transform=\"translate(492.377879 383.894063)rotate(-90)scale(0.11 -0.11)\">\n       <use xlink:href=\"#DejaVuSans-99\"/>\n       <use x=\"54.980469\" xlink:href=\"#DejaVuSans-111\"/>\n       <use x=\"116.162109\" xlink:href=\"#DejaVuSans-108\"/>\n       <use x=\"143.945312\" xlink:href=\"#DejaVuSans-111\"/>\n       <use x=\"205.126953\" xlink:href=\"#DejaVuSans-114\"/>\n       <use x=\"246.240234\" xlink:href=\"#DejaVuSans-95\"/>\n       <use x=\"296.240234\" xlink:href=\"#DejaVuSans-105\"/>\n       <use x=\"324.023438\" xlink:href=\"#DejaVuSans-110\"/>\n       <use x=\"387.402344\" xlink:href=\"#DejaVuSans-116\"/>\n       <use x=\"426.611328\" xlink:href=\"#DejaVuSans-101\"/>\n       <use x=\"488.134766\" xlink:href=\"#DejaVuSans-110\"/>\n       <use x=\"551.513672\" xlink:href=\"#DejaVuSans-115\"/>\n       <use x=\"603.613281\" xlink:href=\"#DejaVuSans-105\"/>\n       <use x=\"631.396484\" xlink:href=\"#DejaVuSans-116\"/>\n       <use x=\"670.605469\" xlink:href=\"#DejaVuSans-121\"/>\n      </g>\n     </g>\n    </g>\n    <g id=\"xtick_11\">\n     <g id=\"text_11\">\n      <!-- hue -->\n      <g style=\"fill:#262626;\" transform=\"translate(524.416563 324.329062)rotate(-90)scale(0.11 -0.11)\">\n       <use xlink:href=\"#DejaVuSans-104\"/>\n       <use x=\"63.378906\" xlink:href=\"#DejaVuSans-117\"/>\n       <use x=\"126.757812\" xlink:href=\"#DejaVuSans-101\"/>\n      </g>\n     </g>\n    </g>\n    <g id=\"xtick_12\">\n     <g id=\"text_12\">\n      <!-- od280/od315_of_diluted_wines -->\n      <defs>\n       <path d=\"M 19.1875 8.296875 \nL 53.609375 8.296875 \nL 53.609375 0 \nL 7.328125 0 \nL 7.328125 8.296875 \nQ 12.9375 14.109375 22.625 23.890625 \nQ 32.328125 33.6875 34.8125 36.53125 \nQ 39.546875 41.84375 41.421875 45.53125 \nQ 43.3125 49.21875 43.3125 52.78125 \nQ 43.3125 58.59375 39.234375 62.25 \nQ 35.15625 65.921875 28.609375 65.921875 \nQ 23.96875 65.921875 18.8125 64.3125 \nQ 13.671875 62.703125 7.8125 59.421875 \nL 7.8125 69.390625 \nQ 13.765625 71.78125 18.9375 73 \nQ 24.125 74.21875 28.421875 74.21875 \nQ 39.75 74.21875 46.484375 68.546875 \nQ 53.21875 62.890625 53.21875 53.421875 \nQ 53.21875 48.921875 51.53125 44.890625 \nQ 49.859375 40.875 45.40625 35.40625 \nQ 44.1875 33.984375 37.640625 27.21875 \nQ 31.109375 20.453125 19.1875 8.296875 \nz\n\" id=\"DejaVuSans-50\"/>\n       <path d=\"M 31.78125 34.625 \nQ 24.75 34.625 20.71875 30.859375 \nQ 16.703125 27.09375 16.703125 20.515625 \nQ 16.703125 13.921875 20.71875 10.15625 \nQ 24.75 6.390625 31.78125 6.390625 \nQ 38.8125 6.390625 42.859375 10.171875 \nQ 46.921875 13.96875 46.921875 20.515625 \nQ 46.921875 27.09375 42.890625 30.859375 \nQ 38.875 34.625 31.78125 34.625 \nz\nM 21.921875 38.8125 \nQ 15.578125 40.375 12.03125 44.71875 \nQ 8.5 49.078125 8.5 55.328125 \nQ 8.5 64.0625 14.71875 69.140625 \nQ 20.953125 74.21875 31.78125 74.21875 \nQ 42.671875 74.21875 48.875 69.140625 \nQ 55.078125 64.0625 55.078125 55.328125 \nQ 55.078125 49.078125 51.53125 44.71875 \nQ 48 40.375 41.703125 38.8125 \nQ 48.828125 37.15625 52.796875 32.3125 \nQ 56.78125 27.484375 56.78125 20.515625 \nQ 56.78125 9.90625 50.3125 4.234375 \nQ 43.84375 -1.421875 31.78125 -1.421875 \nQ 19.734375 -1.421875 13.25 4.234375 \nQ 6.78125 9.90625 6.78125 20.515625 \nQ 6.78125 27.484375 10.78125 32.3125 \nQ 14.796875 37.15625 21.921875 38.8125 \nz\nM 18.3125 54.390625 \nQ 18.3125 48.734375 21.84375 45.5625 \nQ 25.390625 42.390625 31.78125 42.390625 \nQ 38.140625 42.390625 41.71875 45.5625 \nQ 45.3125 48.734375 45.3125 54.390625 \nQ 45.3125 60.0625 41.71875 63.234375 \nQ 38.140625 66.40625 31.78125 66.40625 \nQ 25.390625 66.40625 21.84375 63.234375 \nQ 18.3125 60.0625 18.3125 54.390625 \nz\n\" id=\"DejaVuSans-56\"/>\n       <path d=\"M 31.78125 66.40625 \nQ 24.171875 66.40625 20.328125 58.90625 \nQ 16.5 51.421875 16.5 36.375 \nQ 16.5 21.390625 20.328125 13.890625 \nQ 24.171875 6.390625 31.78125 6.390625 \nQ 39.453125 6.390625 43.28125 13.890625 \nQ 47.125 21.390625 47.125 36.375 \nQ 47.125 51.421875 43.28125 58.90625 \nQ 39.453125 66.40625 31.78125 66.40625 \nz\nM 31.78125 74.21875 \nQ 44.046875 74.21875 50.515625 64.515625 \nQ 56.984375 54.828125 56.984375 36.375 \nQ 56.984375 17.96875 50.515625 8.265625 \nQ 44.046875 -1.421875 31.78125 -1.421875 \nQ 19.53125 -1.421875 13.0625 8.265625 \nQ 6.59375 17.96875 6.59375 36.375 \nQ 6.59375 54.828125 13.0625 64.515625 \nQ 19.53125 74.21875 31.78125 74.21875 \nz\n\" id=\"DejaVuSans-48\"/>\n       <path d=\"M 25.390625 72.90625 \nL 33.6875 72.90625 \nL 8.296875 -9.28125 \nL 0 -9.28125 \nz\n\" id=\"DejaVuSans-47\"/>\n       <path d=\"M 40.578125 39.3125 \nQ 47.65625 37.796875 51.625 33 \nQ 55.609375 28.21875 55.609375 21.1875 \nQ 55.609375 10.40625 48.1875 4.484375 \nQ 40.765625 -1.421875 27.09375 -1.421875 \nQ 22.515625 -1.421875 17.65625 -0.515625 \nQ 12.796875 0.390625 7.625 2.203125 \nL 7.625 11.71875 \nQ 11.71875 9.328125 16.59375 8.109375 \nQ 21.484375 6.890625 26.8125 6.890625 \nQ 36.078125 6.890625 40.9375 10.546875 \nQ 45.796875 14.203125 45.796875 21.1875 \nQ 45.796875 27.640625 41.28125 31.265625 \nQ 36.765625 34.90625 28.71875 34.90625 \nL 20.21875 34.90625 \nL 20.21875 43.015625 \nL 29.109375 43.015625 \nQ 36.375 43.015625 40.234375 45.921875 \nQ 44.09375 48.828125 44.09375 54.296875 \nQ 44.09375 59.90625 40.109375 62.90625 \nQ 36.140625 65.921875 28.71875 65.921875 \nQ 24.65625 65.921875 20.015625 65.03125 \nQ 15.375 64.15625 9.8125 62.3125 \nL 9.8125 71.09375 \nQ 15.4375 72.65625 20.34375 73.4375 \nQ 25.25 74.21875 29.59375 74.21875 \nQ 40.828125 74.21875 47.359375 69.109375 \nQ 53.90625 64.015625 53.90625 55.328125 \nQ 53.90625 49.265625 50.4375 45.09375 \nQ 46.96875 40.921875 40.578125 39.3125 \nz\n\" id=\"DejaVuSans-51\"/>\n       <path d=\"M 12.40625 8.296875 \nL 28.515625 8.296875 \nL 28.515625 63.921875 \nL 10.984375 60.40625 \nL 10.984375 69.390625 \nL 28.421875 72.90625 \nL 38.28125 72.90625 \nL 38.28125 8.296875 \nL 54.390625 8.296875 \nL 54.390625 0 \nL 12.40625 0 \nz\n\" id=\"DejaVuSans-49\"/>\n       <path d=\"M 10.796875 72.90625 \nL 49.515625 72.90625 \nL 49.515625 64.59375 \nL 19.828125 64.59375 \nL 19.828125 46.734375 \nQ 21.96875 47.46875 24.109375 47.828125 \nQ 26.265625 48.1875 28.421875 48.1875 \nQ 40.625 48.1875 47.75 41.5 \nQ 54.890625 34.8125 54.890625 23.390625 \nQ 54.890625 11.625 47.5625 5.09375 \nQ 40.234375 -1.421875 26.90625 -1.421875 \nQ 22.3125 -1.421875 17.546875 -0.640625 \nQ 12.796875 0.140625 7.71875 1.703125 \nL 7.71875 11.625 \nQ 12.109375 9.234375 16.796875 8.0625 \nQ 21.484375 6.890625 26.703125 6.890625 \nQ 35.15625 6.890625 40.078125 11.328125 \nQ 45.015625 15.765625 45.015625 23.390625 \nQ 45.015625 31 40.078125 35.4375 \nQ 35.15625 39.890625 26.703125 39.890625 \nQ 22.75 39.890625 18.8125 39.015625 \nQ 14.890625 38.140625 10.796875 36.28125 \nz\n\" id=\"DejaVuSans-53\"/>\n       <path d=\"M 4.203125 54.6875 \nL 13.1875 54.6875 \nL 24.421875 12.015625 \nL 35.59375 54.6875 \nL 46.1875 54.6875 \nL 57.421875 12.015625 \nL 68.609375 54.6875 \nL 77.59375 54.6875 \nL 63.28125 0 \nL 52.6875 0 \nL 40.921875 44.828125 \nL 29.109375 0 \nL 18.5 0 \nz\n\" id=\"DejaVuSans-119\"/>\n      </defs>\n      <g style=\"fill:#262626;\" transform=\"translate(556.149308 473.499375)rotate(-90)scale(0.11 -0.11)\">\n       <use xlink:href=\"#DejaVuSans-111\"/>\n       <use x=\"61.181641\" xlink:href=\"#DejaVuSans-100\"/>\n       <use x=\"124.658203\" xlink:href=\"#DejaVuSans-50\"/>\n       <use x=\"188.28125\" xlink:href=\"#DejaVuSans-56\"/>\n       <use x=\"251.904297\" xlink:href=\"#DejaVuSans-48\"/>\n       <use x=\"315.527344\" xlink:href=\"#DejaVuSans-47\"/>\n       <use x=\"349.21875\" xlink:href=\"#DejaVuSans-111\"/>\n       <use x=\"410.400391\" xlink:href=\"#DejaVuSans-100\"/>\n       <use x=\"473.876953\" xlink:href=\"#DejaVuSans-51\"/>\n       <use x=\"537.5\" xlink:href=\"#DejaVuSans-49\"/>\n       <use x=\"601.123047\" xlink:href=\"#DejaVuSans-53\"/>\n       <use x=\"664.746094\" xlink:href=\"#DejaVuSans-95\"/>\n       <use x=\"714.746094\" xlink:href=\"#DejaVuSans-111\"/>\n       <use x=\"775.927734\" xlink:href=\"#DejaVuSans-102\"/>\n       <use x=\"811.132812\" xlink:href=\"#DejaVuSans-95\"/>\n       <use x=\"861.132812\" xlink:href=\"#DejaVuSans-100\"/>\n       <use x=\"924.609375\" xlink:href=\"#DejaVuSans-105\"/>\n       <use x=\"952.392578\" xlink:href=\"#DejaVuSans-108\"/>\n       <use x=\"980.175781\" xlink:href=\"#DejaVuSans-117\"/>\n       <use x=\"1043.554688\" xlink:href=\"#DejaVuSans-116\"/>\n       <use x=\"1082.763672\" xlink:href=\"#DejaVuSans-101\"/>\n       <use x=\"1144.287109\" xlink:href=\"#DejaVuSans-100\"/>\n       <use x=\"1207.763672\" xlink:href=\"#DejaVuSans-95\"/>\n       <use x=\"1257.763672\" xlink:href=\"#DejaVuSans-119\"/>\n       <use x=\"1339.550781\" xlink:href=\"#DejaVuSans-105\"/>\n       <use x=\"1367.333984\" xlink:href=\"#DejaVuSans-110\"/>\n       <use x=\"1430.712891\" xlink:href=\"#DejaVuSans-101\"/>\n       <use x=\"1492.236328\" xlink:href=\"#DejaVuSans-115\"/>\n      </g>\n     </g>\n    </g>\n    <g id=\"xtick_13\">\n     <g id=\"text_13\">\n      <!-- proline -->\n      <g style=\"fill:#262626;\" transform=\"translate(588.187991 341.458125)rotate(-90)scale(0.11 -0.11)\">\n       <use xlink:href=\"#DejaVuSans-112\"/>\n       <use x=\"63.476562\" xlink:href=\"#DejaVuSans-114\"/>\n       <use x=\"102.339844\" xlink:href=\"#DejaVuSans-111\"/>\n       <use x=\"163.521484\" xlink:href=\"#DejaVuSans-108\"/>\n       <use x=\"191.304688\" xlink:href=\"#DejaVuSans-105\"/>\n       <use x=\"219.087891\" xlink:href=\"#DejaVuSans-110\"/>\n       <use x=\"282.466797\" xlink:href=\"#DejaVuSans-101\"/>\n      </g>\n     </g>\n    </g>\n    <g id=\"xtick_14\">\n     <g id=\"text_14\">\n      <!-- target -->\n      <g style=\"fill:#262626;\" transform=\"translate(620.073705 337.065)rotate(-90)scale(0.11 -0.11)\">\n       <use xlink:href=\"#DejaVuSans-116\"/>\n       <use x=\"39.208984\" xlink:href=\"#DejaVuSans-97\"/>\n       <use x=\"100.488281\" xlink:href=\"#DejaVuSans-114\"/>\n       <use x=\"139.851562\" xlink:href=\"#DejaVuSans-103\"/>\n       <use x=\"203.328125\" xlink:href=\"#DejaVuSans-101\"/>\n       <use x=\"264.851562\" xlink:href=\"#DejaVuSans-116\"/>\n      </g>\n     </g>\n    </g>\n   </g>\n   <g id=\"matplotlib.axis_2\">\n    <g id=\"ytick_1\">\n     <g id=\"text_15\">\n      <!-- alcohol -->\n      <g style=\"fill:#262626;\" transform=\"translate(137.747656 36.204408)scale(0.11 -0.11)\">\n       <use xlink:href=\"#DejaVuSans-97\"/>\n       <use x=\"61.279297\" xlink:href=\"#DejaVuSans-108\"/>\n       <use x=\"89.0625\" xlink:href=\"#DejaVuSans-99\"/>\n       <use x=\"144.042969\" xlink:href=\"#DejaVuSans-111\"/>\n       <use x=\"205.224609\" xlink:href=\"#DejaVuSans-104\"/>\n       <use x=\"268.603516\" xlink:href=\"#DejaVuSans-111\"/>\n       <use x=\"329.785156\" xlink:href=\"#DejaVuSans-108\"/>\n      </g>\n     </g>\n    </g>\n    <g id=\"ytick_2\">\n     <g id=\"text_16\">\n      <!-- malic_acid -->\n      <g style=\"fill:#262626;\" transform=\"translate(119.137031 55.618694)scale(0.11 -0.11)\">\n       <use xlink:href=\"#DejaVuSans-109\"/>\n       <use x=\"97.412109\" xlink:href=\"#DejaVuSans-97\"/>\n       <use x=\"158.691406\" xlink:href=\"#DejaVuSans-108\"/>\n       <use x=\"186.474609\" xlink:href=\"#DejaVuSans-105\"/>\n       <use x=\"214.257812\" xlink:href=\"#DejaVuSans-99\"/>\n       <use x=\"269.238281\" xlink:href=\"#DejaVuSans-95\"/>\n       <use x=\"319.238281\" xlink:href=\"#DejaVuSans-97\"/>\n       <use x=\"380.517578\" xlink:href=\"#DejaVuSans-99\"/>\n       <use x=\"435.498047\" xlink:href=\"#DejaVuSans-105\"/>\n       <use x=\"463.28125\" xlink:href=\"#DejaVuSans-100\"/>\n      </g>\n     </g>\n    </g>\n    <g id=\"ytick_3\">\n     <g id=\"text_17\">\n      <!-- ash -->\n      <g style=\"fill:#262626;\" transform=\"translate(157.63875 75.03298)scale(0.11 -0.11)\">\n       <use xlink:href=\"#DejaVuSans-97\"/>\n       <use x=\"61.279297\" xlink:href=\"#DejaVuSans-115\"/>\n       <use x=\"113.378906\" xlink:href=\"#DejaVuSans-104\"/>\n      </g>\n     </g>\n    </g>\n    <g id=\"ytick_4\">\n     <g id=\"text_18\">\n      <!-- alcalinity_of_ash -->\n      <g style=\"fill:#262626;\" transform=\"translate(86.487656 94.447266)scale(0.11 -0.11)\">\n       <use xlink:href=\"#DejaVuSans-97\"/>\n       <use x=\"61.279297\" xlink:href=\"#DejaVuSans-108\"/>\n       <use x=\"89.0625\" xlink:href=\"#DejaVuSans-99\"/>\n       <use x=\"144.042969\" xlink:href=\"#DejaVuSans-97\"/>\n       <use x=\"205.322266\" xlink:href=\"#DejaVuSans-108\"/>\n       <use x=\"233.105469\" xlink:href=\"#DejaVuSans-105\"/>\n       <use x=\"260.888672\" xlink:href=\"#DejaVuSans-110\"/>\n       <use x=\"324.267578\" xlink:href=\"#DejaVuSans-105\"/>\n       <use x=\"352.050781\" xlink:href=\"#DejaVuSans-116\"/>\n       <use x=\"391.259766\" xlink:href=\"#DejaVuSans-121\"/>\n       <use x=\"450.439453\" xlink:href=\"#DejaVuSans-95\"/>\n       <use x=\"500.439453\" xlink:href=\"#DejaVuSans-111\"/>\n       <use x=\"561.621094\" xlink:href=\"#DejaVuSans-102\"/>\n       <use x=\"596.826172\" xlink:href=\"#DejaVuSans-95\"/>\n       <use x=\"646.826172\" xlink:href=\"#DejaVuSans-97\"/>\n       <use x=\"708.105469\" xlink:href=\"#DejaVuSans-115\"/>\n       <use x=\"760.205078\" xlink:href=\"#DejaVuSans-104\"/>\n      </g>\n     </g>\n    </g>\n    <g id=\"ytick_5\">\n     <g id=\"text_19\">\n      <!-- magnesium -->\n      <g style=\"fill:#262626;\" transform=\"translate(112.430469 113.861551)scale(0.11 -0.11)\">\n       <use xlink:href=\"#DejaVuSans-109\"/>\n       <use x=\"97.412109\" xlink:href=\"#DejaVuSans-97\"/>\n       <use x=\"158.691406\" xlink:href=\"#DejaVuSans-103\"/>\n       <use x=\"222.167969\" xlink:href=\"#DejaVuSans-110\"/>\n       <use x=\"285.546875\" xlink:href=\"#DejaVuSans-101\"/>\n       <use x=\"347.070312\" xlink:href=\"#DejaVuSans-115\"/>\n       <use x=\"399.169922\" xlink:href=\"#DejaVuSans-105\"/>\n       <use x=\"426.953125\" xlink:href=\"#DejaVuSans-117\"/>\n       <use x=\"490.332031\" xlink:href=\"#DejaVuSans-109\"/>\n      </g>\n     </g>\n    </g>\n    <g id=\"ytick_6\">\n     <g id=\"text_20\">\n      <!-- total_phenols -->\n      <g style=\"fill:#262626;\" transform=\"translate(103.217969 133.275837)scale(0.11 -0.11)\">\n       <use xlink:href=\"#DejaVuSans-116\"/>\n       <use x=\"39.208984\" xlink:href=\"#DejaVuSans-111\"/>\n       <use x=\"100.390625\" xlink:href=\"#DejaVuSans-116\"/>\n       <use x=\"139.599609\" xlink:href=\"#DejaVuSans-97\"/>\n       <use x=\"200.878906\" xlink:href=\"#DejaVuSans-108\"/>\n       <use x=\"228.662109\" xlink:href=\"#DejaVuSans-95\"/>\n       <use x=\"278.662109\" xlink:href=\"#DejaVuSans-112\"/>\n       <use x=\"342.138672\" xlink:href=\"#DejaVuSans-104\"/>\n       <use x=\"405.517578\" xlink:href=\"#DejaVuSans-101\"/>\n       <use x=\"467.041016\" xlink:href=\"#DejaVuSans-110\"/>\n       <use x=\"530.419922\" xlink:href=\"#DejaVuSans-111\"/>\n       <use x=\"591.601562\" xlink:href=\"#DejaVuSans-108\"/>\n       <use x=\"619.384766\" xlink:href=\"#DejaVuSans-115\"/>\n      </g>\n     </g>\n    </g>\n    <g id=\"ytick_7\">\n     <g id=\"text_21\">\n      <!-- flavanoids -->\n      <g style=\"fill:#262626;\" transform=\"translate(120.689063 152.690123)scale(0.11 -0.11)\">\n       <use xlink:href=\"#DejaVuSans-102\"/>\n       <use x=\"35.205078\" xlink:href=\"#DejaVuSans-108\"/>\n       <use x=\"62.988281\" xlink:href=\"#DejaVuSans-97\"/>\n       <use x=\"124.267578\" xlink:href=\"#DejaVuSans-118\"/>\n       <use x=\"183.447266\" xlink:href=\"#DejaVuSans-97\"/>\n       <use x=\"244.726562\" xlink:href=\"#DejaVuSans-110\"/>\n       <use x=\"308.105469\" xlink:href=\"#DejaVuSans-111\"/>\n       <use x=\"369.287109\" xlink:href=\"#DejaVuSans-105\"/>\n       <use x=\"397.070312\" xlink:href=\"#DejaVuSans-100\"/>\n       <use x=\"460.546875\" xlink:href=\"#DejaVuSans-115\"/>\n      </g>\n     </g>\n    </g>\n    <g id=\"ytick_8\">\n     <g id=\"text_22\">\n      <!-- nonflavanoid_phenols -->\n      <g style=\"fill:#262626;\" transform=\"translate(57.035156 172.104408)scale(0.11 -0.11)\">\n       <use xlink:href=\"#DejaVuSans-110\"/>\n       <use x=\"63.378906\" xlink:href=\"#DejaVuSans-111\"/>\n       <use x=\"124.560547\" xlink:href=\"#DejaVuSans-110\"/>\n       <use x=\"187.939453\" xlink:href=\"#DejaVuSans-102\"/>\n       <use x=\"223.144531\" xlink:href=\"#DejaVuSans-108\"/>\n       <use x=\"250.927734\" xlink:href=\"#DejaVuSans-97\"/>\n       <use x=\"312.207031\" xlink:href=\"#DejaVuSans-118\"/>\n       <use x=\"371.386719\" xlink:href=\"#DejaVuSans-97\"/>\n       <use x=\"432.666016\" xlink:href=\"#DejaVuSans-110\"/>\n       <use x=\"496.044922\" xlink:href=\"#DejaVuSans-111\"/>\n       <use x=\"557.226562\" xlink:href=\"#DejaVuSans-105\"/>\n       <use x=\"585.009766\" xlink:href=\"#DejaVuSans-100\"/>\n       <use x=\"648.486328\" xlink:href=\"#DejaVuSans-95\"/>\n       <use x=\"698.486328\" xlink:href=\"#DejaVuSans-112\"/>\n       <use x=\"761.962891\" xlink:href=\"#DejaVuSans-104\"/>\n       <use x=\"825.341797\" xlink:href=\"#DejaVuSans-101\"/>\n       <use x=\"886.865234\" xlink:href=\"#DejaVuSans-110\"/>\n       <use x=\"950.244141\" xlink:href=\"#DejaVuSans-111\"/>\n       <use x=\"1011.425781\" xlink:href=\"#DejaVuSans-108\"/>\n       <use x=\"1039.208984\" xlink:href=\"#DejaVuSans-115\"/>\n      </g>\n     </g>\n    </g>\n    <g id=\"ytick_9\">\n     <g id=\"text_23\">\n      <!-- proanthocyanins -->\n      <g style=\"fill:#262626;\" transform=\"translate(85.337813 191.518694)scale(0.11 -0.11)\">\n       <use xlink:href=\"#DejaVuSans-112\"/>\n       <use x=\"63.476562\" xlink:href=\"#DejaVuSans-114\"/>\n       <use x=\"102.339844\" xlink:href=\"#DejaVuSans-111\"/>\n       <use x=\"163.521484\" xlink:href=\"#DejaVuSans-97\"/>\n       <use x=\"224.800781\" xlink:href=\"#DejaVuSans-110\"/>\n       <use x=\"288.179688\" xlink:href=\"#DejaVuSans-116\"/>\n       <use x=\"327.388672\" xlink:href=\"#DejaVuSans-104\"/>\n       <use x=\"390.767578\" xlink:href=\"#DejaVuSans-111\"/>\n       <use x=\"451.949219\" xlink:href=\"#DejaVuSans-99\"/>\n       <use x=\"506.929688\" xlink:href=\"#DejaVuSans-121\"/>\n       <use x=\"566.109375\" xlink:href=\"#DejaVuSans-97\"/>\n       <use x=\"627.388672\" xlink:href=\"#DejaVuSans-110\"/>\n       <use x=\"690.767578\" xlink:href=\"#DejaVuSans-105\"/>\n       <use x=\"718.550781\" xlink:href=\"#DejaVuSans-110\"/>\n       <use x=\"781.929688\" xlink:href=\"#DejaVuSans-115\"/>\n      </g>\n     </g>\n    </g>\n    <g id=\"ytick_10\">\n     <g id=\"text_24\">\n      <!-- color_intensity -->\n      <g style=\"fill:#262626;\" transform=\"translate(96.805313 210.93298)scale(0.11 -0.11)\">\n       <use xlink:href=\"#DejaVuSans-99\"/>\n       <use x=\"54.980469\" xlink:href=\"#DejaVuSans-111\"/>\n       <use x=\"116.162109\" xlink:href=\"#DejaVuSans-108\"/>\n       <use x=\"143.945312\" xlink:href=\"#DejaVuSans-111\"/>\n       <use x=\"205.126953\" xlink:href=\"#DejaVuSans-114\"/>\n       <use x=\"246.240234\" xlink:href=\"#DejaVuSans-95\"/>\n       <use x=\"296.240234\" xlink:href=\"#DejaVuSans-105\"/>\n       <use x=\"324.023438\" xlink:href=\"#DejaVuSans-110\"/>\n       <use x=\"387.402344\" xlink:href=\"#DejaVuSans-116\"/>\n       <use x=\"426.611328\" xlink:href=\"#DejaVuSans-101\"/>\n       <use x=\"488.134766\" xlink:href=\"#DejaVuSans-110\"/>\n       <use x=\"551.513672\" xlink:href=\"#DejaVuSans-115\"/>\n       <use x=\"603.613281\" xlink:href=\"#DejaVuSans-105\"/>\n       <use x=\"631.396484\" xlink:href=\"#DejaVuSans-116\"/>\n       <use x=\"670.605469\" xlink:href=\"#DejaVuSans-121\"/>\n      </g>\n     </g>\n    </g>\n    <g id=\"ytick_11\">\n     <g id=\"text_25\">\n      <!-- hue -->\n      <g style=\"fill:#262626;\" transform=\"translate(156.370313 230.347266)scale(0.11 -0.11)\">\n       <use xlink:href=\"#DejaVuSans-104\"/>\n       <use x=\"63.378906\" xlink:href=\"#DejaVuSans-117\"/>\n       <use x=\"126.757812\" xlink:href=\"#DejaVuSans-101\"/>\n      </g>\n     </g>\n    </g>\n    <g id=\"ytick_12\">\n     <g id=\"text_26\">\n      <!-- od280/od315_of_diluted_wines -->\n      <g style=\"fill:#262626;\" transform=\"translate(7.2 249.761551)scale(0.11 -0.11)\">\n       <use xlink:href=\"#DejaVuSans-111\"/>\n       <use x=\"61.181641\" xlink:href=\"#DejaVuSans-100\"/>\n       <use x=\"124.658203\" xlink:href=\"#DejaVuSans-50\"/>\n       <use x=\"188.28125\" xlink:href=\"#DejaVuSans-56\"/>\n       <use x=\"251.904297\" xlink:href=\"#DejaVuSans-48\"/>\n       <use x=\"315.527344\" xlink:href=\"#DejaVuSans-47\"/>\n       <use x=\"349.21875\" xlink:href=\"#DejaVuSans-111\"/>\n       <use x=\"410.400391\" xlink:href=\"#DejaVuSans-100\"/>\n       <use x=\"473.876953\" xlink:href=\"#DejaVuSans-51\"/>\n       <use x=\"537.5\" xlink:href=\"#DejaVuSans-49\"/>\n       <use x=\"601.123047\" xlink:href=\"#DejaVuSans-53\"/>\n       <use x=\"664.746094\" xlink:href=\"#DejaVuSans-95\"/>\n       <use x=\"714.746094\" xlink:href=\"#DejaVuSans-111\"/>\n       <use x=\"775.927734\" xlink:href=\"#DejaVuSans-102\"/>\n       <use x=\"811.132812\" xlink:href=\"#DejaVuSans-95\"/>\n       <use x=\"861.132812\" xlink:href=\"#DejaVuSans-100\"/>\n       <use x=\"924.609375\" xlink:href=\"#DejaVuSans-105\"/>\n       <use x=\"952.392578\" xlink:href=\"#DejaVuSans-108\"/>\n       <use x=\"980.175781\" xlink:href=\"#DejaVuSans-117\"/>\n       <use x=\"1043.554688\" xlink:href=\"#DejaVuSans-116\"/>\n       <use x=\"1082.763672\" xlink:href=\"#DejaVuSans-101\"/>\n       <use x=\"1144.287109\" xlink:href=\"#DejaVuSans-100\"/>\n       <use x=\"1207.763672\" xlink:href=\"#DejaVuSans-95\"/>\n       <use x=\"1257.763672\" xlink:href=\"#DejaVuSans-119\"/>\n       <use x=\"1339.550781\" xlink:href=\"#DejaVuSans-105\"/>\n       <use x=\"1367.333984\" xlink:href=\"#DejaVuSans-110\"/>\n       <use x=\"1430.712891\" xlink:href=\"#DejaVuSans-101\"/>\n       <use x=\"1492.236328\" xlink:href=\"#DejaVuSans-115\"/>\n      </g>\n     </g>\n    </g>\n    <g id=\"ytick_13\">\n     <g id=\"text_27\">\n      <!-- proline -->\n      <g style=\"fill:#262626;\" transform=\"translate(139.24125 269.175837)scale(0.11 -0.11)\">\n       <use xlink:href=\"#DejaVuSans-112\"/>\n       <use x=\"63.476562\" xlink:href=\"#DejaVuSans-114\"/>\n       <use x=\"102.339844\" xlink:href=\"#DejaVuSans-111\"/>\n       <use x=\"163.521484\" xlink:href=\"#DejaVuSans-108\"/>\n       <use x=\"191.304688\" xlink:href=\"#DejaVuSans-105\"/>\n       <use x=\"219.087891\" xlink:href=\"#DejaVuSans-110\"/>\n       <use x=\"282.466797\" xlink:href=\"#DejaVuSans-101\"/>\n      </g>\n     </g>\n    </g>\n    <g id=\"ytick_14\">\n     <g id=\"text_28\">\n      <!-- target -->\n      <g style=\"fill:#262626;\" transform=\"translate(143.634375 288.590123)scale(0.11 -0.11)\">\n       <use xlink:href=\"#DejaVuSans-116\"/>\n       <use x=\"39.208984\" xlink:href=\"#DejaVuSans-97\"/>\n       <use x=\"100.488281\" xlink:href=\"#DejaVuSans-114\"/>\n       <use x=\"139.851562\" xlink:href=\"#DejaVuSans-103\"/>\n       <use x=\"203.328125\" xlink:href=\"#DejaVuSans-101\"/>\n       <use x=\"264.851562\" xlink:href=\"#DejaVuSans-116\"/>\n      </g>\n     </g>\n    </g>\n   </g>\n   <g id=\"QuadMesh_1\">\n    <path clip-path=\"url(#p5d2271f8c6)\" d=\"M 186.58125 22.318125 \nL 218.466964 22.318125 \nL 218.466964 41.732411 \nL 186.58125 41.732411 \nL 186.58125 22.318125 \n\" style=\"fill:#b40426;stroke:#ffffff;stroke-width:0.5;\"/>\n    <path clip-path=\"url(#p5d2271f8c6)\" d=\"M 218.466964 22.318125 \nL 250.352679 22.318125 \nL 250.352679 41.732411 \nL 218.466964 41.732411 \nL 218.466964 22.318125 \n\" style=\"fill:#d2dbe8;stroke:#ffffff;stroke-width:0.5;\"/>\n    <path clip-path=\"url(#p5d2271f8c6)\" d=\"M 250.352679 22.318125 \nL 282.238393 22.318125 \nL 282.238393 41.732411 \nL 250.352679 41.732411 \nL 250.352679 22.318125 \n\" style=\"fill:#d2dbe8;stroke:#ffffff;stroke-width:0.5;\"/>\n    <path clip-path=\"url(#p5d2271f8c6)\" d=\"M 282.238393 22.318125 \nL 314.124107 22.318125 \nL 314.124107 41.732411 \nL 282.238393 41.732411 \nL 282.238393 22.318125 \n\" style=\"fill:#9bbcff;stroke:#ffffff;stroke-width:0.5;\"/>\n    <path clip-path=\"url(#p5d2271f8c6)\" d=\"M 314.124107 22.318125 \nL 346.009821 22.318125 \nL 346.009821 41.732411 \nL 314.124107 41.732411 \nL 314.124107 22.318125 \n\" style=\"fill:#f2cab5;stroke:#ffffff;stroke-width:0.5;\"/>\n    <path clip-path=\"url(#p5d2271f8c6)\" d=\"M 346.009821 22.318125 \nL 377.895536 22.318125 \nL 377.895536 41.732411 \nL 346.009821 41.732411 \nL 346.009821 22.318125 \n\" style=\"fill:#f3c7b1;stroke:#ffffff;stroke-width:0.5;\"/>\n    <path clip-path=\"url(#p5d2271f8c6)\" d=\"M 377.895536 22.318125 \nL 409.78125 22.318125 \nL 409.78125 41.732411 \nL 377.895536 41.732411 \nL 377.895536 22.318125 \n\" style=\"fill:#d2dbe8;stroke:#ffffff;stroke-width:0.5;\"/>\n    <path clip-path=\"url(#p5d2271f8c6)\" d=\"M 409.78125 22.318125 \nL 441.666964 22.318125 \nL 441.666964 41.732411 \nL 409.78125 41.732411 \nL 409.78125 22.318125 \n\" style=\"fill:#d2dbe8;stroke:#ffffff;stroke-width:0.5;\"/>\n    <path clip-path=\"url(#p5d2271f8c6)\" d=\"M 441.666964 22.318125 \nL 473.552679 22.318125 \nL 473.552679 41.732411 \nL 441.666964 41.732411 \nL 441.666964 22.318125 \n\" style=\"fill:#d2dbe8;stroke:#ffffff;stroke-width:0.5;\"/>\n    <path clip-path=\"url(#p5d2271f8c6)\" d=\"M 473.552679 22.318125 \nL 505.438393 22.318125 \nL 505.438393 41.732411 \nL 473.552679 41.732411 \nL 473.552679 22.318125 \n\" style=\"fill:#f39778;stroke:#ffffff;stroke-width:0.5;\"/>\n    <path clip-path=\"url(#p5d2271f8c6)\" d=\"M 505.438393 22.318125 \nL 537.324107 22.318125 \nL 537.324107 41.732411 \nL 505.438393 41.732411 \nL 505.438393 22.318125 \n\" style=\"fill:#d2dbe8;stroke:#ffffff;stroke-width:0.5;\"/>\n    <path clip-path=\"url(#p5d2271f8c6)\" d=\"M 537.324107 22.318125 \nL 569.209821 22.318125 \nL 569.209821 41.732411 \nL 537.324107 41.732411 \nL 537.324107 22.318125 \n\" style=\"fill:#d2dbe8;stroke:#ffffff;stroke-width:0.5;\"/>\n    <path clip-path=\"url(#p5d2271f8c6)\" d=\"M 569.209821 22.318125 \nL 601.095536 22.318125 \nL 601.095536 41.732411 \nL 569.209821 41.732411 \nL 569.209821 22.318125 \n\" style=\"fill:#ec8165;stroke:#ffffff;stroke-width:0.5;\"/>\n    <path clip-path=\"url(#p5d2271f8c6)\" d=\"M 601.095536 22.318125 \nL 632.98125 22.318125 \nL 632.98125 41.732411 \nL 601.095536 41.732411 \nL 601.095536 22.318125 \n\" style=\"fill:#97b8ff;stroke:#ffffff;stroke-width:0.5;\"/>\n    <path clip-path=\"url(#p5d2271f8c6)\" d=\"M 186.58125 41.732411 \nL 218.466964 41.732411 \nL 218.466964 61.146696 \nL 186.58125 61.146696 \nL 186.58125 41.732411 \n\" style=\"fill:#d2dbe8;stroke:#ffffff;stroke-width:0.5;\"/>\n    <path clip-path=\"url(#p5d2271f8c6)\" d=\"M 218.466964 41.732411 \nL 250.352679 41.732411 \nL 250.352679 61.146696 \nL 218.466964 61.146696 \nL 218.466964 41.732411 \n\" style=\"fill:#b40426;stroke:#ffffff;stroke-width:0.5;\"/>\n    <path clip-path=\"url(#p5d2271f8c6)\" d=\"M 250.352679 41.732411 \nL 282.238393 41.732411 \nL 282.238393 61.146696 \nL 250.352679 61.146696 \nL 250.352679 41.732411 \n\" style=\"fill:#d2dbe8;stroke:#ffffff;stroke-width:0.5;\"/>\n    <path clip-path=\"url(#p5d2271f8c6)\" d=\"M 282.238393 41.732411 \nL 314.124107 41.732411 \nL 314.124107 61.146696 \nL 282.238393 61.146696 \nL 282.238393 41.732411 \n\" style=\"fill:#f3c7b1;stroke:#ffffff;stroke-width:0.5;\"/>\n    <path clip-path=\"url(#p5d2271f8c6)\" d=\"M 314.124107 41.732411 \nL 346.009821 41.732411 \nL 346.009821 61.146696 \nL 314.124107 61.146696 \nL 314.124107 41.732411 \n\" style=\"fill:#d2dbe8;stroke:#ffffff;stroke-width:0.5;\"/>\n    <path clip-path=\"url(#p5d2271f8c6)\" d=\"M 346.009821 41.732411 \nL 377.895536 41.732411 \nL 377.895536 61.146696 \nL 346.009821 61.146696 \nL 346.009821 41.732411 \n\" style=\"fill:#96b7ff;stroke:#ffffff;stroke-width:0.5;\"/>\n    <path clip-path=\"url(#p5d2271f8c6)\" d=\"M 377.895536 41.732411 \nL 409.78125 41.732411 \nL 409.78125 61.146696 \nL 377.895536 61.146696 \nL 377.895536 41.732411 \n\" style=\"fill:#88abfd;stroke:#ffffff;stroke-width:0.5;\"/>\n    <path clip-path=\"url(#p5d2271f8c6)\" d=\"M 409.78125 41.732411 \nL 441.666964 41.732411 \nL 441.666964 61.146696 \nL 409.78125 61.146696 \nL 409.78125 41.732411 \n\" style=\"fill:#f3c7b1;stroke:#ffffff;stroke-width:0.5;\"/>\n    <path clip-path=\"url(#p5d2271f8c6)\" d=\"M 441.666964 41.732411 \nL 473.552679 41.732411 \nL 473.552679 61.146696 \nL 441.666964 61.146696 \nL 441.666964 41.732411 \n\" style=\"fill:#d2dbe8;stroke:#ffffff;stroke-width:0.5;\"/>\n    <path clip-path=\"url(#p5d2271f8c6)\" d=\"M 473.552679 41.732411 \nL 505.438393 41.732411 \nL 505.438393 61.146696 \nL 473.552679 61.146696 \nL 473.552679 41.732411 \n\" style=\"fill:#f1ccb8;stroke:#ffffff;stroke-width:0.5;\"/>\n    <path clip-path=\"url(#p5d2271f8c6)\" d=\"M 505.438393 41.732411 \nL 537.324107 41.732411 \nL 537.324107 61.146696 \nL 505.438393 61.146696 \nL 505.438393 41.732411 \n\" style=\"fill:#6c8ff1;stroke:#ffffff;stroke-width:0.5;\"/>\n    <path clip-path=\"url(#p5d2271f8c6)\" d=\"M 537.324107 41.732411 \nL 569.209821 41.732411 \nL 569.209821 61.146696 \nL 537.324107 61.146696 \nL 537.324107 41.732411 \n\" style=\"fill:#90b2fe;stroke:#ffffff;stroke-width:0.5;\"/>\n    <path clip-path=\"url(#p5d2271f8c6)\" d=\"M 569.209821 41.732411 \nL 601.095536 41.732411 \nL 601.095536 61.146696 \nL 569.209821 61.146696 \nL 569.209821 41.732411 \n\" style=\"fill:#d2dbe8;stroke:#ffffff;stroke-width:0.5;\"/>\n    <path clip-path=\"url(#p5d2271f8c6)\" d=\"M 601.095536 41.732411 \nL 632.98125 41.732411 \nL 632.98125 61.146696 \nL 601.095536 61.146696 \nL 601.095536 41.732411 \n\" style=\"fill:#f7ad90;stroke:#ffffff;stroke-width:0.5;\"/>\n    <path clip-path=\"url(#p5d2271f8c6)\" d=\"M 186.58125 61.146696 \nL 218.466964 61.146696 \nL 218.466964 80.560982 \nL 186.58125 80.560982 \nL 186.58125 61.146696 \n\" style=\"fill:#d2dbe8;stroke:#ffffff;stroke-width:0.5;\"/>\n    <path clip-path=\"url(#p5d2271f8c6)\" d=\"M 218.466964 61.146696 \nL 250.352679 61.146696 \nL 250.352679 80.560982 \nL 218.466964 80.560982 \nL 218.466964 61.146696 \n\" style=\"fill:#d2dbe8;stroke:#ffffff;stroke-width:0.5;\"/>\n    <path clip-path=\"url(#p5d2271f8c6)\" d=\"M 250.352679 61.146696 \nL 282.238393 61.146696 \nL 282.238393 80.560982 \nL 250.352679 80.560982 \nL 250.352679 61.146696 \n\" style=\"fill:#b40426;stroke:#ffffff;stroke-width:0.5;\"/>\n    <path clip-path=\"url(#p5d2271f8c6)\" d=\"M 282.238393 61.146696 \nL 314.124107 61.146696 \nL 314.124107 80.560982 \nL 282.238393 80.560982 \nL 282.238393 61.146696 \n\" style=\"fill:#f7ad90;stroke:#ffffff;stroke-width:0.5;\"/>\n    <path clip-path=\"url(#p5d2271f8c6)\" d=\"M 314.124107 61.146696 \nL 346.009821 61.146696 \nL 346.009821 80.560982 \nL 314.124107 80.560982 \nL 314.124107 61.146696 \n\" style=\"fill:#f3c7b1;stroke:#ffffff;stroke-width:0.5;\"/>\n    <path clip-path=\"url(#p5d2271f8c6)\" d=\"M 346.009821 61.146696 \nL 377.895536 61.146696 \nL 377.895536 80.560982 \nL 346.009821 80.560982 \nL 346.009821 61.146696 \n\" style=\"fill:#d2dbe8;stroke:#ffffff;stroke-width:0.5;\"/>\n    <path clip-path=\"url(#p5d2271f8c6)\" d=\"M 377.895536 61.146696 \nL 409.78125 61.146696 \nL 409.78125 80.560982 \nL 377.895536 80.560982 \nL 377.895536 61.146696 \n\" style=\"fill:#d2dbe8;stroke:#ffffff;stroke-width:0.5;\"/>\n    <path clip-path=\"url(#p5d2271f8c6)\" d=\"M 409.78125 61.146696 \nL 441.666964 61.146696 \nL 441.666964 80.560982 \nL 409.78125 80.560982 \nL 409.78125 61.146696 \n\" style=\"fill:#d2dbe8;stroke:#ffffff;stroke-width:0.5;\"/>\n    <path clip-path=\"url(#p5d2271f8c6)\" d=\"M 441.666964 61.146696 \nL 473.552679 61.146696 \nL 473.552679 80.560982 \nL 441.666964 80.560982 \nL 441.666964 61.146696 \n\" style=\"fill:#d2dbe8;stroke:#ffffff;stroke-width:0.5;\"/>\n    <path clip-path=\"url(#p5d2271f8c6)\" d=\"M 473.552679 61.146696 \nL 505.438393 61.146696 \nL 505.438393 80.560982 \nL 473.552679 80.560982 \nL 473.552679 61.146696 \n\" style=\"fill:#f2cbb7;stroke:#ffffff;stroke-width:0.5;\"/>\n    <path clip-path=\"url(#p5d2271f8c6)\" d=\"M 505.438393 61.146696 \nL 537.324107 61.146696 \nL 537.324107 80.560982 \nL 505.438393 80.560982 \nL 505.438393 61.146696 \n\" style=\"fill:#d2dbe8;stroke:#ffffff;stroke-width:0.5;\"/>\n    <path clip-path=\"url(#p5d2271f8c6)\" d=\"M 537.324107 61.146696 \nL 569.209821 61.146696 \nL 569.209821 80.560982 \nL 537.324107 80.560982 \nL 537.324107 61.146696 \n\" style=\"fill:#d2dbe8;stroke:#ffffff;stroke-width:0.5;\"/>\n    <path clip-path=\"url(#p5d2271f8c6)\" d=\"M 569.209821 61.146696 \nL 601.095536 61.146696 \nL 601.095536 80.560982 \nL 569.209821 80.560982 \nL 569.209821 61.146696 \n\" style=\"fill:#d2dbe8;stroke:#ffffff;stroke-width:0.5;\"/>\n    <path clip-path=\"url(#p5d2271f8c6)\" d=\"M 601.095536 61.146696 \nL 632.98125 61.146696 \nL 632.98125 80.560982 \nL 601.095536 80.560982 \nL 601.095536 61.146696 \n\" style=\"fill:#d2dbe8;stroke:#ffffff;stroke-width:0.5;\"/>\n    <path clip-path=\"url(#p5d2271f8c6)\" d=\"M 186.58125 80.560982 \nL 218.466964 80.560982 \nL 218.466964 99.975268 \nL 186.58125 99.975268 \nL 186.58125 80.560982 \n\" style=\"fill:#9bbcff;stroke:#ffffff;stroke-width:0.5;\"/>\n    <path clip-path=\"url(#p5d2271f8c6)\" d=\"M 218.466964 80.560982 \nL 250.352679 80.560982 \nL 250.352679 99.975268 \nL 218.466964 99.975268 \nL 218.466964 80.560982 \n\" style=\"fill:#f3c7b1;stroke:#ffffff;stroke-width:0.5;\"/>\n    <path clip-path=\"url(#p5d2271f8c6)\" d=\"M 250.352679 80.560982 \nL 282.238393 80.560982 \nL 282.238393 99.975268 \nL 250.352679 99.975268 \nL 250.352679 80.560982 \n\" style=\"fill:#f7ad90;stroke:#ffffff;stroke-width:0.5;\"/>\n    <path clip-path=\"url(#p5d2271f8c6)\" d=\"M 282.238393 80.560982 \nL 314.124107 80.560982 \nL 314.124107 99.975268 \nL 282.238393 99.975268 \nL 282.238393 80.560982 \n\" style=\"fill:#b40426;stroke:#ffffff;stroke-width:0.5;\"/>\n    <path clip-path=\"url(#p5d2271f8c6)\" d=\"M 314.124107 80.560982 \nL 346.009821 80.560982 \nL 346.009821 99.975268 \nL 314.124107 99.975268 \nL 314.124107 80.560982 \n\" style=\"fill:#d2dbe8;stroke:#ffffff;stroke-width:0.5;\"/>\n    <path clip-path=\"url(#p5d2271f8c6)\" d=\"M 346.009821 80.560982 \nL 377.895536 80.560982 \nL 377.895536 99.975268 \nL 346.009821 99.975268 \nL 346.009821 80.560982 \n\" style=\"fill:#9abbff;stroke:#ffffff;stroke-width:0.5;\"/>\n    <path clip-path=\"url(#p5d2271f8c6)\" d=\"M 377.895536 80.560982 \nL 409.78125 80.560982 \nL 409.78125 99.975268 \nL 377.895536 99.975268 \nL 377.895536 80.560982 \n\" style=\"fill:#94b6ff;stroke:#ffffff;stroke-width:0.5;\"/>\n    <path clip-path=\"url(#p5d2271f8c6)\" d=\"M 409.78125 80.560982 \nL 441.666964 80.560982 \nL 441.666964 99.975268 \nL 409.78125 99.975268 \nL 409.78125 80.560982 \n\" style=\"fill:#f7bca1;stroke:#ffffff;stroke-width:0.5;\"/>\n    <path clip-path=\"url(#p5d2271f8c6)\" d=\"M 441.666964 80.560982 \nL 473.552679 80.560982 \nL 473.552679 99.975268 \nL 441.666964 99.975268 \nL 441.666964 80.560982 \n\" style=\"fill:#d2dbe8;stroke:#ffffff;stroke-width:0.5;\"/>\n    <path clip-path=\"url(#p5d2271f8c6)\" d=\"M 473.552679 80.560982 \nL 505.438393 80.560982 \nL 505.438393 99.975268 \nL 473.552679 99.975268 \nL 473.552679 80.560982 \n\" style=\"fill:#d2dbe8;stroke:#ffffff;stroke-width:0.5;\"/>\n    <path clip-path=\"url(#p5d2271f8c6)\" d=\"M 505.438393 80.560982 \nL 537.324107 80.560982 \nL 537.324107 99.975268 \nL 505.438393 99.975268 \nL 505.438393 80.560982 \n\" style=\"fill:#a3c2fe;stroke:#ffffff;stroke-width:0.5;\"/>\n    <path clip-path=\"url(#p5d2271f8c6)\" d=\"M 537.324107 80.560982 \nL 569.209821 80.560982 \nL 569.209821 99.975268 \nL 537.324107 99.975268 \nL 537.324107 80.560982 \n\" style=\"fill:#a1c0ff;stroke:#ffffff;stroke-width:0.5;\"/>\n    <path clip-path=\"url(#p5d2271f8c6)\" d=\"M 569.209821 80.560982 \nL 601.095536 80.560982 \nL 601.095536 99.975268 \nL 569.209821 99.975268 \nL 569.209821 80.560982 \n\" style=\"fill:#82a6fb;stroke:#ffffff;stroke-width:0.5;\"/>\n    <path clip-path=\"url(#p5d2271f8c6)\" d=\"M 601.095536 80.560982 \nL 632.98125 80.560982 \nL 632.98125 99.975268 \nL 601.095536 99.975268 \nL 601.095536 80.560982 \n\" style=\"fill:#f59d7e;stroke:#ffffff;stroke-width:0.5;\"/>\n    <path clip-path=\"url(#p5d2271f8c6)\" d=\"M 186.58125 99.975268 \nL 218.466964 99.975268 \nL 218.466964 119.389554 \nL 186.58125 119.389554 \nL 186.58125 99.975268 \n\" style=\"fill:#f2cab5;stroke:#ffffff;stroke-width:0.5;\"/>\n    <path clip-path=\"url(#p5d2271f8c6)\" d=\"M 218.466964 99.975268 \nL 250.352679 99.975268 \nL 250.352679 119.389554 \nL 218.466964 119.389554 \nL 218.466964 99.975268 \n\" style=\"fill:#d2dbe8;stroke:#ffffff;stroke-width:0.5;\"/>\n    <path clip-path=\"url(#p5d2271f8c6)\" d=\"M 250.352679 99.975268 \nL 282.238393 99.975268 \nL 282.238393 119.389554 \nL 250.352679 119.389554 \nL 250.352679 99.975268 \n\" style=\"fill:#f3c7b1;stroke:#ffffff;stroke-width:0.5;\"/>\n    <path clip-path=\"url(#p5d2271f8c6)\" d=\"M 282.238393 99.975268 \nL 314.124107 99.975268 \nL 314.124107 119.389554 \nL 282.238393 119.389554 \nL 282.238393 99.975268 \n\" style=\"fill:#d2dbe8;stroke:#ffffff;stroke-width:0.5;\"/>\n    <path clip-path=\"url(#p5d2271f8c6)\" d=\"M 314.124107 99.975268 \nL 346.009821 99.975268 \nL 346.009821 119.389554 \nL 314.124107 119.389554 \nL 314.124107 99.975268 \n\" style=\"fill:#b40426;stroke:#ffffff;stroke-width:0.5;\"/>\n    <path clip-path=\"url(#p5d2271f8c6)\" d=\"M 346.009821 99.975268 \nL 377.895536 99.975268 \nL 377.895536 119.389554 \nL 346.009821 119.389554 \nL 346.009821 99.975268 \n\" style=\"fill:#d2dbe8;stroke:#ffffff;stroke-width:0.5;\"/>\n    <path clip-path=\"url(#p5d2271f8c6)\" d=\"M 377.895536 99.975268 \nL 409.78125 99.975268 \nL 409.78125 119.389554 \nL 377.895536 119.389554 \nL 377.895536 99.975268 \n\" style=\"fill:#d2dbe8;stroke:#ffffff;stroke-width:0.5;\"/>\n    <path clip-path=\"url(#p5d2271f8c6)\" d=\"M 409.78125 99.975268 \nL 441.666964 99.975268 \nL 441.666964 119.389554 \nL 409.78125 119.389554 \nL 409.78125 99.975268 \n\" style=\"fill:#a5c3fe;stroke:#ffffff;stroke-width:0.5;\"/>\n    <path clip-path=\"url(#p5d2271f8c6)\" d=\"M 441.666964 99.975268 \nL 473.552679 99.975268 \nL 473.552679 119.389554 \nL 441.666964 119.389554 \nL 441.666964 99.975268 \n\" style=\"fill:#d2dbe8;stroke:#ffffff;stroke-width:0.5;\"/>\n    <path clip-path=\"url(#p5d2271f8c6)\" d=\"M 473.552679 99.975268 \nL 505.438393 99.975268 \nL 505.438393 119.389554 \nL 473.552679 119.389554 \nL 473.552679 99.975268 \n\" style=\"fill:#d2dbe8;stroke:#ffffff;stroke-width:0.5;\"/>\n    <path clip-path=\"url(#p5d2271f8c6)\" d=\"M 505.438393 99.975268 \nL 537.324107 99.975268 \nL 537.324107 119.389554 \nL 505.438393 119.389554 \nL 505.438393 99.975268 \n\" style=\"fill:#d2dbe8;stroke:#ffffff;stroke-width:0.5;\"/>\n    <path clip-path=\"url(#p5d2271f8c6)\" d=\"M 537.324107 99.975268 \nL 569.209821 99.975268 \nL 569.209821 119.389554 \nL 537.324107 119.389554 \nL 537.324107 99.975268 \n\" style=\"fill:#d2dbe8;stroke:#ffffff;stroke-width:0.5;\"/>\n    <path clip-path=\"url(#p5d2271f8c6)\" d=\"M 569.209821 99.975268 \nL 601.095536 99.975268 \nL 601.095536 119.389554 \nL 569.209821 119.389554 \nL 569.209821 99.975268 \n\" style=\"fill:#f7b79b;stroke:#ffffff;stroke-width:0.5;\"/>\n    <path clip-path=\"url(#p5d2271f8c6)\" d=\"M 601.095536 99.975268 \nL 632.98125 99.975268 \nL 632.98125 119.389554 \nL 601.095536 119.389554 \nL 601.095536 99.975268 \n\" style=\"fill:#d2dbe8;stroke:#ffffff;stroke-width:0.5;\"/>\n    <path clip-path=\"url(#p5d2271f8c6)\" d=\"M 186.58125 119.389554 \nL 218.466964 119.389554 \nL 218.466964 138.803839 \nL 186.58125 138.803839 \nL 186.58125 119.389554 \n\" style=\"fill:#f3c7b1;stroke:#ffffff;stroke-width:0.5;\"/>\n    <path clip-path=\"url(#p5d2271f8c6)\" d=\"M 218.466964 119.389554 \nL 250.352679 119.389554 \nL 250.352679 138.803839 \nL 218.466964 138.803839 \nL 218.466964 119.389554 \n\" style=\"fill:#96b7ff;stroke:#ffffff;stroke-width:0.5;\"/>\n    <path clip-path=\"url(#p5d2271f8c6)\" d=\"M 250.352679 119.389554 \nL 282.238393 119.389554 \nL 282.238393 138.803839 \nL 250.352679 138.803839 \nL 250.352679 119.389554 \n\" style=\"fill:#d2dbe8;stroke:#ffffff;stroke-width:0.5;\"/>\n    <path clip-path=\"url(#p5d2271f8c6)\" d=\"M 282.238393 119.389554 \nL 314.124107 119.389554 \nL 314.124107 138.803839 \nL 282.238393 138.803839 \nL 282.238393 119.389554 \n\" style=\"fill:#9abbff;stroke:#ffffff;stroke-width:0.5;\"/>\n    <path clip-path=\"url(#p5d2271f8c6)\" d=\"M 314.124107 119.389554 \nL 346.009821 119.389554 \nL 346.009821 138.803839 \nL 314.124107 138.803839 \nL 314.124107 119.389554 \n\" style=\"fill:#d2dbe8;stroke:#ffffff;stroke-width:0.5;\"/>\n    <path clip-path=\"url(#p5d2271f8c6)\" d=\"M 346.009821 119.389554 \nL 377.895536 119.389554 \nL 377.895536 138.803839 \nL 346.009821 138.803839 \nL 346.009821 119.389554 \n\" style=\"fill:#b40426;stroke:#ffffff;stroke-width:0.5;\"/>\n    <path clip-path=\"url(#p5d2271f8c6)\" d=\"M 377.895536 119.389554 \nL 409.78125 119.389554 \nL 409.78125 138.803839 \nL 377.895536 138.803839 \nL 377.895536 119.389554 \n\" style=\"fill:#cf453c;stroke:#ffffff;stroke-width:0.5;\"/>\n    <path clip-path=\"url(#p5d2271f8c6)\" d=\"M 409.78125 119.389554 \nL 441.666964 119.389554 \nL 441.666964 138.803839 \nL 409.78125 138.803839 \nL 409.78125 119.389554 \n\" style=\"fill:#81a4fb;stroke:#ffffff;stroke-width:0.5;\"/>\n    <path clip-path=\"url(#p5d2271f8c6)\" d=\"M 441.666964 119.389554 \nL 473.552679 119.389554 \nL 473.552679 138.803839 \nL 441.666964 138.803839 \nL 441.666964 119.389554 \n\" style=\"fill:#ef886b;stroke:#ffffff;stroke-width:0.5;\"/>\n    <path clip-path=\"url(#p5d2271f8c6)\" d=\"M 473.552679 119.389554 \nL 505.438393 119.389554 \nL 505.438393 138.803839 \nL 473.552679 138.803839 \nL 473.552679 119.389554 \n\" style=\"fill:#d2dbe8;stroke:#ffffff;stroke-width:0.5;\"/>\n    <path clip-path=\"url(#p5d2271f8c6)\" d=\"M 505.438393 119.389554 \nL 537.324107 119.389554 \nL 537.324107 138.803839 \nL 505.438393 138.803839 \nL 505.438393 119.389554 \n\" style=\"fill:#f7af91;stroke:#ffffff;stroke-width:0.5;\"/>\n    <path clip-path=\"url(#p5d2271f8c6)\" d=\"M 537.324107 119.389554 \nL 569.209821 119.389554 \nL 569.209821 138.803839 \nL 537.324107 138.803839 \nL 537.324107 119.389554 \n\" style=\"fill:#e67259;stroke:#ffffff;stroke-width:0.5;\"/>\n    <path clip-path=\"url(#p5d2271f8c6)\" d=\"M 569.209821 119.389554 \nL 601.095536 119.389554 \nL 601.095536 138.803839 \nL 569.209821 138.803839 \nL 569.209821 119.389554 \n\" style=\"fill:#f6a283;stroke:#ffffff;stroke-width:0.5;\"/>\n    <path clip-path=\"url(#p5d2271f8c6)\" d=\"M 601.095536 119.389554 \nL 632.98125 119.389554 \nL 632.98125 138.803839 \nL 601.095536 138.803839 \nL 601.095536 119.389554 \n\" style=\"fill:#4f69d9;stroke:#ffffff;stroke-width:0.5;\"/>\n    <path clip-path=\"url(#p5d2271f8c6)\" d=\"M 186.58125 138.803839 \nL 218.466964 138.803839 \nL 218.466964 158.218125 \nL 186.58125 158.218125 \nL 186.58125 138.803839 \n\" style=\"fill:#d2dbe8;stroke:#ffffff;stroke-width:0.5;\"/>\n    <path clip-path=\"url(#p5d2271f8c6)\" d=\"M 218.466964 138.803839 \nL 250.352679 138.803839 \nL 250.352679 158.218125 \nL 218.466964 158.218125 \nL 218.466964 138.803839 \n\" style=\"fill:#88abfd;stroke:#ffffff;stroke-width:0.5;\"/>\n    <path clip-path=\"url(#p5d2271f8c6)\" d=\"M 250.352679 138.803839 \nL 282.238393 138.803839 \nL 282.238393 158.218125 \nL 250.352679 158.218125 \nL 250.352679 138.803839 \n\" style=\"fill:#d2dbe8;stroke:#ffffff;stroke-width:0.5;\"/>\n    <path clip-path=\"url(#p5d2271f8c6)\" d=\"M 282.238393 138.803839 \nL 314.124107 138.803839 \nL 314.124107 158.218125 \nL 282.238393 158.218125 \nL 282.238393 138.803839 \n\" style=\"fill:#94b6ff;stroke:#ffffff;stroke-width:0.5;\"/>\n    <path clip-path=\"url(#p5d2271f8c6)\" d=\"M 314.124107 138.803839 \nL 346.009821 138.803839 \nL 346.009821 158.218125 \nL 314.124107 158.218125 \nL 314.124107 138.803839 \n\" style=\"fill:#d2dbe8;stroke:#ffffff;stroke-width:0.5;\"/>\n    <path clip-path=\"url(#p5d2271f8c6)\" d=\"M 346.009821 138.803839 \nL 377.895536 138.803839 \nL 377.895536 158.218125 \nL 346.009821 158.218125 \nL 346.009821 138.803839 \n\" style=\"fill:#cf453c;stroke:#ffffff;stroke-width:0.5;\"/>\n    <path clip-path=\"url(#p5d2271f8c6)\" d=\"M 377.895536 138.803839 \nL 409.78125 138.803839 \nL 409.78125 158.218125 \nL 377.895536 158.218125 \nL 377.895536 138.803839 \n\" style=\"fill:#b40426;stroke:#ffffff;stroke-width:0.5;\"/>\n    <path clip-path=\"url(#p5d2271f8c6)\" d=\"M 409.78125 138.803839 \nL 441.666964 138.803839 \nL 441.666964 158.218125 \nL 409.78125 158.218125 \nL 409.78125 138.803839 \n\" style=\"fill:#6f92f3;stroke:#ffffff;stroke-width:0.5;\"/>\n    <path clip-path=\"url(#p5d2271f8c6)\" d=\"M 441.666964 138.803839 \nL 473.552679 138.803839 \nL 473.552679 158.218125 \nL 441.666964 158.218125 \nL 441.666964 138.803839 \n\" style=\"fill:#ec7f63;stroke:#ffffff;stroke-width:0.5;\"/>\n    <path clip-path=\"url(#p5d2271f8c6)\" d=\"M 473.552679 138.803839 \nL 505.438393 138.803839 \nL 505.438393 158.218125 \nL 473.552679 158.218125 \nL 473.552679 138.803839 \n\" style=\"fill:#d2dbe8;stroke:#ffffff;stroke-width:0.5;\"/>\n    <path clip-path=\"url(#p5d2271f8c6)\" d=\"M 505.438393 138.803839 \nL 537.324107 138.803839 \nL 537.324107 158.218125 \nL 505.438393 158.218125 \nL 505.438393 138.803839 \n\" style=\"fill:#f4987a;stroke:#ffffff;stroke-width:0.5;\"/>\n    <path clip-path=\"url(#p5d2271f8c6)\" d=\"M 537.324107 138.803839 \nL 569.209821 138.803839 \nL 569.209821 158.218125 \nL 537.324107 158.218125 \nL 537.324107 138.803839 \n\" style=\"fill:#da5a49;stroke:#ffffff;stroke-width:0.5;\"/>\n    <path clip-path=\"url(#p5d2271f8c6)\" d=\"M 569.209821 138.803839 \nL 601.095536 138.803839 \nL 601.095536 158.218125 \nL 569.209821 158.218125 \nL 569.209821 138.803839 \n\" style=\"fill:#f6a385;stroke:#ffffff;stroke-width:0.5;\"/>\n    <path clip-path=\"url(#p5d2271f8c6)\" d=\"M 601.095536 138.803839 \nL 632.98125 138.803839 \nL 632.98125 158.218125 \nL 601.095536 158.218125 \nL 601.095536 138.803839 \n\" style=\"fill:#3b4cc0;stroke:#ffffff;stroke-width:0.5;\"/>\n    <path clip-path=\"url(#p5d2271f8c6)\" d=\"M 186.58125 158.218125 \nL 218.466964 158.218125 \nL 218.466964 177.632411 \nL 186.58125 177.632411 \nL 186.58125 158.218125 \n\" style=\"fill:#d2dbe8;stroke:#ffffff;stroke-width:0.5;\"/>\n    <path clip-path=\"url(#p5d2271f8c6)\" d=\"M 218.466964 158.218125 \nL 250.352679 158.218125 \nL 250.352679 177.632411 \nL 218.466964 177.632411 \nL 218.466964 158.218125 \n\" style=\"fill:#f3c7b1;stroke:#ffffff;stroke-width:0.5;\"/>\n    <path clip-path=\"url(#p5d2271f8c6)\" d=\"M 250.352679 158.218125 \nL 282.238393 158.218125 \nL 282.238393 177.632411 \nL 250.352679 177.632411 \nL 250.352679 158.218125 \n\" style=\"fill:#d2dbe8;stroke:#ffffff;stroke-width:0.5;\"/>\n    <path clip-path=\"url(#p5d2271f8c6)\" d=\"M 282.238393 158.218125 \nL 314.124107 158.218125 \nL 314.124107 177.632411 \nL 282.238393 177.632411 \nL 282.238393 158.218125 \n\" style=\"fill:#f7bca1;stroke:#ffffff;stroke-width:0.5;\"/>\n    <path clip-path=\"url(#p5d2271f8c6)\" d=\"M 314.124107 158.218125 \nL 346.009821 158.218125 \nL 346.009821 177.632411 \nL 314.124107 177.632411 \nL 314.124107 158.218125 \n\" style=\"fill:#a5c3fe;stroke:#ffffff;stroke-width:0.5;\"/>\n    <path clip-path=\"url(#p5d2271f8c6)\" d=\"M 346.009821 158.218125 \nL 377.895536 158.218125 \nL 377.895536 177.632411 \nL 346.009821 177.632411 \nL 346.009821 158.218125 \n\" style=\"fill:#81a4fb;stroke:#ffffff;stroke-width:0.5;\"/>\n    <path clip-path=\"url(#p5d2271f8c6)\" d=\"M 377.895536 158.218125 \nL 409.78125 158.218125 \nL 409.78125 177.632411 \nL 377.895536 177.632411 \nL 377.895536 158.218125 \n\" style=\"fill:#6f92f3;stroke:#ffffff;stroke-width:0.5;\"/>\n    <path clip-path=\"url(#p5d2271f8c6)\" d=\"M 409.78125 158.218125 \nL 441.666964 158.218125 \nL 441.666964 177.632411 \nL 409.78125 177.632411 \nL 409.78125 158.218125 \n\" style=\"fill:#b40426;stroke:#ffffff;stroke-width:0.5;\"/>\n    <path clip-path=\"url(#p5d2271f8c6)\" d=\"M 441.666964 158.218125 \nL 473.552679 158.218125 \nL 473.552679 177.632411 \nL 441.666964 177.632411 \nL 441.666964 158.218125 \n\" style=\"fill:#90b2fe;stroke:#ffffff;stroke-width:0.5;\"/>\n    <path clip-path=\"url(#p5d2271f8c6)\" d=\"M 473.552679 158.218125 \nL 505.438393 158.218125 \nL 505.438393 177.632411 \nL 473.552679 177.632411 \nL 473.552679 158.218125 \n\" style=\"fill:#d2dbe8;stroke:#ffffff;stroke-width:0.5;\"/>\n    <path clip-path=\"url(#p5d2271f8c6)\" d=\"M 505.438393 158.218125 \nL 537.324107 158.218125 \nL 537.324107 177.632411 \nL 505.438393 177.632411 \nL 505.438393 158.218125 \n\" style=\"fill:#a5c3fe;stroke:#ffffff;stroke-width:0.5;\"/>\n    <path clip-path=\"url(#p5d2271f8c6)\" d=\"M 537.324107 158.218125 \nL 569.209821 158.218125 \nL 569.209821 177.632411 \nL 537.324107 177.632411 \nL 537.324107 158.218125 \n\" style=\"fill:#779af7;stroke:#ffffff;stroke-width:0.5;\"/>\n    <path clip-path=\"url(#p5d2271f8c6)\" d=\"M 569.209821 158.218125 \nL 601.095536 158.218125 \nL 601.095536 177.632411 \nL 569.209821 177.632411 \nL 569.209821 158.218125 \n\" style=\"fill:#9bbcff;stroke:#ffffff;stroke-width:0.5;\"/>\n    <path clip-path=\"url(#p5d2271f8c6)\" d=\"M 601.095536 158.218125 \nL 632.98125 158.218125 \nL 632.98125 177.632411 \nL 601.095536 177.632411 \nL 601.095536 158.218125 \n\" style=\"fill:#f6a385;stroke:#ffffff;stroke-width:0.5;\"/>\n    <path clip-path=\"url(#p5d2271f8c6)\" d=\"M 186.58125 177.632411 \nL 218.466964 177.632411 \nL 218.466964 197.046696 \nL 186.58125 197.046696 \nL 186.58125 177.632411 \n\" style=\"fill:#d2dbe8;stroke:#ffffff;stroke-width:0.5;\"/>\n    <path clip-path=\"url(#p5d2271f8c6)\" d=\"M 218.466964 177.632411 \nL 250.352679 177.632411 \nL 250.352679 197.046696 \nL 218.466964 197.046696 \nL 218.466964 177.632411 \n\" style=\"fill:#d2dbe8;stroke:#ffffff;stroke-width:0.5;\"/>\n    <path clip-path=\"url(#p5d2271f8c6)\" d=\"M 250.352679 177.632411 \nL 282.238393 177.632411 \nL 282.238393 197.046696 \nL 250.352679 197.046696 \nL 250.352679 177.632411 \n\" style=\"fill:#d2dbe8;stroke:#ffffff;stroke-width:0.5;\"/>\n    <path clip-path=\"url(#p5d2271f8c6)\" d=\"M 282.238393 177.632411 \nL 314.124107 177.632411 \nL 314.124107 197.046696 \nL 282.238393 197.046696 \nL 282.238393 177.632411 \n\" style=\"fill:#d2dbe8;stroke:#ffffff;stroke-width:0.5;\"/>\n    <path clip-path=\"url(#p5d2271f8c6)\" d=\"M 314.124107 177.632411 \nL 346.009821 177.632411 \nL 346.009821 197.046696 \nL 314.124107 197.046696 \nL 314.124107 177.632411 \n\" style=\"fill:#d2dbe8;stroke:#ffffff;stroke-width:0.5;\"/>\n    <path clip-path=\"url(#p5d2271f8c6)\" d=\"M 346.009821 177.632411 \nL 377.895536 177.632411 \nL 377.895536 197.046696 \nL 346.009821 197.046696 \nL 346.009821 177.632411 \n\" style=\"fill:#ef886b;stroke:#ffffff;stroke-width:0.5;\"/>\n    <path clip-path=\"url(#p5d2271f8c6)\" d=\"M 377.895536 177.632411 \nL 409.78125 177.632411 \nL 409.78125 197.046696 \nL 377.895536 197.046696 \nL 377.895536 177.632411 \n\" style=\"fill:#ec7f63;stroke:#ffffff;stroke-width:0.5;\"/>\n    <path clip-path=\"url(#p5d2271f8c6)\" d=\"M 409.78125 177.632411 \nL 441.666964 177.632411 \nL 441.666964 197.046696 \nL 409.78125 197.046696 \nL 409.78125 177.632411 \n\" style=\"fill:#90b2fe;stroke:#ffffff;stroke-width:0.5;\"/>\n    <path clip-path=\"url(#p5d2271f8c6)\" d=\"M 441.666964 177.632411 \nL 473.552679 177.632411 \nL 473.552679 197.046696 \nL 441.666964 197.046696 \nL 441.666964 177.632411 \n\" style=\"fill:#b40426;stroke:#ffffff;stroke-width:0.5;\"/>\n    <path clip-path=\"url(#p5d2271f8c6)\" d=\"M 473.552679 177.632411 \nL 505.438393 177.632411 \nL 505.438393 197.046696 \nL 473.552679 197.046696 \nL 473.552679 177.632411 \n\" style=\"fill:#d2dbe8;stroke:#ffffff;stroke-width:0.5;\"/>\n    <path clip-path=\"url(#p5d2271f8c6)\" d=\"M 505.438393 177.632411 \nL 537.324107 177.632411 \nL 537.324107 197.046696 \nL 505.438393 197.046696 \nL 505.438393 177.632411 \n\" style=\"fill:#f4c5ad;stroke:#ffffff;stroke-width:0.5;\"/>\n    <path clip-path=\"url(#p5d2271f8c6)\" d=\"M 537.324107 177.632411 \nL 569.209821 177.632411 \nL 569.209821 197.046696 \nL 537.324107 197.046696 \nL 537.324107 177.632411 \n\" style=\"fill:#f59d7e;stroke:#ffffff;stroke-width:0.5;\"/>\n    <path clip-path=\"url(#p5d2271f8c6)\" d=\"M 569.209821 177.632411 \nL 601.095536 177.632411 \nL 601.095536 197.046696 \nL 569.209821 197.046696 \nL 569.209821 177.632411 \n\" style=\"fill:#f5c0a7;stroke:#ffffff;stroke-width:0.5;\"/>\n    <path clip-path=\"url(#p5d2271f8c6)\" d=\"M 601.095536 177.632411 \nL 632.98125 177.632411 \nL 632.98125 197.046696 \nL 601.095536 197.046696 \nL 601.095536 177.632411 \n\" style=\"fill:#779af7;stroke:#ffffff;stroke-width:0.5;\"/>\n    <path clip-path=\"url(#p5d2271f8c6)\" d=\"M 186.58125 197.046696 \nL 218.466964 197.046696 \nL 218.466964 216.460982 \nL 186.58125 216.460982 \nL 186.58125 197.046696 \n\" style=\"fill:#f39778;stroke:#ffffff;stroke-width:0.5;\"/>\n    <path clip-path=\"url(#p5d2271f8c6)\" d=\"M 218.466964 197.046696 \nL 250.352679 197.046696 \nL 250.352679 216.460982 \nL 218.466964 216.460982 \nL 218.466964 197.046696 \n\" style=\"fill:#f1ccb8;stroke:#ffffff;stroke-width:0.5;\"/>\n    <path clip-path=\"url(#p5d2271f8c6)\" d=\"M 250.352679 197.046696 \nL 282.238393 197.046696 \nL 282.238393 216.460982 \nL 250.352679 216.460982 \nL 250.352679 197.046696 \n\" style=\"fill:#f2cbb7;stroke:#ffffff;stroke-width:0.5;\"/>\n    <path clip-path=\"url(#p5d2271f8c6)\" d=\"M 282.238393 197.046696 \nL 314.124107 197.046696 \nL 314.124107 216.460982 \nL 282.238393 216.460982 \nL 282.238393 197.046696 \n\" style=\"fill:#d2dbe8;stroke:#ffffff;stroke-width:0.5;\"/>\n    <path clip-path=\"url(#p5d2271f8c6)\" d=\"M 314.124107 197.046696 \nL 346.009821 197.046696 \nL 346.009821 216.460982 \nL 314.124107 216.460982 \nL 314.124107 197.046696 \n\" style=\"fill:#d2dbe8;stroke:#ffffff;stroke-width:0.5;\"/>\n    <path clip-path=\"url(#p5d2271f8c6)\" d=\"M 346.009821 197.046696 \nL 377.895536 197.046696 \nL 377.895536 216.460982 \nL 346.009821 216.460982 \nL 346.009821 197.046696 \n\" style=\"fill:#d2dbe8;stroke:#ffffff;stroke-width:0.5;\"/>\n    <path clip-path=\"url(#p5d2271f8c6)\" d=\"M 377.895536 197.046696 \nL 409.78125 197.046696 \nL 409.78125 216.460982 \nL 377.895536 216.460982 \nL 377.895536 197.046696 \n\" style=\"fill:#d2dbe8;stroke:#ffffff;stroke-width:0.5;\"/>\n    <path clip-path=\"url(#p5d2271f8c6)\" d=\"M 409.78125 197.046696 \nL 441.666964 197.046696 \nL 441.666964 216.460982 \nL 409.78125 216.460982 \nL 409.78125 197.046696 \n\" style=\"fill:#d2dbe8;stroke:#ffffff;stroke-width:0.5;\"/>\n    <path clip-path=\"url(#p5d2271f8c6)\" d=\"M 441.666964 197.046696 \nL 473.552679 197.046696 \nL 473.552679 216.460982 \nL 441.666964 216.460982 \nL 441.666964 197.046696 \n\" style=\"fill:#d2dbe8;stroke:#ffffff;stroke-width:0.5;\"/>\n    <path clip-path=\"url(#p5d2271f8c6)\" d=\"M 473.552679 197.046696 \nL 505.438393 197.046696 \nL 505.438393 216.460982 \nL 473.552679 216.460982 \nL 473.552679 197.046696 \n\" style=\"fill:#b40426;stroke:#ffffff;stroke-width:0.5;\"/>\n    <path clip-path=\"url(#p5d2271f8c6)\" d=\"M 505.438393 197.046696 \nL 537.324107 197.046696 \nL 537.324107 216.460982 \nL 505.438393 216.460982 \nL 505.438393 197.046696 \n\" style=\"fill:#7396f5;stroke:#ffffff;stroke-width:0.5;\"/>\n    <path clip-path=\"url(#p5d2271f8c6)\" d=\"M 537.324107 197.046696 \nL 569.209821 197.046696 \nL 569.209821 216.460982 \nL 537.324107 216.460982 \nL 537.324107 197.046696 \n\" style=\"fill:#85a8fc;stroke:#ffffff;stroke-width:0.5;\"/>\n    <path clip-path=\"url(#p5d2271f8c6)\" d=\"M 569.209821 197.046696 \nL 601.095536 197.046696 \nL 601.095536 216.460982 \nL 569.209821 216.460982 \nL 569.209821 197.046696 \n\" style=\"fill:#f5c2aa;stroke:#ffffff;stroke-width:0.5;\"/>\n    <path clip-path=\"url(#p5d2271f8c6)\" d=\"M 601.095536 197.046696 \nL 632.98125 197.046696 \nL 632.98125 216.460982 \nL 601.095536 216.460982 \nL 601.095536 197.046696 \n\" style=\"fill:#f2cab5;stroke:#ffffff;stroke-width:0.5;\"/>\n    <path clip-path=\"url(#p5d2271f8c6)\" d=\"M 186.58125 216.460982 \nL 218.466964 216.460982 \nL 218.466964 235.875268 \nL 186.58125 235.875268 \nL 186.58125 216.460982 \n\" style=\"fill:#d2dbe8;stroke:#ffffff;stroke-width:0.5;\"/>\n    <path clip-path=\"url(#p5d2271f8c6)\" d=\"M 218.466964 216.460982 \nL 250.352679 216.460982 \nL 250.352679 235.875268 \nL 218.466964 235.875268 \nL 218.466964 216.460982 \n\" style=\"fill:#6c8ff1;stroke:#ffffff;stroke-width:0.5;\"/>\n    <path clip-path=\"url(#p5d2271f8c6)\" d=\"M 250.352679 216.460982 \nL 282.238393 216.460982 \nL 282.238393 235.875268 \nL 250.352679 235.875268 \nL 250.352679 216.460982 \n\" style=\"fill:#d2dbe8;stroke:#ffffff;stroke-width:0.5;\"/>\n    <path clip-path=\"url(#p5d2271f8c6)\" d=\"M 282.238393 216.460982 \nL 314.124107 216.460982 \nL 314.124107 235.875268 \nL 282.238393 235.875268 \nL 282.238393 216.460982 \n\" style=\"fill:#a3c2fe;stroke:#ffffff;stroke-width:0.5;\"/>\n    <path clip-path=\"url(#p5d2271f8c6)\" d=\"M 314.124107 216.460982 \nL 346.009821 216.460982 \nL 346.009821 235.875268 \nL 314.124107 235.875268 \nL 314.124107 216.460982 \n\" style=\"fill:#d2dbe8;stroke:#ffffff;stroke-width:0.5;\"/>\n    <path clip-path=\"url(#p5d2271f8c6)\" d=\"M 346.009821 216.460982 \nL 377.895536 216.460982 \nL 377.895536 235.875268 \nL 346.009821 235.875268 \nL 346.009821 216.460982 \n\" style=\"fill:#f7af91;stroke:#ffffff;stroke-width:0.5;\"/>\n    <path clip-path=\"url(#p5d2271f8c6)\" d=\"M 377.895536 216.460982 \nL 409.78125 216.460982 \nL 409.78125 235.875268 \nL 377.895536 235.875268 \nL 377.895536 216.460982 \n\" style=\"fill:#f4987a;stroke:#ffffff;stroke-width:0.5;\"/>\n    <path clip-path=\"url(#p5d2271f8c6)\" d=\"M 409.78125 216.460982 \nL 441.666964 216.460982 \nL 441.666964 235.875268 \nL 409.78125 235.875268 \nL 409.78125 216.460982 \n\" style=\"fill:#a5c3fe;stroke:#ffffff;stroke-width:0.5;\"/>\n    <path clip-path=\"url(#p5d2271f8c6)\" d=\"M 441.666964 216.460982 \nL 473.552679 216.460982 \nL 473.552679 235.875268 \nL 441.666964 235.875268 \nL 441.666964 216.460982 \n\" style=\"fill:#f4c5ad;stroke:#ffffff;stroke-width:0.5;\"/>\n    <path clip-path=\"url(#p5d2271f8c6)\" d=\"M 473.552679 216.460982 \nL 505.438393 216.460982 \nL 505.438393 235.875268 \nL 473.552679 235.875268 \nL 473.552679 216.460982 \n\" style=\"fill:#7396f5;stroke:#ffffff;stroke-width:0.5;\"/>\n    <path clip-path=\"url(#p5d2271f8c6)\" d=\"M 505.438393 216.460982 \nL 537.324107 216.460982 \nL 537.324107 235.875268 \nL 505.438393 235.875268 \nL 505.438393 216.460982 \n\" style=\"fill:#b40426;stroke:#ffffff;stroke-width:0.5;\"/>\n    <path clip-path=\"url(#p5d2271f8c6)\" d=\"M 537.324107 216.460982 \nL 569.209821 216.460982 \nL 569.209821 235.875268 \nL 537.324107 235.875268 \nL 537.324107 216.460982 \n\" style=\"fill:#f29274;stroke:#ffffff;stroke-width:0.5;\"/>\n    <path clip-path=\"url(#p5d2271f8c6)\" d=\"M 569.209821 216.460982 \nL 601.095536 216.460982 \nL 601.095536 235.875268 \nL 569.209821 235.875268 \nL 569.209821 216.460982 \n\" style=\"fill:#d2dbe8;stroke:#ffffff;stroke-width:0.5;\"/>\n    <path clip-path=\"url(#p5d2271f8c6)\" d=\"M 601.095536 216.460982 \nL 632.98125 216.460982 \nL 632.98125 235.875268 \nL 601.095536 235.875268 \nL 601.095536 216.460982 \n\" style=\"fill:#6180e9;stroke:#ffffff;stroke-width:0.5;\"/>\n    <path clip-path=\"url(#p5d2271f8c6)\" d=\"M 186.58125 235.875268 \nL 218.466964 235.875268 \nL 218.466964 255.289554 \nL 186.58125 255.289554 \nL 186.58125 235.875268 \n\" style=\"fill:#d2dbe8;stroke:#ffffff;stroke-width:0.5;\"/>\n    <path clip-path=\"url(#p5d2271f8c6)\" d=\"M 218.466964 235.875268 \nL 250.352679 235.875268 \nL 250.352679 255.289554 \nL 218.466964 255.289554 \nL 218.466964 235.875268 \n\" style=\"fill:#90b2fe;stroke:#ffffff;stroke-width:0.5;\"/>\n    <path clip-path=\"url(#p5d2271f8c6)\" d=\"M 250.352679 235.875268 \nL 282.238393 235.875268 \nL 282.238393 255.289554 \nL 250.352679 255.289554 \nL 250.352679 235.875268 \n\" style=\"fill:#d2dbe8;stroke:#ffffff;stroke-width:0.5;\"/>\n    <path clip-path=\"url(#p5d2271f8c6)\" d=\"M 282.238393 235.875268 \nL 314.124107 235.875268 \nL 314.124107 255.289554 \nL 282.238393 255.289554 \nL 282.238393 235.875268 \n\" style=\"fill:#a1c0ff;stroke:#ffffff;stroke-width:0.5;\"/>\n    <path clip-path=\"url(#p5d2271f8c6)\" d=\"M 314.124107 235.875268 \nL 346.009821 235.875268 \nL 346.009821 255.289554 \nL 314.124107 255.289554 \nL 314.124107 235.875268 \n\" style=\"fill:#d2dbe8;stroke:#ffffff;stroke-width:0.5;\"/>\n    <path clip-path=\"url(#p5d2271f8c6)\" d=\"M 346.009821 235.875268 \nL 377.895536 235.875268 \nL 377.895536 255.289554 \nL 346.009821 255.289554 \nL 346.009821 235.875268 \n\" style=\"fill:#e67259;stroke:#ffffff;stroke-width:0.5;\"/>\n    <path clip-path=\"url(#p5d2271f8c6)\" d=\"M 377.895536 235.875268 \nL 409.78125 235.875268 \nL 409.78125 255.289554 \nL 377.895536 255.289554 \nL 377.895536 235.875268 \n\" style=\"fill:#da5a49;stroke:#ffffff;stroke-width:0.5;\"/>\n    <path clip-path=\"url(#p5d2271f8c6)\" d=\"M 409.78125 235.875268 \nL 441.666964 235.875268 \nL 441.666964 255.289554 \nL 409.78125 255.289554 \nL 409.78125 235.875268 \n\" style=\"fill:#779af7;stroke:#ffffff;stroke-width:0.5;\"/>\n    <path clip-path=\"url(#p5d2271f8c6)\" d=\"M 441.666964 235.875268 \nL 473.552679 235.875268 \nL 473.552679 255.289554 \nL 441.666964 255.289554 \nL 441.666964 235.875268 \n\" style=\"fill:#f59d7e;stroke:#ffffff;stroke-width:0.5;\"/>\n    <path clip-path=\"url(#p5d2271f8c6)\" d=\"M 473.552679 235.875268 \nL 505.438393 235.875268 \nL 505.438393 255.289554 \nL 473.552679 255.289554 \nL 473.552679 235.875268 \n\" style=\"fill:#85a8fc;stroke:#ffffff;stroke-width:0.5;\"/>\n    <path clip-path=\"url(#p5d2271f8c6)\" d=\"M 505.438393 235.875268 \nL 537.324107 235.875268 \nL 537.324107 255.289554 \nL 505.438393 255.289554 \nL 505.438393 235.875268 \n\" style=\"fill:#f29274;stroke:#ffffff;stroke-width:0.5;\"/>\n    <path clip-path=\"url(#p5d2271f8c6)\" d=\"M 537.324107 235.875268 \nL 569.209821 235.875268 \nL 569.209821 255.289554 \nL 537.324107 255.289554 \nL 537.324107 235.875268 \n\" style=\"fill:#b40426;stroke:#ffffff;stroke-width:0.5;\"/>\n    <path clip-path=\"url(#p5d2271f8c6)\" d=\"M 569.209821 235.875268 \nL 601.095536 235.875268 \nL 601.095536 255.289554 \nL 569.209821 255.289554 \nL 569.209821 235.875268 \n\" style=\"fill:#f5c4ac;stroke:#ffffff;stroke-width:0.5;\"/>\n    <path clip-path=\"url(#p5d2271f8c6)\" d=\"M 601.095536 235.875268 \nL 632.98125 235.875268 \nL 632.98125 255.289554 \nL 601.095536 255.289554 \nL 601.095536 235.875268 \n\" style=\"fill:#445acc;stroke:#ffffff;stroke-width:0.5;\"/>\n    <path clip-path=\"url(#p5d2271f8c6)\" d=\"M 186.58125 255.289554 \nL 218.466964 255.289554 \nL 218.466964 274.703839 \nL 186.58125 274.703839 \nL 186.58125 255.289554 \n\" style=\"fill:#ec8165;stroke:#ffffff;stroke-width:0.5;\"/>\n    <path clip-path=\"url(#p5d2271f8c6)\" d=\"M 218.466964 255.289554 \nL 250.352679 255.289554 \nL 250.352679 274.703839 \nL 218.466964 274.703839 \nL 218.466964 255.289554 \n\" style=\"fill:#d2dbe8;stroke:#ffffff;stroke-width:0.5;\"/>\n    <path clip-path=\"url(#p5d2271f8c6)\" d=\"M 250.352679 255.289554 \nL 282.238393 255.289554 \nL 282.238393 274.703839 \nL 250.352679 274.703839 \nL 250.352679 255.289554 \n\" style=\"fill:#d2dbe8;stroke:#ffffff;stroke-width:0.5;\"/>\n    <path clip-path=\"url(#p5d2271f8c6)\" d=\"M 282.238393 255.289554 \nL 314.124107 255.289554 \nL 314.124107 274.703839 \nL 282.238393 274.703839 \nL 282.238393 255.289554 \n\" style=\"fill:#82a6fb;stroke:#ffffff;stroke-width:0.5;\"/>\n    <path clip-path=\"url(#p5d2271f8c6)\" d=\"M 314.124107 255.289554 \nL 346.009821 255.289554 \nL 346.009821 274.703839 \nL 314.124107 274.703839 \nL 314.124107 255.289554 \n\" style=\"fill:#f7b79b;stroke:#ffffff;stroke-width:0.5;\"/>\n    <path clip-path=\"url(#p5d2271f8c6)\" d=\"M 346.009821 255.289554 \nL 377.895536 255.289554 \nL 377.895536 274.703839 \nL 346.009821 274.703839 \nL 346.009821 255.289554 \n\" style=\"fill:#f6a283;stroke:#ffffff;stroke-width:0.5;\"/>\n    <path clip-path=\"url(#p5d2271f8c6)\" d=\"M 377.895536 255.289554 \nL 409.78125 255.289554 \nL 409.78125 274.703839 \nL 377.895536 274.703839 \nL 377.895536 255.289554 \n\" style=\"fill:#f6a385;stroke:#ffffff;stroke-width:0.5;\"/>\n    <path clip-path=\"url(#p5d2271f8c6)\" d=\"M 409.78125 255.289554 \nL 441.666964 255.289554 \nL 441.666964 274.703839 \nL 409.78125 274.703839 \nL 409.78125 255.289554 \n\" style=\"fill:#9bbcff;stroke:#ffffff;stroke-width:0.5;\"/>\n    <path clip-path=\"url(#p5d2271f8c6)\" d=\"M 441.666964 255.289554 \nL 473.552679 255.289554 \nL 473.552679 274.703839 \nL 441.666964 274.703839 \nL 441.666964 255.289554 \n\" style=\"fill:#f5c0a7;stroke:#ffffff;stroke-width:0.5;\"/>\n    <path clip-path=\"url(#p5d2271f8c6)\" d=\"M 473.552679 255.289554 \nL 505.438393 255.289554 \nL 505.438393 274.703839 \nL 473.552679 274.703839 \nL 473.552679 255.289554 \n\" style=\"fill:#f5c2aa;stroke:#ffffff;stroke-width:0.5;\"/>\n    <path clip-path=\"url(#p5d2271f8c6)\" d=\"M 505.438393 255.289554 \nL 537.324107 255.289554 \nL 537.324107 274.703839 \nL 505.438393 274.703839 \nL 505.438393 255.289554 \n\" style=\"fill:#d2dbe8;stroke:#ffffff;stroke-width:0.5;\"/>\n    <path clip-path=\"url(#p5d2271f8c6)\" d=\"M 537.324107 255.289554 \nL 569.209821 255.289554 \nL 569.209821 274.703839 \nL 537.324107 274.703839 \nL 537.324107 255.289554 \n\" style=\"fill:#f5c4ac;stroke:#ffffff;stroke-width:0.5;\"/>\n    <path clip-path=\"url(#p5d2271f8c6)\" d=\"M 569.209821 255.289554 \nL 601.095536 255.289554 \nL 601.095536 274.703839 \nL 569.209821 274.703839 \nL 569.209821 255.289554 \n\" style=\"fill:#b40426;stroke:#ffffff;stroke-width:0.5;\"/>\n    <path clip-path=\"url(#p5d2271f8c6)\" d=\"M 601.095536 255.289554 \nL 632.98125 255.289554 \nL 632.98125 274.703839 \nL 601.095536 274.703839 \nL 601.095536 255.289554 \n\" style=\"fill:#5f7fe8;stroke:#ffffff;stroke-width:0.5;\"/>\n    <path clip-path=\"url(#p5d2271f8c6)\" d=\"M 186.58125 274.703839 \nL 218.466964 274.703839 \nL 218.466964 294.118125 \nL 186.58125 294.118125 \nL 186.58125 274.703839 \n\" style=\"fill:#97b8ff;stroke:#ffffff;stroke-width:0.5;\"/>\n    <path clip-path=\"url(#p5d2271f8c6)\" d=\"M 218.466964 274.703839 \nL 250.352679 274.703839 \nL 250.352679 294.118125 \nL 218.466964 294.118125 \nL 218.466964 274.703839 \n\" style=\"fill:#f7ad90;stroke:#ffffff;stroke-width:0.5;\"/>\n    <path clip-path=\"url(#p5d2271f8c6)\" d=\"M 250.352679 274.703839 \nL 282.238393 274.703839 \nL 282.238393 294.118125 \nL 250.352679 294.118125 \nL 250.352679 274.703839 \n\" style=\"fill:#d2dbe8;stroke:#ffffff;stroke-width:0.5;\"/>\n    <path clip-path=\"url(#p5d2271f8c6)\" d=\"M 282.238393 274.703839 \nL 314.124107 274.703839 \nL 314.124107 294.118125 \nL 282.238393 294.118125 \nL 282.238393 274.703839 \n\" style=\"fill:#f59d7e;stroke:#ffffff;stroke-width:0.5;\"/>\n    <path clip-path=\"url(#p5d2271f8c6)\" d=\"M 314.124107 274.703839 \nL 346.009821 274.703839 \nL 346.009821 294.118125 \nL 314.124107 294.118125 \nL 314.124107 274.703839 \n\" style=\"fill:#d2dbe8;stroke:#ffffff;stroke-width:0.5;\"/>\n    <path clip-path=\"url(#p5d2271f8c6)\" d=\"M 346.009821 274.703839 \nL 377.895536 274.703839 \nL 377.895536 294.118125 \nL 346.009821 294.118125 \nL 346.009821 274.703839 \n\" style=\"fill:#4f69d9;stroke:#ffffff;stroke-width:0.5;\"/>\n    <path clip-path=\"url(#p5d2271f8c6)\" d=\"M 377.895536 274.703839 \nL 409.78125 274.703839 \nL 409.78125 294.118125 \nL 377.895536 294.118125 \nL 377.895536 274.703839 \n\" style=\"fill:#3b4cc0;stroke:#ffffff;stroke-width:0.5;\"/>\n    <path clip-path=\"url(#p5d2271f8c6)\" d=\"M 409.78125 274.703839 \nL 441.666964 274.703839 \nL 441.666964 294.118125 \nL 409.78125 294.118125 \nL 409.78125 274.703839 \n\" style=\"fill:#f6a385;stroke:#ffffff;stroke-width:0.5;\"/>\n    <path clip-path=\"url(#p5d2271f8c6)\" d=\"M 441.666964 274.703839 \nL 473.552679 274.703839 \nL 473.552679 294.118125 \nL 441.666964 294.118125 \nL 441.666964 274.703839 \n\" style=\"fill:#779af7;stroke:#ffffff;stroke-width:0.5;\"/>\n    <path clip-path=\"url(#p5d2271f8c6)\" d=\"M 473.552679 274.703839 \nL 505.438393 274.703839 \nL 505.438393 294.118125 \nL 473.552679 294.118125 \nL 473.552679 274.703839 \n\" style=\"fill:#f2cab5;stroke:#ffffff;stroke-width:0.5;\"/>\n    <path clip-path=\"url(#p5d2271f8c6)\" d=\"M 505.438393 274.703839 \nL 537.324107 274.703839 \nL 537.324107 294.118125 \nL 505.438393 294.118125 \nL 505.438393 274.703839 \n\" style=\"fill:#6180e9;stroke:#ffffff;stroke-width:0.5;\"/>\n    <path clip-path=\"url(#p5d2271f8c6)\" d=\"M 537.324107 274.703839 \nL 569.209821 274.703839 \nL 569.209821 294.118125 \nL 537.324107 294.118125 \nL 537.324107 274.703839 \n\" style=\"fill:#445acc;stroke:#ffffff;stroke-width:0.5;\"/>\n    <path clip-path=\"url(#p5d2271f8c6)\" d=\"M 569.209821 274.703839 \nL 601.095536 274.703839 \nL 601.095536 294.118125 \nL 569.209821 294.118125 \nL 569.209821 274.703839 \n\" style=\"fill:#5f7fe8;stroke:#ffffff;stroke-width:0.5;\"/>\n    <path clip-path=\"url(#p5d2271f8c6)\" d=\"M 601.095536 274.703839 \nL 632.98125 274.703839 \nL 632.98125 294.118125 \nL 601.095536 294.118125 \nL 601.095536 274.703839 \n\" style=\"fill:#b40426;stroke:#ffffff;stroke-width:0.5;\"/>\n   </g>\n   <g id=\"text_29\">\n    <!-- 1 -->\n    <g style=\"fill:#ffffff;\" transform=\"translate(198.706607 35.336518)scale(0.12 -0.12)\">\n     <use xlink:href=\"#DejaVuSans-49\"/>\n    </g>\n   </g>\n   <g id=\"text_30\">\n    <!-- 0 -->\n    <g style=\"fill:#262626;\" transform=\"translate(230.592321 35.336518)scale(0.12 -0.12)\">\n     <use xlink:href=\"#DejaVuSans-48\"/>\n    </g>\n   </g>\n   <g id=\"text_31\">\n    <!-- 0 -->\n    <g style=\"fill:#262626;\" transform=\"translate(262.478036 35.336518)scale(0.12 -0.12)\">\n     <use xlink:href=\"#DejaVuSans-48\"/>\n    </g>\n   </g>\n   <g id=\"text_32\">\n    <!-- -0.31 -->\n    <defs>\n     <path d=\"M 4.890625 31.390625 \nL 31.203125 31.390625 \nL 31.203125 23.390625 \nL 4.890625 23.390625 \nz\n\" id=\"DejaVuSans-45\"/>\n     <path d=\"M 10.6875 12.40625 \nL 21 12.40625 \nL 21 0 \nL 10.6875 0 \nz\n\" id=\"DejaVuSans-46\"/>\n    </defs>\n    <g style=\"fill:#262626;\" transform=\"translate(282.657187 35.336518)scale(0.12 -0.12)\">\n     <use xlink:href=\"#DejaVuSans-45\"/>\n     <use x=\"36.083984\" xlink:href=\"#DejaVuSans-48\"/>\n     <use x=\"99.707031\" xlink:href=\"#DejaVuSans-46\"/>\n     <use x=\"131.494141\" xlink:href=\"#DejaVuSans-51\"/>\n     <use x=\"195.117188\" xlink:href=\"#DejaVuSans-49\"/>\n    </g>\n   </g>\n   <g id=\"text_33\">\n    <!-- 0.27 -->\n    <defs>\n     <path d=\"M 8.203125 72.90625 \nL 55.078125 72.90625 \nL 55.078125 68.703125 \nL 28.609375 0 \nL 18.3125 0 \nL 43.21875 64.59375 \nL 8.203125 64.59375 \nz\n\" id=\"DejaVuSans-55\"/>\n    </defs>\n    <g style=\"fill:#262626;\" transform=\"translate(316.707589 35.336518)scale(0.12 -0.12)\">\n     <use xlink:href=\"#DejaVuSans-48\"/>\n     <use x=\"63.623047\" xlink:href=\"#DejaVuSans-46\"/>\n     <use x=\"95.410156\" xlink:href=\"#DejaVuSans-50\"/>\n     <use x=\"159.033203\" xlink:href=\"#DejaVuSans-55\"/>\n    </g>\n   </g>\n   <g id=\"text_34\">\n    <!-- 0.29 -->\n    <defs>\n     <path d=\"M 10.984375 1.515625 \nL 10.984375 10.5 \nQ 14.703125 8.734375 18.5 7.8125 \nQ 22.3125 6.890625 25.984375 6.890625 \nQ 35.75 6.890625 40.890625 13.453125 \nQ 46.046875 20.015625 46.78125 33.40625 \nQ 43.953125 29.203125 39.59375 26.953125 \nQ 35.25 24.703125 29.984375 24.703125 \nQ 19.046875 24.703125 12.671875 31.3125 \nQ 6.296875 37.9375 6.296875 49.421875 \nQ 6.296875 60.640625 12.9375 67.421875 \nQ 19.578125 74.21875 30.609375 74.21875 \nQ 43.265625 74.21875 49.921875 64.515625 \nQ 56.59375 54.828125 56.59375 36.375 \nQ 56.59375 19.140625 48.40625 8.859375 \nQ 40.234375 -1.421875 26.421875 -1.421875 \nQ 22.703125 -1.421875 18.890625 -0.6875 \nQ 15.09375 0.046875 10.984375 1.515625 \nz\nM 30.609375 32.421875 \nQ 37.25 32.421875 41.125 36.953125 \nQ 45.015625 41.5 45.015625 49.421875 \nQ 45.015625 57.28125 41.125 61.84375 \nQ 37.25 66.40625 30.609375 66.40625 \nQ 23.96875 66.40625 20.09375 61.84375 \nQ 16.21875 57.28125 16.21875 49.421875 \nQ 16.21875 41.5 20.09375 36.953125 \nQ 23.96875 32.421875 30.609375 32.421875 \nz\n\" id=\"DejaVuSans-57\"/>\n    </defs>\n    <g style=\"fill:#262626;\" transform=\"translate(348.593304 35.336518)scale(0.12 -0.12)\">\n     <use xlink:href=\"#DejaVuSans-48\"/>\n     <use x=\"63.623047\" xlink:href=\"#DejaVuSans-46\"/>\n     <use x=\"95.410156\" xlink:href=\"#DejaVuSans-50\"/>\n     <use x=\"159.033203\" xlink:href=\"#DejaVuSans-57\"/>\n    </g>\n   </g>\n   <g id=\"text_35\">\n    <!-- 0 -->\n    <g style=\"fill:#262626;\" transform=\"translate(390.020893 35.336518)scale(0.12 -0.12)\">\n     <use xlink:href=\"#DejaVuSans-48\"/>\n    </g>\n   </g>\n   <g id=\"text_36\">\n    <!-- 0 -->\n    <g style=\"fill:#262626;\" transform=\"translate(421.906607 35.336518)scale(0.12 -0.12)\">\n     <use xlink:href=\"#DejaVuSans-48\"/>\n    </g>\n   </g>\n   <g id=\"text_37\">\n    <!-- 0 -->\n    <g style=\"fill:#262626;\" transform=\"translate(453.792321 35.336518)scale(0.12 -0.12)\">\n     <use xlink:href=\"#DejaVuSans-48\"/>\n    </g>\n   </g>\n   <g id=\"text_38\">\n    <!-- 0.55 -->\n    <g style=\"fill:#262626;\" transform=\"translate(476.136161 35.336518)scale(0.12 -0.12)\">\n     <use xlink:href=\"#DejaVuSans-48\"/>\n     <use x=\"63.623047\" xlink:href=\"#DejaVuSans-46\"/>\n     <use x=\"95.410156\" xlink:href=\"#DejaVuSans-53\"/>\n     <use x=\"159.033203\" xlink:href=\"#DejaVuSans-53\"/>\n    </g>\n   </g>\n   <g id=\"text_39\">\n    <!-- 0 -->\n    <g style=\"fill:#262626;\" transform=\"translate(517.56375 35.336518)scale(0.12 -0.12)\">\n     <use xlink:href=\"#DejaVuSans-48\"/>\n    </g>\n   </g>\n   <g id=\"text_40\">\n    <!-- 0 -->\n    <g style=\"fill:#262626;\" transform=\"translate(549.449464 35.336518)scale(0.12 -0.12)\">\n     <use xlink:href=\"#DejaVuSans-48\"/>\n    </g>\n   </g>\n   <g id=\"text_41\">\n    <!-- 0.64 -->\n    <defs>\n     <path d=\"M 33.015625 40.375 \nQ 26.375 40.375 22.484375 35.828125 \nQ 18.609375 31.296875 18.609375 23.390625 \nQ 18.609375 15.53125 22.484375 10.953125 \nQ 26.375 6.390625 33.015625 6.390625 \nQ 39.65625 6.390625 43.53125 10.953125 \nQ 47.40625 15.53125 47.40625 23.390625 \nQ 47.40625 31.296875 43.53125 35.828125 \nQ 39.65625 40.375 33.015625 40.375 \nz\nM 52.59375 71.296875 \nL 52.59375 62.3125 \nQ 48.875 64.0625 45.09375 64.984375 \nQ 41.3125 65.921875 37.59375 65.921875 \nQ 27.828125 65.921875 22.671875 59.328125 \nQ 17.53125 52.734375 16.796875 39.40625 \nQ 19.671875 43.65625 24.015625 45.921875 \nQ 28.375 48.1875 33.59375 48.1875 \nQ 44.578125 48.1875 50.953125 41.515625 \nQ 57.328125 34.859375 57.328125 23.390625 \nQ 57.328125 12.15625 50.6875 5.359375 \nQ 44.046875 -1.421875 33.015625 -1.421875 \nQ 20.359375 -1.421875 13.671875 8.265625 \nQ 6.984375 17.96875 6.984375 36.375 \nQ 6.984375 53.65625 15.1875 63.9375 \nQ 23.390625 74.21875 37.203125 74.21875 \nQ 40.921875 74.21875 44.703125 73.484375 \nQ 48.484375 72.75 52.59375 71.296875 \nz\n\" id=\"DejaVuSans-54\"/>\n     <path d=\"M 37.796875 64.3125 \nL 12.890625 25.390625 \nL 37.796875 25.390625 \nz\nM 35.203125 72.90625 \nL 47.609375 72.90625 \nL 47.609375 25.390625 \nL 58.015625 25.390625 \nL 58.015625 17.1875 \nL 47.609375 17.1875 \nL 47.609375 0 \nL 37.796875 0 \nL 37.796875 17.1875 \nL 4.890625 17.1875 \nL 4.890625 26.703125 \nz\n\" id=\"DejaVuSans-52\"/>\n    </defs>\n    <g style=\"fill:#ffffff;\" transform=\"translate(571.793304 35.336518)scale(0.12 -0.12)\">\n     <use xlink:href=\"#DejaVuSans-48\"/>\n     <use x=\"63.623047\" xlink:href=\"#DejaVuSans-46\"/>\n     <use x=\"95.410156\" xlink:href=\"#DejaVuSans-54\"/>\n     <use x=\"159.033203\" xlink:href=\"#DejaVuSans-52\"/>\n    </g>\n   </g>\n   <g id=\"text_42\">\n    <!-- -0.33 -->\n    <g style=\"fill:#262626;\" transform=\"translate(601.51433 35.336518)scale(0.12 -0.12)\">\n     <use xlink:href=\"#DejaVuSans-45\"/>\n     <use x=\"36.083984\" xlink:href=\"#DejaVuSans-48\"/>\n     <use x=\"99.707031\" xlink:href=\"#DejaVuSans-46\"/>\n     <use x=\"131.494141\" xlink:href=\"#DejaVuSans-51\"/>\n     <use x=\"195.117188\" xlink:href=\"#DejaVuSans-51\"/>\n    </g>\n   </g>\n   <g id=\"text_43\">\n    <!-- 0 -->\n    <g style=\"fill:#262626;\" transform=\"translate(198.706607 54.750804)scale(0.12 -0.12)\">\n     <use xlink:href=\"#DejaVuSans-48\"/>\n    </g>\n   </g>\n   <g id=\"text_44\">\n    <!-- 1 -->\n    <g style=\"fill:#ffffff;\" transform=\"translate(230.592321 54.750804)scale(0.12 -0.12)\">\n     <use xlink:href=\"#DejaVuSans-49\"/>\n    </g>\n   </g>\n   <g id=\"text_45\">\n    <!-- 0 -->\n    <g style=\"fill:#262626;\" transform=\"translate(262.478036 54.750804)scale(0.12 -0.12)\">\n     <use xlink:href=\"#DejaVuSans-48\"/>\n    </g>\n   </g>\n   <g id=\"text_46\">\n    <!-- 0.29 -->\n    <g style=\"fill:#262626;\" transform=\"translate(284.821875 54.750804)scale(0.12 -0.12)\">\n     <use xlink:href=\"#DejaVuSans-48\"/>\n     <use x=\"63.623047\" xlink:href=\"#DejaVuSans-46\"/>\n     <use x=\"95.410156\" xlink:href=\"#DejaVuSans-50\"/>\n     <use x=\"159.033203\" xlink:href=\"#DejaVuSans-57\"/>\n    </g>\n   </g>\n   <g id=\"text_47\">\n    <!-- 0 -->\n    <g style=\"fill:#262626;\" transform=\"translate(326.249464 54.750804)scale(0.12 -0.12)\">\n     <use xlink:href=\"#DejaVuSans-48\"/>\n    </g>\n   </g>\n   <g id=\"text_48\">\n    <!-- -0.34 -->\n    <g style=\"fill:#262626;\" transform=\"translate(346.428616 54.750804)scale(0.12 -0.12)\">\n     <use xlink:href=\"#DejaVuSans-45\"/>\n     <use x=\"36.083984\" xlink:href=\"#DejaVuSans-48\"/>\n     <use x=\"99.707031\" xlink:href=\"#DejaVuSans-46\"/>\n     <use x=\"131.494141\" xlink:href=\"#DejaVuSans-51\"/>\n     <use x=\"195.117188\" xlink:href=\"#DejaVuSans-52\"/>\n    </g>\n   </g>\n   <g id=\"text_49\">\n    <!-- -0.41 -->\n    <g style=\"fill:#262626;\" transform=\"translate(378.31433 54.750804)scale(0.12 -0.12)\">\n     <use xlink:href=\"#DejaVuSans-45\"/>\n     <use x=\"36.083984\" xlink:href=\"#DejaVuSans-48\"/>\n     <use x=\"99.707031\" xlink:href=\"#DejaVuSans-46\"/>\n     <use x=\"131.494141\" xlink:href=\"#DejaVuSans-52\"/>\n     <use x=\"195.117188\" xlink:href=\"#DejaVuSans-49\"/>\n    </g>\n   </g>\n   <g id=\"text_50\">\n    <!-- 0.29 -->\n    <g style=\"fill:#262626;\" transform=\"translate(412.364732 54.750804)scale(0.12 -0.12)\">\n     <use xlink:href=\"#DejaVuSans-48\"/>\n     <use x=\"63.623047\" xlink:href=\"#DejaVuSans-46\"/>\n     <use x=\"95.410156\" xlink:href=\"#DejaVuSans-50\"/>\n     <use x=\"159.033203\" xlink:href=\"#DejaVuSans-57\"/>\n    </g>\n   </g>\n   <g id=\"text_51\">\n    <!-- 0 -->\n    <g style=\"fill:#262626;\" transform=\"translate(453.792321 54.750804)scale(0.12 -0.12)\">\n     <use xlink:href=\"#DejaVuSans-48\"/>\n    </g>\n   </g>\n   <g id=\"text_52\">\n    <!-- 0.25 -->\n    <g style=\"fill:#262626;\" transform=\"translate(476.136161 54.750804)scale(0.12 -0.12)\">\n     <use xlink:href=\"#DejaVuSans-48\"/>\n     <use x=\"63.623047\" xlink:href=\"#DejaVuSans-46\"/>\n     <use x=\"95.410156\" xlink:href=\"#DejaVuSans-50\"/>\n     <use x=\"159.033203\" xlink:href=\"#DejaVuSans-53\"/>\n    </g>\n   </g>\n   <g id=\"text_53\">\n    <!-- -0.56 -->\n    <g style=\"fill:#ffffff;\" transform=\"translate(505.857188 54.750804)scale(0.12 -0.12)\">\n     <use xlink:href=\"#DejaVuSans-45\"/>\n     <use x=\"36.083984\" xlink:href=\"#DejaVuSans-48\"/>\n     <use x=\"99.707031\" xlink:href=\"#DejaVuSans-46\"/>\n     <use x=\"131.494141\" xlink:href=\"#DejaVuSans-53\"/>\n     <use x=\"195.117188\" xlink:href=\"#DejaVuSans-54\"/>\n    </g>\n   </g>\n   <g id=\"text_54\">\n    <!-- -0.37 -->\n    <g style=\"fill:#262626;\" transform=\"translate(537.742902 54.750804)scale(0.12 -0.12)\">\n     <use xlink:href=\"#DejaVuSans-45\"/>\n     <use x=\"36.083984\" xlink:href=\"#DejaVuSans-48\"/>\n     <use x=\"99.707031\" xlink:href=\"#DejaVuSans-46\"/>\n     <use x=\"131.494141\" xlink:href=\"#DejaVuSans-51\"/>\n     <use x=\"195.117188\" xlink:href=\"#DejaVuSans-55\"/>\n    </g>\n   </g>\n   <g id=\"text_55\">\n    <!-- 0 -->\n    <g style=\"fill:#262626;\" transform=\"translate(581.335179 54.750804)scale(0.12 -0.12)\">\n     <use xlink:href=\"#DejaVuSans-48\"/>\n    </g>\n   </g>\n   <g id=\"text_56\">\n    <!-- 0.44 -->\n    <g style=\"fill:#262626;\" transform=\"translate(603.679018 54.750804)scale(0.12 -0.12)\">\n     <use xlink:href=\"#DejaVuSans-48\"/>\n     <use x=\"63.623047\" xlink:href=\"#DejaVuSans-46\"/>\n     <use x=\"95.410156\" xlink:href=\"#DejaVuSans-52\"/>\n     <use x=\"159.033203\" xlink:href=\"#DejaVuSans-52\"/>\n    </g>\n   </g>\n   <g id=\"text_57\">\n    <!-- 0 -->\n    <g style=\"fill:#262626;\" transform=\"translate(198.706607 74.165089)scale(0.12 -0.12)\">\n     <use xlink:href=\"#DejaVuSans-48\"/>\n    </g>\n   </g>\n   <g id=\"text_58\">\n    <!-- 0 -->\n    <g style=\"fill:#262626;\" transform=\"translate(230.592321 74.165089)scale(0.12 -0.12)\">\n     <use xlink:href=\"#DejaVuSans-48\"/>\n    </g>\n   </g>\n   <g id=\"text_59\">\n    <!-- 1 -->\n    <g style=\"fill:#ffffff;\" transform=\"translate(262.478036 74.165089)scale(0.12 -0.12)\">\n     <use xlink:href=\"#DejaVuSans-49\"/>\n    </g>\n   </g>\n   <g id=\"text_60\">\n    <!-- 0.44 -->\n    <g style=\"fill:#262626;\" transform=\"translate(284.821875 74.165089)scale(0.12 -0.12)\">\n     <use xlink:href=\"#DejaVuSans-48\"/>\n     <use x=\"63.623047\" xlink:href=\"#DejaVuSans-46\"/>\n     <use x=\"95.410156\" xlink:href=\"#DejaVuSans-52\"/>\n     <use x=\"159.033203\" xlink:href=\"#DejaVuSans-52\"/>\n    </g>\n   </g>\n   <g id=\"text_61\">\n    <!-- 0.29 -->\n    <g style=\"fill:#262626;\" transform=\"translate(316.707589 74.165089)scale(0.12 -0.12)\">\n     <use xlink:href=\"#DejaVuSans-48\"/>\n     <use x=\"63.623047\" xlink:href=\"#DejaVuSans-46\"/>\n     <use x=\"95.410156\" xlink:href=\"#DejaVuSans-50\"/>\n     <use x=\"159.033203\" xlink:href=\"#DejaVuSans-57\"/>\n    </g>\n   </g>\n   <g id=\"text_62\">\n    <!-- 0 -->\n    <g style=\"fill:#262626;\" transform=\"translate(358.135179 74.165089)scale(0.12 -0.12)\">\n     <use xlink:href=\"#DejaVuSans-48\"/>\n    </g>\n   </g>\n   <g id=\"text_63\">\n    <!-- 0 -->\n    <g style=\"fill:#262626;\" transform=\"translate(390.020893 74.165089)scale(0.12 -0.12)\">\n     <use xlink:href=\"#DejaVuSans-48\"/>\n    </g>\n   </g>\n   <g id=\"text_64\">\n    <!-- 0 -->\n    <g style=\"fill:#262626;\" transform=\"translate(421.906607 74.165089)scale(0.12 -0.12)\">\n     <use xlink:href=\"#DejaVuSans-48\"/>\n    </g>\n   </g>\n   <g id=\"text_65\">\n    <!-- 0 -->\n    <g style=\"fill:#262626;\" transform=\"translate(453.792321 74.165089)scale(0.12 -0.12)\">\n     <use xlink:href=\"#DejaVuSans-48\"/>\n    </g>\n   </g>\n   <g id=\"text_66\">\n    <!-- 0.26 -->\n    <g style=\"fill:#262626;\" transform=\"translate(476.136161 74.165089)scale(0.12 -0.12)\">\n     <use xlink:href=\"#DejaVuSans-48\"/>\n     <use x=\"63.623047\" xlink:href=\"#DejaVuSans-46\"/>\n     <use x=\"95.410156\" xlink:href=\"#DejaVuSans-50\"/>\n     <use x=\"159.033203\" xlink:href=\"#DejaVuSans-54\"/>\n    </g>\n   </g>\n   <g id=\"text_67\">\n    <!-- 0 -->\n    <g style=\"fill:#262626;\" transform=\"translate(517.56375 74.165089)scale(0.12 -0.12)\">\n     <use xlink:href=\"#DejaVuSans-48\"/>\n    </g>\n   </g>\n   <g id=\"text_68\">\n    <!-- 0 -->\n    <g style=\"fill:#262626;\" transform=\"translate(549.449464 74.165089)scale(0.12 -0.12)\">\n     <use xlink:href=\"#DejaVuSans-48\"/>\n    </g>\n   </g>\n   <g id=\"text_69\">\n    <!-- 0 -->\n    <g style=\"fill:#262626;\" transform=\"translate(581.335179 74.165089)scale(0.12 -0.12)\">\n     <use xlink:href=\"#DejaVuSans-48\"/>\n    </g>\n   </g>\n   <g id=\"text_70\">\n    <!-- 0 -->\n    <g style=\"fill:#262626;\" transform=\"translate(613.220893 74.165089)scale(0.12 -0.12)\">\n     <use xlink:href=\"#DejaVuSans-48\"/>\n    </g>\n   </g>\n   <g id=\"text_71\">\n    <!-- -0.31 -->\n    <g style=\"fill:#262626;\" transform=\"translate(187.000045 93.579375)scale(0.12 -0.12)\">\n     <use xlink:href=\"#DejaVuSans-45\"/>\n     <use x=\"36.083984\" xlink:href=\"#DejaVuSans-48\"/>\n     <use x=\"99.707031\" xlink:href=\"#DejaVuSans-46\"/>\n     <use x=\"131.494141\" xlink:href=\"#DejaVuSans-51\"/>\n     <use x=\"195.117188\" xlink:href=\"#DejaVuSans-49\"/>\n    </g>\n   </g>\n   <g id=\"text_72\">\n    <!-- 0.29 -->\n    <g style=\"fill:#262626;\" transform=\"translate(221.050446 93.579375)scale(0.12 -0.12)\">\n     <use xlink:href=\"#DejaVuSans-48\"/>\n     <use x=\"63.623047\" xlink:href=\"#DejaVuSans-46\"/>\n     <use x=\"95.410156\" xlink:href=\"#DejaVuSans-50\"/>\n     <use x=\"159.033203\" xlink:href=\"#DejaVuSans-57\"/>\n    </g>\n   </g>\n   <g id=\"text_73\">\n    <!-- 0.44 -->\n    <g style=\"fill:#262626;\" transform=\"translate(252.936161 93.579375)scale(0.12 -0.12)\">\n     <use xlink:href=\"#DejaVuSans-48\"/>\n     <use x=\"63.623047\" xlink:href=\"#DejaVuSans-46\"/>\n     <use x=\"95.410156\" xlink:href=\"#DejaVuSans-52\"/>\n     <use x=\"159.033203\" xlink:href=\"#DejaVuSans-52\"/>\n    </g>\n   </g>\n   <g id=\"text_74\">\n    <!-- 1 -->\n    <g style=\"fill:#ffffff;\" transform=\"translate(294.36375 93.579375)scale(0.12 -0.12)\">\n     <use xlink:href=\"#DejaVuSans-49\"/>\n    </g>\n   </g>\n   <g id=\"text_75\">\n    <!-- 0 -->\n    <g style=\"fill:#262626;\" transform=\"translate(326.249464 93.579375)scale(0.12 -0.12)\">\n     <use xlink:href=\"#DejaVuSans-48\"/>\n    </g>\n   </g>\n   <g id=\"text_76\">\n    <!-- -0.32 -->\n    <g style=\"fill:#262626;\" transform=\"translate(346.428616 93.579375)scale(0.12 -0.12)\">\n     <use xlink:href=\"#DejaVuSans-45\"/>\n     <use x=\"36.083984\" xlink:href=\"#DejaVuSans-48\"/>\n     <use x=\"99.707031\" xlink:href=\"#DejaVuSans-46\"/>\n     <use x=\"131.494141\" xlink:href=\"#DejaVuSans-51\"/>\n     <use x=\"195.117188\" xlink:href=\"#DejaVuSans-50\"/>\n    </g>\n   </g>\n   <g id=\"text_77\">\n    <!-- -0.35 -->\n    <g style=\"fill:#262626;\" transform=\"translate(378.31433 93.579375)scale(0.12 -0.12)\">\n     <use xlink:href=\"#DejaVuSans-45\"/>\n     <use x=\"36.083984\" xlink:href=\"#DejaVuSans-48\"/>\n     <use x=\"99.707031\" xlink:href=\"#DejaVuSans-46\"/>\n     <use x=\"131.494141\" xlink:href=\"#DejaVuSans-51\"/>\n     <use x=\"195.117188\" xlink:href=\"#DejaVuSans-53\"/>\n    </g>\n   </g>\n   <g id=\"text_78\">\n    <!-- 0.36 -->\n    <g style=\"fill:#262626;\" transform=\"translate(412.364732 93.579375)scale(0.12 -0.12)\">\n     <use xlink:href=\"#DejaVuSans-48\"/>\n     <use x=\"63.623047\" xlink:href=\"#DejaVuSans-46\"/>\n     <use x=\"95.410156\" xlink:href=\"#DejaVuSans-51\"/>\n     <use x=\"159.033203\" xlink:href=\"#DejaVuSans-54\"/>\n    </g>\n   </g>\n   <g id=\"text_79\">\n    <!-- 0 -->\n    <g style=\"fill:#262626;\" transform=\"translate(453.792321 93.579375)scale(0.12 -0.12)\">\n     <use xlink:href=\"#DejaVuSans-48\"/>\n    </g>\n   </g>\n   <g id=\"text_80\">\n    <!-- 0 -->\n    <g style=\"fill:#262626;\" transform=\"translate(485.678036 93.579375)scale(0.12 -0.12)\">\n     <use xlink:href=\"#DejaVuSans-48\"/>\n    </g>\n   </g>\n   <g id=\"text_81\">\n    <!-- -0.27 -->\n    <g style=\"fill:#262626;\" transform=\"translate(505.857188 93.579375)scale(0.12 -0.12)\">\n     <use xlink:href=\"#DejaVuSans-45\"/>\n     <use x=\"36.083984\" xlink:href=\"#DejaVuSans-48\"/>\n     <use x=\"99.707031\" xlink:href=\"#DejaVuSans-46\"/>\n     <use x=\"131.494141\" xlink:href=\"#DejaVuSans-50\"/>\n     <use x=\"195.117188\" xlink:href=\"#DejaVuSans-55\"/>\n    </g>\n   </g>\n   <g id=\"text_82\">\n    <!-- -0.28 -->\n    <g style=\"fill:#262626;\" transform=\"translate(537.742902 93.579375)scale(0.12 -0.12)\">\n     <use xlink:href=\"#DejaVuSans-45\"/>\n     <use x=\"36.083984\" xlink:href=\"#DejaVuSans-48\"/>\n     <use x=\"99.707031\" xlink:href=\"#DejaVuSans-46\"/>\n     <use x=\"131.494141\" xlink:href=\"#DejaVuSans-50\"/>\n     <use x=\"195.117188\" xlink:href=\"#DejaVuSans-56\"/>\n    </g>\n   </g>\n   <g id=\"text_83\">\n    <!-- -0.44 -->\n    <g style=\"fill:#ffffff;\" transform=\"translate(569.628616 93.579375)scale(0.12 -0.12)\">\n     <use xlink:href=\"#DejaVuSans-45\"/>\n     <use x=\"36.083984\" xlink:href=\"#DejaVuSans-48\"/>\n     <use x=\"99.707031\" xlink:href=\"#DejaVuSans-46\"/>\n     <use x=\"131.494141\" xlink:href=\"#DejaVuSans-52\"/>\n     <use x=\"195.117188\" xlink:href=\"#DejaVuSans-52\"/>\n    </g>\n   </g>\n   <g id=\"text_84\">\n    <!-- 0.52 -->\n    <g style=\"fill:#262626;\" transform=\"translate(603.679018 93.579375)scale(0.12 -0.12)\">\n     <use xlink:href=\"#DejaVuSans-48\"/>\n     <use x=\"63.623047\" xlink:href=\"#DejaVuSans-46\"/>\n     <use x=\"95.410156\" xlink:href=\"#DejaVuSans-53\"/>\n     <use x=\"159.033203\" xlink:href=\"#DejaVuSans-50\"/>\n    </g>\n   </g>\n   <g id=\"text_85\">\n    <!-- 0.27 -->\n    <g style=\"fill:#262626;\" transform=\"translate(189.164732 112.993661)scale(0.12 -0.12)\">\n     <use xlink:href=\"#DejaVuSans-48\"/>\n     <use x=\"63.623047\" xlink:href=\"#DejaVuSans-46\"/>\n     <use x=\"95.410156\" xlink:href=\"#DejaVuSans-50\"/>\n     <use x=\"159.033203\" xlink:href=\"#DejaVuSans-55\"/>\n    </g>\n   </g>\n   <g id=\"text_86\">\n    <!-- 0 -->\n    <g style=\"fill:#262626;\" transform=\"translate(230.592321 112.993661)scale(0.12 -0.12)\">\n     <use xlink:href=\"#DejaVuSans-48\"/>\n    </g>\n   </g>\n   <g id=\"text_87\">\n    <!-- 0.29 -->\n    <g style=\"fill:#262626;\" transform=\"translate(252.936161 112.993661)scale(0.12 -0.12)\">\n     <use xlink:href=\"#DejaVuSans-48\"/>\n     <use x=\"63.623047\" xlink:href=\"#DejaVuSans-46\"/>\n     <use x=\"95.410156\" xlink:href=\"#DejaVuSans-50\"/>\n     <use x=\"159.033203\" xlink:href=\"#DejaVuSans-57\"/>\n    </g>\n   </g>\n   <g id=\"text_88\">\n    <!-- 0 -->\n    <g style=\"fill:#262626;\" transform=\"translate(294.36375 112.993661)scale(0.12 -0.12)\">\n     <use xlink:href=\"#DejaVuSans-48\"/>\n    </g>\n   </g>\n   <g id=\"text_89\">\n    <!-- 1 -->\n    <g style=\"fill:#ffffff;\" transform=\"translate(326.249464 112.993661)scale(0.12 -0.12)\">\n     <use xlink:href=\"#DejaVuSans-49\"/>\n    </g>\n   </g>\n   <g id=\"text_90\">\n    <!-- 0 -->\n    <g style=\"fill:#262626;\" transform=\"translate(358.135179 112.993661)scale(0.12 -0.12)\">\n     <use xlink:href=\"#DejaVuSans-48\"/>\n    </g>\n   </g>\n   <g id=\"text_91\">\n    <!-- 0 -->\n    <g style=\"fill:#262626;\" transform=\"translate(390.020893 112.993661)scale(0.12 -0.12)\">\n     <use xlink:href=\"#DejaVuSans-48\"/>\n    </g>\n   </g>\n   <g id=\"text_92\">\n    <!-- -0.26 -->\n    <g style=\"fill:#262626;\" transform=\"translate(410.200045 112.993661)scale(0.12 -0.12)\">\n     <use xlink:href=\"#DejaVuSans-45\"/>\n     <use x=\"36.083984\" xlink:href=\"#DejaVuSans-48\"/>\n     <use x=\"99.707031\" xlink:href=\"#DejaVuSans-46\"/>\n     <use x=\"131.494141\" xlink:href=\"#DejaVuSans-50\"/>\n     <use x=\"195.117188\" xlink:href=\"#DejaVuSans-54\"/>\n    </g>\n   </g>\n   <g id=\"text_93\">\n    <!-- 0 -->\n    <g style=\"fill:#262626;\" transform=\"translate(453.792321 112.993661)scale(0.12 -0.12)\">\n     <use xlink:href=\"#DejaVuSans-48\"/>\n    </g>\n   </g>\n   <g id=\"text_94\">\n    <!-- 0 -->\n    <g style=\"fill:#262626;\" transform=\"translate(485.678036 112.993661)scale(0.12 -0.12)\">\n     <use xlink:href=\"#DejaVuSans-48\"/>\n    </g>\n   </g>\n   <g id=\"text_95\">\n    <!-- 0 -->\n    <g style=\"fill:#262626;\" transform=\"translate(517.56375 112.993661)scale(0.12 -0.12)\">\n     <use xlink:href=\"#DejaVuSans-48\"/>\n    </g>\n   </g>\n   <g id=\"text_96\">\n    <!-- 0 -->\n    <g style=\"fill:#262626;\" transform=\"translate(549.449464 112.993661)scale(0.12 -0.12)\">\n     <use xlink:href=\"#DejaVuSans-48\"/>\n    </g>\n   </g>\n   <g id=\"text_97\">\n    <!-- 0.39 -->\n    <g style=\"fill:#262626;\" transform=\"translate(571.793304 112.993661)scale(0.12 -0.12)\">\n     <use xlink:href=\"#DejaVuSans-48\"/>\n     <use x=\"63.623047\" xlink:href=\"#DejaVuSans-46\"/>\n     <use x=\"95.410156\" xlink:href=\"#DejaVuSans-51\"/>\n     <use x=\"159.033203\" xlink:href=\"#DejaVuSans-57\"/>\n    </g>\n   </g>\n   <g id=\"text_98\">\n    <!-- 0 -->\n    <g style=\"fill:#262626;\" transform=\"translate(613.220893 112.993661)scale(0.12 -0.12)\">\n     <use xlink:href=\"#DejaVuSans-48\"/>\n    </g>\n   </g>\n   <g id=\"text_99\">\n    <!-- 0.29 -->\n    <g style=\"fill:#262626;\" transform=\"translate(189.164732 132.407946)scale(0.12 -0.12)\">\n     <use xlink:href=\"#DejaVuSans-48\"/>\n     <use x=\"63.623047\" xlink:href=\"#DejaVuSans-46\"/>\n     <use x=\"95.410156\" xlink:href=\"#DejaVuSans-50\"/>\n     <use x=\"159.033203\" xlink:href=\"#DejaVuSans-57\"/>\n    </g>\n   </g>\n   <g id=\"text_100\">\n    <!-- -0.34 -->\n    <g style=\"fill:#262626;\" transform=\"translate(218.885759 132.407946)scale(0.12 -0.12)\">\n     <use xlink:href=\"#DejaVuSans-45\"/>\n     <use x=\"36.083984\" xlink:href=\"#DejaVuSans-48\"/>\n     <use x=\"99.707031\" xlink:href=\"#DejaVuSans-46\"/>\n     <use x=\"131.494141\" xlink:href=\"#DejaVuSans-51\"/>\n     <use x=\"195.117188\" xlink:href=\"#DejaVuSans-52\"/>\n    </g>\n   </g>\n   <g id=\"text_101\">\n    <!-- 0 -->\n    <g style=\"fill:#262626;\" transform=\"translate(262.478036 132.407946)scale(0.12 -0.12)\">\n     <use xlink:href=\"#DejaVuSans-48\"/>\n    </g>\n   </g>\n   <g id=\"text_102\">\n    <!-- -0.32 -->\n    <g style=\"fill:#262626;\" transform=\"translate(282.657187 132.407946)scale(0.12 -0.12)\">\n     <use xlink:href=\"#DejaVuSans-45\"/>\n     <use x=\"36.083984\" xlink:href=\"#DejaVuSans-48\"/>\n     <use x=\"99.707031\" xlink:href=\"#DejaVuSans-46\"/>\n     <use x=\"131.494141\" xlink:href=\"#DejaVuSans-51\"/>\n     <use x=\"195.117188\" xlink:href=\"#DejaVuSans-50\"/>\n    </g>\n   </g>\n   <g id=\"text_103\">\n    <!-- 0 -->\n    <g style=\"fill:#262626;\" transform=\"translate(326.249464 132.407946)scale(0.12 -0.12)\">\n     <use xlink:href=\"#DejaVuSans-48\"/>\n    </g>\n   </g>\n   <g id=\"text_104\">\n    <!-- 1 -->\n    <g style=\"fill:#ffffff;\" transform=\"translate(358.135179 132.407946)scale(0.12 -0.12)\">\n     <use xlink:href=\"#DejaVuSans-49\"/>\n    </g>\n   </g>\n   <g id=\"text_105\">\n    <!-- 0.86 -->\n    <g style=\"fill:#ffffff;\" transform=\"translate(380.479018 132.407946)scale(0.12 -0.12)\">\n     <use xlink:href=\"#DejaVuSans-48\"/>\n     <use x=\"63.623047\" xlink:href=\"#DejaVuSans-46\"/>\n     <use x=\"95.410156\" xlink:href=\"#DejaVuSans-56\"/>\n     <use x=\"159.033203\" xlink:href=\"#DejaVuSans-54\"/>\n    </g>\n   </g>\n   <g id=\"text_106\">\n    <!-- -0.45 -->\n    <g style=\"fill:#ffffff;\" transform=\"translate(410.200045 132.407946)scale(0.12 -0.12)\">\n     <use xlink:href=\"#DejaVuSans-45\"/>\n     <use x=\"36.083984\" xlink:href=\"#DejaVuSans-48\"/>\n     <use x=\"99.707031\" xlink:href=\"#DejaVuSans-46\"/>\n     <use x=\"131.494141\" xlink:href=\"#DejaVuSans-52\"/>\n     <use x=\"195.117188\" xlink:href=\"#DejaVuSans-53\"/>\n    </g>\n   </g>\n   <g id=\"text_107\">\n    <!-- 0.61 -->\n    <g style=\"fill:#ffffff;\" transform=\"translate(444.250446 132.407946)scale(0.12 -0.12)\">\n     <use xlink:href=\"#DejaVuSans-48\"/>\n     <use x=\"63.623047\" xlink:href=\"#DejaVuSans-46\"/>\n     <use x=\"95.410156\" xlink:href=\"#DejaVuSans-54\"/>\n     <use x=\"159.033203\" xlink:href=\"#DejaVuSans-49\"/>\n    </g>\n   </g>\n   <g id=\"text_108\">\n    <!-- 0 -->\n    <g style=\"fill:#262626;\" transform=\"translate(485.678036 132.407946)scale(0.12 -0.12)\">\n     <use xlink:href=\"#DejaVuSans-48\"/>\n    </g>\n   </g>\n   <g id=\"text_109\">\n    <!-- 0.43 -->\n    <g style=\"fill:#262626;\" transform=\"translate(508.021875 132.407946)scale(0.12 -0.12)\">\n     <use xlink:href=\"#DejaVuSans-48\"/>\n     <use x=\"63.623047\" xlink:href=\"#DejaVuSans-46\"/>\n     <use x=\"95.410156\" xlink:href=\"#DejaVuSans-52\"/>\n     <use x=\"159.033203\" xlink:href=\"#DejaVuSans-51\"/>\n    </g>\n   </g>\n   <g id=\"text_110\">\n    <!-- 0.7 -->\n    <g style=\"fill:#ffffff;\" transform=\"translate(543.725089 132.407946)scale(0.12 -0.12)\">\n     <use xlink:href=\"#DejaVuSans-48\"/>\n     <use x=\"63.623047\" xlink:href=\"#DejaVuSans-46\"/>\n     <use x=\"95.410156\" xlink:href=\"#DejaVuSans-55\"/>\n    </g>\n   </g>\n   <g id=\"text_111\">\n    <!-- 0.5 -->\n    <g style=\"fill:#262626;\" transform=\"translate(575.610804 132.407946)scale(0.12 -0.12)\">\n     <use xlink:href=\"#DejaVuSans-48\"/>\n     <use x=\"63.623047\" xlink:href=\"#DejaVuSans-46\"/>\n     <use x=\"95.410156\" xlink:href=\"#DejaVuSans-53\"/>\n    </g>\n   </g>\n   <g id=\"text_112\">\n    <!-- -0.72 -->\n    <g style=\"fill:#ffffff;\" transform=\"translate(601.51433 132.407946)scale(0.12 -0.12)\">\n     <use xlink:href=\"#DejaVuSans-45\"/>\n     <use x=\"36.083984\" xlink:href=\"#DejaVuSans-48\"/>\n     <use x=\"99.707031\" xlink:href=\"#DejaVuSans-46\"/>\n     <use x=\"131.494141\" xlink:href=\"#DejaVuSans-55\"/>\n     <use x=\"195.117188\" xlink:href=\"#DejaVuSans-50\"/>\n    </g>\n   </g>\n   <g id=\"text_113\">\n    <!-- 0 -->\n    <g style=\"fill:#262626;\" transform=\"translate(198.706607 151.822232)scale(0.12 -0.12)\">\n     <use xlink:href=\"#DejaVuSans-48\"/>\n    </g>\n   </g>\n   <g id=\"text_114\">\n    <!-- -0.41 -->\n    <g style=\"fill:#262626;\" transform=\"translate(218.885759 151.822232)scale(0.12 -0.12)\">\n     <use xlink:href=\"#DejaVuSans-45\"/>\n     <use x=\"36.083984\" xlink:href=\"#DejaVuSans-48\"/>\n     <use x=\"99.707031\" xlink:href=\"#DejaVuSans-46\"/>\n     <use x=\"131.494141\" xlink:href=\"#DejaVuSans-52\"/>\n     <use x=\"195.117188\" xlink:href=\"#DejaVuSans-49\"/>\n    </g>\n   </g>\n   <g id=\"text_115\">\n    <!-- 0 -->\n    <g style=\"fill:#262626;\" transform=\"translate(262.478036 151.822232)scale(0.12 -0.12)\">\n     <use xlink:href=\"#DejaVuSans-48\"/>\n    </g>\n   </g>\n   <g id=\"text_116\">\n    <!-- -0.35 -->\n    <g style=\"fill:#262626;\" transform=\"translate(282.657187 151.822232)scale(0.12 -0.12)\">\n     <use xlink:href=\"#DejaVuSans-45\"/>\n     <use x=\"36.083984\" xlink:href=\"#DejaVuSans-48\"/>\n     <use x=\"99.707031\" xlink:href=\"#DejaVuSans-46\"/>\n     <use x=\"131.494141\" xlink:href=\"#DejaVuSans-51\"/>\n     <use x=\"195.117188\" xlink:href=\"#DejaVuSans-53\"/>\n    </g>\n   </g>\n   <g id=\"text_117\">\n    <!-- 0 -->\n    <g style=\"fill:#262626;\" transform=\"translate(326.249464 151.822232)scale(0.12 -0.12)\">\n     <use xlink:href=\"#DejaVuSans-48\"/>\n    </g>\n   </g>\n   <g id=\"text_118\">\n    <!-- 0.86 -->\n    <g style=\"fill:#ffffff;\" transform=\"translate(348.593304 151.822232)scale(0.12 -0.12)\">\n     <use xlink:href=\"#DejaVuSans-48\"/>\n     <use x=\"63.623047\" xlink:href=\"#DejaVuSans-46\"/>\n     <use x=\"95.410156\" xlink:href=\"#DejaVuSans-56\"/>\n     <use x=\"159.033203\" xlink:href=\"#DejaVuSans-54\"/>\n    </g>\n   </g>\n   <g id=\"text_119\">\n    <!-- 1 -->\n    <g style=\"fill:#ffffff;\" transform=\"translate(390.020893 151.822232)scale(0.12 -0.12)\">\n     <use xlink:href=\"#DejaVuSans-49\"/>\n    </g>\n   </g>\n   <g id=\"text_120\">\n    <!-- -0.54 -->\n    <g style=\"fill:#ffffff;\" transform=\"translate(410.200045 151.822232)scale(0.12 -0.12)\">\n     <use xlink:href=\"#DejaVuSans-45\"/>\n     <use x=\"36.083984\" xlink:href=\"#DejaVuSans-48\"/>\n     <use x=\"99.707031\" xlink:href=\"#DejaVuSans-46\"/>\n     <use x=\"131.494141\" xlink:href=\"#DejaVuSans-53\"/>\n     <use x=\"195.117188\" xlink:href=\"#DejaVuSans-52\"/>\n    </g>\n   </g>\n   <g id=\"text_121\">\n    <!-- 0.65 -->\n    <g style=\"fill:#ffffff;\" transform=\"translate(444.250446 151.822232)scale(0.12 -0.12)\">\n     <use xlink:href=\"#DejaVuSans-48\"/>\n     <use x=\"63.623047\" xlink:href=\"#DejaVuSans-46\"/>\n     <use x=\"95.410156\" xlink:href=\"#DejaVuSans-54\"/>\n     <use x=\"159.033203\" xlink:href=\"#DejaVuSans-53\"/>\n    </g>\n   </g>\n   <g id=\"text_122\">\n    <!-- 0 -->\n    <g style=\"fill:#262626;\" transform=\"translate(485.678036 151.822232)scale(0.12 -0.12)\">\n     <use xlink:href=\"#DejaVuSans-48\"/>\n    </g>\n   </g>\n   <g id=\"text_123\">\n    <!-- 0.54 -->\n    <g style=\"fill:#262626;\" transform=\"translate(508.021875 151.822232)scale(0.12 -0.12)\">\n     <use xlink:href=\"#DejaVuSans-48\"/>\n     <use x=\"63.623047\" xlink:href=\"#DejaVuSans-46\"/>\n     <use x=\"95.410156\" xlink:href=\"#DejaVuSans-53\"/>\n     <use x=\"159.033203\" xlink:href=\"#DejaVuSans-52\"/>\n    </g>\n   </g>\n   <g id=\"text_124\">\n    <!-- 0.79 -->\n    <g style=\"fill:#ffffff;\" transform=\"translate(539.907589 151.822232)scale(0.12 -0.12)\">\n     <use xlink:href=\"#DejaVuSans-48\"/>\n     <use x=\"63.623047\" xlink:href=\"#DejaVuSans-46\"/>\n     <use x=\"95.410156\" xlink:href=\"#DejaVuSans-55\"/>\n     <use x=\"159.033203\" xlink:href=\"#DejaVuSans-57\"/>\n    </g>\n   </g>\n   <g id=\"text_125\">\n    <!-- 0.49 -->\n    <g style=\"fill:#262626;\" transform=\"translate(571.793304 151.822232)scale(0.12 -0.12)\">\n     <use xlink:href=\"#DejaVuSans-48\"/>\n     <use x=\"63.623047\" xlink:href=\"#DejaVuSans-46\"/>\n     <use x=\"95.410156\" xlink:href=\"#DejaVuSans-52\"/>\n     <use x=\"159.033203\" xlink:href=\"#DejaVuSans-57\"/>\n    </g>\n   </g>\n   <g id=\"text_126\">\n    <!-- -0.85 -->\n    <g style=\"fill:#ffffff;\" transform=\"translate(601.51433 151.822232)scale(0.12 -0.12)\">\n     <use xlink:href=\"#DejaVuSans-45\"/>\n     <use x=\"36.083984\" xlink:href=\"#DejaVuSans-48\"/>\n     <use x=\"99.707031\" xlink:href=\"#DejaVuSans-46\"/>\n     <use x=\"131.494141\" xlink:href=\"#DejaVuSans-56\"/>\n     <use x=\"195.117188\" xlink:href=\"#DejaVuSans-53\"/>\n    </g>\n   </g>\n   <g id=\"text_127\">\n    <!-- 0 -->\n    <g style=\"fill:#262626;\" transform=\"translate(198.706607 171.236518)scale(0.12 -0.12)\">\n     <use xlink:href=\"#DejaVuSans-48\"/>\n    </g>\n   </g>\n   <g id=\"text_128\">\n    <!-- 0.29 -->\n    <g style=\"fill:#262626;\" transform=\"translate(221.050446 171.236518)scale(0.12 -0.12)\">\n     <use xlink:href=\"#DejaVuSans-48\"/>\n     <use x=\"63.623047\" xlink:href=\"#DejaVuSans-46\"/>\n     <use x=\"95.410156\" xlink:href=\"#DejaVuSans-50\"/>\n     <use x=\"159.033203\" xlink:href=\"#DejaVuSans-57\"/>\n    </g>\n   </g>\n   <g id=\"text_129\">\n    <!-- 0 -->\n    <g style=\"fill:#262626;\" transform=\"translate(262.478036 171.236518)scale(0.12 -0.12)\">\n     <use xlink:href=\"#DejaVuSans-48\"/>\n    </g>\n   </g>\n   <g id=\"text_130\">\n    <!-- 0.36 -->\n    <g style=\"fill:#262626;\" transform=\"translate(284.821875 171.236518)scale(0.12 -0.12)\">\n     <use xlink:href=\"#DejaVuSans-48\"/>\n     <use x=\"63.623047\" xlink:href=\"#DejaVuSans-46\"/>\n     <use x=\"95.410156\" xlink:href=\"#DejaVuSans-51\"/>\n     <use x=\"159.033203\" xlink:href=\"#DejaVuSans-54\"/>\n    </g>\n   </g>\n   <g id=\"text_131\">\n    <!-- -0.26 -->\n    <g style=\"fill:#262626;\" transform=\"translate(314.542902 171.236518)scale(0.12 -0.12)\">\n     <use xlink:href=\"#DejaVuSans-45\"/>\n     <use x=\"36.083984\" xlink:href=\"#DejaVuSans-48\"/>\n     <use x=\"99.707031\" xlink:href=\"#DejaVuSans-46\"/>\n     <use x=\"131.494141\" xlink:href=\"#DejaVuSans-50\"/>\n     <use x=\"195.117188\" xlink:href=\"#DejaVuSans-54\"/>\n    </g>\n   </g>\n   <g id=\"text_132\">\n    <!-- -0.45 -->\n    <g style=\"fill:#ffffff;\" transform=\"translate(346.428616 171.236518)scale(0.12 -0.12)\">\n     <use xlink:href=\"#DejaVuSans-45\"/>\n     <use x=\"36.083984\" xlink:href=\"#DejaVuSans-48\"/>\n     <use x=\"99.707031\" xlink:href=\"#DejaVuSans-46\"/>\n     <use x=\"131.494141\" xlink:href=\"#DejaVuSans-52\"/>\n     <use x=\"195.117188\" xlink:href=\"#DejaVuSans-53\"/>\n    </g>\n   </g>\n   <g id=\"text_133\">\n    <!-- -0.54 -->\n    <g style=\"fill:#ffffff;\" transform=\"translate(378.31433 171.236518)scale(0.12 -0.12)\">\n     <use xlink:href=\"#DejaVuSans-45\"/>\n     <use x=\"36.083984\" xlink:href=\"#DejaVuSans-48\"/>\n     <use x=\"99.707031\" xlink:href=\"#DejaVuSans-46\"/>\n     <use x=\"131.494141\" xlink:href=\"#DejaVuSans-53\"/>\n     <use x=\"195.117188\" xlink:href=\"#DejaVuSans-52\"/>\n    </g>\n   </g>\n   <g id=\"text_134\">\n    <!-- 1 -->\n    <g style=\"fill:#ffffff;\" transform=\"translate(421.906607 171.236518)scale(0.12 -0.12)\">\n     <use xlink:href=\"#DejaVuSans-49\"/>\n    </g>\n   </g>\n   <g id=\"text_135\">\n    <!-- -0.37 -->\n    <g style=\"fill:#262626;\" transform=\"translate(442.085759 171.236518)scale(0.12 -0.12)\">\n     <use xlink:href=\"#DejaVuSans-45\"/>\n     <use x=\"36.083984\" xlink:href=\"#DejaVuSans-48\"/>\n     <use x=\"99.707031\" xlink:href=\"#DejaVuSans-46\"/>\n     <use x=\"131.494141\" xlink:href=\"#DejaVuSans-51\"/>\n     <use x=\"195.117188\" xlink:href=\"#DejaVuSans-55\"/>\n    </g>\n   </g>\n   <g id=\"text_136\">\n    <!-- 0 -->\n    <g style=\"fill:#262626;\" transform=\"translate(485.678036 171.236518)scale(0.12 -0.12)\">\n     <use xlink:href=\"#DejaVuSans-48\"/>\n    </g>\n   </g>\n   <g id=\"text_137\">\n    <!-- -0.26 -->\n    <g style=\"fill:#262626;\" transform=\"translate(505.857188 171.236518)scale(0.12 -0.12)\">\n     <use xlink:href=\"#DejaVuSans-45\"/>\n     <use x=\"36.083984\" xlink:href=\"#DejaVuSans-48\"/>\n     <use x=\"99.707031\" xlink:href=\"#DejaVuSans-46\"/>\n     <use x=\"131.494141\" xlink:href=\"#DejaVuSans-50\"/>\n     <use x=\"195.117188\" xlink:href=\"#DejaVuSans-54\"/>\n    </g>\n   </g>\n   <g id=\"text_138\">\n    <!-- -0.5 -->\n    <g style=\"fill:#ffffff;\" transform=\"translate(541.560402 171.236518)scale(0.12 -0.12)\">\n     <use xlink:href=\"#DejaVuSans-45\"/>\n     <use x=\"36.083984\" xlink:href=\"#DejaVuSans-48\"/>\n     <use x=\"99.707031\" xlink:href=\"#DejaVuSans-46\"/>\n     <use x=\"131.494141\" xlink:href=\"#DejaVuSans-53\"/>\n    </g>\n   </g>\n   <g id=\"text_139\">\n    <!-- -0.31 -->\n    <g style=\"fill:#262626;\" transform=\"translate(569.628616 171.236518)scale(0.12 -0.12)\">\n     <use xlink:href=\"#DejaVuSans-45\"/>\n     <use x=\"36.083984\" xlink:href=\"#DejaVuSans-48\"/>\n     <use x=\"99.707031\" xlink:href=\"#DejaVuSans-46\"/>\n     <use x=\"131.494141\" xlink:href=\"#DejaVuSans-51\"/>\n     <use x=\"195.117188\" xlink:href=\"#DejaVuSans-49\"/>\n    </g>\n   </g>\n   <g id=\"text_140\">\n    <!-- 0.49 -->\n    <g style=\"fill:#262626;\" transform=\"translate(603.679018 171.236518)scale(0.12 -0.12)\">\n     <use xlink:href=\"#DejaVuSans-48\"/>\n     <use x=\"63.623047\" xlink:href=\"#DejaVuSans-46\"/>\n     <use x=\"95.410156\" xlink:href=\"#DejaVuSans-52\"/>\n     <use x=\"159.033203\" xlink:href=\"#DejaVuSans-57\"/>\n    </g>\n   </g>\n   <g id=\"text_141\">\n    <!-- 0 -->\n    <g style=\"fill:#262626;\" transform=\"translate(198.706607 190.650804)scale(0.12 -0.12)\">\n     <use xlink:href=\"#DejaVuSans-48\"/>\n    </g>\n   </g>\n   <g id=\"text_142\">\n    <!-- 0 -->\n    <g style=\"fill:#262626;\" transform=\"translate(230.592321 190.650804)scale(0.12 -0.12)\">\n     <use xlink:href=\"#DejaVuSans-48\"/>\n    </g>\n   </g>\n   <g id=\"text_143\">\n    <!-- 0 -->\n    <g style=\"fill:#262626;\" transform=\"translate(262.478036 190.650804)scale(0.12 -0.12)\">\n     <use xlink:href=\"#DejaVuSans-48\"/>\n    </g>\n   </g>\n   <g id=\"text_144\">\n    <!-- 0 -->\n    <g style=\"fill:#262626;\" transform=\"translate(294.36375 190.650804)scale(0.12 -0.12)\">\n     <use xlink:href=\"#DejaVuSans-48\"/>\n    </g>\n   </g>\n   <g id=\"text_145\">\n    <!-- 0 -->\n    <g style=\"fill:#262626;\" transform=\"translate(326.249464 190.650804)scale(0.12 -0.12)\">\n     <use xlink:href=\"#DejaVuSans-48\"/>\n    </g>\n   </g>\n   <g id=\"text_146\">\n    <!-- 0.61 -->\n    <g style=\"fill:#ffffff;\" transform=\"translate(348.593304 190.650804)scale(0.12 -0.12)\">\n     <use xlink:href=\"#DejaVuSans-48\"/>\n     <use x=\"63.623047\" xlink:href=\"#DejaVuSans-46\"/>\n     <use x=\"95.410156\" xlink:href=\"#DejaVuSans-54\"/>\n     <use x=\"159.033203\" xlink:href=\"#DejaVuSans-49\"/>\n    </g>\n   </g>\n   <g id=\"text_147\">\n    <!-- 0.65 -->\n    <g style=\"fill:#ffffff;\" transform=\"translate(380.479018 190.650804)scale(0.12 -0.12)\">\n     <use xlink:href=\"#DejaVuSans-48\"/>\n     <use x=\"63.623047\" xlink:href=\"#DejaVuSans-46\"/>\n     <use x=\"95.410156\" xlink:href=\"#DejaVuSans-54\"/>\n     <use x=\"159.033203\" xlink:href=\"#DejaVuSans-53\"/>\n    </g>\n   </g>\n   <g id=\"text_148\">\n    <!-- -0.37 -->\n    <g style=\"fill:#262626;\" transform=\"translate(410.200045 190.650804)scale(0.12 -0.12)\">\n     <use xlink:href=\"#DejaVuSans-45\"/>\n     <use x=\"36.083984\" xlink:href=\"#DejaVuSans-48\"/>\n     <use x=\"99.707031\" xlink:href=\"#DejaVuSans-46\"/>\n     <use x=\"131.494141\" xlink:href=\"#DejaVuSans-51\"/>\n     <use x=\"195.117188\" xlink:href=\"#DejaVuSans-55\"/>\n    </g>\n   </g>\n   <g id=\"text_149\">\n    <!-- 1 -->\n    <g style=\"fill:#ffffff;\" transform=\"translate(453.792321 190.650804)scale(0.12 -0.12)\">\n     <use xlink:href=\"#DejaVuSans-49\"/>\n    </g>\n   </g>\n   <g id=\"text_150\">\n    <!-- 0 -->\n    <g style=\"fill:#262626;\" transform=\"translate(485.678036 190.650804)scale(0.12 -0.12)\">\n     <use xlink:href=\"#DejaVuSans-48\"/>\n    </g>\n   </g>\n   <g id=\"text_151\">\n    <!-- 0.3 -->\n    <g style=\"fill:#262626;\" transform=\"translate(511.839375 190.650804)scale(0.12 -0.12)\">\n     <use xlink:href=\"#DejaVuSans-48\"/>\n     <use x=\"63.623047\" xlink:href=\"#DejaVuSans-46\"/>\n     <use x=\"95.410156\" xlink:href=\"#DejaVuSans-51\"/>\n    </g>\n   </g>\n   <g id=\"text_152\">\n    <!-- 0.52 -->\n    <g style=\"fill:#262626;\" transform=\"translate(539.907589 190.650804)scale(0.12 -0.12)\">\n     <use xlink:href=\"#DejaVuSans-48\"/>\n     <use x=\"63.623047\" xlink:href=\"#DejaVuSans-46\"/>\n     <use x=\"95.410156\" xlink:href=\"#DejaVuSans-53\"/>\n     <use x=\"159.033203\" xlink:href=\"#DejaVuSans-50\"/>\n    </g>\n   </g>\n   <g id=\"text_153\">\n    <!-- 0.33 -->\n    <g style=\"fill:#262626;\" transform=\"translate(571.793304 190.650804)scale(0.12 -0.12)\">\n     <use xlink:href=\"#DejaVuSans-48\"/>\n     <use x=\"63.623047\" xlink:href=\"#DejaVuSans-46\"/>\n     <use x=\"95.410156\" xlink:href=\"#DejaVuSans-51\"/>\n     <use x=\"159.033203\" xlink:href=\"#DejaVuSans-51\"/>\n    </g>\n   </g>\n   <g id=\"text_154\">\n    <!-- -0.5 -->\n    <g style=\"fill:#ffffff;\" transform=\"translate(605.33183 190.650804)scale(0.12 -0.12)\">\n     <use xlink:href=\"#DejaVuSans-45\"/>\n     <use x=\"36.083984\" xlink:href=\"#DejaVuSans-48\"/>\n     <use x=\"99.707031\" xlink:href=\"#DejaVuSans-46\"/>\n     <use x=\"131.494141\" xlink:href=\"#DejaVuSans-53\"/>\n    </g>\n   </g>\n   <g id=\"text_155\">\n    <!-- 0.55 -->\n    <g style=\"fill:#262626;\" transform=\"translate(189.164732 210.065089)scale(0.12 -0.12)\">\n     <use xlink:href=\"#DejaVuSans-48\"/>\n     <use x=\"63.623047\" xlink:href=\"#DejaVuSans-46\"/>\n     <use x=\"95.410156\" xlink:href=\"#DejaVuSans-53\"/>\n     <use x=\"159.033203\" xlink:href=\"#DejaVuSans-53\"/>\n    </g>\n   </g>\n   <g id=\"text_156\">\n    <!-- 0.25 -->\n    <g style=\"fill:#262626;\" transform=\"translate(221.050446 210.065089)scale(0.12 -0.12)\">\n     <use xlink:href=\"#DejaVuSans-48\"/>\n     <use x=\"63.623047\" xlink:href=\"#DejaVuSans-46\"/>\n     <use x=\"95.410156\" xlink:href=\"#DejaVuSans-50\"/>\n     <use x=\"159.033203\" xlink:href=\"#DejaVuSans-53\"/>\n    </g>\n   </g>\n   <g id=\"text_157\">\n    <!-- 0.26 -->\n    <g style=\"fill:#262626;\" transform=\"translate(252.936161 210.065089)scale(0.12 -0.12)\">\n     <use xlink:href=\"#DejaVuSans-48\"/>\n     <use x=\"63.623047\" xlink:href=\"#DejaVuSans-46\"/>\n     <use x=\"95.410156\" xlink:href=\"#DejaVuSans-50\"/>\n     <use x=\"159.033203\" xlink:href=\"#DejaVuSans-54\"/>\n    </g>\n   </g>\n   <g id=\"text_158\">\n    <!-- 0 -->\n    <g style=\"fill:#262626;\" transform=\"translate(294.36375 210.065089)scale(0.12 -0.12)\">\n     <use xlink:href=\"#DejaVuSans-48\"/>\n    </g>\n   </g>\n   <g id=\"text_159\">\n    <!-- 0 -->\n    <g style=\"fill:#262626;\" transform=\"translate(326.249464 210.065089)scale(0.12 -0.12)\">\n     <use xlink:href=\"#DejaVuSans-48\"/>\n    </g>\n   </g>\n   <g id=\"text_160\">\n    <!-- 0 -->\n    <g style=\"fill:#262626;\" transform=\"translate(358.135179 210.065089)scale(0.12 -0.12)\">\n     <use xlink:href=\"#DejaVuSans-48\"/>\n    </g>\n   </g>\n   <g id=\"text_161\">\n    <!-- 0 -->\n    <g style=\"fill:#262626;\" transform=\"translate(390.020893 210.065089)scale(0.12 -0.12)\">\n     <use xlink:href=\"#DejaVuSans-48\"/>\n    </g>\n   </g>\n   <g id=\"text_162\">\n    <!-- 0 -->\n    <g style=\"fill:#262626;\" transform=\"translate(421.906607 210.065089)scale(0.12 -0.12)\">\n     <use xlink:href=\"#DejaVuSans-48\"/>\n    </g>\n   </g>\n   <g id=\"text_163\">\n    <!-- 0 -->\n    <g style=\"fill:#262626;\" transform=\"translate(453.792321 210.065089)scale(0.12 -0.12)\">\n     <use xlink:href=\"#DejaVuSans-48\"/>\n    </g>\n   </g>\n   <g id=\"text_164\">\n    <!-- 1 -->\n    <g style=\"fill:#ffffff;\" transform=\"translate(485.678036 210.065089)scale(0.12 -0.12)\">\n     <use xlink:href=\"#DejaVuSans-49\"/>\n    </g>\n   </g>\n   <g id=\"text_165\">\n    <!-- -0.52 -->\n    <g style=\"fill:#ffffff;\" transform=\"translate(505.857188 210.065089)scale(0.12 -0.12)\">\n     <use xlink:href=\"#DejaVuSans-45\"/>\n     <use x=\"36.083984\" xlink:href=\"#DejaVuSans-48\"/>\n     <use x=\"99.707031\" xlink:href=\"#DejaVuSans-46\"/>\n     <use x=\"131.494141\" xlink:href=\"#DejaVuSans-53\"/>\n     <use x=\"195.117188\" xlink:href=\"#DejaVuSans-50\"/>\n    </g>\n   </g>\n   <g id=\"text_166\">\n    <!-- -0.43 -->\n    <g style=\"fill:#ffffff;\" transform=\"translate(537.742902 210.065089)scale(0.12 -0.12)\">\n     <use xlink:href=\"#DejaVuSans-45\"/>\n     <use x=\"36.083984\" xlink:href=\"#DejaVuSans-48\"/>\n     <use x=\"99.707031\" xlink:href=\"#DejaVuSans-46\"/>\n     <use x=\"131.494141\" xlink:href=\"#DejaVuSans-52\"/>\n     <use x=\"195.117188\" xlink:href=\"#DejaVuSans-51\"/>\n    </g>\n   </g>\n   <g id=\"text_167\">\n    <!-- 0.32 -->\n    <g style=\"fill:#262626;\" transform=\"translate(571.793304 210.065089)scale(0.12 -0.12)\">\n     <use xlink:href=\"#DejaVuSans-48\"/>\n     <use x=\"63.623047\" xlink:href=\"#DejaVuSans-46\"/>\n     <use x=\"95.410156\" xlink:href=\"#DejaVuSans-51\"/>\n     <use x=\"159.033203\" xlink:href=\"#DejaVuSans-50\"/>\n    </g>\n   </g>\n   <g id=\"text_168\">\n    <!-- 0.27 -->\n    <g style=\"fill:#262626;\" transform=\"translate(603.679018 210.065089)scale(0.12 -0.12)\">\n     <use xlink:href=\"#DejaVuSans-48\"/>\n     <use x=\"63.623047\" xlink:href=\"#DejaVuSans-46\"/>\n     <use x=\"95.410156\" xlink:href=\"#DejaVuSans-50\"/>\n     <use x=\"159.033203\" xlink:href=\"#DejaVuSans-55\"/>\n    </g>\n   </g>\n   <g id=\"text_169\">\n    <!-- 0 -->\n    <g style=\"fill:#262626;\" transform=\"translate(198.706607 229.479375)scale(0.12 -0.12)\">\n     <use xlink:href=\"#DejaVuSans-48\"/>\n    </g>\n   </g>\n   <g id=\"text_170\">\n    <!-- -0.56 -->\n    <g style=\"fill:#ffffff;\" transform=\"translate(218.885759 229.479375)scale(0.12 -0.12)\">\n     <use xlink:href=\"#DejaVuSans-45\"/>\n     <use x=\"36.083984\" xlink:href=\"#DejaVuSans-48\"/>\n     <use x=\"99.707031\" xlink:href=\"#DejaVuSans-46\"/>\n     <use x=\"131.494141\" xlink:href=\"#DejaVuSans-53\"/>\n     <use x=\"195.117188\" xlink:href=\"#DejaVuSans-54\"/>\n    </g>\n   </g>\n   <g id=\"text_171\">\n    <!-- 0 -->\n    <g style=\"fill:#262626;\" transform=\"translate(262.478036 229.479375)scale(0.12 -0.12)\">\n     <use xlink:href=\"#DejaVuSans-48\"/>\n    </g>\n   </g>\n   <g id=\"text_172\">\n    <!-- -0.27 -->\n    <g style=\"fill:#262626;\" transform=\"translate(282.657187 229.479375)scale(0.12 -0.12)\">\n     <use xlink:href=\"#DejaVuSans-45\"/>\n     <use x=\"36.083984\" xlink:href=\"#DejaVuSans-48\"/>\n     <use x=\"99.707031\" xlink:href=\"#DejaVuSans-46\"/>\n     <use x=\"131.494141\" xlink:href=\"#DejaVuSans-50\"/>\n     <use x=\"195.117188\" xlink:href=\"#DejaVuSans-55\"/>\n    </g>\n   </g>\n   <g id=\"text_173\">\n    <!-- 0 -->\n    <g style=\"fill:#262626;\" transform=\"translate(326.249464 229.479375)scale(0.12 -0.12)\">\n     <use xlink:href=\"#DejaVuSans-48\"/>\n    </g>\n   </g>\n   <g id=\"text_174\">\n    <!-- 0.43 -->\n    <g style=\"fill:#262626;\" transform=\"translate(348.593304 229.479375)scale(0.12 -0.12)\">\n     <use xlink:href=\"#DejaVuSans-48\"/>\n     <use x=\"63.623047\" xlink:href=\"#DejaVuSans-46\"/>\n     <use x=\"95.410156\" xlink:href=\"#DejaVuSans-52\"/>\n     <use x=\"159.033203\" xlink:href=\"#DejaVuSans-51\"/>\n    </g>\n   </g>\n   <g id=\"text_175\">\n    <!-- 0.54 -->\n    <g style=\"fill:#262626;\" transform=\"translate(380.479018 229.479375)scale(0.12 -0.12)\">\n     <use xlink:href=\"#DejaVuSans-48\"/>\n     <use x=\"63.623047\" xlink:href=\"#DejaVuSans-46\"/>\n     <use x=\"95.410156\" xlink:href=\"#DejaVuSans-53\"/>\n     <use x=\"159.033203\" xlink:href=\"#DejaVuSans-52\"/>\n    </g>\n   </g>\n   <g id=\"text_176\">\n    <!-- -0.26 -->\n    <g style=\"fill:#262626;\" transform=\"translate(410.200045 229.479375)scale(0.12 -0.12)\">\n     <use xlink:href=\"#DejaVuSans-45\"/>\n     <use x=\"36.083984\" xlink:href=\"#DejaVuSans-48\"/>\n     <use x=\"99.707031\" xlink:href=\"#DejaVuSans-46\"/>\n     <use x=\"131.494141\" xlink:href=\"#DejaVuSans-50\"/>\n     <use x=\"195.117188\" xlink:href=\"#DejaVuSans-54\"/>\n    </g>\n   </g>\n   <g id=\"text_177\">\n    <!-- 0.3 -->\n    <g style=\"fill:#262626;\" transform=\"translate(448.067946 229.479375)scale(0.12 -0.12)\">\n     <use xlink:href=\"#DejaVuSans-48\"/>\n     <use x=\"63.623047\" xlink:href=\"#DejaVuSans-46\"/>\n     <use x=\"95.410156\" xlink:href=\"#DejaVuSans-51\"/>\n    </g>\n   </g>\n   <g id=\"text_178\">\n    <!-- -0.52 -->\n    <g style=\"fill:#ffffff;\" transform=\"translate(473.971473 229.479375)scale(0.12 -0.12)\">\n     <use xlink:href=\"#DejaVuSans-45\"/>\n     <use x=\"36.083984\" xlink:href=\"#DejaVuSans-48\"/>\n     <use x=\"99.707031\" xlink:href=\"#DejaVuSans-46\"/>\n     <use x=\"131.494141\" xlink:href=\"#DejaVuSans-53\"/>\n     <use x=\"195.117188\" xlink:href=\"#DejaVuSans-50\"/>\n    </g>\n   </g>\n   <g id=\"text_179\">\n    <!-- 1 -->\n    <g style=\"fill:#ffffff;\" transform=\"translate(517.56375 229.479375)scale(0.12 -0.12)\">\n     <use xlink:href=\"#DejaVuSans-49\"/>\n    </g>\n   </g>\n   <g id=\"text_180\">\n    <!-- 0.57 -->\n    <g style=\"fill:#ffffff;\" transform=\"translate(539.907589 229.479375)scale(0.12 -0.12)\">\n     <use xlink:href=\"#DejaVuSans-48\"/>\n     <use x=\"63.623047\" xlink:href=\"#DejaVuSans-46\"/>\n     <use x=\"95.410156\" xlink:href=\"#DejaVuSans-53\"/>\n     <use x=\"159.033203\" xlink:href=\"#DejaVuSans-55\"/>\n    </g>\n   </g>\n   <g id=\"text_181\">\n    <!-- 0 -->\n    <g style=\"fill:#262626;\" transform=\"translate(581.335179 229.479375)scale(0.12 -0.12)\">\n     <use xlink:href=\"#DejaVuSans-48\"/>\n    </g>\n   </g>\n   <g id=\"text_182\">\n    <!-- -0.62 -->\n    <g style=\"fill:#ffffff;\" transform=\"translate(601.51433 229.479375)scale(0.12 -0.12)\">\n     <use xlink:href=\"#DejaVuSans-45\"/>\n     <use x=\"36.083984\" xlink:href=\"#DejaVuSans-48\"/>\n     <use x=\"99.707031\" xlink:href=\"#DejaVuSans-46\"/>\n     <use x=\"131.494141\" xlink:href=\"#DejaVuSans-54\"/>\n     <use x=\"195.117188\" xlink:href=\"#DejaVuSans-50\"/>\n    </g>\n   </g>\n   <g id=\"text_183\">\n    <!-- 0 -->\n    <g style=\"fill:#262626;\" transform=\"translate(198.706607 248.893661)scale(0.12 -0.12)\">\n     <use xlink:href=\"#DejaVuSans-48\"/>\n    </g>\n   </g>\n   <g id=\"text_184\">\n    <!-- -0.37 -->\n    <g style=\"fill:#262626;\" transform=\"translate(218.885759 248.893661)scale(0.12 -0.12)\">\n     <use xlink:href=\"#DejaVuSans-45\"/>\n     <use x=\"36.083984\" xlink:href=\"#DejaVuSans-48\"/>\n     <use x=\"99.707031\" xlink:href=\"#DejaVuSans-46\"/>\n     <use x=\"131.494141\" xlink:href=\"#DejaVuSans-51\"/>\n     <use x=\"195.117188\" xlink:href=\"#DejaVuSans-55\"/>\n    </g>\n   </g>\n   <g id=\"text_185\">\n    <!-- 0 -->\n    <g style=\"fill:#262626;\" transform=\"translate(262.478036 248.893661)scale(0.12 -0.12)\">\n     <use xlink:href=\"#DejaVuSans-48\"/>\n    </g>\n   </g>\n   <g id=\"text_186\">\n    <!-- -0.28 -->\n    <g style=\"fill:#262626;\" transform=\"translate(282.657187 248.893661)scale(0.12 -0.12)\">\n     <use xlink:href=\"#DejaVuSans-45\"/>\n     <use x=\"36.083984\" xlink:href=\"#DejaVuSans-48\"/>\n     <use x=\"99.707031\" xlink:href=\"#DejaVuSans-46\"/>\n     <use x=\"131.494141\" xlink:href=\"#DejaVuSans-50\"/>\n     <use x=\"195.117188\" xlink:href=\"#DejaVuSans-56\"/>\n    </g>\n   </g>\n   <g id=\"text_187\">\n    <!-- 0 -->\n    <g style=\"fill:#262626;\" transform=\"translate(326.249464 248.893661)scale(0.12 -0.12)\">\n     <use xlink:href=\"#DejaVuSans-48\"/>\n    </g>\n   </g>\n   <g id=\"text_188\">\n    <!-- 0.7 -->\n    <g style=\"fill:#ffffff;\" transform=\"translate(352.410804 248.893661)scale(0.12 -0.12)\">\n     <use xlink:href=\"#DejaVuSans-48\"/>\n     <use x=\"63.623047\" xlink:href=\"#DejaVuSans-46\"/>\n     <use x=\"95.410156\" xlink:href=\"#DejaVuSans-55\"/>\n    </g>\n   </g>\n   <g id=\"text_189\">\n    <!-- 0.79 -->\n    <g style=\"fill:#ffffff;\" transform=\"translate(380.479018 248.893661)scale(0.12 -0.12)\">\n     <use xlink:href=\"#DejaVuSans-48\"/>\n     <use x=\"63.623047\" xlink:href=\"#DejaVuSans-46\"/>\n     <use x=\"95.410156\" xlink:href=\"#DejaVuSans-55\"/>\n     <use x=\"159.033203\" xlink:href=\"#DejaVuSans-57\"/>\n    </g>\n   </g>\n   <g id=\"text_190\">\n    <!-- -0.5 -->\n    <g style=\"fill:#ffffff;\" transform=\"translate(414.017545 248.893661)scale(0.12 -0.12)\">\n     <use xlink:href=\"#DejaVuSans-45\"/>\n     <use x=\"36.083984\" xlink:href=\"#DejaVuSans-48\"/>\n     <use x=\"99.707031\" xlink:href=\"#DejaVuSans-46\"/>\n     <use x=\"131.494141\" xlink:href=\"#DejaVuSans-53\"/>\n    </g>\n   </g>\n   <g id=\"text_191\">\n    <!-- 0.52 -->\n    <g style=\"fill:#262626;\" transform=\"translate(444.250446 248.893661)scale(0.12 -0.12)\">\n     <use xlink:href=\"#DejaVuSans-48\"/>\n     <use x=\"63.623047\" xlink:href=\"#DejaVuSans-46\"/>\n     <use x=\"95.410156\" xlink:href=\"#DejaVuSans-53\"/>\n     <use x=\"159.033203\" xlink:href=\"#DejaVuSans-50\"/>\n    </g>\n   </g>\n   <g id=\"text_192\">\n    <!-- -0.43 -->\n    <g style=\"fill:#ffffff;\" transform=\"translate(473.971473 248.893661)scale(0.12 -0.12)\">\n     <use xlink:href=\"#DejaVuSans-45\"/>\n     <use x=\"36.083984\" xlink:href=\"#DejaVuSans-48\"/>\n     <use x=\"99.707031\" xlink:href=\"#DejaVuSans-46\"/>\n     <use x=\"131.494141\" xlink:href=\"#DejaVuSans-52\"/>\n     <use x=\"195.117188\" xlink:href=\"#DejaVuSans-51\"/>\n    </g>\n   </g>\n   <g id=\"text_193\">\n    <!-- 0.57 -->\n    <g style=\"fill:#ffffff;\" transform=\"translate(508.021875 248.893661)scale(0.12 -0.12)\">\n     <use xlink:href=\"#DejaVuSans-48\"/>\n     <use x=\"63.623047\" xlink:href=\"#DejaVuSans-46\"/>\n     <use x=\"95.410156\" xlink:href=\"#DejaVuSans-53\"/>\n     <use x=\"159.033203\" xlink:href=\"#DejaVuSans-55\"/>\n    </g>\n   </g>\n   <g id=\"text_194\">\n    <!-- 1 -->\n    <g style=\"fill:#ffffff;\" transform=\"translate(549.449464 248.893661)scale(0.12 -0.12)\">\n     <use xlink:href=\"#DejaVuSans-49\"/>\n    </g>\n   </g>\n   <g id=\"text_195\">\n    <!-- 0.31 -->\n    <g style=\"fill:#262626;\" transform=\"translate(571.793304 248.893661)scale(0.12 -0.12)\">\n     <use xlink:href=\"#DejaVuSans-48\"/>\n     <use x=\"63.623047\" xlink:href=\"#DejaVuSans-46\"/>\n     <use x=\"95.410156\" xlink:href=\"#DejaVuSans-51\"/>\n     <use x=\"159.033203\" xlink:href=\"#DejaVuSans-49\"/>\n    </g>\n   </g>\n   <g id=\"text_196\">\n    <!-- -0.79 -->\n    <g style=\"fill:#ffffff;\" transform=\"translate(601.51433 248.893661)scale(0.12 -0.12)\">\n     <use xlink:href=\"#DejaVuSans-45\"/>\n     <use x=\"36.083984\" xlink:href=\"#DejaVuSans-48\"/>\n     <use x=\"99.707031\" xlink:href=\"#DejaVuSans-46\"/>\n     <use x=\"131.494141\" xlink:href=\"#DejaVuSans-55\"/>\n     <use x=\"195.117188\" xlink:href=\"#DejaVuSans-57\"/>\n    </g>\n   </g>\n   <g id=\"text_197\">\n    <!-- 0.64 -->\n    <g style=\"fill:#ffffff;\" transform=\"translate(189.164732 268.307946)scale(0.12 -0.12)\">\n     <use xlink:href=\"#DejaVuSans-48\"/>\n     <use x=\"63.623047\" xlink:href=\"#DejaVuSans-46\"/>\n     <use x=\"95.410156\" xlink:href=\"#DejaVuSans-54\"/>\n     <use x=\"159.033203\" xlink:href=\"#DejaVuSans-52\"/>\n    </g>\n   </g>\n   <g id=\"text_198\">\n    <!-- 0 -->\n    <g style=\"fill:#262626;\" transform=\"translate(230.592321 268.307946)scale(0.12 -0.12)\">\n     <use xlink:href=\"#DejaVuSans-48\"/>\n    </g>\n   </g>\n   <g id=\"text_199\">\n    <!-- 0 -->\n    <g style=\"fill:#262626;\" transform=\"translate(262.478036 268.307946)scale(0.12 -0.12)\">\n     <use xlink:href=\"#DejaVuSans-48\"/>\n    </g>\n   </g>\n   <g id=\"text_200\">\n    <!-- -0.44 -->\n    <g style=\"fill:#ffffff;\" transform=\"translate(282.657187 268.307946)scale(0.12 -0.12)\">\n     <use xlink:href=\"#DejaVuSans-45\"/>\n     <use x=\"36.083984\" xlink:href=\"#DejaVuSans-48\"/>\n     <use x=\"99.707031\" xlink:href=\"#DejaVuSans-46\"/>\n     <use x=\"131.494141\" xlink:href=\"#DejaVuSans-52\"/>\n     <use x=\"195.117188\" xlink:href=\"#DejaVuSans-52\"/>\n    </g>\n   </g>\n   <g id=\"text_201\">\n    <!-- 0.39 -->\n    <g style=\"fill:#262626;\" transform=\"translate(316.707589 268.307946)scale(0.12 -0.12)\">\n     <use xlink:href=\"#DejaVuSans-48\"/>\n     <use x=\"63.623047\" xlink:href=\"#DejaVuSans-46\"/>\n     <use x=\"95.410156\" xlink:href=\"#DejaVuSans-51\"/>\n     <use x=\"159.033203\" xlink:href=\"#DejaVuSans-57\"/>\n    </g>\n   </g>\n   <g id=\"text_202\">\n    <!-- 0.5 -->\n    <g style=\"fill:#262626;\" transform=\"translate(352.410804 268.307946)scale(0.12 -0.12)\">\n     <use xlink:href=\"#DejaVuSans-48\"/>\n     <use x=\"63.623047\" xlink:href=\"#DejaVuSans-46\"/>\n     <use x=\"95.410156\" xlink:href=\"#DejaVuSans-53\"/>\n    </g>\n   </g>\n   <g id=\"text_203\">\n    <!-- 0.49 -->\n    <g style=\"fill:#262626;\" transform=\"translate(380.479018 268.307946)scale(0.12 -0.12)\">\n     <use xlink:href=\"#DejaVuSans-48\"/>\n     <use x=\"63.623047\" xlink:href=\"#DejaVuSans-46\"/>\n     <use x=\"95.410156\" xlink:href=\"#DejaVuSans-52\"/>\n     <use x=\"159.033203\" xlink:href=\"#DejaVuSans-57\"/>\n    </g>\n   </g>\n   <g id=\"text_204\">\n    <!-- -0.31 -->\n    <g style=\"fill:#262626;\" transform=\"translate(410.200045 268.307946)scale(0.12 -0.12)\">\n     <use xlink:href=\"#DejaVuSans-45\"/>\n     <use x=\"36.083984\" xlink:href=\"#DejaVuSans-48\"/>\n     <use x=\"99.707031\" xlink:href=\"#DejaVuSans-46\"/>\n     <use x=\"131.494141\" xlink:href=\"#DejaVuSans-51\"/>\n     <use x=\"195.117188\" xlink:href=\"#DejaVuSans-49\"/>\n    </g>\n   </g>\n   <g id=\"text_205\">\n    <!-- 0.33 -->\n    <g style=\"fill:#262626;\" transform=\"translate(444.250446 268.307946)scale(0.12 -0.12)\">\n     <use xlink:href=\"#DejaVuSans-48\"/>\n     <use x=\"63.623047\" xlink:href=\"#DejaVuSans-46\"/>\n     <use x=\"95.410156\" xlink:href=\"#DejaVuSans-51\"/>\n     <use x=\"159.033203\" xlink:href=\"#DejaVuSans-51\"/>\n    </g>\n   </g>\n   <g id=\"text_206\">\n    <!-- 0.32 -->\n    <g style=\"fill:#262626;\" transform=\"translate(476.136161 268.307946)scale(0.12 -0.12)\">\n     <use xlink:href=\"#DejaVuSans-48\"/>\n     <use x=\"63.623047\" xlink:href=\"#DejaVuSans-46\"/>\n     <use x=\"95.410156\" xlink:href=\"#DejaVuSans-51\"/>\n     <use x=\"159.033203\" xlink:href=\"#DejaVuSans-50\"/>\n    </g>\n   </g>\n   <g id=\"text_207\">\n    <!-- 0 -->\n    <g style=\"fill:#262626;\" transform=\"translate(517.56375 268.307946)scale(0.12 -0.12)\">\n     <use xlink:href=\"#DejaVuSans-48\"/>\n    </g>\n   </g>\n   <g id=\"text_208\">\n    <!-- 0.31 -->\n    <g style=\"fill:#262626;\" transform=\"translate(539.907589 268.307946)scale(0.12 -0.12)\">\n     <use xlink:href=\"#DejaVuSans-48\"/>\n     <use x=\"63.623047\" xlink:href=\"#DejaVuSans-46\"/>\n     <use x=\"95.410156\" xlink:href=\"#DejaVuSans-51\"/>\n     <use x=\"159.033203\" xlink:href=\"#DejaVuSans-49\"/>\n    </g>\n   </g>\n   <g id=\"text_209\">\n    <!-- 1 -->\n    <g style=\"fill:#ffffff;\" transform=\"translate(581.335179 268.307946)scale(0.12 -0.12)\">\n     <use xlink:href=\"#DejaVuSans-49\"/>\n    </g>\n   </g>\n   <g id=\"text_210\">\n    <!-- -0.63 -->\n    <g style=\"fill:#ffffff;\" transform=\"translate(601.51433 268.307946)scale(0.12 -0.12)\">\n     <use xlink:href=\"#DejaVuSans-45\"/>\n     <use x=\"36.083984\" xlink:href=\"#DejaVuSans-48\"/>\n     <use x=\"99.707031\" xlink:href=\"#DejaVuSans-46\"/>\n     <use x=\"131.494141\" xlink:href=\"#DejaVuSans-54\"/>\n     <use x=\"195.117188\" xlink:href=\"#DejaVuSans-51\"/>\n    </g>\n   </g>\n   <g id=\"text_211\">\n    <!-- -0.33 -->\n    <g style=\"fill:#262626;\" transform=\"translate(187.000045 287.722232)scale(0.12 -0.12)\">\n     <use xlink:href=\"#DejaVuSans-45\"/>\n     <use x=\"36.083984\" xlink:href=\"#DejaVuSans-48\"/>\n     <use x=\"99.707031\" xlink:href=\"#DejaVuSans-46\"/>\n     <use x=\"131.494141\" xlink:href=\"#DejaVuSans-51\"/>\n     <use x=\"195.117188\" xlink:href=\"#DejaVuSans-51\"/>\n    </g>\n   </g>\n   <g id=\"text_212\">\n    <!-- 0.44 -->\n    <g style=\"fill:#262626;\" transform=\"translate(221.050446 287.722232)scale(0.12 -0.12)\">\n     <use xlink:href=\"#DejaVuSans-48\"/>\n     <use x=\"63.623047\" xlink:href=\"#DejaVuSans-46\"/>\n     <use x=\"95.410156\" xlink:href=\"#DejaVuSans-52\"/>\n     <use x=\"159.033203\" xlink:href=\"#DejaVuSans-52\"/>\n    </g>\n   </g>\n   <g id=\"text_213\">\n    <!-- 0 -->\n    <g style=\"fill:#262626;\" transform=\"translate(262.478036 287.722232)scale(0.12 -0.12)\">\n     <use xlink:href=\"#DejaVuSans-48\"/>\n    </g>\n   </g>\n   <g id=\"text_214\">\n    <!-- 0.52 -->\n    <g style=\"fill:#262626;\" transform=\"translate(284.821875 287.722232)scale(0.12 -0.12)\">\n     <use xlink:href=\"#DejaVuSans-48\"/>\n     <use x=\"63.623047\" xlink:href=\"#DejaVuSans-46\"/>\n     <use x=\"95.410156\" xlink:href=\"#DejaVuSans-53\"/>\n     <use x=\"159.033203\" xlink:href=\"#DejaVuSans-50\"/>\n    </g>\n   </g>\n   <g id=\"text_215\">\n    <!-- 0 -->\n    <g style=\"fill:#262626;\" transform=\"translate(326.249464 287.722232)scale(0.12 -0.12)\">\n     <use xlink:href=\"#DejaVuSans-48\"/>\n    </g>\n   </g>\n   <g id=\"text_216\">\n    <!-- -0.72 -->\n    <g style=\"fill:#ffffff;\" transform=\"translate(346.428616 287.722232)scale(0.12 -0.12)\">\n     <use xlink:href=\"#DejaVuSans-45\"/>\n     <use x=\"36.083984\" xlink:href=\"#DejaVuSans-48\"/>\n     <use x=\"99.707031\" xlink:href=\"#DejaVuSans-46\"/>\n     <use x=\"131.494141\" xlink:href=\"#DejaVuSans-55\"/>\n     <use x=\"195.117188\" xlink:href=\"#DejaVuSans-50\"/>\n    </g>\n   </g>\n   <g id=\"text_217\">\n    <!-- -0.85 -->\n    <g style=\"fill:#ffffff;\" transform=\"translate(378.31433 287.722232)scale(0.12 -0.12)\">\n     <use xlink:href=\"#DejaVuSans-45\"/>\n     <use x=\"36.083984\" xlink:href=\"#DejaVuSans-48\"/>\n     <use x=\"99.707031\" xlink:href=\"#DejaVuSans-46\"/>\n     <use x=\"131.494141\" xlink:href=\"#DejaVuSans-56\"/>\n     <use x=\"195.117188\" xlink:href=\"#DejaVuSans-53\"/>\n    </g>\n   </g>\n   <g id=\"text_218\">\n    <!-- 0.49 -->\n    <g style=\"fill:#262626;\" transform=\"translate(412.364732 287.722232)scale(0.12 -0.12)\">\n     <use xlink:href=\"#DejaVuSans-48\"/>\n     <use x=\"63.623047\" xlink:href=\"#DejaVuSans-46\"/>\n     <use x=\"95.410156\" xlink:href=\"#DejaVuSans-52\"/>\n     <use x=\"159.033203\" xlink:href=\"#DejaVuSans-57\"/>\n    </g>\n   </g>\n   <g id=\"text_219\">\n    <!-- -0.5 -->\n    <g style=\"fill:#ffffff;\" transform=\"translate(445.903259 287.722232)scale(0.12 -0.12)\">\n     <use xlink:href=\"#DejaVuSans-45\"/>\n     <use x=\"36.083984\" xlink:href=\"#DejaVuSans-48\"/>\n     <use x=\"99.707031\" xlink:href=\"#DejaVuSans-46\"/>\n     <use x=\"131.494141\" xlink:href=\"#DejaVuSans-53\"/>\n    </g>\n   </g>\n   <g id=\"text_220\">\n    <!-- 0.27 -->\n    <g style=\"fill:#262626;\" transform=\"translate(476.136161 287.722232)scale(0.12 -0.12)\">\n     <use xlink:href=\"#DejaVuSans-48\"/>\n     <use x=\"63.623047\" xlink:href=\"#DejaVuSans-46\"/>\n     <use x=\"95.410156\" xlink:href=\"#DejaVuSans-50\"/>\n     <use x=\"159.033203\" xlink:href=\"#DejaVuSans-55\"/>\n    </g>\n   </g>\n   <g id=\"text_221\">\n    <!-- -0.62 -->\n    <g style=\"fill:#ffffff;\" transform=\"translate(505.857188 287.722232)scale(0.12 -0.12)\">\n     <use xlink:href=\"#DejaVuSans-45\"/>\n     <use x=\"36.083984\" xlink:href=\"#DejaVuSans-48\"/>\n     <use x=\"99.707031\" xlink:href=\"#DejaVuSans-46\"/>\n     <use x=\"131.494141\" xlink:href=\"#DejaVuSans-54\"/>\n     <use x=\"195.117188\" xlink:href=\"#DejaVuSans-50\"/>\n    </g>\n   </g>\n   <g id=\"text_222\">\n    <!-- -0.79 -->\n    <g style=\"fill:#ffffff;\" transform=\"translate(537.742902 287.722232)scale(0.12 -0.12)\">\n     <use xlink:href=\"#DejaVuSans-45\"/>\n     <use x=\"36.083984\" xlink:href=\"#DejaVuSans-48\"/>\n     <use x=\"99.707031\" xlink:href=\"#DejaVuSans-46\"/>\n     <use x=\"131.494141\" xlink:href=\"#DejaVuSans-55\"/>\n     <use x=\"195.117188\" xlink:href=\"#DejaVuSans-57\"/>\n    </g>\n   </g>\n   <g id=\"text_223\">\n    <!-- -0.63 -->\n    <g style=\"fill:#ffffff;\" transform=\"translate(569.628616 287.722232)scale(0.12 -0.12)\">\n     <use xlink:href=\"#DejaVuSans-45\"/>\n     <use x=\"36.083984\" xlink:href=\"#DejaVuSans-48\"/>\n     <use x=\"99.707031\" xlink:href=\"#DejaVuSans-46\"/>\n     <use x=\"131.494141\" xlink:href=\"#DejaVuSans-54\"/>\n     <use x=\"195.117188\" xlink:href=\"#DejaVuSans-51\"/>\n    </g>\n   </g>\n   <g id=\"text_224\">\n    <!-- 1 -->\n    <g style=\"fill:#ffffff;\" transform=\"translate(613.220893 287.722232)scale(0.12 -0.12)\">\n     <use xlink:href=\"#DejaVuSans-49\"/>\n    </g>\n   </g>\n   <g id=\"text_225\">\n    <!-- Correlation matrix -->\n    <defs>\n     <path d=\"M 64.40625 67.28125 \nL 64.40625 56.890625 \nQ 59.421875 61.53125 53.78125 63.8125 \nQ 48.140625 66.109375 41.796875 66.109375 \nQ 29.296875 66.109375 22.65625 58.46875 \nQ 16.015625 50.828125 16.015625 36.375 \nQ 16.015625 21.96875 22.65625 14.328125 \nQ 29.296875 6.6875 41.796875 6.6875 \nQ 48.140625 6.6875 53.78125 8.984375 \nQ 59.421875 11.28125 64.40625 15.921875 \nL 64.40625 5.609375 \nQ 59.234375 2.09375 53.4375 0.328125 \nQ 47.65625 -1.421875 41.21875 -1.421875 \nQ 24.65625 -1.421875 15.125 8.703125 \nQ 5.609375 18.84375 5.609375 36.375 \nQ 5.609375 53.953125 15.125 64.078125 \nQ 24.65625 74.21875 41.21875 74.21875 \nQ 47.75 74.21875 53.53125 72.484375 \nQ 59.328125 70.75 64.40625 67.28125 \nz\n\" id=\"DejaVuSans-67\"/>\n     <path id=\"DejaVuSans-32\"/>\n     <path d=\"M 54.890625 54.6875 \nL 35.109375 28.078125 \nL 55.90625 0 \nL 45.3125 0 \nL 29.390625 21.484375 \nL 13.484375 0 \nL 2.875 0 \nL 24.125 28.609375 \nL 4.6875 54.6875 \nL 15.28125 54.6875 \nL 29.78125 35.203125 \nL 44.28125 54.6875 \nz\n\" id=\"DejaVuSans-120\"/>\n    </defs>\n    <g style=\"fill:#262626;\" transform=\"translate(355.23375 16.318125)scale(0.12 -0.12)\">\n     <use xlink:href=\"#DejaVuSans-67\"/>\n     <use x=\"69.824219\" xlink:href=\"#DejaVuSans-111\"/>\n     <use x=\"131.005859\" xlink:href=\"#DejaVuSans-114\"/>\n     <use x=\"170.369141\" xlink:href=\"#DejaVuSans-114\"/>\n     <use x=\"209.232422\" xlink:href=\"#DejaVuSans-101\"/>\n     <use x=\"270.755859\" xlink:href=\"#DejaVuSans-108\"/>\n     <use x=\"298.539062\" xlink:href=\"#DejaVuSans-97\"/>\n     <use x=\"359.818359\" xlink:href=\"#DejaVuSans-116\"/>\n     <use x=\"399.027344\" xlink:href=\"#DejaVuSans-105\"/>\n     <use x=\"426.810547\" xlink:href=\"#DejaVuSans-111\"/>\n     <use x=\"487.992188\" xlink:href=\"#DejaVuSans-110\"/>\n     <use x=\"551.371094\" xlink:href=\"#DejaVuSans-32\"/>\n     <use x=\"583.158203\" xlink:href=\"#DejaVuSans-109\"/>\n     <use x=\"680.570312\" xlink:href=\"#DejaVuSans-97\"/>\n     <use x=\"741.849609\" xlink:href=\"#DejaVuSans-116\"/>\n     <use x=\"781.058594\" xlink:href=\"#DejaVuSans-114\"/>\n     <use x=\"822.171875\" xlink:href=\"#DejaVuSans-105\"/>\n     <use x=\"849.955078\" xlink:href=\"#DejaVuSans-120\"/>\n    </g>\n   </g>\n  </g>\n  <g id=\"axes_2\">\n   <g id=\"patch_3\">\n    <path clip-path=\"url(#p4a3762b1dc)\" d=\"M 660.88125 294.118125 \nL 660.88125 293.056406 \nL 660.88125 23.379844 \nL 660.88125 22.318125 \nL 674.47125 22.318125 \nL 674.47125 23.379844 \nL 674.47125 293.056406 \nL 674.47125 294.118125 \nz\n\" style=\"fill:#eaeaf2;stroke:#eaeaf2;stroke-linejoin:miter;stroke-width:0.01;\"/>\n   </g>\n   <g id=\"matplotlib.axis_3\"/>\n   <g id=\"matplotlib.axis_4\">\n    <g id=\"ytick_15\">\n     <g id=\"line2d_1\">\n      <defs>\n       <path d=\"M 0 0 \nL 6 0 \n\" id=\"m2a8c131dc9\" style=\"stroke:#262626;stroke-width:1.25;\"/>\n      </defs>\n      <g>\n       <use style=\"fill:#262626;stroke:#262626;stroke-width:1.25;\" x=\"674.47125\" xlink:href=\"#m2a8c131dc9\" y=\"279.426233\"/>\n      </g>\n     </g>\n     <g id=\"text_226\">\n      <!-- −0.75 -->\n      <defs>\n       <path d=\"M 10.59375 35.5 \nL 73.1875 35.5 \nL 73.1875 27.203125 \nL 10.59375 27.203125 \nz\n\" id=\"DejaVuSans-8722\"/>\n      </defs>\n      <g style=\"fill:#262626;\" transform=\"translate(683.97125 283.605374)scale(0.11 -0.11)\">\n       <use xlink:href=\"#DejaVuSans-8722\"/>\n       <use x=\"83.789062\" xlink:href=\"#DejaVuSans-48\"/>\n       <use x=\"147.412109\" xlink:href=\"#DejaVuSans-46\"/>\n       <use x=\"179.199219\" xlink:href=\"#DejaVuSans-55\"/>\n       <use x=\"242.822266\" xlink:href=\"#DejaVuSans-53\"/>\n      </g>\n     </g>\n    </g>\n    <g id=\"ytick_16\">\n     <g id=\"line2d_2\">\n      <g>\n       <use style=\"fill:#262626;stroke:#262626;stroke-width:1.25;\" x=\"674.47125\" xlink:href=\"#m2a8c131dc9\" y=\"242.696503\"/>\n      </g>\n     </g>\n     <g id=\"text_227\">\n      <!-- −0.50 -->\n      <g style=\"fill:#262626;\" transform=\"translate(683.97125 246.875644)scale(0.11 -0.11)\">\n       <use xlink:href=\"#DejaVuSans-8722\"/>\n       <use x=\"83.789062\" xlink:href=\"#DejaVuSans-48\"/>\n       <use x=\"147.412109\" xlink:href=\"#DejaVuSans-46\"/>\n       <use x=\"179.199219\" xlink:href=\"#DejaVuSans-53\"/>\n       <use x=\"242.822266\" xlink:href=\"#DejaVuSans-48\"/>\n      </g>\n     </g>\n    </g>\n    <g id=\"ytick_17\">\n     <g id=\"line2d_3\">\n      <g>\n       <use style=\"fill:#262626;stroke:#262626;stroke-width:1.25;\" x=\"674.47125\" xlink:href=\"#m2a8c131dc9\" y=\"205.966774\"/>\n      </g>\n     </g>\n     <g id=\"text_228\">\n      <!-- −0.25 -->\n      <g style=\"fill:#262626;\" transform=\"translate(683.97125 210.145914)scale(0.11 -0.11)\">\n       <use xlink:href=\"#DejaVuSans-8722\"/>\n       <use x=\"83.789062\" xlink:href=\"#DejaVuSans-48\"/>\n       <use x=\"147.412109\" xlink:href=\"#DejaVuSans-46\"/>\n       <use x=\"179.199219\" xlink:href=\"#DejaVuSans-50\"/>\n       <use x=\"242.822266\" xlink:href=\"#DejaVuSans-53\"/>\n      </g>\n     </g>\n    </g>\n    <g id=\"ytick_18\">\n     <g id=\"line2d_4\">\n      <g>\n       <use style=\"fill:#262626;stroke:#262626;stroke-width:1.25;\" x=\"674.47125\" xlink:href=\"#m2a8c131dc9\" y=\"169.237044\"/>\n      </g>\n     </g>\n     <g id=\"text_229\">\n      <!-- 0.00 -->\n      <g style=\"fill:#262626;\" transform=\"translate(683.97125 173.416185)scale(0.11 -0.11)\">\n       <use xlink:href=\"#DejaVuSans-48\"/>\n       <use x=\"63.623047\" xlink:href=\"#DejaVuSans-46\"/>\n       <use x=\"95.410156\" xlink:href=\"#DejaVuSans-48\"/>\n       <use x=\"159.033203\" xlink:href=\"#DejaVuSans-48\"/>\n      </g>\n     </g>\n    </g>\n    <g id=\"ytick_19\">\n     <g id=\"line2d_5\">\n      <g>\n       <use style=\"fill:#262626;stroke:#262626;stroke-width:1.25;\" x=\"674.47125\" xlink:href=\"#m2a8c131dc9\" y=\"132.507314\"/>\n      </g>\n     </g>\n     <g id=\"text_230\">\n      <!-- 0.25 -->\n      <g style=\"fill:#262626;\" transform=\"translate(683.97125 136.686455)scale(0.11 -0.11)\">\n       <use xlink:href=\"#DejaVuSans-48\"/>\n       <use x=\"63.623047\" xlink:href=\"#DejaVuSans-46\"/>\n       <use x=\"95.410156\" xlink:href=\"#DejaVuSans-50\"/>\n       <use x=\"159.033203\" xlink:href=\"#DejaVuSans-53\"/>\n      </g>\n     </g>\n    </g>\n    <g id=\"ytick_20\">\n     <g id=\"line2d_6\">\n      <g>\n       <use style=\"fill:#262626;stroke:#262626;stroke-width:1.25;\" x=\"674.47125\" xlink:href=\"#m2a8c131dc9\" y=\"95.777584\"/>\n      </g>\n     </g>\n     <g id=\"text_231\">\n      <!-- 0.50 -->\n      <g style=\"fill:#262626;\" transform=\"translate(683.97125 99.956725)scale(0.11 -0.11)\">\n       <use xlink:href=\"#DejaVuSans-48\"/>\n       <use x=\"63.623047\" xlink:href=\"#DejaVuSans-46\"/>\n       <use x=\"95.410156\" xlink:href=\"#DejaVuSans-53\"/>\n       <use x=\"159.033203\" xlink:href=\"#DejaVuSans-48\"/>\n      </g>\n     </g>\n    </g>\n    <g id=\"ytick_21\">\n     <g id=\"line2d_7\">\n      <g>\n       <use style=\"fill:#262626;stroke:#262626;stroke-width:1.25;\" x=\"674.47125\" xlink:href=\"#m2a8c131dc9\" y=\"59.047855\"/>\n      </g>\n     </g>\n     <g id=\"text_232\">\n      <!-- 0.75 -->\n      <g style=\"fill:#262626;\" transform=\"translate(683.97125 63.226995)scale(0.11 -0.11)\">\n       <use xlink:href=\"#DejaVuSans-48\"/>\n       <use x=\"63.623047\" xlink:href=\"#DejaVuSans-46\"/>\n       <use x=\"95.410156\" xlink:href=\"#DejaVuSans-55\"/>\n       <use x=\"159.033203\" xlink:href=\"#DejaVuSans-53\"/>\n      </g>\n     </g>\n    </g>\n    <g id=\"ytick_22\">\n     <g id=\"line2d_8\">\n      <g>\n       <use style=\"fill:#262626;stroke:#262626;stroke-width:1.25;\" x=\"674.47125\" xlink:href=\"#m2a8c131dc9\" y=\"22.318125\"/>\n      </g>\n     </g>\n     <g id=\"text_233\">\n      <!-- 1.00 -->\n      <g style=\"fill:#262626;\" transform=\"translate(683.97125 26.497266)scale(0.11 -0.11)\">\n       <use xlink:href=\"#DejaVuSans-49\"/>\n       <use x=\"63.623047\" xlink:href=\"#DejaVuSans-46\"/>\n       <use x=\"95.410156\" xlink:href=\"#DejaVuSans-48\"/>\n       <use x=\"159.033203\" xlink:href=\"#DejaVuSans-48\"/>\n      </g>\n     </g>\n    </g>\n   </g>\n   <image height=\"271\" id=\"image2633c301aa\" transform=\"scale(1 -1)translate(0 -271)\" width=\"13\" x=\"661\" xlink:href=\"data:image/png;base64,\niVBORw0KGgoAAAANSUhEUgAAAA0AAAEPCAYAAACZVE7DAAAABHNCSVQICAgIfAhkiAAAAWxJREFUaIHtmMENwjAQBG0rZVEDRdNWiM0DUcDNY7RYyf+0t3O7IaI/nq/Vis/RR6/OtKP3AYaQ0gBKAyjVZVo+CKQ0RE/R2RsIeddA7HdcWkJ0XK2EWiKYJ2+97GqIMRKRl2fU5obHiNDzEgFBlGfcapRn1GowEJISLSEYYtljyMGQlz3tDWuux5BbSvBliZTqQ/QbFgx5yL0Yxa9X/ovlD+gBT9nHhSVsFgiYCG09DYTYp3BP2esReqyE5nElEDQR9SfdU7gSLKEGwhqi37DJntShCYYQvaV5WsTTrfRT0koYTo8FFig1pJRNT/RElBpTspCT9WgJLXpeIkwlLbDTAiF62g85K6F3J6bEshe+noZ8ekr7gVjaL6F3p+XdSVNinqxEqMe17rS0RDBPWnPReuGBFWOk0QsPrAgiWkn8ht2QXvp684pe70b+fdJ/Cc3saZ7Iep4npnRlHxchfxOl0yqhth5VAonQPH0Af45YBnFA7+AAAAAASUVORK5CYII=\" y=\"-22\"/>\n   <g id=\"patch_4\">\n    <path d=\"M 660.88125 294.118125 \nL 660.88125 293.056406 \nL 660.88125 23.379844 \nL 660.88125 22.318125 \nL 674.47125 22.318125 \nL 674.47125 23.379844 \nL 674.47125 293.056406 \nL 674.47125 294.118125 \nz\n\" style=\"fill:none;\"/>\n   </g>\n  </g>\n </g>\n <defs>\n  <clipPath id=\"p5d2271f8c6\">\n   <rect height=\"271.8\" width=\"446.4\" x=\"186.58125\" y=\"22.318125\"/>\n  </clipPath>\n  <clipPath id=\"p4a3762b1dc\">\n   <rect height=\"271.8\" width=\"13.59\" x=\"660.88125\" y=\"22.318125\"/>\n  </clipPath>\n </defs>\n</svg>\n"
          },
          "metadata": {
            "tags": [],
            "needs_background": "light"
          }
        }
      ]
    },
    {
      "cell_type": "markdown",
      "metadata": {
        "id": "qJF_frDEnRft"
      },
      "source": [
        "### 9). Создайте список high_corr из признаков, корреляция которых с полем target по абсолютному значению превышает 0.5 (причем, само поле target не должно входить в этот список)."
      ]
    },
    {
      "cell_type": "code",
      "metadata": {
        "colab": {
          "base_uri": "https://localhost:8080/"
        },
        "id": "Za6aimX6hDsV",
        "outputId": "df7497cd-10cc-47c0-d260-3a8771b382e6"
      },
      "source": [
        "high_corr = np.array(X_corr.loc[np.abs(X_corr['target']) > 0.5, ['target']].drop(['target']).index)\n",
        "print(high_corr)"
      ],
      "execution_count": 70,
      "outputs": [
        {
          "output_type": "stream",
          "text": [
            "['alcalinity_of_ash' 'total_phenols' 'flavanoids' 'hue'\n",
            " 'od280/od315_of_diluted_wines' 'proline']\n"
          ],
          "name": "stdout"
        }
      ]
    },
    {
      "cell_type": "markdown",
      "metadata": {
        "id": "hVgcyYOZnRfu"
      },
      "source": [
        "### 10). Удалите из датафрейма X поле с целевой переменной. Для всех признаков, названия которых содержатся в списке high_corr, вычислите квадрат их значений и добавьте в датафрейм X соответствующие поля с суффиксом '_2', добавленного к первоначальному названию признака. Итоговый датафрейм должен содержать все поля, которые, были в нем изначально, а также поля с признаками из списка high_corr, возведенными в квадрат. Выведите описание полей датафрейма X с помощью метода describe."
      ]
    },
    {
      "cell_type": "code",
      "metadata": {
        "id": "nUcBMPSJhDsW"
      },
      "source": [
        "X = X.drop(['target'], axis=1)"
      ],
      "execution_count": 71,
      "outputs": []
    },
    {
      "cell_type": "code",
      "metadata": {
        "colab": {
          "base_uri": "https://localhost:8080/"
        },
        "id": "iIQQ7C-DhDsW",
        "outputId": "5cd51e0a-0d2e-422f-9dc4-5264870c6ea1"
      },
      "source": [
        "high_corr = [[index, f'{index}_2'] for index in high_corr]\n",
        "high_corr"
      ],
      "execution_count": 72,
      "outputs": [
        {
          "output_type": "execute_result",
          "data": {
            "text/plain": [
              "[['alcalinity_of_ash', 'alcalinity_of_ash_2'],\n",
              " ['total_phenols', 'total_phenols_2'],\n",
              " ['flavanoids', 'flavanoids_2'],\n",
              " ['hue', 'hue_2'],\n",
              " ['od280/od315_of_diluted_wines', 'od280/od315_of_diluted_wines_2'],\n",
              " ['proline', 'proline_2']]"
            ]
          },
          "metadata": {
            "tags": []
          },
          "execution_count": 72
        }
      ]
    },
    {
      "cell_type": "code",
      "metadata": {
        "id": "KybL-BDuhDsX"
      },
      "source": [
        "for index in high_corr:\n",
        "    X[index[1]] = X[index[0]]**2"
      ],
      "execution_count": 73,
      "outputs": []
    },
    {
      "cell_type": "code",
      "metadata": {
        "colab": {
          "base_uri": "https://localhost:8080/",
          "height": 224
        },
        "id": "PHb1KQc-hDsX",
        "outputId": "408b2627-c81b-4223-febe-c44ca2481d59"
      },
      "source": [
        "X.head()"
      ],
      "execution_count": 74,
      "outputs": [
        {
          "output_type": "execute_result",
          "data": {
            "text/html": [
              "<div>\n",
              "<style scoped>\n",
              "    .dataframe tbody tr th:only-of-type {\n",
              "        vertical-align: middle;\n",
              "    }\n",
              "\n",
              "    .dataframe tbody tr th {\n",
              "        vertical-align: top;\n",
              "    }\n",
              "\n",
              "    .dataframe thead th {\n",
              "        text-align: right;\n",
              "    }\n",
              "</style>\n",
              "<table border=\"1\" class=\"dataframe\">\n",
              "  <thead>\n",
              "    <tr style=\"text-align: right;\">\n",
              "      <th></th>\n",
              "      <th>alcohol</th>\n",
              "      <th>malic_acid</th>\n",
              "      <th>ash</th>\n",
              "      <th>alcalinity_of_ash</th>\n",
              "      <th>magnesium</th>\n",
              "      <th>total_phenols</th>\n",
              "      <th>flavanoids</th>\n",
              "      <th>nonflavanoid_phenols</th>\n",
              "      <th>proanthocyanins</th>\n",
              "      <th>color_intensity</th>\n",
              "      <th>hue</th>\n",
              "      <th>od280/od315_of_diluted_wines</th>\n",
              "      <th>proline</th>\n",
              "      <th>alcalinity_of_ash_2</th>\n",
              "      <th>total_phenols_2</th>\n",
              "      <th>flavanoids_2</th>\n",
              "      <th>hue_2</th>\n",
              "      <th>od280/od315_of_diluted_wines_2</th>\n",
              "      <th>proline_2</th>\n",
              "    </tr>\n",
              "  </thead>\n",
              "  <tbody>\n",
              "    <tr>\n",
              "      <th>0</th>\n",
              "      <td>14.23</td>\n",
              "      <td>1.71</td>\n",
              "      <td>2.43</td>\n",
              "      <td>15.6</td>\n",
              "      <td>127.0</td>\n",
              "      <td>2.80</td>\n",
              "      <td>3.06</td>\n",
              "      <td>0.28</td>\n",
              "      <td>2.29</td>\n",
              "      <td>5.64</td>\n",
              "      <td>1.04</td>\n",
              "      <td>3.92</td>\n",
              "      <td>1065.0</td>\n",
              "      <td>243.36</td>\n",
              "      <td>7.8400</td>\n",
              "      <td>9.3636</td>\n",
              "      <td>1.0816</td>\n",
              "      <td>15.3664</td>\n",
              "      <td>1134225.0</td>\n",
              "    </tr>\n",
              "    <tr>\n",
              "      <th>1</th>\n",
              "      <td>13.20</td>\n",
              "      <td>1.78</td>\n",
              "      <td>2.14</td>\n",
              "      <td>11.2</td>\n",
              "      <td>100.0</td>\n",
              "      <td>2.65</td>\n",
              "      <td>2.76</td>\n",
              "      <td>0.26</td>\n",
              "      <td>1.28</td>\n",
              "      <td>4.38</td>\n",
              "      <td>1.05</td>\n",
              "      <td>3.40</td>\n",
              "      <td>1050.0</td>\n",
              "      <td>125.44</td>\n",
              "      <td>7.0225</td>\n",
              "      <td>7.6176</td>\n",
              "      <td>1.1025</td>\n",
              "      <td>11.5600</td>\n",
              "      <td>1102500.0</td>\n",
              "    </tr>\n",
              "    <tr>\n",
              "      <th>2</th>\n",
              "      <td>13.16</td>\n",
              "      <td>2.36</td>\n",
              "      <td>2.67</td>\n",
              "      <td>18.6</td>\n",
              "      <td>101.0</td>\n",
              "      <td>2.80</td>\n",
              "      <td>3.24</td>\n",
              "      <td>0.30</td>\n",
              "      <td>2.81</td>\n",
              "      <td>5.68</td>\n",
              "      <td>1.03</td>\n",
              "      <td>3.17</td>\n",
              "      <td>1185.0</td>\n",
              "      <td>345.96</td>\n",
              "      <td>7.8400</td>\n",
              "      <td>10.4976</td>\n",
              "      <td>1.0609</td>\n",
              "      <td>10.0489</td>\n",
              "      <td>1404225.0</td>\n",
              "    </tr>\n",
              "    <tr>\n",
              "      <th>3</th>\n",
              "      <td>14.37</td>\n",
              "      <td>1.95</td>\n",
              "      <td>2.50</td>\n",
              "      <td>16.8</td>\n",
              "      <td>113.0</td>\n",
              "      <td>3.85</td>\n",
              "      <td>3.49</td>\n",
              "      <td>0.24</td>\n",
              "      <td>2.18</td>\n",
              "      <td>7.80</td>\n",
              "      <td>0.86</td>\n",
              "      <td>3.45</td>\n",
              "      <td>1480.0</td>\n",
              "      <td>282.24</td>\n",
              "      <td>14.8225</td>\n",
              "      <td>12.1801</td>\n",
              "      <td>0.7396</td>\n",
              "      <td>11.9025</td>\n",
              "      <td>2190400.0</td>\n",
              "    </tr>\n",
              "    <tr>\n",
              "      <th>4</th>\n",
              "      <td>13.24</td>\n",
              "      <td>2.59</td>\n",
              "      <td>2.87</td>\n",
              "      <td>21.0</td>\n",
              "      <td>118.0</td>\n",
              "      <td>2.80</td>\n",
              "      <td>2.69</td>\n",
              "      <td>0.39</td>\n",
              "      <td>1.82</td>\n",
              "      <td>4.32</td>\n",
              "      <td>1.04</td>\n",
              "      <td>2.93</td>\n",
              "      <td>735.0</td>\n",
              "      <td>441.00</td>\n",
              "      <td>7.8400</td>\n",
              "      <td>7.2361</td>\n",
              "      <td>1.0816</td>\n",
              "      <td>8.5849</td>\n",
              "      <td>540225.0</td>\n",
              "    </tr>\n",
              "  </tbody>\n",
              "</table>\n",
              "</div>"
            ],
            "text/plain": [
              "   alcohol  malic_acid   ash  alcalinity_of_ash  magnesium  total_phenols  \\\n",
              "0    14.23        1.71  2.43               15.6      127.0           2.80   \n",
              "1    13.20        1.78  2.14               11.2      100.0           2.65   \n",
              "2    13.16        2.36  2.67               18.6      101.0           2.80   \n",
              "3    14.37        1.95  2.50               16.8      113.0           3.85   \n",
              "4    13.24        2.59  2.87               21.0      118.0           2.80   \n",
              "\n",
              "   flavanoids  nonflavanoid_phenols  proanthocyanins  color_intensity   hue  \\\n",
              "0        3.06                  0.28             2.29             5.64  1.04   \n",
              "1        2.76                  0.26             1.28             4.38  1.05   \n",
              "2        3.24                  0.30             2.81             5.68  1.03   \n",
              "3        3.49                  0.24             2.18             7.80  0.86   \n",
              "4        2.69                  0.39             1.82             4.32  1.04   \n",
              "\n",
              "   od280/od315_of_diluted_wines  proline  alcalinity_of_ash_2  \\\n",
              "0                          3.92   1065.0               243.36   \n",
              "1                          3.40   1050.0               125.44   \n",
              "2                          3.17   1185.0               345.96   \n",
              "3                          3.45   1480.0               282.24   \n",
              "4                          2.93    735.0               441.00   \n",
              "\n",
              "   total_phenols_2  flavanoids_2   hue_2  od280/od315_of_diluted_wines_2  \\\n",
              "0           7.8400        9.3636  1.0816                         15.3664   \n",
              "1           7.0225        7.6176  1.1025                         11.5600   \n",
              "2           7.8400       10.4976  1.0609                         10.0489   \n",
              "3          14.8225       12.1801  0.7396                         11.9025   \n",
              "4           7.8400        7.2361  1.0816                          8.5849   \n",
              "\n",
              "   proline_2  \n",
              "0  1134225.0  \n",
              "1  1102500.0  \n",
              "2  1404225.0  \n",
              "3  2190400.0  \n",
              "4   540225.0  "
            ]
          },
          "metadata": {
            "tags": []
          },
          "execution_count": 74
        }
      ]
    },
    {
      "cell_type": "code",
      "metadata": {
        "colab": {
          "base_uri": "https://localhost:8080/",
          "height": 317
        },
        "id": "qO-_auWyhDsX",
        "outputId": "765102c5-ce92-43bd-c7ce-82778017d722"
      },
      "source": [
        "X.describe()"
      ],
      "execution_count": 75,
      "outputs": [
        {
          "output_type": "execute_result",
          "data": {
            "text/html": [
              "<div>\n",
              "<style scoped>\n",
              "    .dataframe tbody tr th:only-of-type {\n",
              "        vertical-align: middle;\n",
              "    }\n",
              "\n",
              "    .dataframe tbody tr th {\n",
              "        vertical-align: top;\n",
              "    }\n",
              "\n",
              "    .dataframe thead th {\n",
              "        text-align: right;\n",
              "    }\n",
              "</style>\n",
              "<table border=\"1\" class=\"dataframe\">\n",
              "  <thead>\n",
              "    <tr style=\"text-align: right;\">\n",
              "      <th></th>\n",
              "      <th>alcohol</th>\n",
              "      <th>malic_acid</th>\n",
              "      <th>ash</th>\n",
              "      <th>alcalinity_of_ash</th>\n",
              "      <th>magnesium</th>\n",
              "      <th>total_phenols</th>\n",
              "      <th>flavanoids</th>\n",
              "      <th>nonflavanoid_phenols</th>\n",
              "      <th>proanthocyanins</th>\n",
              "      <th>color_intensity</th>\n",
              "      <th>hue</th>\n",
              "      <th>od280/od315_of_diluted_wines</th>\n",
              "      <th>proline</th>\n",
              "      <th>alcalinity_of_ash_2</th>\n",
              "      <th>total_phenols_2</th>\n",
              "      <th>flavanoids_2</th>\n",
              "      <th>hue_2</th>\n",
              "      <th>od280/od315_of_diluted_wines_2</th>\n",
              "      <th>proline_2</th>\n",
              "    </tr>\n",
              "  </thead>\n",
              "  <tbody>\n",
              "    <tr>\n",
              "      <th>count</th>\n",
              "      <td>178.000000</td>\n",
              "      <td>178.000000</td>\n",
              "      <td>178.000000</td>\n",
              "      <td>178.000000</td>\n",
              "      <td>178.000000</td>\n",
              "      <td>178.000000</td>\n",
              "      <td>178.000000</td>\n",
              "      <td>178.000000</td>\n",
              "      <td>178.000000</td>\n",
              "      <td>178.000000</td>\n",
              "      <td>178.000000</td>\n",
              "      <td>178.000000</td>\n",
              "      <td>178.000000</td>\n",
              "      <td>178.000000</td>\n",
              "      <td>178.000000</td>\n",
              "      <td>178.000000</td>\n",
              "      <td>178.000000</td>\n",
              "      <td>178.000000</td>\n",
              "      <td>1.780000e+02</td>\n",
              "    </tr>\n",
              "    <tr>\n",
              "      <th>mean</th>\n",
              "      <td>13.000618</td>\n",
              "      <td>2.336348</td>\n",
              "      <td>2.366517</td>\n",
              "      <td>19.494944</td>\n",
              "      <td>99.741573</td>\n",
              "      <td>2.295112</td>\n",
              "      <td>2.029270</td>\n",
              "      <td>0.361854</td>\n",
              "      <td>1.590899</td>\n",
              "      <td>5.058090</td>\n",
              "      <td>0.957449</td>\n",
              "      <td>2.611685</td>\n",
              "      <td>746.893258</td>\n",
              "      <td>391.142865</td>\n",
              "      <td>5.657030</td>\n",
              "      <td>5.110049</td>\n",
              "      <td>0.968661</td>\n",
              "      <td>7.322155</td>\n",
              "      <td>6.564591e+05</td>\n",
              "    </tr>\n",
              "    <tr>\n",
              "      <th>std</th>\n",
              "      <td>0.811827</td>\n",
              "      <td>1.117146</td>\n",
              "      <td>0.274344</td>\n",
              "      <td>3.339564</td>\n",
              "      <td>14.282484</td>\n",
              "      <td>0.625851</td>\n",
              "      <td>0.998859</td>\n",
              "      <td>0.124453</td>\n",
              "      <td>0.572359</td>\n",
              "      <td>2.318286</td>\n",
              "      <td>0.228572</td>\n",
              "      <td>0.709990</td>\n",
              "      <td>314.907474</td>\n",
              "      <td>133.671775</td>\n",
              "      <td>2.936294</td>\n",
              "      <td>4.211441</td>\n",
              "      <td>0.443798</td>\n",
              "      <td>3.584316</td>\n",
              "      <td>5.558591e+05</td>\n",
              "    </tr>\n",
              "    <tr>\n",
              "      <th>min</th>\n",
              "      <td>11.030000</td>\n",
              "      <td>0.740000</td>\n",
              "      <td>1.360000</td>\n",
              "      <td>10.600000</td>\n",
              "      <td>70.000000</td>\n",
              "      <td>0.980000</td>\n",
              "      <td>0.340000</td>\n",
              "      <td>0.130000</td>\n",
              "      <td>0.410000</td>\n",
              "      <td>1.280000</td>\n",
              "      <td>0.480000</td>\n",
              "      <td>1.270000</td>\n",
              "      <td>278.000000</td>\n",
              "      <td>112.360000</td>\n",
              "      <td>0.960400</td>\n",
              "      <td>0.115600</td>\n",
              "      <td>0.230400</td>\n",
              "      <td>1.612900</td>\n",
              "      <td>7.728400e+04</td>\n",
              "    </tr>\n",
              "    <tr>\n",
              "      <th>25%</th>\n",
              "      <td>12.362500</td>\n",
              "      <td>1.602500</td>\n",
              "      <td>2.210000</td>\n",
              "      <td>17.200000</td>\n",
              "      <td>88.000000</td>\n",
              "      <td>1.742500</td>\n",
              "      <td>1.205000</td>\n",
              "      <td>0.270000</td>\n",
              "      <td>1.250000</td>\n",
              "      <td>3.220000</td>\n",
              "      <td>0.782500</td>\n",
              "      <td>1.937500</td>\n",
              "      <td>500.500000</td>\n",
              "      <td>295.840000</td>\n",
              "      <td>3.036325</td>\n",
              "      <td>1.452100</td>\n",
              "      <td>0.612325</td>\n",
              "      <td>3.754075</td>\n",
              "      <td>2.505010e+05</td>\n",
              "    </tr>\n",
              "    <tr>\n",
              "      <th>50%</th>\n",
              "      <td>13.050000</td>\n",
              "      <td>1.865000</td>\n",
              "      <td>2.360000</td>\n",
              "      <td>19.500000</td>\n",
              "      <td>98.000000</td>\n",
              "      <td>2.355000</td>\n",
              "      <td>2.135000</td>\n",
              "      <td>0.340000</td>\n",
              "      <td>1.555000</td>\n",
              "      <td>4.690000</td>\n",
              "      <td>0.965000</td>\n",
              "      <td>2.780000</td>\n",
              "      <td>673.500000</td>\n",
              "      <td>380.250000</td>\n",
              "      <td>5.546050</td>\n",
              "      <td>4.558250</td>\n",
              "      <td>0.931250</td>\n",
              "      <td>7.728400</td>\n",
              "      <td>4.536045e+05</td>\n",
              "    </tr>\n",
              "    <tr>\n",
              "      <th>75%</th>\n",
              "      <td>13.677500</td>\n",
              "      <td>3.082500</td>\n",
              "      <td>2.557500</td>\n",
              "      <td>21.500000</td>\n",
              "      <td>107.000000</td>\n",
              "      <td>2.800000</td>\n",
              "      <td>2.875000</td>\n",
              "      <td>0.437500</td>\n",
              "      <td>1.950000</td>\n",
              "      <td>6.200000</td>\n",
              "      <td>1.120000</td>\n",
              "      <td>3.170000</td>\n",
              "      <td>985.000000</td>\n",
              "      <td>462.250000</td>\n",
              "      <td>7.840000</td>\n",
              "      <td>8.265700</td>\n",
              "      <td>1.254400</td>\n",
              "      <td>10.048900</td>\n",
              "      <td>9.702250e+05</td>\n",
              "    </tr>\n",
              "    <tr>\n",
              "      <th>max</th>\n",
              "      <td>14.830000</td>\n",
              "      <td>5.800000</td>\n",
              "      <td>3.230000</td>\n",
              "      <td>30.000000</td>\n",
              "      <td>162.000000</td>\n",
              "      <td>3.880000</td>\n",
              "      <td>5.080000</td>\n",
              "      <td>0.660000</td>\n",
              "      <td>3.580000</td>\n",
              "      <td>13.000000</td>\n",
              "      <td>1.710000</td>\n",
              "      <td>4.000000</td>\n",
              "      <td>1680.000000</td>\n",
              "      <td>900.000000</td>\n",
              "      <td>15.054400</td>\n",
              "      <td>25.806400</td>\n",
              "      <td>2.924100</td>\n",
              "      <td>16.000000</td>\n",
              "      <td>2.822400e+06</td>\n",
              "    </tr>\n",
              "  </tbody>\n",
              "</table>\n",
              "</div>"
            ],
            "text/plain": [
              "          alcohol  malic_acid         ash  alcalinity_of_ash   magnesium  \\\n",
              "count  178.000000  178.000000  178.000000         178.000000  178.000000   \n",
              "mean    13.000618    2.336348    2.366517          19.494944   99.741573   \n",
              "std      0.811827    1.117146    0.274344           3.339564   14.282484   \n",
              "min     11.030000    0.740000    1.360000          10.600000   70.000000   \n",
              "25%     12.362500    1.602500    2.210000          17.200000   88.000000   \n",
              "50%     13.050000    1.865000    2.360000          19.500000   98.000000   \n",
              "75%     13.677500    3.082500    2.557500          21.500000  107.000000   \n",
              "max     14.830000    5.800000    3.230000          30.000000  162.000000   \n",
              "\n",
              "       total_phenols  flavanoids  nonflavanoid_phenols  proanthocyanins  \\\n",
              "count     178.000000  178.000000            178.000000       178.000000   \n",
              "mean        2.295112    2.029270              0.361854         1.590899   \n",
              "std         0.625851    0.998859              0.124453         0.572359   \n",
              "min         0.980000    0.340000              0.130000         0.410000   \n",
              "25%         1.742500    1.205000              0.270000         1.250000   \n",
              "50%         2.355000    2.135000              0.340000         1.555000   \n",
              "75%         2.800000    2.875000              0.437500         1.950000   \n",
              "max         3.880000    5.080000              0.660000         3.580000   \n",
              "\n",
              "       color_intensity         hue  od280/od315_of_diluted_wines      proline  \\\n",
              "count       178.000000  178.000000                    178.000000   178.000000   \n",
              "mean          5.058090    0.957449                      2.611685   746.893258   \n",
              "std           2.318286    0.228572                      0.709990   314.907474   \n",
              "min           1.280000    0.480000                      1.270000   278.000000   \n",
              "25%           3.220000    0.782500                      1.937500   500.500000   \n",
              "50%           4.690000    0.965000                      2.780000   673.500000   \n",
              "75%           6.200000    1.120000                      3.170000   985.000000   \n",
              "max          13.000000    1.710000                      4.000000  1680.000000   \n",
              "\n",
              "       alcalinity_of_ash_2  total_phenols_2  flavanoids_2       hue_2  \\\n",
              "count           178.000000       178.000000    178.000000  178.000000   \n",
              "mean            391.142865         5.657030      5.110049    0.968661   \n",
              "std             133.671775         2.936294      4.211441    0.443798   \n",
              "min             112.360000         0.960400      0.115600    0.230400   \n",
              "25%             295.840000         3.036325      1.452100    0.612325   \n",
              "50%             380.250000         5.546050      4.558250    0.931250   \n",
              "75%             462.250000         7.840000      8.265700    1.254400   \n",
              "max             900.000000        15.054400     25.806400    2.924100   \n",
              "\n",
              "       od280/od315_of_diluted_wines_2     proline_2  \n",
              "count                      178.000000  1.780000e+02  \n",
              "mean                         7.322155  6.564591e+05  \n",
              "std                          3.584316  5.558591e+05  \n",
              "min                          1.612900  7.728400e+04  \n",
              "25%                          3.754075  2.505010e+05  \n",
              "50%                          7.728400  4.536045e+05  \n",
              "75%                         10.048900  9.702250e+05  \n",
              "max                         16.000000  2.822400e+06  "
            ]
          },
          "metadata": {
            "tags": []
          },
          "execution_count": 75
        }
      ]
    },
    {
      "cell_type": "code",
      "metadata": {
        "colab": {
          "base_uri": "https://localhost:8080/"
        },
        "id": "skjRrLIShDsY",
        "outputId": "05db662f-dea5-4d86-aa43-3dce87f08a25"
      },
      "source": [
        "X.info()"
      ],
      "execution_count": 76,
      "outputs": [
        {
          "output_type": "stream",
          "text": [
            "<class 'pandas.core.frame.DataFrame'>\n",
            "RangeIndex: 178 entries, 0 to 177\n",
            "Data columns (total 19 columns):\n",
            " #   Column                          Non-Null Count  Dtype  \n",
            "---  ------                          --------------  -----  \n",
            " 0   alcohol                         178 non-null    float64\n",
            " 1   malic_acid                      178 non-null    float64\n",
            " 2   ash                             178 non-null    float64\n",
            " 3   alcalinity_of_ash               178 non-null    float64\n",
            " 4   magnesium                       178 non-null    float64\n",
            " 5   total_phenols                   178 non-null    float64\n",
            " 6   flavanoids                      178 non-null    float64\n",
            " 7   nonflavanoid_phenols            178 non-null    float64\n",
            " 8   proanthocyanins                 178 non-null    float64\n",
            " 9   color_intensity                 178 non-null    float64\n",
            " 10  hue                             178 non-null    float64\n",
            " 11  od280/od315_of_diluted_wines    178 non-null    float64\n",
            " 12  proline                         178 non-null    float64\n",
            " 13  alcalinity_of_ash_2             178 non-null    float64\n",
            " 14  total_phenols_2                 178 non-null    float64\n",
            " 15  flavanoids_2                    178 non-null    float64\n",
            " 16  hue_2                           178 non-null    float64\n",
            " 17  od280/od315_of_diluted_wines_2  178 non-null    float64\n",
            " 18  proline_2                       178 non-null    float64\n",
            "dtypes: float64(19)\n",
            "memory usage: 26.5 KB\n"
          ],
          "name": "stdout"
        }
      ]
    }
  ]
}